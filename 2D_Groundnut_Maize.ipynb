{
 "cells": [
  {
   "cell_type": "code",
   "execution_count": 1,
   "metadata": {},
   "outputs": [],
   "source": [
    "import pandas as pd\n",
    "import statsmodels.api as sm\n",
    "import re\n",
    "import numpy as np\n",
    "import pandas as pd\n",
    "from itertools import product"
   ]
  },
  {
   "cell_type": "code",
   "execution_count": 2,
   "metadata": {},
   "outputs": [
    {
     "data": {
      "text/html": [
       "<div>\n",
       "<style scoped>\n",
       "    .dataframe tbody tr th:only-of-type {\n",
       "        vertical-align: middle;\n",
       "    }\n",
       "\n",
       "    .dataframe tbody tr th {\n",
       "        vertical-align: top;\n",
       "    }\n",
       "\n",
       "    .dataframe thead th {\n",
       "        text-align: right;\n",
       "    }\n",
       "</style>\n",
       "<table border=\"1\" class=\"dataframe\">\n",
       "  <thead>\n",
       "    <tr style=\"text-align: right;\">\n",
       "      <th></th>\n",
       "      <th>District</th>\n",
       "      <th>Maize_Production</th>\n",
       "      <th>TotalNPK</th>\n",
       "      <th>LivestockCensus_2012_Cattle</th>\n",
       "      <th>AreaUnderCereals_Maize</th>\n",
       "      <th>Maize_Ratio</th>\n",
       "    </tr>\n",
       "  </thead>\n",
       "  <tbody>\n",
       "    <tr>\n",
       "      <th>24</th>\n",
       "      <td>BALLARI</td>\n",
       "      <td>104045</td>\n",
       "      <td>8404.154608</td>\n",
       "      <td>23446.847903</td>\n",
       "      <td>49869.5</td>\n",
       "      <td>0.136288</td>\n",
       "    </tr>\n",
       "    <tr>\n",
       "      <th>25</th>\n",
       "      <td>BIDAR</td>\n",
       "      <td>2791</td>\n",
       "      <td>249.381182</td>\n",
       "      <td>2371.831678</td>\n",
       "      <td>1382.0</td>\n",
       "      <td>0.010114</td>\n",
       "    </tr>\n",
       "    <tr>\n",
       "      <th>26</th>\n",
       "      <td>KALABURAGI</td>\n",
       "      <td>14621</td>\n",
       "      <td>710.101614</td>\n",
       "      <td>6221.617910</td>\n",
       "      <td>2634.0</td>\n",
       "      <td>0.013150</td>\n",
       "    </tr>\n",
       "    <tr>\n",
       "      <th>27</th>\n",
       "      <td>YADGIRI</td>\n",
       "      <td>2673</td>\n",
       "      <td>368.617469</td>\n",
       "      <td>1253.317144</td>\n",
       "      <td>961.0</td>\n",
       "      <td>0.004033</td>\n",
       "    </tr>\n",
       "    <tr>\n",
       "      <th>28</th>\n",
       "      <td>RAICHUR</td>\n",
       "      <td>723</td>\n",
       "      <td>61.547519</td>\n",
       "      <td>188.537479</td>\n",
       "      <td>2600.0</td>\n",
       "      <td>0.000525</td>\n",
       "    </tr>\n",
       "    <tr>\n",
       "      <th>29</th>\n",
       "      <td>KOPPAL</td>\n",
       "      <td>190252</td>\n",
       "      <td>10997.550403</td>\n",
       "      <td>38936.400172</td>\n",
       "      <td>48210.0</td>\n",
       "      <td>0.149521</td>\n",
       "    </tr>\n",
       "    <tr>\n",
       "      <th>30</th>\n",
       "      <td>VIJAYANAGARA</td>\n",
       "      <td>104045</td>\n",
       "      <td>8404.154608</td>\n",
       "      <td>23446.847903</td>\n",
       "      <td>49869.5</td>\n",
       "      <td>0.136288</td>\n",
       "    </tr>\n",
       "  </tbody>\n",
       "</table>\n",
       "</div>"
      ],
      "text/plain": [
       "        District  Maize_Production      TotalNPK  LivestockCensus_2012_Cattle  \\\n",
       "24       BALLARI            104045   8404.154608                 23446.847903   \n",
       "25         BIDAR              2791    249.381182                  2371.831678   \n",
       "26    KALABURAGI             14621    710.101614                  6221.617910   \n",
       "27       YADGIRI              2673    368.617469                  1253.317144   \n",
       "28       RAICHUR               723     61.547519                   188.537479   \n",
       "29        KOPPAL            190252  10997.550403                 38936.400172   \n",
       "30  VIJAYANAGARA            104045   8404.154608                 23446.847903   \n",
       "\n",
       "    AreaUnderCereals_Maize  Maize_Ratio  \n",
       "24                 49869.5     0.136288  \n",
       "25                  1382.0     0.010114  \n",
       "26                  2634.0     0.013150  \n",
       "27                   961.0     0.004033  \n",
       "28                  2600.0     0.000525  \n",
       "29                 48210.0     0.149521  \n",
       "30                 49869.5     0.136288  "
      ]
     },
     "execution_count": 2,
     "metadata": {},
     "output_type": "execute_result"
    }
   ],
   "source": [
    "def remove_pattern(col_name):\n",
    "    return re.sub(r'_[0-9]{3}$', '', col_name)\n",
    "\n",
    "Zones = pd.read_excel('Zones.xlsx')\n",
    "Dataset = pd.read_csv('KAG 2016-17/Agriculture/Agriculture_KAG_2016_17.csv')\n",
    "Dataset.columns = map(remove_pattern, Dataset.columns)\n",
    "\n",
    "Maize_param = pd.read_csv('Params/3_Param_Maize_Multicollinearity.csv')\n",
    "Groundnut_param = pd.read_csv('Params/4_parameters_multicollinearity_groundnut.csv')\n",
    "Working_Directory = pd.read_csv('Working_Directory.csv')\n",
    "Maize_Directory = Working_Directory[['District','Maize_Production','TotalNPK',\n",
    "'LivestockCensus_2012_Cattle', 'AreaUnderCereals_Maize','Maize_Ratio']].copy()\n",
    "\n",
    "Groundnut_Directory = Working_Directory[['District','Groundnut_Production', 'TotalNPK', 'AreaUnderOilSeeds_GroundNut', 'MotorVehicles_Tractors',\n",
    "       'LivestockCensus_2012_Sheep','Groundnut_Ratio']].copy()\n",
    "\n",
    "for x in Maize_param.columns:\n",
    "    if(x != 'AreaUnderCereals_Maize'):\n",
    "        Maize_Directory[x] = Maize_Directory[x]*Maize_Directory['Maize_Ratio']\n",
    "        \n",
    "for x in Groundnut_param.columns:\n",
    "    if(x != 'AreaUnderOilSeeds_GroundNut'):\n",
    "        Groundnut_Directory[x] = Groundnut_Directory[x]*Groundnut_Directory['Groundnut_Ratio']\n",
    "\n",
    "Maize_Directory[24:]"
   ]
  },
  {
   "cell_type": "code",
   "execution_count": 728,
   "metadata": {},
   "outputs": [
    {
     "data": {
      "text/html": [
       "<div>\n",
       "<style scoped>\n",
       "    .dataframe tbody tr th:only-of-type {\n",
       "        vertical-align: middle;\n",
       "    }\n",
       "\n",
       "    .dataframe tbody tr th {\n",
       "        vertical-align: top;\n",
       "    }\n",
       "\n",
       "    .dataframe thead th {\n",
       "        text-align: right;\n",
       "    }\n",
       "</style>\n",
       "<table border=\"1\" class=\"dataframe\">\n",
       "  <thead>\n",
       "    <tr style=\"text-align: right;\">\n",
       "      <th></th>\n",
       "      <th>LivestockCensus_2012_Cattle</th>\n",
       "      <th>AreaUnderCereals_Maize</th>\n",
       "      <th>TotalNPK</th>\n",
       "    </tr>\n",
       "  </thead>\n",
       "  <tbody>\n",
       "    <tr>\n",
       "      <th>24</th>\n",
       "      <td>23446.847900</td>\n",
       "      <td>49869.5</td>\n",
       "      <td>8404.154608</td>\n",
       "    </tr>\n",
       "    <tr>\n",
       "      <th>25</th>\n",
       "      <td>2371.831678</td>\n",
       "      <td>1382.0</td>\n",
       "      <td>249.381182</td>\n",
       "    </tr>\n",
       "    <tr>\n",
       "      <th>26</th>\n",
       "      <td>6221.617910</td>\n",
       "      <td>2634.0</td>\n",
       "      <td>710.101614</td>\n",
       "    </tr>\n",
       "    <tr>\n",
       "      <th>27</th>\n",
       "      <td>1253.317144</td>\n",
       "      <td>961.0</td>\n",
       "      <td>368.617469</td>\n",
       "    </tr>\n",
       "    <tr>\n",
       "      <th>28</th>\n",
       "      <td>188.537479</td>\n",
       "      <td>2600.0</td>\n",
       "      <td>61.547519</td>\n",
       "    </tr>\n",
       "    <tr>\n",
       "      <th>29</th>\n",
       "      <td>38936.400170</td>\n",
       "      <td>48210.0</td>\n",
       "      <td>10997.550400</td>\n",
       "    </tr>\n",
       "    <tr>\n",
       "      <th>30</th>\n",
       "      <td>23446.847900</td>\n",
       "      <td>49869.5</td>\n",
       "      <td>8404.154608</td>\n",
       "    </tr>\n",
       "  </tbody>\n",
       "</table>\n",
       "</div>"
      ],
      "text/plain": [
       "    LivestockCensus_2012_Cattle  AreaUnderCereals_Maize      TotalNPK\n",
       "24                 23446.847900                 49869.5   8404.154608\n",
       "25                  2371.831678                  1382.0    249.381182\n",
       "26                  6221.617910                  2634.0    710.101614\n",
       "27                  1253.317144                   961.0    368.617469\n",
       "28                   188.537479                  2600.0     61.547519\n",
       "29                 38936.400170                 48210.0  10997.550400\n",
       "30                 23446.847900                 49869.5   8404.154608"
      ]
     },
     "execution_count": 728,
     "metadata": {},
     "output_type": "execute_result"
    }
   ],
   "source": [
    "Maize_Case_file = Maize_param\n",
    "for x in Maize_Case_file.columns:\n",
    "    Working_Directory[x] = Maize_Case_file[x]\n",
    "y_maize = Working_Directory['Maize_Production']\n",
    "\n",
    "if(len(Maize_Case_file) < 31):\n",
    "    row_24 = Maize_Case_file.iloc[24]\n",
    "    halved_row_24 = row_24 / 2\n",
    "    Maize_Case_file.iloc[24] = halved_row_24\n",
    "    Maize_Case_file.loc[len(Maize_Case_file)] = halved_row_24\n",
    "\n",
    "Maize_Case_file[24:]"
   ]
  },
  {
   "cell_type": "code",
   "execution_count": 729,
   "metadata": {},
   "outputs": [
    {
     "data": {
      "text/html": [
       "<div>\n",
       "<style scoped>\n",
       "    .dataframe tbody tr th:only-of-type {\n",
       "        vertical-align: middle;\n",
       "    }\n",
       "\n",
       "    .dataframe tbody tr th {\n",
       "        vertical-align: top;\n",
       "    }\n",
       "\n",
       "    .dataframe thead th {\n",
       "        text-align: right;\n",
       "    }\n",
       "</style>\n",
       "<table border=\"1\" class=\"dataframe\">\n",
       "  <thead>\n",
       "    <tr style=\"text-align: right;\">\n",
       "      <th></th>\n",
       "      <th>AreaUnderOilSeeds_GroundNut</th>\n",
       "      <th>MotorVehicles_Tractors</th>\n",
       "      <th>LivestockCensus_2012_Sheep</th>\n",
       "      <th>TotalNPK</th>\n",
       "    </tr>\n",
       "  </thead>\n",
       "  <tbody>\n",
       "    <tr>\n",
       "      <th>24</th>\n",
       "      <td>49762</td>\n",
       "      <td>721.160542</td>\n",
       "      <td>22723.723301</td>\n",
       "      <td>1852.839641</td>\n",
       "    </tr>\n",
       "    <tr>\n",
       "      <th>25</th>\n",
       "      <td>299</td>\n",
       "      <td>4.970978</td>\n",
       "      <td>83.608146</td>\n",
       "      <td>23.320849</td>\n",
       "    </tr>\n",
       "    <tr>\n",
       "      <th>26</th>\n",
       "      <td>3817</td>\n",
       "      <td>45.795271</td>\n",
       "      <td>280.247116</td>\n",
       "      <td>151.238385</td>\n",
       "    </tr>\n",
       "    <tr>\n",
       "      <th>27</th>\n",
       "      <td>38840</td>\n",
       "      <td>469.698763</td>\n",
       "      <td>21985.146627</td>\n",
       "      <td>4335.013151</td>\n",
       "    </tr>\n",
       "    <tr>\n",
       "      <th>28</th>\n",
       "      <td>35960</td>\n",
       "      <td>501.355901</td>\n",
       "      <td>12675.796996</td>\n",
       "      <td>2294.879709</td>\n",
       "    </tr>\n",
       "    <tr>\n",
       "      <th>29</th>\n",
       "      <td>22274</td>\n",
       "      <td>384.479472</td>\n",
       "      <td>12890.465433</td>\n",
       "      <td>1733.114796</td>\n",
       "    </tr>\n",
       "    <tr>\n",
       "      <th>30</th>\n",
       "      <td>49762</td>\n",
       "      <td>721.160542</td>\n",
       "      <td>22723.723301</td>\n",
       "      <td>1852.839641</td>\n",
       "    </tr>\n",
       "  </tbody>\n",
       "</table>\n",
       "</div>"
      ],
      "text/plain": [
       "    AreaUnderOilSeeds_GroundNut  MotorVehicles_Tractors  \\\n",
       "24                        49762              721.160542   \n",
       "25                          299                4.970978   \n",
       "26                         3817               45.795271   \n",
       "27                        38840              469.698763   \n",
       "28                        35960              501.355901   \n",
       "29                        22274              384.479472   \n",
       "30                        49762              721.160542   \n",
       "\n",
       "    LivestockCensus_2012_Sheep     TotalNPK  \n",
       "24                22723.723301  1852.839641  \n",
       "25                   83.608146    23.320849  \n",
       "26                  280.247116   151.238385  \n",
       "27                21985.146627  4335.013151  \n",
       "28                12675.796996  2294.879709  \n",
       "29                12890.465433  1733.114796  \n",
       "30                22723.723301  1852.839641  "
      ]
     },
     "execution_count": 729,
     "metadata": {},
     "output_type": "execute_result"
    }
   ],
   "source": [
    "Groundnut_Case_file = Groundnut_param\n",
    "for x in Groundnut_Case_file.columns:\n",
    "    Working_Directory[x] = Groundnut_Case_file[x]\n",
    "y_groundnut = Working_Directory['Groundnut_Production']\n",
    "\n",
    "if(len(Groundnut_Case_file) < 31):\n",
    "    row_24 = Groundnut_Case_file.iloc[24]\n",
    "    halved_row_24 = row_24 / 2\n",
    "    Groundnut_Case_file.iloc[24] = halved_row_24\n",
    "    Groundnut_Case_file.loc[len(Groundnut_Case_file)] = halved_row_24\n",
    "\n",
    "Groundnut_Case_file[24:]"
   ]
  },
  {
   "cell_type": "code",
   "execution_count": 730,
   "metadata": {},
   "outputs": [
    {
     "name": "stdout",
     "output_type": "stream",
     "text": [
      "            District      KDG_District\n",
      "0          BENGALURU   Bengaluru Urban\n",
      "1       BENGALURU(R)   Bengaluru Rural\n",
      "2         RAMANAGARA        Ramanagara\n",
      "3        CHITRADURGA       Chitradurga\n",
      "4         DAVANAGERE        Davanagere\n",
      "5              KOLAR             Kolar\n",
      "6    CHIKKABALLAPURA   Chikkaballapura\n",
      "7         SHIVAMOGGA        Shivamogga\n",
      "8           TUMAKURU          Tumakuru\n",
      "9     CHIKKAMAGALURU    Chikkamagaluru\n",
      "10  DAKSHINA KANNADA  Dakshina Kannada\n",
      "11             UDUPI             Udupi\n",
      "12            HASSAN            Hassan\n",
      "13            KODAGU            Kodagu\n",
      "14            MANDYA            Mandya\n",
      "15            MYSURU            Mysuru\n",
      "16    CHAMARAJANAGAR   Chamarajanagara\n",
      "17          BELAGAVI          Belagavi\n",
      "18        VIJAYAPURA        Vijayapura\n",
      "19          BAGALKOT         Bagalkote\n",
      "20          DHARAWAD           Dharwad\n",
      "21             GADAG             Gadag\n",
      "22            HAVERI            Haveri\n",
      "23    UTTARA KANNADA    Uttara Kannada\n",
      "24           BALLARI           Ballari\n",
      "25             BIDAR             Bidar\n",
      "26        KALABURAGI        Kalaburagi\n",
      "27           YADGIRI            Yadgir\n",
      "28           RAICHUR           Raichur\n",
      "29            KOPPAL            Koppal\n",
      "30      VIJAYANAGARA      Vijayanagara\n"
     ]
    }
   ],
   "source": [
    "abbreviation_mapping = {\n",
    "    'BENGALURU': 'BLR',\n",
    "    'BENGALURU(R)': 'BLR(R)',\n",
    "    'RAMANAGARA': 'RGA',\n",
    "    'CHITRADURGA': 'CDA',\n",
    "    'DAVANAGERE': 'DVG',\n",
    "    'KOLAR': 'KLR',\n",
    "    'CHIKKABALLAPURA': 'CKA',\n",
    "    'SHIVAMOGGA': 'SMG',\n",
    "    'TUMAKURU': 'TKR',\n",
    "    'CHIKKAMAGALURU': 'CMG',\n",
    "    'DAKSHINA KANNADA': 'DKA',\n",
    "    'UDUPI': 'UPI',\n",
    "    'HASSAN': 'HSN',\n",
    "    'KODAGU': 'KDG',\n",
    "    'MANDYA': 'MDY',\n",
    "    'MYSURU': 'MYS',\n",
    "    'CHAMARAJANAGAR': 'CNR',\n",
    "    'BELAGAVI': 'BLG',\n",
    "    'VIJAYAPURA': 'VJP',\n",
    "    'BAGALKOT': 'BKT',\n",
    "    'DHARAWAD': 'DWD',\n",
    "    'GADAG': 'GDG',\n",
    "    'HAVERI': 'HVR',\n",
    "    'UTTARA KANNADA': 'UTK',\n",
    "    'BALLARI': 'BLL',\n",
    "    'BIDAR': 'BDR',\n",
    "    'KALABURAGI': 'KLB',\n",
    "    'YADGIRI': 'YDR',\n",
    "    'RAICHUR': 'RCR',\n",
    "    'KOPPAL': 'KPL',\n",
    "    'VIJAYANAGARA': 'VNG',\n",
    "}\n",
    "district_mapping = {\n",
    "    'BENGALURU': 'Bengaluru Urban',\n",
    "    'BENGALURU(R)': 'Bengaluru Rural',\n",
    "    'RAMANAGARA': 'Ramanagara',\n",
    "    'CHITRADURGA': 'Chitradurga',\n",
    "    'DAVANAGERE': 'Davanagere',\n",
    "    'KOLAR': 'Kolar',\n",
    "    'CHIKKABALLAPURA': 'Chikkaballapura',\n",
    "    'SHIVAMOGGA': 'Shivamogga',\n",
    "    'TUMAKURU': 'Tumakuru',\n",
    "    'CHIKKAMAGALURU': 'Chikkamagaluru',\n",
    "    'DAKSHINA KANNADA': 'Dakshina Kannada',\n",
    "    'UDUPI': 'Udupi',\n",
    "    'HASSAN': 'Hassan',\n",
    "    'KODAGU': 'Kodagu',\n",
    "    'MANDYA': 'Mandya',\n",
    "    'MYSURU': 'Mysuru',\n",
    "    'CHAMARAJANAGAR': 'Chamarajanagara',\n",
    "    'BELAGAVI': 'Belagavi',\n",
    "    'VIJAYAPURA': 'Vijayapura',\n",
    "    'BAGALKOT': 'Bagalkote',\n",
    "    'DHARAWAD': 'Dharwad',\n",
    "    'GADAG': 'Gadag',\n",
    "    'HAVERI': 'Haveri',\n",
    "    'UTTARA KANNADA': 'Uttara Kannada',\n",
    "    'BALLARI': 'Ballari',\n",
    "    'BIDAR': 'Bidar',\n",
    "    'KALABURAGI': 'Kalaburagi',\n",
    "    'YADGIRI': 'Yadgir',\n",
    "    'RAICHUR': 'Raichur',\n",
    "    'KOPPAL': 'Koppal',\n",
    "    'VIJAYANAGARA': 'Vijayanagara'\n",
    "}\n",
    "\n",
    "Working_Directory['KDG_District'] = Working_Directory['District'].map(district_mapping)\n",
    "Working_Directory['Abbreviation'] = Working_Directory['District'].map(abbreviation_mapping)\n",
    "\n",
    "Maize_Directory['KDG_District'] = Maize_Directory['District'].map(district_mapping)\n",
    "Maize_Directory['Abbreviation'] = Maize_Directory['District'].map(abbreviation_mapping)\n",
    "\n",
    "Groundnut_Directory['KDG_District'] = Groundnut_Directory['District'].map(district_mapping)\n",
    "Groundnut_Directory['Abbreviation'] = Groundnut_Directory['District'].map(abbreviation_mapping)\n",
    "\n",
    "print(Working_Directory[['District', 'KDG_District']])"
   ]
  },
  {
   "cell_type": "code",
   "execution_count": 731,
   "metadata": {},
   "outputs": [
    {
     "data": {
      "text/html": [
       "<div>\n",
       "<style scoped>\n",
       "    .dataframe tbody tr th:only-of-type {\n",
       "        vertical-align: middle;\n",
       "    }\n",
       "\n",
       "    .dataframe tbody tr th {\n",
       "        vertical-align: top;\n",
       "    }\n",
       "\n",
       "    .dataframe thead th {\n",
       "        text-align: right;\n",
       "    }\n",
       "</style>\n",
       "<table border=\"1\" class=\"dataframe\">\n",
       "  <thead>\n",
       "    <tr style=\"text-align: right;\">\n",
       "      <th></th>\n",
       "      <th>District</th>\n",
       "      <th>Groundnut_Production</th>\n",
       "      <th>TotalNPK</th>\n",
       "      <th>AreaUnderOilSeeds_GroundNut</th>\n",
       "      <th>MotorVehicles_Tractors</th>\n",
       "      <th>LivestockCensus_2012_Sheep</th>\n",
       "      <th>Groundnut_Ratio</th>\n",
       "      <th>KDG_District</th>\n",
       "      <th>Abbreviation</th>\n",
       "    </tr>\n",
       "  </thead>\n",
       "  <tbody>\n",
       "    <tr>\n",
       "      <th>0</th>\n",
       "      <td>BENGALURU</td>\n",
       "      <td>71.0</td>\n",
       "      <td>10.806111</td>\n",
       "      <td>72</td>\n",
       "      <td>6.785923</td>\n",
       "      <td>35.835866</td>\n",
       "      <td>0.000464</td>\n",
       "      <td>Bengaluru Urban</td>\n",
       "      <td>BLR</td>\n",
       "    </tr>\n",
       "    <tr>\n",
       "      <th>1</th>\n",
       "      <td>BENGALURU(R)</td>\n",
       "      <td>206.0</td>\n",
       "      <td>14.687376</td>\n",
       "      <td>175</td>\n",
       "      <td>0.748134</td>\n",
       "      <td>95.228861</td>\n",
       "      <td>0.000763</td>\n",
       "      <td>Bengaluru Rural</td>\n",
       "      <td>BLR(R)</td>\n",
       "    </tr>\n",
       "    <tr>\n",
       "      <th>2</th>\n",
       "      <td>RAMANAGARA</td>\n",
       "      <td>4830.0</td>\n",
       "      <td>102.712727</td>\n",
       "      <td>3307</td>\n",
       "      <td>156.804614</td>\n",
       "      <td>2102.339270</td>\n",
       "      <td>0.013746</td>\n",
       "      <td>Ramanagara</td>\n",
       "      <td>RGA</td>\n",
       "    </tr>\n",
       "    <tr>\n",
       "      <th>3</th>\n",
       "      <td>CHITRADURGA</td>\n",
       "      <td>68575.0</td>\n",
       "      <td>2748.901666</td>\n",
       "      <td>96711</td>\n",
       "      <td>1423.861199</td>\n",
       "      <td>72011.816530</td>\n",
       "      <td>0.076605</td>\n",
       "      <td>Chitradurga</td>\n",
       "      <td>CDA</td>\n",
       "    </tr>\n",
       "    <tr>\n",
       "      <th>4</th>\n",
       "      <td>DAVANAGERE</td>\n",
       "      <td>16592.0</td>\n",
       "      <td>718.500139</td>\n",
       "      <td>15279</td>\n",
       "      <td>233.171480</td>\n",
       "      <td>2474.543782</td>\n",
       "      <td>0.007211</td>\n",
       "      <td>Davanagere</td>\n",
       "      <td>DVG</td>\n",
       "    </tr>\n",
       "    <tr>\n",
       "      <th>5</th>\n",
       "      <td>KOLAR</td>\n",
       "      <td>5810.0</td>\n",
       "      <td>729.248826</td>\n",
       "      <td>8608</td>\n",
       "      <td>553.920188</td>\n",
       "      <td>14627.699531</td>\n",
       "      <td>0.032864</td>\n",
       "      <td>Kolar</td>\n",
       "      <td>KLR</td>\n",
       "    </tr>\n",
       "    <tr>\n",
       "      <th>6</th>\n",
       "      <td>CHIKKABALLAPURA</td>\n",
       "      <td>7132.0</td>\n",
       "      <td>554.173035</td>\n",
       "      <td>19535</td>\n",
       "      <td>223.002028</td>\n",
       "      <td>8455.960947</td>\n",
       "      <td>0.019543</td>\n",
       "      <td>Chikkaballapura</td>\n",
       "      <td>CKA</td>\n",
       "    </tr>\n",
       "    <tr>\n",
       "      <th>7</th>\n",
       "      <td>SHIVAMOGGA</td>\n",
       "      <td>248.0</td>\n",
       "      <td>11.416511</td>\n",
       "      <td>438</td>\n",
       "      <td>3.618217</td>\n",
       "      <td>7.419754</td>\n",
       "      <td>0.000202</td>\n",
       "      <td>Shivamogga</td>\n",
       "      <td>SMG</td>\n",
       "    </tr>\n",
       "    <tr>\n",
       "      <th>8</th>\n",
       "      <td>TUMAKURU</td>\n",
       "      <td>39626.0</td>\n",
       "      <td>1627.466413</td>\n",
       "      <td>64771</td>\n",
       "      <td>1131.991030</td>\n",
       "      <td>45278.361329</td>\n",
       "      <td>0.042662</td>\n",
       "      <td>Tumakuru</td>\n",
       "      <td>TKR</td>\n",
       "    </tr>\n",
       "    <tr>\n",
       "      <th>9</th>\n",
       "      <td>CHIKKAMAGALURU</td>\n",
       "      <td>3909.0</td>\n",
       "      <td>519.663897</td>\n",
       "      <td>5851</td>\n",
       "      <td>121.617111</td>\n",
       "      <td>699.225642</td>\n",
       "      <td>0.007658</td>\n",
       "      <td>Chikkamagaluru</td>\n",
       "      <td>CMG</td>\n",
       "    </tr>\n",
       "    <tr>\n",
       "      <th>10</th>\n",
       "      <td>DAKSHINA KANNADA</td>\n",
       "      <td>0.0</td>\n",
       "      <td>0.000000</td>\n",
       "      <td>0</td>\n",
       "      <td>0.000000</td>\n",
       "      <td>0.000000</td>\n",
       "      <td>0.000000</td>\n",
       "      <td>Dakshina Kannada</td>\n",
       "      <td>DKA</td>\n",
       "    </tr>\n",
       "    <tr>\n",
       "      <th>11</th>\n",
       "      <td>UDUPI</td>\n",
       "      <td>3623.0</td>\n",
       "      <td>76.610263</td>\n",
       "      <td>1819</td>\n",
       "      <td>53.931232</td>\n",
       "      <td>0.872270</td>\n",
       "      <td>0.012461</td>\n",
       "      <td>Udupi</td>\n",
       "      <td>UPI</td>\n",
       "    </tr>\n",
       "    <tr>\n",
       "      <th>12</th>\n",
       "      <td>HASSAN</td>\n",
       "      <td>521.0</td>\n",
       "      <td>26.584241</td>\n",
       "      <td>862</td>\n",
       "      <td>8.970448</td>\n",
       "      <td>62.423299</td>\n",
       "      <td>0.000388</td>\n",
       "      <td>Hassan</td>\n",
       "      <td>HSN</td>\n",
       "    </tr>\n",
       "    <tr>\n",
       "      <th>13</th>\n",
       "      <td>KODAGU</td>\n",
       "      <td>45.0</td>\n",
       "      <td>8.836338</td>\n",
       "      <td>63</td>\n",
       "      <td>1.474989</td>\n",
       "      <td>0.302335</td>\n",
       "      <td>0.000216</td>\n",
       "      <td>Kodagu</td>\n",
       "      <td>KDG</td>\n",
       "    </tr>\n",
       "    <tr>\n",
       "      <th>14</th>\n",
       "      <td>MANDYA</td>\n",
       "      <td>1021.0</td>\n",
       "      <td>76.301428</td>\n",
       "      <td>1361</td>\n",
       "      <td>14.601824</td>\n",
       "      <td>430.625919</td>\n",
       "      <td>0.001260</td>\n",
       "      <td>Mandya</td>\n",
       "      <td>MDY</td>\n",
       "    </tr>\n",
       "    <tr>\n",
       "      <th>15</th>\n",
       "      <td>MYSURU</td>\n",
       "      <td>2170.0</td>\n",
       "      <td>109.886472</td>\n",
       "      <td>2387</td>\n",
       "      <td>35.637706</td>\n",
       "      <td>386.962906</td>\n",
       "      <td>0.001772</td>\n",
       "      <td>Mysuru</td>\n",
       "      <td>MYS</td>\n",
       "    </tr>\n",
       "    <tr>\n",
       "      <th>16</th>\n",
       "      <td>CHAMARAJANAGAR</td>\n",
       "      <td>8867.0</td>\n",
       "      <td>437.077444</td>\n",
       "      <td>12179</td>\n",
       "      <td>67.665016</td>\n",
       "      <td>2359.241323</td>\n",
       "      <td>0.018362</td>\n",
       "      <td>Chamarajanagara</td>\n",
       "      <td>CNR</td>\n",
       "    </tr>\n",
       "    <tr>\n",
       "      <th>17</th>\n",
       "      <td>BELAGAVI</td>\n",
       "      <td>39530.0</td>\n",
       "      <td>3309.632223</td>\n",
       "      <td>37419</td>\n",
       "      <td>853.959841</td>\n",
       "      <td>14506.560516</td>\n",
       "      <td>0.018388</td>\n",
       "      <td>Belagavi</td>\n",
       "      <td>BLG</td>\n",
       "    </tr>\n",
       "    <tr>\n",
       "      <th>18</th>\n",
       "      <td>VIJAYAPURA</td>\n",
       "      <td>27528.0</td>\n",
       "      <td>1267.386271</td>\n",
       "      <td>24779</td>\n",
       "      <td>580.055688</td>\n",
       "      <td>7228.271206</td>\n",
       "      <td>0.023371</td>\n",
       "      <td>Vijayapura</td>\n",
       "      <td>VJP</td>\n",
       "    </tr>\n",
       "    <tr>\n",
       "      <th>19</th>\n",
       "      <td>BAGALKOT</td>\n",
       "      <td>25444.0</td>\n",
       "      <td>2319.034334</td>\n",
       "      <td>26333</td>\n",
       "      <td>659.436766</td>\n",
       "      <td>20058.996218</td>\n",
       "      <td>0.027343</td>\n",
       "      <td>Bagalkote</td>\n",
       "      <td>BKT</td>\n",
       "    </tr>\n",
       "    <tr>\n",
       "      <th>20</th>\n",
       "      <td>DHARAWAD</td>\n",
       "      <td>21178.0</td>\n",
       "      <td>1506.608212</td>\n",
       "      <td>36152</td>\n",
       "      <td>575.986142</td>\n",
       "      <td>2981.779212</td>\n",
       "      <td>0.040304</td>\n",
       "      <td>Dharwad</td>\n",
       "      <td>DWD</td>\n",
       "    </tr>\n",
       "    <tr>\n",
       "      <th>21</th>\n",
       "      <td>GADAG</td>\n",
       "      <td>31332.0</td>\n",
       "      <td>1265.091872</td>\n",
       "      <td>41174</td>\n",
       "      <td>1518.327616</td>\n",
       "      <td>14077.244590</td>\n",
       "      <td>0.054342</td>\n",
       "      <td>Gadag</td>\n",
       "      <td>GDG</td>\n",
       "    </tr>\n",
       "    <tr>\n",
       "      <th>22</th>\n",
       "      <td>HAVERI</td>\n",
       "      <td>18309.0</td>\n",
       "      <td>962.245499</td>\n",
       "      <td>17789</td>\n",
       "      <td>232.267686</td>\n",
       "      <td>3770.582401</td>\n",
       "      <td>0.014804</td>\n",
       "      <td>Haveri</td>\n",
       "      <td>HVR</td>\n",
       "    </tr>\n",
       "    <tr>\n",
       "      <th>23</th>\n",
       "      <td>UTTARA KANNADA</td>\n",
       "      <td>3825.0</td>\n",
       "      <td>162.860526</td>\n",
       "      <td>1950</td>\n",
       "      <td>49.317519</td>\n",
       "      <td>50.859356</td>\n",
       "      <td>0.010633</td>\n",
       "      <td>Uttara Kannada</td>\n",
       "      <td>UTK</td>\n",
       "    </tr>\n",
       "    <tr>\n",
       "      <th>24</th>\n",
       "      <td>BALLARI</td>\n",
       "      <td>22938.5</td>\n",
       "      <td>1852.839641</td>\n",
       "      <td>49762</td>\n",
       "      <td>721.160542</td>\n",
       "      <td>22723.723301</td>\n",
       "      <td>0.030047</td>\n",
       "      <td>Ballari</td>\n",
       "      <td>BLL</td>\n",
       "    </tr>\n",
       "    <tr>\n",
       "      <th>25</th>\n",
       "      <td>BIDAR</td>\n",
       "      <td>261.0</td>\n",
       "      <td>23.320849</td>\n",
       "      <td>299</td>\n",
       "      <td>4.970978</td>\n",
       "      <td>83.608146</td>\n",
       "      <td>0.000946</td>\n",
       "      <td>Bidar</td>\n",
       "      <td>BDR</td>\n",
       "    </tr>\n",
       "    <tr>\n",
       "      <th>26</th>\n",
       "      <td>KALABURAGI</td>\n",
       "      <td>3114.0</td>\n",
       "      <td>151.238385</td>\n",
       "      <td>3817</td>\n",
       "      <td>45.795271</td>\n",
       "      <td>280.247116</td>\n",
       "      <td>0.002801</td>\n",
       "      <td>Kalaburagi</td>\n",
       "      <td>KLB</td>\n",
       "    </tr>\n",
       "    <tr>\n",
       "      <th>27</th>\n",
       "      <td>YADGIRI</td>\n",
       "      <td>31435.0</td>\n",
       "      <td>4335.013151</td>\n",
       "      <td>38840</td>\n",
       "      <td>469.698763</td>\n",
       "      <td>21985.146627</td>\n",
       "      <td>0.047435</td>\n",
       "      <td>Yadgir</td>\n",
       "      <td>YDR</td>\n",
       "    </tr>\n",
       "    <tr>\n",
       "      <th>28</th>\n",
       "      <td>RAICHUR</td>\n",
       "      <td>26958.0</td>\n",
       "      <td>2294.879709</td>\n",
       "      <td>35960</td>\n",
       "      <td>501.355901</td>\n",
       "      <td>12675.796996</td>\n",
       "      <td>0.019575</td>\n",
       "      <td>Raichur</td>\n",
       "      <td>RCR</td>\n",
       "    </tr>\n",
       "    <tr>\n",
       "      <th>29</th>\n",
       "      <td>KOPPAL</td>\n",
       "      <td>29982.0</td>\n",
       "      <td>1733.114796</td>\n",
       "      <td>22274</td>\n",
       "      <td>384.479472</td>\n",
       "      <td>12890.465433</td>\n",
       "      <td>0.023563</td>\n",
       "      <td>Koppal</td>\n",
       "      <td>KPL</td>\n",
       "    </tr>\n",
       "    <tr>\n",
       "      <th>30</th>\n",
       "      <td>VIJAYANAGARA</td>\n",
       "      <td>22938.5</td>\n",
       "      <td>1852.839641</td>\n",
       "      <td>49762</td>\n",
       "      <td>721.160542</td>\n",
       "      <td>22723.723301</td>\n",
       "      <td>0.030047</td>\n",
       "      <td>Vijayanagara</td>\n",
       "      <td>VNG</td>\n",
       "    </tr>\n",
       "  </tbody>\n",
       "</table>\n",
       "</div>"
      ],
      "text/plain": [
       "            District  Groundnut_Production     TotalNPK  \\\n",
       "0          BENGALURU                  71.0    10.806111   \n",
       "1       BENGALURU(R)                 206.0    14.687376   \n",
       "2         RAMANAGARA                4830.0   102.712727   \n",
       "3        CHITRADURGA               68575.0  2748.901666   \n",
       "4         DAVANAGERE               16592.0   718.500139   \n",
       "5              KOLAR                5810.0   729.248826   \n",
       "6    CHIKKABALLAPURA                7132.0   554.173035   \n",
       "7         SHIVAMOGGA                 248.0    11.416511   \n",
       "8           TUMAKURU               39626.0  1627.466413   \n",
       "9     CHIKKAMAGALURU                3909.0   519.663897   \n",
       "10  DAKSHINA KANNADA                   0.0     0.000000   \n",
       "11             UDUPI                3623.0    76.610263   \n",
       "12            HASSAN                 521.0    26.584241   \n",
       "13            KODAGU                  45.0     8.836338   \n",
       "14            MANDYA                1021.0    76.301428   \n",
       "15            MYSURU                2170.0   109.886472   \n",
       "16    CHAMARAJANAGAR                8867.0   437.077444   \n",
       "17          BELAGAVI               39530.0  3309.632223   \n",
       "18        VIJAYAPURA               27528.0  1267.386271   \n",
       "19          BAGALKOT               25444.0  2319.034334   \n",
       "20          DHARAWAD               21178.0  1506.608212   \n",
       "21             GADAG               31332.0  1265.091872   \n",
       "22            HAVERI               18309.0   962.245499   \n",
       "23    UTTARA KANNADA                3825.0   162.860526   \n",
       "24           BALLARI               22938.5  1852.839641   \n",
       "25             BIDAR                 261.0    23.320849   \n",
       "26        KALABURAGI                3114.0   151.238385   \n",
       "27           YADGIRI               31435.0  4335.013151   \n",
       "28           RAICHUR               26958.0  2294.879709   \n",
       "29            KOPPAL               29982.0  1733.114796   \n",
       "30      VIJAYANAGARA               22938.5  1852.839641   \n",
       "\n",
       "    AreaUnderOilSeeds_GroundNut  MotorVehicles_Tractors  \\\n",
       "0                            72                6.785923   \n",
       "1                           175                0.748134   \n",
       "2                          3307              156.804614   \n",
       "3                         96711             1423.861199   \n",
       "4                         15279              233.171480   \n",
       "5                          8608              553.920188   \n",
       "6                         19535              223.002028   \n",
       "7                           438                3.618217   \n",
       "8                         64771             1131.991030   \n",
       "9                          5851              121.617111   \n",
       "10                            0                0.000000   \n",
       "11                         1819               53.931232   \n",
       "12                          862                8.970448   \n",
       "13                           63                1.474989   \n",
       "14                         1361               14.601824   \n",
       "15                         2387               35.637706   \n",
       "16                        12179               67.665016   \n",
       "17                        37419              853.959841   \n",
       "18                        24779              580.055688   \n",
       "19                        26333              659.436766   \n",
       "20                        36152              575.986142   \n",
       "21                        41174             1518.327616   \n",
       "22                        17789              232.267686   \n",
       "23                         1950               49.317519   \n",
       "24                        49762              721.160542   \n",
       "25                          299                4.970978   \n",
       "26                         3817               45.795271   \n",
       "27                        38840              469.698763   \n",
       "28                        35960              501.355901   \n",
       "29                        22274              384.479472   \n",
       "30                        49762              721.160542   \n",
       "\n",
       "    LivestockCensus_2012_Sheep  Groundnut_Ratio      KDG_District Abbreviation  \n",
       "0                    35.835866         0.000464   Bengaluru Urban          BLR  \n",
       "1                    95.228861         0.000763   Bengaluru Rural       BLR(R)  \n",
       "2                  2102.339270         0.013746        Ramanagara          RGA  \n",
       "3                 72011.816530         0.076605       Chitradurga          CDA  \n",
       "4                  2474.543782         0.007211        Davanagere          DVG  \n",
       "5                 14627.699531         0.032864             Kolar          KLR  \n",
       "6                  8455.960947         0.019543   Chikkaballapura          CKA  \n",
       "7                     7.419754         0.000202        Shivamogga          SMG  \n",
       "8                 45278.361329         0.042662          Tumakuru          TKR  \n",
       "9                   699.225642         0.007658    Chikkamagaluru          CMG  \n",
       "10                    0.000000         0.000000  Dakshina Kannada          DKA  \n",
       "11                    0.872270         0.012461             Udupi          UPI  \n",
       "12                   62.423299         0.000388            Hassan          HSN  \n",
       "13                    0.302335         0.000216            Kodagu          KDG  \n",
       "14                  430.625919         0.001260            Mandya          MDY  \n",
       "15                  386.962906         0.001772            Mysuru          MYS  \n",
       "16                 2359.241323         0.018362   Chamarajanagara          CNR  \n",
       "17                14506.560516         0.018388          Belagavi          BLG  \n",
       "18                 7228.271206         0.023371        Vijayapura          VJP  \n",
       "19                20058.996218         0.027343         Bagalkote          BKT  \n",
       "20                 2981.779212         0.040304           Dharwad          DWD  \n",
       "21                14077.244590         0.054342             Gadag          GDG  \n",
       "22                 3770.582401         0.014804            Haveri          HVR  \n",
       "23                   50.859356         0.010633    Uttara Kannada          UTK  \n",
       "24                22723.723301         0.030047           Ballari          BLL  \n",
       "25                   83.608146         0.000946             Bidar          BDR  \n",
       "26                  280.247116         0.002801        Kalaburagi          KLB  \n",
       "27                21985.146627         0.047435            Yadgir          YDR  \n",
       "28                12675.796996         0.019575           Raichur          RCR  \n",
       "29                12890.465433         0.023563            Koppal          KPL  \n",
       "30                22723.723301         0.030047      Vijayanagara          VNG  "
      ]
     },
     "execution_count": 731,
     "metadata": {},
     "output_type": "execute_result"
    }
   ],
   "source": [
    "Groundnut_Directory"
   ]
  },
  {
   "cell_type": "code",
   "execution_count": 732,
   "metadata": {},
   "outputs": [
    {
     "name": "stdout",
     "output_type": "stream",
     "text": [
      "31\n"
     ]
    }
   ],
   "source": [
    "maize_rows_to_remove = (Maize_Case_file < 0).any(axis=1)\n",
    "\n",
    "# maize_rows_to_remove |= Working_Directory['Maize_Production']  < 1000\n",
    "# rows_to_remove |= Working_Directory['Maize_Production'] > 500000\n",
    "\n",
    "# Update Case_file and y\n",
    "Maize_Case_file = Maize_Case_file[~maize_rows_to_remove].reset_index(drop=True)\n",
    "y_maize = Maize_Directory['Maize_Production'][~maize_rows_to_remove].reset_index(drop=True)\n",
    "\n",
    "# Verify the length of Case_file\n",
    "case_file_length = len(Maize_Case_file)\n",
    "print(case_file_length)"
   ]
  },
  {
   "cell_type": "code",
   "execution_count": 733,
   "metadata": {},
   "outputs": [
    {
     "data": {
      "text/html": [
       "<div>\n",
       "<style scoped>\n",
       "    .dataframe tbody tr th:only-of-type {\n",
       "        vertical-align: middle;\n",
       "    }\n",
       "\n",
       "    .dataframe tbody tr th {\n",
       "        vertical-align: top;\n",
       "    }\n",
       "\n",
       "    .dataframe thead th {\n",
       "        text-align: right;\n",
       "    }\n",
       "</style>\n",
       "<table border=\"1\" class=\"dataframe\">\n",
       "  <thead>\n",
       "    <tr style=\"text-align: right;\">\n",
       "      <th></th>\n",
       "      <th>AreaUnderOilSeeds_GroundNut</th>\n",
       "      <th>MotorVehicles_Tractors</th>\n",
       "      <th>LivestockCensus_2012_Sheep</th>\n",
       "      <th>TotalNPK</th>\n",
       "    </tr>\n",
       "  </thead>\n",
       "  <tbody>\n",
       "    <tr>\n",
       "      <th>0</th>\n",
       "      <td>72</td>\n",
       "      <td>6.785923</td>\n",
       "      <td>35.835866</td>\n",
       "      <td>10.806111</td>\n",
       "    </tr>\n",
       "    <tr>\n",
       "      <th>1</th>\n",
       "      <td>175</td>\n",
       "      <td>0.748134</td>\n",
       "      <td>95.228861</td>\n",
       "      <td>14.687376</td>\n",
       "    </tr>\n",
       "    <tr>\n",
       "      <th>2</th>\n",
       "      <td>3307</td>\n",
       "      <td>156.804614</td>\n",
       "      <td>2102.339270</td>\n",
       "      <td>102.712727</td>\n",
       "    </tr>\n",
       "    <tr>\n",
       "      <th>3</th>\n",
       "      <td>96711</td>\n",
       "      <td>1423.861199</td>\n",
       "      <td>72011.816530</td>\n",
       "      <td>2748.901666</td>\n",
       "    </tr>\n",
       "    <tr>\n",
       "      <th>4</th>\n",
       "      <td>15279</td>\n",
       "      <td>233.171480</td>\n",
       "      <td>2474.543782</td>\n",
       "      <td>718.500139</td>\n",
       "    </tr>\n",
       "    <tr>\n",
       "      <th>5</th>\n",
       "      <td>8608</td>\n",
       "      <td>553.920188</td>\n",
       "      <td>14627.699531</td>\n",
       "      <td>729.248826</td>\n",
       "    </tr>\n",
       "    <tr>\n",
       "      <th>6</th>\n",
       "      <td>19535</td>\n",
       "      <td>223.002028</td>\n",
       "      <td>8455.960947</td>\n",
       "      <td>554.173035</td>\n",
       "    </tr>\n",
       "    <tr>\n",
       "      <th>7</th>\n",
       "      <td>438</td>\n",
       "      <td>3.618217</td>\n",
       "      <td>7.419754</td>\n",
       "      <td>11.416511</td>\n",
       "    </tr>\n",
       "    <tr>\n",
       "      <th>8</th>\n",
       "      <td>64771</td>\n",
       "      <td>1131.991030</td>\n",
       "      <td>45278.361329</td>\n",
       "      <td>1627.466413</td>\n",
       "    </tr>\n",
       "    <tr>\n",
       "      <th>9</th>\n",
       "      <td>5851</td>\n",
       "      <td>121.617111</td>\n",
       "      <td>699.225642</td>\n",
       "      <td>519.663897</td>\n",
       "    </tr>\n",
       "    <tr>\n",
       "      <th>10</th>\n",
       "      <td>0</td>\n",
       "      <td>0.000000</td>\n",
       "      <td>0.000000</td>\n",
       "      <td>0.000000</td>\n",
       "    </tr>\n",
       "    <tr>\n",
       "      <th>11</th>\n",
       "      <td>1819</td>\n",
       "      <td>53.931232</td>\n",
       "      <td>0.872270</td>\n",
       "      <td>76.610263</td>\n",
       "    </tr>\n",
       "    <tr>\n",
       "      <th>12</th>\n",
       "      <td>862</td>\n",
       "      <td>8.970448</td>\n",
       "      <td>62.423299</td>\n",
       "      <td>26.584241</td>\n",
       "    </tr>\n",
       "    <tr>\n",
       "      <th>13</th>\n",
       "      <td>63</td>\n",
       "      <td>1.474989</td>\n",
       "      <td>0.302335</td>\n",
       "      <td>8.836338</td>\n",
       "    </tr>\n",
       "    <tr>\n",
       "      <th>14</th>\n",
       "      <td>1361</td>\n",
       "      <td>14.601824</td>\n",
       "      <td>430.625919</td>\n",
       "      <td>76.301428</td>\n",
       "    </tr>\n",
       "    <tr>\n",
       "      <th>15</th>\n",
       "      <td>2387</td>\n",
       "      <td>35.637706</td>\n",
       "      <td>386.962906</td>\n",
       "      <td>109.886472</td>\n",
       "    </tr>\n",
       "    <tr>\n",
       "      <th>16</th>\n",
       "      <td>12179</td>\n",
       "      <td>67.665016</td>\n",
       "      <td>2359.241323</td>\n",
       "      <td>437.077444</td>\n",
       "    </tr>\n",
       "    <tr>\n",
       "      <th>17</th>\n",
       "      <td>37419</td>\n",
       "      <td>853.959841</td>\n",
       "      <td>14506.560516</td>\n",
       "      <td>3309.632223</td>\n",
       "    </tr>\n",
       "    <tr>\n",
       "      <th>18</th>\n",
       "      <td>24779</td>\n",
       "      <td>580.055688</td>\n",
       "      <td>7228.271206</td>\n",
       "      <td>1267.386271</td>\n",
       "    </tr>\n",
       "    <tr>\n",
       "      <th>19</th>\n",
       "      <td>26333</td>\n",
       "      <td>659.436766</td>\n",
       "      <td>20058.996218</td>\n",
       "      <td>2319.034334</td>\n",
       "    </tr>\n",
       "    <tr>\n",
       "      <th>20</th>\n",
       "      <td>36152</td>\n",
       "      <td>575.986142</td>\n",
       "      <td>2981.779212</td>\n",
       "      <td>1506.608212</td>\n",
       "    </tr>\n",
       "    <tr>\n",
       "      <th>21</th>\n",
       "      <td>41174</td>\n",
       "      <td>1518.327616</td>\n",
       "      <td>14077.244590</td>\n",
       "      <td>1265.091872</td>\n",
       "    </tr>\n",
       "    <tr>\n",
       "      <th>22</th>\n",
       "      <td>17789</td>\n",
       "      <td>232.267686</td>\n",
       "      <td>3770.582401</td>\n",
       "      <td>962.245499</td>\n",
       "    </tr>\n",
       "    <tr>\n",
       "      <th>23</th>\n",
       "      <td>1950</td>\n",
       "      <td>49.317519</td>\n",
       "      <td>50.859356</td>\n",
       "      <td>162.860526</td>\n",
       "    </tr>\n",
       "    <tr>\n",
       "      <th>24</th>\n",
       "      <td>49762</td>\n",
       "      <td>721.160542</td>\n",
       "      <td>22723.723301</td>\n",
       "      <td>1852.839641</td>\n",
       "    </tr>\n",
       "    <tr>\n",
       "      <th>25</th>\n",
       "      <td>299</td>\n",
       "      <td>4.970978</td>\n",
       "      <td>83.608146</td>\n",
       "      <td>23.320849</td>\n",
       "    </tr>\n",
       "    <tr>\n",
       "      <th>26</th>\n",
       "      <td>3817</td>\n",
       "      <td>45.795271</td>\n",
       "      <td>280.247116</td>\n",
       "      <td>151.238385</td>\n",
       "    </tr>\n",
       "    <tr>\n",
       "      <th>27</th>\n",
       "      <td>38840</td>\n",
       "      <td>469.698763</td>\n",
       "      <td>21985.146627</td>\n",
       "      <td>4335.013151</td>\n",
       "    </tr>\n",
       "    <tr>\n",
       "      <th>28</th>\n",
       "      <td>35960</td>\n",
       "      <td>501.355901</td>\n",
       "      <td>12675.796996</td>\n",
       "      <td>2294.879709</td>\n",
       "    </tr>\n",
       "    <tr>\n",
       "      <th>29</th>\n",
       "      <td>22274</td>\n",
       "      <td>384.479472</td>\n",
       "      <td>12890.465433</td>\n",
       "      <td>1733.114796</td>\n",
       "    </tr>\n",
       "    <tr>\n",
       "      <th>30</th>\n",
       "      <td>49762</td>\n",
       "      <td>721.160542</td>\n",
       "      <td>22723.723301</td>\n",
       "      <td>1852.839641</td>\n",
       "    </tr>\n",
       "  </tbody>\n",
       "</table>\n",
       "</div>"
      ],
      "text/plain": [
       "    AreaUnderOilSeeds_GroundNut  MotorVehicles_Tractors  \\\n",
       "0                            72                6.785923   \n",
       "1                           175                0.748134   \n",
       "2                          3307              156.804614   \n",
       "3                         96711             1423.861199   \n",
       "4                         15279              233.171480   \n",
       "5                          8608              553.920188   \n",
       "6                         19535              223.002028   \n",
       "7                           438                3.618217   \n",
       "8                         64771             1131.991030   \n",
       "9                          5851              121.617111   \n",
       "10                            0                0.000000   \n",
       "11                         1819               53.931232   \n",
       "12                          862                8.970448   \n",
       "13                           63                1.474989   \n",
       "14                         1361               14.601824   \n",
       "15                         2387               35.637706   \n",
       "16                        12179               67.665016   \n",
       "17                        37419              853.959841   \n",
       "18                        24779              580.055688   \n",
       "19                        26333              659.436766   \n",
       "20                        36152              575.986142   \n",
       "21                        41174             1518.327616   \n",
       "22                        17789              232.267686   \n",
       "23                         1950               49.317519   \n",
       "24                        49762              721.160542   \n",
       "25                          299                4.970978   \n",
       "26                         3817               45.795271   \n",
       "27                        38840              469.698763   \n",
       "28                        35960              501.355901   \n",
       "29                        22274              384.479472   \n",
       "30                        49762              721.160542   \n",
       "\n",
       "    LivestockCensus_2012_Sheep     TotalNPK  \n",
       "0                    35.835866    10.806111  \n",
       "1                    95.228861    14.687376  \n",
       "2                  2102.339270   102.712727  \n",
       "3                 72011.816530  2748.901666  \n",
       "4                  2474.543782   718.500139  \n",
       "5                 14627.699531   729.248826  \n",
       "6                  8455.960947   554.173035  \n",
       "7                     7.419754    11.416511  \n",
       "8                 45278.361329  1627.466413  \n",
       "9                   699.225642   519.663897  \n",
       "10                    0.000000     0.000000  \n",
       "11                    0.872270    76.610263  \n",
       "12                   62.423299    26.584241  \n",
       "13                    0.302335     8.836338  \n",
       "14                  430.625919    76.301428  \n",
       "15                  386.962906   109.886472  \n",
       "16                 2359.241323   437.077444  \n",
       "17                14506.560516  3309.632223  \n",
       "18                 7228.271206  1267.386271  \n",
       "19                20058.996218  2319.034334  \n",
       "20                 2981.779212  1506.608212  \n",
       "21                14077.244590  1265.091872  \n",
       "22                 3770.582401   962.245499  \n",
       "23                   50.859356   162.860526  \n",
       "24                22723.723301  1852.839641  \n",
       "25                   83.608146    23.320849  \n",
       "26                  280.247116   151.238385  \n",
       "27                21985.146627  4335.013151  \n",
       "28                12675.796996  2294.879709  \n",
       "29                12890.465433  1733.114796  \n",
       "30                22723.723301  1852.839641  "
      ]
     },
     "execution_count": 733,
     "metadata": {},
     "output_type": "execute_result"
    }
   ],
   "source": [
    "Groundnut_Case_file"
   ]
  },
  {
   "cell_type": "code",
   "execution_count": 734,
   "metadata": {},
   "outputs": [
    {
     "name": "stdout",
     "output_type": "stream",
     "text": [
      "31\n"
     ]
    }
   ],
   "source": [
    "groundnut_rows_to_remove = (Groundnut_Case_file < 0).any(axis=1)\n",
    "\n",
    "# rice_rows_to_remove |= Working_Directory['Groundnut_Production']  < 1000\n",
    "# rows_to_remove |= Working_Directory['Maize_Production'] > 500000\n",
    "\n",
    "# Update Case_file and y\n",
    "Groundnut_Case_file = Groundnut_Case_file[~groundnut_rows_to_remove].reset_index(drop=True)\n",
    "y_maize = Groundnut_Directory['Groundnut_Production'][~groundnut_rows_to_remove].reset_index(drop=True)\n",
    "\n",
    "# Verify the length of Case_file\n",
    "case_file_length = len(Groundnut_Case_file)\n",
    "print(case_file_length)"
   ]
  },
  {
   "cell_type": "code",
   "execution_count": 735,
   "metadata": {},
   "outputs": [],
   "source": [
    "y_maize_df = pd.DataFrame()\n",
    "y_maize_df['Maize_Production'] = Maize_Directory[~maize_rows_to_remove]['Maize_Production'].reset_index(drop=True)\n",
    "y_groundnut_df = pd.DataFrame()\n",
    "y_groundnut_df['Groundnut_Production'] = Groundnut_Directory[~groundnut_rows_to_remove]['Groundnut_Production'].reset_index(drop=True)\n",
    "Maize_Case_file =sm.add_constant(Maize_Case_file)\n",
    "Groundnut_Case_file =sm.add_constant(Groundnut_Case_file)"
   ]
  },
  {
   "cell_type": "code",
   "execution_count": 736,
   "metadata": {},
   "outputs": [
    {
     "name": "stdout",
     "output_type": "stream",
     "text": [
      "                            OLS Regression Results                            \n",
      "==============================================================================\n",
      "Dep. Variable:       Maize_Production   R-squared:                       0.956\n",
      "Model:                            OLS   Adj. R-squared:                  0.951\n",
      "Method:                 Least Squares   F-statistic:                     196.0\n",
      "Date:                Mon, 07 Oct 2024   Prob (F-statistic):           1.96e-18\n",
      "Time:                        12:14:06   Log-Likelihood:                -366.98\n",
      "No. Observations:                  31   AIC:                             742.0\n",
      "Df Residuals:                      27   BIC:                             747.7\n",
      "Df Model:                           3                                         \n",
      "Covariance Type:            nonrobust                                         \n",
      "===============================================================================================\n",
      "                                  coef    std err          t      P>|t|      [0.025      0.975]\n",
      "-----------------------------------------------------------------------------------------------\n",
      "const                       -6418.6174   9180.879     -0.699      0.490   -2.53e+04    1.24e+04\n",
      "LivestockCensus_2012_Cattle     0.5644      0.282      1.998      0.056      -0.015       1.144\n",
      "AreaUnderCereals_Maize          1.7749      0.256      6.927      0.000       1.249       2.301\n",
      "TotalNPK                        5.8512      1.362      4.295      0.000       3.056       8.646\n",
      "==============================================================================\n",
      "Omnibus:                        4.289   Durbin-Watson:                   2.417\n",
      "Prob(Omnibus):                  0.117   Jarque-Bera (JB):                3.579\n",
      "Skew:                           0.201   Prob(JB):                        0.167\n",
      "Kurtosis:                       4.615   Cond. No.                     1.20e+05\n",
      "==============================================================================\n",
      "\n",
      "Notes:\n",
      "[1] Standard Errors assume that the covariance matrix of the errors is correctly specified.\n",
      "[2] The condition number is large, 1.2e+05. This might indicate that there are\n",
      "strong multicollinearity or other numerical problems.\n"
     ]
    },
    {
     "data": {
      "text/plain": [
       "array([0.56435493, 1.77490279, 5.85119404])"
      ]
     },
     "execution_count": 736,
     "metadata": {},
     "output_type": "execute_result"
    }
   ],
   "source": [
    "model=sm.OLS(y_maize_df['Maize_Production'],Maize_Case_file).fit()\n",
    "print(model.summary())\n",
    "model.params.values\n",
    "maize_coef=model.params.values[1:]\n",
    "maize_coef"
   ]
  },
  {
   "cell_type": "code",
   "execution_count": 737,
   "metadata": {},
   "outputs": [
    {
     "name": "stdout",
     "output_type": "stream",
     "text": [
      "                             OLS Regression Results                             \n",
      "================================================================================\n",
      "Dep. Variable:     Groundnut_Production   R-squared:                       0.924\n",
      "Model:                              OLS   Adj. R-squared:                  0.912\n",
      "Method:                   Least Squares   F-statistic:                     78.73\n",
      "Date:                  Mon, 07 Oct 2024   Prob (F-statistic):           3.84e-14\n",
      "Time:                          12:14:06   Log-Likelihood:                -304.56\n",
      "No. Observations:                    31   AIC:                             619.1\n",
      "Df Residuals:                        26   BIC:                             626.3\n",
      "Df Model:                             4                                         \n",
      "Covariance Type:              nonrobust                                         \n",
      "===============================================================================================\n",
      "                                  coef    std err          t      P>|t|      [0.025      0.975]\n",
      "-----------------------------------------------------------------------------------------------\n",
      "const                         801.8414   1251.588      0.641      0.527   -1770.835    3374.518\n",
      "AreaUnderOilSeeds_GroundNut     0.2810      0.144      1.958      0.061      -0.014       0.576\n",
      "MotorVehicles_Tractors          8.3642      4.659      1.795      0.084      -1.213      17.941\n",
      "LivestockCensus_2012_Sheep      0.1394      0.150      0.931      0.360      -0.168       0.447\n",
      "TotalNPK                        4.2686      1.260      3.388      0.002       1.679       6.858\n",
      "==============================================================================\n",
      "Omnibus:                        0.934   Durbin-Watson:                   1.883\n",
      "Prob(Omnibus):                  0.627   Jarque-Bera (JB):                0.279\n",
      "Skew:                           0.200   Prob(JB):                        0.870\n",
      "Kurtosis:                       3.235   Cond. No.                     5.01e+04\n",
      "==============================================================================\n",
      "\n",
      "Notes:\n",
      "[1] Standard Errors assume that the covariance matrix of the errors is correctly specified.\n",
      "[2] The condition number is large, 5.01e+04. This might indicate that there are\n",
      "strong multicollinearity or other numerical problems.\n"
     ]
    },
    {
     "data": {
      "text/plain": [
       "array([0.28098192, 8.36421396, 0.13943503, 4.26857922])"
      ]
     },
     "execution_count": 737,
     "metadata": {},
     "output_type": "execute_result"
    }
   ],
   "source": [
    "model=sm.OLS(y_groundnut_df['Groundnut_Production'],Groundnut_Case_file).fit()\n",
    "print(model.summary())\n",
    "model.params.values\n",
    "groundnut_coef=model.params.values[1:]\n",
    "groundnut_coef"
   ]
  },
  {
   "cell_type": "code",
   "execution_count": 738,
   "metadata": {},
   "outputs": [
    {
     "name": "stdout",
     "output_type": "stream",
     "text": [
      "5.851194036365962\n",
      "4.26857922467183\n"
     ]
    }
   ],
   "source": [
    "labels_maize = [\"Cattle\", \"MArea\", \"NPK\"]\n",
    "maize_coef_dict = dict(zip(labels_maize, maize_coef))\n",
    "\n",
    "labels_groundnut = [\"GArea\", \"Tractors\", \"Sheep\",\"NPK\"]\n",
    "groundnut_coef_dict = dict(zip(labels_groundnut, groundnut_coef))\n",
    "\n",
    "def get_slope(label, crop_type):\n",
    "    if crop_type == \"Maize\":\n",
    "        return maize_coef_dict.get(label, \"Label not found\")\n",
    "    elif crop_type == \"Groundnut\":\n",
    "        return groundnut_coef_dict.get(label, \"Label not found\")\n",
    "    else:\n",
    "        return \"Crop type not found\"\n",
    "\n",
    "print(get_slope(\"NPK\", \"Maize\"))\n",
    "print(get_slope(\"NPK\", \"Groundnut\"))"
   ]
  },
  {
   "cell_type": "code",
   "execution_count": 739,
   "metadata": {},
   "outputs": [
    {
     "name": "stdout",
     "output_type": "stream",
     "text": [
      "5.851194036365962\n"
     ]
    },
    {
     "data": {
      "image/png": "[encoded data removed]",
      "text/plain": [
       "<Figure size 1008x648 with 1 Axes>"
      ]
     },
     "metadata": {
      "needs_background": "light"
     },
     "output_type": "display_data"
    }
   ],
   "source": [
    "import matplotlib.pyplot as plt\n",
    "import numpy as np\n",
    "\n",
    "def calculate_and_visualize(perturbation, crop, Working_Directory, what,plot = True):\n",
    "    # Mapping of factor names based on 'what'\n",
    "    factor_mapping = {\n",
    "        'NPK': 'TotalNPK',\n",
    "        'Cattle': 'LivestockCensus_2012_Cattle',\n",
    "        'MArea': 'AreaUnderCereals_Maize',\n",
    "    }\n",
    "    \n",
    "    # Dynamically select the correct factor and slope column based on 'what'\n",
    "    factor_name = factor_mapping[what]\n",
    "    production_col = f'{crop}_Production'\n",
    "    slope = get_slope(what,crop)\n",
    "    print(slope)\n",
    "    # Calculate the factor\n",
    "    factor = Working_Directory[factor_name]\n",
    "    \n",
    "    # Initialize an empty list for new values\n",
    "    New_values = []\n",
    "    \n",
    "    # Calculate new values based on the provided formula\n",
    "    for i in range(len(Working_Directory['District'])):\n",
    "        y_new = Working_Directory[production_col][i] + slope * (perturbation * factor[i] / 100)\n",
    "        New_values.append(int(y_new))\n",
    "    \n",
    "    # Add the new values to the DataFrame with a specific column name\n",
    "    Working_Directory[f'{crop[0].upper()} - {what} {perturbation}'] = New_values\n",
    "    Working_Directory['Change'] =  (New_values - Working_Directory[production_col])\n",
    "    Working_Directory['Percentage Change'] =  ((New_values - Working_Directory[production_col])/Working_Directory[production_col])*100\n",
    "    Working_Directory = Working_Directory.replace([np.inf, -np.inf], np.nan).dropna(subset=['Percentage Change'])\n",
    "    \n",
    "    # Visualization\n",
    "    if(plot == True):\n",
    "        plt.figure(figsize=(14, 9))\n",
    "        bars = plt.bar(Working_Directory['District'], \n",
    "                    Working_Directory['Percentage Change'], color = 'green')\n",
    "        \n",
    "        # Add value labels to the bars\n",
    "        for bar, value in zip(bars, Working_Directory['Percentage Change']):\n",
    "            plt.text(bar.get_x() + bar.get_width() / 2, \n",
    "                    bar.get_height(), \n",
    "                    f'{value:.1f}', \n",
    "                    ha='center', \n",
    "                    va='bottom', \n",
    "                    fontsize=10)\n",
    "        \n",
    "        plt.xlabel('District')\n",
    "        plt.ylabel(f'Percentage Change in {crop} Production')\n",
    "        # plt.title(f'Percentage Change in {crop} Production Values when {what} increases by {perturbation}%')\n",
    "        plt.xticks(rotation=90)\n",
    "        plt.tight_layout()\n",
    "        plt.show()\n",
    "\n",
    "# Example usage:\n",
    "perturbation = 20\n",
    "what = 'NPK'  # Factor to be used\n",
    "crop = 'Maize'  # Or 'Maize'\n",
    "\n",
    "# Assuming Working_Directory is a DataFrame that has all necessary columns defined\n",
    "calculate_and_visualize(perturbation, crop, Maize_Directory, what,plot = True)\n"
   ]
  },
  {
   "cell_type": "code",
   "execution_count": 740,
   "metadata": {},
   "outputs": [
    {
     "data": {
      "text/html": [
       "<div>\n",
       "<style scoped>\n",
       "    .dataframe tbody tr th:only-of-type {\n",
       "        vertical-align: middle;\n",
       "    }\n",
       "\n",
       "    .dataframe tbody tr th {\n",
       "        vertical-align: top;\n",
       "    }\n",
       "\n",
       "    .dataframe thead th {\n",
       "        text-align: right;\n",
       "    }\n",
       "</style>\n",
       "<table border=\"1\" class=\"dataframe\">\n",
       "  <thead>\n",
       "    <tr style=\"text-align: right;\">\n",
       "      <th></th>\n",
       "      <th>District</th>\n",
       "      <th>Maize_Production</th>\n",
       "      <th>TotalNPK</th>\n",
       "      <th>LivestockCensus_2012_Cattle</th>\n",
       "      <th>AreaUnderCereals_Maize</th>\n",
       "      <th>Maize_Ratio</th>\n",
       "      <th>KDG_District</th>\n",
       "      <th>Abbreviation</th>\n",
       "      <th>M - NPK 20</th>\n",
       "      <th>Change</th>\n",
       "      <th>Percentage Change</th>\n",
       "    </tr>\n",
       "  </thead>\n",
       "  <tbody>\n",
       "    <tr>\n",
       "      <th>0</th>\n",
       "      <td>BENGALURU</td>\n",
       "      <td>2879</td>\n",
       "      <td>438.180210</td>\n",
       "      <td>2567.461578</td>\n",
       "      <td>1129.0</td>\n",
       "      <td>0.018798</td>\n",
       "      <td>Bengaluru Urban</td>\n",
       "      <td>BLR</td>\n",
       "      <td>3391</td>\n",
       "      <td>512</td>\n",
       "      <td>17.783953</td>\n",
       "    </tr>\n",
       "    <tr>\n",
       "      <th>1</th>\n",
       "      <td>BENGALURU(R)</td>\n",
       "      <td>42583</td>\n",
       "      <td>3036.080250</td>\n",
       "      <td>25037.139271</td>\n",
       "      <td>14867.0</td>\n",
       "      <td>0.157645</td>\n",
       "      <td>Bengaluru Rural</td>\n",
       "      <td>BLR(R)</td>\n",
       "      <td>46135</td>\n",
       "      <td>3552</td>\n",
       "      <td>8.341357</td>\n",
       "    </tr>\n",
       "    <tr>\n",
       "      <th>2</th>\n",
       "      <td>RAMANAGARA</td>\n",
       "      <td>10450</td>\n",
       "      <td>222.225258</td>\n",
       "      <td>7729.614277</td>\n",
       "      <td>1987.0</td>\n",
       "      <td>0.029741</td>\n",
       "      <td>Ramanagara</td>\n",
       "      <td>RGA</td>\n",
       "      <td>10710</td>\n",
       "      <td>260</td>\n",
       "      <td>2.488038</td>\n",
       "    </tr>\n",
       "    <tr>\n",
       "      <th>3</th>\n",
       "      <td>CHITRADURGA</td>\n",
       "      <td>271975</td>\n",
       "      <td>10902.406571</td>\n",
       "      <td>83821.593093</td>\n",
       "      <td>92194.0</td>\n",
       "      <td>0.303824</td>\n",
       "      <td>Chitradurga</td>\n",
       "      <td>CDA</td>\n",
       "      <td>284733</td>\n",
       "      <td>12758</td>\n",
       "      <td>4.690872</td>\n",
       "    </tr>\n",
       "    <tr>\n",
       "      <th>4</th>\n",
       "      <td>DAVANAGERE</td>\n",
       "      <td>593544</td>\n",
       "      <td>25702.835480</td>\n",
       "      <td>85657.632091</td>\n",
       "      <td>173400.0</td>\n",
       "      <td>0.257947</td>\n",
       "      <td>Davanagere</td>\n",
       "      <td>DVG</td>\n",
       "      <td>623622</td>\n",
       "      <td>30078</td>\n",
       "      <td>5.067527</td>\n",
       "    </tr>\n",
       "    <tr>\n",
       "      <th>5</th>\n",
       "      <td>KOLAR</td>\n",
       "      <td>1759</td>\n",
       "      <td>220.782906</td>\n",
       "      <td>2278.829821</td>\n",
       "      <td>640.0</td>\n",
       "      <td>0.009950</td>\n",
       "      <td>Kolar</td>\n",
       "      <td>KLR</td>\n",
       "      <td>2017</td>\n",
       "      <td>258</td>\n",
       "      <td>14.667425</td>\n",
       "    </tr>\n",
       "    <tr>\n",
       "      <th>6</th>\n",
       "      <td>CHIKKABALLAPURA</td>\n",
       "      <td>105491</td>\n",
       "      <td>8196.896749</td>\n",
       "      <td>71206.945309</td>\n",
       "      <td>59377.0</td>\n",
       "      <td>0.289061</td>\n",
       "      <td>Chikkaballapura</td>\n",
       "      <td>CKA</td>\n",
       "      <td>115083</td>\n",
       "      <td>9592</td>\n",
       "      <td>9.092719</td>\n",
       "    </tr>\n",
       "    <tr>\n",
       "      <th>7</th>\n",
       "      <td>SHIVAMOGGA</td>\n",
       "      <td>226532</td>\n",
       "      <td>10428.246256</td>\n",
       "      <td>104722.000363</td>\n",
       "      <td>43827.0</td>\n",
       "      <td>0.184215</td>\n",
       "      <td>Shivamogga</td>\n",
       "      <td>SMG</td>\n",
       "      <td>238735</td>\n",
       "      <td>12203</td>\n",
       "      <td>5.386877</td>\n",
       "    </tr>\n",
       "    <tr>\n",
       "      <th>8</th>\n",
       "      <td>TUMAKURU</td>\n",
       "      <td>66868</td>\n",
       "      <td>2746.313635</td>\n",
       "      <td>37944.093756</td>\n",
       "      <td>24207.0</td>\n",
       "      <td>0.071991</td>\n",
       "      <td>Tumakuru</td>\n",
       "      <td>TKR</td>\n",
       "      <td>70081</td>\n",
       "      <td>3213</td>\n",
       "      <td>4.804989</td>\n",
       "    </tr>\n",
       "    <tr>\n",
       "      <th>9</th>\n",
       "      <td>CHIKKAMAGALURU</td>\n",
       "      <td>61353</td>\n",
       "      <td>8156.290370</td>\n",
       "      <td>40572.445630</td>\n",
       "      <td>25831.0</td>\n",
       "      <td>0.120188</td>\n",
       "      <td>Chikkamagaluru</td>\n",
       "      <td>CMG</td>\n",
       "      <td>70897</td>\n",
       "      <td>9544</td>\n",
       "      <td>15.555882</td>\n",
       "    </tr>\n",
       "    <tr>\n",
       "      <th>10</th>\n",
       "      <td>DAKSHINA KANNADA</td>\n",
       "      <td>0</td>\n",
       "      <td>0.000000</td>\n",
       "      <td>0.000000</td>\n",
       "      <td>0.0</td>\n",
       "      <td>0.000000</td>\n",
       "      <td>Dakshina Kannada</td>\n",
       "      <td>DKA</td>\n",
       "      <td>0</td>\n",
       "      <td>0</td>\n",
       "      <td>NaN</td>\n",
       "    </tr>\n",
       "    <tr>\n",
       "      <th>11</th>\n",
       "      <td>UDUPI</td>\n",
       "      <td>109</td>\n",
       "      <td>2.304863</td>\n",
       "      <td>94.499008</td>\n",
       "      <td>8.0</td>\n",
       "      <td>0.000375</td>\n",
       "      <td>Udupi</td>\n",
       "      <td>UPI</td>\n",
       "      <td>111</td>\n",
       "      <td>2</td>\n",
       "      <td>1.834862</td>\n",
       "    </tr>\n",
       "    <tr>\n",
       "      <th>12</th>\n",
       "      <td>HASSAN</td>\n",
       "      <td>333937</td>\n",
       "      <td>17039.273894</td>\n",
       "      <td>151008.140250</td>\n",
       "      <td>79058.0</td>\n",
       "      <td>0.248999</td>\n",
       "      <td>Hassan</td>\n",
       "      <td>HSN</td>\n",
       "      <td>353877</td>\n",
       "      <td>19940</td>\n",
       "      <td>5.971186</td>\n",
       "    </tr>\n",
       "    <tr>\n",
       "      <th>13</th>\n",
       "      <td>KODAGU</td>\n",
       "      <td>17921</td>\n",
       "      <td>3519.022414</td>\n",
       "      <td>7599.582730</td>\n",
       "      <td>3448.0</td>\n",
       "      <td>0.085941</td>\n",
       "      <td>Kodagu</td>\n",
       "      <td>KDG</td>\n",
       "      <td>22039</td>\n",
       "      <td>4118</td>\n",
       "      <td>22.978628</td>\n",
       "    </tr>\n",
       "    <tr>\n",
       "      <th>14</th>\n",
       "      <td>MANDYA</td>\n",
       "      <td>19387</td>\n",
       "      <td>1448.830355</td>\n",
       "      <td>8774.134623</td>\n",
       "      <td>4892.0</td>\n",
       "      <td>0.023925</td>\n",
       "      <td>Mandya</td>\n",
       "      <td>MDY</td>\n",
       "      <td>21082</td>\n",
       "      <td>1695</td>\n",
       "      <td>8.742972</td>\n",
       "    </tr>\n",
       "    <tr>\n",
       "      <th>15</th>\n",
       "      <td>MYSURU</td>\n",
       "      <td>137154</td>\n",
       "      <td>6945.331415</td>\n",
       "      <td>61547.727444</td>\n",
       "      <td>37283.0</td>\n",
       "      <td>0.111996</td>\n",
       "      <td>Mysuru</td>\n",
       "      <td>MYS</td>\n",
       "      <td>145281</td>\n",
       "      <td>8127</td>\n",
       "      <td>5.925456</td>\n",
       "    </tr>\n",
       "    <tr>\n",
       "      <th>16</th>\n",
       "      <td>CHAMARAJANAGAR</td>\n",
       "      <td>147886</td>\n",
       "      <td>7289.684770</td>\n",
       "      <td>80396.926683</td>\n",
       "      <td>38569.0</td>\n",
       "      <td>0.306251</td>\n",
       "      <td>Chamarajanagara</td>\n",
       "      <td>CNR</td>\n",
       "      <td>156416</td>\n",
       "      <td>8530</td>\n",
       "      <td>5.767956</td>\n",
       "    </tr>\n",
       "    <tr>\n",
       "      <th>17</th>\n",
       "      <td>BELAGAVI</td>\n",
       "      <td>576758</td>\n",
       "      <td>48288.815127</td>\n",
       "      <td>159047.086192</td>\n",
       "      <td>131163.0</td>\n",
       "      <td>0.268283</td>\n",
       "      <td>Belagavi</td>\n",
       "      <td>BLG</td>\n",
       "      <td>633267</td>\n",
       "      <td>56509</td>\n",
       "      <td>9.797697</td>\n",
       "    </tr>\n",
       "    <tr>\n",
       "      <th>18</th>\n",
       "      <td>VIJAYAPURA</td>\n",
       "      <td>226327</td>\n",
       "      <td>10420.071653</td>\n",
       "      <td>48619.507080</td>\n",
       "      <td>40207.0</td>\n",
       "      <td>0.192153</td>\n",
       "      <td>Vijayapura</td>\n",
       "      <td>VJP</td>\n",
       "      <td>238520</td>\n",
       "      <td>12193</td>\n",
       "      <td>5.387338</td>\n",
       "    </tr>\n",
       "    <tr>\n",
       "      <th>19</th>\n",
       "      <td>BAGALKOT</td>\n",
       "      <td>251699</td>\n",
       "      <td>22940.521254</td>\n",
       "      <td>75578.051999</td>\n",
       "      <td>44300.0</td>\n",
       "      <td>0.270487</td>\n",
       "      <td>Bagalkote</td>\n",
       "      <td>BKT</td>\n",
       "      <td>278544</td>\n",
       "      <td>26845</td>\n",
       "      <td>10.665517</td>\n",
       "    </tr>\n",
       "    <tr>\n",
       "      <th>20</th>\n",
       "      <td>DHARAWAD</td>\n",
       "      <td>90634</td>\n",
       "      <td>6447.725408</td>\n",
       "      <td>33424.645600</td>\n",
       "      <td>30900.0</td>\n",
       "      <td>0.172487</td>\n",
       "      <td>Dharwad</td>\n",
       "      <td>DWD</td>\n",
       "      <td>98179</td>\n",
       "      <td>7545</td>\n",
       "      <td>8.324691</td>\n",
       "    </tr>\n",
       "    <tr>\n",
       "      <th>21</th>\n",
       "      <td>GADAG</td>\n",
       "      <td>138476</td>\n",
       "      <td>5591.244159</td>\n",
       "      <td>34261.981768</td>\n",
       "      <td>34163.0</td>\n",
       "      <td>0.240174</td>\n",
       "      <td>Gadag</td>\n",
       "      <td>GDG</td>\n",
       "      <td>145019</td>\n",
       "      <td>6543</td>\n",
       "      <td>4.725006</td>\n",
       "    </tr>\n",
       "    <tr>\n",
       "      <th>22</th>\n",
       "      <td>HAVERI</td>\n",
       "      <td>413487</td>\n",
       "      <td>21731.170722</td>\n",
       "      <td>95150.640269</td>\n",
       "      <td>170696.0</td>\n",
       "      <td>0.334321</td>\n",
       "      <td>Haveri</td>\n",
       "      <td>HVR</td>\n",
       "      <td>438917</td>\n",
       "      <td>25430</td>\n",
       "      <td>6.150133</td>\n",
       "    </tr>\n",
       "    <tr>\n",
       "      <th>23</th>\n",
       "      <td>UTTARA KANNADA</td>\n",
       "      <td>24088</td>\n",
       "      <td>1025.616827</td>\n",
       "      <td>22563.771076</td>\n",
       "      <td>4576.0</td>\n",
       "      <td>0.066964</td>\n",
       "      <td>Uttara Kannada</td>\n",
       "      <td>UTK</td>\n",
       "      <td>25288</td>\n",
       "      <td>1200</td>\n",
       "      <td>4.981734</td>\n",
       "    </tr>\n",
       "    <tr>\n",
       "      <th>24</th>\n",
       "      <td>BALLARI</td>\n",
       "      <td>104045</td>\n",
       "      <td>8404.154608</td>\n",
       "      <td>23446.847903</td>\n",
       "      <td>49869.5</td>\n",
       "      <td>0.136288</td>\n",
       "      <td>Ballari</td>\n",
       "      <td>BLL</td>\n",
       "      <td>113879</td>\n",
       "      <td>9834</td>\n",
       "      <td>9.451680</td>\n",
       "    </tr>\n",
       "    <tr>\n",
       "      <th>25</th>\n",
       "      <td>BIDAR</td>\n",
       "      <td>2791</td>\n",
       "      <td>249.381182</td>\n",
       "      <td>2371.831678</td>\n",
       "      <td>1382.0</td>\n",
       "      <td>0.010114</td>\n",
       "      <td>Bidar</td>\n",
       "      <td>BDR</td>\n",
       "      <td>3082</td>\n",
       "      <td>291</td>\n",
       "      <td>10.426370</td>\n",
       "    </tr>\n",
       "    <tr>\n",
       "      <th>26</th>\n",
       "      <td>KALABURAGI</td>\n",
       "      <td>14621</td>\n",
       "      <td>710.101614</td>\n",
       "      <td>6221.617910</td>\n",
       "      <td>2634.0</td>\n",
       "      <td>0.013150</td>\n",
       "      <td>Kalaburagi</td>\n",
       "      <td>KLB</td>\n",
       "      <td>15451</td>\n",
       "      <td>830</td>\n",
       "      <td>5.676766</td>\n",
       "    </tr>\n",
       "    <tr>\n",
       "      <th>27</th>\n",
       "      <td>YADGIRI</td>\n",
       "      <td>2673</td>\n",
       "      <td>368.617469</td>\n",
       "      <td>1253.317144</td>\n",
       "      <td>961.0</td>\n",
       "      <td>0.004033</td>\n",
       "      <td>Yadgir</td>\n",
       "      <td>YDR</td>\n",
       "      <td>3104</td>\n",
       "      <td>431</td>\n",
       "      <td>16.124205</td>\n",
       "    </tr>\n",
       "    <tr>\n",
       "      <th>28</th>\n",
       "      <td>RAICHUR</td>\n",
       "      <td>723</td>\n",
       "      <td>61.547519</td>\n",
       "      <td>188.537479</td>\n",
       "      <td>2600.0</td>\n",
       "      <td>0.000525</td>\n",
       "      <td>Raichur</td>\n",
       "      <td>RCR</td>\n",
       "      <td>795</td>\n",
       "      <td>72</td>\n",
       "      <td>9.958506</td>\n",
       "    </tr>\n",
       "    <tr>\n",
       "      <th>29</th>\n",
       "      <td>KOPPAL</td>\n",
       "      <td>190252</td>\n",
       "      <td>10997.550403</td>\n",
       "      <td>38936.400172</td>\n",
       "      <td>48210.0</td>\n",
       "      <td>0.149521</td>\n",
       "      <td>Koppal</td>\n",
       "      <td>KPL</td>\n",
       "      <td>203121</td>\n",
       "      <td>12869</td>\n",
       "      <td>6.764186</td>\n",
       "    </tr>\n",
       "    <tr>\n",
       "      <th>30</th>\n",
       "      <td>VIJAYANAGARA</td>\n",
       "      <td>104045</td>\n",
       "      <td>8404.154608</td>\n",
       "      <td>23446.847903</td>\n",
       "      <td>49869.5</td>\n",
       "      <td>0.136288</td>\n",
       "      <td>Vijayanagara</td>\n",
       "      <td>VNG</td>\n",
       "      <td>113879</td>\n",
       "      <td>9834</td>\n",
       "      <td>9.451680</td>\n",
       "    </tr>\n",
       "  </tbody>\n",
       "</table>\n",
       "</div>"
      ],
      "text/plain": [
       "            District  Maize_Production      TotalNPK  \\\n",
       "0          BENGALURU              2879    438.180210   \n",
       "1       BENGALURU(R)             42583   3036.080250   \n",
       "2         RAMANAGARA             10450    222.225258   \n",
       "3        CHITRADURGA            271975  10902.406571   \n",
       "4         DAVANAGERE            593544  25702.835480   \n",
       "5              KOLAR              1759    220.782906   \n",
       "6    CHIKKABALLAPURA            105491   8196.896749   \n",
       "7         SHIVAMOGGA            226532  10428.246256   \n",
       "8           TUMAKURU             66868   2746.313635   \n",
       "9     CHIKKAMAGALURU             61353   8156.290370   \n",
       "10  DAKSHINA KANNADA                 0      0.000000   \n",
       "11             UDUPI               109      2.304863   \n",
       "12            HASSAN            333937  17039.273894   \n",
       "13            KODAGU             17921   3519.022414   \n",
       "14            MANDYA             19387   1448.830355   \n",
       "15            MYSURU            137154   6945.331415   \n",
       "16    CHAMARAJANAGAR            147886   7289.684770   \n",
       "17          BELAGAVI            576758  48288.815127   \n",
       "18        VIJAYAPURA            226327  10420.071653   \n",
       "19          BAGALKOT            251699  22940.521254   \n",
       "20          DHARAWAD             90634   6447.725408   \n",
       "21             GADAG            138476   5591.244159   \n",
       "22            HAVERI            413487  21731.170722   \n",
       "23    UTTARA KANNADA             24088   1025.616827   \n",
       "24           BALLARI            104045   8404.154608   \n",
       "25             BIDAR              2791    249.381182   \n",
       "26        KALABURAGI             14621    710.101614   \n",
       "27           YADGIRI              2673    368.617469   \n",
       "28           RAICHUR               723     61.547519   \n",
       "29            KOPPAL            190252  10997.550403   \n",
       "30      VIJAYANAGARA            104045   8404.154608   \n",
       "\n",
       "    LivestockCensus_2012_Cattle  AreaUnderCereals_Maize  Maize_Ratio  \\\n",
       "0                   2567.461578                  1129.0     0.018798   \n",
       "1                  25037.139271                 14867.0     0.157645   \n",
       "2                   7729.614277                  1987.0     0.029741   \n",
       "3                  83821.593093                 92194.0     0.303824   \n",
       "4                  85657.632091                173400.0     0.257947   \n",
       "5                   2278.829821                   640.0     0.009950   \n",
       "6                  71206.945309                 59377.0     0.289061   \n",
       "7                 104722.000363                 43827.0     0.184215   \n",
       "8                  37944.093756                 24207.0     0.071991   \n",
       "9                  40572.445630                 25831.0     0.120188   \n",
       "10                     0.000000                     0.0     0.000000   \n",
       "11                    94.499008                     8.0     0.000375   \n",
       "12                151008.140250                 79058.0     0.248999   \n",
       "13                  7599.582730                  3448.0     0.085941   \n",
       "14                  8774.134623                  4892.0     0.023925   \n",
       "15                 61547.727444                 37283.0     0.111996   \n",
       "16                 80396.926683                 38569.0     0.306251   \n",
       "17                159047.086192                131163.0     0.268283   \n",
       "18                 48619.507080                 40207.0     0.192153   \n",
       "19                 75578.051999                 44300.0     0.270487   \n",
       "20                 33424.645600                 30900.0     0.172487   \n",
       "21                 34261.981768                 34163.0     0.240174   \n",
       "22                 95150.640269                170696.0     0.334321   \n",
       "23                 22563.771076                  4576.0     0.066964   \n",
       "24                 23446.847903                 49869.5     0.136288   \n",
       "25                  2371.831678                  1382.0     0.010114   \n",
       "26                  6221.617910                  2634.0     0.013150   \n",
       "27                  1253.317144                   961.0     0.004033   \n",
       "28                   188.537479                  2600.0     0.000525   \n",
       "29                 38936.400172                 48210.0     0.149521   \n",
       "30                 23446.847903                 49869.5     0.136288   \n",
       "\n",
       "        KDG_District Abbreviation  M - NPK 20  Change  Percentage Change  \n",
       "0    Bengaluru Urban          BLR        3391     512          17.783953  \n",
       "1    Bengaluru Rural       BLR(R)       46135    3552           8.341357  \n",
       "2         Ramanagara          RGA       10710     260           2.488038  \n",
       "3        Chitradurga          CDA      284733   12758           4.690872  \n",
       "4         Davanagere          DVG      623622   30078           5.067527  \n",
       "5              Kolar          KLR        2017     258          14.667425  \n",
       "6    Chikkaballapura          CKA      115083    9592           9.092719  \n",
       "7         Shivamogga          SMG      238735   12203           5.386877  \n",
       "8           Tumakuru          TKR       70081    3213           4.804989  \n",
       "9     Chikkamagaluru          CMG       70897    9544          15.555882  \n",
       "10  Dakshina Kannada          DKA           0       0                NaN  \n",
       "11             Udupi          UPI         111       2           1.834862  \n",
       "12            Hassan          HSN      353877   19940           5.971186  \n",
       "13            Kodagu          KDG       22039    4118          22.978628  \n",
       "14            Mandya          MDY       21082    1695           8.742972  \n",
       "15            Mysuru          MYS      145281    8127           5.925456  \n",
       "16   Chamarajanagara          CNR      156416    8530           5.767956  \n",
       "17          Belagavi          BLG      633267   56509           9.797697  \n",
       "18        Vijayapura          VJP      238520   12193           5.387338  \n",
       "19         Bagalkote          BKT      278544   26845          10.665517  \n",
       "20           Dharwad          DWD       98179    7545           8.324691  \n",
       "21             Gadag          GDG      145019    6543           4.725006  \n",
       "22            Haveri          HVR      438917   25430           6.150133  \n",
       "23    Uttara Kannada          UTK       25288    1200           4.981734  \n",
       "24           Ballari          BLL      113879    9834           9.451680  \n",
       "25             Bidar          BDR        3082     291          10.426370  \n",
       "26        Kalaburagi          KLB       15451     830           5.676766  \n",
       "27            Yadgir          YDR        3104     431          16.124205  \n",
       "28           Raichur          RCR         795      72           9.958506  \n",
       "29            Koppal          KPL      203121   12869           6.764186  \n",
       "30      Vijayanagara          VNG      113879    9834           9.451680  "
      ]
     },
     "execution_count": 740,
     "metadata": {},
     "output_type": "execute_result"
    }
   ],
   "source": [
    "Maize_Directory"
   ]
  },
  {
   "cell_type": "code",
   "execution_count": 741,
   "metadata": {},
   "outputs": [
    {
     "data": {
      "text/html": [
       "<div>\n",
       "<style scoped>\n",
       "    .dataframe tbody tr th:only-of-type {\n",
       "        vertical-align: middle;\n",
       "    }\n",
       "\n",
       "    .dataframe tbody tr th {\n",
       "        vertical-align: top;\n",
       "    }\n",
       "\n",
       "    .dataframe thead th {\n",
       "        text-align: right;\n",
       "    }\n",
       "</style>\n",
       "<table border=\"1\" class=\"dataframe\">\n",
       "  <thead>\n",
       "    <tr style=\"text-align: right;\">\n",
       "      <th></th>\n",
       "      <th>District</th>\n",
       "      <th>Groundnut_Production</th>\n",
       "      <th>TotalNPK</th>\n",
       "      <th>AreaUnderOilSeeds_GroundNut</th>\n",
       "      <th>MotorVehicles_Tractors</th>\n",
       "      <th>LivestockCensus_2012_Sheep</th>\n",
       "      <th>Groundnut_Ratio</th>\n",
       "      <th>KDG_District</th>\n",
       "      <th>Abbreviation</th>\n",
       "    </tr>\n",
       "  </thead>\n",
       "  <tbody>\n",
       "    <tr>\n",
       "      <th>0</th>\n",
       "      <td>BENGALURU</td>\n",
       "      <td>71.0</td>\n",
       "      <td>10.806111</td>\n",
       "      <td>72</td>\n",
       "      <td>6.785923</td>\n",
       "      <td>35.835866</td>\n",
       "      <td>0.000464</td>\n",
       "      <td>Bengaluru Urban</td>\n",
       "      <td>BLR</td>\n",
       "    </tr>\n",
       "    <tr>\n",
       "      <th>1</th>\n",
       "      <td>BENGALURU(R)</td>\n",
       "      <td>206.0</td>\n",
       "      <td>14.687376</td>\n",
       "      <td>175</td>\n",
       "      <td>0.748134</td>\n",
       "      <td>95.228861</td>\n",
       "      <td>0.000763</td>\n",
       "      <td>Bengaluru Rural</td>\n",
       "      <td>BLR(R)</td>\n",
       "    </tr>\n",
       "    <tr>\n",
       "      <th>2</th>\n",
       "      <td>RAMANAGARA</td>\n",
       "      <td>4830.0</td>\n",
       "      <td>102.712727</td>\n",
       "      <td>3307</td>\n",
       "      <td>156.804614</td>\n",
       "      <td>2102.339270</td>\n",
       "      <td>0.013746</td>\n",
       "      <td>Ramanagara</td>\n",
       "      <td>RGA</td>\n",
       "    </tr>\n",
       "    <tr>\n",
       "      <th>3</th>\n",
       "      <td>CHITRADURGA</td>\n",
       "      <td>68575.0</td>\n",
       "      <td>2748.901666</td>\n",
       "      <td>96711</td>\n",
       "      <td>1423.861199</td>\n",
       "      <td>72011.816530</td>\n",
       "      <td>0.076605</td>\n",
       "      <td>Chitradurga</td>\n",
       "      <td>CDA</td>\n",
       "    </tr>\n",
       "    <tr>\n",
       "      <th>4</th>\n",
       "      <td>DAVANAGERE</td>\n",
       "      <td>16592.0</td>\n",
       "      <td>718.500139</td>\n",
       "      <td>15279</td>\n",
       "      <td>233.171480</td>\n",
       "      <td>2474.543782</td>\n",
       "      <td>0.007211</td>\n",
       "      <td>Davanagere</td>\n",
       "      <td>DVG</td>\n",
       "    </tr>\n",
       "    <tr>\n",
       "      <th>5</th>\n",
       "      <td>KOLAR</td>\n",
       "      <td>5810.0</td>\n",
       "      <td>729.248826</td>\n",
       "      <td>8608</td>\n",
       "      <td>553.920188</td>\n",
       "      <td>14627.699531</td>\n",
       "      <td>0.032864</td>\n",
       "      <td>Kolar</td>\n",
       "      <td>KLR</td>\n",
       "    </tr>\n",
       "    <tr>\n",
       "      <th>6</th>\n",
       "      <td>CHIKKABALLAPURA</td>\n",
       "      <td>7132.0</td>\n",
       "      <td>554.173035</td>\n",
       "      <td>19535</td>\n",
       "      <td>223.002028</td>\n",
       "      <td>8455.960947</td>\n",
       "      <td>0.019543</td>\n",
       "      <td>Chikkaballapura</td>\n",
       "      <td>CKA</td>\n",
       "    </tr>\n",
       "    <tr>\n",
       "      <th>7</th>\n",
       "      <td>SHIVAMOGGA</td>\n",
       "      <td>248.0</td>\n",
       "      <td>11.416511</td>\n",
       "      <td>438</td>\n",
       "      <td>3.618217</td>\n",
       "      <td>7.419754</td>\n",
       "      <td>0.000202</td>\n",
       "      <td>Shivamogga</td>\n",
       "      <td>SMG</td>\n",
       "    </tr>\n",
       "    <tr>\n",
       "      <th>8</th>\n",
       "      <td>TUMAKURU</td>\n",
       "      <td>39626.0</td>\n",
       "      <td>1627.466413</td>\n",
       "      <td>64771</td>\n",
       "      <td>1131.991030</td>\n",
       "      <td>45278.361329</td>\n",
       "      <td>0.042662</td>\n",
       "      <td>Tumakuru</td>\n",
       "      <td>TKR</td>\n",
       "    </tr>\n",
       "    <tr>\n",
       "      <th>9</th>\n",
       "      <td>CHIKKAMAGALURU</td>\n",
       "      <td>3909.0</td>\n",
       "      <td>519.663897</td>\n",
       "      <td>5851</td>\n",
       "      <td>121.617111</td>\n",
       "      <td>699.225642</td>\n",
       "      <td>0.007658</td>\n",
       "      <td>Chikkamagaluru</td>\n",
       "      <td>CMG</td>\n",
       "    </tr>\n",
       "    <tr>\n",
       "      <th>10</th>\n",
       "      <td>DAKSHINA KANNADA</td>\n",
       "      <td>0.0</td>\n",
       "      <td>0.000000</td>\n",
       "      <td>0</td>\n",
       "      <td>0.000000</td>\n",
       "      <td>0.000000</td>\n",
       "      <td>0.000000</td>\n",
       "      <td>Dakshina Kannada</td>\n",
       "      <td>DKA</td>\n",
       "    </tr>\n",
       "    <tr>\n",
       "      <th>11</th>\n",
       "      <td>UDUPI</td>\n",
       "      <td>3623.0</td>\n",
       "      <td>76.610263</td>\n",
       "      <td>1819</td>\n",
       "      <td>53.931232</td>\n",
       "      <td>0.872270</td>\n",
       "      <td>0.012461</td>\n",
       "      <td>Udupi</td>\n",
       "      <td>UPI</td>\n",
       "    </tr>\n",
       "    <tr>\n",
       "      <th>12</th>\n",
       "      <td>HASSAN</td>\n",
       "      <td>521.0</td>\n",
       "      <td>26.584241</td>\n",
       "      <td>862</td>\n",
       "      <td>8.970448</td>\n",
       "      <td>62.423299</td>\n",
       "      <td>0.000388</td>\n",
       "      <td>Hassan</td>\n",
       "      <td>HSN</td>\n",
       "    </tr>\n",
       "    <tr>\n",
       "      <th>13</th>\n",
       "      <td>KODAGU</td>\n",
       "      <td>45.0</td>\n",
       "      <td>8.836338</td>\n",
       "      <td>63</td>\n",
       "      <td>1.474989</td>\n",
       "      <td>0.302335</td>\n",
       "      <td>0.000216</td>\n",
       "      <td>Kodagu</td>\n",
       "      <td>KDG</td>\n",
       "    </tr>\n",
       "    <tr>\n",
       "      <th>14</th>\n",
       "      <td>MANDYA</td>\n",
       "      <td>1021.0</td>\n",
       "      <td>76.301428</td>\n",
       "      <td>1361</td>\n",
       "      <td>14.601824</td>\n",
       "      <td>430.625919</td>\n",
       "      <td>0.001260</td>\n",
       "      <td>Mandya</td>\n",
       "      <td>MDY</td>\n",
       "    </tr>\n",
       "    <tr>\n",
       "      <th>15</th>\n",
       "      <td>MYSURU</td>\n",
       "      <td>2170.0</td>\n",
       "      <td>109.886472</td>\n",
       "      <td>2387</td>\n",
       "      <td>35.637706</td>\n",
       "      <td>386.962906</td>\n",
       "      <td>0.001772</td>\n",
       "      <td>Mysuru</td>\n",
       "      <td>MYS</td>\n",
       "    </tr>\n",
       "    <tr>\n",
       "      <th>16</th>\n",
       "      <td>CHAMARAJANAGAR</td>\n",
       "      <td>8867.0</td>\n",
       "      <td>437.077444</td>\n",
       "      <td>12179</td>\n",
       "      <td>67.665016</td>\n",
       "      <td>2359.241323</td>\n",
       "      <td>0.018362</td>\n",
       "      <td>Chamarajanagara</td>\n",
       "      <td>CNR</td>\n",
       "    </tr>\n",
       "    <tr>\n",
       "      <th>17</th>\n",
       "      <td>BELAGAVI</td>\n",
       "      <td>39530.0</td>\n",
       "      <td>3309.632223</td>\n",
       "      <td>37419</td>\n",
       "      <td>853.959841</td>\n",
       "      <td>14506.560516</td>\n",
       "      <td>0.018388</td>\n",
       "      <td>Belagavi</td>\n",
       "      <td>BLG</td>\n",
       "    </tr>\n",
       "    <tr>\n",
       "      <th>18</th>\n",
       "      <td>VIJAYAPURA</td>\n",
       "      <td>27528.0</td>\n",
       "      <td>1267.386271</td>\n",
       "      <td>24779</td>\n",
       "      <td>580.055688</td>\n",
       "      <td>7228.271206</td>\n",
       "      <td>0.023371</td>\n",
       "      <td>Vijayapura</td>\n",
       "      <td>VJP</td>\n",
       "    </tr>\n",
       "    <tr>\n",
       "      <th>19</th>\n",
       "      <td>BAGALKOT</td>\n",
       "      <td>25444.0</td>\n",
       "      <td>2319.034334</td>\n",
       "      <td>26333</td>\n",
       "      <td>659.436766</td>\n",
       "      <td>20058.996218</td>\n",
       "      <td>0.027343</td>\n",
       "      <td>Bagalkote</td>\n",
       "      <td>BKT</td>\n",
       "    </tr>\n",
       "    <tr>\n",
       "      <th>20</th>\n",
       "      <td>DHARAWAD</td>\n",
       "      <td>21178.0</td>\n",
       "      <td>1506.608212</td>\n",
       "      <td>36152</td>\n",
       "      <td>575.986142</td>\n",
       "      <td>2981.779212</td>\n",
       "      <td>0.040304</td>\n",
       "      <td>Dharwad</td>\n",
       "      <td>DWD</td>\n",
       "    </tr>\n",
       "    <tr>\n",
       "      <th>21</th>\n",
       "      <td>GADAG</td>\n",
       "      <td>31332.0</td>\n",
       "      <td>1265.091872</td>\n",
       "      <td>41174</td>\n",
       "      <td>1518.327616</td>\n",
       "      <td>14077.244590</td>\n",
       "      <td>0.054342</td>\n",
       "      <td>Gadag</td>\n",
       "      <td>GDG</td>\n",
       "    </tr>\n",
       "    <tr>\n",
       "      <th>22</th>\n",
       "      <td>HAVERI</td>\n",
       "      <td>18309.0</td>\n",
       "      <td>962.245499</td>\n",
       "      <td>17789</td>\n",
       "      <td>232.267686</td>\n",
       "      <td>3770.582401</td>\n",
       "      <td>0.014804</td>\n",
       "      <td>Haveri</td>\n",
       "      <td>HVR</td>\n",
       "    </tr>\n",
       "    <tr>\n",
       "      <th>23</th>\n",
       "      <td>UTTARA KANNADA</td>\n",
       "      <td>3825.0</td>\n",
       "      <td>162.860526</td>\n",
       "      <td>1950</td>\n",
       "      <td>49.317519</td>\n",
       "      <td>50.859356</td>\n",
       "      <td>0.010633</td>\n",
       "      <td>Uttara Kannada</td>\n",
       "      <td>UTK</td>\n",
       "    </tr>\n",
       "    <tr>\n",
       "      <th>24</th>\n",
       "      <td>BALLARI</td>\n",
       "      <td>22938.5</td>\n",
       "      <td>1852.839641</td>\n",
       "      <td>49762</td>\n",
       "      <td>721.160542</td>\n",
       "      <td>22723.723301</td>\n",
       "      <td>0.030047</td>\n",
       "      <td>Ballari</td>\n",
       "      <td>BLL</td>\n",
       "    </tr>\n",
       "    <tr>\n",
       "      <th>25</th>\n",
       "      <td>BIDAR</td>\n",
       "      <td>261.0</td>\n",
       "      <td>23.320849</td>\n",
       "      <td>299</td>\n",
       "      <td>4.970978</td>\n",
       "      <td>83.608146</td>\n",
       "      <td>0.000946</td>\n",
       "      <td>Bidar</td>\n",
       "      <td>BDR</td>\n",
       "    </tr>\n",
       "    <tr>\n",
       "      <th>26</th>\n",
       "      <td>KALABURAGI</td>\n",
       "      <td>3114.0</td>\n",
       "      <td>151.238385</td>\n",
       "      <td>3817</td>\n",
       "      <td>45.795271</td>\n",
       "      <td>280.247116</td>\n",
       "      <td>0.002801</td>\n",
       "      <td>Kalaburagi</td>\n",
       "      <td>KLB</td>\n",
       "    </tr>\n",
       "    <tr>\n",
       "      <th>27</th>\n",
       "      <td>YADGIRI</td>\n",
       "      <td>31435.0</td>\n",
       "      <td>4335.013151</td>\n",
       "      <td>38840</td>\n",
       "      <td>469.698763</td>\n",
       "      <td>21985.146627</td>\n",
       "      <td>0.047435</td>\n",
       "      <td>Yadgir</td>\n",
       "      <td>YDR</td>\n",
       "    </tr>\n",
       "    <tr>\n",
       "      <th>28</th>\n",
       "      <td>RAICHUR</td>\n",
       "      <td>26958.0</td>\n",
       "      <td>2294.879709</td>\n",
       "      <td>35960</td>\n",
       "      <td>501.355901</td>\n",
       "      <td>12675.796996</td>\n",
       "      <td>0.019575</td>\n",
       "      <td>Raichur</td>\n",
       "      <td>RCR</td>\n",
       "    </tr>\n",
       "    <tr>\n",
       "      <th>29</th>\n",
       "      <td>KOPPAL</td>\n",
       "      <td>29982.0</td>\n",
       "      <td>1733.114796</td>\n",
       "      <td>22274</td>\n",
       "      <td>384.479472</td>\n",
       "      <td>12890.465433</td>\n",
       "      <td>0.023563</td>\n",
       "      <td>Koppal</td>\n",
       "      <td>KPL</td>\n",
       "    </tr>\n",
       "    <tr>\n",
       "      <th>30</th>\n",
       "      <td>VIJAYANAGARA</td>\n",
       "      <td>22938.5</td>\n",
       "      <td>1852.839641</td>\n",
       "      <td>49762</td>\n",
       "      <td>721.160542</td>\n",
       "      <td>22723.723301</td>\n",
       "      <td>0.030047</td>\n",
       "      <td>Vijayanagara</td>\n",
       "      <td>VNG</td>\n",
       "    </tr>\n",
       "  </tbody>\n",
       "</table>\n",
       "</div>"
      ],
      "text/plain": [
       "            District  Groundnut_Production     TotalNPK  \\\n",
       "0          BENGALURU                  71.0    10.806111   \n",
       "1       BENGALURU(R)                 206.0    14.687376   \n",
       "2         RAMANAGARA                4830.0   102.712727   \n",
       "3        CHITRADURGA               68575.0  2748.901666   \n",
       "4         DAVANAGERE               16592.0   718.500139   \n",
       "5              KOLAR                5810.0   729.248826   \n",
       "6    CHIKKABALLAPURA                7132.0   554.173035   \n",
       "7         SHIVAMOGGA                 248.0    11.416511   \n",
       "8           TUMAKURU               39626.0  1627.466413   \n",
       "9     CHIKKAMAGALURU                3909.0   519.663897   \n",
       "10  DAKSHINA KANNADA                   0.0     0.000000   \n",
       "11             UDUPI                3623.0    76.610263   \n",
       "12            HASSAN                 521.0    26.584241   \n",
       "13            KODAGU                  45.0     8.836338   \n",
       "14            MANDYA                1021.0    76.301428   \n",
       "15            MYSURU                2170.0   109.886472   \n",
       "16    CHAMARAJANAGAR                8867.0   437.077444   \n",
       "17          BELAGAVI               39530.0  3309.632223   \n",
       "18        VIJAYAPURA               27528.0  1267.386271   \n",
       "19          BAGALKOT               25444.0  2319.034334   \n",
       "20          DHARAWAD               21178.0  1506.608212   \n",
       "21             GADAG               31332.0  1265.091872   \n",
       "22            HAVERI               18309.0   962.245499   \n",
       "23    UTTARA KANNADA                3825.0   162.860526   \n",
       "24           BALLARI               22938.5  1852.839641   \n",
       "25             BIDAR                 261.0    23.320849   \n",
       "26        KALABURAGI                3114.0   151.238385   \n",
       "27           YADGIRI               31435.0  4335.013151   \n",
       "28           RAICHUR               26958.0  2294.879709   \n",
       "29            KOPPAL               29982.0  1733.114796   \n",
       "30      VIJAYANAGARA               22938.5  1852.839641   \n",
       "\n",
       "    AreaUnderOilSeeds_GroundNut  MotorVehicles_Tractors  \\\n",
       "0                            72                6.785923   \n",
       "1                           175                0.748134   \n",
       "2                          3307              156.804614   \n",
       "3                         96711             1423.861199   \n",
       "4                         15279              233.171480   \n",
       "5                          8608              553.920188   \n",
       "6                         19535              223.002028   \n",
       "7                           438                3.618217   \n",
       "8                         64771             1131.991030   \n",
       "9                          5851              121.617111   \n",
       "10                            0                0.000000   \n",
       "11                         1819               53.931232   \n",
       "12                          862                8.970448   \n",
       "13                           63                1.474989   \n",
       "14                         1361               14.601824   \n",
       "15                         2387               35.637706   \n",
       "16                        12179               67.665016   \n",
       "17                        37419              853.959841   \n",
       "18                        24779              580.055688   \n",
       "19                        26333              659.436766   \n",
       "20                        36152              575.986142   \n",
       "21                        41174             1518.327616   \n",
       "22                        17789              232.267686   \n",
       "23                         1950               49.317519   \n",
       "24                        49762              721.160542   \n",
       "25                          299                4.970978   \n",
       "26                         3817               45.795271   \n",
       "27                        38840              469.698763   \n",
       "28                        35960              501.355901   \n",
       "29                        22274              384.479472   \n",
       "30                        49762              721.160542   \n",
       "\n",
       "    LivestockCensus_2012_Sheep  Groundnut_Ratio      KDG_District Abbreviation  \n",
       "0                    35.835866         0.000464   Bengaluru Urban          BLR  \n",
       "1                    95.228861         0.000763   Bengaluru Rural       BLR(R)  \n",
       "2                  2102.339270         0.013746        Ramanagara          RGA  \n",
       "3                 72011.816530         0.076605       Chitradurga          CDA  \n",
       "4                  2474.543782         0.007211        Davanagere          DVG  \n",
       "5                 14627.699531         0.032864             Kolar          KLR  \n",
       "6                  8455.960947         0.019543   Chikkaballapura          CKA  \n",
       "7                     7.419754         0.000202        Shivamogga          SMG  \n",
       "8                 45278.361329         0.042662          Tumakuru          TKR  \n",
       "9                   699.225642         0.007658    Chikkamagaluru          CMG  \n",
       "10                    0.000000         0.000000  Dakshina Kannada          DKA  \n",
       "11                    0.872270         0.012461             Udupi          UPI  \n",
       "12                   62.423299         0.000388            Hassan          HSN  \n",
       "13                    0.302335         0.000216            Kodagu          KDG  \n",
       "14                  430.625919         0.001260            Mandya          MDY  \n",
       "15                  386.962906         0.001772            Mysuru          MYS  \n",
       "16                 2359.241323         0.018362   Chamarajanagara          CNR  \n",
       "17                14506.560516         0.018388          Belagavi          BLG  \n",
       "18                 7228.271206         0.023371        Vijayapura          VJP  \n",
       "19                20058.996218         0.027343         Bagalkote          BKT  \n",
       "20                 2981.779212         0.040304           Dharwad          DWD  \n",
       "21                14077.244590         0.054342             Gadag          GDG  \n",
       "22                 3770.582401         0.014804            Haveri          HVR  \n",
       "23                   50.859356         0.010633    Uttara Kannada          UTK  \n",
       "24                22723.723301         0.030047           Ballari          BLL  \n",
       "25                   83.608146         0.000946             Bidar          BDR  \n",
       "26                  280.247116         0.002801        Kalaburagi          KLB  \n",
       "27                21985.146627         0.047435            Yadgir          YDR  \n",
       "28                12675.796996         0.019575           Raichur          RCR  \n",
       "29                12890.465433         0.023563            Koppal          KPL  \n",
       "30                22723.723301         0.030047      Vijayanagara          VNG  "
      ]
     },
     "execution_count": 741,
     "metadata": {},
     "output_type": "execute_result"
    }
   ],
   "source": [
    "Groundnut_Directory"
   ]
  },
  {
   "cell_type": "code",
   "execution_count": 742,
   "metadata": {},
   "outputs": [
    {
     "data": {
      "image/png": "[encoded data removed]",
      "text/plain": [
       "<Figure size 1008x648 with 1 Axes>"
      ]
     },
     "metadata": {
      "needs_background": "light"
     },
     "output_type": "display_data"
    }
   ],
   "source": [
    "import matplotlib.pyplot as plt\n",
    "import numpy as np\n",
    "\n",
    "def calculate_and_visualize(perturbation, crop, Working_Directory, what,plot = True):\n",
    "    # Mapping of factor names based on 'what'\n",
    "    factor_mapping = {\n",
    "        'NPK': 'TotalNPK',\n",
    "        'GArea': 'AreaUnderOilSeeds_GroundNut',\n",
    "        'Sheep': 'LivestockCensus_2012_Sheep',\n",
    "        'Tractors': 'MotorVehicles_Tractors'\n",
    "    }\n",
    "    \n",
    "    # Dynamically select the correct factor and slope column based on 'what'\n",
    "    factor_name = factor_mapping[what]\n",
    "    production_col = f'{crop}_Production'\n",
    "    slope = get_slope(what,crop)\n",
    "\n",
    "    # Calculate the factor\n",
    "    factor = Working_Directory[factor_name]\n",
    "    \n",
    "    # Initialize an empty list for new values\n",
    "    New_values = []\n",
    "    \n",
    "    # Calculate new values based on the provided formula\n",
    "    for i in range(len(Working_Directory['District'])):\n",
    "        y_new = Working_Directory[production_col][i] + slope * (perturbation * factor[i] / 100)\n",
    "        New_values.append(int(y_new))\n",
    "    \n",
    "    # Add the new values to the DataFrame with a specific column name\n",
    "    Working_Directory[f'{crop[0].upper()} - {what} {perturbation}'] = New_values\n",
    "    Working_Directory['Change'] =  (New_values - Working_Directory[production_col])\n",
    "    Working_Directory['Percentage Change'] =  ((New_values - Working_Directory[production_col])/Working_Directory[production_col])*100\n",
    "    Working_Directory = Working_Directory.replace([np.inf, -np.inf], np.nan).dropna(subset=['Percentage Change'])\n",
    "    \n",
    "    # Visualization\n",
    "    if(plot == True):\n",
    "        plt.figure(figsize=(14, 9))\n",
    "        bars = plt.bar(Working_Directory['District'], \n",
    "                    Working_Directory['Percentage Change'], color = 'darkviolet')\n",
    "        \n",
    "        # Add value labels to the bars\n",
    "        for bar, value in zip(bars, Working_Directory['Percentage Change']):\n",
    "            plt.text(bar.get_x() + bar.get_width() / 2, \n",
    "                    bar.get_height(), \n",
    "                    f'{value:.1f}', \n",
    "                    ha='center', \n",
    "                    va='bottom', \n",
    "                    fontsize=10)\n",
    "        \n",
    "        plt.xlabel('District')\n",
    "        plt.ylabel(f'Percentage Change in {crop} Production')\n",
    "        plt.title(f'Percentage Change in {crop} Production Values when {what} increases by {perturbation}%')\n",
    "        plt.xticks(rotation=90)\n",
    "        plt.tight_layout()\n",
    "        plt.show()\n",
    "\n",
    "# Example usage:\n",
    "perturbation = 20\n",
    "what = 'NPK'  # Factor to be used\n",
    "crop = 'Groundnut'  # Or 'Maize'\n",
    "\n",
    "# Assuming Working_Directory is a DataFrame that has all necessary columns defined\n",
    "calculate_and_visualize(perturbation, crop, Groundnut_Directory, what,plot = True)"
   ]
  },
  {
   "cell_type": "code",
   "execution_count": 743,
   "metadata": {},
   "outputs": [
    {
     "name": "stdout",
     "output_type": "stream",
     "text": [
      "    1   2   3   4   5   6   7   8   9   10  ...  22  23  24  25  26  27  28  \\\n",
      "1    0   1   1   0   0   0   0   0   0   0  ...   0   0   0   0   0   0   0   \n",
      "2    1   0   1   0   0   1   1   0   1   0  ...   0   0   0   0   0   0   0   \n",
      "3    1   1   0   0   0   0   0   0   1   0  ...   0   0   0   0   0   0   0   \n",
      "4    0   0   0   0   1   0   0   0   1   1  ...   0   0   0   1   0   0   0   \n",
      "5    0   0   0   1   0   0   0   1   0   1  ...   0   1   0   1   0   0   0   \n",
      "6    0   1   0   0   0   0   1   0   0   0  ...   0   0   0   0   0   0   0   \n",
      "7    0   1   0   0   0   1   0   0   1   0  ...   0   0   0   0   0   0   0   \n",
      "8    0   0   0   0   1   0   0   0   0   1  ...   0   1   1   0   0   0   0   \n",
      "9    0   1   1   1   0   0   1   0   0   1  ...   0   0   0   0   0   0   0   \n",
      "10   0   0   0   1   1   0   0   1   1   0  ...   0   0   0   0   0   0   0   \n",
      "11   0   0   0   0   0   0   0   0   0   1  ...   0   0   0   0   0   0   0   \n",
      "12   0   0   0   0   0   0   0   1   0   1  ...   0   0   1   0   0   0   0   \n",
      "13   0   0   0   0   0   0   0   0   1   1  ...   0   0   0   0   0   0   0   \n",
      "14   0   0   0   0   0   0   0   0   0   0  ...   0   0   0   0   0   0   0   \n",
      "15   0   0   1   0   0   0   0   0   1   0  ...   0   0   0   0   0   0   0   \n",
      "16   0   0   0   0   0   0   0   0   0   0  ...   0   0   0   0   0   0   0   \n",
      "17   0   0   1   0   0   0   0   0   0   0  ...   0   0   0   0   0   0   0   \n",
      "18   0   0   0   0   0   0   0   0   0   0  ...   1   0   1   0   0   0   0   \n",
      "19   0   0   0   0   0   0   0   0   0   0  ...   0   0   0   0   0   1   1   \n",
      "20   0   0   0   0   0   0   0   0   0   0  ...   1   0   0   0   0   0   0   \n",
      "21   0   0   0   0   0   0   0   0   0   0  ...   1   1   1   0   0   0   0   \n",
      "22   0   0   0   0   0   0   0   0   0   0  ...   0   1   0   1   0   0   0   \n",
      "23   0   0   0   0   1   0   0   1   0   0  ...   1   0   1   1   0   0   0   \n",
      "24   0   0   0   0   0   0   0   1   0   0  ...   0   1   0   0   0   0   0   \n",
      "25   0   0   0   1   1   0   0   0   0   0  ...   1   1   0   0   0   0   0   \n",
      "26   0   0   0   0   0   0   0   0   0   0  ...   0   0   0   0   0   1   0   \n",
      "27   0   0   0   0   0   0   0   0   0   0  ...   0   0   0   0   1   0   1   \n",
      "28   0   0   0   0   0   0   0   0   0   0  ...   0   0   0   0   0   1   0   \n",
      "29   0   0   0   0   0   0   0   0   0   0  ...   0   0   0   1   0   0   1   \n",
      "30   0   0   0   0   0   0   0   0   0   0  ...   1   0   0   1   0   0   0   \n",
      "31   0   0   0   1   1   0   0   0   0   0  ...   1   1   0   1   0   0   0   \n",
      "\n",
      "    29  30  31  \n",
      "1    0   0   0  \n",
      "2    0   0   0  \n",
      "3    0   0   0  \n",
      "4    0   0   1  \n",
      "5    0   0   1  \n",
      "6    0   0   0  \n",
      "7    0   0   0  \n",
      "8    0   0   0  \n",
      "9    0   0   0  \n",
      "10   0   0   0  \n",
      "11   0   0   0  \n",
      "12   0   0   0  \n",
      "13   0   0   0  \n",
      "14   0   0   0  \n",
      "15   0   0   0  \n",
      "16   0   0   0  \n",
      "17   0   0   0  \n",
      "18   0   0   0  \n",
      "19   1   0   0  \n",
      "20   1   1   0  \n",
      "21   0   0   0  \n",
      "22   0   1   1  \n",
      "23   0   0   1  \n",
      "24   0   0   0  \n",
      "25   1   1   1  \n",
      "26   0   0   0  \n",
      "27   0   0   0  \n",
      "28   1   0   0  \n",
      "29   0   1   0  \n",
      "30   1   0   1  \n",
      "31   0   1   0  \n",
      "\n",
      "[31 rows x 31 columns]\n"
     ]
    }
   ],
   "source": [
    "adjacency_excel = pd.read_excel('Karnataka_District_Adjacency_File.xlsx')\n",
    "\n",
    "district_codes = sorted(set(adjacency_excel['District_Code']))\n",
    "\n",
    "n = len(district_codes)\n",
    "adj_matrix = np.zeros((n, n), dtype=int)\n",
    "\n",
    "code_to_index = {code: idx for idx, code in enumerate(district_codes)}\n",
    "\n",
    "for i in range(len(adjacency_excel)):\n",
    "    district_code = adjacency_excel['District_Code'][i]\n",
    "    neighbors = [int(num) for num in str(adjacency_excel['District_Neighbors'][i]).split(',') if num.strip().isdigit()]\n",
    "    \n",
    "    for neighbor in neighbors:\n",
    "        adj_matrix[code_to_index[district_code]][code_to_index[neighbor]] = 1\n",
    "        adj_matrix[code_to_index[neighbor]][code_to_index[district_code]] = 1  # Assuming adjacency is bidirectional\n",
    "\n",
    "adj_matrix_df = pd.DataFrame(adj_matrix, index=district_codes, columns=district_codes)\n",
    "\n",
    "print(adj_matrix_df)\n",
    "\n",
    "adj_matrix_np = adj_matrix_df.to_numpy()"
   ]
  },
  {
   "cell_type": "code",
   "execution_count": 744,
   "metadata": {},
   "outputs": [],
   "source": [
    "def normalize_list(lst):\n",
    "    min_val = min(lst)\n",
    "    max_val = max(lst)\n",
    "    normalized_lst = [(x - min_val) / (max_val - min_val) for x in lst]\n",
    "    return normalized_lst\n",
    "\n",
    "\n",
    "Name = 'M - NPK 20'\n",
    "Capability_list = normalize_list(Maize_Directory[f'{Name}'])"
   ]
  },
  {
   "cell_type": "code",
   "execution_count": 745,
   "metadata": {},
   "outputs": [],
   "source": [
    "# Impact calculation function\n",
    "def calculate_impact(Working_Directory, crop, perturbation, what):\n",
    "    # Normalize the capability list\n",
    "    capability_name = f'{crop[0].upper()} - {what} {perturbation}'\n",
    "\n",
    "    # Calculate the impact as percentage change\n",
    "    original_production = Working_Directory[f'{crop}_Production']\n",
    "    new_production = Working_Directory[capability_name]\n",
    "    impact = ((new_production - original_production) / original_production) * 100\n",
    "\n",
    "    # Column names\n",
    "    impact_column_name = f'Impact_{crop[0].upper()}_{what}_{perturbation}'\n",
    "\n",
    "    return impact, impact_column_name"
   ]
  },
  {
   "cell_type": "code",
   "execution_count": 746,
   "metadata": {},
   "outputs": [],
   "source": [
    "# Combined calculation function\n",
    "def calculate_Change_Impact(Working_Directory, crop, perturbation, what):\n",
    "    # Normalize the capability list\n",
    "    capability_name = f'{crop[0].upper()} - {what} {perturbation}'\n",
    "    \n",
    "    # Calculate the impact as percentage change\n",
    "    original_production = Working_Directory[f'{crop}_Production']\n",
    "    new_production = Working_Directory[capability_name]\n",
    "    change = (new_production - original_production) \n",
    "    impact = ((new_production - original_production) / original_production) * 100\n",
    "\n",
    "    return change,impact,new_production"
   ]
  },
  {
   "cell_type": "code",
   "execution_count": 747,
   "metadata": {},
   "outputs": [],
   "source": [
    "# Function to calculate impact for a specific crop\n",
    "def calculate_impact( crop, perturbation, what):\n",
    "    if(crop == 'Maize'):\n",
    "        Working_Directory = Maize_Directory\n",
    "    elif(crop == 'Rice'):\n",
    "        Working_Directory = Rice_Directory\n",
    "    else:\n",
    "        Working_Directory = Groundnut_Directory\n",
    "    capability_name = f'{crop[0].upper()} - {what} {perturbation}'\n",
    "    original_production = Working_Directory[f'{crop}_Production']\n",
    "    new_production = Working_Directory[capability_name]\n",
    "    impact = ((new_production - original_production) / original_production) * 100\n",
    "    impact_column_name = f'Impact_{crop[0].upper()}_{what}_{perturbation}'\n",
    "    return impact, impact_column_name"
   ]
  },
  {
   "cell_type": "code",
   "execution_count": 748,
   "metadata": {},
   "outputs": [],
   "source": [
    "def calculate_stress_stability(adj_matrix, df):\n",
    "    df['stress'] = 0.0\n",
    "    df['stability'] = 0.0\n",
    "    capability_columns = df.columns.difference(['node', 'stress', 'stability'])\n",
    "    \n",
    "    for idx, row in df.iterrows():\n",
    "        node = row['node']\n",
    "        node_idx = df.index[df['node'] == node][0]\n",
    "        neighbors_idx = np.where(adj_matrix[node_idx] == 1)[0]\n",
    "        \n",
    "        if len(neighbors_idx) > 0:\n",
    "            neighbor_capabilities = df.iloc[neighbors_idx][capability_columns].values\n",
    "            centroid = np.mean(neighbor_capabilities, axis=0)\n",
    "            node_capabilities = row[capability_columns].values\n",
    "            stress = np.linalg.norm(node_capabilities - centroid)\n",
    "        else:\n",
    "            stress = 0\n",
    "        \n",
    "        df.at[idx, 'stress'] = stress\n",
    "    \n",
    "    min_stress = df['stress'].min()\n",
    "    max_stress = df['stress'].max()\n",
    "    \n",
    "    if max_stress - min_stress > 0:\n",
    "        df['stress'] = (df['stress'] - min_stress) / (max_stress - min_stress)\n",
    "    else:\n",
    "        df['stress'] = 0 \n",
    "    \n",
    "    df['stability'] = 1 - df['stress']\n",
    "    \n",
    "    return df"
   ]
  },
  {
   "cell_type": "code",
   "execution_count": 749,
   "metadata": {},
   "outputs": [
    {
     "data": {
      "application/vnd.plotly.v1+json": {
       "config": {
        "plotlyServerURL": "https://plot.ly"
       },
       "data": [
        {
         "hovertemplate": "<b>%{text}</b><br>Stability: %{x:.2f}<br>Impact: %{y:.2f}%<extra></extra>",
         "marker": {
          "color": "green"
         },
         "mode": "markers+text",
         "name": "Maize",
         "text": [
          "BLR",
          "BLR(R)",
          "RGA",
          "CDA",
          "DVG",
          "KLR",
          "CKA",
          "SMG",
          "TKR",
          "CMG",
          "DKA",
          "UPI",
          "HSN",
          "KDG",
          "MDY",
          "MYS",
          "CNR",
          "BLG",
          "VJP",
          "BKT",
          "DWD",
          "GDG",
          "HVR",
          "UTK",
          "BLL",
          "BDR",
          "KLB",
          "YDR",
          "RCR",
          "KPL",
          "VNG"
         ],
         "textfont": {
          "color": "black",
          "size": 10
         },
         "textposition": "top right",
         "type": "scatter",
         "x": [
          0.9612196694668942,
          0.9867279400738811,
          0.9104202811925186,
          0.8039511334715146,
          0.13425573856701656,
          0.8473425389566588,
          0.8526840039417328,
          0.9898502113928332,
          0.8758149121987923,
          0.6862986218791592,
          0.7768168132263902,
          0.8366935284108394,
          0.377920980494002,
          0.7074017920586203,
          0.7451392700572494,
          1,
          0.8069366978634973,
          0,
          0.9034126358163902,
          0.94066008563587,
          0.5623798350016221,
          0.7515378081417474,
          0.4934265255390331,
          0.46770166902281585,
          0.7062254807391786,
          0.9877010106379586,
          0.8688124827829089,
          0.8377016505470222,
          0.6599373428964515,
          0.8597570021568476,
          0.6147841049362281
         ],
         "y": [
          17.783952761375478,
          8.341356879505907,
          2.488038277511962,
          4.690872322823789,
          5.06752658606607,
          14.667424673109721,
          9.09271881013546,
          5.386876909222538,
          4.804988933421068,
          15.555881537985103,
          null,
          1.834862385321101,
          5.971186181824716,
          22.978628424753083,
          8.742972094702637,
          5.925456056695393,
          5.767956398847761,
          9.797696780972261,
          5.387337790011797,
          10.665517145479322,
          8.324690513493833,
          4.725006499321182,
          6.150132894141775,
          4.981733643307871,
          9.451679561728099,
          10.426370476531709,
          5.676766295055058,
          16.1242050130939,
          9.95850622406639,
          6.7641864474486475,
          9.451679561728099
         ]
        },
        {
         "hovertemplate": "<b>%{text}</b><br>Stability: %{x:.2f}<br>Impact: %{y:.2f}%<extra></extra>",
         "marker": {
          "color": "darkviolet"
         },
         "mode": "markers",
         "name": "Groundnut",
         "text": [
          "BLR",
          "BLR(R)",
          "RGA",
          "CDA",
          "DVG",
          "KLR",
          "CKA",
          "SMG",
          "TKR",
          "CMG",
          "DKA",
          "UPI",
          "HSN",
          "KDG",
          "MDY",
          "MYS",
          "CNR",
          "BLG",
          "VJP",
          "BKT",
          "DWD",
          "GDG",
          "HVR",
          "UTK",
          "BLL",
          "BDR",
          "KLB",
          "YDR",
          "RCR",
          "KPL",
          "VNG"
         ],
         "type": "scatter",
         "x": [
          0.9612196694668942,
          0.9867279400738811,
          0.9104202811925186,
          0.8039511334715146,
          0.13425573856701656,
          0.8473425389566588,
          0.8526840039417328,
          0.9898502113928332,
          0.8758149121987923,
          0.6862986218791592,
          0.7768168132263902,
          0.8366935284108394,
          0.377920980494002,
          0.7074017920586203,
          0.7451392700572494,
          1,
          0.8069366978634973,
          0,
          0.9034126358163902,
          0.94066008563587,
          0.5623798350016221,
          0.7515378081417474,
          0.4934265255390331,
          0.46770166902281585,
          0.7062254807391786,
          0.9877010106379586,
          0.8688124827829089,
          0.8377016505470222,
          0.6599373428964515,
          0.8597570021568476,
          0.6147841049362281
         ],
         "y": [
          12.676056338028168,
          5.825242718446602,
          1.8012422360248446,
          3.4210718191760843,
          3.694551591128255,
          10.705679862306368,
          6.6320807627593945,
          3.6290322580645165,
          3.5052743148437893,
          11.332821693527755,
          null,
          1.7940932928512283,
          4.222648752399232,
          15.555555555555555,
          6.366307541625857,
          4.285714285714286,
          4.206608774106237,
          7.146471034657223,
          3.9269107817494917,
          7.77786511554787,
          6.072339219945226,
          3.4469551895825354,
          4.484133486263586,
          3.633986928104575,
          6.894522309654075,
          7.2796934865900385,
          4.142581888246628,
          11.770319707332591,
          7.26685955931449,
          4.932959775865519,
          6.894522309654075
         ]
        },
        {
         "marker": {
          "color": "darkblue"
         },
         "mode": "markers",
         "name": "BLR: BENGALURU",
         "type": "scatter",
         "x": [
          null
         ],
         "y": [
          null
         ]
        },
        {
         "marker": {
          "color": "darkblue"
         },
         "mode": "markers",
         "name": "BLR(R): BENGALURU(R)",
         "type": "scatter",
         "x": [
          null
         ],
         "y": [
          null
         ]
        },
        {
         "marker": {
          "color": "darkblue"
         },
         "mode": "markers",
         "name": "RGA: RAMANAGARA",
         "type": "scatter",
         "x": [
          null
         ],
         "y": [
          null
         ]
        },
        {
         "marker": {
          "color": "darkblue"
         },
         "mode": "markers",
         "name": "CDA: CHITRADURGA",
         "type": "scatter",
         "x": [
          null
         ],
         "y": [
          null
         ]
        },
        {
         "marker": {
          "color": "darkblue"
         },
         "mode": "markers",
         "name": "DVG: DAVANAGERE",
         "type": "scatter",
         "x": [
          null
         ],
         "y": [
          null
         ]
        },
        {
         "marker": {
          "color": "darkblue"
         },
         "mode": "markers",
         "name": "KLR: KOLAR",
         "type": "scatter",
         "x": [
          null
         ],
         "y": [
          null
         ]
        },
        {
         "marker": {
          "color": "darkblue"
         },
         "mode": "markers",
         "name": "CKA: CHIKKABALLAPURA",
         "type": "scatter",
         "x": [
          null
         ],
         "y": [
          null
         ]
        },
        {
         "marker": {
          "color": "darkblue"
         },
         "mode": "markers",
         "name": "SMG: SHIVAMOGGA",
         "type": "scatter",
         "x": [
          null
         ],
         "y": [
          null
         ]
        },
        {
         "marker": {
          "color": "darkblue"
         },
         "mode": "markers",
         "name": "TKR: TUMAKURU",
         "type": "scatter",
         "x": [
          null
         ],
         "y": [
          null
         ]
        },
        {
         "marker": {
          "color": "darkblue"
         },
         "mode": "markers",
         "name": "CMG: CHIKKAMAGALURU",
         "type": "scatter",
         "x": [
          null
         ],
         "y": [
          null
         ]
        },
        {
         "marker": {
          "color": "darkblue"
         },
         "mode": "markers",
         "name": "DKA: DAKSHINA KANNADA",
         "type": "scatter",
         "x": [
          null
         ],
         "y": [
          null
         ]
        },
        {
         "marker": {
          "color": "darkblue"
         },
         "mode": "markers",
         "name": "UPI: UDUPI",
         "type": "scatter",
         "x": [
          null
         ],
         "y": [
          null
         ]
        },
        {
         "marker": {
          "color": "darkblue"
         },
         "mode": "markers",
         "name": "HSN: HASSAN",
         "type": "scatter",
         "x": [
          null
         ],
         "y": [
          null
         ]
        },
        {
         "marker": {
          "color": "darkblue"
         },
         "mode": "markers",
         "name": "KDG: KODAGU",
         "type": "scatter",
         "x": [
          null
         ],
         "y": [
          null
         ]
        },
        {
         "marker": {
          "color": "darkblue"
         },
         "mode": "markers",
         "name": "MDY: MANDYA",
         "type": "scatter",
         "x": [
          null
         ],
         "y": [
          null
         ]
        },
        {
         "marker": {
          "color": "darkblue"
         },
         "mode": "markers",
         "name": "MYS: MYSURU",
         "type": "scatter",
         "x": [
          null
         ],
         "y": [
          null
         ]
        },
        {
         "marker": {
          "color": "darkblue"
         },
         "mode": "markers",
         "name": "CNR: CHAMARAJANAGAR",
         "type": "scatter",
         "x": [
          null
         ],
         "y": [
          null
         ]
        },
        {
         "marker": {
          "color": "darkblue"
         },
         "mode": "markers",
         "name": "BLG: BELAGAVI",
         "type": "scatter",
         "x": [
          null
         ],
         "y": [
          null
         ]
        },
        {
         "marker": {
          "color": "darkblue"
         },
         "mode": "markers",
         "name": "VJP: VIJAYAPURA",
         "type": "scatter",
         "x": [
          null
         ],
         "y": [
          null
         ]
        },
        {
         "marker": {
          "color": "darkblue"
         },
         "mode": "markers",
         "name": "BKT: BAGALKOT",
         "type": "scatter",
         "x": [
          null
         ],
         "y": [
          null
         ]
        },
        {
         "marker": {
          "color": "darkblue"
         },
         "mode": "markers",
         "name": "DWD: DHARAWAD",
         "type": "scatter",
         "x": [
          null
         ],
         "y": [
          null
         ]
        },
        {
         "marker": {
          "color": "darkblue"
         },
         "mode": "markers",
         "name": "GDG: GADAG",
         "type": "scatter",
         "x": [
          null
         ],
         "y": [
          null
         ]
        },
        {
         "marker": {
          "color": "darkblue"
         },
         "mode": "markers",
         "name": "HVR: HAVERI",
         "type": "scatter",
         "x": [
          null
         ],
         "y": [
          null
         ]
        },
        {
         "marker": {
          "color": "darkblue"
         },
         "mode": "markers",
         "name": "UTK: UTTARA KANNADA",
         "type": "scatter",
         "x": [
          null
         ],
         "y": [
          null
         ]
        },
        {
         "marker": {
          "color": "darkblue"
         },
         "mode": "markers",
         "name": "BLL: BALLARI",
         "type": "scatter",
         "x": [
          null
         ],
         "y": [
          null
         ]
        },
        {
         "marker": {
          "color": "darkblue"
         },
         "mode": "markers",
         "name": "BDR: BIDAR",
         "type": "scatter",
         "x": [
          null
         ],
         "y": [
          null
         ]
        },
        {
         "marker": {
          "color": "darkblue"
         },
         "mode": "markers",
         "name": "KLB: KALABURAGI",
         "type": "scatter",
         "x": [
          null
         ],
         "y": [
          null
         ]
        },
        {
         "marker": {
          "color": "darkblue"
         },
         "mode": "markers",
         "name": "YDR: YADGIRI",
         "type": "scatter",
         "x": [
          null
         ],
         "y": [
          null
         ]
        },
        {
         "marker": {
          "color": "darkblue"
         },
         "mode": "markers",
         "name": "RCR: RAICHUR",
         "type": "scatter",
         "x": [
          null
         ],
         "y": [
          null
         ]
        },
        {
         "marker": {
          "color": "darkblue"
         },
         "mode": "markers",
         "name": "KPL: KOPPAL",
         "type": "scatter",
         "x": [
          null
         ],
         "y": [
          null
         ]
        },
        {
         "marker": {
          "color": "darkblue"
         },
         "mode": "markers",
         "name": "VNG: VIJAYANAGARA",
         "type": "scatter",
         "x": [
          null
         ],
         "y": [
          null
         ]
        },
        {
         "mode": "text",
         "showlegend": false,
         "text": [
          "Avg Stability: 0.74"
         ],
         "textfont": {
          "size": 10.7
         },
         "type": "scatter",
         "x": [
          0.7404358634550218
         ],
         "y": [
          1.7940932928512283
         ]
        },
        {
         "mode": "text",
         "showlegend": false,
         "text": [
          "Avg Impact (Maize): 8.57"
         ],
         "textfont": {
          "color": "green",
          "size": 10.7
         },
         "type": "scatter",
         "x": [
          0.3
         ],
         "y": [
          8.16620693598939
         ]
        },
        {
         "mode": "text",
         "showlegend": false,
         "text": [
          "Avg Impact (Groundnut): 6.18"
         ],
         "textfont": {
          "color": "darkviolet",
          "size": 10.7
         },
         "type": "scatter",
         "x": [
          0.3
         ],
         "y": [
          6.577470086302204
         ]
        }
       ],
       "layout": {
        "height": 600,
        "legend": {
         "title": {
          "text": "Districts"
         }
        },
        "shapes": [
         {
          "line": {
           "color": "darkgrey",
           "dash": "dash",
           "width": 1.5
          },
          "type": "line",
          "x0": 0.7404358634550218,
          "x1": 0.7404358634550218,
          "y0": 0,
          "y1": 1,
          "yref": "paper"
         },
         {
          "line": {
           "color": "green",
           "dash": "dash",
           "width": 1.5
          },
          "type": "line",
          "x0": 0,
          "x1": 1,
          "xref": "paper",
          "y0": 8.56620693598939,
          "y1": 8.56620693598939
         },
         {
          "line": {
           "color": "darkviolet",
           "dash": "dash",
           "width": 1.5
          },
          "type": "line",
          "x0": 0,
          "x1": 1,
          "xref": "paper",
          "y0": 6.177470086302204,
          "y1": 6.177470086302204
         }
        ],
        "template": {
         "data": {
          "bar": [
           {
            "error_x": {
             "color": "#2a3f5f"
            },
            "error_y": {
             "color": "#2a3f5f"
            },
            "marker": {
             "line": {
              "color": "#E5ECF6",
              "width": 0.5
             },
             "pattern": {
              "fillmode": "overlay",
              "size": 10,
              "solidity": 0.2
             }
            },
            "type": "bar"
           }
          ],
          "barpolar": [
           {
            "marker": {
             "line": {
              "color": "#E5ECF6",
              "width": 0.5
             },
             "pattern": {
              "fillmode": "overlay",
              "size": 10,
              "solidity": 0.2
             }
            },
            "type": "barpolar"
           }
          ],
          "carpet": [
           {
            "aaxis": {
             "endlinecolor": "#2a3f5f",
             "gridcolor": "white",
             "linecolor": "white",
             "minorgridcolor": "white",
             "startlinecolor": "#2a3f5f"
            },
            "baxis": {
             "endlinecolor": "#2a3f5f",
             "gridcolor": "white",
             "linecolor": "white",
             "minorgridcolor": "white",
             "startlinecolor": "#2a3f5f"
            },
            "type": "carpet"
           }
          ],
          "choropleth": [
           {
            "colorbar": {
             "outlinewidth": 0,
             "ticks": ""
            },
            "type": "choropleth"
           }
          ],
          "contour": [
           {
            "colorbar": {
             "outlinewidth": 0,
             "ticks": ""
            },
            "colorscale": [
             [
              0,
              "#0d0887"
             ],
             [
              0.1111111111111111,
              "#46039f"
             ],
             [
              0.2222222222222222,
              "#7201a8"
             ],
             [
              0.3333333333333333,
              "#9c179e"
             ],
             [
              0.4444444444444444,
              "#bd3786"
             ],
             [
              0.5555555555555556,
              "#d8576b"
             ],
             [
              0.6666666666666666,
              "#ed7953"
             ],
             [
              0.7777777777777778,
              "#fb9f3a"
             ],
             [
              0.8888888888888888,
              "#fdca26"
             ],
             [
              1,
              "#f0f921"
             ]
            ],
            "type": "contour"
           }
          ],
          "contourcarpet": [
           {
            "colorbar": {
             "outlinewidth": 0,
             "ticks": ""
            },
            "type": "contourcarpet"
           }
          ],
          "heatmap": [
           {
            "colorbar": {
             "outlinewidth": 0,
             "ticks": ""
            },
            "colorscale": [
             [
              0,
              "#0d0887"
             ],
             [
              0.1111111111111111,
              "#46039f"
             ],
             [
              0.2222222222222222,
              "#7201a8"
             ],
             [
              0.3333333333333333,
              "#9c179e"
             ],
             [
              0.4444444444444444,
              "#bd3786"
             ],
             [
              0.5555555555555556,
              "#d8576b"
             ],
             [
              0.6666666666666666,
              "#ed7953"
             ],
             [
              0.7777777777777778,
              "#fb9f3a"
             ],
             [
              0.8888888888888888,
              "#fdca26"
             ],
             [
              1,
              "#f0f921"
             ]
            ],
            "type": "heatmap"
           }
          ],
          "heatmapgl": [
           {
            "colorbar": {
             "outlinewidth": 0,
             "ticks": ""
            },
            "colorscale": [
             [
              0,
              "#0d0887"
             ],
             [
              0.1111111111111111,
              "#46039f"
             ],
             [
              0.2222222222222222,
              "#7201a8"
             ],
             [
              0.3333333333333333,
              "#9c179e"
             ],
             [
              0.4444444444444444,
              "#bd3786"
             ],
             [
              0.5555555555555556,
              "#d8576b"
             ],
             [
              0.6666666666666666,
              "#ed7953"
             ],
             [
              0.7777777777777778,
              "#fb9f3a"
             ],
             [
              0.8888888888888888,
              "#fdca26"
             ],
             [
              1,
              "#f0f921"
             ]
            ],
            "type": "heatmapgl"
           }
          ],
          "histogram": [
           {
            "marker": {
             "pattern": {
              "fillmode": "overlay",
              "size": 10,
              "solidity": 0.2
             }
            },
            "type": "histogram"
           }
          ],
          "histogram2d": [
           {
            "colorbar": {
             "outlinewidth": 0,
             "ticks": ""
            },
            "colorscale": [
             [
              0,
              "#0d0887"
             ],
             [
              0.1111111111111111,
              "#46039f"
             ],
             [
              0.2222222222222222,
              "#7201a8"
             ],
             [
              0.3333333333333333,
              "#9c179e"
             ],
             [
              0.4444444444444444,
              "#bd3786"
             ],
             [
              0.5555555555555556,
              "#d8576b"
             ],
             [
              0.6666666666666666,
              "#ed7953"
             ],
             [
              0.7777777777777778,
              "#fb9f3a"
             ],
             [
              0.8888888888888888,
              "#fdca26"
             ],
             [
              1,
              "#f0f921"
             ]
            ],
            "type": "histogram2d"
           }
          ],
          "histogram2dcontour": [
           {
            "colorbar": {
             "outlinewidth": 0,
             "ticks": ""
            },
            "colorscale": [
             [
              0,
              "#0d0887"
             ],
             [
              0.1111111111111111,
              "#46039f"
             ],
             [
              0.2222222222222222,
              "#7201a8"
             ],
             [
              0.3333333333333333,
              "#9c179e"
             ],
             [
              0.4444444444444444,
              "#bd3786"
             ],
             [
              0.5555555555555556,
              "#d8576b"
             ],
             [
              0.6666666666666666,
              "#ed7953"
             ],
             [
              0.7777777777777778,
              "#fb9f3a"
             ],
             [
              0.8888888888888888,
              "#fdca26"
             ],
             [
              1,
              "#f0f921"
             ]
            ],
            "type": "histogram2dcontour"
           }
          ],
          "mesh3d": [
           {
            "colorbar": {
             "outlinewidth": 0,
             "ticks": ""
            },
            "type": "mesh3d"
           }
          ],
          "parcoords": [
           {
            "line": {
             "colorbar": {
              "outlinewidth": 0,
              "ticks": ""
             }
            },
            "type": "parcoords"
           }
          ],
          "pie": [
           {
            "automargin": true,
            "type": "pie"
           }
          ],
          "scatter": [
           {
            "fillpattern": {
             "fillmode": "overlay",
             "size": 10,
             "solidity": 0.2
            },
            "type": "scatter"
           }
          ],
          "scatter3d": [
           {
            "line": {
             "colorbar": {
              "outlinewidth": 0,
              "ticks": ""
             }
            },
            "marker": {
             "colorbar": {
              "outlinewidth": 0,
              "ticks": ""
             }
            },
            "type": "scatter3d"
           }
          ],
          "scattercarpet": [
           {
            "marker": {
             "colorbar": {
              "outlinewidth": 0,
              "ticks": ""
             }
            },
            "type": "scattercarpet"
           }
          ],
          "scattergeo": [
           {
            "marker": {
             "colorbar": {
              "outlinewidth": 0,
              "ticks": ""
             }
            },
            "type": "scattergeo"
           }
          ],
          "scattergl": [
           {
            "marker": {
             "colorbar": {
              "outlinewidth": 0,
              "ticks": ""
             }
            },
            "type": "scattergl"
           }
          ],
          "scattermapbox": [
           {
            "marker": {
             "colorbar": {
              "outlinewidth": 0,
              "ticks": ""
             }
            },
            "type": "scattermapbox"
           }
          ],
          "scatterpolar": [
           {
            "marker": {
             "colorbar": {
              "outlinewidth": 0,
              "ticks": ""
             }
            },
            "type": "scatterpolar"
           }
          ],
          "scatterpolargl": [
           {
            "marker": {
             "colorbar": {
              "outlinewidth": 0,
              "ticks": ""
             }
            },
            "type": "scatterpolargl"
           }
          ],
          "scatterternary": [
           {
            "marker": {
             "colorbar": {
              "outlinewidth": 0,
              "ticks": ""
             }
            },
            "type": "scatterternary"
           }
          ],
          "surface": [
           {
            "colorbar": {
             "outlinewidth": 0,
             "ticks": ""
            },
            "colorscale": [
             [
              0,
              "#0d0887"
             ],
             [
              0.1111111111111111,
              "#46039f"
             ],
             [
              0.2222222222222222,
              "#7201a8"
             ],
             [
              0.3333333333333333,
              "#9c179e"
             ],
             [
              0.4444444444444444,
              "#bd3786"
             ],
             [
              0.5555555555555556,
              "#d8576b"
             ],
             [
              0.6666666666666666,
              "#ed7953"
             ],
             [
              0.7777777777777778,
              "#fb9f3a"
             ],
             [
              0.8888888888888888,
              "#fdca26"
             ],
             [
              1,
              "#f0f921"
             ]
            ],
            "type": "surface"
           }
          ],
          "table": [
           {
            "cells": {
             "fill": {
              "color": "#EBF0F8"
             },
             "line": {
              "color": "white"
             }
            },
            "header": {
             "fill": {
              "color": "#C8D4E3"
             },
             "line": {
              "color": "white"
             }
            },
            "type": "table"
           }
          ]
         },
         "layout": {
          "annotationdefaults": {
           "arrowcolor": "#2a3f5f",
           "arrowhead": 0,
           "arrowwidth": 1
          },
          "autotypenumbers": "strict",
          "coloraxis": {
           "colorbar": {
            "outlinewidth": 0,
            "ticks": ""
           }
          },
          "colorscale": {
           "diverging": [
            [
             0,
             "#8e0152"
            ],
            [
             0.1,
             "#c51b7d"
            ],
            [
             0.2,
             "#de77ae"
            ],
            [
             0.3,
             "#f1b6da"
            ],
            [
             0.4,
             "#fde0ef"
            ],
            [
             0.5,
             "#f7f7f7"
            ],
            [
             0.6,
             "#e6f5d0"
            ],
            [
             0.7,
             "#b8e186"
            ],
            [
             0.8,
             "#7fbc41"
            ],
            [
             0.9,
             "#4d9221"
            ],
            [
             1,
             "#276419"
            ]
           ],
           "sequential": [
            [
             0,
             "#0d0887"
            ],
            [
             0.1111111111111111,
             "#46039f"
            ],
            [
             0.2222222222222222,
             "#7201a8"
            ],
            [
             0.3333333333333333,
             "#9c179e"
            ],
            [
             0.4444444444444444,
             "#bd3786"
            ],
            [
             0.5555555555555556,
             "#d8576b"
            ],
            [
             0.6666666666666666,
             "#ed7953"
            ],
            [
             0.7777777777777778,
             "#fb9f3a"
            ],
            [
             0.8888888888888888,
             "#fdca26"
            ],
            [
             1,
             "#f0f921"
            ]
           ],
           "sequentialminus": [
            [
             0,
             "#0d0887"
            ],
            [
             0.1111111111111111,
             "#46039f"
            ],
            [
             0.2222222222222222,
             "#7201a8"
            ],
            [
             0.3333333333333333,
             "#9c179e"
            ],
            [
             0.4444444444444444,
             "#bd3786"
            ],
            [
             0.5555555555555556,
             "#d8576b"
            ],
            [
             0.6666666666666666,
             "#ed7953"
            ],
            [
             0.7777777777777778,
             "#fb9f3a"
            ],
            [
             0.8888888888888888,
             "#fdca26"
            ],
            [
             1,
             "#f0f921"
            ]
           ]
          },
          "colorway": [
           "#636efa",
           "#EF553B",
           "#00cc96",
           "#ab63fa",
           "#FFA15A",
           "#19d3f3",
           "#FF6692",
           "#B6E880",
           "#FF97FF",
           "#FECB52"
          ],
          "font": {
           "color": "#2a3f5f"
          },
          "geo": {
           "bgcolor": "white",
           "lakecolor": "white",
           "landcolor": "#E5ECF6",
           "showlakes": true,
           "showland": true,
           "subunitcolor": "white"
          },
          "hoverlabel": {
           "align": "left"
          },
          "hovermode": "closest",
          "mapbox": {
           "style": "light"
          },
          "paper_bgcolor": "white",
          "plot_bgcolor": "#E5ECF6",
          "polar": {
           "angularaxis": {
            "gridcolor": "white",
            "linecolor": "white",
            "ticks": ""
           },
           "bgcolor": "#E5ECF6",
           "radialaxis": {
            "gridcolor": "white",
            "linecolor": "white",
            "ticks": ""
           }
          },
          "scene": {
           "xaxis": {
            "backgroundcolor": "#E5ECF6",
            "gridcolor": "white",
            "gridwidth": 2,
            "linecolor": "white",
            "showbackground": true,
            "ticks": "",
            "zerolinecolor": "white"
           },
           "yaxis": {
            "backgroundcolor": "#E5ECF6",
            "gridcolor": "white",
            "gridwidth": 2,
            "linecolor": "white",
            "showbackground": true,
            "ticks": "",
            "zerolinecolor": "white"
           },
           "zaxis": {
            "backgroundcolor": "#E5ECF6",
            "gridcolor": "white",
            "gridwidth": 2,
            "linecolor": "white",
            "showbackground": true,
            "ticks": "",
            "zerolinecolor": "white"
           }
          },
          "shapedefaults": {
           "line": {
            "color": "#2a3f5f"
           }
          },
          "ternary": {
           "aaxis": {
            "gridcolor": "white",
            "linecolor": "white",
            "ticks": ""
           },
           "baxis": {
            "gridcolor": "white",
            "linecolor": "white",
            "ticks": ""
           },
           "bgcolor": "#E5ECF6",
           "caxis": {
            "gridcolor": "white",
            "linecolor": "white",
            "ticks": ""
           }
          },
          "title": {
           "x": 0.05
          },
          "xaxis": {
           "automargin": true,
           "gridcolor": "white",
           "linecolor": "white",
           "ticks": "",
           "title": {
            "standoff": 15
           },
           "zerolinecolor": "white",
           "zerolinewidth": 2
          },
          "yaxis": {
           "automargin": true,
           "gridcolor": "white",
           "linecolor": "white",
           "ticks": "",
           "title": {
            "standoff": 15
           },
           "zerolinecolor": "white",
           "zerolinewidth": 2
          }
         }
        },
        "title": {
         "text": "Impact vs Stability for Maize and Groundnut (NPK +20%)"
        },
        "width": 1080,
        "xaxis": {
         "title": {
          "text": "Stability"
         }
        },
        "yaxis": {
         "title": {
          "text": "Impact (Percentage Change)"
         }
        }
       }
      }
     },
     "metadata": {},
     "output_type": "display_data"
    }
   ],
   "source": [
    "import pandas as pd\n",
    "import plotly.graph_objects as go\n",
    "\n",
    "def Calculate_and_visualize_2D(Groundnut_Directory, Maize_Directory, adj_matrix_np, crop1, crop2, perturbation, what, visualize=True):\n",
    "    # Normalize capabilities for both crops\n",
    "    calculate_and_visualize(perturbation, crop1, Groundnut_Directory, what, False)\n",
    "    calculate_and_visualize(perturbation, crop2, Maize_Directory, what, False)\n",
    "    \n",
    "    capability_1 = Groundnut_Directory[f'{crop1[0].upper()} - {what} {perturbation}']\n",
    "    capability_2 = Maize_Directory[f'{crop2[0].upper()} - {what} {perturbation}']\n",
    "    \n",
    "    # Combine capabilities into a single DataFrame\n",
    "    combined_df = pd.DataFrame({\n",
    "        'node': Working_Directory['District'],\n",
    "        'Capability_1': capability_1,\n",
    "        'Capability_2': capability_2\n",
    "    })\n",
    "    \n",
    "    # Calculate stress and stability for the combined capabilities\n",
    "    result_df = calculate_stress_stability(adj_matrix_np, combined_df)\n",
    "    \n",
    "    # Calculate impact for each crop\n",
    "    impact1, impact_column1 = calculate_impact(crop1, perturbation, what)\n",
    "    impact2, impact_column2 = calculate_impact(crop2, perturbation, what)\n",
    "    \n",
    "    # Naming conventions for stability and stress columns\n",
    "    stability_column_name = f'Stability_{crop1[0].upper()}_{crop2[0].upper()}_{what}_{perturbation}'\n",
    "    stress_column_name = f'Stress_{crop1[0].upper()}_{crop2[0].upper()}_{what}_{perturbation}'\n",
    "    \n",
    "    # Add impacts, stability, and stress to the Working_Directory DataFrame\n",
    "    Working_Directory[impact_column1] = impact1\n",
    "    Working_Directory[impact_column2] = impact2\n",
    "    Working_Directory[stability_column_name] = result_df['stability']\n",
    "    Working_Directory[stress_column_name] = result_df['stress']\n",
    "    \n",
    "    if visualize:\n",
    "        # Prepare data for plotting\n",
    "        plot_df = pd.DataFrame({\n",
    "            'District': Working_Directory['District'],\n",
    "            'Stability': result_df['stability'],\n",
    "            f'{crop1} Impact': impact1,\n",
    "            f'{crop2} Impact': impact2,\n",
    "            'Abbreviation': Working_Directory['Abbreviation']\n",
    "        })\n",
    "        \n",
    "        # Create the scatter plot\n",
    "        fig = go.Figure()\n",
    "\n",
    "        # Plot for Crop 1\n",
    "        fig.add_trace(go.Scatter(\n",
    "            x=plot_df['Stability'],\n",
    "            y=plot_df[f'{crop1} Impact'],\n",
    "            mode='markers+text',\n",
    "            text=plot_df['Abbreviation'],\n",
    "            name=f'{crop1}',  \n",
    "            marker=dict(color='green'),\n",
    "            textposition='top right',\n",
    "            textfont=dict(size=10, color='black'),\n",
    "            hovertemplate='<b>%{text}</b><br>Stability: %{x:.2f}<br>Impact: %{y:.2f}%<extra></extra>'\n",
    "        ))\n",
    "\n",
    "        # Plot for Crop 2\n",
    "        fig.add_trace(go.Scatter(\n",
    "            x=plot_df['Stability'],\n",
    "            y=plot_df[f'{crop2} Impact'],\n",
    "            mode='markers',\n",
    "            text=plot_df['Abbreviation'],\n",
    "            name=f'{crop2}',  \n",
    "            marker=dict(color='darkviolet'),\n",
    "            hovertemplate='<b>%{text}</b><br>Stability: %{x:.2f}<br>Impact: %{y:.2f}%<extra></extra>'\n",
    "        ))\n",
    "        \n",
    "        # Adding custom legends with abbreviations and full forms\n",
    "        legend_labels = [{'Abbreviation': abb, 'Full Form': full_form} \n",
    "                         for abb, full_form in zip(plot_df['Abbreviation'].unique(), plot_df['District'].unique())]\n",
    "\n",
    "        for label in legend_labels:\n",
    "            fig.add_trace(go.Scatter(\n",
    "                x=[None],\n",
    "                y=[None],\n",
    "                mode='markers',\n",
    "                marker=dict(color='darkblue'),\n",
    "                name=f\"{label['Abbreviation']}: {label['Full Form']}\"\n",
    "            ))\n",
    "\n",
    "        # Add average lines for stability and impact\n",
    "        avg_stability = plot_df['Stability'].mean()\n",
    "        avg_impact1 = plot_df[f'{crop1} Impact'].mean()\n",
    "        avg_impact2 = plot_df[f'{crop2} Impact'].mean()\n",
    "        min_impact = min(plot_df[f'{crop1} Impact'].min(), plot_df[f'{crop2} Impact'].min())\n",
    "\n",
    "        # Average lines for stability\n",
    "        fig.add_shape(\n",
    "            type='line',\n",
    "            x0=avg_stability, y0=0, x1=avg_stability, y1=1,\n",
    "            line=dict(color='darkgrey', width=1.5, dash='dash'),\n",
    "            yref='paper'\n",
    "        )\n",
    "\n",
    "        # Average line for Crop 1 impact\n",
    "        fig.add_shape(\n",
    "            type='line',\n",
    "            x0=0, y0=avg_impact1, x1=1, y1=avg_impact1,\n",
    "            line=dict(color='green', width=1.5, dash='dash'),\n",
    "            xref='paper'\n",
    "        )\n",
    "\n",
    "        # Average line for Crop 2 impact\n",
    "        fig.add_shape(\n",
    "            type='line',\n",
    "            x0=0, y0=avg_impact2, x1=1, y1=avg_impact2,\n",
    "            line=dict(color='darkviolet', width=1.5, dash='dash'),\n",
    "            xref='paper'\n",
    "        )\n",
    "\n",
    "        # Add annotations for average values\n",
    "        fig.add_trace(go.Scatter(\n",
    "            x=[avg_stability],\n",
    "            y=[min_impact],\n",
    "            text=[f'Avg Stability: {avg_stability:.2f}'],\n",
    "            mode=\"text\",\n",
    "            showlegend=False,\n",
    "            textfont=dict(size=10.7)\n",
    "        ))\n",
    "\n",
    "        fig.add_trace(go.Scatter(\n",
    "            x=[0.3],\n",
    "            y=[avg_impact1-0.4],\n",
    "            text=[f'Avg Impact ({crop1}): {avg_impact1:.2f}'],\n",
    "            mode=\"text\",\n",
    "            showlegend=False,\n",
    "            textfont=dict(size=10.7, color='green')\n",
    "        ))\n",
    "\n",
    "        fig.add_trace(go.Scatter(\n",
    "            x=[0.3],\n",
    "            y=[avg_impact2+0.4],\n",
    "            text=[f'Avg Impact ({crop2}): {avg_impact2:.2f}'],\n",
    "            mode=\"text\",\n",
    "            showlegend=False,\n",
    "            textfont=dict(size=10.7, color='darkviolet')\n",
    "        ))\n",
    "\n",
    "        # Update layout\n",
    "        fig.update_layout(\n",
    "            title=f'Impact vs Stability for {crop1} and {crop2} ({what} +{perturbation}%)',\n",
    "            xaxis_title='Stability',\n",
    "            yaxis_title='Impact (Percentage Change)',\n",
    "            width=1080,\n",
    "            height=600,\n",
    "            legend_title='Districts'\n",
    "        )\n",
    "\n",
    "        # Show the plot\n",
    "        fig.show()\n",
    "\n",
    "# Example usage\n",
    "crop1 = 'Maize'\n",
    "crop2 = 'Groundnut'\n",
    "perturbation = 20\n",
    "what = 'NPK'\n",
    "Calculate_and_visualize_2D(Maize_Directory,Groundnut_Directory, adj_matrix_np, crop1, crop2, perturbation, what)\n"
   ]
  },
  {
   "cell_type": "code",
   "execution_count": 750,
   "metadata": {},
   "outputs": [
    {
     "data": {
      "text/html": [
       "<div>\n",
       "<style scoped>\n",
       "    .dataframe tbody tr th:only-of-type {\n",
       "        vertical-align: middle;\n",
       "    }\n",
       "\n",
       "    .dataframe tbody tr th {\n",
       "        vertical-align: top;\n",
       "    }\n",
       "\n",
       "    .dataframe thead th {\n",
       "        text-align: right;\n",
       "    }\n",
       "</style>\n",
       "<table border=\"1\" class=\"dataframe\">\n",
       "  <thead>\n",
       "    <tr style=\"text-align: right;\">\n",
       "      <th></th>\n",
       "      <th>District</th>\n",
       "      <th>Rice_Production</th>\n",
       "      <th>Maize_Production</th>\n",
       "      <th>Groundnut_Production</th>\n",
       "      <th>TotalNPK</th>\n",
       "      <th>SowingSeedsDistributed_Maize</th>\n",
       "      <th>LivestockCensus_2012_Cattle</th>\n",
       "      <th>AreaUnderCereals_Maize</th>\n",
       "      <th>AreaUnderCereals_Paddy</th>\n",
       "      <th>NetAreaIrrigated_Canals_NetAreaIrrigated</th>\n",
       "      <th>...</th>\n",
       "      <th>Rice_Ratio</th>\n",
       "      <th>Maize_Ratio</th>\n",
       "      <th>Groundnut_Ratio</th>\n",
       "      <th>Admin_Zone</th>\n",
       "      <th>KDG_District</th>\n",
       "      <th>Abbreviation</th>\n",
       "      <th>Impact_M_NPK_20</th>\n",
       "      <th>Impact_G_NPK_20</th>\n",
       "      <th>Stability_M_G_NPK_20</th>\n",
       "      <th>Stress_M_G_NPK_20</th>\n",
       "    </tr>\n",
       "  </thead>\n",
       "  <tbody>\n",
       "    <tr>\n",
       "      <th>0</th>\n",
       "      <td>BENGALURU</td>\n",
       "      <td>3376.0</td>\n",
       "      <td>2879</td>\n",
       "      <td>71.0</td>\n",
       "      <td>10.806111</td>\n",
       "      <td>4.450</td>\n",
       "      <td>2567.461578</td>\n",
       "      <td>1129.0</td>\n",
       "      <td>782.0</td>\n",
       "      <td>0</td>\n",
       "      <td>...</td>\n",
       "      <td>0.022043</td>\n",
       "      <td>0.018798</td>\n",
       "      <td>0.000464</td>\n",
       "      <td>Bengaluru Division</td>\n",
       "      <td>Bengaluru Urban</td>\n",
       "      <td>BLR</td>\n",
       "      <td>17.783953</td>\n",
       "      <td>12.676056</td>\n",
       "      <td>0.961220</td>\n",
       "      <td>0.038780</td>\n",
       "    </tr>\n",
       "    <tr>\n",
       "      <th>1</th>\n",
       "      <td>BENGALURU(R)</td>\n",
       "      <td>2354.0</td>\n",
       "      <td>42583</td>\n",
       "      <td>206.0</td>\n",
       "      <td>14.687376</td>\n",
       "      <td>134.730</td>\n",
       "      <td>25037.139270</td>\n",
       "      <td>14867.0</td>\n",
       "      <td>736.0</td>\n",
       "      <td>0</td>\n",
       "      <td>...</td>\n",
       "      <td>0.008715</td>\n",
       "      <td>0.157645</td>\n",
       "      <td>0.000763</td>\n",
       "      <td>Bengaluru Division</td>\n",
       "      <td>Bengaluru Rural</td>\n",
       "      <td>BLR(R)</td>\n",
       "      <td>8.341357</td>\n",
       "      <td>5.825243</td>\n",
       "      <td>0.986728</td>\n",
       "      <td>0.013272</td>\n",
       "    </tr>\n",
       "    <tr>\n",
       "      <th>2</th>\n",
       "      <td>RAMANAGARA</td>\n",
       "      <td>12128.0</td>\n",
       "      <td>10450</td>\n",
       "      <td>4830.0</td>\n",
       "      <td>102.712727</td>\n",
       "      <td>260.150</td>\n",
       "      <td>7729.614277</td>\n",
       "      <td>1987.0</td>\n",
       "      <td>4468.0</td>\n",
       "      <td>7895</td>\n",
       "      <td>...</td>\n",
       "      <td>0.034517</td>\n",
       "      <td>0.029741</td>\n",
       "      <td>0.013746</td>\n",
       "      <td>Bengaluru Division</td>\n",
       "      <td>Ramanagara</td>\n",
       "      <td>RGA</td>\n",
       "      <td>2.488038</td>\n",
       "      <td>1.801242</td>\n",
       "      <td>0.910420</td>\n",
       "      <td>0.089580</td>\n",
       "    </tr>\n",
       "    <tr>\n",
       "      <th>3</th>\n",
       "      <td>CHITRADURGA</td>\n",
       "      <td>4566.0</td>\n",
       "      <td>271975</td>\n",
       "      <td>68575.0</td>\n",
       "      <td>2748.901666</td>\n",
       "      <td>5004.000</td>\n",
       "      <td>83821.593090</td>\n",
       "      <td>92194.0</td>\n",
       "      <td>1297.0</td>\n",
       "      <td>1820</td>\n",
       "      <td>...</td>\n",
       "      <td>0.005101</td>\n",
       "      <td>0.303824</td>\n",
       "      <td>0.076605</td>\n",
       "      <td>Bengaluru Division</td>\n",
       "      <td>Chitradurga</td>\n",
       "      <td>CDA</td>\n",
       "      <td>4.690872</td>\n",
       "      <td>3.421072</td>\n",
       "      <td>0.803951</td>\n",
       "      <td>0.196049</td>\n",
       "    </tr>\n",
       "    <tr>\n",
       "      <th>4</th>\n",
       "      <td>DAVANAGERE</td>\n",
       "      <td>489505.0</td>\n",
       "      <td>593544</td>\n",
       "      <td>16592.0</td>\n",
       "      <td>718.500139</td>\n",
       "      <td>6124.600</td>\n",
       "      <td>85657.632090</td>\n",
       "      <td>173400.0</td>\n",
       "      <td>98259.0</td>\n",
       "      <td>84789</td>\n",
       "      <td>...</td>\n",
       "      <td>0.212733</td>\n",
       "      <td>0.257947</td>\n",
       "      <td>0.007211</td>\n",
       "      <td>Bengaluru Division</td>\n",
       "      <td>Davanagere</td>\n",
       "      <td>DVG</td>\n",
       "      <td>5.067527</td>\n",
       "      <td>3.694552</td>\n",
       "      <td>0.134256</td>\n",
       "      <td>0.865744</td>\n",
       "    </tr>\n",
       "    <tr>\n",
       "      <th>5</th>\n",
       "      <td>KOLAR</td>\n",
       "      <td>864.0</td>\n",
       "      <td>1759</td>\n",
       "      <td>5810.0</td>\n",
       "      <td>729.248826</td>\n",
       "      <td>51.500</td>\n",
       "      <td>2278.829821</td>\n",
       "      <td>640.0</td>\n",
       "      <td>395.0</td>\n",
       "      <td>0</td>\n",
       "      <td>...</td>\n",
       "      <td>0.004887</td>\n",
       "      <td>0.009950</td>\n",
       "      <td>0.032864</td>\n",
       "      <td>Bengaluru Division</td>\n",
       "      <td>Kolar</td>\n",
       "      <td>KLR</td>\n",
       "      <td>14.667425</td>\n",
       "      <td>10.705680</td>\n",
       "      <td>0.847343</td>\n",
       "      <td>0.152657</td>\n",
       "    </tr>\n",
       "    <tr>\n",
       "      <th>6</th>\n",
       "      <td>CHIKKABALLAPURA</td>\n",
       "      <td>2698.0</td>\n",
       "      <td>105491</td>\n",
       "      <td>7132.0</td>\n",
       "      <td>554.173035</td>\n",
       "      <td>3538.150</td>\n",
       "      <td>71206.945310</td>\n",
       "      <td>59377.0</td>\n",
       "      <td>1333.0</td>\n",
       "      <td>0</td>\n",
       "      <td>...</td>\n",
       "      <td>0.007393</td>\n",
       "      <td>0.289061</td>\n",
       "      <td>0.019543</td>\n",
       "      <td>Bengaluru Division</td>\n",
       "      <td>Chikkaballapura</td>\n",
       "      <td>CKA</td>\n",
       "      <td>9.092719</td>\n",
       "      <td>6.632081</td>\n",
       "      <td>0.852684</td>\n",
       "      <td>0.147316</td>\n",
       "    </tr>\n",
       "    <tr>\n",
       "      <th>7</th>\n",
       "      <td>SHIVAMOGGA</td>\n",
       "      <td>384974.0</td>\n",
       "      <td>226532</td>\n",
       "      <td>248.0</td>\n",
       "      <td>11.416511</td>\n",
       "      <td>3814.020</td>\n",
       "      <td>104722.000400</td>\n",
       "      <td>43827.0</td>\n",
       "      <td>109617.0</td>\n",
       "      <td>42502</td>\n",
       "      <td>...</td>\n",
       "      <td>0.313060</td>\n",
       "      <td>0.184215</td>\n",
       "      <td>0.000202</td>\n",
       "      <td>Bengaluru Division</td>\n",
       "      <td>Shivamogga</td>\n",
       "      <td>SMG</td>\n",
       "      <td>5.386877</td>\n",
       "      <td>3.629032</td>\n",
       "      <td>0.989850</td>\n",
       "      <td>0.010150</td>\n",
       "    </tr>\n",
       "    <tr>\n",
       "      <th>8</th>\n",
       "      <td>TUMAKURU</td>\n",
       "      <td>26042.0</td>\n",
       "      <td>66868</td>\n",
       "      <td>39626.0</td>\n",
       "      <td>1627.466413</td>\n",
       "      <td>1639.850</td>\n",
       "      <td>37944.093760</td>\n",
       "      <td>24207.0</td>\n",
       "      <td>10379.0</td>\n",
       "      <td>4099</td>\n",
       "      <td>...</td>\n",
       "      <td>0.028037</td>\n",
       "      <td>0.071991</td>\n",
       "      <td>0.042662</td>\n",
       "      <td>Bengaluru Division</td>\n",
       "      <td>Tumakuru</td>\n",
       "      <td>TKR</td>\n",
       "      <td>4.804989</td>\n",
       "      <td>3.505274</td>\n",
       "      <td>0.875815</td>\n",
       "      <td>0.124185</td>\n",
       "    </tr>\n",
       "    <tr>\n",
       "      <th>9</th>\n",
       "      <td>CHIKKAMAGALURU</td>\n",
       "      <td>110533.0</td>\n",
       "      <td>61353</td>\n",
       "      <td>3909.0</td>\n",
       "      <td>519.663897</td>\n",
       "      <td>2923.790</td>\n",
       "      <td>40572.445630</td>\n",
       "      <td>25831.0</td>\n",
       "      <td>33036.0</td>\n",
       "      <td>6210</td>\n",
       "      <td>...</td>\n",
       "      <td>0.216529</td>\n",
       "      <td>0.120188</td>\n",
       "      <td>0.007658</td>\n",
       "      <td>Mysuru Division</td>\n",
       "      <td>Chikkamagaluru</td>\n",
       "      <td>CMG</td>\n",
       "      <td>15.555882</td>\n",
       "      <td>11.332822</td>\n",
       "      <td>0.686299</td>\n",
       "      <td>0.313701</td>\n",
       "    </tr>\n",
       "    <tr>\n",
       "      <th>10</th>\n",
       "      <td>DAKSHINA KANNADA</td>\n",
       "      <td>132588.0</td>\n",
       "      <td>0</td>\n",
       "      <td>0.0</td>\n",
       "      <td>0.000000</td>\n",
       "      <td>0.000</td>\n",
       "      <td>0.000000</td>\n",
       "      <td>0.0</td>\n",
       "      <td>48689.0</td>\n",
       "      <td>0</td>\n",
       "      <td>...</td>\n",
       "      <td>0.478723</td>\n",
       "      <td>0.000000</td>\n",
       "      <td>0.000000</td>\n",
       "      <td>Mysuru Division</td>\n",
       "      <td>Dakshina Kannada</td>\n",
       "      <td>DKA</td>\n",
       "      <td>NaN</td>\n",
       "      <td>NaN</td>\n",
       "      <td>0.776817</td>\n",
       "      <td>0.223183</td>\n",
       "    </tr>\n",
       "    <tr>\n",
       "      <th>11</th>\n",
       "      <td>UDUPI</td>\n",
       "      <td>138156.0</td>\n",
       "      <td>109</td>\n",
       "      <td>3623.0</td>\n",
       "      <td>76.610263</td>\n",
       "      <td>0.000</td>\n",
       "      <td>94.499008</td>\n",
       "      <td>8.0</td>\n",
       "      <td>49608.0</td>\n",
       "      <td>0</td>\n",
       "      <td>...</td>\n",
       "      <td>0.475176</td>\n",
       "      <td>0.000375</td>\n",
       "      <td>0.012461</td>\n",
       "      <td>Mysuru Division</td>\n",
       "      <td>Udupi</td>\n",
       "      <td>UPI</td>\n",
       "      <td>1.834862</td>\n",
       "      <td>1.794093</td>\n",
       "      <td>0.836694</td>\n",
       "      <td>0.163306</td>\n",
       "    </tr>\n",
       "    <tr>\n",
       "      <th>12</th>\n",
       "      <td>HASSAN</td>\n",
       "      <td>143705.0</td>\n",
       "      <td>333937</td>\n",
       "      <td>521.0</td>\n",
       "      <td>26.584241</td>\n",
       "      <td>8925.330</td>\n",
       "      <td>151008.140300</td>\n",
       "      <td>79058.0</td>\n",
       "      <td>42818.0</td>\n",
       "      <td>36097</td>\n",
       "      <td>...</td>\n",
       "      <td>0.107153</td>\n",
       "      <td>0.248999</td>\n",
       "      <td>0.000388</td>\n",
       "      <td>Mysuru Division</td>\n",
       "      <td>Hassan</td>\n",
       "      <td>HSN</td>\n",
       "      <td>5.971186</td>\n",
       "      <td>4.222649</td>\n",
       "      <td>0.377921</td>\n",
       "      <td>0.622079</td>\n",
       "    </tr>\n",
       "    <tr>\n",
       "      <th>13</th>\n",
       "      <td>KODAGU</td>\n",
       "      <td>86303.0</td>\n",
       "      <td>17921</td>\n",
       "      <td>45.0</td>\n",
       "      <td>8.836338</td>\n",
       "      <td>246.410</td>\n",
       "      <td>7599.582730</td>\n",
       "      <td>3448.0</td>\n",
       "      <td>28336.0</td>\n",
       "      <td>1226</td>\n",
       "      <td>...</td>\n",
       "      <td>0.413870</td>\n",
       "      <td>0.085941</td>\n",
       "      <td>0.000216</td>\n",
       "      <td>Mysuru Division</td>\n",
       "      <td>Kodagu</td>\n",
       "      <td>KDG</td>\n",
       "      <td>22.978628</td>\n",
       "      <td>15.555556</td>\n",
       "      <td>0.707402</td>\n",
       "      <td>0.292598</td>\n",
       "    </tr>\n",
       "    <tr>\n",
       "      <th>14</th>\n",
       "      <td>MANDYA</td>\n",
       "      <td>246543.0</td>\n",
       "      <td>19387</td>\n",
       "      <td>1021.0</td>\n",
       "      <td>76.301428</td>\n",
       "      <td>794.030</td>\n",
       "      <td>8774.134623</td>\n",
       "      <td>4892.0</td>\n",
       "      <td>58487.0</td>\n",
       "      <td>90672</td>\n",
       "      <td>...</td>\n",
       "      <td>0.304248</td>\n",
       "      <td>0.023925</td>\n",
       "      <td>0.001260</td>\n",
       "      <td>Mysuru Division</td>\n",
       "      <td>Mandya</td>\n",
       "      <td>MDY</td>\n",
       "      <td>8.742972</td>\n",
       "      <td>6.366308</td>\n",
       "      <td>0.745139</td>\n",
       "      <td>0.254861</td>\n",
       "    </tr>\n",
       "    <tr>\n",
       "      <th>15</th>\n",
       "      <td>MYSURU</td>\n",
       "      <td>354227.0</td>\n",
       "      <td>137154</td>\n",
       "      <td>2170.0</td>\n",
       "      <td>109.886472</td>\n",
       "      <td>1573.430</td>\n",
       "      <td>61547.727440</td>\n",
       "      <td>37283.0</td>\n",
       "      <td>93521.0</td>\n",
       "      <td>91797</td>\n",
       "      <td>...</td>\n",
       "      <td>0.289252</td>\n",
       "      <td>0.111996</td>\n",
       "      <td>0.001772</td>\n",
       "      <td>Mysuru Division</td>\n",
       "      <td>Mysuru</td>\n",
       "      <td>MYS</td>\n",
       "      <td>5.925456</td>\n",
       "      <td>4.285714</td>\n",
       "      <td>1.000000</td>\n",
       "      <td>0.000000</td>\n",
       "    </tr>\n",
       "    <tr>\n",
       "      <th>16</th>\n",
       "      <td>CHAMARAJANAGAR</td>\n",
       "      <td>45856.0</td>\n",
       "      <td>147886</td>\n",
       "      <td>8867.0</td>\n",
       "      <td>437.077444</td>\n",
       "      <td>2054.600</td>\n",
       "      <td>80396.926680</td>\n",
       "      <td>38569.0</td>\n",
       "      <td>13881.0</td>\n",
       "      <td>21040</td>\n",
       "      <td>...</td>\n",
       "      <td>0.094961</td>\n",
       "      <td>0.306251</td>\n",
       "      <td>0.018362</td>\n",
       "      <td>Mysuru Division</td>\n",
       "      <td>Chamarajanagara</td>\n",
       "      <td>CNR</td>\n",
       "      <td>5.767956</td>\n",
       "      <td>4.206609</td>\n",
       "      <td>0.806937</td>\n",
       "      <td>0.193063</td>\n",
       "    </tr>\n",
       "    <tr>\n",
       "      <th>17</th>\n",
       "      <td>BELAGAVI</td>\n",
       "      <td>177552.0</td>\n",
       "      <td>576758</td>\n",
       "      <td>39530.0</td>\n",
       "      <td>3309.632223</td>\n",
       "      <td>11883.580</td>\n",
       "      <td>159047.086200</td>\n",
       "      <td>131163.0</td>\n",
       "      <td>61230.0</td>\n",
       "      <td>59908</td>\n",
       "      <td>...</td>\n",
       "      <td>0.082590</td>\n",
       "      <td>0.268283</td>\n",
       "      <td>0.018388</td>\n",
       "      <td>Belagavi Division</td>\n",
       "      <td>Belagavi</td>\n",
       "      <td>BLG</td>\n",
       "      <td>9.797697</td>\n",
       "      <td>7.146471</td>\n",
       "      <td>0.000000</td>\n",
       "      <td>1.000000</td>\n",
       "    </tr>\n",
       "    <tr>\n",
       "      <th>18</th>\n",
       "      <td>VIJAYAPURA</td>\n",
       "      <td>170.0</td>\n",
       "      <td>226327</td>\n",
       "      <td>27528.0</td>\n",
       "      <td>1267.386271</td>\n",
       "      <td>2682.760</td>\n",
       "      <td>48619.507080</td>\n",
       "      <td>40207.0</td>\n",
       "      <td>51.0</td>\n",
       "      <td>87422</td>\n",
       "      <td>...</td>\n",
       "      <td>0.000144</td>\n",
       "      <td>0.192153</td>\n",
       "      <td>0.023371</td>\n",
       "      <td>Belagavi Division</td>\n",
       "      <td>Vijayapura</td>\n",
       "      <td>VJP</td>\n",
       "      <td>5.387338</td>\n",
       "      <td>3.926911</td>\n",
       "      <td>0.903413</td>\n",
       "      <td>0.096587</td>\n",
       "    </tr>\n",
       "    <tr>\n",
       "      <th>19</th>\n",
       "      <td>BAGALKOT</td>\n",
       "      <td>85.0</td>\n",
       "      <td>251699</td>\n",
       "      <td>25444.0</td>\n",
       "      <td>2319.034334</td>\n",
       "      <td>5678.150</td>\n",
       "      <td>75578.052000</td>\n",
       "      <td>44300.0</td>\n",
       "      <td>32.0</td>\n",
       "      <td>2026</td>\n",
       "      <td>...</td>\n",
       "      <td>0.000091</td>\n",
       "      <td>0.270487</td>\n",
       "      <td>0.027343</td>\n",
       "      <td>Belagavi Division</td>\n",
       "      <td>Bagalkote</td>\n",
       "      <td>BKT</td>\n",
       "      <td>10.665517</td>\n",
       "      <td>7.777865</td>\n",
       "      <td>0.940660</td>\n",
       "      <td>0.059340</td>\n",
       "    </tr>\n",
       "    <tr>\n",
       "      <th>20</th>\n",
       "      <td>DHARAWAD</td>\n",
       "      <td>33989.0</td>\n",
       "      <td>90634</td>\n",
       "      <td>21178.0</td>\n",
       "      <td>1506.608212</td>\n",
       "      <td>2471.350</td>\n",
       "      <td>33424.645600</td>\n",
       "      <td>30900.0</td>\n",
       "      <td>23909.0</td>\n",
       "      <td>15779</td>\n",
       "      <td>...</td>\n",
       "      <td>0.064685</td>\n",
       "      <td>0.172487</td>\n",
       "      <td>0.040304</td>\n",
       "      <td>Belagavi Division</td>\n",
       "      <td>Dharwad</td>\n",
       "      <td>DWD</td>\n",
       "      <td>8.324691</td>\n",
       "      <td>6.072339</td>\n",
       "      <td>0.562380</td>\n",
       "      <td>0.437620</td>\n",
       "    </tr>\n",
       "    <tr>\n",
       "      <th>21</th>\n",
       "      <td>GADAG</td>\n",
       "      <td>7258.0</td>\n",
       "      <td>138476</td>\n",
       "      <td>31332.0</td>\n",
       "      <td>1265.091872</td>\n",
       "      <td>4111.000</td>\n",
       "      <td>34261.981770</td>\n",
       "      <td>34163.0</td>\n",
       "      <td>1706.0</td>\n",
       "      <td>30537</td>\n",
       "      <td>...</td>\n",
       "      <td>0.012588</td>\n",
       "      <td>0.240174</td>\n",
       "      <td>0.054342</td>\n",
       "      <td>Belagavi Division</td>\n",
       "      <td>Gadag</td>\n",
       "      <td>GDG</td>\n",
       "      <td>4.725006</td>\n",
       "      <td>3.446955</td>\n",
       "      <td>0.751538</td>\n",
       "      <td>0.248462</td>\n",
       "    </tr>\n",
       "    <tr>\n",
       "      <th>22</th>\n",
       "      <td>HAVERI</td>\n",
       "      <td>125422.0</td>\n",
       "      <td>413487</td>\n",
       "      <td>18309.0</td>\n",
       "      <td>962.245499</td>\n",
       "      <td>11325.600</td>\n",
       "      <td>95150.640270</td>\n",
       "      <td>170696.0</td>\n",
       "      <td>44968.0</td>\n",
       "      <td>5134</td>\n",
       "      <td>...</td>\n",
       "      <td>0.101409</td>\n",
       "      <td>0.334321</td>\n",
       "      <td>0.014804</td>\n",
       "      <td>Belagavi Division</td>\n",
       "      <td>Haveri</td>\n",
       "      <td>HVR</td>\n",
       "      <td>6.150133</td>\n",
       "      <td>4.484133</td>\n",
       "      <td>0.493427</td>\n",
       "      <td>0.506573</td>\n",
       "    </tr>\n",
       "    <tr>\n",
       "      <th>23</th>\n",
       "      <td>UTTARA KANNADA</td>\n",
       "      <td>152981.0</td>\n",
       "      <td>24088</td>\n",
       "      <td>3825.0</td>\n",
       "      <td>162.860526</td>\n",
       "      <td>1469.200</td>\n",
       "      <td>22563.771080</td>\n",
       "      <td>4576.0</td>\n",
       "      <td>66147.0</td>\n",
       "      <td>0</td>\n",
       "      <td>...</td>\n",
       "      <td>0.425282</td>\n",
       "      <td>0.066964</td>\n",
       "      <td>0.010633</td>\n",
       "      <td>Belagavi Division</td>\n",
       "      <td>Uttara Kannada</td>\n",
       "      <td>UTK</td>\n",
       "      <td>4.981734</td>\n",
       "      <td>3.633987</td>\n",
       "      <td>0.467702</td>\n",
       "      <td>0.532298</td>\n",
       "    </tr>\n",
       "    <tr>\n",
       "      <th>24</th>\n",
       "      <td>BALLARI</td>\n",
       "      <td>206115.5</td>\n",
       "      <td>104045</td>\n",
       "      <td>22938.5</td>\n",
       "      <td>1852.839641</td>\n",
       "      <td>2859.005</td>\n",
       "      <td>23446.847900</td>\n",
       "      <td>49869.5</td>\n",
       "      <td>46832.5</td>\n",
       "      <td>77607</td>\n",
       "      <td>...</td>\n",
       "      <td>0.269990</td>\n",
       "      <td>0.136288</td>\n",
       "      <td>0.030047</td>\n",
       "      <td>Kalaburagi Division</td>\n",
       "      <td>Ballari</td>\n",
       "      <td>BLL</td>\n",
       "      <td>9.451680</td>\n",
       "      <td>6.894522</td>\n",
       "      <td>0.706225</td>\n",
       "      <td>0.293775</td>\n",
       "    </tr>\n",
       "    <tr>\n",
       "      <th>25</th>\n",
       "      <td>BIDAR</td>\n",
       "      <td>2036.0</td>\n",
       "      <td>2791</td>\n",
       "      <td>261.0</td>\n",
       "      <td>23.320849</td>\n",
       "      <td>24.550</td>\n",
       "      <td>2371.831678</td>\n",
       "      <td>1382.0</td>\n",
       "      <td>1548.0</td>\n",
       "      <td>0</td>\n",
       "      <td>...</td>\n",
       "      <td>0.007378</td>\n",
       "      <td>0.010114</td>\n",
       "      <td>0.000946</td>\n",
       "      <td>Kalaburagi Division</td>\n",
       "      <td>Bidar</td>\n",
       "      <td>BDR</td>\n",
       "      <td>10.426370</td>\n",
       "      <td>7.279693</td>\n",
       "      <td>0.987701</td>\n",
       "      <td>0.012299</td>\n",
       "    </tr>\n",
       "    <tr>\n",
       "      <th>26</th>\n",
       "      <td>KALABURAGI</td>\n",
       "      <td>7888.0</td>\n",
       "      <td>14621</td>\n",
       "      <td>3114.0</td>\n",
       "      <td>151.238385</td>\n",
       "      <td>165.000</td>\n",
       "      <td>6221.617910</td>\n",
       "      <td>2634.0</td>\n",
       "      <td>4199.0</td>\n",
       "      <td>20864</td>\n",
       "      <td>...</td>\n",
       "      <td>0.007095</td>\n",
       "      <td>0.013150</td>\n",
       "      <td>0.002801</td>\n",
       "      <td>Kalaburagi Division</td>\n",
       "      <td>Kalaburagi</td>\n",
       "      <td>KLB</td>\n",
       "      <td>5.676766</td>\n",
       "      <td>4.142582</td>\n",
       "      <td>0.868812</td>\n",
       "      <td>0.131188</td>\n",
       "    </tr>\n",
       "    <tr>\n",
       "      <th>27</th>\n",
       "      <td>YADGIRI</td>\n",
       "      <td>224659.0</td>\n",
       "      <td>2673</td>\n",
       "      <td>31435.0</td>\n",
       "      <td>4335.013151</td>\n",
       "      <td>0.000</td>\n",
       "      <td>1253.317144</td>\n",
       "      <td>961.0</td>\n",
       "      <td>49358.0</td>\n",
       "      <td>91141</td>\n",
       "      <td>...</td>\n",
       "      <td>0.339006</td>\n",
       "      <td>0.004033</td>\n",
       "      <td>0.047435</td>\n",
       "      <td>Kalaburagi Division</td>\n",
       "      <td>Yadgir</td>\n",
       "      <td>YDR</td>\n",
       "      <td>16.124205</td>\n",
       "      <td>11.770320</td>\n",
       "      <td>0.837702</td>\n",
       "      <td>0.162298</td>\n",
       "    </tr>\n",
       "    <tr>\n",
       "      <th>28</th>\n",
       "      <td>RAICHUR</td>\n",
       "      <td>492342.0</td>\n",
       "      <td>723</td>\n",
       "      <td>26958.0</td>\n",
       "      <td>2294.879709</td>\n",
       "      <td>14.350</td>\n",
       "      <td>188.537479</td>\n",
       "      <td>2600.0</td>\n",
       "      <td>115246.0</td>\n",
       "      <td>111512</td>\n",
       "      <td>...</td>\n",
       "      <td>0.357505</td>\n",
       "      <td>0.000525</td>\n",
       "      <td>0.019575</td>\n",
       "      <td>Kalaburagi Division</td>\n",
       "      <td>Raichur</td>\n",
       "      <td>RCR</td>\n",
       "      <td>9.958506</td>\n",
       "      <td>7.266860</td>\n",
       "      <td>0.659937</td>\n",
       "      <td>0.340063</td>\n",
       "    </tr>\n",
       "    <tr>\n",
       "      <th>29</th>\n",
       "      <td>KOPPAL</td>\n",
       "      <td>243505.0</td>\n",
       "      <td>190252</td>\n",
       "      <td>29982.0</td>\n",
       "      <td>1733.114796</td>\n",
       "      <td>5292.000</td>\n",
       "      <td>38936.400170</td>\n",
       "      <td>48210.0</td>\n",
       "      <td>50753.0</td>\n",
       "      <td>37736</td>\n",
       "      <td>...</td>\n",
       "      <td>0.191373</td>\n",
       "      <td>0.149521</td>\n",
       "      <td>0.023563</td>\n",
       "      <td>Kalaburagi Division</td>\n",
       "      <td>Koppal</td>\n",
       "      <td>KPL</td>\n",
       "      <td>6.764186</td>\n",
       "      <td>4.932960</td>\n",
       "      <td>0.859757</td>\n",
       "      <td>0.140243</td>\n",
       "    </tr>\n",
       "    <tr>\n",
       "      <th>30</th>\n",
       "      <td>VIJAYANAGARA</td>\n",
       "      <td>206115.5</td>\n",
       "      <td>104045</td>\n",
       "      <td>22938.5</td>\n",
       "      <td>1852.839641</td>\n",
       "      <td>2859.005</td>\n",
       "      <td>23446.847900</td>\n",
       "      <td>49869.5</td>\n",
       "      <td>46832.5</td>\n",
       "      <td>77607</td>\n",
       "      <td>...</td>\n",
       "      <td>0.269990</td>\n",
       "      <td>0.136288</td>\n",
       "      <td>0.030047</td>\n",
       "      <td>Kalaburagi Division</td>\n",
       "      <td>Vijayanagara</td>\n",
       "      <td>VNG</td>\n",
       "      <td>9.451680</td>\n",
       "      <td>6.894522</td>\n",
       "      <td>0.614784</td>\n",
       "      <td>0.385216</td>\n",
       "    </tr>\n",
       "  </tbody>\n",
       "</table>\n",
       "<p>31 rows × 24 columns</p>\n",
       "</div>"
      ],
      "text/plain": [
       "            District  Rice_Production  Maize_Production  Groundnut_Production  \\\n",
       "0          BENGALURU           3376.0              2879                  71.0   \n",
       "1       BENGALURU(R)           2354.0             42583                 206.0   \n",
       "2         RAMANAGARA          12128.0             10450                4830.0   \n",
       "3        CHITRADURGA           4566.0            271975               68575.0   \n",
       "4         DAVANAGERE         489505.0            593544               16592.0   \n",
       "5              KOLAR            864.0              1759                5810.0   \n",
       "6    CHIKKABALLAPURA           2698.0            105491                7132.0   \n",
       "7         SHIVAMOGGA         384974.0            226532                 248.0   \n",
       "8           TUMAKURU          26042.0             66868               39626.0   \n",
       "9     CHIKKAMAGALURU         110533.0             61353                3909.0   \n",
       "10  DAKSHINA KANNADA         132588.0                 0                   0.0   \n",
       "11             UDUPI         138156.0               109                3623.0   \n",
       "12            HASSAN         143705.0            333937                 521.0   \n",
       "13            KODAGU          86303.0             17921                  45.0   \n",
       "14            MANDYA         246543.0             19387                1021.0   \n",
       "15            MYSURU         354227.0            137154                2170.0   \n",
       "16    CHAMARAJANAGAR          45856.0            147886                8867.0   \n",
       "17          BELAGAVI         177552.0            576758               39530.0   \n",
       "18        VIJAYAPURA            170.0            226327               27528.0   \n",
       "19          BAGALKOT             85.0            251699               25444.0   \n",
       "20          DHARAWAD          33989.0             90634               21178.0   \n",
       "21             GADAG           7258.0            138476               31332.0   \n",
       "22            HAVERI         125422.0            413487               18309.0   \n",
       "23    UTTARA KANNADA         152981.0             24088                3825.0   \n",
       "24           BALLARI         206115.5            104045               22938.5   \n",
       "25             BIDAR           2036.0              2791                 261.0   \n",
       "26        KALABURAGI           7888.0             14621                3114.0   \n",
       "27           YADGIRI         224659.0              2673               31435.0   \n",
       "28           RAICHUR         492342.0               723               26958.0   \n",
       "29            KOPPAL         243505.0            190252               29982.0   \n",
       "30      VIJAYANAGARA         206115.5            104045               22938.5   \n",
       "\n",
       "       TotalNPK  SowingSeedsDistributed_Maize  LivestockCensus_2012_Cattle  \\\n",
       "0     10.806111                         4.450                  2567.461578   \n",
       "1     14.687376                       134.730                 25037.139270   \n",
       "2    102.712727                       260.150                  7729.614277   \n",
       "3   2748.901666                      5004.000                 83821.593090   \n",
       "4    718.500139                      6124.600                 85657.632090   \n",
       "5    729.248826                        51.500                  2278.829821   \n",
       "6    554.173035                      3538.150                 71206.945310   \n",
       "7     11.416511                      3814.020                104722.000400   \n",
       "8   1627.466413                      1639.850                 37944.093760   \n",
       "9    519.663897                      2923.790                 40572.445630   \n",
       "10     0.000000                         0.000                     0.000000   \n",
       "11    76.610263                         0.000                    94.499008   \n",
       "12    26.584241                      8925.330                151008.140300   \n",
       "13     8.836338                       246.410                  7599.582730   \n",
       "14    76.301428                       794.030                  8774.134623   \n",
       "15   109.886472                      1573.430                 61547.727440   \n",
       "16   437.077444                      2054.600                 80396.926680   \n",
       "17  3309.632223                     11883.580                159047.086200   \n",
       "18  1267.386271                      2682.760                 48619.507080   \n",
       "19  2319.034334                      5678.150                 75578.052000   \n",
       "20  1506.608212                      2471.350                 33424.645600   \n",
       "21  1265.091872                      4111.000                 34261.981770   \n",
       "22   962.245499                     11325.600                 95150.640270   \n",
       "23   162.860526                      1469.200                 22563.771080   \n",
       "24  1852.839641                      2859.005                 23446.847900   \n",
       "25    23.320849                        24.550                  2371.831678   \n",
       "26   151.238385                       165.000                  6221.617910   \n",
       "27  4335.013151                         0.000                  1253.317144   \n",
       "28  2294.879709                        14.350                   188.537479   \n",
       "29  1733.114796                      5292.000                 38936.400170   \n",
       "30  1852.839641                      2859.005                 23446.847900   \n",
       "\n",
       "    AreaUnderCereals_Maize  AreaUnderCereals_Paddy  \\\n",
       "0                   1129.0                   782.0   \n",
       "1                  14867.0                   736.0   \n",
       "2                   1987.0                  4468.0   \n",
       "3                  92194.0                  1297.0   \n",
       "4                 173400.0                 98259.0   \n",
       "5                    640.0                   395.0   \n",
       "6                  59377.0                  1333.0   \n",
       "7                  43827.0                109617.0   \n",
       "8                  24207.0                 10379.0   \n",
       "9                  25831.0                 33036.0   \n",
       "10                     0.0                 48689.0   \n",
       "11                     8.0                 49608.0   \n",
       "12                 79058.0                 42818.0   \n",
       "13                  3448.0                 28336.0   \n",
       "14                  4892.0                 58487.0   \n",
       "15                 37283.0                 93521.0   \n",
       "16                 38569.0                 13881.0   \n",
       "17                131163.0                 61230.0   \n",
       "18                 40207.0                    51.0   \n",
       "19                 44300.0                    32.0   \n",
       "20                 30900.0                 23909.0   \n",
       "21                 34163.0                  1706.0   \n",
       "22                170696.0                 44968.0   \n",
       "23                  4576.0                 66147.0   \n",
       "24                 49869.5                 46832.5   \n",
       "25                  1382.0                  1548.0   \n",
       "26                  2634.0                  4199.0   \n",
       "27                   961.0                 49358.0   \n",
       "28                  2600.0                115246.0   \n",
       "29                 48210.0                 50753.0   \n",
       "30                 49869.5                 46832.5   \n",
       "\n",
       "    NetAreaIrrigated_Canals_NetAreaIrrigated  ...  Rice_Ratio  Maize_Ratio  \\\n",
       "0                                          0  ...    0.022043     0.018798   \n",
       "1                                          0  ...    0.008715     0.157645   \n",
       "2                                       7895  ...    0.034517     0.029741   \n",
       "3                                       1820  ...    0.005101     0.303824   \n",
       "4                                      84789  ...    0.212733     0.257947   \n",
       "5                                          0  ...    0.004887     0.009950   \n",
       "6                                          0  ...    0.007393     0.289061   \n",
       "7                                      42502  ...    0.313060     0.184215   \n",
       "8                                       4099  ...    0.028037     0.071991   \n",
       "9                                       6210  ...    0.216529     0.120188   \n",
       "10                                         0  ...    0.478723     0.000000   \n",
       "11                                         0  ...    0.475176     0.000375   \n",
       "12                                     36097  ...    0.107153     0.248999   \n",
       "13                                      1226  ...    0.413870     0.085941   \n",
       "14                                     90672  ...    0.304248     0.023925   \n",
       "15                                     91797  ...    0.289252     0.111996   \n",
       "16                                     21040  ...    0.094961     0.306251   \n",
       "17                                     59908  ...    0.082590     0.268283   \n",
       "18                                     87422  ...    0.000144     0.192153   \n",
       "19                                      2026  ...    0.000091     0.270487   \n",
       "20                                     15779  ...    0.064685     0.172487   \n",
       "21                                     30537  ...    0.012588     0.240174   \n",
       "22                                      5134  ...    0.101409     0.334321   \n",
       "23                                         0  ...    0.425282     0.066964   \n",
       "24                                     77607  ...    0.269990     0.136288   \n",
       "25                                         0  ...    0.007378     0.010114   \n",
       "26                                     20864  ...    0.007095     0.013150   \n",
       "27                                     91141  ...    0.339006     0.004033   \n",
       "28                                    111512  ...    0.357505     0.000525   \n",
       "29                                     37736  ...    0.191373     0.149521   \n",
       "30                                     77607  ...    0.269990     0.136288   \n",
       "\n",
       "    Groundnut_Ratio           Admin_Zone      KDG_District  Abbreviation  \\\n",
       "0          0.000464   Bengaluru Division   Bengaluru Urban           BLR   \n",
       "1          0.000763   Bengaluru Division   Bengaluru Rural        BLR(R)   \n",
       "2          0.013746   Bengaluru Division        Ramanagara           RGA   \n",
       "3          0.076605   Bengaluru Division       Chitradurga           CDA   \n",
       "4          0.007211   Bengaluru Division        Davanagere           DVG   \n",
       "5          0.032864   Bengaluru Division             Kolar           KLR   \n",
       "6          0.019543   Bengaluru Division   Chikkaballapura           CKA   \n",
       "7          0.000202   Bengaluru Division        Shivamogga           SMG   \n",
       "8          0.042662   Bengaluru Division          Tumakuru           TKR   \n",
       "9          0.007658      Mysuru Division    Chikkamagaluru           CMG   \n",
       "10         0.000000      Mysuru Division  Dakshina Kannada           DKA   \n",
       "11         0.012461      Mysuru Division             Udupi           UPI   \n",
       "12         0.000388      Mysuru Division            Hassan           HSN   \n",
       "13         0.000216      Mysuru Division            Kodagu           KDG   \n",
       "14         0.001260      Mysuru Division            Mandya           MDY   \n",
       "15         0.001772      Mysuru Division            Mysuru           MYS   \n",
       "16         0.018362      Mysuru Division   Chamarajanagara           CNR   \n",
       "17         0.018388    Belagavi Division          Belagavi           BLG   \n",
       "18         0.023371    Belagavi Division        Vijayapura           VJP   \n",
       "19         0.027343    Belagavi Division         Bagalkote           BKT   \n",
       "20         0.040304    Belagavi Division           Dharwad           DWD   \n",
       "21         0.054342    Belagavi Division             Gadag           GDG   \n",
       "22         0.014804    Belagavi Division            Haveri           HVR   \n",
       "23         0.010633    Belagavi Division    Uttara Kannada           UTK   \n",
       "24         0.030047  Kalaburagi Division           Ballari           BLL   \n",
       "25         0.000946  Kalaburagi Division             Bidar           BDR   \n",
       "26         0.002801  Kalaburagi Division        Kalaburagi           KLB   \n",
       "27         0.047435  Kalaburagi Division            Yadgir           YDR   \n",
       "28         0.019575  Kalaburagi Division           Raichur           RCR   \n",
       "29         0.023563  Kalaburagi Division            Koppal           KPL   \n",
       "30         0.030047  Kalaburagi Division      Vijayanagara           VNG   \n",
       "\n",
       "    Impact_M_NPK_20 Impact_G_NPK_20 Stability_M_G_NPK_20 Stress_M_G_NPK_20  \n",
       "0         17.783953       12.676056             0.961220          0.038780  \n",
       "1          8.341357        5.825243             0.986728          0.013272  \n",
       "2          2.488038        1.801242             0.910420          0.089580  \n",
       "3          4.690872        3.421072             0.803951          0.196049  \n",
       "4          5.067527        3.694552             0.134256          0.865744  \n",
       "5         14.667425       10.705680             0.847343          0.152657  \n",
       "6          9.092719        6.632081             0.852684          0.147316  \n",
       "7          5.386877        3.629032             0.989850          0.010150  \n",
       "8          4.804989        3.505274             0.875815          0.124185  \n",
       "9         15.555882       11.332822             0.686299          0.313701  \n",
       "10              NaN             NaN             0.776817          0.223183  \n",
       "11         1.834862        1.794093             0.836694          0.163306  \n",
       "12         5.971186        4.222649             0.377921          0.622079  \n",
       "13        22.978628       15.555556             0.707402          0.292598  \n",
       "14         8.742972        6.366308             0.745139          0.254861  \n",
       "15         5.925456        4.285714             1.000000          0.000000  \n",
       "16         5.767956        4.206609             0.806937          0.193063  \n",
       "17         9.797697        7.146471             0.000000          1.000000  \n",
       "18         5.387338        3.926911             0.903413          0.096587  \n",
       "19        10.665517        7.777865             0.940660          0.059340  \n",
       "20         8.324691        6.072339             0.562380          0.437620  \n",
       "21         4.725006        3.446955             0.751538          0.248462  \n",
       "22         6.150133        4.484133             0.493427          0.506573  \n",
       "23         4.981734        3.633987             0.467702          0.532298  \n",
       "24         9.451680        6.894522             0.706225          0.293775  \n",
       "25        10.426370        7.279693             0.987701          0.012299  \n",
       "26         5.676766        4.142582             0.868812          0.131188  \n",
       "27        16.124205       11.770320             0.837702          0.162298  \n",
       "28         9.958506        7.266860             0.659937          0.340063  \n",
       "29         6.764186        4.932960             0.859757          0.140243  \n",
       "30         9.451680        6.894522             0.614784          0.385216  \n",
       "\n",
       "[31 rows x 24 columns]"
      ]
     },
     "execution_count": 750,
     "metadata": {},
     "output_type": "execute_result"
    }
   ],
   "source": [
    "Working_Directory"
   ]
  },
  {
   "cell_type": "code",
   "execution_count": 751,
   "metadata": {},
   "outputs": [],
   "source": [
    "def calculate_change_impact(crop, perturbation, what):\n",
    "    capability_name = f'{crop[0].upper()} - {what} {perturbation}'\n",
    "    if(crop == \"Maize\"): \n",
    "        Working_Directory = Maize_Directory\n",
    "    elif(crop == \"Rice\"):\n",
    "        Working_Directory = Rice_Directory\n",
    "    else:\n",
    "        Working_Directory = Groundnut_Directory\n",
    "    original_production = Working_Directory[f'{crop}_Production']\n",
    "    new_production = Working_Directory[capability_name]\n",
    "    impact = (new_production - original_production)/(original_production)\n",
    "    impact_column_name = f'Change_{crop[0].upper()}_{what}_{perturbation}'\n",
    "    return impact, impact_column_name\n",
    "\n",
    "def Calculate_SI_Score(Maize_Directory,Groundnut_Directory, adj_matrix_np, crop1, crop2, perturbation, what,visualize = True):\n",
    "    # Normalize capabilities for both crops\n",
    "    capability_1 = Maize_Directory[f'{crop1[0].upper()} - {what} {perturbation}']\n",
    "    capability_2 = Groundnut_Directory[f'{crop2[0].upper()} - {what} {perturbation}']\n",
    "    \n",
    "    # Combine capabilities into a single DataFrame\n",
    "    combined_df = pd.DataFrame({\n",
    "        'node': Working_Directory['District'],\n",
    "        'Capability_1': capability_1,\n",
    "        'Capability_2': capability_2\n",
    "    })\n",
    "    \n",
    "    # Calculate stress and stability for the combined capabilities\n",
    "    result_df = calculate_stress_stability(adj_matrix_np, combined_df)\n",
    "\n",
    "    # Calculate impact for each crop\n",
    "    impact1, impact_column1 = calculate_change_impact( crop1, perturbation, what)\n",
    "    impact2, impact_column2 = calculate_change_impact( crop2, perturbation, what)\n",
    "    \n",
    "    # Naming conventions for stability and stress columns\n",
    "    stability_column_name = f'Stability_{crop1[0].upper()}_{crop2[0].upper()}_{what}_{perturbation}'\n",
    "    stress_column_name = f'Stress_{crop1[0].upper()}_{crop2[0].upper()}_{what}_{perturbation}'\n",
    "    \n",
    "    # Add impacts, stability, and stress to the result_df DataFrame\n",
    "    result_df[impact_column1] = impact1\n",
    "    result_df[impact_column2] = impact2\n",
    "    sec_imp = result_df[impact_column2].mean()\n",
    "    result_df['Mean_Impact'] = (impact1 + impact2)/2\n",
    "    result_df['Dissonance'] = (impact1 - impact2).abs()\n",
    "    result_df[stability_column_name] = result_df['stability']\n",
    "    \n",
    "    result_df['SI_Score'] = result_df['stability']*result_df[impact_column1]*(1 - sec_imp)\n",
    "    \n",
    "    return result_df\n",
    "\n",
    "result_df = pd.DataFrame()\n",
    "crop1 = 'Maize'\n",
    "crop2 = 'Groundnut'\n",
    "perturbation = 20\n",
    "what = 'NPK'\n",
    "result_df = Calculate_SI_Score(Maize_Directory,Groundnut_Directory, adj_matrix_np, crop1, crop2, perturbation, what)"
   ]
  },
  {
   "cell_type": "markdown",
   "metadata": {},
   "source": [
    "'NaN in DAKSHINA KANNADA is due to it's FCR value being 0'"
   ]
  },
  {
   "cell_type": "code",
   "execution_count": 752,
   "metadata": {},
   "outputs": [
    {
     "data": {
      "text/html": [
       "<div>\n",
       "<style scoped>\n",
       "    .dataframe tbody tr th:only-of-type {\n",
       "        vertical-align: middle;\n",
       "    }\n",
       "\n",
       "    .dataframe tbody tr th {\n",
       "        vertical-align: top;\n",
       "    }\n",
       "\n",
       "    .dataframe thead th {\n",
       "        text-align: right;\n",
       "    }\n",
       "</style>\n",
       "<table border=\"1\" class=\"dataframe\">\n",
       "  <thead>\n",
       "    <tr style=\"text-align: right;\">\n",
       "      <th></th>\n",
       "      <th>node</th>\n",
       "      <th>Capability_1</th>\n",
       "      <th>Capability_2</th>\n",
       "      <th>stress</th>\n",
       "      <th>stability</th>\n",
       "      <th>Change_M_NPK_20</th>\n",
       "      <th>Change_G_NPK_20</th>\n",
       "      <th>Mean_Impact</th>\n",
       "      <th>Dissonance</th>\n",
       "      <th>Stability_M_G_NPK_20</th>\n",
       "      <th>SI_Score</th>\n",
       "    </tr>\n",
       "  </thead>\n",
       "  <tbody>\n",
       "    <tr>\n",
       "      <th>0</th>\n",
       "      <td>BENGALURU</td>\n",
       "      <td>3391</td>\n",
       "      <td>80</td>\n",
       "      <td>0.038780</td>\n",
       "      <td>0.961220</td>\n",
       "      <td>0.177840</td>\n",
       "      <td>0.126761</td>\n",
       "      <td>0.152300</td>\n",
       "      <td>0.051079</td>\n",
       "      <td>0.961220</td>\n",
       "      <td>0.160383</td>\n",
       "    </tr>\n",
       "    <tr>\n",
       "      <th>1</th>\n",
       "      <td>BENGALURU(R)</td>\n",
       "      <td>46135</td>\n",
       "      <td>218</td>\n",
       "      <td>0.013272</td>\n",
       "      <td>0.986728</td>\n",
       "      <td>0.083414</td>\n",
       "      <td>0.058252</td>\n",
       "      <td>0.070833</td>\n",
       "      <td>0.025161</td>\n",
       "      <td>0.986728</td>\n",
       "      <td>0.077222</td>\n",
       "    </tr>\n",
       "    <tr>\n",
       "      <th>2</th>\n",
       "      <td>RAMANAGARA</td>\n",
       "      <td>10710</td>\n",
       "      <td>4917</td>\n",
       "      <td>0.089580</td>\n",
       "      <td>0.910420</td>\n",
       "      <td>0.024880</td>\n",
       "      <td>0.018012</td>\n",
       "      <td>0.021446</td>\n",
       "      <td>0.006868</td>\n",
       "      <td>0.910420</td>\n",
       "      <td>0.021252</td>\n",
       "    </tr>\n",
       "    <tr>\n",
       "      <th>3</th>\n",
       "      <td>CHITRADURGA</td>\n",
       "      <td>284733</td>\n",
       "      <td>70921</td>\n",
       "      <td>0.196049</td>\n",
       "      <td>0.803951</td>\n",
       "      <td>0.046909</td>\n",
       "      <td>0.034211</td>\n",
       "      <td>0.040560</td>\n",
       "      <td>0.012698</td>\n",
       "      <td>0.803951</td>\n",
       "      <td>0.035383</td>\n",
       "    </tr>\n",
       "    <tr>\n",
       "      <th>4</th>\n",
       "      <td>DAVANAGERE</td>\n",
       "      <td>623622</td>\n",
       "      <td>17205</td>\n",
       "      <td>0.865744</td>\n",
       "      <td>0.134256</td>\n",
       "      <td>0.050675</td>\n",
       "      <td>0.036946</td>\n",
       "      <td>0.043810</td>\n",
       "      <td>0.013730</td>\n",
       "      <td>0.134256</td>\n",
       "      <td>0.006383</td>\n",
       "    </tr>\n",
       "    <tr>\n",
       "      <th>5</th>\n",
       "      <td>KOLAR</td>\n",
       "      <td>2017</td>\n",
       "      <td>6432</td>\n",
       "      <td>0.152657</td>\n",
       "      <td>0.847343</td>\n",
       "      <td>0.146674</td>\n",
       "      <td>0.107057</td>\n",
       "      <td>0.126866</td>\n",
       "      <td>0.039617</td>\n",
       "      <td>0.847343</td>\n",
       "      <td>0.116606</td>\n",
       "    </tr>\n",
       "    <tr>\n",
       "      <th>6</th>\n",
       "      <td>CHIKKABALLAPURA</td>\n",
       "      <td>115083</td>\n",
       "      <td>7605</td>\n",
       "      <td>0.147316</td>\n",
       "      <td>0.852684</td>\n",
       "      <td>0.090927</td>\n",
       "      <td>0.066321</td>\n",
       "      <td>0.078624</td>\n",
       "      <td>0.024606</td>\n",
       "      <td>0.852684</td>\n",
       "      <td>0.072743</td>\n",
       "    </tr>\n",
       "    <tr>\n",
       "      <th>7</th>\n",
       "      <td>SHIVAMOGGA</td>\n",
       "      <td>238735</td>\n",
       "      <td>257</td>\n",
       "      <td>0.010150</td>\n",
       "      <td>0.989850</td>\n",
       "      <td>0.053869</td>\n",
       "      <td>0.036290</td>\n",
       "      <td>0.045080</td>\n",
       "      <td>0.017578</td>\n",
       "      <td>0.989850</td>\n",
       "      <td>0.050028</td>\n",
       "    </tr>\n",
       "    <tr>\n",
       "      <th>8</th>\n",
       "      <td>TUMAKURU</td>\n",
       "      <td>70081</td>\n",
       "      <td>41015</td>\n",
       "      <td>0.124185</td>\n",
       "      <td>0.875815</td>\n",
       "      <td>0.048050</td>\n",
       "      <td>0.035053</td>\n",
       "      <td>0.041551</td>\n",
       "      <td>0.012997</td>\n",
       "      <td>0.875815</td>\n",
       "      <td>0.039483</td>\n",
       "    </tr>\n",
       "    <tr>\n",
       "      <th>9</th>\n",
       "      <td>CHIKKAMAGALURU</td>\n",
       "      <td>70897</td>\n",
       "      <td>4352</td>\n",
       "      <td>0.313701</td>\n",
       "      <td>0.686299</td>\n",
       "      <td>0.155559</td>\n",
       "      <td>0.113328</td>\n",
       "      <td>0.134444</td>\n",
       "      <td>0.042231</td>\n",
       "      <td>0.686299</td>\n",
       "      <td>0.100165</td>\n",
       "    </tr>\n",
       "    <tr>\n",
       "      <th>10</th>\n",
       "      <td>DAKSHINA KANNADA</td>\n",
       "      <td>0</td>\n",
       "      <td>0</td>\n",
       "      <td>0.223183</td>\n",
       "      <td>0.776817</td>\n",
       "      <td>NaN</td>\n",
       "      <td>NaN</td>\n",
       "      <td>NaN</td>\n",
       "      <td>NaN</td>\n",
       "      <td>0.776817</td>\n",
       "      <td>NaN</td>\n",
       "    </tr>\n",
       "    <tr>\n",
       "      <th>11</th>\n",
       "      <td>UDUPI</td>\n",
       "      <td>111</td>\n",
       "      <td>3688</td>\n",
       "      <td>0.163306</td>\n",
       "      <td>0.836694</td>\n",
       "      <td>0.018349</td>\n",
       "      <td>0.017941</td>\n",
       "      <td>0.018145</td>\n",
       "      <td>0.000408</td>\n",
       "      <td>0.836694</td>\n",
       "      <td>0.014404</td>\n",
       "    </tr>\n",
       "    <tr>\n",
       "      <th>12</th>\n",
       "      <td>HASSAN</td>\n",
       "      <td>353877</td>\n",
       "      <td>543</td>\n",
       "      <td>0.622079</td>\n",
       "      <td>0.377921</td>\n",
       "      <td>0.059712</td>\n",
       "      <td>0.042226</td>\n",
       "      <td>0.050969</td>\n",
       "      <td>0.017485</td>\n",
       "      <td>0.377921</td>\n",
       "      <td>0.021172</td>\n",
       "    </tr>\n",
       "    <tr>\n",
       "      <th>13</th>\n",
       "      <td>KODAGU</td>\n",
       "      <td>22039</td>\n",
       "      <td>52</td>\n",
       "      <td>0.292598</td>\n",
       "      <td>0.707402</td>\n",
       "      <td>0.229786</td>\n",
       "      <td>0.155556</td>\n",
       "      <td>0.192671</td>\n",
       "      <td>0.074231</td>\n",
       "      <td>0.707402</td>\n",
       "      <td>0.152510</td>\n",
       "    </tr>\n",
       "    <tr>\n",
       "      <th>14</th>\n",
       "      <td>MANDYA</td>\n",
       "      <td>21082</td>\n",
       "      <td>1086</td>\n",
       "      <td>0.254861</td>\n",
       "      <td>0.745139</td>\n",
       "      <td>0.087430</td>\n",
       "      <td>0.063663</td>\n",
       "      <td>0.075546</td>\n",
       "      <td>0.023767</td>\n",
       "      <td>0.745139</td>\n",
       "      <td>0.061123</td>\n",
       "    </tr>\n",
       "    <tr>\n",
       "      <th>15</th>\n",
       "      <td>MYSURU</td>\n",
       "      <td>145281</td>\n",
       "      <td>2263</td>\n",
       "      <td>0.000000</td>\n",
       "      <td>1.000000</td>\n",
       "      <td>0.059255</td>\n",
       "      <td>0.042857</td>\n",
       "      <td>0.051056</td>\n",
       "      <td>0.016397</td>\n",
       "      <td>1.000000</td>\n",
       "      <td>0.055594</td>\n",
       "    </tr>\n",
       "    <tr>\n",
       "      <th>16</th>\n",
       "      <td>CHAMARAJANAGAR</td>\n",
       "      <td>156416</td>\n",
       "      <td>9240</td>\n",
       "      <td>0.193063</td>\n",
       "      <td>0.806937</td>\n",
       "      <td>0.057680</td>\n",
       "      <td>0.042066</td>\n",
       "      <td>0.049873</td>\n",
       "      <td>0.015613</td>\n",
       "      <td>0.806937</td>\n",
       "      <td>0.043669</td>\n",
       "    </tr>\n",
       "    <tr>\n",
       "      <th>17</th>\n",
       "      <td>BELAGAVI</td>\n",
       "      <td>633267</td>\n",
       "      <td>42355</td>\n",
       "      <td>1.000000</td>\n",
       "      <td>0.000000</td>\n",
       "      <td>0.097977</td>\n",
       "      <td>0.071465</td>\n",
       "      <td>0.084721</td>\n",
       "      <td>0.026512</td>\n",
       "      <td>0.000000</td>\n",
       "      <td>0.000000</td>\n",
       "    </tr>\n",
       "    <tr>\n",
       "      <th>18</th>\n",
       "      <td>VIJAYAPURA</td>\n",
       "      <td>238520</td>\n",
       "      <td>28609</td>\n",
       "      <td>0.096587</td>\n",
       "      <td>0.903413</td>\n",
       "      <td>0.053873</td>\n",
       "      <td>0.039269</td>\n",
       "      <td>0.046571</td>\n",
       "      <td>0.014604</td>\n",
       "      <td>0.903413</td>\n",
       "      <td>0.045663</td>\n",
       "    </tr>\n",
       "    <tr>\n",
       "      <th>19</th>\n",
       "      <td>BAGALKOT</td>\n",
       "      <td>278544</td>\n",
       "      <td>27423</td>\n",
       "      <td>0.059340</td>\n",
       "      <td>0.940660</td>\n",
       "      <td>0.106655</td>\n",
       "      <td>0.077779</td>\n",
       "      <td>0.092217</td>\n",
       "      <td>0.028877</td>\n",
       "      <td>0.940660</td>\n",
       "      <td>0.094129</td>\n",
       "    </tr>\n",
       "    <tr>\n",
       "      <th>20</th>\n",
       "      <td>DHARAWAD</td>\n",
       "      <td>98179</td>\n",
       "      <td>22464</td>\n",
       "      <td>0.437620</td>\n",
       "      <td>0.562380</td>\n",
       "      <td>0.083247</td>\n",
       "      <td>0.060723</td>\n",
       "      <td>0.071985</td>\n",
       "      <td>0.022524</td>\n",
       "      <td>0.562380</td>\n",
       "      <td>0.043924</td>\n",
       "    </tr>\n",
       "    <tr>\n",
       "      <th>21</th>\n",
       "      <td>GADAG</td>\n",
       "      <td>145019</td>\n",
       "      <td>32412</td>\n",
       "      <td>0.248462</td>\n",
       "      <td>0.751538</td>\n",
       "      <td>0.047250</td>\n",
       "      <td>0.034470</td>\n",
       "      <td>0.040860</td>\n",
       "      <td>0.012781</td>\n",
       "      <td>0.751538</td>\n",
       "      <td>0.033317</td>\n",
       "    </tr>\n",
       "    <tr>\n",
       "      <th>22</th>\n",
       "      <td>HAVERI</td>\n",
       "      <td>438917</td>\n",
       "      <td>19130</td>\n",
       "      <td>0.506573</td>\n",
       "      <td>0.493427</td>\n",
       "      <td>0.061501</td>\n",
       "      <td>0.044841</td>\n",
       "      <td>0.053171</td>\n",
       "      <td>0.016660</td>\n",
       "      <td>0.493427</td>\n",
       "      <td>0.028472</td>\n",
       "    </tr>\n",
       "    <tr>\n",
       "      <th>23</th>\n",
       "      <td>UTTARA KANNADA</td>\n",
       "      <td>25288</td>\n",
       "      <td>3964</td>\n",
       "      <td>0.532298</td>\n",
       "      <td>0.467702</td>\n",
       "      <td>0.049817</td>\n",
       "      <td>0.036340</td>\n",
       "      <td>0.043079</td>\n",
       "      <td>0.013477</td>\n",
       "      <td>0.467702</td>\n",
       "      <td>0.021860</td>\n",
       "    </tr>\n",
       "    <tr>\n",
       "      <th>24</th>\n",
       "      <td>BALLARI</td>\n",
       "      <td>113879</td>\n",
       "      <td>24520</td>\n",
       "      <td>0.293775</td>\n",
       "      <td>0.706225</td>\n",
       "      <td>0.094517</td>\n",
       "      <td>0.068945</td>\n",
       "      <td>0.081731</td>\n",
       "      <td>0.025572</td>\n",
       "      <td>0.706225</td>\n",
       "      <td>0.062627</td>\n",
       "    </tr>\n",
       "    <tr>\n",
       "      <th>25</th>\n",
       "      <td>BIDAR</td>\n",
       "      <td>3082</td>\n",
       "      <td>280</td>\n",
       "      <td>0.012299</td>\n",
       "      <td>0.987701</td>\n",
       "      <td>0.104264</td>\n",
       "      <td>0.072797</td>\n",
       "      <td>0.088530</td>\n",
       "      <td>0.031467</td>\n",
       "      <td>0.987701</td>\n",
       "      <td>0.096620</td>\n",
       "    </tr>\n",
       "    <tr>\n",
       "      <th>26</th>\n",
       "      <td>KALABURAGI</td>\n",
       "      <td>15451</td>\n",
       "      <td>3243</td>\n",
       "      <td>0.131188</td>\n",
       "      <td>0.868812</td>\n",
       "      <td>0.056768</td>\n",
       "      <td>0.041426</td>\n",
       "      <td>0.049097</td>\n",
       "      <td>0.015342</td>\n",
       "      <td>0.868812</td>\n",
       "      <td>0.046274</td>\n",
       "    </tr>\n",
       "    <tr>\n",
       "      <th>27</th>\n",
       "      <td>YADGIRI</td>\n",
       "      <td>3104</td>\n",
       "      <td>35135</td>\n",
       "      <td>0.162298</td>\n",
       "      <td>0.837702</td>\n",
       "      <td>0.161242</td>\n",
       "      <td>0.117703</td>\n",
       "      <td>0.139473</td>\n",
       "      <td>0.043539</td>\n",
       "      <td>0.837702</td>\n",
       "      <td>0.126729</td>\n",
       "    </tr>\n",
       "    <tr>\n",
       "      <th>28</th>\n",
       "      <td>RAICHUR</td>\n",
       "      <td>795</td>\n",
       "      <td>28917</td>\n",
       "      <td>0.340063</td>\n",
       "      <td>0.659937</td>\n",
       "      <td>0.099585</td>\n",
       "      <td>0.072669</td>\n",
       "      <td>0.086127</td>\n",
       "      <td>0.026916</td>\n",
       "      <td>0.659937</td>\n",
       "      <td>0.061660</td>\n",
       "    </tr>\n",
       "    <tr>\n",
       "      <th>29</th>\n",
       "      <td>KOPPAL</td>\n",
       "      <td>203121</td>\n",
       "      <td>31461</td>\n",
       "      <td>0.140243</td>\n",
       "      <td>0.859757</td>\n",
       "      <td>0.067642</td>\n",
       "      <td>0.049330</td>\n",
       "      <td>0.058486</td>\n",
       "      <td>0.018312</td>\n",
       "      <td>0.859757</td>\n",
       "      <td>0.054563</td>\n",
       "    </tr>\n",
       "    <tr>\n",
       "      <th>30</th>\n",
       "      <td>VIJAYANAGARA</td>\n",
       "      <td>113879</td>\n",
       "      <td>24520</td>\n",
       "      <td>0.385216</td>\n",
       "      <td>0.614784</td>\n",
       "      <td>0.094517</td>\n",
       "      <td>0.068945</td>\n",
       "      <td>0.081731</td>\n",
       "      <td>0.025572</td>\n",
       "      <td>0.614784</td>\n",
       "      <td>0.054518</td>\n",
       "    </tr>\n",
       "  </tbody>\n",
       "</table>\n",
       "</div>"
      ],
      "text/plain": [
       "                node  Capability_1  Capability_2    stress  stability  \\\n",
       "0          BENGALURU          3391            80  0.038780   0.961220   \n",
       "1       BENGALURU(R)         46135           218  0.013272   0.986728   \n",
       "2         RAMANAGARA         10710          4917  0.089580   0.910420   \n",
       "3        CHITRADURGA        284733         70921  0.196049   0.803951   \n",
       "4         DAVANAGERE        623622         17205  0.865744   0.134256   \n",
       "5              KOLAR          2017          6432  0.152657   0.847343   \n",
       "6    CHIKKABALLAPURA        115083          7605  0.147316   0.852684   \n",
       "7         SHIVAMOGGA        238735           257  0.010150   0.989850   \n",
       "8           TUMAKURU         70081         41015  0.124185   0.875815   \n",
       "9     CHIKKAMAGALURU         70897          4352  0.313701   0.686299   \n",
       "10  DAKSHINA KANNADA             0             0  0.223183   0.776817   \n",
       "11             UDUPI           111          3688  0.163306   0.836694   \n",
       "12            HASSAN        353877           543  0.622079   0.377921   \n",
       "13            KODAGU         22039            52  0.292598   0.707402   \n",
       "14            MANDYA         21082          1086  0.254861   0.745139   \n",
       "15            MYSURU        145281          2263  0.000000   1.000000   \n",
       "16    CHAMARAJANAGAR        156416          9240  0.193063   0.806937   \n",
       "17          BELAGAVI        633267         42355  1.000000   0.000000   \n",
       "18        VIJAYAPURA        238520         28609  0.096587   0.903413   \n",
       "19          BAGALKOT        278544         27423  0.059340   0.940660   \n",
       "20          DHARAWAD         98179         22464  0.437620   0.562380   \n",
       "21             GADAG        145019         32412  0.248462   0.751538   \n",
       "22            HAVERI        438917         19130  0.506573   0.493427   \n",
       "23    UTTARA KANNADA         25288          3964  0.532298   0.467702   \n",
       "24           BALLARI        113879         24520  0.293775   0.706225   \n",
       "25             BIDAR          3082           280  0.012299   0.987701   \n",
       "26        KALABURAGI         15451          3243  0.131188   0.868812   \n",
       "27           YADGIRI          3104         35135  0.162298   0.837702   \n",
       "28           RAICHUR           795         28917  0.340063   0.659937   \n",
       "29            KOPPAL        203121         31461  0.140243   0.859757   \n",
       "30      VIJAYANAGARA        113879         24520  0.385216   0.614784   \n",
       "\n",
       "    Change_M_NPK_20  Change_G_NPK_20  Mean_Impact  Dissonance  \\\n",
       "0          0.177840         0.126761     0.152300    0.051079   \n",
       "1          0.083414         0.058252     0.070833    0.025161   \n",
       "2          0.024880         0.018012     0.021446    0.006868   \n",
       "3          0.046909         0.034211     0.040560    0.012698   \n",
       "4          0.050675         0.036946     0.043810    0.013730   \n",
       "5          0.146674         0.107057     0.126866    0.039617   \n",
       "6          0.090927         0.066321     0.078624    0.024606   \n",
       "7          0.053869         0.036290     0.045080    0.017578   \n",
       "8          0.048050         0.035053     0.041551    0.012997   \n",
       "9          0.155559         0.113328     0.134444    0.042231   \n",
       "10              NaN              NaN          NaN         NaN   \n",
       "11         0.018349         0.017941     0.018145    0.000408   \n",
       "12         0.059712         0.042226     0.050969    0.017485   \n",
       "13         0.229786         0.155556     0.192671    0.074231   \n",
       "14         0.087430         0.063663     0.075546    0.023767   \n",
       "15         0.059255         0.042857     0.051056    0.016397   \n",
       "16         0.057680         0.042066     0.049873    0.015613   \n",
       "17         0.097977         0.071465     0.084721    0.026512   \n",
       "18         0.053873         0.039269     0.046571    0.014604   \n",
       "19         0.106655         0.077779     0.092217    0.028877   \n",
       "20         0.083247         0.060723     0.071985    0.022524   \n",
       "21         0.047250         0.034470     0.040860    0.012781   \n",
       "22         0.061501         0.044841     0.053171    0.016660   \n",
       "23         0.049817         0.036340     0.043079    0.013477   \n",
       "24         0.094517         0.068945     0.081731    0.025572   \n",
       "25         0.104264         0.072797     0.088530    0.031467   \n",
       "26         0.056768         0.041426     0.049097    0.015342   \n",
       "27         0.161242         0.117703     0.139473    0.043539   \n",
       "28         0.099585         0.072669     0.086127    0.026916   \n",
       "29         0.067642         0.049330     0.058486    0.018312   \n",
       "30         0.094517         0.068945     0.081731    0.025572   \n",
       "\n",
       "    Stability_M_G_NPK_20  SI_Score  \n",
       "0               0.961220  0.160383  \n",
       "1               0.986728  0.077222  \n",
       "2               0.910420  0.021252  \n",
       "3               0.803951  0.035383  \n",
       "4               0.134256  0.006383  \n",
       "5               0.847343  0.116606  \n",
       "6               0.852684  0.072743  \n",
       "7               0.989850  0.050028  \n",
       "8               0.875815  0.039483  \n",
       "9               0.686299  0.100165  \n",
       "10              0.776817       NaN  \n",
       "11              0.836694  0.014404  \n",
       "12              0.377921  0.021172  \n",
       "13              0.707402  0.152510  \n",
       "14              0.745139  0.061123  \n",
       "15              1.000000  0.055594  \n",
       "16              0.806937  0.043669  \n",
       "17              0.000000  0.000000  \n",
       "18              0.903413  0.045663  \n",
       "19              0.940660  0.094129  \n",
       "20              0.562380  0.043924  \n",
       "21              0.751538  0.033317  \n",
       "22              0.493427  0.028472  \n",
       "23              0.467702  0.021860  \n",
       "24              0.706225  0.062627  \n",
       "25              0.987701  0.096620  \n",
       "26              0.868812  0.046274  \n",
       "27              0.837702  0.126729  \n",
       "28              0.659937  0.061660  \n",
       "29              0.859757  0.054563  \n",
       "30              0.614784  0.054518  "
      ]
     },
     "execution_count": 752,
     "metadata": {},
     "output_type": "execute_result"
    }
   ],
   "source": [
    "result_df.to_csv('2D/Maize_Groundnut SI Score NPK+20%.csv',index=False)\n",
    "result_df"
   ]
  },
  {
   "cell_type": "code",
   "execution_count": 753,
   "metadata": {},
   "outputs": [
    {
     "data": {
      "application/vnd.plotly.v1+json": {
       "config": {
        "plotlyServerURL": "https://plot.ly"
       },
       "data": [
        {
         "alignmentgroup": "True",
         "hovertemplate": "SI Score=%{marker.color}<br>District=%{y}<extra></extra>",
         "legendgroup": "",
         "marker": {
          "color": [
           0,
           0.0064,
           0.0144,
           0.0212,
           0.0213,
           0.0219,
           0.0285,
           0.0333,
           0.0354,
           0.0395,
           0.0437,
           0.0439,
           0.0457,
           0.0463,
           0.05,
           0.0545,
           0.0546,
           0.0556,
           0.0611,
           0.0617,
           0.0626,
           0.0727,
           0.0772,
           0.0941,
           0.0966,
           0.1002,
           0.1166,
           0.1267,
           0.1525,
           0.1604
          ],
          "coloraxis": "coloraxis",
          "pattern": {
           "shape": ""
          }
         },
         "name": "",
         "offsetgroup": "",
         "orientation": "h",
         "showlegend": false,
         "text": [
          0,
          0.0064,
          0.0144,
          0.0212,
          0.0213,
          0.0219,
          0.0285,
          0.0333,
          0.0354,
          0.0395,
          0.0437,
          0.0439,
          0.0457,
          0.0463,
          0.05,
          0.0545,
          0.0546,
          0.0556,
          0.0611,
          0.0617,
          0.0626,
          0.0727,
          0.0772,
          0.0941,
          0.0966,
          0.1002,
          0.1166,
          0.1267,
          0.1525,
          0.1604
         ],
         "textposition": "auto",
         "type": "bar",
         "x": [
          0,
          0.0064,
          0.0144,
          0.0212,
          0.0213,
          0.0219,
          0.0285,
          0.0333,
          0.0354,
          0.0395,
          0.0437,
          0.0439,
          0.0457,
          0.0463,
          0.05,
          0.0545,
          0.0546,
          0.0556,
          0.0611,
          0.0617,
          0.0626,
          0.0727,
          0.0772,
          0.0941,
          0.0966,
          0.1002,
          0.1166,
          0.1267,
          0.1525,
          0.1604
         ],
         "xaxis": "x",
         "y": [
          "BELAGAVI",
          "DAVANAGERE",
          "UDUPI",
          "HASSAN",
          "RAMANAGARA",
          "UTTARA KANNADA",
          "HAVERI",
          "GADAG",
          "CHITRADURGA",
          "TUMAKURU",
          "CHAMARAJANAGAR",
          "DHARAWAD",
          "VIJAYAPURA",
          "KALABURAGI",
          "SHIVAMOGGA",
          "VIJAYANAGARA",
          "KOPPAL",
          "MYSURU",
          "MANDYA",
          "RAICHUR",
          "BALLARI",
          "CHIKKABALLAPURA",
          "BENGALURU(R)",
          "BAGALKOT",
          "BIDAR",
          "CHIKKAMAGALURU",
          "KOLAR",
          "YADGIRI",
          "KODAGU",
          "BENGALURU"
         ],
         "yaxis": "y"
        }
       ],
       "layout": {
        "barmode": "relative",
        "coloraxis": {
         "colorbar": {
          "title": {
           "text": "SI Score"
          }
         },
         "colorscale": [
          [
           0,
           "rgb(207, 89, 126)"
          ],
          [
           0.16666666666666666,
           "rgb(232, 132, 113)"
          ],
          [
           0.3333333333333333,
           "rgb(238, 180, 121)"
          ],
          [
           0.5,
           "rgb(233, 226, 156)"
          ],
          [
           0.6666666666666666,
           "rgb(156, 203, 134)"
          ],
          [
           0.8333333333333334,
           "rgb(57, 177, 133)"
          ],
          [
           1,
           "rgb(0, 147, 146)"
          ]
         ]
        },
        "height": 800,
        "legend": {
         "tracegroupgap": 0
        },
        "template": {
         "data": {
          "bar": [
           {
            "error_x": {
             "color": "#2a3f5f"
            },
            "error_y": {
             "color": "#2a3f5f"
            },
            "marker": {
             "line": {
              "color": "#E5ECF6",
              "width": 0.5
             },
             "pattern": {
              "fillmode": "overlay",
              "size": 10,
              "solidity": 0.2
             }
            },
            "type": "bar"
           }
          ],
          "barpolar": [
           {
            "marker": {
             "line": {
              "color": "#E5ECF6",
              "width": 0.5
             },
             "pattern": {
              "fillmode": "overlay",
              "size": 10,
              "solidity": 0.2
             }
            },
            "type": "barpolar"
           }
          ],
          "carpet": [
           {
            "aaxis": {
             "endlinecolor": "#2a3f5f",
             "gridcolor": "white",
             "linecolor": "white",
             "minorgridcolor": "white",
             "startlinecolor": "#2a3f5f"
            },
            "baxis": {
             "endlinecolor": "#2a3f5f",
             "gridcolor": "white",
             "linecolor": "white",
             "minorgridcolor": "white",
             "startlinecolor": "#2a3f5f"
            },
            "type": "carpet"
           }
          ],
          "choropleth": [
           {
            "colorbar": {
             "outlinewidth": 0,
             "ticks": ""
            },
            "type": "choropleth"
           }
          ],
          "contour": [
           {
            "colorbar": {
             "outlinewidth": 0,
             "ticks": ""
            },
            "colorscale": [
             [
              0,
              "#0d0887"
             ],
             [
              0.1111111111111111,
              "#46039f"
             ],
             [
              0.2222222222222222,
              "#7201a8"
             ],
             [
              0.3333333333333333,
              "#9c179e"
             ],
             [
              0.4444444444444444,
              "#bd3786"
             ],
             [
              0.5555555555555556,
              "#d8576b"
             ],
             [
              0.6666666666666666,
              "#ed7953"
             ],
             [
              0.7777777777777778,
              "#fb9f3a"
             ],
             [
              0.8888888888888888,
              "#fdca26"
             ],
             [
              1,
              "#f0f921"
             ]
            ],
            "type": "contour"
           }
          ],
          "contourcarpet": [
           {
            "colorbar": {
             "outlinewidth": 0,
             "ticks": ""
            },
            "type": "contourcarpet"
           }
          ],
          "heatmap": [
           {
            "colorbar": {
             "outlinewidth": 0,
             "ticks": ""
            },
            "colorscale": [
             [
              0,
              "#0d0887"
             ],
             [
              0.1111111111111111,
              "#46039f"
             ],
             [
              0.2222222222222222,
              "#7201a8"
             ],
             [
              0.3333333333333333,
              "#9c179e"
             ],
             [
              0.4444444444444444,
              "#bd3786"
             ],
             [
              0.5555555555555556,
              "#d8576b"
             ],
             [
              0.6666666666666666,
              "#ed7953"
             ],
             [
              0.7777777777777778,
              "#fb9f3a"
             ],
             [
              0.8888888888888888,
              "#fdca26"
             ],
             [
              1,
              "#f0f921"
             ]
            ],
            "type": "heatmap"
           }
          ],
          "heatmapgl": [
           {
            "colorbar": {
             "outlinewidth": 0,
             "ticks": ""
            },
            "colorscale": [
             [
              0,
              "#0d0887"
             ],
             [
              0.1111111111111111,
              "#46039f"
             ],
             [
              0.2222222222222222,
              "#7201a8"
             ],
             [
              0.3333333333333333,
              "#9c179e"
             ],
             [
              0.4444444444444444,
              "#bd3786"
             ],
             [
              0.5555555555555556,
              "#d8576b"
             ],
             [
              0.6666666666666666,
              "#ed7953"
             ],
             [
              0.7777777777777778,
              "#fb9f3a"
             ],
             [
              0.8888888888888888,
              "#fdca26"
             ],
             [
              1,
              "#f0f921"
             ]
            ],
            "type": "heatmapgl"
           }
          ],
          "histogram": [
           {
            "marker": {
             "pattern": {
              "fillmode": "overlay",
              "size": 10,
              "solidity": 0.2
             }
            },
            "type": "histogram"
           }
          ],
          "histogram2d": [
           {
            "colorbar": {
             "outlinewidth": 0,
             "ticks": ""
            },
            "colorscale": [
             [
              0,
              "#0d0887"
             ],
             [
              0.1111111111111111,
              "#46039f"
             ],
             [
              0.2222222222222222,
              "#7201a8"
             ],
             [
              0.3333333333333333,
              "#9c179e"
             ],
             [
              0.4444444444444444,
              "#bd3786"
             ],
             [
              0.5555555555555556,
              "#d8576b"
             ],
             [
              0.6666666666666666,
              "#ed7953"
             ],
             [
              0.7777777777777778,
              "#fb9f3a"
             ],
             [
              0.8888888888888888,
              "#fdca26"
             ],
             [
              1,
              "#f0f921"
             ]
            ],
            "type": "histogram2d"
           }
          ],
          "histogram2dcontour": [
           {
            "colorbar": {
             "outlinewidth": 0,
             "ticks": ""
            },
            "colorscale": [
             [
              0,
              "#0d0887"
             ],
             [
              0.1111111111111111,
              "#46039f"
             ],
             [
              0.2222222222222222,
              "#7201a8"
             ],
             [
              0.3333333333333333,
              "#9c179e"
             ],
             [
              0.4444444444444444,
              "#bd3786"
             ],
             [
              0.5555555555555556,
              "#d8576b"
             ],
             [
              0.6666666666666666,
              "#ed7953"
             ],
             [
              0.7777777777777778,
              "#fb9f3a"
             ],
             [
              0.8888888888888888,
              "#fdca26"
             ],
             [
              1,
              "#f0f921"
             ]
            ],
            "type": "histogram2dcontour"
           }
          ],
          "mesh3d": [
           {
            "colorbar": {
             "outlinewidth": 0,
             "ticks": ""
            },
            "type": "mesh3d"
           }
          ],
          "parcoords": [
           {
            "line": {
             "colorbar": {
              "outlinewidth": 0,
              "ticks": ""
             }
            },
            "type": "parcoords"
           }
          ],
          "pie": [
           {
            "automargin": true,
            "type": "pie"
           }
          ],
          "scatter": [
           {
            "fillpattern": {
             "fillmode": "overlay",
             "size": 10,
             "solidity": 0.2
            },
            "type": "scatter"
           }
          ],
          "scatter3d": [
           {
            "line": {
             "colorbar": {
              "outlinewidth": 0,
              "ticks": ""
             }
            },
            "marker": {
             "colorbar": {
              "outlinewidth": 0,
              "ticks": ""
             }
            },
            "type": "scatter3d"
           }
          ],
          "scattercarpet": [
           {
            "marker": {
             "colorbar": {
              "outlinewidth": 0,
              "ticks": ""
             }
            },
            "type": "scattercarpet"
           }
          ],
          "scattergeo": [
           {
            "marker": {
             "colorbar": {
              "outlinewidth": 0,
              "ticks": ""
             }
            },
            "type": "scattergeo"
           }
          ],
          "scattergl": [
           {
            "marker": {
             "colorbar": {
              "outlinewidth": 0,
              "ticks": ""
             }
            },
            "type": "scattergl"
           }
          ],
          "scattermapbox": [
           {
            "marker": {
             "colorbar": {
              "outlinewidth": 0,
              "ticks": ""
             }
            },
            "type": "scattermapbox"
           }
          ],
          "scatterpolar": [
           {
            "marker": {
             "colorbar": {
              "outlinewidth": 0,
              "ticks": ""
             }
            },
            "type": "scatterpolar"
           }
          ],
          "scatterpolargl": [
           {
            "marker": {
             "colorbar": {
              "outlinewidth": 0,
              "ticks": ""
             }
            },
            "type": "scatterpolargl"
           }
          ],
          "scatterternary": [
           {
            "marker": {
             "colorbar": {
              "outlinewidth": 0,
              "ticks": ""
             }
            },
            "type": "scatterternary"
           }
          ],
          "surface": [
           {
            "colorbar": {
             "outlinewidth": 0,
             "ticks": ""
            },
            "colorscale": [
             [
              0,
              "#0d0887"
             ],
             [
              0.1111111111111111,
              "#46039f"
             ],
             [
              0.2222222222222222,
              "#7201a8"
             ],
             [
              0.3333333333333333,
              "#9c179e"
             ],
             [
              0.4444444444444444,
              "#bd3786"
             ],
             [
              0.5555555555555556,
              "#d8576b"
             ],
             [
              0.6666666666666666,
              "#ed7953"
             ],
             [
              0.7777777777777778,
              "#fb9f3a"
             ],
             [
              0.8888888888888888,
              "#fdca26"
             ],
             [
              1,
              "#f0f921"
             ]
            ],
            "type": "surface"
           }
          ],
          "table": [
           {
            "cells": {
             "fill": {
              "color": "#EBF0F8"
             },
             "line": {
              "color": "white"
             }
            },
            "header": {
             "fill": {
              "color": "#C8D4E3"
             },
             "line": {
              "color": "white"
             }
            },
            "type": "table"
           }
          ]
         },
         "layout": {
          "annotationdefaults": {
           "arrowcolor": "#2a3f5f",
           "arrowhead": 0,
           "arrowwidth": 1
          },
          "autotypenumbers": "strict",
          "coloraxis": {
           "colorbar": {
            "outlinewidth": 0,
            "ticks": ""
           }
          },
          "colorscale": {
           "diverging": [
            [
             0,
             "#8e0152"
            ],
            [
             0.1,
             "#c51b7d"
            ],
            [
             0.2,
             "#de77ae"
            ],
            [
             0.3,
             "#f1b6da"
            ],
            [
             0.4,
             "#fde0ef"
            ],
            [
             0.5,
             "#f7f7f7"
            ],
            [
             0.6,
             "#e6f5d0"
            ],
            [
             0.7,
             "#b8e186"
            ],
            [
             0.8,
             "#7fbc41"
            ],
            [
             0.9,
             "#4d9221"
            ],
            [
             1,
             "#276419"
            ]
           ],
           "sequential": [
            [
             0,
             "#0d0887"
            ],
            [
             0.1111111111111111,
             "#46039f"
            ],
            [
             0.2222222222222222,
             "#7201a8"
            ],
            [
             0.3333333333333333,
             "#9c179e"
            ],
            [
             0.4444444444444444,
             "#bd3786"
            ],
            [
             0.5555555555555556,
             "#d8576b"
            ],
            [
             0.6666666666666666,
             "#ed7953"
            ],
            [
             0.7777777777777778,
             "#fb9f3a"
            ],
            [
             0.8888888888888888,
             "#fdca26"
            ],
            [
             1,
             "#f0f921"
            ]
           ],
           "sequentialminus": [
            [
             0,
             "#0d0887"
            ],
            [
             0.1111111111111111,
             "#46039f"
            ],
            [
             0.2222222222222222,
             "#7201a8"
            ],
            [
             0.3333333333333333,
             "#9c179e"
            ],
            [
             0.4444444444444444,
             "#bd3786"
            ],
            [
             0.5555555555555556,
             "#d8576b"
            ],
            [
             0.6666666666666666,
             "#ed7953"
            ],
            [
             0.7777777777777778,
             "#fb9f3a"
            ],
            [
             0.8888888888888888,
             "#fdca26"
            ],
            [
             1,
             "#f0f921"
            ]
           ]
          },
          "colorway": [
           "#636efa",
           "#EF553B",
           "#00cc96",
           "#ab63fa",
           "#FFA15A",
           "#19d3f3",
           "#FF6692",
           "#B6E880",
           "#FF97FF",
           "#FECB52"
          ],
          "font": {
           "color": "#2a3f5f"
          },
          "geo": {
           "bgcolor": "white",
           "lakecolor": "white",
           "landcolor": "#E5ECF6",
           "showlakes": true,
           "showland": true,
           "subunitcolor": "white"
          },
          "hoverlabel": {
           "align": "left"
          },
          "hovermode": "closest",
          "mapbox": {
           "style": "light"
          },
          "paper_bgcolor": "white",
          "plot_bgcolor": "#E5ECF6",
          "polar": {
           "angularaxis": {
            "gridcolor": "white",
            "linecolor": "white",
            "ticks": ""
           },
           "bgcolor": "#E5ECF6",
           "radialaxis": {
            "gridcolor": "white",
            "linecolor": "white",
            "ticks": ""
           }
          },
          "scene": {
           "xaxis": {
            "backgroundcolor": "#E5ECF6",
            "gridcolor": "white",
            "gridwidth": 2,
            "linecolor": "white",
            "showbackground": true,
            "ticks": "",
            "zerolinecolor": "white"
           },
           "yaxis": {
            "backgroundcolor": "#E5ECF6",
            "gridcolor": "white",
            "gridwidth": 2,
            "linecolor": "white",
            "showbackground": true,
            "ticks": "",
            "zerolinecolor": "white"
           },
           "zaxis": {
            "backgroundcolor": "#E5ECF6",
            "gridcolor": "white",
            "gridwidth": 2,
            "linecolor": "white",
            "showbackground": true,
            "ticks": "",
            "zerolinecolor": "white"
           }
          },
          "shapedefaults": {
           "line": {
            "color": "#2a3f5f"
           }
          },
          "ternary": {
           "aaxis": {
            "gridcolor": "white",
            "linecolor": "white",
            "ticks": ""
           },
           "baxis": {
            "gridcolor": "white",
            "linecolor": "white",
            "ticks": ""
           },
           "bgcolor": "#E5ECF6",
           "caxis": {
            "gridcolor": "white",
            "linecolor": "white",
            "ticks": ""
           }
          },
          "title": {
           "x": 0.05
          },
          "xaxis": {
           "automargin": true,
           "gridcolor": "white",
           "linecolor": "white",
           "ticks": "",
           "title": {
            "standoff": 15
           },
           "zerolinecolor": "white",
           "zerolinewidth": 2
          },
          "yaxis": {
           "automargin": true,
           "gridcolor": "white",
           "linecolor": "white",
           "ticks": "",
           "title": {
            "standoff": 15
           },
           "zerolinecolor": "white",
           "zerolinewidth": 2
          }
         }
        },
        "title": {
         "text": "Ranked Bar Chart of SI Score by District for NPK +20%",
         "x": 0.5
        },
        "width": 700,
        "xaxis": {
         "anchor": "y",
         "domain": [
          0,
          1
         ],
         "title": {
          "text": "Sustainable Intervention Score"
         }
        },
        "yaxis": {
         "anchor": "x",
         "domain": [
          0,
          1
         ],
         "title": {
          "text": "District"
         }
        }
       }
      }
     },
     "metadata": {},
     "output_type": "display_data"
    }
   ],
   "source": [
    "ranked_df = result_df[['node', 'SI_Score']].sort_values(by='SI_Score', ascending=True)\n",
    "ranked_df = ranked_df[ranked_df['SI_Score'] <= 5]\n",
    "\n",
    "ranked_df = ranked_df.dropna()\n",
    "\n",
    "ranked_df['SI_Score'] = ranked_df['SI_Score'].round(4)\n",
    "\n",
    "fig = px.bar(\n",
    "    ranked_df,\n",
    "    x='SI_Score',        \n",
    "    y='node',            \n",
    "    text='SI_Score',     \n",
    "    title='Ranked Bar Chart of SI Score by District for NPK +20%',\n",
    "    labels={'node': 'District', 'SI_Score': 'SI Score'},\n",
    "    color='SI_Score',    \n",
    "    color_continuous_scale='Temps_r'\n",
    ")\n",
    "\n",
    "fig.update_layout(\n",
    "    width=700,\n",
    "    height=800,\n",
    "    xaxis_title='Sustainable Intervention Score',\n",
    "    yaxis_title='District',\n",
    "    title_x=0.5 \n",
    ")\n",
    "\n",
    "fig.show()\n"
   ]
  },
  {
   "cell_type": "code",
   "execution_count": 754,
   "metadata": {},
   "outputs": [
    {
     "data": {
      "application/vnd.plotly.v1+json": {
       "config": {
        "plotlyServerURL": "https://plot.ly"
       },
       "data": [
        {
         "alignmentgroup": "True",
         "hovertemplate": "SI Score=%{marker.color}<br>District=%{y}<extra></extra>",
         "legendgroup": "",
         "marker": {
          "color": [
           0,
           0.0064,
           0.0144,
           0.0212,
           0.0213,
           0.0219,
           0.0285,
           0.0333,
           0.0354,
           0.0395,
           0.0437,
           0.0439,
           0.0457,
           0.0463,
           0.05,
           0.0545,
           0.0546,
           0.0556,
           0.0611,
           0.0617,
           0.0626,
           0.0727,
           0.0772,
           0.0941,
           0.0966,
           0.1002,
           0.1166,
           0.1267,
           0.1525,
           0.1604
          ],
          "coloraxis": "coloraxis",
          "pattern": {
           "shape": ""
          }
         },
         "name": "",
         "offsetgroup": "",
         "orientation": "h",
         "showlegend": false,
         "text": [
          0,
          0.0064,
          0.0144,
          0.0212,
          0.0213,
          0.0219,
          0.0285,
          0.0333,
          0.0354,
          0.0395,
          0.0437,
          0.0439,
          0.0457,
          0.0463,
          0.05,
          0.0545,
          0.0546,
          0.0556,
          0.0611,
          0.0617,
          0.0626,
          0.0727,
          0.0772,
          0.0941,
          0.0966,
          0.1002,
          0.1166,
          0.1267,
          0.1525,
          0.1604
         ],
         "textposition": "auto",
         "type": "bar",
         "x": [
          0,
          0.0064,
          0.0144,
          0.0212,
          0.0213,
          0.0219,
          0.0285,
          0.0333,
          0.0354,
          0.0395,
          0.0437,
          0.0439,
          0.0457,
          0.0463,
          0.05,
          0.0545,
          0.0546,
          0.0556,
          0.0611,
          0.0617,
          0.0626,
          0.0727,
          0.0772,
          0.0941,
          0.0966,
          0.1002,
          0.1166,
          0.1267,
          0.1525,
          0.1604
         ],
         "xaxis": "x",
         "y": [
          "BELAGAVI",
          "DAVANAGERE",
          "UDUPI",
          "HASSAN",
          "RAMANAGARA",
          "UTTARA KANNADA",
          "HAVERI",
          "GADAG",
          "CHITRADURGA",
          "TUMAKURU",
          "CHAMARAJANAGAR",
          "DHARAWAD",
          "VIJAYAPURA",
          "KALABURAGI",
          "SHIVAMOGGA",
          "VIJAYANAGARA",
          "KOPPAL",
          "MYSURU",
          "MANDYA",
          "RAICHUR",
          "BALLARI",
          "CHIKKABALLAPURA",
          "BENGALURU(R)",
          "BAGALKOT",
          "BIDAR",
          "CHIKKAMAGALURU",
          "KOLAR",
          "YADGIRI",
          "KODAGU",
          "BENGALURU"
         ],
         "yaxis": "y"
        }
       ],
       "layout": {
        "annotations": [
         {
          "font": {
           "color": "black",
           "size": 13
          },
          "showarrow": false,
          "text": "Avg: 0.0600",
          "x": 0.05995333333333333,
          "xanchor": "left",
          "y": 29.7
         }
        ],
        "barmode": "relative",
        "coloraxis": {
         "colorbar": {
          "title": {
           "text": "SI Score"
          }
         },
         "colorscale": [
          [
           0,
           "rgb(207, 89, 126)"
          ],
          [
           0.16666666666666666,
           "rgb(232, 132, 113)"
          ],
          [
           0.3333333333333333,
           "rgb(238, 180, 121)"
          ],
          [
           0.5,
           "rgb(233, 226, 156)"
          ],
          [
           0.6666666666666666,
           "rgb(156, 203, 134)"
          ],
          [
           0.8333333333333334,
           "rgb(57, 177, 133)"
          ],
          [
           1,
           "rgb(0, 147, 146)"
          ]
         ]
        },
        "height": 800,
        "legend": {
         "tracegroupgap": 0
        },
        "shapes": [
         {
          "line": {
           "color": "grey",
           "dash": "dash"
          },
          "type": "line",
          "x0": 0.05995333333333333,
          "x1": 0.05995333333333333,
          "xref": "x",
          "y0": 0,
          "y1": 30,
          "yref": "y"
         }
        ],
        "template": {
         "data": {
          "bar": [
           {
            "error_x": {
             "color": "#2a3f5f"
            },
            "error_y": {
             "color": "#2a3f5f"
            },
            "marker": {
             "line": {
              "color": "#E5ECF6",
              "width": 0.5
             },
             "pattern": {
              "fillmode": "overlay",
              "size": 10,
              "solidity": 0.2
             }
            },
            "type": "bar"
           }
          ],
          "barpolar": [
           {
            "marker": {
             "line": {
              "color": "#E5ECF6",
              "width": 0.5
             },
             "pattern": {
              "fillmode": "overlay",
              "size": 10,
              "solidity": 0.2
             }
            },
            "type": "barpolar"
           }
          ],
          "carpet": [
           {
            "aaxis": {
             "endlinecolor": "#2a3f5f",
             "gridcolor": "white",
             "linecolor": "white",
             "minorgridcolor": "white",
             "startlinecolor": "#2a3f5f"
            },
            "baxis": {
             "endlinecolor": "#2a3f5f",
             "gridcolor": "white",
             "linecolor": "white",
             "minorgridcolor": "white",
             "startlinecolor": "#2a3f5f"
            },
            "type": "carpet"
           }
          ],
          "choropleth": [
           {
            "colorbar": {
             "outlinewidth": 0,
             "ticks": ""
            },
            "type": "choropleth"
           }
          ],
          "contour": [
           {
            "colorbar": {
             "outlinewidth": 0,
             "ticks": ""
            },
            "colorscale": [
             [
              0,
              "#0d0887"
             ],
             [
              0.1111111111111111,
              "#46039f"
             ],
             [
              0.2222222222222222,
              "#7201a8"
             ],
             [
              0.3333333333333333,
              "#9c179e"
             ],
             [
              0.4444444444444444,
              "#bd3786"
             ],
             [
              0.5555555555555556,
              "#d8576b"
             ],
             [
              0.6666666666666666,
              "#ed7953"
             ],
             [
              0.7777777777777778,
              "#fb9f3a"
             ],
             [
              0.8888888888888888,
              "#fdca26"
             ],
             [
              1,
              "#f0f921"
             ]
            ],
            "type": "contour"
           }
          ],
          "contourcarpet": [
           {
            "colorbar": {
             "outlinewidth": 0,
             "ticks": ""
            },
            "type": "contourcarpet"
           }
          ],
          "heatmap": [
           {
            "colorbar": {
             "outlinewidth": 0,
             "ticks": ""
            },
            "colorscale": [
             [
              0,
              "#0d0887"
             ],
             [
              0.1111111111111111,
              "#46039f"
             ],
             [
              0.2222222222222222,
              "#7201a8"
             ],
             [
              0.3333333333333333,
              "#9c179e"
             ],
             [
              0.4444444444444444,
              "#bd3786"
             ],
             [
              0.5555555555555556,
              "#d8576b"
             ],
             [
              0.6666666666666666,
              "#ed7953"
             ],
             [
              0.7777777777777778,
              "#fb9f3a"
             ],
             [
              0.8888888888888888,
              "#fdca26"
             ],
             [
              1,
              "#f0f921"
             ]
            ],
            "type": "heatmap"
           }
          ],
          "heatmapgl": [
           {
            "colorbar": {
             "outlinewidth": 0,
             "ticks": ""
            },
            "colorscale": [
             [
              0,
              "#0d0887"
             ],
             [
              0.1111111111111111,
              "#46039f"
             ],
             [
              0.2222222222222222,
              "#7201a8"
             ],
             [
              0.3333333333333333,
              "#9c179e"
             ],
             [
              0.4444444444444444,
              "#bd3786"
             ],
             [
              0.5555555555555556,
              "#d8576b"
             ],
             [
              0.6666666666666666,
              "#ed7953"
             ],
             [
              0.7777777777777778,
              "#fb9f3a"
             ],
             [
              0.8888888888888888,
              "#fdca26"
             ],
             [
              1,
              "#f0f921"
             ]
            ],
            "type": "heatmapgl"
           }
          ],
          "histogram": [
           {
            "marker": {
             "pattern": {
              "fillmode": "overlay",
              "size": 10,
              "solidity": 0.2
             }
            },
            "type": "histogram"
           }
          ],
          "histogram2d": [
           {
            "colorbar": {
             "outlinewidth": 0,
             "ticks": ""
            },
            "colorscale": [
             [
              0,
              "#0d0887"
             ],
             [
              0.1111111111111111,
              "#46039f"
             ],
             [
              0.2222222222222222,
              "#7201a8"
             ],
             [
              0.3333333333333333,
              "#9c179e"
             ],
             [
              0.4444444444444444,
              "#bd3786"
             ],
             [
              0.5555555555555556,
              "#d8576b"
             ],
             [
              0.6666666666666666,
              "#ed7953"
             ],
             [
              0.7777777777777778,
              "#fb9f3a"
             ],
             [
              0.8888888888888888,
              "#fdca26"
             ],
             [
              1,
              "#f0f921"
             ]
            ],
            "type": "histogram2d"
           }
          ],
          "histogram2dcontour": [
           {
            "colorbar": {
             "outlinewidth": 0,
             "ticks": ""
            },
            "colorscale": [
             [
              0,
              "#0d0887"
             ],
             [
              0.1111111111111111,
              "#46039f"
             ],
             [
              0.2222222222222222,
              "#7201a8"
             ],
             [
              0.3333333333333333,
              "#9c179e"
             ],
             [
              0.4444444444444444,
              "#bd3786"
             ],
             [
              0.5555555555555556,
              "#d8576b"
             ],
             [
              0.6666666666666666,
              "#ed7953"
             ],
             [
              0.7777777777777778,
              "#fb9f3a"
             ],
             [
              0.8888888888888888,
              "#fdca26"
             ],
             [
              1,
              "#f0f921"
             ]
            ],
            "type": "histogram2dcontour"
           }
          ],
          "mesh3d": [
           {
            "colorbar": {
             "outlinewidth": 0,
             "ticks": ""
            },
            "type": "mesh3d"
           }
          ],
          "parcoords": [
           {
            "line": {
             "colorbar": {
              "outlinewidth": 0,
              "ticks": ""
             }
            },
            "type": "parcoords"
           }
          ],
          "pie": [
           {
            "automargin": true,
            "type": "pie"
           }
          ],
          "scatter": [
           {
            "fillpattern": {
             "fillmode": "overlay",
             "size": 10,
             "solidity": 0.2
            },
            "type": "scatter"
           }
          ],
          "scatter3d": [
           {
            "line": {
             "colorbar": {
              "outlinewidth": 0,
              "ticks": ""
             }
            },
            "marker": {
             "colorbar": {
              "outlinewidth": 0,
              "ticks": ""
             }
            },
            "type": "scatter3d"
           }
          ],
          "scattercarpet": [
           {
            "marker": {
             "colorbar": {
              "outlinewidth": 0,
              "ticks": ""
             }
            },
            "type": "scattercarpet"
           }
          ],
          "scattergeo": [
           {
            "marker": {
             "colorbar": {
              "outlinewidth": 0,
              "ticks": ""
             }
            },
            "type": "scattergeo"
           }
          ],
          "scattergl": [
           {
            "marker": {
             "colorbar": {
              "outlinewidth": 0,
              "ticks": ""
             }
            },
            "type": "scattergl"
           }
          ],
          "scattermapbox": [
           {
            "marker": {
             "colorbar": {
              "outlinewidth": 0,
              "ticks": ""
             }
            },
            "type": "scattermapbox"
           }
          ],
          "scatterpolar": [
           {
            "marker": {
             "colorbar": {
              "outlinewidth": 0,
              "ticks": ""
             }
            },
            "type": "scatterpolar"
           }
          ],
          "scatterpolargl": [
           {
            "marker": {
             "colorbar": {
              "outlinewidth": 0,
              "ticks": ""
             }
            },
            "type": "scatterpolargl"
           }
          ],
          "scatterternary": [
           {
            "marker": {
             "colorbar": {
              "outlinewidth": 0,
              "ticks": ""
             }
            },
            "type": "scatterternary"
           }
          ],
          "surface": [
           {
            "colorbar": {
             "outlinewidth": 0,
             "ticks": ""
            },
            "colorscale": [
             [
              0,
              "#0d0887"
             ],
             [
              0.1111111111111111,
              "#46039f"
             ],
             [
              0.2222222222222222,
              "#7201a8"
             ],
             [
              0.3333333333333333,
              "#9c179e"
             ],
             [
              0.4444444444444444,
              "#bd3786"
             ],
             [
              0.5555555555555556,
              "#d8576b"
             ],
             [
              0.6666666666666666,
              "#ed7953"
             ],
             [
              0.7777777777777778,
              "#fb9f3a"
             ],
             [
              0.8888888888888888,
              "#fdca26"
             ],
             [
              1,
              "#f0f921"
             ]
            ],
            "type": "surface"
           }
          ],
          "table": [
           {
            "cells": {
             "fill": {
              "color": "#EBF0F8"
             },
             "line": {
              "color": "white"
             }
            },
            "header": {
             "fill": {
              "color": "#C8D4E3"
             },
             "line": {
              "color": "white"
             }
            },
            "type": "table"
           }
          ]
         },
         "layout": {
          "annotationdefaults": {
           "arrowcolor": "#2a3f5f",
           "arrowhead": 0,
           "arrowwidth": 1
          },
          "autotypenumbers": "strict",
          "coloraxis": {
           "colorbar": {
            "outlinewidth": 0,
            "ticks": ""
           }
          },
          "colorscale": {
           "diverging": [
            [
             0,
             "#8e0152"
            ],
            [
             0.1,
             "#c51b7d"
            ],
            [
             0.2,
             "#de77ae"
            ],
            [
             0.3,
             "#f1b6da"
            ],
            [
             0.4,
             "#fde0ef"
            ],
            [
             0.5,
             "#f7f7f7"
            ],
            [
             0.6,
             "#e6f5d0"
            ],
            [
             0.7,
             "#b8e186"
            ],
            [
             0.8,
             "#7fbc41"
            ],
            [
             0.9,
             "#4d9221"
            ],
            [
             1,
             "#276419"
            ]
           ],
           "sequential": [
            [
             0,
             "#0d0887"
            ],
            [
             0.1111111111111111,
             "#46039f"
            ],
            [
             0.2222222222222222,
             "#7201a8"
            ],
            [
             0.3333333333333333,
             "#9c179e"
            ],
            [
             0.4444444444444444,
             "#bd3786"
            ],
            [
             0.5555555555555556,
             "#d8576b"
            ],
            [
             0.6666666666666666,
             "#ed7953"
            ],
            [
             0.7777777777777778,
             "#fb9f3a"
            ],
            [
             0.8888888888888888,
             "#fdca26"
            ],
            [
             1,
             "#f0f921"
            ]
           ],
           "sequentialminus": [
            [
             0,
             "#0d0887"
            ],
            [
             0.1111111111111111,
             "#46039f"
            ],
            [
             0.2222222222222222,
             "#7201a8"
            ],
            [
             0.3333333333333333,
             "#9c179e"
            ],
            [
             0.4444444444444444,
             "#bd3786"
            ],
            [
             0.5555555555555556,
             "#d8576b"
            ],
            [
             0.6666666666666666,
             "#ed7953"
            ],
            [
             0.7777777777777778,
             "#fb9f3a"
            ],
            [
             0.8888888888888888,
             "#fdca26"
            ],
            [
             1,
             "#f0f921"
            ]
           ]
          },
          "colorway": [
           "#636efa",
           "#EF553B",
           "#00cc96",
           "#ab63fa",
           "#FFA15A",
           "#19d3f3",
           "#FF6692",
           "#B6E880",
           "#FF97FF",
           "#FECB52"
          ],
          "font": {
           "color": "#2a3f5f"
          },
          "geo": {
           "bgcolor": "white",
           "lakecolor": "white",
           "landcolor": "#E5ECF6",
           "showlakes": true,
           "showland": true,
           "subunitcolor": "white"
          },
          "hoverlabel": {
           "align": "left"
          },
          "hovermode": "closest",
          "mapbox": {
           "style": "light"
          },
          "paper_bgcolor": "white",
          "plot_bgcolor": "#E5ECF6",
          "polar": {
           "angularaxis": {
            "gridcolor": "white",
            "linecolor": "white",
            "ticks": ""
           },
           "bgcolor": "#E5ECF6",
           "radialaxis": {
            "gridcolor": "white",
            "linecolor": "white",
            "ticks": ""
           }
          },
          "scene": {
           "xaxis": {
            "backgroundcolor": "#E5ECF6",
            "gridcolor": "white",
            "gridwidth": 2,
            "linecolor": "white",
            "showbackground": true,
            "ticks": "",
            "zerolinecolor": "white"
           },
           "yaxis": {
            "backgroundcolor": "#E5ECF6",
            "gridcolor": "white",
            "gridwidth": 2,
            "linecolor": "white",
            "showbackground": true,
            "ticks": "",
            "zerolinecolor": "white"
           },
           "zaxis": {
            "backgroundcolor": "#E5ECF6",
            "gridcolor": "white",
            "gridwidth": 2,
            "linecolor": "white",
            "showbackground": true,
            "ticks": "",
            "zerolinecolor": "white"
           }
          },
          "shapedefaults": {
           "line": {
            "color": "#2a3f5f"
           }
          },
          "ternary": {
           "aaxis": {
            "gridcolor": "white",
            "linecolor": "white",
            "ticks": ""
           },
           "baxis": {
            "gridcolor": "white",
            "linecolor": "white",
            "ticks": ""
           },
           "bgcolor": "#E5ECF6",
           "caxis": {
            "gridcolor": "white",
            "linecolor": "white",
            "ticks": ""
           }
          },
          "title": {
           "x": 0.05
          },
          "xaxis": {
           "automargin": true,
           "gridcolor": "white",
           "linecolor": "white",
           "ticks": "",
           "title": {
            "standoff": 15
           },
           "zerolinecolor": "white",
           "zerolinewidth": 2
          },
          "yaxis": {
           "automargin": true,
           "gridcolor": "white",
           "linecolor": "white",
           "ticks": "",
           "title": {
            "standoff": 15
           },
           "zerolinecolor": "white",
           "zerolinewidth": 2
          }
         }
        },
        "title": {
         "text": "Ranked Bar Chart of SI Score by District for NPK +20%",
         "x": 0.5
        },
        "width": 700,
        "xaxis": {
         "anchor": "y",
         "domain": [
          0,
          1
         ],
         "title": {
          "text": "Sustainable Intervention Score"
         }
        },
        "yaxis": {
         "anchor": "x",
         "domain": [
          0,
          1
         ],
         "title": {
          "text": "District"
         }
        }
       }
      }
     },
     "metadata": {},
     "output_type": "display_data"
    }
   ],
   "source": [
    "import plotly.express as px\n",
    "\n",
    "# Calculate the average of SI_Score\n",
    "avg_si_score = ranked_df['SI_Score'].mean()\n",
    "\n",
    "# Create the bar chart\n",
    "fig = px.bar(\n",
    "    ranked_df,\n",
    "    x='SI_Score',        \n",
    "    y='node',            \n",
    "    text='SI_Score',     \n",
    "    title='Ranked Bar Chart of SI Score by District for NPK +20%',\n",
    "    labels={'node': 'District', 'SI_Score': 'SI Score'},\n",
    "    color='SI_Score',    \n",
    "    color_continuous_scale='Temps_r'\n",
    ")\n",
    "\n",
    "# Add a vertical line to indicate the average SI Score\n",
    "fig.add_shape(\n",
    "    type='line',\n",
    "    x0=avg_si_score,\n",
    "    y0=0,\n",
    "    x1=avg_si_score,\n",
    "    y1=len(ranked_df['node']),\n",
    "    line=dict(color='grey', dash='dash'),\n",
    "    xref='x',\n",
    "    yref='y'\n",
    ")\n",
    "\n",
    "# Add a label to the average line\n",
    "fig.add_annotation(\n",
    "    x=avg_si_score,\n",
    "    y=len(ranked_df['node']) - 0.3,\n",
    "    text=f'Avg: {avg_si_score:.4f}',\n",
    "    showarrow=False,\n",
    "    font=dict(size=13, color='black'),\n",
    "    xanchor='left'\n",
    ")\n",
    "\n",
    "# Update layout\n",
    "fig.update_layout(\n",
    "    width=700,\n",
    "    height=800,\n",
    "    xaxis_title='Sustainable Intervention Score',\n",
    "    yaxis_title='District',\n",
    "    title_x=0.5\n",
    ")\n",
    "\n",
    "fig.show()"
   ]
  },
  {
   "cell_type": "code",
   "execution_count": 755,
   "metadata": {},
   "outputs": [
    {
     "data": {
      "application/vnd.plotly.v1+json": {
       "config": {
        "plotlyServerURL": "https://plot.ly"
       },
       "data": [
        {
         "name": "Stability",
         "orientation": "h",
         "text": [
          0.9612,
          0.9867,
          0.9104,
          0.804,
          0.1343,
          0.8473,
          0.8527,
          0.9899,
          0.8758,
          0.6863,
          0.7768,
          0.8367,
          0.3779,
          0.7074,
          0.7451,
          1,
          0.8069,
          0,
          0.9034,
          0.9407,
          0.5624,
          0.7515,
          0.4934,
          0.4677,
          0.7062,
          0.9877,
          0.8688,
          0.8377,
          0.6599,
          0.8598,
          0.6148
         ],
         "textfont": {
          "size": 15
         },
         "textposition": "outside",
         "type": "bar",
         "x": [
          0.9612196694668942,
          0.9867279400738811,
          0.9104202811925186,
          0.8039511334715146,
          0.13425573856701656,
          0.8473425389566588,
          0.8526840039417328,
          0.9898502113928332,
          0.8758149121987923,
          0.6862986218791592,
          0.7768168132263902,
          0.8366935284108394,
          0.377920980494002,
          0.7074017920586203,
          0.7451392700572494,
          1,
          0.8069366978634973,
          0,
          0.9034126358163902,
          0.94066008563587,
          0.5623798350016221,
          0.7515378081417474,
          0.4934265255390331,
          0.46770166902281585,
          0.7062254807391786,
          0.9877010106379586,
          0.8688124827829089,
          0.8377016505470222,
          0.6599373428964515,
          0.8597570021568476,
          0.6147841049362281
         ],
         "y": [
          "BENGALURU",
          "BENGALURU(R)",
          "RAMANAGARA",
          "CHITRADURGA",
          "DAVANAGERE",
          "KOLAR",
          "CHIKKABALLAPURA",
          "SHIVAMOGGA",
          "TUMAKURU",
          "CHIKKAMAGALURU",
          "DAKSHINA KANNADA",
          "UDUPI",
          "HASSAN",
          "KODAGU",
          "MANDYA",
          "MYSURU",
          "CHAMARAJANAGAR",
          "BELAGAVI",
          "VIJAYAPURA",
          "BAGALKOT",
          "DHARAWAD",
          "GADAG",
          "HAVERI",
          "UTTARA KANNADA",
          "BALLARI",
          "BIDAR",
          "KALABURAGI",
          "YADGIRI",
          "RAICHUR",
          "KOPPAL",
          "VIJAYANAGARA"
         ]
        },
        {
         "name": "Mean Impact",
         "orientation": "h",
         "text": [
          0.1523,
          0.0708,
          0.0214,
          0.0406,
          0.0438,
          0.1269,
          0.0786,
          0.0451,
          0.0416,
          0.1344,
          null,
          0.0181,
          0.051,
          0.1927,
          0.0755,
          0.0511,
          0.0499,
          0.0847,
          0.0466,
          0.0922,
          0.072,
          0.0409,
          0.0532,
          0.0431,
          0.0817,
          0.0885,
          0.0491,
          0.1395,
          0.0861,
          0.0585,
          0.0817
         ],
         "textfont": {
          "size": 15
         },
         "textposition": "outside",
         "type": "bar",
         "x": [
          0.15230004549701823,
          0.07083299798976254,
          0.02144640256768403,
          0.040559720709999365,
          0.04381039088597163,
          0.12686552267708046,
          0.07862399786447427,
          0.045079545836435274,
          0.041551316241324285,
          0.13444351615756428,
          null,
          0.01814477839086165,
          0.050969174671119735,
          0.1926709199015432,
          0.07554639818164247,
          0.05105585171204839,
          0.04987282586476999,
          0.08472083907814743,
          0.04657124285880644,
          0.09221691130513596,
          0.0719851486671953,
          0.040859808444518586,
          0.0531713319020268,
          0.043078602857062234,
          0.08173100935691087,
          0.08853031981560874,
          0.04909674091650843,
          0.13947262360213247,
          0.0861268289169044,
          0.058485731116570835,
          0.08173100935691087
         ],
         "y": [
          "BENGALURU",
          "BENGALURU(R)",
          "RAMANAGARA",
          "CHITRADURGA",
          "DAVANAGERE",
          "KOLAR",
          "CHIKKABALLAPURA",
          "SHIVAMOGGA",
          "TUMAKURU",
          "CHIKKAMAGALURU",
          "DAKSHINA KANNADA",
          "UDUPI",
          "HASSAN",
          "KODAGU",
          "MANDYA",
          "MYSURU",
          "CHAMARAJANAGAR",
          "BELAGAVI",
          "VIJAYAPURA",
          "BAGALKOT",
          "DHARAWAD",
          "GADAG",
          "HAVERI",
          "UTTARA KANNADA",
          "BALLARI",
          "BIDAR",
          "KALABURAGI",
          "YADGIRI",
          "RAICHUR",
          "KOPPAL",
          "VIJAYANAGARA"
         ]
        },
        {
         "name": "Dissonance",
         "orientation": "h",
         "text": [
          0.0511,
          0.0252,
          0.0069,
          0.0127,
          0.0137,
          0.0396,
          0.0246,
          0.0176,
          0.013,
          0.0422,
          null,
          0.0004,
          0.0175,
          0.0742,
          0.0238,
          0.0164,
          0.0156,
          0.0265,
          0.0146,
          0.0289,
          0.0225,
          0.0128,
          0.0167,
          0.0135,
          0.0256,
          0.0315,
          0.0153,
          0.0435,
          0.0269,
          0.0183,
          0.0256
         ],
         "textfont": {
          "size": 15
         },
         "textposition": "outside",
         "type": "bar",
         "x": [
          0.05107896423347308,
          0.025161141610593046,
          0.0068679604148711715,
          0.012698005036477042,
          0.013729749949378159,
          0.03961744810803354,
          0.024606380473760667,
          0.01757844651158022,
          0.012997146185772794,
          0.04223059844457347,
          null,
          0.00040769092469872606,
          0.017485374294254834,
          0.07423072869197528,
          0.023766645530767794,
          0.016397417709811075,
          0.015613476247415242,
          0.02651225746315039,
          0.014604270082623057,
          0.02887652029931452,
          0.02252351293548606,
          0.012780513097386467,
          0.016659994078781888,
          0.013477467152032956,
          0.025571572520740243,
          0.0314667698994167,
          0.015341844068084295,
          0.0435388530576131,
          0.026916466647518997,
          0.018312266715831284,
          0.025571572520740243
         ],
         "y": [
          "BENGALURU",
          "BENGALURU(R)",
          "RAMANAGARA",
          "CHITRADURGA",
          "DAVANAGERE",
          "KOLAR",
          "CHIKKABALLAPURA",
          "SHIVAMOGGA",
          "TUMAKURU",
          "CHIKKAMAGALURU",
          "DAKSHINA KANNADA",
          "UDUPI",
          "HASSAN",
          "KODAGU",
          "MANDYA",
          "MYSURU",
          "CHAMARAJANAGAR",
          "BELAGAVI",
          "VIJAYAPURA",
          "BAGALKOT",
          "DHARAWAD",
          "GADAG",
          "HAVERI",
          "UTTARA KANNADA",
          "BALLARI",
          "BIDAR",
          "KALABURAGI",
          "YADGIRI",
          "RAICHUR",
          "KOPPAL",
          "VIJAYANAGARA"
         ]
        }
       ],
       "layout": {
        "barmode": "group",
        "height": 1200,
        "template": {
         "data": {
          "bar": [
           {
            "error_x": {
             "color": "#2a3f5f"
            },
            "error_y": {
             "color": "#2a3f5f"
            },
            "marker": {
             "line": {
              "color": "#E5ECF6",
              "width": 0.5
             },
             "pattern": {
              "fillmode": "overlay",
              "size": 10,
              "solidity": 0.2
             }
            },
            "type": "bar"
           }
          ],
          "barpolar": [
           {
            "marker": {
             "line": {
              "color": "#E5ECF6",
              "width": 0.5
             },
             "pattern": {
              "fillmode": "overlay",
              "size": 10,
              "solidity": 0.2
             }
            },
            "type": "barpolar"
           }
          ],
          "carpet": [
           {
            "aaxis": {
             "endlinecolor": "#2a3f5f",
             "gridcolor": "white",
             "linecolor": "white",
             "minorgridcolor": "white",
             "startlinecolor": "#2a3f5f"
            },
            "baxis": {
             "endlinecolor": "#2a3f5f",
             "gridcolor": "white",
             "linecolor": "white",
             "minorgridcolor": "white",
             "startlinecolor": "#2a3f5f"
            },
            "type": "carpet"
           }
          ],
          "choropleth": [
           {
            "colorbar": {
             "outlinewidth": 0,
             "ticks": ""
            },
            "type": "choropleth"
           }
          ],
          "contour": [
           {
            "colorbar": {
             "outlinewidth": 0,
             "ticks": ""
            },
            "colorscale": [
             [
              0,
              "#0d0887"
             ],
             [
              0.1111111111111111,
              "#46039f"
             ],
             [
              0.2222222222222222,
              "#7201a8"
             ],
             [
              0.3333333333333333,
              "#9c179e"
             ],
             [
              0.4444444444444444,
              "#bd3786"
             ],
             [
              0.5555555555555556,
              "#d8576b"
             ],
             [
              0.6666666666666666,
              "#ed7953"
             ],
             [
              0.7777777777777778,
              "#fb9f3a"
             ],
             [
              0.8888888888888888,
              "#fdca26"
             ],
             [
              1,
              "#f0f921"
             ]
            ],
            "type": "contour"
           }
          ],
          "contourcarpet": [
           {
            "colorbar": {
             "outlinewidth": 0,
             "ticks": ""
            },
            "type": "contourcarpet"
           }
          ],
          "heatmap": [
           {
            "colorbar": {
             "outlinewidth": 0,
             "ticks": ""
            },
            "colorscale": [
             [
              0,
              "#0d0887"
             ],
             [
              0.1111111111111111,
              "#46039f"
             ],
             [
              0.2222222222222222,
              "#7201a8"
             ],
             [
              0.3333333333333333,
              "#9c179e"
             ],
             [
              0.4444444444444444,
              "#bd3786"
             ],
             [
              0.5555555555555556,
              "#d8576b"
             ],
             [
              0.6666666666666666,
              "#ed7953"
             ],
             [
              0.7777777777777778,
              "#fb9f3a"
             ],
             [
              0.8888888888888888,
              "#fdca26"
             ],
             [
              1,
              "#f0f921"
             ]
            ],
            "type": "heatmap"
           }
          ],
          "heatmapgl": [
           {
            "colorbar": {
             "outlinewidth": 0,
             "ticks": ""
            },
            "colorscale": [
             [
              0,
              "#0d0887"
             ],
             [
              0.1111111111111111,
              "#46039f"
             ],
             [
              0.2222222222222222,
              "#7201a8"
             ],
             [
              0.3333333333333333,
              "#9c179e"
             ],
             [
              0.4444444444444444,
              "#bd3786"
             ],
             [
              0.5555555555555556,
              "#d8576b"
             ],
             [
              0.6666666666666666,
              "#ed7953"
             ],
             [
              0.7777777777777778,
              "#fb9f3a"
             ],
             [
              0.8888888888888888,
              "#fdca26"
             ],
             [
              1,
              "#f0f921"
             ]
            ],
            "type": "heatmapgl"
           }
          ],
          "histogram": [
           {
            "marker": {
             "pattern": {
              "fillmode": "overlay",
              "size": 10,
              "solidity": 0.2
             }
            },
            "type": "histogram"
           }
          ],
          "histogram2d": [
           {
            "colorbar": {
             "outlinewidth": 0,
             "ticks": ""
            },
            "colorscale": [
             [
              0,
              "#0d0887"
             ],
             [
              0.1111111111111111,
              "#46039f"
             ],
             [
              0.2222222222222222,
              "#7201a8"
             ],
             [
              0.3333333333333333,
              "#9c179e"
             ],
             [
              0.4444444444444444,
              "#bd3786"
             ],
             [
              0.5555555555555556,
              "#d8576b"
             ],
             [
              0.6666666666666666,
              "#ed7953"
             ],
             [
              0.7777777777777778,
              "#fb9f3a"
             ],
             [
              0.8888888888888888,
              "#fdca26"
             ],
             [
              1,
              "#f0f921"
             ]
            ],
            "type": "histogram2d"
           }
          ],
          "histogram2dcontour": [
           {
            "colorbar": {
             "outlinewidth": 0,
             "ticks": ""
            },
            "colorscale": [
             [
              0,
              "#0d0887"
             ],
             [
              0.1111111111111111,
              "#46039f"
             ],
             [
              0.2222222222222222,
              "#7201a8"
             ],
             [
              0.3333333333333333,
              "#9c179e"
             ],
             [
              0.4444444444444444,
              "#bd3786"
             ],
             [
              0.5555555555555556,
              "#d8576b"
             ],
             [
              0.6666666666666666,
              "#ed7953"
             ],
             [
              0.7777777777777778,
              "#fb9f3a"
             ],
             [
              0.8888888888888888,
              "#fdca26"
             ],
             [
              1,
              "#f0f921"
             ]
            ],
            "type": "histogram2dcontour"
           }
          ],
          "mesh3d": [
           {
            "colorbar": {
             "outlinewidth": 0,
             "ticks": ""
            },
            "type": "mesh3d"
           }
          ],
          "parcoords": [
           {
            "line": {
             "colorbar": {
              "outlinewidth": 0,
              "ticks": ""
             }
            },
            "type": "parcoords"
           }
          ],
          "pie": [
           {
            "automargin": true,
            "type": "pie"
           }
          ],
          "scatter": [
           {
            "fillpattern": {
             "fillmode": "overlay",
             "size": 10,
             "solidity": 0.2
            },
            "type": "scatter"
           }
          ],
          "scatter3d": [
           {
            "line": {
             "colorbar": {
              "outlinewidth": 0,
              "ticks": ""
             }
            },
            "marker": {
             "colorbar": {
              "outlinewidth": 0,
              "ticks": ""
             }
            },
            "type": "scatter3d"
           }
          ],
          "scattercarpet": [
           {
            "marker": {
             "colorbar": {
              "outlinewidth": 0,
              "ticks": ""
             }
            },
            "type": "scattercarpet"
           }
          ],
          "scattergeo": [
           {
            "marker": {
             "colorbar": {
              "outlinewidth": 0,
              "ticks": ""
             }
            },
            "type": "scattergeo"
           }
          ],
          "scattergl": [
           {
            "marker": {
             "colorbar": {
              "outlinewidth": 0,
              "ticks": ""
             }
            },
            "type": "scattergl"
           }
          ],
          "scattermapbox": [
           {
            "marker": {
             "colorbar": {
              "outlinewidth": 0,
              "ticks": ""
             }
            },
            "type": "scattermapbox"
           }
          ],
          "scatterpolar": [
           {
            "marker": {
             "colorbar": {
              "outlinewidth": 0,
              "ticks": ""
             }
            },
            "type": "scatterpolar"
           }
          ],
          "scatterpolargl": [
           {
            "marker": {
             "colorbar": {
              "outlinewidth": 0,
              "ticks": ""
             }
            },
            "type": "scatterpolargl"
           }
          ],
          "scatterternary": [
           {
            "marker": {
             "colorbar": {
              "outlinewidth": 0,
              "ticks": ""
             }
            },
            "type": "scatterternary"
           }
          ],
          "surface": [
           {
            "colorbar": {
             "outlinewidth": 0,
             "ticks": ""
            },
            "colorscale": [
             [
              0,
              "#0d0887"
             ],
             [
              0.1111111111111111,
              "#46039f"
             ],
             [
              0.2222222222222222,
              "#7201a8"
             ],
             [
              0.3333333333333333,
              "#9c179e"
             ],
             [
              0.4444444444444444,
              "#bd3786"
             ],
             [
              0.5555555555555556,
              "#d8576b"
             ],
             [
              0.6666666666666666,
              "#ed7953"
             ],
             [
              0.7777777777777778,
              "#fb9f3a"
             ],
             [
              0.8888888888888888,
              "#fdca26"
             ],
             [
              1,
              "#f0f921"
             ]
            ],
            "type": "surface"
           }
          ],
          "table": [
           {
            "cells": {
             "fill": {
              "color": "#EBF0F8"
             },
             "line": {
              "color": "white"
             }
            },
            "header": {
             "fill": {
              "color": "#C8D4E3"
             },
             "line": {
              "color": "white"
             }
            },
            "type": "table"
           }
          ]
         },
         "layout": {
          "annotationdefaults": {
           "arrowcolor": "#2a3f5f",
           "arrowhead": 0,
           "arrowwidth": 1
          },
          "autotypenumbers": "strict",
          "coloraxis": {
           "colorbar": {
            "outlinewidth": 0,
            "ticks": ""
           }
          },
          "colorscale": {
           "diverging": [
            [
             0,
             "#8e0152"
            ],
            [
             0.1,
             "#c51b7d"
            ],
            [
             0.2,
             "#de77ae"
            ],
            [
             0.3,
             "#f1b6da"
            ],
            [
             0.4,
             "#fde0ef"
            ],
            [
             0.5,
             "#f7f7f7"
            ],
            [
             0.6,
             "#e6f5d0"
            ],
            [
             0.7,
             "#b8e186"
            ],
            [
             0.8,
             "#7fbc41"
            ],
            [
             0.9,
             "#4d9221"
            ],
            [
             1,
             "#276419"
            ]
           ],
           "sequential": [
            [
             0,
             "#0d0887"
            ],
            [
             0.1111111111111111,
             "#46039f"
            ],
            [
             0.2222222222222222,
             "#7201a8"
            ],
            [
             0.3333333333333333,
             "#9c179e"
            ],
            [
             0.4444444444444444,
             "#bd3786"
            ],
            [
             0.5555555555555556,
             "#d8576b"
            ],
            [
             0.6666666666666666,
             "#ed7953"
            ],
            [
             0.7777777777777778,
             "#fb9f3a"
            ],
            [
             0.8888888888888888,
             "#fdca26"
            ],
            [
             1,
             "#f0f921"
            ]
           ],
           "sequentialminus": [
            [
             0,
             "#0d0887"
            ],
            [
             0.1111111111111111,
             "#46039f"
            ],
            [
             0.2222222222222222,
             "#7201a8"
            ],
            [
             0.3333333333333333,
             "#9c179e"
            ],
            [
             0.4444444444444444,
             "#bd3786"
            ],
            [
             0.5555555555555556,
             "#d8576b"
            ],
            [
             0.6666666666666666,
             "#ed7953"
            ],
            [
             0.7777777777777778,
             "#fb9f3a"
            ],
            [
             0.8888888888888888,
             "#fdca26"
            ],
            [
             1,
             "#f0f921"
            ]
           ]
          },
          "colorway": [
           "#636efa",
           "#EF553B",
           "#00cc96",
           "#ab63fa",
           "#FFA15A",
           "#19d3f3",
           "#FF6692",
           "#B6E880",
           "#FF97FF",
           "#FECB52"
          ],
          "font": {
           "color": "#2a3f5f"
          },
          "geo": {
           "bgcolor": "white",
           "lakecolor": "white",
           "landcolor": "#E5ECF6",
           "showlakes": true,
           "showland": true,
           "subunitcolor": "white"
          },
          "hoverlabel": {
           "align": "left"
          },
          "hovermode": "closest",
          "mapbox": {
           "style": "light"
          },
          "paper_bgcolor": "white",
          "plot_bgcolor": "#E5ECF6",
          "polar": {
           "angularaxis": {
            "gridcolor": "white",
            "linecolor": "white",
            "ticks": ""
           },
           "bgcolor": "#E5ECF6",
           "radialaxis": {
            "gridcolor": "white",
            "linecolor": "white",
            "ticks": ""
           }
          },
          "scene": {
           "xaxis": {
            "backgroundcolor": "#E5ECF6",
            "gridcolor": "white",
            "gridwidth": 2,
            "linecolor": "white",
            "showbackground": true,
            "ticks": "",
            "zerolinecolor": "white"
           },
           "yaxis": {
            "backgroundcolor": "#E5ECF6",
            "gridcolor": "white",
            "gridwidth": 2,
            "linecolor": "white",
            "showbackground": true,
            "ticks": "",
            "zerolinecolor": "white"
           },
           "zaxis": {
            "backgroundcolor": "#E5ECF6",
            "gridcolor": "white",
            "gridwidth": 2,
            "linecolor": "white",
            "showbackground": true,
            "ticks": "",
            "zerolinecolor": "white"
           }
          },
          "shapedefaults": {
           "line": {
            "color": "#2a3f5f"
           }
          },
          "ternary": {
           "aaxis": {
            "gridcolor": "white",
            "linecolor": "white",
            "ticks": ""
           },
           "baxis": {
            "gridcolor": "white",
            "linecolor": "white",
            "ticks": ""
           },
           "bgcolor": "#E5ECF6",
           "caxis": {
            "gridcolor": "white",
            "linecolor": "white",
            "ticks": ""
           }
          },
          "title": {
           "x": 0.05
          },
          "xaxis": {
           "automargin": true,
           "gridcolor": "white",
           "linecolor": "white",
           "ticks": "",
           "title": {
            "standoff": 15
           },
           "zerolinecolor": "white",
           "zerolinewidth": 2
          },
          "yaxis": {
           "automargin": true,
           "gridcolor": "white",
           "linecolor": "white",
           "ticks": "",
           "title": {
            "standoff": 15
           },
           "zerolinecolor": "white",
           "zerolinewidth": 2
          }
         }
        },
        "title": {
         "text": "Stability, Mean Impact, and Dissonance per District"
        },
        "width": 800,
        "xaxis": {
         "title": {
          "text": "Values"
         }
        },
        "yaxis": {
         "title": {
          "text": "District"
         }
        }
       }
      }
     },
     "metadata": {},
     "output_type": "display_data"
    }
   ],
   "source": [
    "import plotly.graph_objects as go\n",
    "filtered_df = result_df[['node','stability','Mean_Impact','Dissonance']]\n",
    "filtered_df\n",
    "# Create a bar plot\n",
    "fig = go.Figure()\n",
    "import plotly.graph_objects as go\n",
    "\n",
    "\n",
    "# Add bars for each category and display values on each bar\n",
    "fig.add_trace(go.Bar(\n",
    "    y=filtered_df['node'],\n",
    "    x=filtered_df['stability'],\n",
    "    text=filtered_df['stability'].round(4), \n",
    "    textfont_size=15,\n",
    "    textposition='outside',\n",
    "    name='Stability',\n",
    "    orientation='h'\n",
    "))\n",
    "\n",
    "fig.add_trace(go.Bar(\n",
    "    y=filtered_df['node'],\n",
    "    x=filtered_df['Mean_Impact'],\n",
    "    text=filtered_df['Mean_Impact'].round(4),  \n",
    "    textfont_size=15,\n",
    "    textposition='outside',\n",
    "    name='Mean Impact',\n",
    "    orientation='h'\n",
    "))\n",
    "\n",
    "fig.add_trace(go.Bar(\n",
    "    y=filtered_df['node'],\n",
    "    x=filtered_df['Dissonance'],\n",
    "    text=filtered_df['Dissonance'].round(4),  \n",
    "    textfont_size=15,\n",
    "    textposition='outside',\n",
    "    name='Dissonance',\n",
    "    orientation='h'\n",
    "))\n",
    "\n",
    "# Update layout with increased plot size\n",
    "fig.update_layout(\n",
    "    title='Stability, Mean Impact, and Dissonance per District',\n",
    "    barmode='group',  # Group bars together\n",
    "    xaxis_title='Values',\n",
    "    yaxis_title='District',\n",
    "    width=800,  # Increase width\n",
    "    height=1200   # Increase height\n",
    ")\n",
    "\n",
    "# Show the plot\n",
    "fig.show()\n"
   ]
  },
  {
   "cell_type": "code",
   "execution_count": 756,
   "metadata": {},
   "outputs": [
    {
     "data": {
      "text/html": [
       "<div>\n",
       "<style scoped>\n",
       "    .dataframe tbody tr th:only-of-type {\n",
       "        vertical-align: middle;\n",
       "    }\n",
       "\n",
       "    .dataframe tbody tr th {\n",
       "        vertical-align: top;\n",
       "    }\n",
       "\n",
       "    .dataframe thead th {\n",
       "        text-align: right;\n",
       "    }\n",
       "</style>\n",
       "<table border=\"1\" class=\"dataframe\">\n",
       "  <thead>\n",
       "    <tr style=\"text-align: right;\">\n",
       "      <th></th>\n",
       "      <th>node</th>\n",
       "      <th>Groundnut_Production</th>\n",
       "      <th>Maize_Production</th>\n",
       "      <th>stress</th>\n",
       "      <th>stability</th>\n",
       "    </tr>\n",
       "  </thead>\n",
       "  <tbody>\n",
       "    <tr>\n",
       "      <th>0</th>\n",
       "      <td>BENGALURU</td>\n",
       "      <td>0.001035</td>\n",
       "      <td>0.004851</td>\n",
       "      <td>0.052228</td>\n",
       "      <td>0.947772</td>\n",
       "    </tr>\n",
       "    <tr>\n",
       "      <th>1</th>\n",
       "      <td>BENGALURU(R)</td>\n",
       "      <td>0.003004</td>\n",
       "      <td>0.071744</td>\n",
       "      <td>0.199578</td>\n",
       "      <td>0.800422</td>\n",
       "    </tr>\n",
       "    <tr>\n",
       "      <th>2</th>\n",
       "      <td>RAMANAGARA</td>\n",
       "      <td>0.070434</td>\n",
       "      <td>0.017606</td>\n",
       "      <td>0.123133</td>\n",
       "      <td>0.876867</td>\n",
       "    </tr>\n",
       "    <tr>\n",
       "      <th>3</th>\n",
       "      <td>CHITRADURGA</td>\n",
       "      <td>1.000000</td>\n",
       "      <td>0.458222</td>\n",
       "      <td>0.915499</td>\n",
       "      <td>0.084501</td>\n",
       "    </tr>\n",
       "    <tr>\n",
       "      <th>4</th>\n",
       "      <td>DAVANAGERE</td>\n",
       "      <td>0.241954</td>\n",
       "      <td>1.000000</td>\n",
       "      <td>0.873852</td>\n",
       "      <td>0.126148</td>\n",
       "    </tr>\n",
       "  </tbody>\n",
       "</table>\n",
       "</div>"
      ],
      "text/plain": [
       "           node  Groundnut_Production  Maize_Production    stress  stability\n",
       "0     BENGALURU              0.001035          0.004851  0.052228   0.947772\n",
       "1  BENGALURU(R)              0.003004          0.071744  0.199578   0.800422\n",
       "2    RAMANAGARA              0.070434          0.017606  0.123133   0.876867\n",
       "3   CHITRADURGA              1.000000          0.458222  0.915499   0.084501\n",
       "4    DAVANAGERE              0.241954          1.000000  0.873852   0.126148"
      ]
     },
     "execution_count": 756,
     "metadata": {},
     "output_type": "execute_result"
    }
   ],
   "source": [
    "Groundnut_Prod = normalize_list(Groundnut_Directory['Groundnut_Production'])\n",
    "Maize_Prod = normalize_list(Maize_Directory['Maize_Production'])\n",
    "\n",
    "# Combine capabilities into a single DataFrame\n",
    "combined_df = pd.DataFrame({\n",
    "    'node': Working_Directory['District'],\n",
    "    'Groundnut_Production': Groundnut_Prod,\n",
    "    'Maize_Production': Maize_Prod\n",
    "})\n",
    "\n",
    "# Calculate stress and stability for the combined capabilities\n",
    "init_df = calculate_stress_stability(adj_matrix_np, combined_df)\n",
    "init_df[:5]"
   ]
  },
  {
   "cell_type": "code",
   "execution_count": 757,
   "metadata": {},
   "outputs": [
    {
     "data": {
      "text/html": [
       "<div>\n",
       "<style scoped>\n",
       "    .dataframe tbody tr th:only-of-type {\n",
       "        vertical-align: middle;\n",
       "    }\n",
       "\n",
       "    .dataframe tbody tr th {\n",
       "        vertical-align: top;\n",
       "    }\n",
       "\n",
       "    .dataframe thead th {\n",
       "        text-align: right;\n",
       "    }\n",
       "</style>\n",
       "<table border=\"1\" class=\"dataframe\">\n",
       "  <thead>\n",
       "    <tr style=\"text-align: right;\">\n",
       "      <th></th>\n",
       "      <th>District</th>\n",
       "      <th>KDG_District</th>\n",
       "      <th>Original Rice Production</th>\n",
       "      <th>Original Maize Production</th>\n",
       "      <th>Initial Stress</th>\n",
       "      <th>Initial Stability</th>\n",
       "      <th>New Rice Production</th>\n",
       "      <th>New Maize Production</th>\n",
       "      <th>Rice Impact</th>\n",
       "      <th>Maize Impact</th>\n",
       "      <th>Stability</th>\n",
       "      <th>Stress</th>\n",
       "      <th>Perturbation</th>\n",
       "      <th>Factor</th>\n",
       "    </tr>\n",
       "  </thead>\n",
       "  <tbody>\n",
       "    <tr>\n",
       "      <th>0</th>\n",
       "      <td>BENGALURU</td>\n",
       "      <td>Bengaluru Urban</td>\n",
       "      <td>71.0</td>\n",
       "      <td>2879</td>\n",
       "      <td>0.052228</td>\n",
       "      <td>0.947772</td>\n",
       "      <td>75</td>\n",
       "      <td>3135</td>\n",
       "      <td>5.633803</td>\n",
       "      <td>8.891976</td>\n",
       "      <td>0.961268</td>\n",
       "      <td>0.038732</td>\n",
       "      <td>10</td>\n",
       "      <td>TotalNPK</td>\n",
       "    </tr>\n",
       "    <tr>\n",
       "      <th>1</th>\n",
       "      <td>BENGALURU(R)</td>\n",
       "      <td>Bengaluru Rural</td>\n",
       "      <td>206.0</td>\n",
       "      <td>42583</td>\n",
       "      <td>0.199578</td>\n",
       "      <td>0.800422</td>\n",
       "      <td>212</td>\n",
       "      <td>44359</td>\n",
       "      <td>2.912621</td>\n",
       "      <td>4.170678</td>\n",
       "      <td>0.987429</td>\n",
       "      <td>0.012571</td>\n",
       "      <td>10</td>\n",
       "      <td>TotalNPK</td>\n",
       "    </tr>\n",
       "    <tr>\n",
       "      <th>2</th>\n",
       "      <td>RAMANAGARA</td>\n",
       "      <td>Ramanagara</td>\n",
       "      <td>4830.0</td>\n",
       "      <td>10450</td>\n",
       "      <td>0.123133</td>\n",
       "      <td>0.876867</td>\n",
       "      <td>4873</td>\n",
       "      <td>10580</td>\n",
       "      <td>0.890269</td>\n",
       "      <td>1.244019</td>\n",
       "      <td>0.909929</td>\n",
       "      <td>0.090071</td>\n",
       "      <td>10</td>\n",
       "      <td>TotalNPK</td>\n",
       "    </tr>\n",
       "    <tr>\n",
       "      <th>3</th>\n",
       "      <td>CHITRADURGA</td>\n",
       "      <td>Chitradurga</td>\n",
       "      <td>68575.0</td>\n",
       "      <td>271975</td>\n",
       "      <td>0.915499</td>\n",
       "      <td>0.084501</td>\n",
       "      <td>69748</td>\n",
       "      <td>278354</td>\n",
       "      <td>1.710536</td>\n",
       "      <td>2.345436</td>\n",
       "      <td>0.795242</td>\n",
       "      <td>0.204758</td>\n",
       "      <td>10</td>\n",
       "      <td>TotalNPK</td>\n",
       "    </tr>\n",
       "    <tr>\n",
       "      <th>4</th>\n",
       "      <td>DAVANAGERE</td>\n",
       "      <td>Davanagere</td>\n",
       "      <td>16592.0</td>\n",
       "      <td>593544</td>\n",
       "      <td>0.873852</td>\n",
       "      <td>0.126148</td>\n",
       "      <td>16898</td>\n",
       "      <td>608583</td>\n",
       "      <td>1.844262</td>\n",
       "      <td>2.533763</td>\n",
       "      <td>0.108875</td>\n",
       "      <td>0.891125</td>\n",
       "      <td>10</td>\n",
       "      <td>TotalNPK</td>\n",
       "    </tr>\n",
       "    <tr>\n",
       "      <th>...</th>\n",
       "      <td>...</td>\n",
       "      <td>...</td>\n",
       "      <td>...</td>\n",
       "      <td>...</td>\n",
       "      <td>...</td>\n",
       "      <td>...</td>\n",
       "      <td>...</td>\n",
       "      <td>...</td>\n",
       "      <td>...</td>\n",
       "      <td>...</td>\n",
       "      <td>...</td>\n",
       "      <td>...</td>\n",
       "      <td>...</td>\n",
       "      <td>...</td>\n",
       "    </tr>\n",
       "    <tr>\n",
       "      <th>119</th>\n",
       "      <td>KALABURAGI</td>\n",
       "      <td>Kalaburagi</td>\n",
       "      <td>3114.0</td>\n",
       "      <td>14621</td>\n",
       "      <td>0.331390</td>\n",
       "      <td>0.668610</td>\n",
       "      <td>2984</td>\n",
       "      <td>13790</td>\n",
       "      <td>-4.174695</td>\n",
       "      <td>-5.683606</td>\n",
       "      <td>0.858889</td>\n",
       "      <td>0.141111</td>\n",
       "      <td>-20</td>\n",
       "      <td>TotalNPK</td>\n",
       "    </tr>\n",
       "    <tr>\n",
       "      <th>120</th>\n",
       "      <td>YADGIRI</td>\n",
       "      <td>Yadgir</td>\n",
       "      <td>31435.0</td>\n",
       "      <td>2673</td>\n",
       "      <td>0.274534</td>\n",
       "      <td>0.725466</td>\n",
       "      <td>27734</td>\n",
       "      <td>2241</td>\n",
       "      <td>-11.773501</td>\n",
       "      <td>-16.161616</td>\n",
       "      <td>0.823138</td>\n",
       "      <td>0.176862</td>\n",
       "      <td>-20</td>\n",
       "      <td>TotalNPK</td>\n",
       "    </tr>\n",
       "    <tr>\n",
       "      <th>121</th>\n",
       "      <td>RAICHUR</td>\n",
       "      <td>Raichur</td>\n",
       "      <td>26958.0</td>\n",
       "      <td>723</td>\n",
       "      <td>0.325550</td>\n",
       "      <td>0.674450</td>\n",
       "      <td>24998</td>\n",
       "      <td>650</td>\n",
       "      <td>-7.270569</td>\n",
       "      <td>-10.096819</td>\n",
       "      <td>0.644680</td>\n",
       "      <td>0.355320</td>\n",
       "      <td>-20</td>\n",
       "      <td>TotalNPK</td>\n",
       "    </tr>\n",
       "    <tr>\n",
       "      <th>122</th>\n",
       "      <td>KOPPAL</td>\n",
       "      <td>Koppal</td>\n",
       "      <td>29982.0</td>\n",
       "      <td>190252</td>\n",
       "      <td>0.156993</td>\n",
       "      <td>0.843007</td>\n",
       "      <td>28502</td>\n",
       "      <td>177382</td>\n",
       "      <td>-4.936295</td>\n",
       "      <td>-6.764712</td>\n",
       "      <td>0.839642</td>\n",
       "      <td>0.160358</td>\n",
       "      <td>-20</td>\n",
       "      <td>TotalNPK</td>\n",
       "    </tr>\n",
       "    <tr>\n",
       "      <th>123</th>\n",
       "      <td>VIJAYANAGARA</td>\n",
       "      <td>Vijayanagara</td>\n",
       "      <td>22938.5</td>\n",
       "      <td>104045</td>\n",
       "      <td>0.416484</td>\n",
       "      <td>0.583516</td>\n",
       "      <td>21356</td>\n",
       "      <td>94210</td>\n",
       "      <td>-6.898882</td>\n",
       "      <td>-9.452641</td>\n",
       "      <td>0.556887</td>\n",
       "      <td>0.443113</td>\n",
       "      <td>-20</td>\n",
       "      <td>TotalNPK</td>\n",
       "    </tr>\n",
       "  </tbody>\n",
       "</table>\n",
       "<p>124 rows × 14 columns</p>\n",
       "</div>"
      ],
      "text/plain": [
       "         District     KDG_District  Original Rice Production  \\\n",
       "0       BENGALURU  Bengaluru Urban                      71.0   \n",
       "1    BENGALURU(R)  Bengaluru Rural                     206.0   \n",
       "2      RAMANAGARA       Ramanagara                    4830.0   \n",
       "3     CHITRADURGA      Chitradurga                   68575.0   \n",
       "4      DAVANAGERE       Davanagere                   16592.0   \n",
       "..            ...              ...                       ...   \n",
       "119    KALABURAGI       Kalaburagi                    3114.0   \n",
       "120       YADGIRI           Yadgir                   31435.0   \n",
       "121       RAICHUR          Raichur                   26958.0   \n",
       "122        KOPPAL           Koppal                   29982.0   \n",
       "123  VIJAYANAGARA     Vijayanagara                   22938.5   \n",
       "\n",
       "     Original Maize Production  Initial Stress  Initial Stability  \\\n",
       "0                         2879        0.052228           0.947772   \n",
       "1                        42583        0.199578           0.800422   \n",
       "2                        10450        0.123133           0.876867   \n",
       "3                       271975        0.915499           0.084501   \n",
       "4                       593544        0.873852           0.126148   \n",
       "..                         ...             ...                ...   \n",
       "119                      14621        0.331390           0.668610   \n",
       "120                       2673        0.274534           0.725466   \n",
       "121                        723        0.325550           0.674450   \n",
       "122                     190252        0.156993           0.843007   \n",
       "123                     104045        0.416484           0.583516   \n",
       "\n",
       "     New Rice Production  New Maize Production  Rice Impact  Maize Impact  \\\n",
       "0                     75                  3135     5.633803      8.891976   \n",
       "1                    212                 44359     2.912621      4.170678   \n",
       "2                   4873                 10580     0.890269      1.244019   \n",
       "3                  69748                278354     1.710536      2.345436   \n",
       "4                  16898                608583     1.844262      2.533763   \n",
       "..                   ...                   ...          ...           ...   \n",
       "119                 2984                 13790    -4.174695     -5.683606   \n",
       "120                27734                  2241   -11.773501    -16.161616   \n",
       "121                24998                   650    -7.270569    -10.096819   \n",
       "122                28502                177382    -4.936295     -6.764712   \n",
       "123                21356                 94210    -6.898882     -9.452641   \n",
       "\n",
       "     Stability    Stress  Perturbation    Factor  \n",
       "0     0.961268  0.038732            10  TotalNPK  \n",
       "1     0.987429  0.012571            10  TotalNPK  \n",
       "2     0.909929  0.090071            10  TotalNPK  \n",
       "3     0.795242  0.204758            10  TotalNPK  \n",
       "4     0.108875  0.891125            10  TotalNPK  \n",
       "..         ...       ...           ...       ...  \n",
       "119   0.858889  0.141111           -20  TotalNPK  \n",
       "120   0.823138  0.176862           -20  TotalNPK  \n",
       "121   0.644680  0.355320           -20  TotalNPK  \n",
       "122   0.839642  0.160358           -20  TotalNPK  \n",
       "123   0.556887  0.443113           -20  TotalNPK  \n",
       "\n",
       "[124 rows x 14 columns]"
      ]
     },
     "execution_count": 757,
     "metadata": {},
     "output_type": "execute_result"
    }
   ],
   "source": [
    "# Perturbations and factor mapping\n",
    "crop1 = 'Groundnut'\n",
    "crop2 = 'Maize'\n",
    "perturbations = [10, -10, 20, -20]\n",
    "factor_mapping = {\n",
    "    'NPK': 'TotalNPK'\n",
    "}\n",
    "\n",
    "# Initialize an empty DataFrame to store the results\n",
    "G_M_2D_Diff_Impact = pd.DataFrame()\n",
    "\n",
    "# Loop over each perturbation and factor\n",
    "for perturbation in perturbations:\n",
    "    for factor, mapped_factor in factor_mapping.items():\n",
    "        # Call the function to calculate and \n",
    "        calculate_and_visualize(perturbation, crop1, Groundnut_Directory, factor,False)\n",
    "        calculate_and_visualize(perturbation, crop2, Maize_Directory, factor, False)\n",
    "        Calculate_and_visualize_2D(Groundnut_Directory,Maize_Directory, adj_matrix_np, crop1, crop2, perturbation, factor,False)\n",
    "        \n",
    "        # Collect all the new columns in a dictionary\n",
    "        new_columns = {\n",
    "            'District': Working_Directory['District'],\n",
    "            'KDG_District' : Working_Directory['KDG_District'],\n",
    "            'Original Rice Production': Groundnut_Directory[f'{crop1}_Production'],\n",
    "            'Original Maize Production': Maize_Directory[f'{crop2}_Production'],\n",
    "            'Initial Stress': init_df['stress'],\n",
    "            'Initial Stability': init_df['stability'],\n",
    "            'New Rice Production': Groundnut_Directory[f'{crop1[0].upper()} - {factor} {perturbation}'],\n",
    "            'New Maize Production': Maize_Directory[f'{crop2[0].upper()} - {factor} {perturbation}'],\n",
    "            'Rice Impact': Working_Directory[f'Impact_{crop1[0].upper()}_{factor}_{perturbation}'],\n",
    "            'Maize Impact': Working_Directory[f'Impact_{crop2[0].upper()}_{factor}_{perturbation}'],\n",
    "            'Stability': Working_Directory[f'Stability_{crop1[0].upper()}_{crop2[0].upper()}_{factor}_{perturbation}'],\n",
    "            'Stress': Working_Directory[f'Stress_{crop1[0].upper()}_{crop2[0].upper()}_{factor}_{perturbation}'],\n",
    "            'Perturbation': perturbation,\n",
    "            'Factor': mapped_factor,\n",
    "        }\n",
    "        \n",
    "        # Convert the dictionary to a DataFrame and append it to the final DataFrame\n",
    "        temp_df = pd.DataFrame(new_columns)\n",
    "        G_M_2D_Diff_Impact = pd.concat([G_M_2D_Diff_Impact, temp_df], ignore_index=True)\n",
    "\n",
    "# Display or save the final DataFrame\n",
    "G_M_2D_Diff_Impact.to_csv('2D\\G_M_2D_Diff_Impact.csv', index=False)\n",
    "G_M_2D_Diff_Impact\n"
   ]
  },
  {
   "cell_type": "code",
   "execution_count": 758,
   "metadata": {},
   "outputs": [
    {
     "data": {
      "text/html": [
       "<div>\n",
       "<style scoped>\n",
       "    .dataframe tbody tr th:only-of-type {\n",
       "        vertical-align: middle;\n",
       "    }\n",
       "\n",
       "    .dataframe tbody tr th {\n",
       "        vertical-align: top;\n",
       "    }\n",
       "\n",
       "    .dataframe thead th {\n",
       "        text-align: right;\n",
       "    }\n",
       "</style>\n",
       "<table border=\"1\" class=\"dataframe\">\n",
       "  <thead>\n",
       "    <tr style=\"text-align: right;\">\n",
       "      <th></th>\n",
       "      <th>District</th>\n",
       "      <th>KDG_District</th>\n",
       "      <th>Crop</th>\n",
       "      <th>Original Production</th>\n",
       "      <th>New Production</th>\n",
       "      <th>Impact</th>\n",
       "      <th>Stability</th>\n",
       "      <th>Stress</th>\n",
       "      <th>Perturbation</th>\n",
       "      <th>Factor</th>\n",
       "    </tr>\n",
       "  </thead>\n",
       "  <tbody>\n",
       "    <tr>\n",
       "      <th>0</th>\n",
       "      <td>BENGALURU</td>\n",
       "      <td>Bengaluru Urban</td>\n",
       "      <td>Groundnut</td>\n",
       "      <td>71.0</td>\n",
       "      <td>75</td>\n",
       "      <td>5.633803</td>\n",
       "      <td>0.961268</td>\n",
       "      <td>0.038732</td>\n",
       "      <td>10</td>\n",
       "      <td>TotalNPK</td>\n",
       "    </tr>\n",
       "    <tr>\n",
       "      <th>1</th>\n",
       "      <td>BENGALURU(R)</td>\n",
       "      <td>Bengaluru Rural</td>\n",
       "      <td>Groundnut</td>\n",
       "      <td>206.0</td>\n",
       "      <td>212</td>\n",
       "      <td>2.912621</td>\n",
       "      <td>0.987429</td>\n",
       "      <td>0.012571</td>\n",
       "      <td>10</td>\n",
       "      <td>TotalNPK</td>\n",
       "    </tr>\n",
       "    <tr>\n",
       "      <th>2</th>\n",
       "      <td>RAMANAGARA</td>\n",
       "      <td>Ramanagara</td>\n",
       "      <td>Groundnut</td>\n",
       "      <td>4830.0</td>\n",
       "      <td>4873</td>\n",
       "      <td>0.890269</td>\n",
       "      <td>0.909929</td>\n",
       "      <td>0.090071</td>\n",
       "      <td>10</td>\n",
       "      <td>TotalNPK</td>\n",
       "    </tr>\n",
       "    <tr>\n",
       "      <th>3</th>\n",
       "      <td>CHITRADURGA</td>\n",
       "      <td>Chitradurga</td>\n",
       "      <td>Groundnut</td>\n",
       "      <td>68575.0</td>\n",
       "      <td>69748</td>\n",
       "      <td>1.710536</td>\n",
       "      <td>0.795242</td>\n",
       "      <td>0.204758</td>\n",
       "      <td>10</td>\n",
       "      <td>TotalNPK</td>\n",
       "    </tr>\n",
       "    <tr>\n",
       "      <th>4</th>\n",
       "      <td>DAVANAGERE</td>\n",
       "      <td>Davanagere</td>\n",
       "      <td>Groundnut</td>\n",
       "      <td>16592.0</td>\n",
       "      <td>16898</td>\n",
       "      <td>1.844262</td>\n",
       "      <td>0.108875</td>\n",
       "      <td>0.891125</td>\n",
       "      <td>10</td>\n",
       "      <td>TotalNPK</td>\n",
       "    </tr>\n",
       "    <tr>\n",
       "      <th>...</th>\n",
       "      <td>...</td>\n",
       "      <td>...</td>\n",
       "      <td>...</td>\n",
       "      <td>...</td>\n",
       "      <td>...</td>\n",
       "      <td>...</td>\n",
       "      <td>...</td>\n",
       "      <td>...</td>\n",
       "      <td>...</td>\n",
       "      <td>...</td>\n",
       "    </tr>\n",
       "    <tr>\n",
       "      <th>243</th>\n",
       "      <td>KALABURAGI</td>\n",
       "      <td>Kalaburagi</td>\n",
       "      <td>Maize</td>\n",
       "      <td>14621.0</td>\n",
       "      <td>13790</td>\n",
       "      <td>-5.683606</td>\n",
       "      <td>0.858889</td>\n",
       "      <td>0.141111</td>\n",
       "      <td>-20</td>\n",
       "      <td>TotalNPK</td>\n",
       "    </tr>\n",
       "    <tr>\n",
       "      <th>244</th>\n",
       "      <td>YADGIRI</td>\n",
       "      <td>Yadgir</td>\n",
       "      <td>Maize</td>\n",
       "      <td>2673.0</td>\n",
       "      <td>2241</td>\n",
       "      <td>-16.161616</td>\n",
       "      <td>0.823138</td>\n",
       "      <td>0.176862</td>\n",
       "      <td>-20</td>\n",
       "      <td>TotalNPK</td>\n",
       "    </tr>\n",
       "    <tr>\n",
       "      <th>245</th>\n",
       "      <td>RAICHUR</td>\n",
       "      <td>Raichur</td>\n",
       "      <td>Maize</td>\n",
       "      <td>723.0</td>\n",
       "      <td>650</td>\n",
       "      <td>-10.096819</td>\n",
       "      <td>0.644680</td>\n",
       "      <td>0.355320</td>\n",
       "      <td>-20</td>\n",
       "      <td>TotalNPK</td>\n",
       "    </tr>\n",
       "    <tr>\n",
       "      <th>246</th>\n",
       "      <td>KOPPAL</td>\n",
       "      <td>Koppal</td>\n",
       "      <td>Maize</td>\n",
       "      <td>190252.0</td>\n",
       "      <td>177382</td>\n",
       "      <td>-6.764712</td>\n",
       "      <td>0.839642</td>\n",
       "      <td>0.160358</td>\n",
       "      <td>-20</td>\n",
       "      <td>TotalNPK</td>\n",
       "    </tr>\n",
       "    <tr>\n",
       "      <th>247</th>\n",
       "      <td>VIJAYANAGARA</td>\n",
       "      <td>Vijayanagara</td>\n",
       "      <td>Maize</td>\n",
       "      <td>104045.0</td>\n",
       "      <td>94210</td>\n",
       "      <td>-9.452641</td>\n",
       "      <td>0.556887</td>\n",
       "      <td>0.443113</td>\n",
       "      <td>-20</td>\n",
       "      <td>TotalNPK</td>\n",
       "    </tr>\n",
       "  </tbody>\n",
       "</table>\n",
       "<p>248 rows × 10 columns</p>\n",
       "</div>"
      ],
      "text/plain": [
       "         District     KDG_District       Crop  Original Production  \\\n",
       "0       BENGALURU  Bengaluru Urban  Groundnut                 71.0   \n",
       "1    BENGALURU(R)  Bengaluru Rural  Groundnut                206.0   \n",
       "2      RAMANAGARA       Ramanagara  Groundnut               4830.0   \n",
       "3     CHITRADURGA      Chitradurga  Groundnut              68575.0   \n",
       "4      DAVANAGERE       Davanagere  Groundnut              16592.0   \n",
       "..            ...              ...        ...                  ...   \n",
       "243    KALABURAGI       Kalaburagi      Maize              14621.0   \n",
       "244       YADGIRI           Yadgir      Maize               2673.0   \n",
       "245       RAICHUR          Raichur      Maize                723.0   \n",
       "246        KOPPAL           Koppal      Maize             190252.0   \n",
       "247  VIJAYANAGARA     Vijayanagara      Maize             104045.0   \n",
       "\n",
       "     New Production     Impact  Stability    Stress  Perturbation    Factor  \n",
       "0                75   5.633803   0.961268  0.038732            10  TotalNPK  \n",
       "1               212   2.912621   0.987429  0.012571            10  TotalNPK  \n",
       "2              4873   0.890269   0.909929  0.090071            10  TotalNPK  \n",
       "3             69748   1.710536   0.795242  0.204758            10  TotalNPK  \n",
       "4             16898   1.844262   0.108875  0.891125            10  TotalNPK  \n",
       "..              ...        ...        ...       ...           ...       ...  \n",
       "243           13790  -5.683606   0.858889  0.141111           -20  TotalNPK  \n",
       "244            2241 -16.161616   0.823138  0.176862           -20  TotalNPK  \n",
       "245             650 -10.096819   0.644680  0.355320           -20  TotalNPK  \n",
       "246          177382  -6.764712   0.839642  0.160358           -20  TotalNPK  \n",
       "247           94210  -9.452641   0.556887  0.443113           -20  TotalNPK  \n",
       "\n",
       "[248 rows x 10 columns]"
      ]
     },
     "execution_count": 758,
     "metadata": {},
     "output_type": "execute_result"
    }
   ],
   "source": [
    "# Perturbations and factor mapping\n",
    "crop1 = 'Groundnut'\n",
    "crop2 = 'Maize'\n",
    "perturbations = [10, -10, 20, -20]\n",
    "factor_mapping = {\n",
    "    'NPK': 'TotalNPK'\n",
    "}\n",
    "\n",
    "# Initialize an empty DataFrame to store the results\n",
    "G_M_2D_Diff_Impact = pd.DataFrame()\n",
    "\n",
    "# Loop over each perturbation and factor\n",
    "for perturbation in perturbations:\n",
    "    for factor, mapped_factor in factor_mapping.items():\n",
    "        # Call the function to calculate and visualize for both crops\n",
    "        calculate_and_visualize(perturbation, crop1, Groundnut_Directory, factor, False)\n",
    "        calculate_and_visualize(perturbation, crop2, Maize_Directory, factor, False)\n",
    "        Calculate_and_visualize_2D(Groundnut_Directory, Maize_Directory, adj_matrix_np, crop1, crop2, perturbation, factor, False)\n",
    "\n",
    "        # Create a DataFrame for Rice entries\n",
    "        rice_df = pd.DataFrame({\n",
    "            'District': Working_Directory['District'],\n",
    "            'KDG_District': Working_Directory['KDG_District'],\n",
    "            'Crop': crop1,  # Indicate that these entries are for Rice\n",
    "            'Original Production': Groundnut_Directory[f'{crop1}_Production'],\n",
    "            'New Production': Groundnut_Directory[f'{crop1[0].upper()} - {factor} {perturbation}'],\n",
    "            'Impact': Working_Directory[f'Impact_{crop1[0].upper()}_{factor}_{perturbation}'],\n",
    "            'Stability': Working_Directory[f'Stability_{crop1[0].upper()}_{crop2[0].upper()}_{factor}_{perturbation}'],\n",
    "            'Stress': Working_Directory[f'Stress_{crop1[0].upper()}_{crop2[0].upper()}_{factor}_{perturbation}'],\n",
    "            'Perturbation': perturbation,\n",
    "            'Factor': mapped_factor\n",
    "        })\n",
    "\n",
    "        # Create a DataFrame for Maize entries\n",
    "        maize_df = pd.DataFrame({\n",
    "            'District': Working_Directory['District'],\n",
    "            'KDG_District': Working_Directory['KDG_District'],\n",
    "            'Crop': crop2,  # Indicate that these entries are for Maize\n",
    "            'Original Production': Maize_Directory[f'{crop2}_Production'],\n",
    "            'New Production': Maize_Directory[f'{crop2[0].upper()} - {factor} {perturbation}'],\n",
    "            'Impact': Working_Directory[f'Impact_{crop2[0].upper()}_{factor}_{perturbation}'],\n",
    "            'Stability': Working_Directory[f'Stability_{crop1[0].upper()}_{crop2[0].upper()}_{factor}_{perturbation}'],\n",
    "            'Stress': Working_Directory[f'Stress_{crop1[0].upper()}_{crop2[0].upper()}_{factor}_{perturbation}'],\n",
    "            'Perturbation': perturbation,\n",
    "            'Factor': mapped_factor\n",
    "        })\n",
    "\n",
    "        # Concatenate the Rice and Maize DataFrames for the current perturbation and factor\n",
    "        temp_df = pd.concat([rice_df, maize_df], ignore_index=True)\n",
    "        \n",
    "        # Append to the final DataFrame\n",
    "        G_M_2D_Diff_Impact = pd.concat([G_M_2D_Diff_Impact, temp_df], ignore_index=True)\n",
    "\n",
    "# Display or save the final DataFrame\n",
    "G_M_2D_Diff_Impact.to_csv('2D/G_M_2D_Diff_Impact_1.csv', index=False)\n",
    "G_M_2D_Diff_Impact\n"
   ]
  }
 ],
 "metadata": {
  "kernelspec": {
   "display_name": "Python 3",
   "language": "python",
   "name": "python3"
  },
  "language_info": {
   "codemirror_mode": {
    "name": "ipython",
    "version": 3
   },
   "file_extension": ".py",
   "mimetype": "text/x-python",
   "name": "python",
   "nbconvert_exporter": "python",
   "pygments_lexer": "ipython3",
   "version": "3.9.13"
  }
 },
 "nbformat": 4,
 "nbformat_minor": 2
}
