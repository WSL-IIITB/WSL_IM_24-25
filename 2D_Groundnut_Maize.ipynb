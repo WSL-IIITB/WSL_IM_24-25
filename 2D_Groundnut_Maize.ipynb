{
 "cells": [
  {
   "cell_type": "code",
   "execution_count": 251,
   "metadata": {},
   "outputs": [],
   "source": [
    "import pandas as pd\n",
    "import statsmodels.api as sm\n",
    "import re\n",
    "import numpy as np\n",
    "import pandas as pd\n",
    "from itertools import product"
   ]
  },
  {
   "cell_type": "markdown",
   "metadata": {},
   "source": [
    "Loading the input files and editing the column names for readability\n",
    "- Agriculture_KAG_2016_17.csv \n",
    "- 3_Param_Maize_Multicollinearity\n",
    "- 4_parameters_multicollinearity_groundnut\n",
    "- Working_Directory ( Made in Predictive-1D-2D-prescriptive )"
   ]
  },
  {
   "cell_type": "code",
   "execution_count": 252,
   "metadata": {},
   "outputs": [
    {
     "data": {
      "text/html": [
       "<div>\n",
       "<style scoped>\n",
       "    .dataframe tbody tr th:only-of-type {\n",
       "        vertical-align: middle;\n",
       "    }\n",
       "\n",
       "    .dataframe tbody tr th {\n",
       "        vertical-align: top;\n",
       "    }\n",
       "\n",
       "    .dataframe thead th {\n",
       "        text-align: right;\n",
       "    }\n",
       "</style>\n",
       "<table border=\"1\" class=\"dataframe\">\n",
       "  <thead>\n",
       "    <tr style=\"text-align: right;\">\n",
       "      <th></th>\n",
       "      <th>District</th>\n",
       "      <th>Maize_Production</th>\n",
       "      <th>TotalNPK</th>\n",
       "      <th>LivestockCensus_2012_Cattle</th>\n",
       "      <th>AreaUnderCereals_Maize</th>\n",
       "      <th>Maize_Ratio</th>\n",
       "    </tr>\n",
       "  </thead>\n",
       "  <tbody>\n",
       "    <tr>\n",
       "      <th>24</th>\n",
       "      <td>BALLARI</td>\n",
       "      <td>104045</td>\n",
       "      <td>8404.154608</td>\n",
       "      <td>23446.847903</td>\n",
       "      <td>49869.5</td>\n",
       "      <td>0.136288</td>\n",
       "    </tr>\n",
       "    <tr>\n",
       "      <th>25</th>\n",
       "      <td>BIDAR</td>\n",
       "      <td>2791</td>\n",
       "      <td>249.381182</td>\n",
       "      <td>2371.831678</td>\n",
       "      <td>1382.0</td>\n",
       "      <td>0.010114</td>\n",
       "    </tr>\n",
       "    <tr>\n",
       "      <th>26</th>\n",
       "      <td>KALABURAGI</td>\n",
       "      <td>14621</td>\n",
       "      <td>710.101614</td>\n",
       "      <td>6221.617910</td>\n",
       "      <td>2634.0</td>\n",
       "      <td>0.013150</td>\n",
       "    </tr>\n",
       "    <tr>\n",
       "      <th>27</th>\n",
       "      <td>YADGIRI</td>\n",
       "      <td>2673</td>\n",
       "      <td>368.617469</td>\n",
       "      <td>1253.317144</td>\n",
       "      <td>961.0</td>\n",
       "      <td>0.004033</td>\n",
       "    </tr>\n",
       "    <tr>\n",
       "      <th>28</th>\n",
       "      <td>RAICHUR</td>\n",
       "      <td>723</td>\n",
       "      <td>61.547519</td>\n",
       "      <td>188.537479</td>\n",
       "      <td>2600.0</td>\n",
       "      <td>0.000525</td>\n",
       "    </tr>\n",
       "    <tr>\n",
       "      <th>29</th>\n",
       "      <td>KOPPAL</td>\n",
       "      <td>190252</td>\n",
       "      <td>10997.550403</td>\n",
       "      <td>38936.400172</td>\n",
       "      <td>48210.0</td>\n",
       "      <td>0.149521</td>\n",
       "    </tr>\n",
       "    <tr>\n",
       "      <th>30</th>\n",
       "      <td>VIJAYANAGARA</td>\n",
       "      <td>104045</td>\n",
       "      <td>8404.154608</td>\n",
       "      <td>23446.847903</td>\n",
       "      <td>49869.5</td>\n",
       "      <td>0.136288</td>\n",
       "    </tr>\n",
       "  </tbody>\n",
       "</table>\n",
       "</div>"
      ],
      "text/plain": [
       "        District  Maize_Production      TotalNPK  LivestockCensus_2012_Cattle  \\\n",
       "24       BALLARI            104045   8404.154608                 23446.847903   \n",
       "25         BIDAR              2791    249.381182                  2371.831678   \n",
       "26    KALABURAGI             14621    710.101614                  6221.617910   \n",
       "27       YADGIRI              2673    368.617469                  1253.317144   \n",
       "28       RAICHUR               723     61.547519                   188.537479   \n",
       "29        KOPPAL            190252  10997.550403                 38936.400172   \n",
       "30  VIJAYANAGARA            104045   8404.154608                 23446.847903   \n",
       "\n",
       "    AreaUnderCereals_Maize  Maize_Ratio  \n",
       "24                 49869.5     0.136288  \n",
       "25                  1382.0     0.010114  \n",
       "26                  2634.0     0.013150  \n",
       "27                   961.0     0.004033  \n",
       "28                  2600.0     0.000525  \n",
       "29                 48210.0     0.149521  \n",
       "30                 49869.5     0.136288  "
      ]
     },
     "execution_count": 252,
     "metadata": {},
     "output_type": "execute_result"
    }
   ],
   "source": [
    "def remove_pattern(col_name):\n",
    "    return re.sub(r'_[0-9]{3}$', '', col_name)\n",
    "\n",
    "Zones = pd.read_excel('Zones.xlsx')\n",
    "Dataset = pd.read_csv('KAG 2016-17/Agriculture/Agriculture_KAG_2016_17.csv')\n",
    "Dataset.columns = map(remove_pattern, Dataset.columns)\n",
    "\n",
    "Maize_param = pd.read_csv('Params/3_Param_Maize_Multicollinearity.csv')\n",
    "Groundnut_param = pd.read_csv('Params/4_parameters_multicollinearity_groundnut.csv')\n",
    "Working_Directory = pd.read_csv('Working_Directory.csv')\n",
    "Maize_Directory = Working_Directory[['District','Maize_Production','TotalNPK',\n",
    "'LivestockCensus_2012_Cattle', 'AreaUnderCereals_Maize','Maize_Ratio']].copy()\n",
    "\n",
    "Groundnut_Directory = Working_Directory[['District','Groundnut_Production', 'TotalNPK', 'AreaUnderOilSeeds_GroundNut', 'MotorVehicles_Tractors',\n",
    "       'LivestockCensus_2012_Sheep','Groundnut_Ratio']].copy()\n",
    "\n",
    "for x in Maize_param.columns:\n",
    "    if(x != 'AreaUnderCereals_Maize'):\n",
    "        Maize_Directory[x] = Maize_Directory[x]*Maize_Directory['Maize_Ratio']\n",
    "        \n",
    "for x in Groundnut_param.columns:\n",
    "    if(x != 'AreaUnderOilSeeds_GroundNut'):\n",
    "        Groundnut_Directory[x] = Groundnut_Directory[x]*Groundnut_Directory['Groundnut_Ratio']\n",
    "\n",
    "Maize_Directory[24:]"
   ]
  },
  {
   "cell_type": "markdown",
   "metadata": {},
   "source": [
    "Adjusting the factors for the split districts Ballari and Vijayanagara"
   ]
  },
  {
   "cell_type": "code",
   "execution_count": 253,
   "metadata": {},
   "outputs": [
    {
     "data": {
      "text/html": [
       "<div>\n",
       "<style scoped>\n",
       "    .dataframe tbody tr th:only-of-type {\n",
       "        vertical-align: middle;\n",
       "    }\n",
       "\n",
       "    .dataframe tbody tr th {\n",
       "        vertical-align: top;\n",
       "    }\n",
       "\n",
       "    .dataframe thead th {\n",
       "        text-align: right;\n",
       "    }\n",
       "</style>\n",
       "<table border=\"1\" class=\"dataframe\">\n",
       "  <thead>\n",
       "    <tr style=\"text-align: right;\">\n",
       "      <th></th>\n",
       "      <th>LivestockCensus_2012_Cattle</th>\n",
       "      <th>AreaUnderCereals_Maize</th>\n",
       "      <th>TotalNPK</th>\n",
       "    </tr>\n",
       "  </thead>\n",
       "  <tbody>\n",
       "    <tr>\n",
       "      <th>24</th>\n",
       "      <td>23446.847900</td>\n",
       "      <td>49869.5</td>\n",
       "      <td>8404.154608</td>\n",
       "    </tr>\n",
       "    <tr>\n",
       "      <th>25</th>\n",
       "      <td>2371.831678</td>\n",
       "      <td>1382.0</td>\n",
       "      <td>249.381182</td>\n",
       "    </tr>\n",
       "    <tr>\n",
       "      <th>26</th>\n",
       "      <td>6221.617910</td>\n",
       "      <td>2634.0</td>\n",
       "      <td>710.101614</td>\n",
       "    </tr>\n",
       "    <tr>\n",
       "      <th>27</th>\n",
       "      <td>1253.317144</td>\n",
       "      <td>961.0</td>\n",
       "      <td>368.617469</td>\n",
       "    </tr>\n",
       "    <tr>\n",
       "      <th>28</th>\n",
       "      <td>188.537479</td>\n",
       "      <td>2600.0</td>\n",
       "      <td>61.547519</td>\n",
       "    </tr>\n",
       "    <tr>\n",
       "      <th>29</th>\n",
       "      <td>38936.400170</td>\n",
       "      <td>48210.0</td>\n",
       "      <td>10997.550400</td>\n",
       "    </tr>\n",
       "    <tr>\n",
       "      <th>30</th>\n",
       "      <td>23446.847900</td>\n",
       "      <td>49869.5</td>\n",
       "      <td>8404.154608</td>\n",
       "    </tr>\n",
       "  </tbody>\n",
       "</table>\n",
       "</div>"
      ],
      "text/plain": [
       "    LivestockCensus_2012_Cattle  AreaUnderCereals_Maize      TotalNPK\n",
       "24                 23446.847900                 49869.5   8404.154608\n",
       "25                  2371.831678                  1382.0    249.381182\n",
       "26                  6221.617910                  2634.0    710.101614\n",
       "27                  1253.317144                   961.0    368.617469\n",
       "28                   188.537479                  2600.0     61.547519\n",
       "29                 38936.400170                 48210.0  10997.550400\n",
       "30                 23446.847900                 49869.5   8404.154608"
      ]
     },
     "execution_count": 253,
     "metadata": {},
     "output_type": "execute_result"
    }
   ],
   "source": [
    "Maize_Case_file = Maize_param\n",
    "for x in Maize_Case_file.columns:\n",
    "    Working_Directory[x] = Maize_Case_file[x]\n",
    "y_maize = Working_Directory['Maize_Production']\n",
    "\n",
    "if(len(Maize_Case_file) < 31):\n",
    "    row_24 = Maize_Case_file.iloc[24]\n",
    "    halved_row_24 = row_24 / 2\n",
    "    Maize_Case_file.iloc[24] = halved_row_24\n",
    "    Maize_Case_file.loc[len(Maize_Case_file)] = halved_row_24\n",
    "\n",
    "Maize_Case_file[24:]"
   ]
  },
  {
   "cell_type": "code",
   "execution_count": 254,
   "metadata": {},
   "outputs": [
    {
     "data": {
      "text/html": [
       "<div>\n",
       "<style scoped>\n",
       "    .dataframe tbody tr th:only-of-type {\n",
       "        vertical-align: middle;\n",
       "    }\n",
       "\n",
       "    .dataframe tbody tr th {\n",
       "        vertical-align: top;\n",
       "    }\n",
       "\n",
       "    .dataframe thead th {\n",
       "        text-align: right;\n",
       "    }\n",
       "</style>\n",
       "<table border=\"1\" class=\"dataframe\">\n",
       "  <thead>\n",
       "    <tr style=\"text-align: right;\">\n",
       "      <th></th>\n",
       "      <th>AreaUnderOilSeeds_GroundNut</th>\n",
       "      <th>MotorVehicles_Tractors</th>\n",
       "      <th>LivestockCensus_2012_Sheep</th>\n",
       "      <th>TotalNPK</th>\n",
       "    </tr>\n",
       "  </thead>\n",
       "  <tbody>\n",
       "    <tr>\n",
       "      <th>24</th>\n",
       "      <td>49762</td>\n",
       "      <td>721.160542</td>\n",
       "      <td>22723.723301</td>\n",
       "      <td>1852.839641</td>\n",
       "    </tr>\n",
       "    <tr>\n",
       "      <th>25</th>\n",
       "      <td>299</td>\n",
       "      <td>4.970978</td>\n",
       "      <td>83.608146</td>\n",
       "      <td>23.320849</td>\n",
       "    </tr>\n",
       "    <tr>\n",
       "      <th>26</th>\n",
       "      <td>3817</td>\n",
       "      <td>45.795271</td>\n",
       "      <td>280.247116</td>\n",
       "      <td>151.238385</td>\n",
       "    </tr>\n",
       "    <tr>\n",
       "      <th>27</th>\n",
       "      <td>38840</td>\n",
       "      <td>469.698763</td>\n",
       "      <td>21985.146627</td>\n",
       "      <td>4335.013151</td>\n",
       "    </tr>\n",
       "    <tr>\n",
       "      <th>28</th>\n",
       "      <td>35960</td>\n",
       "      <td>501.355901</td>\n",
       "      <td>12675.796996</td>\n",
       "      <td>2294.879709</td>\n",
       "    </tr>\n",
       "    <tr>\n",
       "      <th>29</th>\n",
       "      <td>22274</td>\n",
       "      <td>384.479472</td>\n",
       "      <td>12890.465433</td>\n",
       "      <td>1733.114796</td>\n",
       "    </tr>\n",
       "    <tr>\n",
       "      <th>30</th>\n",
       "      <td>49762</td>\n",
       "      <td>721.160542</td>\n",
       "      <td>22723.723301</td>\n",
       "      <td>1852.839641</td>\n",
       "    </tr>\n",
       "  </tbody>\n",
       "</table>\n",
       "</div>"
      ],
      "text/plain": [
       "    AreaUnderOilSeeds_GroundNut  MotorVehicles_Tractors  \\\n",
       "24                        49762              721.160542   \n",
       "25                          299                4.970978   \n",
       "26                         3817               45.795271   \n",
       "27                        38840              469.698763   \n",
       "28                        35960              501.355901   \n",
       "29                        22274              384.479472   \n",
       "30                        49762              721.160542   \n",
       "\n",
       "    LivestockCensus_2012_Sheep     TotalNPK  \n",
       "24                22723.723301  1852.839641  \n",
       "25                   83.608146    23.320849  \n",
       "26                  280.247116   151.238385  \n",
       "27                21985.146627  4335.013151  \n",
       "28                12675.796996  2294.879709  \n",
       "29                12890.465433  1733.114796  \n",
       "30                22723.723301  1852.839641  "
      ]
     },
     "execution_count": 254,
     "metadata": {},
     "output_type": "execute_result"
    }
   ],
   "source": [
    "Groundnut_Case_file = Groundnut_param\n",
    "for x in Groundnut_Case_file.columns:\n",
    "    Working_Directory[x] = Groundnut_Case_file[x]\n",
    "y_groundnut = Working_Directory['Groundnut_Production']\n",
    "\n",
    "if(len(Groundnut_Case_file) < 31):\n",
    "    row_24 = Groundnut_Case_file.iloc[24]\n",
    "    halved_row_24 = row_24 / 2\n",
    "    Groundnut_Case_file.iloc[24] = halved_row_24\n",
    "    Groundnut_Case_file.loc[len(Groundnut_Case_file)] = halved_row_24\n",
    "\n",
    "Groundnut_Case_file[24:]"
   ]
  },
  {
   "cell_type": "markdown",
   "metadata": {},
   "source": [
    "Making an abbreviations column for the plots for convenience and KDG_Districts for tableau location mapping."
   ]
  },
  {
   "cell_type": "code",
   "execution_count": 255,
   "metadata": {},
   "outputs": [
    {
     "name": "stdout",
     "output_type": "stream",
     "text": [
      "            District      KDG_District\n",
      "0          BENGALURU   Bengaluru Urban\n",
      "1       BENGALURU(R)   Bengaluru Rural\n",
      "2         RAMANAGARA        Ramanagara\n",
      "3        CHITRADURGA       Chitradurga\n",
      "4         DAVANAGERE        Davanagere\n",
      "5              KOLAR             Kolar\n",
      "6    CHIKKABALLAPURA   Chikkaballapura\n",
      "7         SHIVAMOGGA        Shivamogga\n",
      "8           TUMAKURU          Tumakuru\n",
      "9     CHIKKAMAGALURU    Chikkamagaluru\n",
      "10  DAKSHINA KANNADA  Dakshina Kannada\n",
      "11             UDUPI             Udupi\n",
      "12            HASSAN            Hassan\n",
      "13            KODAGU            Kodagu\n",
      "14            MANDYA            Mandya\n",
      "15            MYSURU            Mysuru\n",
      "16    CHAMARAJANAGAR   Chamarajanagara\n",
      "17          BELAGAVI          Belagavi\n",
      "18        VIJAYAPURA        Vijayapura\n",
      "19          BAGALKOT         Bagalkote\n",
      "20          DHARAWAD           Dharwad\n",
      "21             GADAG             Gadag\n",
      "22            HAVERI            Haveri\n",
      "23    UTTARA KANNADA    Uttara Kannada\n",
      "24           BALLARI           Ballari\n",
      "25             BIDAR             Bidar\n",
      "26        KALABURAGI        Kalaburagi\n",
      "27           YADGIRI            Yadgir\n",
      "28           RAICHUR           Raichur\n",
      "29            KOPPAL            Koppal\n",
      "30      VIJAYANAGARA      Vijayanagara\n"
     ]
    }
   ],
   "source": [
    "abbreviation_mapping = {\n",
    "    'BENGALURU': 'BLR',\n",
    "    'BENGALURU(R)': 'BLR(R)',\n",
    "    'RAMANAGARA': 'RGA',\n",
    "    'CHITRADURGA': 'CDA',\n",
    "    'DAVANAGERE': 'DVG',\n",
    "    'KOLAR': 'KLR',\n",
    "    'CHIKKABALLAPURA': 'CKA',\n",
    "    'SHIVAMOGGA': 'SMG',\n",
    "    'TUMAKURU': 'TKR',\n",
    "    'CHIKKAMAGALURU': 'CMG',\n",
    "    'DAKSHINA KANNADA': 'DKA',\n",
    "    'UDUPI': 'UPI',\n",
    "    'HASSAN': 'HSN',\n",
    "    'KODAGU': 'KDG',\n",
    "    'MANDYA': 'MDY',\n",
    "    'MYSURU': 'MYS',\n",
    "    'CHAMARAJANAGAR': 'CNR',\n",
    "    'BELAGAVI': 'BLG',\n",
    "    'VIJAYAPURA': 'VJP',\n",
    "    'BAGALKOT': 'BKT',\n",
    "    'DHARAWAD': 'DWD',\n",
    "    'GADAG': 'GDG',\n",
    "    'HAVERI': 'HVR',\n",
    "    'UTTARA KANNADA': 'UTK',\n",
    "    'BALLARI': 'BLL',\n",
    "    'BIDAR': 'BDR',\n",
    "    'KALABURAGI': 'KLB',\n",
    "    'YADGIRI': 'YDR',\n",
    "    'RAICHUR': 'RCR',\n",
    "    'KOPPAL': 'KPL',\n",
    "    'VIJAYANAGARA': 'VNG',\n",
    "}\n",
    "district_mapping = {\n",
    "    'BENGALURU': 'Bengaluru Urban',\n",
    "    'BENGALURU(R)': 'Bengaluru Rural',\n",
    "    'RAMANAGARA': 'Ramanagara',\n",
    "    'CHITRADURGA': 'Chitradurga',\n",
    "    'DAVANAGERE': 'Davanagere',\n",
    "    'KOLAR': 'Kolar',\n",
    "    'CHIKKABALLAPURA': 'Chikkaballapura',\n",
    "    'SHIVAMOGGA': 'Shivamogga',\n",
    "    'TUMAKURU': 'Tumakuru',\n",
    "    'CHIKKAMAGALURU': 'Chikkamagaluru',\n",
    "    'DAKSHINA KANNADA': 'Dakshina Kannada',\n",
    "    'UDUPI': 'Udupi',\n",
    "    'HASSAN': 'Hassan',\n",
    "    'KODAGU': 'Kodagu',\n",
    "    'MANDYA': 'Mandya',\n",
    "    'MYSURU': 'Mysuru',\n",
    "    'CHAMARAJANAGAR': 'Chamarajanagara',\n",
    "    'BELAGAVI': 'Belagavi',\n",
    "    'VIJAYAPURA': 'Vijayapura',\n",
    "    'BAGALKOT': 'Bagalkote',\n",
    "    'DHARAWAD': 'Dharwad',\n",
    "    'GADAG': 'Gadag',\n",
    "    'HAVERI': 'Haveri',\n",
    "    'UTTARA KANNADA': 'Uttara Kannada',\n",
    "    'BALLARI': 'Ballari',\n",
    "    'BIDAR': 'Bidar',\n",
    "    'KALABURAGI': 'Kalaburagi',\n",
    "    'YADGIRI': 'Yadgir',\n",
    "    'RAICHUR': 'Raichur',\n",
    "    'KOPPAL': 'Koppal',\n",
    "    'VIJAYANAGARA': 'Vijayanagara'\n",
    "}\n",
    "\n",
    "Working_Directory['KDG_District'] = Working_Directory['District'].map(district_mapping)\n",
    "Working_Directory['Abbreviation'] = Working_Directory['District'].map(abbreviation_mapping)\n",
    "\n",
    "Maize_Directory['KDG_District'] = Maize_Directory['District'].map(district_mapping)\n",
    "Maize_Directory['Abbreviation'] = Maize_Directory['District'].map(abbreviation_mapping)\n",
    "\n",
    "Groundnut_Directory['KDG_District'] = Groundnut_Directory['District'].map(district_mapping)\n",
    "Groundnut_Directory['Abbreviation'] = Groundnut_Directory['District'].map(abbreviation_mapping)\n",
    "\n",
    "print(Working_Directory[['District', 'KDG_District']])"
   ]
  },
  {
   "cell_type": "markdown",
   "metadata": {},
   "source": [
    "Removing the districts where the crop production is less than 1000 units (outliers)."
   ]
  },
  {
   "cell_type": "code",
   "execution_count": 256,
   "metadata": {},
   "outputs": [
    {
     "name": "stdout",
     "output_type": "stream",
     "text": [
      "30\n"
     ]
    }
   ],
   "source": [
    "maize_rows_to_remove = (Maize_Case_file <= 0).any(axis=1)\n",
    "\n",
    "# maize_rows_to_remove |= Working_Directory['Maize_Production']  < 1000\n",
    "# rows_to_remove |= Working_Directory['Maize_Production'] > 500000\n",
    "\n",
    "# Update Case_file and y\n",
    "Maize_Case_file = Maize_Case_file[~maize_rows_to_remove].reset_index(drop=True)\n",
    "y_maize = Maize_Directory['Maize_Production'][~maize_rows_to_remove].reset_index(drop=True)\n",
    "\n",
    "# Verify the length of Case_file\n",
    "case_file_length = len(Maize_Case_file)\n",
    "print(case_file_length)"
   ]
  },
  {
   "cell_type": "code",
   "execution_count": 257,
   "metadata": {},
   "outputs": [
    {
     "name": "stdout",
     "output_type": "stream",
     "text": [
      "30\n"
     ]
    }
   ],
   "source": [
    "groundnut_rows_to_remove = (Groundnut_Case_file <= 0).any(axis=1)\n",
    "\n",
    "# rice_rows_to_remove |= Working_Directory['Groundnut_Production']  < 1000\n",
    "# rows_to_remove |= Working_Directory['Maize_Production'] > 500000\n",
    "\n",
    "# Update Case_file and y\n",
    "Groundnut_Case_file = Groundnut_Case_file[~groundnut_rows_to_remove].reset_index(drop=True)\n",
    "y_maize = Groundnut_Directory['Groundnut_Production'][~groundnut_rows_to_remove].reset_index(drop=True)\n",
    "\n",
    "# Verify the length of Case_file\n",
    "case_file_length = len(Groundnut_Case_file)\n",
    "print(case_file_length)"
   ]
  },
  {
   "cell_type": "code",
   "execution_count": 258,
   "metadata": {},
   "outputs": [],
   "source": [
    "# Making crop production dataframes for the regression model\n",
    "y_maize_df = pd.DataFrame()\n",
    "y_maize_df['Maize_Production'] = Maize_Directory[~maize_rows_to_remove]['Maize_Production'].reset_index(drop=True)\n",
    "y_groundnut_df = pd.DataFrame()\n",
    "y_groundnut_df['Groundnut_Production'] = Groundnut_Directory[~groundnut_rows_to_remove]['Groundnut_Production'].reset_index(drop=True)\n",
    "Maize_Case_file =sm.add_constant(Maize_Case_file)\n",
    "Groundnut_Case_file =sm.add_constant(Groundnut_Case_file)"
   ]
  },
  {
   "cell_type": "code",
   "execution_count": 259,
   "metadata": {},
   "outputs": [
    {
     "data": {
      "text/html": [
       "<div>\n",
       "<style scoped>\n",
       "    .dataframe tbody tr th:only-of-type {\n",
       "        vertical-align: middle;\n",
       "    }\n",
       "\n",
       "    .dataframe tbody tr th {\n",
       "        vertical-align: top;\n",
       "    }\n",
       "\n",
       "    .dataframe thead th {\n",
       "        text-align: right;\n",
       "    }\n",
       "</style>\n",
       "<table border=\"1\" class=\"dataframe\">\n",
       "  <thead>\n",
       "    <tr style=\"text-align: right;\">\n",
       "      <th></th>\n",
       "      <th>Groundnut_Production</th>\n",
       "    </tr>\n",
       "  </thead>\n",
       "  <tbody>\n",
       "    <tr>\n",
       "      <th>0</th>\n",
       "      <td>71.0</td>\n",
       "    </tr>\n",
       "    <tr>\n",
       "      <th>1</th>\n",
       "      <td>206.0</td>\n",
       "    </tr>\n",
       "    <tr>\n",
       "      <th>2</th>\n",
       "      <td>4830.0</td>\n",
       "    </tr>\n",
       "    <tr>\n",
       "      <th>3</th>\n",
       "      <td>68575.0</td>\n",
       "    </tr>\n",
       "    <tr>\n",
       "      <th>4</th>\n",
       "      <td>16592.0</td>\n",
       "    </tr>\n",
       "    <tr>\n",
       "      <th>5</th>\n",
       "      <td>5810.0</td>\n",
       "    </tr>\n",
       "    <tr>\n",
       "      <th>6</th>\n",
       "      <td>7132.0</td>\n",
       "    </tr>\n",
       "    <tr>\n",
       "      <th>7</th>\n",
       "      <td>248.0</td>\n",
       "    </tr>\n",
       "    <tr>\n",
       "      <th>8</th>\n",
       "      <td>39626.0</td>\n",
       "    </tr>\n",
       "    <tr>\n",
       "      <th>9</th>\n",
       "      <td>3909.0</td>\n",
       "    </tr>\n",
       "    <tr>\n",
       "      <th>10</th>\n",
       "      <td>3623.0</td>\n",
       "    </tr>\n",
       "    <tr>\n",
       "      <th>11</th>\n",
       "      <td>521.0</td>\n",
       "    </tr>\n",
       "    <tr>\n",
       "      <th>12</th>\n",
       "      <td>45.0</td>\n",
       "    </tr>\n",
       "    <tr>\n",
       "      <th>13</th>\n",
       "      <td>1021.0</td>\n",
       "    </tr>\n",
       "    <tr>\n",
       "      <th>14</th>\n",
       "      <td>2170.0</td>\n",
       "    </tr>\n",
       "    <tr>\n",
       "      <th>15</th>\n",
       "      <td>8867.0</td>\n",
       "    </tr>\n",
       "    <tr>\n",
       "      <th>16</th>\n",
       "      <td>39530.0</td>\n",
       "    </tr>\n",
       "    <tr>\n",
       "      <th>17</th>\n",
       "      <td>27528.0</td>\n",
       "    </tr>\n",
       "    <tr>\n",
       "      <th>18</th>\n",
       "      <td>25444.0</td>\n",
       "    </tr>\n",
       "    <tr>\n",
       "      <th>19</th>\n",
       "      <td>21178.0</td>\n",
       "    </tr>\n",
       "    <tr>\n",
       "      <th>20</th>\n",
       "      <td>31332.0</td>\n",
       "    </tr>\n",
       "    <tr>\n",
       "      <th>21</th>\n",
       "      <td>18309.0</td>\n",
       "    </tr>\n",
       "    <tr>\n",
       "      <th>22</th>\n",
       "      <td>3825.0</td>\n",
       "    </tr>\n",
       "    <tr>\n",
       "      <th>23</th>\n",
       "      <td>22938.5</td>\n",
       "    </tr>\n",
       "    <tr>\n",
       "      <th>24</th>\n",
       "      <td>261.0</td>\n",
       "    </tr>\n",
       "    <tr>\n",
       "      <th>25</th>\n",
       "      <td>3114.0</td>\n",
       "    </tr>\n",
       "    <tr>\n",
       "      <th>26</th>\n",
       "      <td>31435.0</td>\n",
       "    </tr>\n",
       "    <tr>\n",
       "      <th>27</th>\n",
       "      <td>26958.0</td>\n",
       "    </tr>\n",
       "    <tr>\n",
       "      <th>28</th>\n",
       "      <td>29982.0</td>\n",
       "    </tr>\n",
       "    <tr>\n",
       "      <th>29</th>\n",
       "      <td>22938.5</td>\n",
       "    </tr>\n",
       "  </tbody>\n",
       "</table>\n",
       "</div>"
      ],
      "text/plain": [
       "    Groundnut_Production\n",
       "0                   71.0\n",
       "1                  206.0\n",
       "2                 4830.0\n",
       "3                68575.0\n",
       "4                16592.0\n",
       "5                 5810.0\n",
       "6                 7132.0\n",
       "7                  248.0\n",
       "8                39626.0\n",
       "9                 3909.0\n",
       "10                3623.0\n",
       "11                 521.0\n",
       "12                  45.0\n",
       "13                1021.0\n",
       "14                2170.0\n",
       "15                8867.0\n",
       "16               39530.0\n",
       "17               27528.0\n",
       "18               25444.0\n",
       "19               21178.0\n",
       "20               31332.0\n",
       "21               18309.0\n",
       "22                3825.0\n",
       "23               22938.5\n",
       "24                 261.0\n",
       "25                3114.0\n",
       "26               31435.0\n",
       "27               26958.0\n",
       "28               29982.0\n",
       "29               22938.5"
      ]
     },
     "execution_count": 259,
     "metadata": {},
     "output_type": "execute_result"
    }
   ],
   "source": [
    "y_groundnut_df"
   ]
  },
  {
   "cell_type": "code",
   "execution_count": 260,
   "metadata": {},
   "outputs": [
    {
     "name": "stdout",
     "output_type": "stream",
     "text": [
      "                            OLS Regression Results                            \n",
      "==============================================================================\n",
      "Dep. Variable:       Maize_Production   R-squared:                       0.955\n",
      "Model:                            OLS   Adj. R-squared:                  0.950\n",
      "Method:                 Least Squares   F-statistic:                     184.3\n",
      "Date:                Mon, 17 Mar 2025   Prob (F-statistic):           1.24e-17\n",
      "Time:                        16:11:42   Log-Likelihood:                -355.61\n",
      "No. Observations:                  30   AIC:                             719.2\n",
      "Df Residuals:                      26   BIC:                             724.8\n",
      "Df Model:                           3                                         \n",
      "Covariance Type:            nonrobust                                         \n",
      "===============================================================================================\n",
      "                                  coef    std err          t      P>|t|      [0.025      0.975]\n",
      "-----------------------------------------------------------------------------------------------\n",
      "const                       -6868.0896   9671.665     -0.710      0.484   -2.67e+04     1.3e+04\n",
      "LivestockCensus_2012_Cattle     0.5695      0.289      1.970      0.060      -0.025       1.164\n",
      "AreaUnderCereals_Maize          1.7764      0.261      6.804      0.000       1.240       2.313\n",
      "TotalNPK                        5.8447      1.388      4.211      0.000       2.992       8.697\n",
      "==============================================================================\n",
      "Omnibus:                        3.905   Durbin-Watson:                   2.424\n",
      "Prob(Omnibus):                  0.142   Jarque-Bera (JB):                2.923\n",
      "Skew:                           0.203   Prob(JB):                        0.232\n",
      "Kurtosis:                       4.474   Cond. No.                     1.24e+05\n",
      "==============================================================================\n",
      "\n",
      "Notes:\n",
      "[1] Standard Errors assume that the covariance matrix of the errors is correctly specified.\n",
      "[2] The condition number is large, 1.24e+05. This might indicate that there are\n",
      "strong multicollinearity or other numerical problems.\n"
     ]
    },
    {
     "data": {
      "text/plain": [
       "array([0.56951043, 1.77639672, 5.84472227])"
      ]
     },
     "execution_count": 260,
     "metadata": {},
     "output_type": "execute_result"
    }
   ],
   "source": [
    "model=sm.OLS(y_maize_df['Maize_Production'],Maize_Case_file).fit()\n",
    "print(model.summary())\n",
    "model.params.values\n",
    "maize_coef=model.params.values[1:]\n",
    "maize_coef"
   ]
  },
  {
   "cell_type": "code",
   "execution_count": 261,
   "metadata": {},
   "outputs": [
    {
     "name": "stdout",
     "output_type": "stream",
     "text": [
      "                             OLS Regression Results                             \n",
      "================================================================================\n",
      "Dep. Variable:     Groundnut_Production   R-squared:                       0.922\n",
      "Model:                              OLS   Adj. R-squared:                  0.909\n",
      "Method:                   Least Squares   F-statistic:                     73.41\n",
      "Date:                  Mon, 17 Mar 2025   Prob (F-statistic):           1.91e-13\n",
      "Time:                          16:11:42   Log-Likelihood:                -295.21\n",
      "No. Observations:                    30   AIC:                             600.4\n",
      "Df Residuals:                        25   BIC:                             607.4\n",
      "Df Model:                             4                                         \n",
      "Covariance Type:              nonrobust                                         \n",
      "===============================================================================================\n",
      "                                  coef    std err          t      P>|t|      [0.025      0.975]\n",
      "-----------------------------------------------------------------------------------------------\n",
      "const                         858.2371   1319.764      0.650      0.521   -1859.868    3576.342\n",
      "AreaUnderOilSeeds_GroundNut     0.2798      0.146      1.911      0.068      -0.022       0.581\n",
      "MotorVehicles_Tractors          8.3368      4.752      1.755      0.092      -1.449      18.123\n",
      "LivestockCensus_2012_Sheep      0.1410      0.153      0.922      0.365      -0.174       0.456\n",
      "TotalNPK                        4.2573      1.286      3.311      0.003       1.609       6.906\n",
      "==============================================================================\n",
      "Omnibus:                        0.716   Durbin-Watson:                   1.887\n",
      "Prob(Omnibus):                  0.699   Jarque-Bera (JB):                0.204\n",
      "Skew:                           0.191   Prob(JB):                        0.903\n",
      "Kurtosis:                       3.130   Cond. No.                     5.18e+04\n",
      "==============================================================================\n",
      "\n",
      "Notes:\n",
      "[1] Standard Errors assume that the covariance matrix of the errors is correctly specified.\n",
      "[2] The condition number is large, 5.18e+04. This might indicate that there are\n",
      "strong multicollinearity or other numerical problems.\n"
     ]
    },
    {
     "data": {
      "text/plain": [
       "array([0.27984072, 8.33679262, 0.14099956, 4.25726152])"
      ]
     },
     "execution_count": 261,
     "metadata": {},
     "output_type": "execute_result"
    }
   ],
   "source": [
    "model=sm.OLS(y_groundnut_df['Groundnut_Production'],Groundnut_Case_file).fit()\n",
    "print(model.summary())\n",
    "model.params.values\n",
    "groundnut_coef=model.params.values[1:]\n",
    "groundnut_coef"
   ]
  },
  {
   "cell_type": "code",
   "execution_count": 262,
   "metadata": {},
   "outputs": [
    {
     "name": "stdout",
     "output_type": "stream",
     "text": [
      "5.84472226574112\n",
      "4.257261523289567\n"
     ]
    }
   ],
   "source": [
    "labels_maize = [\"Cattle\", \"MArea\", \"NPK\"]\n",
    "maize_coef_dict = dict(zip(labels_maize, maize_coef))\n",
    "\n",
    "labels_groundnut = [\"GArea\", \"Tractors\", \"Sheep\",\"NPK\"]\n",
    "groundnut_coef_dict = dict(zip(labels_groundnut, groundnut_coef))\n",
    "\n",
    "def get_slope(label, crop_type):\n",
    "    if crop_type == \"Maize\":\n",
    "        return maize_coef_dict.get(label, \"Label not found\")\n",
    "    elif crop_type == \"Groundnut\":\n",
    "        return groundnut_coef_dict.get(label, \"Label not found\")\n",
    "    else:\n",
    "        return \"Crop type not found\"\n",
    "\n",
    "print(get_slope(\"NPK\", \"Maize\"))\n",
    "print(get_slope(\"NPK\", \"Groundnut\"))"
   ]
  },
  {
   "cell_type": "code",
   "execution_count": 263,
   "metadata": {},
   "outputs": [
    {
     "name": "stdout",
     "output_type": "stream",
     "text": [
      "5.84472226574112\n"
     ]
    },
    {
     "data": {
      "image/png": "[encoded data removed]",
      "text/plain": [
       "<Figure size 1400x900 with 1 Axes>"
      ]
     },
     "metadata": {},
     "output_type": "display_data"
    }
   ],
   "source": [
    "import matplotlib.pyplot as plt\n",
    "import numpy as np\n",
    "\n",
    "def calculate_and_visualize(perturbation, crop, Working_Directory, what,plot = True):\n",
    "    # Mapping of factor names based on 'what'\n",
    "    factor_mapping = {\n",
    "        'NPK': 'TotalNPK',\n",
    "        'Cattle': 'LivestockCensus_2012_Cattle',\n",
    "        'MArea': 'AreaUnderCereals_Maize',\n",
    "    }\n",
    "    \n",
    "    # Dynamically select the correct factor and slope column based on 'what'\n",
    "    factor_name = factor_mapping[what]\n",
    "    production_col = f'{crop}_Production'\n",
    "    slope = get_slope(what,crop)\n",
    "    print(slope)\n",
    "    # Calculate the factor\n",
    "    factor = Working_Directory[factor_name]\n",
    "    \n",
    "    # Initialize an empty list for new values\n",
    "    New_values = []\n",
    "    \n",
    "    # Calculate new values based on the provided formula\n",
    "    for i in range(len(Working_Directory['District'])):\n",
    "        y_new = Working_Directory[production_col][i] + slope * (perturbation * factor[i] / 100)\n",
    "        New_values.append(int(y_new))\n",
    "    \n",
    "    # Add the new values to the DataFrame with a specific column name\n",
    "    Working_Directory[f'{crop[0].upper()} - {what} {perturbation}'] = New_values\n",
    "    Working_Directory['Change'] =  (New_values - Working_Directory[production_col])\n",
    "    Working_Directory['Percentage Change'] =  ((New_values - Working_Directory[production_col])/Working_Directory[production_col])*100\n",
    "    Working_Directory = Working_Directory.replace([np.inf, -np.inf], np.nan).dropna(subset=['Percentage Change'])\n",
    "    \n",
    "    # Visualization\n",
    "    if(plot == True):\n",
    "        plt.figure(figsize=(14, 9))\n",
    "        bars = plt.bar(Working_Directory['District'], \n",
    "                    Working_Directory['Percentage Change'], color = 'green')\n",
    "        \n",
    "        # Add value labels to the bars\n",
    "        for bar, value in zip(bars, Working_Directory['Percentage Change']):\n",
    "            plt.text(bar.get_x() + bar.get_width() / 2, \n",
    "                    bar.get_height(), \n",
    "                    f'{value:.1f}', \n",
    "                    ha='center', \n",
    "                    va='bottom', \n",
    "                    fontsize=10)\n",
    "        \n",
    "        plt.xlabel('District')\n",
    "        plt.ylabel(f'Percentage Change in {crop} Production')\n",
    "        # plt.title(f'Percentage Change in {crop} Production Values when {what} increases by {perturbation}%')\n",
    "        plt.xticks(rotation=90)\n",
    "        plt.tight_layout()\n",
    "        plt.show()\n",
    "\n",
    "# Example usage:\n",
    "perturbation = 20\n",
    "what = 'NPK'  # Factor to be used\n",
    "crop = 'Maize'  # Or 'Maize'\n",
    "\n",
    "# Assuming Working_Directory is a DataFrame that has all necessary columns defined\n",
    "calculate_and_visualize(perturbation, crop, Maize_Directory, what,plot = True)\n"
   ]
  },
  {
   "cell_type": "code",
   "execution_count": 264,
   "metadata": {},
   "outputs": [
    {
     "data": {
      "image/png": "[encoded data removed]",
      "text/plain": [
       "<Figure size 1400x900 with 1 Axes>"
      ]
     },
     "metadata": {},
     "output_type": "display_data"
    }
   ],
   "source": [
    "import matplotlib.pyplot as plt\n",
    "import numpy as np\n",
    "\n",
    "def calculate_and_visualize(perturbation, crop, Working_Directory, what,plot = True):\n",
    "    # Mapping of factor names based on 'what'\n",
    "    factor_mapping = {\n",
    "        'NPK': 'TotalNPK',\n",
    "        'GArea': 'AreaUnderOilSeeds_GroundNut',\n",
    "        'Sheep': 'LivestockCensus_2012_Sheep',\n",
    "        'Tractors': 'MotorVehicles_Tractors'\n",
    "    }\n",
    "    \n",
    "    # Dynamically select the correct factor and slope column based on 'what'\n",
    "    factor_name = factor_mapping[what]\n",
    "    production_col = f'{crop}_Production'\n",
    "    slope = get_slope(what,crop)\n",
    "\n",
    "    # Calculate the factor\n",
    "    factor = Working_Directory[factor_name]\n",
    "    \n",
    "    # Initialize an empty list for new values\n",
    "    New_values = []\n",
    "    \n",
    "    # Calculate new values based on the provided formula\n",
    "    for i in range(len(Working_Directory['District'])):\n",
    "        y_new = Working_Directory[production_col][i] + slope * (perturbation * factor[i] / 100)\n",
    "        New_values.append(int(y_new))\n",
    "    \n",
    "    # Add the new values to the DataFrame with a specific column name\n",
    "    Working_Directory[f'{crop[0].upper()} - {what} {perturbation}'] = New_values\n",
    "    Working_Directory['Change'] =  (New_values - Working_Directory[production_col])\n",
    "    Working_Directory['Percentage Change'] =  ((New_values - Working_Directory[production_col])/Working_Directory[production_col])*100\n",
    "    Working_Directory = Working_Directory.replace([np.inf, -np.inf], np.nan).dropna(subset=['Percentage Change'])\n",
    "    \n",
    "    # Visualization\n",
    "    if(plot == True):\n",
    "        plt.figure(figsize=(14, 9))\n",
    "        bars = plt.bar(Working_Directory['District'], \n",
    "                    Working_Directory['Percentage Change'], color = 'darkviolet')\n",
    "        \n",
    "        # Add value labels to the bars\n",
    "        for bar, value in zip(bars, Working_Directory['Percentage Change']):\n",
    "            plt.text(bar.get_x() + bar.get_width() / 2, \n",
    "                    bar.get_height(), \n",
    "                    f'{value:.1f}', \n",
    "                    ha='center', \n",
    "                    va='bottom', \n",
    "                    fontsize=10)\n",
    "        \n",
    "        plt.xlabel('District')\n",
    "        plt.ylabel(f'Percentage Change in {crop} Production')\n",
    "        plt.title(f'Percentage Change in {crop} Production Values when {what} increases by {perturbation}%')\n",
    "        plt.xticks(rotation=90)\n",
    "        plt.tight_layout()\n",
    "        plt.show()\n",
    "\n",
    "# Example usage:\n",
    "perturbation = 20\n",
    "what = 'NPK'  # Factor to be used\n",
    "crop = 'Groundnut'  # Or 'Maize'\n",
    "\n",
    "# Assuming Working_Directory is a DataFrame that has all necessary columns defined\n",
    "calculate_and_visualize(perturbation, crop, Groundnut_Directory, what,plot = True)"
   ]
  },
  {
   "cell_type": "code",
   "execution_count": 265,
   "metadata": {},
   "outputs": [
    {
     "name": "stdout",
     "output_type": "stream",
     "text": [
      "    1   2   3   4   5   6   7   8   9   10  ...  22  23  24  25  26  27  28  \\\n",
      "1    0   1   1   0   0   0   0   0   0   0  ...   0   0   0   0   0   0   0   \n",
      "2    1   0   1   0   0   1   1   0   1   0  ...   0   0   0   0   0   0   0   \n",
      "3    1   1   0   0   0   0   0   0   1   0  ...   0   0   0   0   0   0   0   \n",
      "4    0   0   0   0   1   0   0   0   1   1  ...   0   0   0   1   0   0   0   \n",
      "5    0   0   0   1   0   0   0   1   0   1  ...   0   1   0   1   0   0   0   \n",
      "6    0   1   0   0   0   0   1   0   0   0  ...   0   0   0   0   0   0   0   \n",
      "7    0   1   0   0   0   1   0   0   1   0  ...   0   0   0   0   0   0   0   \n",
      "8    0   0   0   0   1   0   0   0   0   1  ...   0   1   1   0   0   0   0   \n",
      "9    0   1   1   1   0   0   1   0   0   1  ...   0   0   0   0   0   0   0   \n",
      "10   0   0   0   1   1   0   0   1   1   0  ...   0   0   0   0   0   0   0   \n",
      "11   0   0   0   0   0   0   0   0   0   1  ...   0   0   0   0   0   0   0   \n",
      "12   0   0   0   0   0   0   0   1   0   1  ...   0   0   1   0   0   0   0   \n",
      "13   0   0   0   0   0   0   0   0   1   1  ...   0   0   0   0   0   0   0   \n",
      "14   0   0   0   0   0   0   0   0   0   0  ...   0   0   0   0   0   0   0   \n",
      "15   0   0   1   0   0   0   0   0   1   0  ...   0   0   0   0   0   0   0   \n",
      "16   0   0   0   0   0   0   0   0   0   0  ...   0   0   0   0   0   0   0   \n",
      "17   0   0   1   0   0   0   0   0   0   0  ...   0   0   0   0   0   0   0   \n",
      "18   0   0   0   0   0   0   0   0   0   0  ...   1   0   1   0   0   0   0   \n",
      "19   0   0   0   0   0   0   0   0   0   0  ...   0   0   0   0   0   1   1   \n",
      "20   0   0   0   0   0   0   0   0   0   0  ...   1   0   0   0   0   0   0   \n",
      "21   0   0   0   0   0   0   0   0   0   0  ...   1   1   1   0   0   0   0   \n",
      "22   0   0   0   0   0   0   0   0   0   0  ...   0   1   0   1   0   0   0   \n",
      "23   0   0   0   0   1   0   0   1   0   0  ...   1   0   1   1   0   0   0   \n",
      "24   0   0   0   0   0   0   0   1   0   0  ...   0   1   0   0   0   0   0   \n",
      "25   0   0   0   1   1   0   0   0   0   0  ...   1   1   0   0   0   0   0   \n",
      "26   0   0   0   0   0   0   0   0   0   0  ...   0   0   0   0   0   1   0   \n",
      "27   0   0   0   0   0   0   0   0   0   0  ...   0   0   0   0   1   0   1   \n",
      "28   0   0   0   0   0   0   0   0   0   0  ...   0   0   0   0   0   1   0   \n",
      "29   0   0   0   0   0   0   0   0   0   0  ...   0   0   0   1   0   0   1   \n",
      "30   0   0   0   0   0   0   0   0   0   0  ...   1   0   0   1   0   0   0   \n",
      "31   0   0   0   1   1   0   0   0   0   0  ...   1   1   0   1   0   0   0   \n",
      "\n",
      "    29  30  31  \n",
      "1    0   0   0  \n",
      "2    0   0   0  \n",
      "3    0   0   0  \n",
      "4    0   0   1  \n",
      "5    0   0   1  \n",
      "6    0   0   0  \n",
      "7    0   0   0  \n",
      "8    0   0   0  \n",
      "9    0   0   0  \n",
      "10   0   0   0  \n",
      "11   0   0   0  \n",
      "12   0   0   0  \n",
      "13   0   0   0  \n",
      "14   0   0   0  \n",
      "15   0   0   0  \n",
      "16   0   0   0  \n",
      "17   0   0   0  \n",
      "18   0   0   0  \n",
      "19   1   0   0  \n",
      "20   1   1   0  \n",
      "21   0   0   0  \n",
      "22   0   1   1  \n",
      "23   0   0   1  \n",
      "24   0   0   0  \n",
      "25   1   1   1  \n",
      "26   0   0   0  \n",
      "27   0   0   0  \n",
      "28   1   0   0  \n",
      "29   0   1   0  \n",
      "30   1   0   1  \n",
      "31   0   1   0  \n",
      "\n",
      "[31 rows x 31 columns]\n"
     ]
    }
   ],
   "source": [
    "adjacency_excel = pd.read_excel('Karnataka_District_Adjacency_File.xlsx')\n",
    "\n",
    "district_codes = sorted(set(adjacency_excel['District_Code']))\n",
    "\n",
    "n = len(district_codes)\n",
    "adj_matrix = np.zeros((n, n), dtype=int)\n",
    "\n",
    "code_to_index = {code: idx for idx, code in enumerate(district_codes)}\n",
    "\n",
    "for i in range(len(adjacency_excel)):\n",
    "    district_code = adjacency_excel['District_Code'][i]\n",
    "    neighbors = [int(num) for num in str(adjacency_excel['District_Neighbors'][i]).split(',') if num.strip().isdigit()]\n",
    "    \n",
    "    for neighbor in neighbors:\n",
    "        adj_matrix[code_to_index[district_code]][code_to_index[neighbor]] = 1\n",
    "        adj_matrix[code_to_index[neighbor]][code_to_index[district_code]] = 1  # Assuming adjacency is bidirectional\n",
    "\n",
    "adj_matrix_df = pd.DataFrame(adj_matrix, index=district_codes, columns=district_codes)\n",
    "\n",
    "print(adj_matrix_df)\n",
    "\n",
    "adj_matrix_np = adj_matrix_df.to_numpy()"
   ]
  },
  {
   "cell_type": "code",
   "execution_count": 266,
   "metadata": {},
   "outputs": [],
   "source": [
    "def normalize_list(lst):\n",
    "    min_val = min(lst)\n",
    "    max_val = max(lst)\n",
    "    normalized_lst = [(x - min_val) / (max_val - min_val) for x in lst]\n",
    "    return normalized_lst\n",
    "\n",
    "\n",
    "Name = 'M - NPK 20'\n",
    "Capability_list = normalize_list(Maize_Directory[f'{Name}'])"
   ]
  },
  {
   "cell_type": "code",
   "execution_count": null,
   "metadata": {},
   "outputs": [],
   "source": [
    "# # Impact calculation function\n",
    "# def calculate_impact(Working_Directory, crop, perturbation, what):\n",
    "#     # Normalize the capability list\n",
    "#     capability_name = f'{crop[0].upper()} - {what} {perturbation}'\n",
    "\n",
    "#     # Calculate the impact as percentage change\n",
    "#     original_production = Working_Directory[f'{crop}_Production']\n",
    "#     new_production = Working_Directory[capability_name]\n",
    "#     impact = ((new_production - original_production) / original_production) * 100\n",
    "\n",
    "#     # Column names\n",
    "#     impact_column_name = f'Impact_{crop[0].upper()}_{what}_{perturbation}'\n",
    "\n",
    "#     return impact, impact_column_name"
   ]
  },
  {
   "cell_type": "code",
   "execution_count": 268,
   "metadata": {},
   "outputs": [],
   "source": [
    "# Combined calculation function\n",
    "def calculate_Change_Impact(Working_Directory, crop, perturbation, what):\n",
    "    # Normalize the capability list\n",
    "    capability_name = f'{crop[0].upper()} - {what} {perturbation}'\n",
    "    \n",
    "    # Calculate the impact as percentage change\n",
    "    original_production = Working_Directory[f'{crop}_Production']\n",
    "    new_production = Working_Directory[capability_name]\n",
    "    change = (new_production - original_production) \n",
    "    impact = ((new_production - original_production) / original_production) * 100\n",
    "\n",
    "    return change,impact,new_production"
   ]
  },
  {
   "cell_type": "code",
   "execution_count": 269,
   "metadata": {},
   "outputs": [],
   "source": [
    "# Function to calculate impact for a specific crop\n",
    "def calculate_impact( crop, perturbation, what):\n",
    "    if(crop == 'Maize'):\n",
    "        Working_Directory = Maize_Directory\n",
    "    elif(crop == 'Groundnut'):\n",
    "        Working_Directory = Groundnut_Directory\n",
    "    else:\n",
    "        Working_Directory = Groundnut_Directory\n",
    "    capability_name = f'{crop[0].upper()} - {what} {perturbation}'\n",
    "    original_production = Working_Directory[f'{crop}_Production']\n",
    "    new_production = Working_Directory[capability_name]\n",
    "    impact = ((new_production - original_production) / original_production) * 100\n",
    "    impact_column_name = f'Impact_{crop[0].upper()}_{what}_{perturbation}'\n",
    "    return impact, impact_column_name"
   ]
  },
  {
   "cell_type": "code",
   "execution_count": 270,
   "metadata": {},
   "outputs": [],
   "source": [
    "def calculate_stress_stability(adj_matrix, df):\n",
    "    df['stress'] = 0.0\n",
    "    df['stability'] = 0.0\n",
    "    capability_columns = df.columns.difference(['node', 'stress', 'stability'])\n",
    "    \n",
    "    for idx, row in df.iterrows():\n",
    "        node = row['node']\n",
    "        node_idx = df.index[df['node'] == node][0]\n",
    "        neighbors_idx = np.where(adj_matrix[node_idx] == 1)[0]\n",
    "        \n",
    "        if len(neighbors_idx) > 0:\n",
    "            neighbor_capabilities = df.iloc[neighbors_idx][capability_columns].values\n",
    "            centroid = np.mean(neighbor_capabilities, axis=0)\n",
    "            node_capabilities = row[capability_columns].values\n",
    "            stress = np.linalg.norm(node_capabilities - centroid)\n",
    "        else:\n",
    "            stress = 0\n",
    "        \n",
    "        df.at[idx, 'stress'] = stress\n",
    "    \n",
    "    min_stress = df['stress'].min()\n",
    "    max_stress = df['stress'].max()\n",
    "    \n",
    "    if max_stress - min_stress > 0:\n",
    "        df['stress'] = (df['stress'] - min_stress) / (max_stress - min_stress)\n",
    "    else:\n",
    "        df['stress'] = 0 \n",
    "    \n",
    "    df['stability'] = 1 - df['stress']\n",
    "    \n",
    "    return df"
   ]
  },
  {
   "cell_type": "code",
   "execution_count": 271,
   "metadata": {},
   "outputs": [
    {
     "data": {
      "application/vnd.plotly.v1+json": {
       "config": {
        "plotlyServerURL": "https://plot.ly"
       },
       "data": [
        {
         "hovertemplate": "<b>%{text}</b><br>Stability: %{x:.2f}<br>Impact: %{y:.2f}%<extra></extra>",
         "marker": {
          "color": "green"
         },
         "mode": "markers+text",
         "name": "Maize",
         "text": [
          "BLR",
          "BLR(R)",
          "RGA",
          "CDA",
          "DVG",
          "KLR",
          "CKA",
          "SMG",
          "TKR",
          "CMG",
          "DKA",
          "UPI",
          "HSN",
          "KDG",
          "MDY",
          "MYS",
          "CNR",
          "BLG",
          "VJP",
          "BKT",
          "DWD",
          "GDG",
          "HVR",
          "UTK",
          "BLL",
          "BDR",
          "KLB",
          "YDR",
          "RCR",
          "KPL",
          "VNG"
         ],
         "textfont": {
          "color": "black",
          "size": 10
         },
         "textposition": "top right",
         "type": "scatter",
         "x": [
          0.9612211455606586,
          0.9867310453006398,
          0.9104172686751727,
          0.8039348744851456,
          0.13420103715538778,
          0.8473421639149912,
          0.8526883039378912,
          0.989850637935138,
          0.8758168785597346,
          0.6862704775538471,
          0.7768139167052976,
          0.836690297090559,
          0.3778925067997333,
          0.7073830562027654,
          0.7451274917288429,
          1,
          0.8069276097090049,
          0,
          0.9033909530619694,
          0.9406742835152748,
          0.5623697346011661,
          0.7515445882034973,
          0.49340554187939134,
          0.467687970951546,
          0.7062042535172999,
          0.987701669932987,
          0.8688105965981596,
          0.8376952107424877,
          0.6599281211893526,
          0.8597472379025456,
          0.6147579169337662
         ],
         "y": [
          17.783952761375478,
          8.33431181457389,
          2.4784688995215314,
          4.6857247908815145,
          5.061966762363026,
          14.667424673109721,
          9.082291380307325,
          5.381138205639821,
          4.800502482502841,
          15.53958241650775,
          null,
          1.834862385321101,
          5.96429865513555,
          22.950728195971205,
          8.732655903440449,
          5.9188940898552,
          5.761870630079927,
          9.78677365550196,
          5.38159388848878,
          10.653995446942579,
          8.315863803870512,
          4.7192293249371735,
          6.143361218127777,
          4.973430753902358,
          9.441107213225047,
          10.426370476531709,
          5.676766295055058,
          16.086793864571643,
          9.820193637621024,
          6.75682778630448,
          9.441107213225047
         ]
        },
        {
         "hovertemplate": "<b>%{text}</b><br>Stability: %{x:.2f}<br>Impact: %{y:.2f}%<extra></extra>",
         "marker": {
          "color": "darkviolet"
         },
         "mode": "markers",
         "name": "Groundnut",
         "text": [
          "BLR",
          "BLR(R)",
          "RGA",
          "CDA",
          "DVG",
          "KLR",
          "CKA",
          "SMG",
          "TKR",
          "CMG",
          "DKA",
          "UPI",
          "HSN",
          "KDG",
          "MDY",
          "MYS",
          "CNR",
          "BLG",
          "VJP",
          "BKT",
          "DWD",
          "GDG",
          "HVR",
          "UTK",
          "BLL",
          "BDR",
          "KLB",
          "YDR",
          "RCR",
          "KPL",
          "VNG"
         ],
         "type": "scatter",
         "x": [
          0.9612211455606586,
          0.9867310453006398,
          0.9104172686751727,
          0.8039348744851456,
          0.13420103715538778,
          0.8473421639149912,
          0.8526883039378912,
          0.989850637935138,
          0.8758168785597346,
          0.6862704775538471,
          0.7768139167052976,
          0.836690297090559,
          0.3778925067997333,
          0.7073830562027654,
          0.7451274917288429,
          1,
          0.8069276097090049,
          0,
          0.9033909530619694,
          0.9406742835152748,
          0.5623697346011661,
          0.7515445882034973,
          0.49340554187939134,
          0.467687970951546,
          0.7062042535172999,
          0.987701669932987,
          0.8688105965981596,
          0.8376952107424877,
          0.6599281211893526,
          0.8597472379025456,
          0.6147579169337662
         ],
         "y": [
          12.676056338028168,
          5.825242718446602,
          1.8012422360248446,
          3.4123222748815163,
          3.682497589199614,
          10.671256454388985,
          6.604038137969715,
          3.6290322580645165,
          3.4951799323676376,
          11.307239703248912,
          null,
          1.7940932928512283,
          4.222648752399232,
          15.555555555555555,
          6.268364348677767,
          4.285714285714286,
          4.195331002593887,
          7.126233240576778,
          3.919645451903517,
          7.758214117277158,
          6.05345169515535,
          3.437380314055917,
          4.4732098967720795,
          3.607843137254902,
          6.877084377792794,
          7.2796934865900385,
          4.110468850353243,
          11.741689199936376,
          7.244602715334965,
          4.919618437729304,
          6.877084377792794
         ]
        },
        {
         "marker": {
          "color": "darkblue"
         },
         "mode": "markers",
         "name": "BLR: BENGALURU",
         "type": "scatter",
         "x": [
          null
         ],
         "y": [
          null
         ]
        },
        {
         "marker": {
          "color": "darkblue"
         },
         "mode": "markers",
         "name": "BLR(R): BENGALURU(R)",
         "type": "scatter",
         "x": [
          null
         ],
         "y": [
          null
         ]
        },
        {
         "marker": {
          "color": "darkblue"
         },
         "mode": "markers",
         "name": "RGA: RAMANAGARA",
         "type": "scatter",
         "x": [
          null
         ],
         "y": [
          null
         ]
        },
        {
         "marker": {
          "color": "darkblue"
         },
         "mode": "markers",
         "name": "CDA: CHITRADURGA",
         "type": "scatter",
         "x": [
          null
         ],
         "y": [
          null
         ]
        },
        {
         "marker": {
          "color": "darkblue"
         },
         "mode": "markers",
         "name": "DVG: DAVANAGERE",
         "type": "scatter",
         "x": [
          null
         ],
         "y": [
          null
         ]
        },
        {
         "marker": {
          "color": "darkblue"
         },
         "mode": "markers",
         "name": "KLR: KOLAR",
         "type": "scatter",
         "x": [
          null
         ],
         "y": [
          null
         ]
        },
        {
         "marker": {
          "color": "darkblue"
         },
         "mode": "markers",
         "name": "CKA: CHIKKABALLAPURA",
         "type": "scatter",
         "x": [
          null
         ],
         "y": [
          null
         ]
        },
        {
         "marker": {
          "color": "darkblue"
         },
         "mode": "markers",
         "name": "SMG: SHIVAMOGGA",
         "type": "scatter",
         "x": [
          null
         ],
         "y": [
          null
         ]
        },
        {
         "marker": {
          "color": "darkblue"
         },
         "mode": "markers",
         "name": "TKR: TUMAKURU",
         "type": "scatter",
         "x": [
          null
         ],
         "y": [
          null
         ]
        },
        {
         "marker": {
          "color": "darkblue"
         },
         "mode": "markers",
         "name": "CMG: CHIKKAMAGALURU",
         "type": "scatter",
         "x": [
          null
         ],
         "y": [
          null
         ]
        },
        {
         "marker": {
          "color": "darkblue"
         },
         "mode": "markers",
         "name": "DKA: DAKSHINA KANNADA",
         "type": "scatter",
         "x": [
          null
         ],
         "y": [
          null
         ]
        },
        {
         "marker": {
          "color": "darkblue"
         },
         "mode": "markers",
         "name": "UPI: UDUPI",
         "type": "scatter",
         "x": [
          null
         ],
         "y": [
          null
         ]
        },
        {
         "marker": {
          "color": "darkblue"
         },
         "mode": "markers",
         "name": "HSN: HASSAN",
         "type": "scatter",
         "x": [
          null
         ],
         "y": [
          null
         ]
        },
        {
         "marker": {
          "color": "darkblue"
         },
         "mode": "markers",
         "name": "KDG: KODAGU",
         "type": "scatter",
         "x": [
          null
         ],
         "y": [
          null
         ]
        },
        {
         "marker": {
          "color": "darkblue"
         },
         "mode": "markers",
         "name": "MDY: MANDYA",
         "type": "scatter",
         "x": [
          null
         ],
         "y": [
          null
         ]
        },
        {
         "marker": {
          "color": "darkblue"
         },
         "mode": "markers",
         "name": "MYS: MYSURU",
         "type": "scatter",
         "x": [
          null
         ],
         "y": [
          null
         ]
        },
        {
         "marker": {
          "color": "darkblue"
         },
         "mode": "markers",
         "name": "CNR: CHAMARAJANAGAR",
         "type": "scatter",
         "x": [
          null
         ],
         "y": [
          null
         ]
        },
        {
         "marker": {
          "color": "darkblue"
         },
         "mode": "markers",
         "name": "BLG: BELAGAVI",
         "type": "scatter",
         "x": [
          null
         ],
         "y": [
          null
         ]
        },
        {
         "marker": {
          "color": "darkblue"
         },
         "mode": "markers",
         "name": "VJP: VIJAYAPURA",
         "type": "scatter",
         "x": [
          null
         ],
         "y": [
          null
         ]
        },
        {
         "marker": {
          "color": "darkblue"
         },
         "mode": "markers",
         "name": "BKT: BAGALKOT",
         "type": "scatter",
         "x": [
          null
         ],
         "y": [
          null
         ]
        },
        {
         "marker": {
          "color": "darkblue"
         },
         "mode": "markers",
         "name": "DWD: DHARAWAD",
         "type": "scatter",
         "x": [
          null
         ],
         "y": [
          null
         ]
        },
        {
         "marker": {
          "color": "darkblue"
         },
         "mode": "markers",
         "name": "GDG: GADAG",
         "type": "scatter",
         "x": [
          null
         ],
         "y": [
          null
         ]
        },
        {
         "marker": {
          "color": "darkblue"
         },
         "mode": "markers",
         "name": "HVR: HAVERI",
         "type": "scatter",
         "x": [
          null
         ],
         "y": [
          null
         ]
        },
        {
         "marker": {
          "color": "darkblue"
         },
         "mode": "markers",
         "name": "UTK: UTTARA KANNADA",
         "type": "scatter",
         "x": [
          null
         ],
         "y": [
          null
         ]
        },
        {
         "marker": {
          "color": "darkblue"
         },
         "mode": "markers",
         "name": "BLL: BALLARI",
         "type": "scatter",
         "x": [
          null
         ],
         "y": [
          null
         ]
        },
        {
         "marker": {
          "color": "darkblue"
         },
         "mode": "markers",
         "name": "BDR: BIDAR",
         "type": "scatter",
         "x": [
          null
         ],
         "y": [
          null
         ]
        },
        {
         "marker": {
          "color": "darkblue"
         },
         "mode": "markers",
         "name": "KLB: KALABURAGI",
         "type": "scatter",
         "x": [
          null
         ],
         "y": [
          null
         ]
        },
        {
         "marker": {
          "color": "darkblue"
         },
         "mode": "markers",
         "name": "YDR: YADGIRI",
         "type": "scatter",
         "x": [
          null
         ],
         "y": [
          null
         ]
        },
        {
         "marker": {
          "color": "darkblue"
         },
         "mode": "markers",
         "name": "RCR: RAICHUR",
         "type": "scatter",
         "x": [
          null
         ],
         "y": [
          null
         ]
        },
        {
         "marker": {
          "color": "darkblue"
         },
         "mode": "markers",
         "name": "KPL: KOPPAL",
         "type": "scatter",
         "x": [
          null
         ],
         "y": [
          null
         ]
        },
        {
         "marker": {
          "color": "darkblue"
         },
         "mode": "markers",
         "name": "VNG: VIJAYANAGARA",
         "type": "scatter",
         "x": [
          null
         ],
         "y": [
          null
         ]
        },
        {
         "mode": "text",
         "showlegend": false,
         "text": [
          "Avg Stability: 0.74"
         ],
         "textfont": {
          "size": 10.7
         },
         "type": "scatter",
         "x": [
          0.7404266706562662
         ],
         "y": [
          1.7940932928512283
         ]
        },
        {
         "mode": "text",
         "showlegend": false,
         "text": [
          "Avg Impact (Maize): 8.55"
         ],
         "textfont": {
          "color": "green",
          "size": 10.7
         },
         "type": "scatter",
         "x": [
          0.3
         ],
         "y": [
          8.153402954163049
         ]
        },
        {
         "mode": "text",
         "showlegend": false,
         "text": [
          "Avg Impact (Groundnut): 6.16"
         ],
         "textfont": {
          "color": "darkviolet",
          "size": 10.7
         },
         "type": "scatter",
         "x": [
          0.3
         ],
         "y": [
          6.561734472631255
         ]
        }
       ],
       "layout": {
        "height": 600,
        "legend": {
         "title": {
          "text": "Districts"
         }
        },
        "shapes": [
         {
          "line": {
           "color": "darkgrey",
           "dash": "dash",
           "width": 1.5
          },
          "type": "line",
          "x0": 0.7404266706562662,
          "x1": 0.7404266706562662,
          "y0": 0,
          "y1": 1,
          "yref": "paper"
         },
         {
          "line": {
           "color": "green",
           "dash": "dash",
           "width": 1.5
          },
          "type": "line",
          "x0": 0,
          "x1": 1,
          "xref": "paper",
          "y0": 8.55340295416305,
          "y1": 8.55340295416305
         },
         {
          "line": {
           "color": "darkviolet",
           "dash": "dash",
           "width": 1.5
          },
          "type": "line",
          "x0": 0,
          "x1": 1,
          "xref": "paper",
          "y0": 6.161734472631255,
          "y1": 6.161734472631255
         }
        ],
        "template": {
         "data": {
          "bar": [
           {
            "error_x": {
             "color": "#2a3f5f"
            },
            "error_y": {
             "color": "#2a3f5f"
            },
            "marker": {
             "line": {
              "color": "#E5ECF6",
              "width": 0.5
             },
             "pattern": {
              "fillmode": "overlay",
              "size": 10,
              "solidity": 0.2
             }
            },
            "type": "bar"
           }
          ],
          "barpolar": [
           {
            "marker": {
             "line": {
              "color": "#E5ECF6",
              "width": 0.5
             },
             "pattern": {
              "fillmode": "overlay",
              "size": 10,
              "solidity": 0.2
             }
            },
            "type": "barpolar"
           }
          ],
          "carpet": [
           {
            "aaxis": {
             "endlinecolor": "#2a3f5f",
             "gridcolor": "white",
             "linecolor": "white",
             "minorgridcolor": "white",
             "startlinecolor": "#2a3f5f"
            },
            "baxis": {
             "endlinecolor": "#2a3f5f",
             "gridcolor": "white",
             "linecolor": "white",
             "minorgridcolor": "white",
             "startlinecolor": "#2a3f5f"
            },
            "type": "carpet"
           }
          ],
          "choropleth": [
           {
            "colorbar": {
             "outlinewidth": 0,
             "ticks": ""
            },
            "type": "choropleth"
           }
          ],
          "contour": [
           {
            "colorbar": {
             "outlinewidth": 0,
             "ticks": ""
            },
            "colorscale": [
             [
              0,
              "#0d0887"
             ],
             [
              0.1111111111111111,
              "#46039f"
             ],
             [
              0.2222222222222222,
              "#7201a8"
             ],
             [
              0.3333333333333333,
              "#9c179e"
             ],
             [
              0.4444444444444444,
              "#bd3786"
             ],
             [
              0.5555555555555556,
              "#d8576b"
             ],
             [
              0.6666666666666666,
              "#ed7953"
             ],
             [
              0.7777777777777778,
              "#fb9f3a"
             ],
             [
              0.8888888888888888,
              "#fdca26"
             ],
             [
              1,
              "#f0f921"
             ]
            ],
            "type": "contour"
           }
          ],
          "contourcarpet": [
           {
            "colorbar": {
             "outlinewidth": 0,
             "ticks": ""
            },
            "type": "contourcarpet"
           }
          ],
          "heatmap": [
           {
            "colorbar": {
             "outlinewidth": 0,
             "ticks": ""
            },
            "colorscale": [
             [
              0,
              "#0d0887"
             ],
             [
              0.1111111111111111,
              "#46039f"
             ],
             [
              0.2222222222222222,
              "#7201a8"
             ],
             [
              0.3333333333333333,
              "#9c179e"
             ],
             [
              0.4444444444444444,
              "#bd3786"
             ],
             [
              0.5555555555555556,
              "#d8576b"
             ],
             [
              0.6666666666666666,
              "#ed7953"
             ],
             [
              0.7777777777777778,
              "#fb9f3a"
             ],
             [
              0.8888888888888888,
              "#fdca26"
             ],
             [
              1,
              "#f0f921"
             ]
            ],
            "type": "heatmap"
           }
          ],
          "heatmapgl": [
           {
            "colorbar": {
             "outlinewidth": 0,
             "ticks": ""
            },
            "colorscale": [
             [
              0,
              "#0d0887"
             ],
             [
              0.1111111111111111,
              "#46039f"
             ],
             [
              0.2222222222222222,
              "#7201a8"
             ],
             [
              0.3333333333333333,
              "#9c179e"
             ],
             [
              0.4444444444444444,
              "#bd3786"
             ],
             [
              0.5555555555555556,
              "#d8576b"
             ],
             [
              0.6666666666666666,
              "#ed7953"
             ],
             [
              0.7777777777777778,
              "#fb9f3a"
             ],
             [
              0.8888888888888888,
              "#fdca26"
             ],
             [
              1,
              "#f0f921"
             ]
            ],
            "type": "heatmapgl"
           }
          ],
          "histogram": [
           {
            "marker": {
             "pattern": {
              "fillmode": "overlay",
              "size": 10,
              "solidity": 0.2
             }
            },
            "type": "histogram"
           }
          ],
          "histogram2d": [
           {
            "colorbar": {
             "outlinewidth": 0,
             "ticks": ""
            },
            "colorscale": [
             [
              0,
              "#0d0887"
             ],
             [
              0.1111111111111111,
              "#46039f"
             ],
             [
              0.2222222222222222,
              "#7201a8"
             ],
             [
              0.3333333333333333,
              "#9c179e"
             ],
             [
              0.4444444444444444,
              "#bd3786"
             ],
             [
              0.5555555555555556,
              "#d8576b"
             ],
             [
              0.6666666666666666,
              "#ed7953"
             ],
             [
              0.7777777777777778,
              "#fb9f3a"
             ],
             [
              0.8888888888888888,
              "#fdca26"
             ],
             [
              1,
              "#f0f921"
             ]
            ],
            "type": "histogram2d"
           }
          ],
          "histogram2dcontour": [
           {
            "colorbar": {
             "outlinewidth": 0,
             "ticks": ""
            },
            "colorscale": [
             [
              0,
              "#0d0887"
             ],
             [
              0.1111111111111111,
              "#46039f"
             ],
             [
              0.2222222222222222,
              "#7201a8"
             ],
             [
              0.3333333333333333,
              "#9c179e"
             ],
             [
              0.4444444444444444,
              "#bd3786"
             ],
             [
              0.5555555555555556,
              "#d8576b"
             ],
             [
              0.6666666666666666,
              "#ed7953"
             ],
             [
              0.7777777777777778,
              "#fb9f3a"
             ],
             [
              0.8888888888888888,
              "#fdca26"
             ],
             [
              1,
              "#f0f921"
             ]
            ],
            "type": "histogram2dcontour"
           }
          ],
          "mesh3d": [
           {
            "colorbar": {
             "outlinewidth": 0,
             "ticks": ""
            },
            "type": "mesh3d"
           }
          ],
          "parcoords": [
           {
            "line": {
             "colorbar": {
              "outlinewidth": 0,
              "ticks": ""
             }
            },
            "type": "parcoords"
           }
          ],
          "pie": [
           {
            "automargin": true,
            "type": "pie"
           }
          ],
          "scatter": [
           {
            "fillpattern": {
             "fillmode": "overlay",
             "size": 10,
             "solidity": 0.2
            },
            "type": "scatter"
           }
          ],
          "scatter3d": [
           {
            "line": {
             "colorbar": {
              "outlinewidth": 0,
              "ticks": ""
             }
            },
            "marker": {
             "colorbar": {
              "outlinewidth": 0,
              "ticks": ""
             }
            },
            "type": "scatter3d"
           }
          ],
          "scattercarpet": [
           {
            "marker": {
             "colorbar": {
              "outlinewidth": 0,
              "ticks": ""
             }
            },
            "type": "scattercarpet"
           }
          ],
          "scattergeo": [
           {
            "marker": {
             "colorbar": {
              "outlinewidth": 0,
              "ticks": ""
             }
            },
            "type": "scattergeo"
           }
          ],
          "scattergl": [
           {
            "marker": {
             "colorbar": {
              "outlinewidth": 0,
              "ticks": ""
             }
            },
            "type": "scattergl"
           }
          ],
          "scattermapbox": [
           {
            "marker": {
             "colorbar": {
              "outlinewidth": 0,
              "ticks": ""
             }
            },
            "type": "scattermapbox"
           }
          ],
          "scatterpolar": [
           {
            "marker": {
             "colorbar": {
              "outlinewidth": 0,
              "ticks": ""
             }
            },
            "type": "scatterpolar"
           }
          ],
          "scatterpolargl": [
           {
            "marker": {
             "colorbar": {
              "outlinewidth": 0,
              "ticks": ""
             }
            },
            "type": "scatterpolargl"
           }
          ],
          "scatterternary": [
           {
            "marker": {
             "colorbar": {
              "outlinewidth": 0,
              "ticks": ""
             }
            },
            "type": "scatterternary"
           }
          ],
          "surface": [
           {
            "colorbar": {
             "outlinewidth": 0,
             "ticks": ""
            },
            "colorscale": [
             [
              0,
              "#0d0887"
             ],
             [
              0.1111111111111111,
              "#46039f"
             ],
             [
              0.2222222222222222,
              "#7201a8"
             ],
             [
              0.3333333333333333,
              "#9c179e"
             ],
             [
              0.4444444444444444,
              "#bd3786"
             ],
             [
              0.5555555555555556,
              "#d8576b"
             ],
             [
              0.6666666666666666,
              "#ed7953"
             ],
             [
              0.7777777777777778,
              "#fb9f3a"
             ],
             [
              0.8888888888888888,
              "#fdca26"
             ],
             [
              1,
              "#f0f921"
             ]
            ],
            "type": "surface"
           }
          ],
          "table": [
           {
            "cells": {
             "fill": {
              "color": "#EBF0F8"
             },
             "line": {
              "color": "white"
             }
            },
            "header": {
             "fill": {
              "color": "#C8D4E3"
             },
             "line": {
              "color": "white"
             }
            },
            "type": "table"
           }
          ]
         },
         "layout": {
          "annotationdefaults": {
           "arrowcolor": "#2a3f5f",
           "arrowhead": 0,
           "arrowwidth": 1
          },
          "autotypenumbers": "strict",
          "coloraxis": {
           "colorbar": {
            "outlinewidth": 0,
            "ticks": ""
           }
          },
          "colorscale": {
           "diverging": [
            [
             0,
             "#8e0152"
            ],
            [
             0.1,
             "#c51b7d"
            ],
            [
             0.2,
             "#de77ae"
            ],
            [
             0.3,
             "#f1b6da"
            ],
            [
             0.4,
             "#fde0ef"
            ],
            [
             0.5,
             "#f7f7f7"
            ],
            [
             0.6,
             "#e6f5d0"
            ],
            [
             0.7,
             "#b8e186"
            ],
            [
             0.8,
             "#7fbc41"
            ],
            [
             0.9,
             "#4d9221"
            ],
            [
             1,
             "#276419"
            ]
           ],
           "sequential": [
            [
             0,
             "#0d0887"
            ],
            [
             0.1111111111111111,
             "#46039f"
            ],
            [
             0.2222222222222222,
             "#7201a8"
            ],
            [
             0.3333333333333333,
             "#9c179e"
            ],
            [
             0.4444444444444444,
             "#bd3786"
            ],
            [
             0.5555555555555556,
             "#d8576b"
            ],
            [
             0.6666666666666666,
             "#ed7953"
            ],
            [
             0.7777777777777778,
             "#fb9f3a"
            ],
            [
             0.8888888888888888,
             "#fdca26"
            ],
            [
             1,
             "#f0f921"
            ]
           ],
           "sequentialminus": [
            [
             0,
             "#0d0887"
            ],
            [
             0.1111111111111111,
             "#46039f"
            ],
            [
             0.2222222222222222,
             "#7201a8"
            ],
            [
             0.3333333333333333,
             "#9c179e"
            ],
            [
             0.4444444444444444,
             "#bd3786"
            ],
            [
             0.5555555555555556,
             "#d8576b"
            ],
            [
             0.6666666666666666,
             "#ed7953"
            ],
            [
             0.7777777777777778,
             "#fb9f3a"
            ],
            [
             0.8888888888888888,
             "#fdca26"
            ],
            [
             1,
             "#f0f921"
            ]
           ]
          },
          "colorway": [
           "#636efa",
           "#EF553B",
           "#00cc96",
           "#ab63fa",
           "#FFA15A",
           "#19d3f3",
           "#FF6692",
           "#B6E880",
           "#FF97FF",
           "#FECB52"
          ],
          "font": {
           "color": "#2a3f5f"
          },
          "geo": {
           "bgcolor": "white",
           "lakecolor": "white",
           "landcolor": "#E5ECF6",
           "showlakes": true,
           "showland": true,
           "subunitcolor": "white"
          },
          "hoverlabel": {
           "align": "left"
          },
          "hovermode": "closest",
          "mapbox": {
           "style": "light"
          },
          "paper_bgcolor": "white",
          "plot_bgcolor": "#E5ECF6",
          "polar": {
           "angularaxis": {
            "gridcolor": "white",
            "linecolor": "white",
            "ticks": ""
           },
           "bgcolor": "#E5ECF6",
           "radialaxis": {
            "gridcolor": "white",
            "linecolor": "white",
            "ticks": ""
           }
          },
          "scene": {
           "xaxis": {
            "backgroundcolor": "#E5ECF6",
            "gridcolor": "white",
            "gridwidth": 2,
            "linecolor": "white",
            "showbackground": true,
            "ticks": "",
            "zerolinecolor": "white"
           },
           "yaxis": {
            "backgroundcolor": "#E5ECF6",
            "gridcolor": "white",
            "gridwidth": 2,
            "linecolor": "white",
            "showbackground": true,
            "ticks": "",
            "zerolinecolor": "white"
           },
           "zaxis": {
            "backgroundcolor": "#E5ECF6",
            "gridcolor": "white",
            "gridwidth": 2,
            "linecolor": "white",
            "showbackground": true,
            "ticks": "",
            "zerolinecolor": "white"
           }
          },
          "shapedefaults": {
           "line": {
            "color": "#2a3f5f"
           }
          },
          "ternary": {
           "aaxis": {
            "gridcolor": "white",
            "linecolor": "white",
            "ticks": ""
           },
           "baxis": {
            "gridcolor": "white",
            "linecolor": "white",
            "ticks": ""
           },
           "bgcolor": "#E5ECF6",
           "caxis": {
            "gridcolor": "white",
            "linecolor": "white",
            "ticks": ""
           }
          },
          "title": {
           "x": 0.05
          },
          "xaxis": {
           "automargin": true,
           "gridcolor": "white",
           "linecolor": "white",
           "ticks": "",
           "title": {
            "standoff": 15
           },
           "zerolinecolor": "white",
           "zerolinewidth": 2
          },
          "yaxis": {
           "automargin": true,
           "gridcolor": "white",
           "linecolor": "white",
           "ticks": "",
           "title": {
            "standoff": 15
           },
           "zerolinecolor": "white",
           "zerolinewidth": 2
          }
         }
        },
        "title": {
         "text": "Impact vs Stability for Maize and Groundnut (NPK +20%)"
        },
        "width": 1080,
        "xaxis": {
         "title": {
          "text": "Stability"
         }
        },
        "yaxis": {
         "title": {
          "text": "Impact (Percentage Change)"
         }
        }
       }
      }
     },
     "metadata": {},
     "output_type": "display_data"
    }
   ],
   "source": [
    "import pandas as pd\n",
    "import plotly.graph_objects as go\n",
    "\n",
    "def Calculate_and_visualize_2D(Groundnut_Directory, Maize_Directory, adj_matrix_np, crop1, crop2, perturbation, what, visualize=True):\n",
    "    # Normalize capabilities for both crops\n",
    "    calculate_and_visualize(perturbation, crop1, Groundnut_Directory, what, False)\n",
    "    calculate_and_visualize(perturbation, crop2, Maize_Directory, what, False)\n",
    "    \n",
    "    capability_1 = Groundnut_Directory[f'{crop1[0].upper()} - {what} {perturbation}']\n",
    "    capability_2 = Maize_Directory[f'{crop2[0].upper()} - {what} {perturbation}']\n",
    "    \n",
    "    # Combine capabilities into a single DataFrame\n",
    "    combined_df = pd.DataFrame({\n",
    "        'node': Working_Directory['District'],\n",
    "        'Capability_1': capability_1,\n",
    "        'Capability_2': capability_2\n",
    "    })\n",
    "    \n",
    "    # Calculate stress and stability for the combined capabilities\n",
    "    result_df = calculate_stress_stability(adj_matrix_np, combined_df)\n",
    "    \n",
    "    # Calculate impact for each crop\n",
    "    impact1, impact_column1 = calculate_impact(crop1, perturbation, what)\n",
    "    impact2, impact_column2 = calculate_impact(crop2, perturbation, what)\n",
    "    \n",
    "    # Naming conventions for stability and stress columns\n",
    "    stability_column_name = f'Stability_{crop1[0].upper()}_{crop2[0].upper()}_{what}_{perturbation}'\n",
    "    stress_column_name = f'Stress_{crop1[0].upper()}_{crop2[0].upper()}_{what}_{perturbation}'\n",
    "    \n",
    "    # Add impacts, stability, and stress to the Working_Directory DataFrame\n",
    "    Working_Directory[impact_column1] = impact1\n",
    "    Working_Directory[impact_column2] = impact2\n",
    "    Working_Directory[stability_column_name] = result_df['stability']\n",
    "    Working_Directory[stress_column_name] = result_df['stress']\n",
    "    \n",
    "    if visualize:\n",
    "        # Prepare data for plotting\n",
    "        plot_df = pd.DataFrame({\n",
    "            'District': Working_Directory['District'],\n",
    "            'Stability': result_df['stability'],\n",
    "            f'{crop1} Impact': impact1,\n",
    "            f'{crop2} Impact': impact2,\n",
    "            'Abbreviation': Working_Directory['Abbreviation']\n",
    "        })\n",
    "        \n",
    "        # Create the scatter plot\n",
    "        fig = go.Figure()\n",
    "\n",
    "        # Plot for Crop 1\n",
    "        fig.add_trace(go.Scatter(\n",
    "            x=plot_df['Stability'],\n",
    "            y=plot_df[f'{crop1} Impact'],\n",
    "            mode='markers+text',\n",
    "            text=plot_df['Abbreviation'],\n",
    "            name=f'{crop1}',  \n",
    "            marker=dict(color='green'),\n",
    "            textposition='top right',\n",
    "            textfont=dict(size=10, color='black'),\n",
    "            hovertemplate='<b>%{text}</b><br>Stability: %{x:.2f}<br>Impact: %{y:.2f}%<extra></extra>'\n",
    "        ))\n",
    "\n",
    "        # Plot for Crop 2\n",
    "        fig.add_trace(go.Scatter(\n",
    "            x=plot_df['Stability'],\n",
    "            y=plot_df[f'{crop2} Impact'],\n",
    "            mode='markers',\n",
    "            text=plot_df['Abbreviation'],\n",
    "            name=f'{crop2}',  \n",
    "            marker=dict(color='darkviolet'),\n",
    "            hovertemplate='<b>%{text}</b><br>Stability: %{x:.2f}<br>Impact: %{y:.2f}%<extra></extra>'\n",
    "        ))\n",
    "        \n",
    "        # Adding custom legends with abbreviations and full forms\n",
    "        legend_labels = [{'Abbreviation': abb, 'Full Form': full_form} \n",
    "                         for abb, full_form in zip(plot_df['Abbreviation'].unique(), plot_df['District'].unique())]\n",
    "\n",
    "        for label in legend_labels:\n",
    "            fig.add_trace(go.Scatter(\n",
    "                x=[None],\n",
    "                y=[None],\n",
    "                mode='markers',\n",
    "                marker=dict(color='darkblue'),\n",
    "                name=f\"{label['Abbreviation']}: {label['Full Form']}\"\n",
    "            ))\n",
    "\n",
    "        # Add average lines for stability and impact\n",
    "        avg_stability = plot_df['Stability'].mean()\n",
    "        avg_impact1 = plot_df[f'{crop1} Impact'].mean()\n",
    "        avg_impact2 = plot_df[f'{crop2} Impact'].mean()\n",
    "        min_impact = min(plot_df[f'{crop1} Impact'].min(), plot_df[f'{crop2} Impact'].min())\n",
    "\n",
    "        # Average lines for stability\n",
    "        fig.add_shape(\n",
    "            type='line',\n",
    "            x0=avg_stability, y0=0, x1=avg_stability, y1=1,\n",
    "            line=dict(color='darkgrey', width=1.5, dash='dash'),\n",
    "            yref='paper'\n",
    "        )\n",
    "\n",
    "        # Average line for Crop 1 impact\n",
    "        fig.add_shape(\n",
    "            type='line',\n",
    "            x0=0, y0=avg_impact1, x1=1, y1=avg_impact1,\n",
    "            line=dict(color='green', width=1.5, dash='dash'),\n",
    "            xref='paper'\n",
    "        )\n",
    "\n",
    "        # Average line for Crop 2 impact\n",
    "        fig.add_shape(\n",
    "            type='line',\n",
    "            x0=0, y0=avg_impact2, x1=1, y1=avg_impact2,\n",
    "            line=dict(color='darkviolet', width=1.5, dash='dash'),\n",
    "            xref='paper'\n",
    "        )\n",
    "\n",
    "        # Add annotations for average values\n",
    "        fig.add_trace(go.Scatter(\n",
    "            x=[avg_stability],\n",
    "            y=[min_impact],\n",
    "            text=[f'Avg Stability: {avg_stability:.2f}'],\n",
    "            mode=\"text\",\n",
    "            showlegend=False,\n",
    "            textfont=dict(size=10.7)\n",
    "        ))\n",
    "\n",
    "        fig.add_trace(go.Scatter(\n",
    "            x=[0.3],\n",
    "            y=[avg_impact1-0.4],\n",
    "            text=[f'Avg Impact ({crop1}): {avg_impact1:.2f}'],\n",
    "            mode=\"text\",\n",
    "            showlegend=False,\n",
    "            textfont=dict(size=10.7, color='green')\n",
    "        ))\n",
    "\n",
    "        fig.add_trace(go.Scatter(\n",
    "            x=[0.3],\n",
    "            y=[avg_impact2+0.4],\n",
    "            text=[f'Avg Impact ({crop2}): {avg_impact2:.2f}'],\n",
    "            mode=\"text\",\n",
    "            showlegend=False,\n",
    "            textfont=dict(size=10.7, color='darkviolet')\n",
    "        ))\n",
    "\n",
    "        # Update layout\n",
    "        fig.update_layout(\n",
    "            title=f'Impact vs Stability for {crop1} and {crop2} ({what} +{perturbation}%)',\n",
    "            xaxis_title='Stability',\n",
    "            yaxis_title='Impact (Percentage Change)',\n",
    "            width=1080,\n",
    "            height=600,\n",
    "            legend_title='Districts'\n",
    "        )\n",
    "\n",
    "        # Show the plot\n",
    "        fig.show()\n",
    "\n",
    "# Example usage\n",
    "crop1 = 'Maize'\n",
    "crop2 = 'Groundnut'\n",
    "perturbation = 20\n",
    "what = 'NPK'\n",
    "Calculate_and_visualize_2D(Maize_Directory,Groundnut_Directory, adj_matrix_np, crop1, crop2, perturbation, what)\n"
   ]
  },
  {
   "cell_type": "code",
   "execution_count": null,
   "metadata": {},
   "outputs": [
    {
     "data": {
      "text/html": [
       "<div>\n",
       "<style scoped>\n",
       "    .dataframe tbody tr th:only-of-type {\n",
       "        vertical-align: middle;\n",
       "    }\n",
       "\n",
       "    .dataframe tbody tr th {\n",
       "        vertical-align: top;\n",
       "    }\n",
       "\n",
       "    .dataframe thead th {\n",
       "        text-align: right;\n",
       "    }\n",
       "</style>\n",
       "<table border=\"1\" class=\"dataframe\">\n",
       "  <thead>\n",
       "    <tr style=\"text-align: right;\">\n",
       "      <th></th>\n",
       "      <th>node</th>\n",
       "      <th>Capability_1</th>\n",
       "      <th>Capability_2</th>\n",
       "      <th>stress</th>\n",
       "      <th>stability</th>\n",
       "      <th>Change_M_NPK_20</th>\n",
       "      <th>Change_G_NPK_20</th>\n",
       "      <th>Mean_Impact</th>\n",
       "      <th>Dissonance</th>\n",
       "      <th>Stability_M_G_NPK_20</th>\n",
       "      <th>SI_Score</th>\n",
       "    </tr>\n",
       "  </thead>\n",
       "  <tbody>\n",
       "    <tr>\n",
       "      <th>0</th>\n",
       "      <td>BENGALURU</td>\n",
       "      <td>3391</td>\n",
       "      <td>80</td>\n",
       "      <td>0.038779</td>\n",
       "      <td>0.961221</td>\n",
       "      <td>0.177840</td>\n",
       "      <td>0.126761</td>\n",
       "      <td>0.152300</td>\n",
       "      <td>0.051079</td>\n",
       "      <td>0.961221</td>\n",
       "      <td>0.149274</td>\n",
       "    </tr>\n",
       "    <tr>\n",
       "      <th>1</th>\n",
       "      <td>BENGALURU(R)</td>\n",
       "      <td>46132</td>\n",
       "      <td>218</td>\n",
       "      <td>0.013269</td>\n",
       "      <td>0.986731</td>\n",
       "      <td>0.083343</td>\n",
       "      <td>0.058252</td>\n",
       "      <td>0.070798</td>\n",
       "      <td>0.025091</td>\n",
       "      <td>0.986731</td>\n",
       "      <td>0.077447</td>\n",
       "    </tr>\n",
       "    <tr>\n",
       "      <th>2</th>\n",
       "      <td>RAMANAGARA</td>\n",
       "      <td>10709</td>\n",
       "      <td>4917</td>\n",
       "      <td>0.089583</td>\n",
       "      <td>0.910417</td>\n",
       "      <td>0.024785</td>\n",
       "      <td>0.018012</td>\n",
       "      <td>0.021399</td>\n",
       "      <td>0.006772</td>\n",
       "      <td>0.910417</td>\n",
       "      <td>0.022158</td>\n",
       "    </tr>\n",
       "    <tr>\n",
       "      <th>3</th>\n",
       "      <td>CHITRADURGA</td>\n",
       "      <td>284719</td>\n",
       "      <td>70915</td>\n",
       "      <td>0.196065</td>\n",
       "      <td>0.803935</td>\n",
       "      <td>0.046857</td>\n",
       "      <td>0.034123</td>\n",
       "      <td>0.040490</td>\n",
       "      <td>0.012734</td>\n",
       "      <td>0.803935</td>\n",
       "      <td>0.036385</td>\n",
       "    </tr>\n",
       "    <tr>\n",
       "      <th>4</th>\n",
       "      <td>DAVANAGERE</td>\n",
       "      <td>623589</td>\n",
       "      <td>17203</td>\n",
       "      <td>0.865799</td>\n",
       "      <td>0.134201</td>\n",
       "      <td>0.050620</td>\n",
       "      <td>0.036825</td>\n",
       "      <td>0.043722</td>\n",
       "      <td>0.013795</td>\n",
       "      <td>0.134201</td>\n",
       "      <td>0.006543</td>\n",
       "    </tr>\n",
       "    <tr>\n",
       "      <th>5</th>\n",
       "      <td>KOLAR</td>\n",
       "      <td>2017</td>\n",
       "      <td>6430</td>\n",
       "      <td>0.152658</td>\n",
       "      <td>0.847342</td>\n",
       "      <td>0.146674</td>\n",
       "      <td>0.106713</td>\n",
       "      <td>0.126693</td>\n",
       "      <td>0.039962</td>\n",
       "      <td>0.847342</td>\n",
       "      <td>0.111021</td>\n",
       "    </tr>\n",
       "    <tr>\n",
       "      <th>6</th>\n",
       "      <td>CHIKKABALLAPURA</td>\n",
       "      <td>115072</td>\n",
       "      <td>7603</td>\n",
       "      <td>0.147312</td>\n",
       "      <td>0.852688</td>\n",
       "      <td>0.090823</td>\n",
       "      <td>0.066040</td>\n",
       "      <td>0.078432</td>\n",
       "      <td>0.024783</td>\n",
       "      <td>0.852688</td>\n",
       "      <td>0.072329</td>\n",
       "    </tr>\n",
       "    <tr>\n",
       "      <th>7</th>\n",
       "      <td>SHIVAMOGGA</td>\n",
       "      <td>238722</td>\n",
       "      <td>257</td>\n",
       "      <td>0.010149</td>\n",
       "      <td>0.989851</td>\n",
       "      <td>0.053811</td>\n",
       "      <td>0.036290</td>\n",
       "      <td>0.045051</td>\n",
       "      <td>0.017521</td>\n",
       "      <td>0.989851</td>\n",
       "      <td>0.051332</td>\n",
       "    </tr>\n",
       "    <tr>\n",
       "      <th>8</th>\n",
       "      <td>TUMAKURU</td>\n",
       "      <td>70078</td>\n",
       "      <td>41011</td>\n",
       "      <td>0.124183</td>\n",
       "      <td>0.875817</td>\n",
       "      <td>0.048005</td>\n",
       "      <td>0.034952</td>\n",
       "      <td>0.041478</td>\n",
       "      <td>0.013053</td>\n",
       "      <td>0.875817</td>\n",
       "      <td>0.040574</td>\n",
       "    </tr>\n",
       "    <tr>\n",
       "      <th>9</th>\n",
       "      <td>CHIKKAMAGALURU</td>\n",
       "      <td>70887</td>\n",
       "      <td>4351</td>\n",
       "      <td>0.313730</td>\n",
       "      <td>0.686270</td>\n",
       "      <td>0.155396</td>\n",
       "      <td>0.113072</td>\n",
       "      <td>0.134234</td>\n",
       "      <td>0.042323</td>\n",
       "      <td>0.686270</td>\n",
       "      <td>0.094585</td>\n",
       "    </tr>\n",
       "    <tr>\n",
       "      <th>10</th>\n",
       "      <td>DAKSHINA KANNADA</td>\n",
       "      <td>0</td>\n",
       "      <td>0</td>\n",
       "      <td>0.223186</td>\n",
       "      <td>0.776814</td>\n",
       "      <td>NaN</td>\n",
       "      <td>NaN</td>\n",
       "      <td>NaN</td>\n",
       "      <td>NaN</td>\n",
       "      <td>0.776814</td>\n",
       "      <td>NaN</td>\n",
       "    </tr>\n",
       "    <tr>\n",
       "      <th>11</th>\n",
       "      <td>UDUPI</td>\n",
       "      <td>111</td>\n",
       "      <td>3688</td>\n",
       "      <td>0.163310</td>\n",
       "      <td>0.836690</td>\n",
       "      <td>0.018349</td>\n",
       "      <td>0.017941</td>\n",
       "      <td>0.018145</td>\n",
       "      <td>0.000408</td>\n",
       "      <td>0.836690</td>\n",
       "      <td>0.015077</td>\n",
       "    </tr>\n",
       "    <tr>\n",
       "      <th>12</th>\n",
       "      <td>HASSAN</td>\n",
       "      <td>353854</td>\n",
       "      <td>543</td>\n",
       "      <td>0.622107</td>\n",
       "      <td>0.377893</td>\n",
       "      <td>0.059643</td>\n",
       "      <td>0.042226</td>\n",
       "      <td>0.050935</td>\n",
       "      <td>0.017416</td>\n",
       "      <td>0.377893</td>\n",
       "      <td>0.021587</td>\n",
       "    </tr>\n",
       "    <tr>\n",
       "      <th>13</th>\n",
       "      <td>KODAGU</td>\n",
       "      <td>22034</td>\n",
       "      <td>52</td>\n",
       "      <td>0.292617</td>\n",
       "      <td>0.707383</td>\n",
       "      <td>0.229507</td>\n",
       "      <td>0.155556</td>\n",
       "      <td>0.192531</td>\n",
       "      <td>0.073952</td>\n",
       "      <td>0.707383</td>\n",
       "      <td>0.137095</td>\n",
       "    </tr>\n",
       "    <tr>\n",
       "      <th>14</th>\n",
       "      <td>MANDYA</td>\n",
       "      <td>21080</td>\n",
       "      <td>1085</td>\n",
       "      <td>0.254873</td>\n",
       "      <td>0.745127</td>\n",
       "      <td>0.087327</td>\n",
       "      <td>0.062684</td>\n",
       "      <td>0.075005</td>\n",
       "      <td>0.024643</td>\n",
       "      <td>0.745127</td>\n",
       "      <td>0.060991</td>\n",
       "    </tr>\n",
       "    <tr>\n",
       "      <th>15</th>\n",
       "      <td>MYSURU</td>\n",
       "      <td>145272</td>\n",
       "      <td>2263</td>\n",
       "      <td>0.000000</td>\n",
       "      <td>1.000000</td>\n",
       "      <td>0.059189</td>\n",
       "      <td>0.042857</td>\n",
       "      <td>0.051023</td>\n",
       "      <td>0.016332</td>\n",
       "      <td>1.000000</td>\n",
       "      <td>0.056652</td>\n",
       "    </tr>\n",
       "    <tr>\n",
       "      <th>16</th>\n",
       "      <td>CHAMARAJANAGAR</td>\n",
       "      <td>156407</td>\n",
       "      <td>9239</td>\n",
       "      <td>0.193072</td>\n",
       "      <td>0.806928</td>\n",
       "      <td>0.057619</td>\n",
       "      <td>0.041953</td>\n",
       "      <td>0.049786</td>\n",
       "      <td>0.015665</td>\n",
       "      <td>0.806928</td>\n",
       "      <td>0.044544</td>\n",
       "    </tr>\n",
       "    <tr>\n",
       "      <th>17</th>\n",
       "      <td>BELAGAVI</td>\n",
       "      <td>633204</td>\n",
       "      <td>42347</td>\n",
       "      <td>1.000000</td>\n",
       "      <td>0.000000</td>\n",
       "      <td>0.097868</td>\n",
       "      <td>0.071262</td>\n",
       "      <td>0.084565</td>\n",
       "      <td>0.026605</td>\n",
       "      <td>0.000000</td>\n",
       "      <td>0.000000</td>\n",
       "    </tr>\n",
       "    <tr>\n",
       "      <th>18</th>\n",
       "      <td>VIJAYAPURA</td>\n",
       "      <td>238507</td>\n",
       "      <td>28607</td>\n",
       "      <td>0.096609</td>\n",
       "      <td>0.903391</td>\n",
       "      <td>0.053816</td>\n",
       "      <td>0.039196</td>\n",
       "      <td>0.046506</td>\n",
       "      <td>0.014619</td>\n",
       "      <td>0.903391</td>\n",
       "      <td>0.046711</td>\n",
       "    </tr>\n",
       "    <tr>\n",
       "      <th>19</th>\n",
       "      <td>BAGALKOT</td>\n",
       "      <td>278515</td>\n",
       "      <td>27418</td>\n",
       "      <td>0.059326</td>\n",
       "      <td>0.940674</td>\n",
       "      <td>0.106540</td>\n",
       "      <td>0.077582</td>\n",
       "      <td>0.092061</td>\n",
       "      <td>0.028958</td>\n",
       "      <td>0.940674</td>\n",
       "      <td>0.092444</td>\n",
       "    </tr>\n",
       "    <tr>\n",
       "      <th>20</th>\n",
       "      <td>DHARAWAD</td>\n",
       "      <td>98171</td>\n",
       "      <td>22460</td>\n",
       "      <td>0.437630</td>\n",
       "      <td>0.562370</td>\n",
       "      <td>0.083159</td>\n",
       "      <td>0.060535</td>\n",
       "      <td>0.071847</td>\n",
       "      <td>0.022624</td>\n",
       "      <td>0.562370</td>\n",
       "      <td>0.043935</td>\n",
       "    </tr>\n",
       "    <tr>\n",
       "      <th>21</th>\n",
       "      <td>GADAG</td>\n",
       "      <td>145011</td>\n",
       "      <td>32409</td>\n",
       "      <td>0.248455</td>\n",
       "      <td>0.751545</td>\n",
       "      <td>0.047192</td>\n",
       "      <td>0.034374</td>\n",
       "      <td>0.040783</td>\n",
       "      <td>0.012818</td>\n",
       "      <td>0.751545</td>\n",
       "      <td>0.034248</td>\n",
       "    </tr>\n",
       "    <tr>\n",
       "      <th>22</th>\n",
       "      <td>HAVERI</td>\n",
       "      <td>438889</td>\n",
       "      <td>19128</td>\n",
       "      <td>0.506594</td>\n",
       "      <td>0.493406</td>\n",
       "      <td>0.061434</td>\n",
       "      <td>0.044732</td>\n",
       "      <td>0.053083</td>\n",
       "      <td>0.016702</td>\n",
       "      <td>0.493406</td>\n",
       "      <td>0.028956</td>\n",
       "    </tr>\n",
       "    <tr>\n",
       "      <th>23</th>\n",
       "      <td>UTTARA KANNADA</td>\n",
       "      <td>25286</td>\n",
       "      <td>3963</td>\n",
       "      <td>0.532312</td>\n",
       "      <td>0.467688</td>\n",
       "      <td>0.049734</td>\n",
       "      <td>0.036078</td>\n",
       "      <td>0.042906</td>\n",
       "      <td>0.013656</td>\n",
       "      <td>0.467688</td>\n",
       "      <td>0.022421</td>\n",
       "    </tr>\n",
       "    <tr>\n",
       "      <th>24</th>\n",
       "      <td>BALLARI</td>\n",
       "      <td>113868</td>\n",
       "      <td>24516</td>\n",
       "      <td>0.293796</td>\n",
       "      <td>0.706204</td>\n",
       "      <td>0.094411</td>\n",
       "      <td>0.068771</td>\n",
       "      <td>0.081591</td>\n",
       "      <td>0.025640</td>\n",
       "      <td>0.706204</td>\n",
       "      <td>0.062088</td>\n",
       "    </tr>\n",
       "    <tr>\n",
       "      <th>25</th>\n",
       "      <td>BIDAR</td>\n",
       "      <td>3082</td>\n",
       "      <td>280</td>\n",
       "      <td>0.012298</td>\n",
       "      <td>0.987702</td>\n",
       "      <td>0.104264</td>\n",
       "      <td>0.072797</td>\n",
       "      <td>0.088530</td>\n",
       "      <td>0.031467</td>\n",
       "      <td>0.987702</td>\n",
       "      <td>0.095485</td>\n",
       "    </tr>\n",
       "    <tr>\n",
       "      <th>26</th>\n",
       "      <td>KALABURAGI</td>\n",
       "      <td>15451</td>\n",
       "      <td>3242</td>\n",
       "      <td>0.131189</td>\n",
       "      <td>0.868811</td>\n",
       "      <td>0.056768</td>\n",
       "      <td>0.041105</td>\n",
       "      <td>0.048936</td>\n",
       "      <td>0.015663</td>\n",
       "      <td>0.868811</td>\n",
       "      <td>0.047293</td>\n",
       "    </tr>\n",
       "    <tr>\n",
       "      <th>27</th>\n",
       "      <td>YADGIRI</td>\n",
       "      <td>3103</td>\n",
       "      <td>35126</td>\n",
       "      <td>0.162305</td>\n",
       "      <td>0.837695</td>\n",
       "      <td>0.160868</td>\n",
       "      <td>0.117417</td>\n",
       "      <td>0.139142</td>\n",
       "      <td>0.043451</td>\n",
       "      <td>0.837695</td>\n",
       "      <td>0.118935</td>\n",
       "    </tr>\n",
       "    <tr>\n",
       "      <th>28</th>\n",
       "      <td>RAICHUR</td>\n",
       "      <td>794</td>\n",
       "      <td>28911</td>\n",
       "      <td>0.340072</td>\n",
       "      <td>0.659928</td>\n",
       "      <td>0.098202</td>\n",
       "      <td>0.072446</td>\n",
       "      <td>0.085324</td>\n",
       "      <td>0.025756</td>\n",
       "      <td>0.659928</td>\n",
       "      <td>0.060111</td>\n",
       "    </tr>\n",
       "    <tr>\n",
       "      <th>29</th>\n",
       "      <td>KOPPAL</td>\n",
       "      <td>203107</td>\n",
       "      <td>31457</td>\n",
       "      <td>0.140253</td>\n",
       "      <td>0.859747</td>\n",
       "      <td>0.067568</td>\n",
       "      <td>0.049196</td>\n",
       "      <td>0.058382</td>\n",
       "      <td>0.018372</td>\n",
       "      <td>0.859747</td>\n",
       "      <td>0.055234</td>\n",
       "    </tr>\n",
       "    <tr>\n",
       "      <th>30</th>\n",
       "      <td>VIJAYANAGARA</td>\n",
       "      <td>113868</td>\n",
       "      <td>24516</td>\n",
       "      <td>0.385242</td>\n",
       "      <td>0.614758</td>\n",
       "      <td>0.094411</td>\n",
       "      <td>0.068771</td>\n",
       "      <td>0.081591</td>\n",
       "      <td>0.025640</td>\n",
       "      <td>0.614758</td>\n",
       "      <td>0.054048</td>\n",
       "    </tr>\n",
       "  </tbody>\n",
       "</table>\n",
       "</div>"
      ],
      "text/plain": [
       "                node  Capability_1  Capability_2    stress  stability  \\\n",
       "0          BENGALURU          3391            80  0.038779   0.961221   \n",
       "1       BENGALURU(R)         46132           218  0.013269   0.986731   \n",
       "2         RAMANAGARA         10709          4917  0.089583   0.910417   \n",
       "3        CHITRADURGA        284719         70915  0.196065   0.803935   \n",
       "4         DAVANAGERE        623589         17203  0.865799   0.134201   \n",
       "5              KOLAR          2017          6430  0.152658   0.847342   \n",
       "6    CHIKKABALLAPURA        115072          7603  0.147312   0.852688   \n",
       "7         SHIVAMOGGA        238722           257  0.010149   0.989851   \n",
       "8           TUMAKURU         70078         41011  0.124183   0.875817   \n",
       "9     CHIKKAMAGALURU         70887          4351  0.313730   0.686270   \n",
       "10  DAKSHINA KANNADA             0             0  0.223186   0.776814   \n",
       "11             UDUPI           111          3688  0.163310   0.836690   \n",
       "12            HASSAN        353854           543  0.622107   0.377893   \n",
       "13            KODAGU         22034            52  0.292617   0.707383   \n",
       "14            MANDYA         21080          1085  0.254873   0.745127   \n",
       "15            MYSURU        145272          2263  0.000000   1.000000   \n",
       "16    CHAMARAJANAGAR        156407          9239  0.193072   0.806928   \n",
       "17          BELAGAVI        633204         42347  1.000000   0.000000   \n",
       "18        VIJAYAPURA        238507         28607  0.096609   0.903391   \n",
       "19          BAGALKOT        278515         27418  0.059326   0.940674   \n",
       "20          DHARAWAD         98171         22460  0.437630   0.562370   \n",
       "21             GADAG        145011         32409  0.248455   0.751545   \n",
       "22            HAVERI        438889         19128  0.506594   0.493406   \n",
       "23    UTTARA KANNADA         25286          3963  0.532312   0.467688   \n",
       "24           BALLARI        113868         24516  0.293796   0.706204   \n",
       "25             BIDAR          3082           280  0.012298   0.987702   \n",
       "26        KALABURAGI         15451          3242  0.131189   0.868811   \n",
       "27           YADGIRI          3103         35126  0.162305   0.837695   \n",
       "28           RAICHUR           794         28911  0.340072   0.659928   \n",
       "29            KOPPAL        203107         31457  0.140253   0.859747   \n",
       "30      VIJAYANAGARA        113868         24516  0.385242   0.614758   \n",
       "\n",
       "    Change_M_NPK_20  Change_G_NPK_20  Mean_Impact  Dissonance  \\\n",
       "0          0.177840         0.126761     0.152300    0.051079   \n",
       "1          0.083343         0.058252     0.070798    0.025091   \n",
       "2          0.024785         0.018012     0.021399    0.006772   \n",
       "3          0.046857         0.034123     0.040490    0.012734   \n",
       "4          0.050620         0.036825     0.043722    0.013795   \n",
       "5          0.146674         0.106713     0.126693    0.039962   \n",
       "6          0.090823         0.066040     0.078432    0.024783   \n",
       "7          0.053811         0.036290     0.045051    0.017521   \n",
       "8          0.048005         0.034952     0.041478    0.013053   \n",
       "9          0.155396         0.113072     0.134234    0.042323   \n",
       "10              NaN              NaN          NaN         NaN   \n",
       "11         0.018349         0.017941     0.018145    0.000408   \n",
       "12         0.059643         0.042226     0.050935    0.017416   \n",
       "13         0.229507         0.155556     0.192531    0.073952   \n",
       "14         0.087327         0.062684     0.075005    0.024643   \n",
       "15         0.059189         0.042857     0.051023    0.016332   \n",
       "16         0.057619         0.041953     0.049786    0.015665   \n",
       "17         0.097868         0.071262     0.084565    0.026605   \n",
       "18         0.053816         0.039196     0.046506    0.014619   \n",
       "19         0.106540         0.077582     0.092061    0.028958   \n",
       "20         0.083159         0.060535     0.071847    0.022624   \n",
       "21         0.047192         0.034374     0.040783    0.012818   \n",
       "22         0.061434         0.044732     0.053083    0.016702   \n",
       "23         0.049734         0.036078     0.042906    0.013656   \n",
       "24         0.094411         0.068771     0.081591    0.025640   \n",
       "25         0.104264         0.072797     0.088530    0.031467   \n",
       "26         0.056768         0.041105     0.048936    0.015663   \n",
       "27         0.160868         0.117417     0.139142    0.043451   \n",
       "28         0.098202         0.072446     0.085324    0.025756   \n",
       "29         0.067568         0.049196     0.058382    0.018372   \n",
       "30         0.094411         0.068771     0.081591    0.025640   \n",
       "\n",
       "    Stability_M_G_NPK_20  SI_Score  \n",
       "0               0.961221  0.149274  \n",
       "1               0.986731  0.077447  \n",
       "2               0.910417  0.022158  \n",
       "3               0.803935  0.036385  \n",
       "4               0.134201  0.006543  \n",
       "5               0.847342  0.111021  \n",
       "6               0.852688  0.072329  \n",
       "7               0.989851  0.051332  \n",
       "8               0.875817  0.040574  \n",
       "9               0.686270  0.094585  \n",
       "10              0.776814       NaN  \n",
       "11              0.836690  0.015077  \n",
       "12              0.377893  0.021587  \n",
       "13              0.707383  0.137095  \n",
       "14              0.745127  0.060991  \n",
       "15              1.000000  0.056652  \n",
       "16              0.806928  0.044544  \n",
       "17              0.000000  0.000000  \n",
       "18              0.903391  0.046711  \n",
       "19              0.940674  0.092444  \n",
       "20              0.562370  0.043935  \n",
       "21              0.751545  0.034248  \n",
       "22              0.493406  0.028956  \n",
       "23              0.467688  0.022421  \n",
       "24              0.706204  0.062088  \n",
       "25              0.987702  0.095485  \n",
       "26              0.868811  0.047293  \n",
       "27              0.837695  0.118935  \n",
       "28              0.659928  0.060111  \n",
       "29              0.859747  0.055234  \n",
       "30              0.614758  0.054048  "
      ]
     },
     "execution_count": 281,
     "metadata": {},
     "output_type": "execute_result"
    }
   ],
   "source": [
    "def calculate_change_impact(crop, perturbation, what): # Relative change is being calculated \n",
    "    capability_name = f'{crop[0].upper()} - {what} {perturbation}'\n",
    "    if(crop == \"Maize\"): \n",
    "        Working_Directory = Maize_Directory\n",
    "    elif(crop == \"Rice\"):\n",
    "        Working_Directory = Rice_Directory\n",
    "    else:\n",
    "        Working_Directory = Groundnut_Directory # Groundnut will be chosen from here, maintaining the consistency of the code across multiple files \n",
    "\n",
    "    original_production = Working_Directory[f'{crop}_Production']\n",
    "    new_production = Working_Directory[capability_name]\n",
    "    impact = (new_production - original_production)/(original_production)\n",
    "    impact_column_name = f'Change_{crop[0].upper()}_{what}_{perturbation}'\n",
    "    return impact, impact_column_name\n",
    "\n",
    "def Calculate_SI_Score(Maize_Directory,Groundnut_Directory, adj_matrix_np, crop1, crop2, perturbation, what,visualize = True):\n",
    "    # Normalize capabilities for both crops\n",
    "    Calculate_and_visualize_2D(Maize_Directory,Groundnut_Directory, adj_matrix_np, crop1, crop2, perturbation, what,False)\n",
    "\n",
    "    capability_1 = Maize_Directory[f'{crop1[0].upper()} - {what} {perturbation}']\n",
    "    capability_2 = Groundnut_Directory[f'{crop2[0].upper()} - {what} {perturbation}']\n",
    "    \n",
    "    # Combine capabilities into a single DataFrame\n",
    "    combined_df = pd.DataFrame({\n",
    "        'node': Working_Directory['District'],\n",
    "        'Capability_1': capability_1,\n",
    "        'Capability_2': capability_2\n",
    "    })\n",
    "    \n",
    "    # Calculate stress and stability for the combined capabilities\n",
    "    result_df = calculate_stress_stability(adj_matrix_np, combined_df)\n",
    "\n",
    "    # Calculate impact for each crop\n",
    "    impact1, impact_column1 = calculate_change_impact( crop1, perturbation, what)\n",
    "    impact2, impact_column2 = calculate_change_impact( crop2, perturbation, what)\n",
    "    \n",
    "    # Naming conventions for stability and stress columns\n",
    "    stability_column_name = f'Stability_{crop1[0].upper()}_{crop2[0].upper()}_{what}_{perturbation}'\n",
    "    stress_column_name = f'Stress_{crop1[0].upper()}_{crop2[0].upper()}_{what}_{perturbation}'\n",
    "    \n",
    "    # Add impacts, stability, and stress to the result_df DataFrame\n",
    "    result_df[impact_column1] = impact1\n",
    "    result_df[impact_column2] = impact2\n",
    "   # sec_imp = result_df[impact_column2].mean()\n",
    "    result_df['Mean_Impact'] = (impact1 + impact2)/2\n",
    "    result_df['Dissonance'] = (impact1 - impact2).abs()\n",
    "    result_df[stability_column_name] = result_df['stability']\n",
    "    \n",
    "    #result_df['SI_Score'] = result_df['stability']*result_df[impact_column1]*(1 - sec_imp)\n",
    "    \n",
    "    result_df['SI_Score'] = result_df['stability']*result_df[impact_column1]*(1-result_df[impact_column2])\n",
    "\n",
    "    return result_df\n",
    "\n",
    "result_df = pd.DataFrame()\n",
    "crop1 = 'Maize'\n",
    "crop2 = 'Groundnut'\n",
    "perturbation = 20\n",
    "what = 'NPK'\n",
    "result_df = Calculate_SI_Score(Maize_Directory,Groundnut_Directory, adj_matrix_np, crop1, crop2, perturbation, what)\n",
    "result_df"
   ]
  },
  {
   "cell_type": "markdown",
   "metadata": {},
   "source": [
    "'NaN in DAKSHINA KANNADA is due to it's FCR value being 0'"
   ]
  },
  {
   "cell_type": "code",
   "execution_count": 273,
   "metadata": {},
   "outputs": [
    {
     "data": {
      "text/html": [
       "<div>\n",
       "<style scoped>\n",
       "    .dataframe tbody tr th:only-of-type {\n",
       "        vertical-align: middle;\n",
       "    }\n",
       "\n",
       "    .dataframe tbody tr th {\n",
       "        vertical-align: top;\n",
       "    }\n",
       "\n",
       "    .dataframe thead th {\n",
       "        text-align: right;\n",
       "    }\n",
       "</style>\n",
       "<table border=\"1\" class=\"dataframe\">\n",
       "  <thead>\n",
       "    <tr style=\"text-align: right;\">\n",
       "      <th></th>\n",
       "      <th>node</th>\n",
       "      <th>Capability_1</th>\n",
       "      <th>Capability_2</th>\n",
       "      <th>stress</th>\n",
       "      <th>stability</th>\n",
       "      <th>Change_M_NPK_20</th>\n",
       "      <th>Change_G_NPK_20</th>\n",
       "      <th>Mean_Impact</th>\n",
       "      <th>Dissonance</th>\n",
       "      <th>Stability_M_G_NPK_20</th>\n",
       "      <th>SI_Score</th>\n",
       "    </tr>\n",
       "  </thead>\n",
       "  <tbody>\n",
       "    <tr>\n",
       "      <th>0</th>\n",
       "      <td>BENGALURU</td>\n",
       "      <td>3391</td>\n",
       "      <td>80</td>\n",
       "      <td>0.038779</td>\n",
       "      <td>0.961221</td>\n",
       "      <td>0.177840</td>\n",
       "      <td>0.126761</td>\n",
       "      <td>0.152300</td>\n",
       "      <td>0.051079</td>\n",
       "      <td>0.961221</td>\n",
       "      <td>0.149274</td>\n",
       "    </tr>\n",
       "    <tr>\n",
       "      <th>1</th>\n",
       "      <td>BENGALURU(R)</td>\n",
       "      <td>46132</td>\n",
       "      <td>218</td>\n",
       "      <td>0.013269</td>\n",
       "      <td>0.986731</td>\n",
       "      <td>0.083343</td>\n",
       "      <td>0.058252</td>\n",
       "      <td>0.070798</td>\n",
       "      <td>0.025091</td>\n",
       "      <td>0.986731</td>\n",
       "      <td>0.077447</td>\n",
       "    </tr>\n",
       "    <tr>\n",
       "      <th>2</th>\n",
       "      <td>RAMANAGARA</td>\n",
       "      <td>10709</td>\n",
       "      <td>4917</td>\n",
       "      <td>0.089583</td>\n",
       "      <td>0.910417</td>\n",
       "      <td>0.024785</td>\n",
       "      <td>0.018012</td>\n",
       "      <td>0.021399</td>\n",
       "      <td>0.006772</td>\n",
       "      <td>0.910417</td>\n",
       "      <td>0.022158</td>\n",
       "    </tr>\n",
       "    <tr>\n",
       "      <th>3</th>\n",
       "      <td>CHITRADURGA</td>\n",
       "      <td>284719</td>\n",
       "      <td>70915</td>\n",
       "      <td>0.196065</td>\n",
       "      <td>0.803935</td>\n",
       "      <td>0.046857</td>\n",
       "      <td>0.034123</td>\n",
       "      <td>0.040490</td>\n",
       "      <td>0.012734</td>\n",
       "      <td>0.803935</td>\n",
       "      <td>0.036385</td>\n",
       "    </tr>\n",
       "    <tr>\n",
       "      <th>4</th>\n",
       "      <td>DAVANAGERE</td>\n",
       "      <td>623589</td>\n",
       "      <td>17203</td>\n",
       "      <td>0.865799</td>\n",
       "      <td>0.134201</td>\n",
       "      <td>0.050620</td>\n",
       "      <td>0.036825</td>\n",
       "      <td>0.043722</td>\n",
       "      <td>0.013795</td>\n",
       "      <td>0.134201</td>\n",
       "      <td>0.006543</td>\n",
       "    </tr>\n",
       "    <tr>\n",
       "      <th>5</th>\n",
       "      <td>KOLAR</td>\n",
       "      <td>2017</td>\n",
       "      <td>6430</td>\n",
       "      <td>0.152658</td>\n",
       "      <td>0.847342</td>\n",
       "      <td>0.146674</td>\n",
       "      <td>0.106713</td>\n",
       "      <td>0.126693</td>\n",
       "      <td>0.039962</td>\n",
       "      <td>0.847342</td>\n",
       "      <td>0.111021</td>\n",
       "    </tr>\n",
       "    <tr>\n",
       "      <th>6</th>\n",
       "      <td>CHIKKABALLAPURA</td>\n",
       "      <td>115072</td>\n",
       "      <td>7603</td>\n",
       "      <td>0.147312</td>\n",
       "      <td>0.852688</td>\n",
       "      <td>0.090823</td>\n",
       "      <td>0.066040</td>\n",
       "      <td>0.078432</td>\n",
       "      <td>0.024783</td>\n",
       "      <td>0.852688</td>\n",
       "      <td>0.072329</td>\n",
       "    </tr>\n",
       "    <tr>\n",
       "      <th>7</th>\n",
       "      <td>SHIVAMOGGA</td>\n",
       "      <td>238722</td>\n",
       "      <td>257</td>\n",
       "      <td>0.010149</td>\n",
       "      <td>0.989851</td>\n",
       "      <td>0.053811</td>\n",
       "      <td>0.036290</td>\n",
       "      <td>0.045051</td>\n",
       "      <td>0.017521</td>\n",
       "      <td>0.989851</td>\n",
       "      <td>0.051332</td>\n",
       "    </tr>\n",
       "    <tr>\n",
       "      <th>8</th>\n",
       "      <td>TUMAKURU</td>\n",
       "      <td>70078</td>\n",
       "      <td>41011</td>\n",
       "      <td>0.124183</td>\n",
       "      <td>0.875817</td>\n",
       "      <td>0.048005</td>\n",
       "      <td>0.034952</td>\n",
       "      <td>0.041478</td>\n",
       "      <td>0.013053</td>\n",
       "      <td>0.875817</td>\n",
       "      <td>0.040574</td>\n",
       "    </tr>\n",
       "    <tr>\n",
       "      <th>9</th>\n",
       "      <td>CHIKKAMAGALURU</td>\n",
       "      <td>70887</td>\n",
       "      <td>4351</td>\n",
       "      <td>0.313730</td>\n",
       "      <td>0.686270</td>\n",
       "      <td>0.155396</td>\n",
       "      <td>0.113072</td>\n",
       "      <td>0.134234</td>\n",
       "      <td>0.042323</td>\n",
       "      <td>0.686270</td>\n",
       "      <td>0.094585</td>\n",
       "    </tr>\n",
       "    <tr>\n",
       "      <th>10</th>\n",
       "      <td>DAKSHINA KANNADA</td>\n",
       "      <td>0</td>\n",
       "      <td>0</td>\n",
       "      <td>0.223186</td>\n",
       "      <td>0.776814</td>\n",
       "      <td>NaN</td>\n",
       "      <td>NaN</td>\n",
       "      <td>NaN</td>\n",
       "      <td>NaN</td>\n",
       "      <td>0.776814</td>\n",
       "      <td>NaN</td>\n",
       "    </tr>\n",
       "    <tr>\n",
       "      <th>11</th>\n",
       "      <td>UDUPI</td>\n",
       "      <td>111</td>\n",
       "      <td>3688</td>\n",
       "      <td>0.163310</td>\n",
       "      <td>0.836690</td>\n",
       "      <td>0.018349</td>\n",
       "      <td>0.017941</td>\n",
       "      <td>0.018145</td>\n",
       "      <td>0.000408</td>\n",
       "      <td>0.836690</td>\n",
       "      <td>0.015077</td>\n",
       "    </tr>\n",
       "    <tr>\n",
       "      <th>12</th>\n",
       "      <td>HASSAN</td>\n",
       "      <td>353854</td>\n",
       "      <td>543</td>\n",
       "      <td>0.622107</td>\n",
       "      <td>0.377893</td>\n",
       "      <td>0.059643</td>\n",
       "      <td>0.042226</td>\n",
       "      <td>0.050935</td>\n",
       "      <td>0.017416</td>\n",
       "      <td>0.377893</td>\n",
       "      <td>0.021587</td>\n",
       "    </tr>\n",
       "    <tr>\n",
       "      <th>13</th>\n",
       "      <td>KODAGU</td>\n",
       "      <td>22034</td>\n",
       "      <td>52</td>\n",
       "      <td>0.292617</td>\n",
       "      <td>0.707383</td>\n",
       "      <td>0.229507</td>\n",
       "      <td>0.155556</td>\n",
       "      <td>0.192531</td>\n",
       "      <td>0.073952</td>\n",
       "      <td>0.707383</td>\n",
       "      <td>0.137095</td>\n",
       "    </tr>\n",
       "    <tr>\n",
       "      <th>14</th>\n",
       "      <td>MANDYA</td>\n",
       "      <td>21080</td>\n",
       "      <td>1085</td>\n",
       "      <td>0.254873</td>\n",
       "      <td>0.745127</td>\n",
       "      <td>0.087327</td>\n",
       "      <td>0.062684</td>\n",
       "      <td>0.075005</td>\n",
       "      <td>0.024643</td>\n",
       "      <td>0.745127</td>\n",
       "      <td>0.060991</td>\n",
       "    </tr>\n",
       "    <tr>\n",
       "      <th>15</th>\n",
       "      <td>MYSURU</td>\n",
       "      <td>145272</td>\n",
       "      <td>2263</td>\n",
       "      <td>0.000000</td>\n",
       "      <td>1.000000</td>\n",
       "      <td>0.059189</td>\n",
       "      <td>0.042857</td>\n",
       "      <td>0.051023</td>\n",
       "      <td>0.016332</td>\n",
       "      <td>1.000000</td>\n",
       "      <td>0.056652</td>\n",
       "    </tr>\n",
       "    <tr>\n",
       "      <th>16</th>\n",
       "      <td>CHAMARAJANAGAR</td>\n",
       "      <td>156407</td>\n",
       "      <td>9239</td>\n",
       "      <td>0.193072</td>\n",
       "      <td>0.806928</td>\n",
       "      <td>0.057619</td>\n",
       "      <td>0.041953</td>\n",
       "      <td>0.049786</td>\n",
       "      <td>0.015665</td>\n",
       "      <td>0.806928</td>\n",
       "      <td>0.044544</td>\n",
       "    </tr>\n",
       "    <tr>\n",
       "      <th>17</th>\n",
       "      <td>BELAGAVI</td>\n",
       "      <td>633204</td>\n",
       "      <td>42347</td>\n",
       "      <td>1.000000</td>\n",
       "      <td>0.000000</td>\n",
       "      <td>0.097868</td>\n",
       "      <td>0.071262</td>\n",
       "      <td>0.084565</td>\n",
       "      <td>0.026605</td>\n",
       "      <td>0.000000</td>\n",
       "      <td>0.000000</td>\n",
       "    </tr>\n",
       "    <tr>\n",
       "      <th>18</th>\n",
       "      <td>VIJAYAPURA</td>\n",
       "      <td>238507</td>\n",
       "      <td>28607</td>\n",
       "      <td>0.096609</td>\n",
       "      <td>0.903391</td>\n",
       "      <td>0.053816</td>\n",
       "      <td>0.039196</td>\n",
       "      <td>0.046506</td>\n",
       "      <td>0.014619</td>\n",
       "      <td>0.903391</td>\n",
       "      <td>0.046711</td>\n",
       "    </tr>\n",
       "    <tr>\n",
       "      <th>19</th>\n",
       "      <td>BAGALKOT</td>\n",
       "      <td>278515</td>\n",
       "      <td>27418</td>\n",
       "      <td>0.059326</td>\n",
       "      <td>0.940674</td>\n",
       "      <td>0.106540</td>\n",
       "      <td>0.077582</td>\n",
       "      <td>0.092061</td>\n",
       "      <td>0.028958</td>\n",
       "      <td>0.940674</td>\n",
       "      <td>0.092444</td>\n",
       "    </tr>\n",
       "    <tr>\n",
       "      <th>20</th>\n",
       "      <td>DHARAWAD</td>\n",
       "      <td>98171</td>\n",
       "      <td>22460</td>\n",
       "      <td>0.437630</td>\n",
       "      <td>0.562370</td>\n",
       "      <td>0.083159</td>\n",
       "      <td>0.060535</td>\n",
       "      <td>0.071847</td>\n",
       "      <td>0.022624</td>\n",
       "      <td>0.562370</td>\n",
       "      <td>0.043935</td>\n",
       "    </tr>\n",
       "    <tr>\n",
       "      <th>21</th>\n",
       "      <td>GADAG</td>\n",
       "      <td>145011</td>\n",
       "      <td>32409</td>\n",
       "      <td>0.248455</td>\n",
       "      <td>0.751545</td>\n",
       "      <td>0.047192</td>\n",
       "      <td>0.034374</td>\n",
       "      <td>0.040783</td>\n",
       "      <td>0.012818</td>\n",
       "      <td>0.751545</td>\n",
       "      <td>0.034248</td>\n",
       "    </tr>\n",
       "    <tr>\n",
       "      <th>22</th>\n",
       "      <td>HAVERI</td>\n",
       "      <td>438889</td>\n",
       "      <td>19128</td>\n",
       "      <td>0.506594</td>\n",
       "      <td>0.493406</td>\n",
       "      <td>0.061434</td>\n",
       "      <td>0.044732</td>\n",
       "      <td>0.053083</td>\n",
       "      <td>0.016702</td>\n",
       "      <td>0.493406</td>\n",
       "      <td>0.028956</td>\n",
       "    </tr>\n",
       "    <tr>\n",
       "      <th>23</th>\n",
       "      <td>UTTARA KANNADA</td>\n",
       "      <td>25286</td>\n",
       "      <td>3963</td>\n",
       "      <td>0.532312</td>\n",
       "      <td>0.467688</td>\n",
       "      <td>0.049734</td>\n",
       "      <td>0.036078</td>\n",
       "      <td>0.042906</td>\n",
       "      <td>0.013656</td>\n",
       "      <td>0.467688</td>\n",
       "      <td>0.022421</td>\n",
       "    </tr>\n",
       "    <tr>\n",
       "      <th>24</th>\n",
       "      <td>BALLARI</td>\n",
       "      <td>113868</td>\n",
       "      <td>24516</td>\n",
       "      <td>0.293796</td>\n",
       "      <td>0.706204</td>\n",
       "      <td>0.094411</td>\n",
       "      <td>0.068771</td>\n",
       "      <td>0.081591</td>\n",
       "      <td>0.025640</td>\n",
       "      <td>0.706204</td>\n",
       "      <td>0.062088</td>\n",
       "    </tr>\n",
       "    <tr>\n",
       "      <th>25</th>\n",
       "      <td>BIDAR</td>\n",
       "      <td>3082</td>\n",
       "      <td>280</td>\n",
       "      <td>0.012298</td>\n",
       "      <td>0.987702</td>\n",
       "      <td>0.104264</td>\n",
       "      <td>0.072797</td>\n",
       "      <td>0.088530</td>\n",
       "      <td>0.031467</td>\n",
       "      <td>0.987702</td>\n",
       "      <td>0.095485</td>\n",
       "    </tr>\n",
       "    <tr>\n",
       "      <th>26</th>\n",
       "      <td>KALABURAGI</td>\n",
       "      <td>15451</td>\n",
       "      <td>3242</td>\n",
       "      <td>0.131189</td>\n",
       "      <td>0.868811</td>\n",
       "      <td>0.056768</td>\n",
       "      <td>0.041105</td>\n",
       "      <td>0.048936</td>\n",
       "      <td>0.015663</td>\n",
       "      <td>0.868811</td>\n",
       "      <td>0.047293</td>\n",
       "    </tr>\n",
       "    <tr>\n",
       "      <th>27</th>\n",
       "      <td>YADGIRI</td>\n",
       "      <td>3103</td>\n",
       "      <td>35126</td>\n",
       "      <td>0.162305</td>\n",
       "      <td>0.837695</td>\n",
       "      <td>0.160868</td>\n",
       "      <td>0.117417</td>\n",
       "      <td>0.139142</td>\n",
       "      <td>0.043451</td>\n",
       "      <td>0.837695</td>\n",
       "      <td>0.118935</td>\n",
       "    </tr>\n",
       "    <tr>\n",
       "      <th>28</th>\n",
       "      <td>RAICHUR</td>\n",
       "      <td>794</td>\n",
       "      <td>28911</td>\n",
       "      <td>0.340072</td>\n",
       "      <td>0.659928</td>\n",
       "      <td>0.098202</td>\n",
       "      <td>0.072446</td>\n",
       "      <td>0.085324</td>\n",
       "      <td>0.025756</td>\n",
       "      <td>0.659928</td>\n",
       "      <td>0.060111</td>\n",
       "    </tr>\n",
       "    <tr>\n",
       "      <th>29</th>\n",
       "      <td>KOPPAL</td>\n",
       "      <td>203107</td>\n",
       "      <td>31457</td>\n",
       "      <td>0.140253</td>\n",
       "      <td>0.859747</td>\n",
       "      <td>0.067568</td>\n",
       "      <td>0.049196</td>\n",
       "      <td>0.058382</td>\n",
       "      <td>0.018372</td>\n",
       "      <td>0.859747</td>\n",
       "      <td>0.055234</td>\n",
       "    </tr>\n",
       "    <tr>\n",
       "      <th>30</th>\n",
       "      <td>VIJAYANAGARA</td>\n",
       "      <td>113868</td>\n",
       "      <td>24516</td>\n",
       "      <td>0.385242</td>\n",
       "      <td>0.614758</td>\n",
       "      <td>0.094411</td>\n",
       "      <td>0.068771</td>\n",
       "      <td>0.081591</td>\n",
       "      <td>0.025640</td>\n",
       "      <td>0.614758</td>\n",
       "      <td>0.054048</td>\n",
       "    </tr>\n",
       "  </tbody>\n",
       "</table>\n",
       "</div>"
      ],
      "text/plain": [
       "                node  Capability_1  Capability_2    stress  stability  \\\n",
       "0          BENGALURU          3391            80  0.038779   0.961221   \n",
       "1       BENGALURU(R)         46132           218  0.013269   0.986731   \n",
       "2         RAMANAGARA         10709          4917  0.089583   0.910417   \n",
       "3        CHITRADURGA        284719         70915  0.196065   0.803935   \n",
       "4         DAVANAGERE        623589         17203  0.865799   0.134201   \n",
       "5              KOLAR          2017          6430  0.152658   0.847342   \n",
       "6    CHIKKABALLAPURA        115072          7603  0.147312   0.852688   \n",
       "7         SHIVAMOGGA        238722           257  0.010149   0.989851   \n",
       "8           TUMAKURU         70078         41011  0.124183   0.875817   \n",
       "9     CHIKKAMAGALURU         70887          4351  0.313730   0.686270   \n",
       "10  DAKSHINA KANNADA             0             0  0.223186   0.776814   \n",
       "11             UDUPI           111          3688  0.163310   0.836690   \n",
       "12            HASSAN        353854           543  0.622107   0.377893   \n",
       "13            KODAGU         22034            52  0.292617   0.707383   \n",
       "14            MANDYA         21080          1085  0.254873   0.745127   \n",
       "15            MYSURU        145272          2263  0.000000   1.000000   \n",
       "16    CHAMARAJANAGAR        156407          9239  0.193072   0.806928   \n",
       "17          BELAGAVI        633204         42347  1.000000   0.000000   \n",
       "18        VIJAYAPURA        238507         28607  0.096609   0.903391   \n",
       "19          BAGALKOT        278515         27418  0.059326   0.940674   \n",
       "20          DHARAWAD         98171         22460  0.437630   0.562370   \n",
       "21             GADAG        145011         32409  0.248455   0.751545   \n",
       "22            HAVERI        438889         19128  0.506594   0.493406   \n",
       "23    UTTARA KANNADA         25286          3963  0.532312   0.467688   \n",
       "24           BALLARI        113868         24516  0.293796   0.706204   \n",
       "25             BIDAR          3082           280  0.012298   0.987702   \n",
       "26        KALABURAGI         15451          3242  0.131189   0.868811   \n",
       "27           YADGIRI          3103         35126  0.162305   0.837695   \n",
       "28           RAICHUR           794         28911  0.340072   0.659928   \n",
       "29            KOPPAL        203107         31457  0.140253   0.859747   \n",
       "30      VIJAYANAGARA        113868         24516  0.385242   0.614758   \n",
       "\n",
       "    Change_M_NPK_20  Change_G_NPK_20  Mean_Impact  Dissonance  \\\n",
       "0          0.177840         0.126761     0.152300    0.051079   \n",
       "1          0.083343         0.058252     0.070798    0.025091   \n",
       "2          0.024785         0.018012     0.021399    0.006772   \n",
       "3          0.046857         0.034123     0.040490    0.012734   \n",
       "4          0.050620         0.036825     0.043722    0.013795   \n",
       "5          0.146674         0.106713     0.126693    0.039962   \n",
       "6          0.090823         0.066040     0.078432    0.024783   \n",
       "7          0.053811         0.036290     0.045051    0.017521   \n",
       "8          0.048005         0.034952     0.041478    0.013053   \n",
       "9          0.155396         0.113072     0.134234    0.042323   \n",
       "10              NaN              NaN          NaN         NaN   \n",
       "11         0.018349         0.017941     0.018145    0.000408   \n",
       "12         0.059643         0.042226     0.050935    0.017416   \n",
       "13         0.229507         0.155556     0.192531    0.073952   \n",
       "14         0.087327         0.062684     0.075005    0.024643   \n",
       "15         0.059189         0.042857     0.051023    0.016332   \n",
       "16         0.057619         0.041953     0.049786    0.015665   \n",
       "17         0.097868         0.071262     0.084565    0.026605   \n",
       "18         0.053816         0.039196     0.046506    0.014619   \n",
       "19         0.106540         0.077582     0.092061    0.028958   \n",
       "20         0.083159         0.060535     0.071847    0.022624   \n",
       "21         0.047192         0.034374     0.040783    0.012818   \n",
       "22         0.061434         0.044732     0.053083    0.016702   \n",
       "23         0.049734         0.036078     0.042906    0.013656   \n",
       "24         0.094411         0.068771     0.081591    0.025640   \n",
       "25         0.104264         0.072797     0.088530    0.031467   \n",
       "26         0.056768         0.041105     0.048936    0.015663   \n",
       "27         0.160868         0.117417     0.139142    0.043451   \n",
       "28         0.098202         0.072446     0.085324    0.025756   \n",
       "29         0.067568         0.049196     0.058382    0.018372   \n",
       "30         0.094411         0.068771     0.081591    0.025640   \n",
       "\n",
       "    Stability_M_G_NPK_20  SI_Score  \n",
       "0               0.961221  0.149274  \n",
       "1               0.986731  0.077447  \n",
       "2               0.910417  0.022158  \n",
       "3               0.803935  0.036385  \n",
       "4               0.134201  0.006543  \n",
       "5               0.847342  0.111021  \n",
       "6               0.852688  0.072329  \n",
       "7               0.989851  0.051332  \n",
       "8               0.875817  0.040574  \n",
       "9               0.686270  0.094585  \n",
       "10              0.776814       NaN  \n",
       "11              0.836690  0.015077  \n",
       "12              0.377893  0.021587  \n",
       "13              0.707383  0.137095  \n",
       "14              0.745127  0.060991  \n",
       "15              1.000000  0.056652  \n",
       "16              0.806928  0.044544  \n",
       "17              0.000000  0.000000  \n",
       "18              0.903391  0.046711  \n",
       "19              0.940674  0.092444  \n",
       "20              0.562370  0.043935  \n",
       "21              0.751545  0.034248  \n",
       "22              0.493406  0.028956  \n",
       "23              0.467688  0.022421  \n",
       "24              0.706204  0.062088  \n",
       "25              0.987702  0.095485  \n",
       "26              0.868811  0.047293  \n",
       "27              0.837695  0.118935  \n",
       "28              0.659928  0.060111  \n",
       "29              0.859747  0.055234  \n",
       "30              0.614758  0.054048  "
      ]
     },
     "execution_count": 273,
     "metadata": {},
     "output_type": "execute_result"
    }
   ],
   "source": [
    "result_df.to_csv('2D/Maize_Groundnut SI Score NPK+20%.csv',index=False)\n",
    "result_df"
   ]
  },
  {
   "cell_type": "code",
   "execution_count": 274,
   "metadata": {},
   "outputs": [
    {
     "data": {
      "application/vnd.plotly.v1+json": {
       "config": {
        "plotlyServerURL": "https://plot.ly"
       },
       "data": [
        {
         "alignmentgroup": "True",
         "hovertemplate": "SI Score=%{marker.color}<br>District=%{y}<extra></extra>",
         "legendgroup": "",
         "marker": {
          "color": [
           0,
           0.0065,
           0.0151,
           0.0216,
           0.0222,
           0.0224,
           0.029,
           0.0342,
           0.0364,
           0.0406,
           0.0439,
           0.0445,
           0.0467,
           0.0473,
           0.0513,
           0.054,
           0.0552,
           0.0567,
           0.0601,
           0.061,
           0.0621,
           0.0723,
           0.0774,
           0.0924,
           0.0946,
           0.0955,
           0.111,
           0.1189,
           0.1371,
           0.1493
          ],
          "coloraxis": "coloraxis",
          "pattern": {
           "shape": ""
          }
         },
         "name": "",
         "offsetgroup": "",
         "orientation": "h",
         "showlegend": false,
         "text": [
          0,
          0.0065,
          0.0151,
          0.0216,
          0.0222,
          0.0224,
          0.029,
          0.0342,
          0.0364,
          0.0406,
          0.0439,
          0.0445,
          0.0467,
          0.0473,
          0.0513,
          0.054,
          0.0552,
          0.0567,
          0.0601,
          0.061,
          0.0621,
          0.0723,
          0.0774,
          0.0924,
          0.0946,
          0.0955,
          0.111,
          0.1189,
          0.1371,
          0.1493
         ],
         "textposition": "auto",
         "type": "bar",
         "x": [
          0,
          0.0065,
          0.0151,
          0.0216,
          0.0222,
          0.0224,
          0.029,
          0.0342,
          0.0364,
          0.0406,
          0.0439,
          0.0445,
          0.0467,
          0.0473,
          0.0513,
          0.054,
          0.0552,
          0.0567,
          0.0601,
          0.061,
          0.0621,
          0.0723,
          0.0774,
          0.0924,
          0.0946,
          0.0955,
          0.111,
          0.1189,
          0.1371,
          0.1493
         ],
         "xaxis": "x",
         "y": [
          "BELAGAVI",
          "DAVANAGERE",
          "UDUPI",
          "HASSAN",
          "RAMANAGARA",
          "UTTARA KANNADA",
          "HAVERI",
          "GADAG",
          "CHITRADURGA",
          "TUMAKURU",
          "DHARAWAD",
          "CHAMARAJANAGAR",
          "VIJAYAPURA",
          "KALABURAGI",
          "SHIVAMOGGA",
          "VIJAYANAGARA",
          "KOPPAL",
          "MYSURU",
          "RAICHUR",
          "MANDYA",
          "BALLARI",
          "CHIKKABALLAPURA",
          "BENGALURU(R)",
          "BAGALKOT",
          "CHIKKAMAGALURU",
          "BIDAR",
          "KOLAR",
          "YADGIRI",
          "KODAGU",
          "BENGALURU"
         ],
         "yaxis": "y"
        }
       ],
       "layout": {
        "barmode": "relative",
        "coloraxis": {
         "colorbar": {
          "title": {
           "text": "SI Score"
          }
         },
         "colorscale": [
          [
           0,
           "rgb(207, 89, 126)"
          ],
          [
           0.16666666666666666,
           "rgb(232, 132, 113)"
          ],
          [
           0.3333333333333333,
           "rgb(238, 180, 121)"
          ],
          [
           0.5,
           "rgb(233, 226, 156)"
          ],
          [
           0.6666666666666666,
           "rgb(156, 203, 134)"
          ],
          [
           0.8333333333333334,
           "rgb(57, 177, 133)"
          ],
          [
           1,
           "rgb(0, 147, 146)"
          ]
         ]
        },
        "height": 800,
        "legend": {
         "tracegroupgap": 0
        },
        "template": {
         "data": {
          "bar": [
           {
            "error_x": {
             "color": "#2a3f5f"
            },
            "error_y": {
             "color": "#2a3f5f"
            },
            "marker": {
             "line": {
              "color": "#E5ECF6",
              "width": 0.5
             },
             "pattern": {
              "fillmode": "overlay",
              "size": 10,
              "solidity": 0.2
             }
            },
            "type": "bar"
           }
          ],
          "barpolar": [
           {
            "marker": {
             "line": {
              "color": "#E5ECF6",
              "width": 0.5
             },
             "pattern": {
              "fillmode": "overlay",
              "size": 10,
              "solidity": 0.2
             }
            },
            "type": "barpolar"
           }
          ],
          "carpet": [
           {
            "aaxis": {
             "endlinecolor": "#2a3f5f",
             "gridcolor": "white",
             "linecolor": "white",
             "minorgridcolor": "white",
             "startlinecolor": "#2a3f5f"
            },
            "baxis": {
             "endlinecolor": "#2a3f5f",
             "gridcolor": "white",
             "linecolor": "white",
             "minorgridcolor": "white",
             "startlinecolor": "#2a3f5f"
            },
            "type": "carpet"
           }
          ],
          "choropleth": [
           {
            "colorbar": {
             "outlinewidth": 0,
             "ticks": ""
            },
            "type": "choropleth"
           }
          ],
          "contour": [
           {
            "colorbar": {
             "outlinewidth": 0,
             "ticks": ""
            },
            "colorscale": [
             [
              0,
              "#0d0887"
             ],
             [
              0.1111111111111111,
              "#46039f"
             ],
             [
              0.2222222222222222,
              "#7201a8"
             ],
             [
              0.3333333333333333,
              "#9c179e"
             ],
             [
              0.4444444444444444,
              "#bd3786"
             ],
             [
              0.5555555555555556,
              "#d8576b"
             ],
             [
              0.6666666666666666,
              "#ed7953"
             ],
             [
              0.7777777777777778,
              "#fb9f3a"
             ],
             [
              0.8888888888888888,
              "#fdca26"
             ],
             [
              1,
              "#f0f921"
             ]
            ],
            "type": "contour"
           }
          ],
          "contourcarpet": [
           {
            "colorbar": {
             "outlinewidth": 0,
             "ticks": ""
            },
            "type": "contourcarpet"
           }
          ],
          "heatmap": [
           {
            "colorbar": {
             "outlinewidth": 0,
             "ticks": ""
            },
            "colorscale": [
             [
              0,
              "#0d0887"
             ],
             [
              0.1111111111111111,
              "#46039f"
             ],
             [
              0.2222222222222222,
              "#7201a8"
             ],
             [
              0.3333333333333333,
              "#9c179e"
             ],
             [
              0.4444444444444444,
              "#bd3786"
             ],
             [
              0.5555555555555556,
              "#d8576b"
             ],
             [
              0.6666666666666666,
              "#ed7953"
             ],
             [
              0.7777777777777778,
              "#fb9f3a"
             ],
             [
              0.8888888888888888,
              "#fdca26"
             ],
             [
              1,
              "#f0f921"
             ]
            ],
            "type": "heatmap"
           }
          ],
          "heatmapgl": [
           {
            "colorbar": {
             "outlinewidth": 0,
             "ticks": ""
            },
            "colorscale": [
             [
              0,
              "#0d0887"
             ],
             [
              0.1111111111111111,
              "#46039f"
             ],
             [
              0.2222222222222222,
              "#7201a8"
             ],
             [
              0.3333333333333333,
              "#9c179e"
             ],
             [
              0.4444444444444444,
              "#bd3786"
             ],
             [
              0.5555555555555556,
              "#d8576b"
             ],
             [
              0.6666666666666666,
              "#ed7953"
             ],
             [
              0.7777777777777778,
              "#fb9f3a"
             ],
             [
              0.8888888888888888,
              "#fdca26"
             ],
             [
              1,
              "#f0f921"
             ]
            ],
            "type": "heatmapgl"
           }
          ],
          "histogram": [
           {
            "marker": {
             "pattern": {
              "fillmode": "overlay",
              "size": 10,
              "solidity": 0.2
             }
            },
            "type": "histogram"
           }
          ],
          "histogram2d": [
           {
            "colorbar": {
             "outlinewidth": 0,
             "ticks": ""
            },
            "colorscale": [
             [
              0,
              "#0d0887"
             ],
             [
              0.1111111111111111,
              "#46039f"
             ],
             [
              0.2222222222222222,
              "#7201a8"
             ],
             [
              0.3333333333333333,
              "#9c179e"
             ],
             [
              0.4444444444444444,
              "#bd3786"
             ],
             [
              0.5555555555555556,
              "#d8576b"
             ],
             [
              0.6666666666666666,
              "#ed7953"
             ],
             [
              0.7777777777777778,
              "#fb9f3a"
             ],
             [
              0.8888888888888888,
              "#fdca26"
             ],
             [
              1,
              "#f0f921"
             ]
            ],
            "type": "histogram2d"
           }
          ],
          "histogram2dcontour": [
           {
            "colorbar": {
             "outlinewidth": 0,
             "ticks": ""
            },
            "colorscale": [
             [
              0,
              "#0d0887"
             ],
             [
              0.1111111111111111,
              "#46039f"
             ],
             [
              0.2222222222222222,
              "#7201a8"
             ],
             [
              0.3333333333333333,
              "#9c179e"
             ],
             [
              0.4444444444444444,
              "#bd3786"
             ],
             [
              0.5555555555555556,
              "#d8576b"
             ],
             [
              0.6666666666666666,
              "#ed7953"
             ],
             [
              0.7777777777777778,
              "#fb9f3a"
             ],
             [
              0.8888888888888888,
              "#fdca26"
             ],
             [
              1,
              "#f0f921"
             ]
            ],
            "type": "histogram2dcontour"
           }
          ],
          "mesh3d": [
           {
            "colorbar": {
             "outlinewidth": 0,
             "ticks": ""
            },
            "type": "mesh3d"
           }
          ],
          "parcoords": [
           {
            "line": {
             "colorbar": {
              "outlinewidth": 0,
              "ticks": ""
             }
            },
            "type": "parcoords"
           }
          ],
          "pie": [
           {
            "automargin": true,
            "type": "pie"
           }
          ],
          "scatter": [
           {
            "fillpattern": {
             "fillmode": "overlay",
             "size": 10,
             "solidity": 0.2
            },
            "type": "scatter"
           }
          ],
          "scatter3d": [
           {
            "line": {
             "colorbar": {
              "outlinewidth": 0,
              "ticks": ""
             }
            },
            "marker": {
             "colorbar": {
              "outlinewidth": 0,
              "ticks": ""
             }
            },
            "type": "scatter3d"
           }
          ],
          "scattercarpet": [
           {
            "marker": {
             "colorbar": {
              "outlinewidth": 0,
              "ticks": ""
             }
            },
            "type": "scattercarpet"
           }
          ],
          "scattergeo": [
           {
            "marker": {
             "colorbar": {
              "outlinewidth": 0,
              "ticks": ""
             }
            },
            "type": "scattergeo"
           }
          ],
          "scattergl": [
           {
            "marker": {
             "colorbar": {
              "outlinewidth": 0,
              "ticks": ""
             }
            },
            "type": "scattergl"
           }
          ],
          "scattermapbox": [
           {
            "marker": {
             "colorbar": {
              "outlinewidth": 0,
              "ticks": ""
             }
            },
            "type": "scattermapbox"
           }
          ],
          "scatterpolar": [
           {
            "marker": {
             "colorbar": {
              "outlinewidth": 0,
              "ticks": ""
             }
            },
            "type": "scatterpolar"
           }
          ],
          "scatterpolargl": [
           {
            "marker": {
             "colorbar": {
              "outlinewidth": 0,
              "ticks": ""
             }
            },
            "type": "scatterpolargl"
           }
          ],
          "scatterternary": [
           {
            "marker": {
             "colorbar": {
              "outlinewidth": 0,
              "ticks": ""
             }
            },
            "type": "scatterternary"
           }
          ],
          "surface": [
           {
            "colorbar": {
             "outlinewidth": 0,
             "ticks": ""
            },
            "colorscale": [
             [
              0,
              "#0d0887"
             ],
             [
              0.1111111111111111,
              "#46039f"
             ],
             [
              0.2222222222222222,
              "#7201a8"
             ],
             [
              0.3333333333333333,
              "#9c179e"
             ],
             [
              0.4444444444444444,
              "#bd3786"
             ],
             [
              0.5555555555555556,
              "#d8576b"
             ],
             [
              0.6666666666666666,
              "#ed7953"
             ],
             [
              0.7777777777777778,
              "#fb9f3a"
             ],
             [
              0.8888888888888888,
              "#fdca26"
             ],
             [
              1,
              "#f0f921"
             ]
            ],
            "type": "surface"
           }
          ],
          "table": [
           {
            "cells": {
             "fill": {
              "color": "#EBF0F8"
             },
             "line": {
              "color": "white"
             }
            },
            "header": {
             "fill": {
              "color": "#C8D4E3"
             },
             "line": {
              "color": "white"
             }
            },
            "type": "table"
           }
          ]
         },
         "layout": {
          "annotationdefaults": {
           "arrowcolor": "#2a3f5f",
           "arrowhead": 0,
           "arrowwidth": 1
          },
          "autotypenumbers": "strict",
          "coloraxis": {
           "colorbar": {
            "outlinewidth": 0,
            "ticks": ""
           }
          },
          "colorscale": {
           "diverging": [
            [
             0,
             "#8e0152"
            ],
            [
             0.1,
             "#c51b7d"
            ],
            [
             0.2,
             "#de77ae"
            ],
            [
             0.3,
             "#f1b6da"
            ],
            [
             0.4,
             "#fde0ef"
            ],
            [
             0.5,
             "#f7f7f7"
            ],
            [
             0.6,
             "#e6f5d0"
            ],
            [
             0.7,
             "#b8e186"
            ],
            [
             0.8,
             "#7fbc41"
            ],
            [
             0.9,
             "#4d9221"
            ],
            [
             1,
             "#276419"
            ]
           ],
           "sequential": [
            [
             0,
             "#0d0887"
            ],
            [
             0.1111111111111111,
             "#46039f"
            ],
            [
             0.2222222222222222,
             "#7201a8"
            ],
            [
             0.3333333333333333,
             "#9c179e"
            ],
            [
             0.4444444444444444,
             "#bd3786"
            ],
            [
             0.5555555555555556,
             "#d8576b"
            ],
            [
             0.6666666666666666,
             "#ed7953"
            ],
            [
             0.7777777777777778,
             "#fb9f3a"
            ],
            [
             0.8888888888888888,
             "#fdca26"
            ],
            [
             1,
             "#f0f921"
            ]
           ],
           "sequentialminus": [
            [
             0,
             "#0d0887"
            ],
            [
             0.1111111111111111,
             "#46039f"
            ],
            [
             0.2222222222222222,
             "#7201a8"
            ],
            [
             0.3333333333333333,
             "#9c179e"
            ],
            [
             0.4444444444444444,
             "#bd3786"
            ],
            [
             0.5555555555555556,
             "#d8576b"
            ],
            [
             0.6666666666666666,
             "#ed7953"
            ],
            [
             0.7777777777777778,
             "#fb9f3a"
            ],
            [
             0.8888888888888888,
             "#fdca26"
            ],
            [
             1,
             "#f0f921"
            ]
           ]
          },
          "colorway": [
           "#636efa",
           "#EF553B",
           "#00cc96",
           "#ab63fa",
           "#FFA15A",
           "#19d3f3",
           "#FF6692",
           "#B6E880",
           "#FF97FF",
           "#FECB52"
          ],
          "font": {
           "color": "#2a3f5f"
          },
          "geo": {
           "bgcolor": "white",
           "lakecolor": "white",
           "landcolor": "#E5ECF6",
           "showlakes": true,
           "showland": true,
           "subunitcolor": "white"
          },
          "hoverlabel": {
           "align": "left"
          },
          "hovermode": "closest",
          "mapbox": {
           "style": "light"
          },
          "paper_bgcolor": "white",
          "plot_bgcolor": "#E5ECF6",
          "polar": {
           "angularaxis": {
            "gridcolor": "white",
            "linecolor": "white",
            "ticks": ""
           },
           "bgcolor": "#E5ECF6",
           "radialaxis": {
            "gridcolor": "white",
            "linecolor": "white",
            "ticks": ""
           }
          },
          "scene": {
           "xaxis": {
            "backgroundcolor": "#E5ECF6",
            "gridcolor": "white",
            "gridwidth": 2,
            "linecolor": "white",
            "showbackground": true,
            "ticks": "",
            "zerolinecolor": "white"
           },
           "yaxis": {
            "backgroundcolor": "#E5ECF6",
            "gridcolor": "white",
            "gridwidth": 2,
            "linecolor": "white",
            "showbackground": true,
            "ticks": "",
            "zerolinecolor": "white"
           },
           "zaxis": {
            "backgroundcolor": "#E5ECF6",
            "gridcolor": "white",
            "gridwidth": 2,
            "linecolor": "white",
            "showbackground": true,
            "ticks": "",
            "zerolinecolor": "white"
           }
          },
          "shapedefaults": {
           "line": {
            "color": "#2a3f5f"
           }
          },
          "ternary": {
           "aaxis": {
            "gridcolor": "white",
            "linecolor": "white",
            "ticks": ""
           },
           "baxis": {
            "gridcolor": "white",
            "linecolor": "white",
            "ticks": ""
           },
           "bgcolor": "#E5ECF6",
           "caxis": {
            "gridcolor": "white",
            "linecolor": "white",
            "ticks": ""
           }
          },
          "title": {
           "x": 0.05
          },
          "xaxis": {
           "automargin": true,
           "gridcolor": "white",
           "linecolor": "white",
           "ticks": "",
           "title": {
            "standoff": 15
           },
           "zerolinecolor": "white",
           "zerolinewidth": 2
          },
          "yaxis": {
           "automargin": true,
           "gridcolor": "white",
           "linecolor": "white",
           "ticks": "",
           "title": {
            "standoff": 15
           },
           "zerolinecolor": "white",
           "zerolinewidth": 2
          }
         }
        },
        "title": {
         "text": "Ranked Bar Chart of SI Score by District for NPK +20%",
         "x": 0.5
        },
        "width": 700,
        "xaxis": {
         "anchor": "y",
         "domain": [
          0,
          1
         ],
         "title": {
          "text": "Sustainable Intervention Score"
         }
        },
        "yaxis": {
         "anchor": "x",
         "domain": [
          0,
          1
         ],
         "title": {
          "text": "District"
         }
        }
       }
      }
     },
     "metadata": {},
     "output_type": "display_data"
    }
   ],
   "source": [
    "import plotly.express as px\n",
    "ranked_df = result_df[['node', 'SI_Score']].sort_values(by='SI_Score', ascending=True)\n",
    "ranked_df = ranked_df[ranked_df['SI_Score'] <= 5]\n",
    "\n",
    "ranked_df = ranked_df.dropna()\n",
    "\n",
    "ranked_df['SI_Score'] = ranked_df['SI_Score'].round(4)\n",
    "\n",
    "fig = px.bar(\n",
    "    ranked_df,\n",
    "    x='SI_Score',        \n",
    "    y='node',            \n",
    "    text='SI_Score',     \n",
    "    title='Ranked Bar Chart of SI Score by District for NPK +20%',\n",
    "    labels={'node': 'District', 'SI_Score': 'SI Score'},\n",
    "    color='SI_Score',    \n",
    "    color_continuous_scale='Temps_r'\n",
    ")\n",
    "\n",
    "fig.update_layout(\n",
    "    width=700,\n",
    "    height=800,\n",
    "    xaxis_title='Sustainable Intervention Score',\n",
    "    yaxis_title='District',\n",
    "    title_x=0.5 \n",
    ")\n",
    "\n",
    "fig.show()\n"
   ]
  },
  {
   "cell_type": "code",
   "execution_count": 275,
   "metadata": {},
   "outputs": [
    {
     "data": {
      "application/vnd.plotly.v1+json": {
       "config": {
        "plotlyServerURL": "https://plot.ly"
       },
       "data": [
        {
         "alignmentgroup": "True",
         "hovertemplate": "SI Score=%{marker.color}<br>District=%{y}<extra></extra>",
         "legendgroup": "",
         "marker": {
          "color": [
           0,
           0.0065,
           0.0151,
           0.0216,
           0.0222,
           0.0224,
           0.029,
           0.0342,
           0.0364,
           0.0406,
           0.0439,
           0.0445,
           0.0467,
           0.0473,
           0.0513,
           0.054,
           0.0552,
           0.0567,
           0.0601,
           0.061,
           0.0621,
           0.0723,
           0.0774,
           0.0924,
           0.0946,
           0.0955,
           0.111,
           0.1189,
           0.1371,
           0.1493
          ],
          "coloraxis": "coloraxis",
          "pattern": {
           "shape": ""
          }
         },
         "name": "",
         "offsetgroup": "",
         "orientation": "h",
         "showlegend": false,
         "text": [
          0,
          0.0065,
          0.0151,
          0.0216,
          0.0222,
          0.0224,
          0.029,
          0.0342,
          0.0364,
          0.0406,
          0.0439,
          0.0445,
          0.0467,
          0.0473,
          0.0513,
          0.054,
          0.0552,
          0.0567,
          0.0601,
          0.061,
          0.0621,
          0.0723,
          0.0774,
          0.0924,
          0.0946,
          0.0955,
          0.111,
          0.1189,
          0.1371,
          0.1493
         ],
         "textposition": "auto",
         "type": "bar",
         "x": [
          0,
          0.0065,
          0.0151,
          0.0216,
          0.0222,
          0.0224,
          0.029,
          0.0342,
          0.0364,
          0.0406,
          0.0439,
          0.0445,
          0.0467,
          0.0473,
          0.0513,
          0.054,
          0.0552,
          0.0567,
          0.0601,
          0.061,
          0.0621,
          0.0723,
          0.0774,
          0.0924,
          0.0946,
          0.0955,
          0.111,
          0.1189,
          0.1371,
          0.1493
         ],
         "xaxis": "x",
         "y": [
          "BELAGAVI",
          "DAVANAGERE",
          "UDUPI",
          "HASSAN",
          "RAMANAGARA",
          "UTTARA KANNADA",
          "HAVERI",
          "GADAG",
          "CHITRADURGA",
          "TUMAKURU",
          "DHARAWAD",
          "CHAMARAJANAGAR",
          "VIJAYAPURA",
          "KALABURAGI",
          "SHIVAMOGGA",
          "VIJAYANAGARA",
          "KOPPAL",
          "MYSURU",
          "RAICHUR",
          "MANDYA",
          "BALLARI",
          "CHIKKABALLAPURA",
          "BENGALURU(R)",
          "BAGALKOT",
          "CHIKKAMAGALURU",
          "BIDAR",
          "KOLAR",
          "YADGIRI",
          "KODAGU",
          "BENGALURU"
         ],
         "yaxis": "y"
        }
       ],
       "layout": {
        "annotations": [
         {
          "font": {
           "color": "black",
           "size": 13
          },
          "showarrow": false,
          "text": "Avg: 0.0586",
          "x": 0.05864333333333333,
          "xanchor": "left",
          "y": 29.7
         }
        ],
        "barmode": "relative",
        "coloraxis": {
         "colorbar": {
          "title": {
           "text": "SI Score"
          }
         },
         "colorscale": [
          [
           0,
           "rgb(207, 89, 126)"
          ],
          [
           0.16666666666666666,
           "rgb(232, 132, 113)"
          ],
          [
           0.3333333333333333,
           "rgb(238, 180, 121)"
          ],
          [
           0.5,
           "rgb(233, 226, 156)"
          ],
          [
           0.6666666666666666,
           "rgb(156, 203, 134)"
          ],
          [
           0.8333333333333334,
           "rgb(57, 177, 133)"
          ],
          [
           1,
           "rgb(0, 147, 146)"
          ]
         ]
        },
        "height": 800,
        "legend": {
         "tracegroupgap": 0
        },
        "shapes": [
         {
          "line": {
           "color": "grey",
           "dash": "dash"
          },
          "type": "line",
          "x0": 0.05864333333333333,
          "x1": 0.05864333333333333,
          "xref": "x",
          "y0": 0,
          "y1": 30,
          "yref": "y"
         }
        ],
        "template": {
         "data": {
          "bar": [
           {
            "error_x": {
             "color": "#2a3f5f"
            },
            "error_y": {
             "color": "#2a3f5f"
            },
            "marker": {
             "line": {
              "color": "#E5ECF6",
              "width": 0.5
             },
             "pattern": {
              "fillmode": "overlay",
              "size": 10,
              "solidity": 0.2
             }
            },
            "type": "bar"
           }
          ],
          "barpolar": [
           {
            "marker": {
             "line": {
              "color": "#E5ECF6",
              "width": 0.5
             },
             "pattern": {
              "fillmode": "overlay",
              "size": 10,
              "solidity": 0.2
             }
            },
            "type": "barpolar"
           }
          ],
          "carpet": [
           {
            "aaxis": {
             "endlinecolor": "#2a3f5f",
             "gridcolor": "white",
             "linecolor": "white",
             "minorgridcolor": "white",
             "startlinecolor": "#2a3f5f"
            },
            "baxis": {
             "endlinecolor": "#2a3f5f",
             "gridcolor": "white",
             "linecolor": "white",
             "minorgridcolor": "white",
             "startlinecolor": "#2a3f5f"
            },
            "type": "carpet"
           }
          ],
          "choropleth": [
           {
            "colorbar": {
             "outlinewidth": 0,
             "ticks": ""
            },
            "type": "choropleth"
           }
          ],
          "contour": [
           {
            "colorbar": {
             "outlinewidth": 0,
             "ticks": ""
            },
            "colorscale": [
             [
              0,
              "#0d0887"
             ],
             [
              0.1111111111111111,
              "#46039f"
             ],
             [
              0.2222222222222222,
              "#7201a8"
             ],
             [
              0.3333333333333333,
              "#9c179e"
             ],
             [
              0.4444444444444444,
              "#bd3786"
             ],
             [
              0.5555555555555556,
              "#d8576b"
             ],
             [
              0.6666666666666666,
              "#ed7953"
             ],
             [
              0.7777777777777778,
              "#fb9f3a"
             ],
             [
              0.8888888888888888,
              "#fdca26"
             ],
             [
              1,
              "#f0f921"
             ]
            ],
            "type": "contour"
           }
          ],
          "contourcarpet": [
           {
            "colorbar": {
             "outlinewidth": 0,
             "ticks": ""
            },
            "type": "contourcarpet"
           }
          ],
          "heatmap": [
           {
            "colorbar": {
             "outlinewidth": 0,
             "ticks": ""
            },
            "colorscale": [
             [
              0,
              "#0d0887"
             ],
             [
              0.1111111111111111,
              "#46039f"
             ],
             [
              0.2222222222222222,
              "#7201a8"
             ],
             [
              0.3333333333333333,
              "#9c179e"
             ],
             [
              0.4444444444444444,
              "#bd3786"
             ],
             [
              0.5555555555555556,
              "#d8576b"
             ],
             [
              0.6666666666666666,
              "#ed7953"
             ],
             [
              0.7777777777777778,
              "#fb9f3a"
             ],
             [
              0.8888888888888888,
              "#fdca26"
             ],
             [
              1,
              "#f0f921"
             ]
            ],
            "type": "heatmap"
           }
          ],
          "heatmapgl": [
           {
            "colorbar": {
             "outlinewidth": 0,
             "ticks": ""
            },
            "colorscale": [
             [
              0,
              "#0d0887"
             ],
             [
              0.1111111111111111,
              "#46039f"
             ],
             [
              0.2222222222222222,
              "#7201a8"
             ],
             [
              0.3333333333333333,
              "#9c179e"
             ],
             [
              0.4444444444444444,
              "#bd3786"
             ],
             [
              0.5555555555555556,
              "#d8576b"
             ],
             [
              0.6666666666666666,
              "#ed7953"
             ],
             [
              0.7777777777777778,
              "#fb9f3a"
             ],
             [
              0.8888888888888888,
              "#fdca26"
             ],
             [
              1,
              "#f0f921"
             ]
            ],
            "type": "heatmapgl"
           }
          ],
          "histogram": [
           {
            "marker": {
             "pattern": {
              "fillmode": "overlay",
              "size": 10,
              "solidity": 0.2
             }
            },
            "type": "histogram"
           }
          ],
          "histogram2d": [
           {
            "colorbar": {
             "outlinewidth": 0,
             "ticks": ""
            },
            "colorscale": [
             [
              0,
              "#0d0887"
             ],
             [
              0.1111111111111111,
              "#46039f"
             ],
             [
              0.2222222222222222,
              "#7201a8"
             ],
             [
              0.3333333333333333,
              "#9c179e"
             ],
             [
              0.4444444444444444,
              "#bd3786"
             ],
             [
              0.5555555555555556,
              "#d8576b"
             ],
             [
              0.6666666666666666,
              "#ed7953"
             ],
             [
              0.7777777777777778,
              "#fb9f3a"
             ],
             [
              0.8888888888888888,
              "#fdca26"
             ],
             [
              1,
              "#f0f921"
             ]
            ],
            "type": "histogram2d"
           }
          ],
          "histogram2dcontour": [
           {
            "colorbar": {
             "outlinewidth": 0,
             "ticks": ""
            },
            "colorscale": [
             [
              0,
              "#0d0887"
             ],
             [
              0.1111111111111111,
              "#46039f"
             ],
             [
              0.2222222222222222,
              "#7201a8"
             ],
             [
              0.3333333333333333,
              "#9c179e"
             ],
             [
              0.4444444444444444,
              "#bd3786"
             ],
             [
              0.5555555555555556,
              "#d8576b"
             ],
             [
              0.6666666666666666,
              "#ed7953"
             ],
             [
              0.7777777777777778,
              "#fb9f3a"
             ],
             [
              0.8888888888888888,
              "#fdca26"
             ],
             [
              1,
              "#f0f921"
             ]
            ],
            "type": "histogram2dcontour"
           }
          ],
          "mesh3d": [
           {
            "colorbar": {
             "outlinewidth": 0,
             "ticks": ""
            },
            "type": "mesh3d"
           }
          ],
          "parcoords": [
           {
            "line": {
             "colorbar": {
              "outlinewidth": 0,
              "ticks": ""
             }
            },
            "type": "parcoords"
           }
          ],
          "pie": [
           {
            "automargin": true,
            "type": "pie"
           }
          ],
          "scatter": [
           {
            "fillpattern": {
             "fillmode": "overlay",
             "size": 10,
             "solidity": 0.2
            },
            "type": "scatter"
           }
          ],
          "scatter3d": [
           {
            "line": {
             "colorbar": {
              "outlinewidth": 0,
              "ticks": ""
             }
            },
            "marker": {
             "colorbar": {
              "outlinewidth": 0,
              "ticks": ""
             }
            },
            "type": "scatter3d"
           }
          ],
          "scattercarpet": [
           {
            "marker": {
             "colorbar": {
              "outlinewidth": 0,
              "ticks": ""
             }
            },
            "type": "scattercarpet"
           }
          ],
          "scattergeo": [
           {
            "marker": {
             "colorbar": {
              "outlinewidth": 0,
              "ticks": ""
             }
            },
            "type": "scattergeo"
           }
          ],
          "scattergl": [
           {
            "marker": {
             "colorbar": {
              "outlinewidth": 0,
              "ticks": ""
             }
            },
            "type": "scattergl"
           }
          ],
          "scattermapbox": [
           {
            "marker": {
             "colorbar": {
              "outlinewidth": 0,
              "ticks": ""
             }
            },
            "type": "scattermapbox"
           }
          ],
          "scatterpolar": [
           {
            "marker": {
             "colorbar": {
              "outlinewidth": 0,
              "ticks": ""
             }
            },
            "type": "scatterpolar"
           }
          ],
          "scatterpolargl": [
           {
            "marker": {
             "colorbar": {
              "outlinewidth": 0,
              "ticks": ""
             }
            },
            "type": "scatterpolargl"
           }
          ],
          "scatterternary": [
           {
            "marker": {
             "colorbar": {
              "outlinewidth": 0,
              "ticks": ""
             }
            },
            "type": "scatterternary"
           }
          ],
          "surface": [
           {
            "colorbar": {
             "outlinewidth": 0,
             "ticks": ""
            },
            "colorscale": [
             [
              0,
              "#0d0887"
             ],
             [
              0.1111111111111111,
              "#46039f"
             ],
             [
              0.2222222222222222,
              "#7201a8"
             ],
             [
              0.3333333333333333,
              "#9c179e"
             ],
             [
              0.4444444444444444,
              "#bd3786"
             ],
             [
              0.5555555555555556,
              "#d8576b"
             ],
             [
              0.6666666666666666,
              "#ed7953"
             ],
             [
              0.7777777777777778,
              "#fb9f3a"
             ],
             [
              0.8888888888888888,
              "#fdca26"
             ],
             [
              1,
              "#f0f921"
             ]
            ],
            "type": "surface"
           }
          ],
          "table": [
           {
            "cells": {
             "fill": {
              "color": "#EBF0F8"
             },
             "line": {
              "color": "white"
             }
            },
            "header": {
             "fill": {
              "color": "#C8D4E3"
             },
             "line": {
              "color": "white"
             }
            },
            "type": "table"
           }
          ]
         },
         "layout": {
          "annotationdefaults": {
           "arrowcolor": "#2a3f5f",
           "arrowhead": 0,
           "arrowwidth": 1
          },
          "autotypenumbers": "strict",
          "coloraxis": {
           "colorbar": {
            "outlinewidth": 0,
            "ticks": ""
           }
          },
          "colorscale": {
           "diverging": [
            [
             0,
             "#8e0152"
            ],
            [
             0.1,
             "#c51b7d"
            ],
            [
             0.2,
             "#de77ae"
            ],
            [
             0.3,
             "#f1b6da"
            ],
            [
             0.4,
             "#fde0ef"
            ],
            [
             0.5,
             "#f7f7f7"
            ],
            [
             0.6,
             "#e6f5d0"
            ],
            [
             0.7,
             "#b8e186"
            ],
            [
             0.8,
             "#7fbc41"
            ],
            [
             0.9,
             "#4d9221"
            ],
            [
             1,
             "#276419"
            ]
           ],
           "sequential": [
            [
             0,
             "#0d0887"
            ],
            [
             0.1111111111111111,
             "#46039f"
            ],
            [
             0.2222222222222222,
             "#7201a8"
            ],
            [
             0.3333333333333333,
             "#9c179e"
            ],
            [
             0.4444444444444444,
             "#bd3786"
            ],
            [
             0.5555555555555556,
             "#d8576b"
            ],
            [
             0.6666666666666666,
             "#ed7953"
            ],
            [
             0.7777777777777778,
             "#fb9f3a"
            ],
            [
             0.8888888888888888,
             "#fdca26"
            ],
            [
             1,
             "#f0f921"
            ]
           ],
           "sequentialminus": [
            [
             0,
             "#0d0887"
            ],
            [
             0.1111111111111111,
             "#46039f"
            ],
            [
             0.2222222222222222,
             "#7201a8"
            ],
            [
             0.3333333333333333,
             "#9c179e"
            ],
            [
             0.4444444444444444,
             "#bd3786"
            ],
            [
             0.5555555555555556,
             "#d8576b"
            ],
            [
             0.6666666666666666,
             "#ed7953"
            ],
            [
             0.7777777777777778,
             "#fb9f3a"
            ],
            [
             0.8888888888888888,
             "#fdca26"
            ],
            [
             1,
             "#f0f921"
            ]
           ]
          },
          "colorway": [
           "#636efa",
           "#EF553B",
           "#00cc96",
           "#ab63fa",
           "#FFA15A",
           "#19d3f3",
           "#FF6692",
           "#B6E880",
           "#FF97FF",
           "#FECB52"
          ],
          "font": {
           "color": "#2a3f5f"
          },
          "geo": {
           "bgcolor": "white",
           "lakecolor": "white",
           "landcolor": "#E5ECF6",
           "showlakes": true,
           "showland": true,
           "subunitcolor": "white"
          },
          "hoverlabel": {
           "align": "left"
          },
          "hovermode": "closest",
          "mapbox": {
           "style": "light"
          },
          "paper_bgcolor": "white",
          "plot_bgcolor": "#E5ECF6",
          "polar": {
           "angularaxis": {
            "gridcolor": "white",
            "linecolor": "white",
            "ticks": ""
           },
           "bgcolor": "#E5ECF6",
           "radialaxis": {
            "gridcolor": "white",
            "linecolor": "white",
            "ticks": ""
           }
          },
          "scene": {
           "xaxis": {
            "backgroundcolor": "#E5ECF6",
            "gridcolor": "white",
            "gridwidth": 2,
            "linecolor": "white",
            "showbackground": true,
            "ticks": "",
            "zerolinecolor": "white"
           },
           "yaxis": {
            "backgroundcolor": "#E5ECF6",
            "gridcolor": "white",
            "gridwidth": 2,
            "linecolor": "white",
            "showbackground": true,
            "ticks": "",
            "zerolinecolor": "white"
           },
           "zaxis": {
            "backgroundcolor": "#E5ECF6",
            "gridcolor": "white",
            "gridwidth": 2,
            "linecolor": "white",
            "showbackground": true,
            "ticks": "",
            "zerolinecolor": "white"
           }
          },
          "shapedefaults": {
           "line": {
            "color": "#2a3f5f"
           }
          },
          "ternary": {
           "aaxis": {
            "gridcolor": "white",
            "linecolor": "white",
            "ticks": ""
           },
           "baxis": {
            "gridcolor": "white",
            "linecolor": "white",
            "ticks": ""
           },
           "bgcolor": "#E5ECF6",
           "caxis": {
            "gridcolor": "white",
            "linecolor": "white",
            "ticks": ""
           }
          },
          "title": {
           "x": 0.05
          },
          "xaxis": {
           "automargin": true,
           "gridcolor": "white",
           "linecolor": "white",
           "ticks": "",
           "title": {
            "standoff": 15
           },
           "zerolinecolor": "white",
           "zerolinewidth": 2
          },
          "yaxis": {
           "automargin": true,
           "gridcolor": "white",
           "linecolor": "white",
           "ticks": "",
           "title": {
            "standoff": 15
           },
           "zerolinecolor": "white",
           "zerolinewidth": 2
          }
         }
        },
        "title": {
         "text": "Ranked Bar Chart of SI Score by District for NPK +20%",
         "x": 0.5
        },
        "width": 700,
        "xaxis": {
         "anchor": "y",
         "domain": [
          0,
          1
         ],
         "title": {
          "text": "Sustainable Intervention Score"
         }
        },
        "yaxis": {
         "anchor": "x",
         "domain": [
          0,
          1
         ],
         "title": {
          "text": "District"
         }
        }
       }
      }
     },
     "metadata": {},
     "output_type": "display_data"
    }
   ],
   "source": [
    "import plotly.express as px\n",
    "\n",
    "# Calculate the average of SI_Score\n",
    "avg_si_score = ranked_df['SI_Score'].mean()\n",
    "\n",
    "# Create the bar chart\n",
    "fig = px.bar(\n",
    "    ranked_df,\n",
    "    x='SI_Score',        \n",
    "    y='node',            \n",
    "    text='SI_Score',     \n",
    "    title='Ranked Bar Chart of SI Score by District for NPK +20%',\n",
    "    labels={'node': 'District', 'SI_Score': 'SI Score'},\n",
    "    color='SI_Score',    \n",
    "    color_continuous_scale='Temps_r'\n",
    ")\n",
    "\n",
    "# Add a vertical line to indicate the average SI Score\n",
    "fig.add_shape(\n",
    "    type='line',\n",
    "    x0=avg_si_score,\n",
    "    y0=0,\n",
    "    x1=avg_si_score,\n",
    "    y1=len(ranked_df['node']),\n",
    "    line=dict(color='grey', dash='dash'),\n",
    "    xref='x',\n",
    "    yref='y'\n",
    ")\n",
    "\n",
    "# Add a label to the average line\n",
    "fig.add_annotation(\n",
    "    x=avg_si_score,\n",
    "    y=len(ranked_df['node']) - 0.3,\n",
    "    text=f'Avg: {avg_si_score:.4f}',\n",
    "    showarrow=False,\n",
    "    font=dict(size=13, color='black'),\n",
    "    xanchor='left'\n",
    ")\n",
    "\n",
    "# Update layout\n",
    "fig.update_layout(\n",
    "    width=700,\n",
    "    height=800,\n",
    "    xaxis_title='Sustainable Intervention Score',\n",
    "    yaxis_title='District',\n",
    "    title_x=0.5\n",
    ")\n",
    "\n",
    "fig.show()"
   ]
  },
  {
   "cell_type": "code",
   "execution_count": 276,
   "metadata": {},
   "outputs": [
    {
     "data": {
      "application/vnd.plotly.v1+json": {
       "config": {
        "plotlyServerURL": "https://plot.ly"
       },
       "data": [
        {
         "name": "Stability",
         "orientation": "h",
         "text": [
          0.9612,
          0.9867,
          0.9104,
          0.8039,
          0.1342,
          0.8473,
          0.8527,
          0.9899,
          0.8758,
          0.6863,
          0.7768,
          0.8367,
          0.3779,
          0.7074,
          0.7451,
          1,
          0.8069,
          0,
          0.9034,
          0.9407,
          0.5624,
          0.7515,
          0.4934,
          0.4677,
          0.7062,
          0.9877,
          0.8688,
          0.8377,
          0.6599,
          0.8597,
          0.6148
         ],
         "textfont": {
          "size": 15
         },
         "textposition": "outside",
         "type": "bar",
         "x": [
          0.9612211455606586,
          0.9867310453006398,
          0.9104172686751727,
          0.8039348744851456,
          0.13420103715538778,
          0.8473421639149912,
          0.8526883039378912,
          0.989850637935138,
          0.8758168785597346,
          0.6862704775538471,
          0.7768139167052976,
          0.836690297090559,
          0.3778925067997333,
          0.7073830562027654,
          0.7451274917288429,
          1,
          0.8069276097090049,
          0,
          0.9033909530619694,
          0.9406742835152748,
          0.5623697346011661,
          0.7515445882034973,
          0.49340554187939134,
          0.467687970951546,
          0.7062042535172999,
          0.987701669932987,
          0.8688105965981596,
          0.8376952107424877,
          0.6599281211893526,
          0.8597472379025456,
          0.6147579169337662
         ],
         "y": [
          "BENGALURU",
          "BENGALURU(R)",
          "RAMANAGARA",
          "CHITRADURGA",
          "DAVANAGERE",
          "KOLAR",
          "CHIKKABALLAPURA",
          "SHIVAMOGGA",
          "TUMAKURU",
          "CHIKKAMAGALURU",
          "DAKSHINA KANNADA",
          "UDUPI",
          "HASSAN",
          "KODAGU",
          "MANDYA",
          "MYSURU",
          "CHAMARAJANAGAR",
          "BELAGAVI",
          "VIJAYAPURA",
          "BAGALKOT",
          "DHARAWAD",
          "GADAG",
          "HAVERI",
          "UTTARA KANNADA",
          "BALLARI",
          "BIDAR",
          "KALABURAGI",
          "YADGIRI",
          "RAICHUR",
          "KOPPAL",
          "VIJAYANAGARA"
         ]
        },
        {
         "name": "Maize Impact",
         "orientation": "h",
         "text": [
          0.1778,
          0.0833,
          0.0248,
          0.0469,
          0.0506,
          0.1467,
          0.0908,
          0.0538,
          0.048,
          0.1554,
          null,
          0.0183,
          0.0596,
          0.2295,
          0.0873,
          0.0592,
          0.0576,
          0.0979,
          0.0538,
          0.1065,
          0.0832,
          0.0472,
          0.0614,
          0.0497,
          0.0944,
          0.1043,
          0.0568,
          0.1609,
          0.0982,
          0.0676,
          0.0944
         ],
         "textfont": {
          "size": 15
         },
         "textposition": "outside",
         "type": "bar",
         "x": [
          0.17783952761375477,
          0.08334311814573891,
          0.024784688995215312,
          0.046857247908815146,
          0.05061966762363026,
          0.14667424673109722,
          0.09082291380307325,
          0.05381138205639821,
          0.048005024825028414,
          0.1553958241650775,
          null,
          0.01834862385321101,
          0.0596429865513555,
          0.22950728195971207,
          0.08732655903440449,
          0.05918894089855199,
          0.057618706300799266,
          0.09786773655501961,
          0.053815938884887796,
          0.10653995446942578,
          0.08315863803870512,
          0.047192293249371735,
          0.06143361218127777,
          0.04973430753902358,
          0.09441107213225047,
          0.10426370476531709,
          0.05676766295055058,
          0.1608679386457164,
          0.09820193637621023,
          0.0675682778630448,
          0.09441107213225047
         ],
         "y": [
          "BENGALURU",
          "BENGALURU(R)",
          "RAMANAGARA",
          "CHITRADURGA",
          "DAVANAGERE",
          "KOLAR",
          "CHIKKABALLAPURA",
          "SHIVAMOGGA",
          "TUMAKURU",
          "CHIKKAMAGALURU",
          "DAKSHINA KANNADA",
          "UDUPI",
          "HASSAN",
          "KODAGU",
          "MANDYA",
          "MYSURU",
          "CHAMARAJANAGAR",
          "BELAGAVI",
          "VIJAYAPURA",
          "BAGALKOT",
          "DHARAWAD",
          "GADAG",
          "HAVERI",
          "UTTARA KANNADA",
          "BALLARI",
          "BIDAR",
          "KALABURAGI",
          "YADGIRI",
          "RAICHUR",
          "KOPPAL",
          "VIJAYANAGARA"
         ]
        },
        {
         "name": "Groundnut Impact",
         "orientation": "h",
         "text": [
          0.1268,
          0.0583,
          0.018,
          0.0341,
          0.0368,
          0.1067,
          0.066,
          0.0363,
          0.035,
          0.1131,
          null,
          0.0179,
          0.0422,
          0.1556,
          0.0627,
          0.0429,
          0.042,
          0.0713,
          0.0392,
          0.0776,
          0.0605,
          0.0344,
          0.0447,
          0.0361,
          0.0688,
          0.0728,
          0.0411,
          0.1174,
          0.0724,
          0.0492,
          0.0688
         ],
         "textfont": {
          "size": 15
         },
         "textposition": "outside",
         "type": "bar",
         "x": [
          0.1267605633802817,
          0.05825242718446602,
          0.018012422360248446,
          0.034123222748815164,
          0.03682497589199614,
          0.10671256454388985,
          0.06604038137969714,
          0.036290322580645164,
          0.034951799323676376,
          0.11307239703248913,
          null,
          0.017940932928512284,
          0.04222648752399232,
          0.15555555555555556,
          0.06268364348677767,
          0.04285714285714286,
          0.04195331002593888,
          0.07126233240576778,
          0.03919645451903517,
          0.07758214117277158,
          0.0605345169515535,
          0.03437380314055917,
          0.04473209896772079,
          0.03607843137254902,
          0.06877084377792794,
          0.07279693486590039,
          0.04110468850353243,
          0.11741689199936377,
          0.07244602715334965,
          0.04919618437729304,
          0.06877084377792794
         ],
         "y": [
          "BENGALURU",
          "BENGALURU(R)",
          "RAMANAGARA",
          "CHITRADURGA",
          "DAVANAGERE",
          "KOLAR",
          "CHIKKABALLAPURA",
          "SHIVAMOGGA",
          "TUMAKURU",
          "CHIKKAMAGALURU",
          "DAKSHINA KANNADA",
          "UDUPI",
          "HASSAN",
          "KODAGU",
          "MANDYA",
          "MYSURU",
          "CHAMARAJANAGAR",
          "BELAGAVI",
          "VIJAYAPURA",
          "BAGALKOT",
          "DHARAWAD",
          "GADAG",
          "HAVERI",
          "UTTARA KANNADA",
          "BALLARI",
          "BIDAR",
          "KALABURAGI",
          "YADGIRI",
          "RAICHUR",
          "KOPPAL",
          "VIJAYANAGARA"
         ]
        }
       ],
       "layout": {
        "barmode": "group",
        "height": 1200,
        "template": {
         "data": {
          "bar": [
           {
            "error_x": {
             "color": "#2a3f5f"
            },
            "error_y": {
             "color": "#2a3f5f"
            },
            "marker": {
             "line": {
              "color": "#E5ECF6",
              "width": 0.5
             },
             "pattern": {
              "fillmode": "overlay",
              "size": 10,
              "solidity": 0.2
             }
            },
            "type": "bar"
           }
          ],
          "barpolar": [
           {
            "marker": {
             "line": {
              "color": "#E5ECF6",
              "width": 0.5
             },
             "pattern": {
              "fillmode": "overlay",
              "size": 10,
              "solidity": 0.2
             }
            },
            "type": "barpolar"
           }
          ],
          "carpet": [
           {
            "aaxis": {
             "endlinecolor": "#2a3f5f",
             "gridcolor": "white",
             "linecolor": "white",
             "minorgridcolor": "white",
             "startlinecolor": "#2a3f5f"
            },
            "baxis": {
             "endlinecolor": "#2a3f5f",
             "gridcolor": "white",
             "linecolor": "white",
             "minorgridcolor": "white",
             "startlinecolor": "#2a3f5f"
            },
            "type": "carpet"
           }
          ],
          "choropleth": [
           {
            "colorbar": {
             "outlinewidth": 0,
             "ticks": ""
            },
            "type": "choropleth"
           }
          ],
          "contour": [
           {
            "colorbar": {
             "outlinewidth": 0,
             "ticks": ""
            },
            "colorscale": [
             [
              0,
              "#0d0887"
             ],
             [
              0.1111111111111111,
              "#46039f"
             ],
             [
              0.2222222222222222,
              "#7201a8"
             ],
             [
              0.3333333333333333,
              "#9c179e"
             ],
             [
              0.4444444444444444,
              "#bd3786"
             ],
             [
              0.5555555555555556,
              "#d8576b"
             ],
             [
              0.6666666666666666,
              "#ed7953"
             ],
             [
              0.7777777777777778,
              "#fb9f3a"
             ],
             [
              0.8888888888888888,
              "#fdca26"
             ],
             [
              1,
              "#f0f921"
             ]
            ],
            "type": "contour"
           }
          ],
          "contourcarpet": [
           {
            "colorbar": {
             "outlinewidth": 0,
             "ticks": ""
            },
            "type": "contourcarpet"
           }
          ],
          "heatmap": [
           {
            "colorbar": {
             "outlinewidth": 0,
             "ticks": ""
            },
            "colorscale": [
             [
              0,
              "#0d0887"
             ],
             [
              0.1111111111111111,
              "#46039f"
             ],
             [
              0.2222222222222222,
              "#7201a8"
             ],
             [
              0.3333333333333333,
              "#9c179e"
             ],
             [
              0.4444444444444444,
              "#bd3786"
             ],
             [
              0.5555555555555556,
              "#d8576b"
             ],
             [
              0.6666666666666666,
              "#ed7953"
             ],
             [
              0.7777777777777778,
              "#fb9f3a"
             ],
             [
              0.8888888888888888,
              "#fdca26"
             ],
             [
              1,
              "#f0f921"
             ]
            ],
            "type": "heatmap"
           }
          ],
          "heatmapgl": [
           {
            "colorbar": {
             "outlinewidth": 0,
             "ticks": ""
            },
            "colorscale": [
             [
              0,
              "#0d0887"
             ],
             [
              0.1111111111111111,
              "#46039f"
             ],
             [
              0.2222222222222222,
              "#7201a8"
             ],
             [
              0.3333333333333333,
              "#9c179e"
             ],
             [
              0.4444444444444444,
              "#bd3786"
             ],
             [
              0.5555555555555556,
              "#d8576b"
             ],
             [
              0.6666666666666666,
              "#ed7953"
             ],
             [
              0.7777777777777778,
              "#fb9f3a"
             ],
             [
              0.8888888888888888,
              "#fdca26"
             ],
             [
              1,
              "#f0f921"
             ]
            ],
            "type": "heatmapgl"
           }
          ],
          "histogram": [
           {
            "marker": {
             "pattern": {
              "fillmode": "overlay",
              "size": 10,
              "solidity": 0.2
             }
            },
            "type": "histogram"
           }
          ],
          "histogram2d": [
           {
            "colorbar": {
             "outlinewidth": 0,
             "ticks": ""
            },
            "colorscale": [
             [
              0,
              "#0d0887"
             ],
             [
              0.1111111111111111,
              "#46039f"
             ],
             [
              0.2222222222222222,
              "#7201a8"
             ],
             [
              0.3333333333333333,
              "#9c179e"
             ],
             [
              0.4444444444444444,
              "#bd3786"
             ],
             [
              0.5555555555555556,
              "#d8576b"
             ],
             [
              0.6666666666666666,
              "#ed7953"
             ],
             [
              0.7777777777777778,
              "#fb9f3a"
             ],
             [
              0.8888888888888888,
              "#fdca26"
             ],
             [
              1,
              "#f0f921"
             ]
            ],
            "type": "histogram2d"
           }
          ],
          "histogram2dcontour": [
           {
            "colorbar": {
             "outlinewidth": 0,
             "ticks": ""
            },
            "colorscale": [
             [
              0,
              "#0d0887"
             ],
             [
              0.1111111111111111,
              "#46039f"
             ],
             [
              0.2222222222222222,
              "#7201a8"
             ],
             [
              0.3333333333333333,
              "#9c179e"
             ],
             [
              0.4444444444444444,
              "#bd3786"
             ],
             [
              0.5555555555555556,
              "#d8576b"
             ],
             [
              0.6666666666666666,
              "#ed7953"
             ],
             [
              0.7777777777777778,
              "#fb9f3a"
             ],
             [
              0.8888888888888888,
              "#fdca26"
             ],
             [
              1,
              "#f0f921"
             ]
            ],
            "type": "histogram2dcontour"
           }
          ],
          "mesh3d": [
           {
            "colorbar": {
             "outlinewidth": 0,
             "ticks": ""
            },
            "type": "mesh3d"
           }
          ],
          "parcoords": [
           {
            "line": {
             "colorbar": {
              "outlinewidth": 0,
              "ticks": ""
             }
            },
            "type": "parcoords"
           }
          ],
          "pie": [
           {
            "automargin": true,
            "type": "pie"
           }
          ],
          "scatter": [
           {
            "fillpattern": {
             "fillmode": "overlay",
             "size": 10,
             "solidity": 0.2
            },
            "type": "scatter"
           }
          ],
          "scatter3d": [
           {
            "line": {
             "colorbar": {
              "outlinewidth": 0,
              "ticks": ""
             }
            },
            "marker": {
             "colorbar": {
              "outlinewidth": 0,
              "ticks": ""
             }
            },
            "type": "scatter3d"
           }
          ],
          "scattercarpet": [
           {
            "marker": {
             "colorbar": {
              "outlinewidth": 0,
              "ticks": ""
             }
            },
            "type": "scattercarpet"
           }
          ],
          "scattergeo": [
           {
            "marker": {
             "colorbar": {
              "outlinewidth": 0,
              "ticks": ""
             }
            },
            "type": "scattergeo"
           }
          ],
          "scattergl": [
           {
            "marker": {
             "colorbar": {
              "outlinewidth": 0,
              "ticks": ""
             }
            },
            "type": "scattergl"
           }
          ],
          "scattermapbox": [
           {
            "marker": {
             "colorbar": {
              "outlinewidth": 0,
              "ticks": ""
             }
            },
            "type": "scattermapbox"
           }
          ],
          "scatterpolar": [
           {
            "marker": {
             "colorbar": {
              "outlinewidth": 0,
              "ticks": ""
             }
            },
            "type": "scatterpolar"
           }
          ],
          "scatterpolargl": [
           {
            "marker": {
             "colorbar": {
              "outlinewidth": 0,
              "ticks": ""
             }
            },
            "type": "scatterpolargl"
           }
          ],
          "scatterternary": [
           {
            "marker": {
             "colorbar": {
              "outlinewidth": 0,
              "ticks": ""
             }
            },
            "type": "scatterternary"
           }
          ],
          "surface": [
           {
            "colorbar": {
             "outlinewidth": 0,
             "ticks": ""
            },
            "colorscale": [
             [
              0,
              "#0d0887"
             ],
             [
              0.1111111111111111,
              "#46039f"
             ],
             [
              0.2222222222222222,
              "#7201a8"
             ],
             [
              0.3333333333333333,
              "#9c179e"
             ],
             [
              0.4444444444444444,
              "#bd3786"
             ],
             [
              0.5555555555555556,
              "#d8576b"
             ],
             [
              0.6666666666666666,
              "#ed7953"
             ],
             [
              0.7777777777777778,
              "#fb9f3a"
             ],
             [
              0.8888888888888888,
              "#fdca26"
             ],
             [
              1,
              "#f0f921"
             ]
            ],
            "type": "surface"
           }
          ],
          "table": [
           {
            "cells": {
             "fill": {
              "color": "#EBF0F8"
             },
             "line": {
              "color": "white"
             }
            },
            "header": {
             "fill": {
              "color": "#C8D4E3"
             },
             "line": {
              "color": "white"
             }
            },
            "type": "table"
           }
          ]
         },
         "layout": {
          "annotationdefaults": {
           "arrowcolor": "#2a3f5f",
           "arrowhead": 0,
           "arrowwidth": 1
          },
          "autotypenumbers": "strict",
          "coloraxis": {
           "colorbar": {
            "outlinewidth": 0,
            "ticks": ""
           }
          },
          "colorscale": {
           "diverging": [
            [
             0,
             "#8e0152"
            ],
            [
             0.1,
             "#c51b7d"
            ],
            [
             0.2,
             "#de77ae"
            ],
            [
             0.3,
             "#f1b6da"
            ],
            [
             0.4,
             "#fde0ef"
            ],
            [
             0.5,
             "#f7f7f7"
            ],
            [
             0.6,
             "#e6f5d0"
            ],
            [
             0.7,
             "#b8e186"
            ],
            [
             0.8,
             "#7fbc41"
            ],
            [
             0.9,
             "#4d9221"
            ],
            [
             1,
             "#276419"
            ]
           ],
           "sequential": [
            [
             0,
             "#0d0887"
            ],
            [
             0.1111111111111111,
             "#46039f"
            ],
            [
             0.2222222222222222,
             "#7201a8"
            ],
            [
             0.3333333333333333,
             "#9c179e"
            ],
            [
             0.4444444444444444,
             "#bd3786"
            ],
            [
             0.5555555555555556,
             "#d8576b"
            ],
            [
             0.6666666666666666,
             "#ed7953"
            ],
            [
             0.7777777777777778,
             "#fb9f3a"
            ],
            [
             0.8888888888888888,
             "#fdca26"
            ],
            [
             1,
             "#f0f921"
            ]
           ],
           "sequentialminus": [
            [
             0,
             "#0d0887"
            ],
            [
             0.1111111111111111,
             "#46039f"
            ],
            [
             0.2222222222222222,
             "#7201a8"
            ],
            [
             0.3333333333333333,
             "#9c179e"
            ],
            [
             0.4444444444444444,
             "#bd3786"
            ],
            [
             0.5555555555555556,
             "#d8576b"
            ],
            [
             0.6666666666666666,
             "#ed7953"
            ],
            [
             0.7777777777777778,
             "#fb9f3a"
            ],
            [
             0.8888888888888888,
             "#fdca26"
            ],
            [
             1,
             "#f0f921"
            ]
           ]
          },
          "colorway": [
           "#636efa",
           "#EF553B",
           "#00cc96",
           "#ab63fa",
           "#FFA15A",
           "#19d3f3",
           "#FF6692",
           "#B6E880",
           "#FF97FF",
           "#FECB52"
          ],
          "font": {
           "color": "#2a3f5f"
          },
          "geo": {
           "bgcolor": "white",
           "lakecolor": "white",
           "landcolor": "#E5ECF6",
           "showlakes": true,
           "showland": true,
           "subunitcolor": "white"
          },
          "hoverlabel": {
           "align": "left"
          },
          "hovermode": "closest",
          "mapbox": {
           "style": "light"
          },
          "paper_bgcolor": "white",
          "plot_bgcolor": "#E5ECF6",
          "polar": {
           "angularaxis": {
            "gridcolor": "white",
            "linecolor": "white",
            "ticks": ""
           },
           "bgcolor": "#E5ECF6",
           "radialaxis": {
            "gridcolor": "white",
            "linecolor": "white",
            "ticks": ""
           }
          },
          "scene": {
           "xaxis": {
            "backgroundcolor": "#E5ECF6",
            "gridcolor": "white",
            "gridwidth": 2,
            "linecolor": "white",
            "showbackground": true,
            "ticks": "",
            "zerolinecolor": "white"
           },
           "yaxis": {
            "backgroundcolor": "#E5ECF6",
            "gridcolor": "white",
            "gridwidth": 2,
            "linecolor": "white",
            "showbackground": true,
            "ticks": "",
            "zerolinecolor": "white"
           },
           "zaxis": {
            "backgroundcolor": "#E5ECF6",
            "gridcolor": "white",
            "gridwidth": 2,
            "linecolor": "white",
            "showbackground": true,
            "ticks": "",
            "zerolinecolor": "white"
           }
          },
          "shapedefaults": {
           "line": {
            "color": "#2a3f5f"
           }
          },
          "ternary": {
           "aaxis": {
            "gridcolor": "white",
            "linecolor": "white",
            "ticks": ""
           },
           "baxis": {
            "gridcolor": "white",
            "linecolor": "white",
            "ticks": ""
           },
           "bgcolor": "#E5ECF6",
           "caxis": {
            "gridcolor": "white",
            "linecolor": "white",
            "ticks": ""
           }
          },
          "title": {
           "x": 0.05
          },
          "xaxis": {
           "automargin": true,
           "gridcolor": "white",
           "linecolor": "white",
           "ticks": "",
           "title": {
            "standoff": 15
           },
           "zerolinecolor": "white",
           "zerolinewidth": 2
          },
          "yaxis": {
           "automargin": true,
           "gridcolor": "white",
           "linecolor": "white",
           "ticks": "",
           "title": {
            "standoff": 15
           },
           "zerolinecolor": "white",
           "zerolinewidth": 2
          }
         }
        },
        "title": {
         "text": "Stability, Maize Impact, and Groundnut Impact per District"
        },
        "width": 800,
        "xaxis": {
         "title": {
          "text": "Values"
         }
        },
        "yaxis": {
         "title": {
          "text": "District"
         }
        }
       }
      }
     },
     "metadata": {},
     "output_type": "display_data"
    }
   ],
   "source": [
    "import plotly.graph_objects as go\n",
    "# result_df['stability']*result_df['Change_M_NPK_20']*(1-result_df['Change_G_NPK_20'])\n",
    "\n",
    "filtered_df = result_df[['node','stability','Change_M_NPK_20', 'Change_G_NPK_20']]\n",
    "filtered_df\n",
    "# Create a bar plot\n",
    "fig = go.Figure()\n",
    "import plotly.graph_objects as go\n",
    "\n",
    "\n",
    "# Add bars for each category and display values on each bar\n",
    "fig.add_trace(go.Bar(\n",
    "    y=filtered_df['node'],\n",
    "    x=filtered_df['stability'],\n",
    "    text=filtered_df['stability'].round(4), \n",
    "    textfont_size=15,\n",
    "    textposition='outside',\n",
    "    name='Stability',\n",
    "    orientation='h'\n",
    "))\n",
    "\n",
    "fig.add_trace(go.Bar(\n",
    "    y=filtered_df['node'],\n",
    "    x=filtered_df['Change_M_NPK_20'],\n",
    "    text=filtered_df['Change_M_NPK_20'].round(4),  \n",
    "    textfont_size=15,\n",
    "    textposition='outside',\n",
    "    name='Maize Impact',\n",
    "    orientation='h'\n",
    "))\n",
    "\n",
    "fig.add_trace(go.Bar(\n",
    "    y=filtered_df['node'],\n",
    "    x=filtered_df['Change_G_NPK_20'],\n",
    "    text=filtered_df['Change_G_NPK_20'].round(4),  \n",
    "    textfont_size=15,\n",
    "    textposition='outside',\n",
    "    name='Groundnut Impact',\n",
    "    orientation='h'\n",
    "))\n",
    "\n",
    "# Update layout with increased plot size\n",
    "fig.update_layout(\n",
    "    title='Stability, Maize Impact, and Groundnut Impact per District',\n",
    "    barmode='group',  # Group bars together\n",
    "    xaxis_title='Values',\n",
    "    yaxis_title='District',\n",
    "    width=800,  # Increase width\n",
    "    height=1200   # Increase height\n",
    ")\n",
    "\n",
    "# Show the plot\n",
    "fig.show()\n"
   ]
  },
  {
   "cell_type": "code",
   "execution_count": 277,
   "metadata": {},
   "outputs": [
    {
     "data": {
      "text/html": [
       "<div>\n",
       "<style scoped>\n",
       "    .dataframe tbody tr th:only-of-type {\n",
       "        vertical-align: middle;\n",
       "    }\n",
       "\n",
       "    .dataframe tbody tr th {\n",
       "        vertical-align: top;\n",
       "    }\n",
       "\n",
       "    .dataframe thead th {\n",
       "        text-align: right;\n",
       "    }\n",
       "</style>\n",
       "<table border=\"1\" class=\"dataframe\">\n",
       "  <thead>\n",
       "    <tr style=\"text-align: right;\">\n",
       "      <th></th>\n",
       "      <th>node</th>\n",
       "      <th>Groundnut_Production</th>\n",
       "      <th>Maize_Production</th>\n",
       "      <th>stress</th>\n",
       "      <th>stability</th>\n",
       "    </tr>\n",
       "  </thead>\n",
       "  <tbody>\n",
       "    <tr>\n",
       "      <th>0</th>\n",
       "      <td>BENGALURU</td>\n",
       "      <td>0.001035</td>\n",
       "      <td>0.004851</td>\n",
       "      <td>0.052228</td>\n",
       "      <td>0.947772</td>\n",
       "    </tr>\n",
       "    <tr>\n",
       "      <th>1</th>\n",
       "      <td>BENGALURU(R)</td>\n",
       "      <td>0.003004</td>\n",
       "      <td>0.071744</td>\n",
       "      <td>0.199578</td>\n",
       "      <td>0.800422</td>\n",
       "    </tr>\n",
       "    <tr>\n",
       "      <th>2</th>\n",
       "      <td>RAMANAGARA</td>\n",
       "      <td>0.070434</td>\n",
       "      <td>0.017606</td>\n",
       "      <td>0.123133</td>\n",
       "      <td>0.876867</td>\n",
       "    </tr>\n",
       "    <tr>\n",
       "      <th>3</th>\n",
       "      <td>CHITRADURGA</td>\n",
       "      <td>1.000000</td>\n",
       "      <td>0.458222</td>\n",
       "      <td>0.915499</td>\n",
       "      <td>0.084501</td>\n",
       "    </tr>\n",
       "    <tr>\n",
       "      <th>4</th>\n",
       "      <td>DAVANAGERE</td>\n",
       "      <td>0.241954</td>\n",
       "      <td>1.000000</td>\n",
       "      <td>0.873852</td>\n",
       "      <td>0.126148</td>\n",
       "    </tr>\n",
       "  </tbody>\n",
       "</table>\n",
       "</div>"
      ],
      "text/plain": [
       "           node  Groundnut_Production  Maize_Production    stress  stability\n",
       "0     BENGALURU              0.001035          0.004851  0.052228   0.947772\n",
       "1  BENGALURU(R)              0.003004          0.071744  0.199578   0.800422\n",
       "2    RAMANAGARA              0.070434          0.017606  0.123133   0.876867\n",
       "3   CHITRADURGA              1.000000          0.458222  0.915499   0.084501\n",
       "4    DAVANAGERE              0.241954          1.000000  0.873852   0.126148"
      ]
     },
     "execution_count": 277,
     "metadata": {},
     "output_type": "execute_result"
    }
   ],
   "source": [
    "Groundnut_Prod = normalize_list(Groundnut_Directory['Groundnut_Production'])\n",
    "Maize_Prod = normalize_list(Maize_Directory['Maize_Production'])\n",
    "\n",
    "# Combine capabilities into a single DataFrame\n",
    "combined_df = pd.DataFrame({\n",
    "    'node': Working_Directory['District'],\n",
    "    'Groundnut_Production': Groundnut_Prod,\n",
    "    'Maize_Production': Maize_Prod\n",
    "})\n",
    "\n",
    "# Calculate stress and stability for the combined capabilities\n",
    "init_df = calculate_stress_stability(adj_matrix_np, combined_df)\n",
    "init_df[:5]"
   ]
  },
  {
   "cell_type": "markdown",
   "metadata": {},
   "source": [
    "All the results are stored in a file for further analysis ( Tableau )"
   ]
  },
  {
   "cell_type": "code",
   "execution_count": 278,
   "metadata": {},
   "outputs": [
    {
     "data": {
      "text/html": [
       "<div>\n",
       "<style scoped>\n",
       "    .dataframe tbody tr th:only-of-type {\n",
       "        vertical-align: middle;\n",
       "    }\n",
       "\n",
       "    .dataframe tbody tr th {\n",
       "        vertical-align: top;\n",
       "    }\n",
       "\n",
       "    .dataframe thead th {\n",
       "        text-align: right;\n",
       "    }\n",
       "</style>\n",
       "<table border=\"1\" class=\"dataframe\">\n",
       "  <thead>\n",
       "    <tr style=\"text-align: right;\">\n",
       "      <th></th>\n",
       "      <th>District</th>\n",
       "      <th>KDG_District</th>\n",
       "      <th>Original Rice Production</th>\n",
       "      <th>Original Maize Production</th>\n",
       "      <th>Initial Stress</th>\n",
       "      <th>Initial Stability</th>\n",
       "      <th>New Rice Production</th>\n",
       "      <th>New Maize Production</th>\n",
       "      <th>Rice Impact</th>\n",
       "      <th>Maize Impact</th>\n",
       "      <th>Stability</th>\n",
       "      <th>Stress</th>\n",
       "      <th>Perturbation</th>\n",
       "      <th>Factor</th>\n",
       "    </tr>\n",
       "  </thead>\n",
       "  <tbody>\n",
       "    <tr>\n",
       "      <th>0</th>\n",
       "      <td>BENGALURU</td>\n",
       "      <td>Bengaluru Urban</td>\n",
       "      <td>71.0</td>\n",
       "      <td>2879</td>\n",
       "      <td>0.052228</td>\n",
       "      <td>0.947772</td>\n",
       "      <td>75</td>\n",
       "      <td>3135</td>\n",
       "      <td>5.633803</td>\n",
       "      <td>8.891976</td>\n",
       "      <td>0.961272</td>\n",
       "      <td>0.038728</td>\n",
       "      <td>10</td>\n",
       "      <td>TotalNPK</td>\n",
       "    </tr>\n",
       "    <tr>\n",
       "      <th>1</th>\n",
       "      <td>BENGALURU(R)</td>\n",
       "      <td>Bengaluru Rural</td>\n",
       "      <td>206.0</td>\n",
       "      <td>42583</td>\n",
       "      <td>0.199578</td>\n",
       "      <td>0.800422</td>\n",
       "      <td>212</td>\n",
       "      <td>44357</td>\n",
       "      <td>2.912621</td>\n",
       "      <td>4.165982</td>\n",
       "      <td>0.987433</td>\n",
       "      <td>0.012567</td>\n",
       "      <td>10</td>\n",
       "      <td>TotalNPK</td>\n",
       "    </tr>\n",
       "    <tr>\n",
       "      <th>2</th>\n",
       "      <td>RAMANAGARA</td>\n",
       "      <td>Ramanagara</td>\n",
       "      <td>4830.0</td>\n",
       "      <td>10450</td>\n",
       "      <td>0.123133</td>\n",
       "      <td>0.876867</td>\n",
       "      <td>4873</td>\n",
       "      <td>10579</td>\n",
       "      <td>0.890269</td>\n",
       "      <td>1.234450</td>\n",
       "      <td>0.909929</td>\n",
       "      <td>0.090071</td>\n",
       "      <td>10</td>\n",
       "      <td>TotalNPK</td>\n",
       "    </tr>\n",
       "    <tr>\n",
       "      <th>3</th>\n",
       "      <td>CHITRADURGA</td>\n",
       "      <td>Chitradurga</td>\n",
       "      <td>68575.0</td>\n",
       "      <td>271975</td>\n",
       "      <td>0.915499</td>\n",
       "      <td>0.084501</td>\n",
       "      <td>69745</td>\n",
       "      <td>278347</td>\n",
       "      <td>1.706161</td>\n",
       "      <td>2.342862</td>\n",
       "      <td>0.795234</td>\n",
       "      <td>0.204766</td>\n",
       "      <td>10</td>\n",
       "      <td>TotalNPK</td>\n",
       "    </tr>\n",
       "    <tr>\n",
       "      <th>4</th>\n",
       "      <td>DAVANAGERE</td>\n",
       "      <td>Davanagere</td>\n",
       "      <td>16592.0</td>\n",
       "      <td>593544</td>\n",
       "      <td>0.873852</td>\n",
       "      <td>0.126148</td>\n",
       "      <td>16897</td>\n",
       "      <td>608566</td>\n",
       "      <td>1.838235</td>\n",
       "      <td>2.530899</td>\n",
       "      <td>0.108846</td>\n",
       "      <td>0.891154</td>\n",
       "      <td>10</td>\n",
       "      <td>TotalNPK</td>\n",
       "    </tr>\n",
       "    <tr>\n",
       "      <th>...</th>\n",
       "      <td>...</td>\n",
       "      <td>...</td>\n",
       "      <td>...</td>\n",
       "      <td>...</td>\n",
       "      <td>...</td>\n",
       "      <td>...</td>\n",
       "      <td>...</td>\n",
       "      <td>...</td>\n",
       "      <td>...</td>\n",
       "      <td>...</td>\n",
       "      <td>...</td>\n",
       "      <td>...</td>\n",
       "      <td>...</td>\n",
       "      <td>...</td>\n",
       "    </tr>\n",
       "    <tr>\n",
       "      <th>119</th>\n",
       "      <td>KALABURAGI</td>\n",
       "      <td>Kalaburagi</td>\n",
       "      <td>3114.0</td>\n",
       "      <td>14621</td>\n",
       "      <td>0.331390</td>\n",
       "      <td>0.668610</td>\n",
       "      <td>2985</td>\n",
       "      <td>13790</td>\n",
       "      <td>-4.142582</td>\n",
       "      <td>-5.683606</td>\n",
       "      <td>0.858892</td>\n",
       "      <td>0.141108</td>\n",
       "      <td>-20</td>\n",
       "      <td>TotalNPK</td>\n",
       "    </tr>\n",
       "    <tr>\n",
       "      <th>120</th>\n",
       "      <td>YADGIRI</td>\n",
       "      <td>Yadgir</td>\n",
       "      <td>31435.0</td>\n",
       "      <td>2673</td>\n",
       "      <td>0.274534</td>\n",
       "      <td>0.725466</td>\n",
       "      <td>27743</td>\n",
       "      <td>2242</td>\n",
       "      <td>-11.744870</td>\n",
       "      <td>-16.124205</td>\n",
       "      <td>0.823149</td>\n",
       "      <td>0.176851</td>\n",
       "      <td>-20</td>\n",
       "      <td>TotalNPK</td>\n",
       "    </tr>\n",
       "    <tr>\n",
       "      <th>121</th>\n",
       "      <td>RAICHUR</td>\n",
       "      <td>Raichur</td>\n",
       "      <td>26958.0</td>\n",
       "      <td>723</td>\n",
       "      <td>0.325550</td>\n",
       "      <td>0.674450</td>\n",
       "      <td>25004</td>\n",
       "      <td>651</td>\n",
       "      <td>-7.248312</td>\n",
       "      <td>-9.958506</td>\n",
       "      <td>0.644694</td>\n",
       "      <td>0.355306</td>\n",
       "      <td>-20</td>\n",
       "      <td>TotalNPK</td>\n",
       "    </tr>\n",
       "    <tr>\n",
       "      <th>122</th>\n",
       "      <td>KOPPAL</td>\n",
       "      <td>Koppal</td>\n",
       "      <td>29982.0</td>\n",
       "      <td>190252</td>\n",
       "      <td>0.156993</td>\n",
       "      <td>0.843007</td>\n",
       "      <td>28506</td>\n",
       "      <td>177396</td>\n",
       "      <td>-4.922954</td>\n",
       "      <td>-6.757353</td>\n",
       "      <td>0.839657</td>\n",
       "      <td>0.160343</td>\n",
       "      <td>-20</td>\n",
       "      <td>TotalNPK</td>\n",
       "    </tr>\n",
       "    <tr>\n",
       "      <th>123</th>\n",
       "      <td>VIJAYANAGARA</td>\n",
       "      <td>Vijayanagara</td>\n",
       "      <td>22938.5</td>\n",
       "      <td>104045</td>\n",
       "      <td>0.416484</td>\n",
       "      <td>0.583516</td>\n",
       "      <td>21360</td>\n",
       "      <td>94221</td>\n",
       "      <td>-6.881444</td>\n",
       "      <td>-9.442068</td>\n",
       "      <td>0.556928</td>\n",
       "      <td>0.443072</td>\n",
       "      <td>-20</td>\n",
       "      <td>TotalNPK</td>\n",
       "    </tr>\n",
       "  </tbody>\n",
       "</table>\n",
       "<p>124 rows × 14 columns</p>\n",
       "</div>"
      ],
      "text/plain": [
       "         District     KDG_District  Original Rice Production  \\\n",
       "0       BENGALURU  Bengaluru Urban                      71.0   \n",
       "1    BENGALURU(R)  Bengaluru Rural                     206.0   \n",
       "2      RAMANAGARA       Ramanagara                    4830.0   \n",
       "3     CHITRADURGA      Chitradurga                   68575.0   \n",
       "4      DAVANAGERE       Davanagere                   16592.0   \n",
       "..            ...              ...                       ...   \n",
       "119    KALABURAGI       Kalaburagi                    3114.0   \n",
       "120       YADGIRI           Yadgir                   31435.0   \n",
       "121       RAICHUR          Raichur                   26958.0   \n",
       "122        KOPPAL           Koppal                   29982.0   \n",
       "123  VIJAYANAGARA     Vijayanagara                   22938.5   \n",
       "\n",
       "     Original Maize Production  Initial Stress  Initial Stability  \\\n",
       "0                         2879        0.052228           0.947772   \n",
       "1                        42583        0.199578           0.800422   \n",
       "2                        10450        0.123133           0.876867   \n",
       "3                       271975        0.915499           0.084501   \n",
       "4                       593544        0.873852           0.126148   \n",
       "..                         ...             ...                ...   \n",
       "119                      14621        0.331390           0.668610   \n",
       "120                       2673        0.274534           0.725466   \n",
       "121                        723        0.325550           0.674450   \n",
       "122                     190252        0.156993           0.843007   \n",
       "123                     104045        0.416484           0.583516   \n",
       "\n",
       "     New Rice Production  New Maize Production  Rice Impact  Maize Impact  \\\n",
       "0                     75                  3135     5.633803      8.891976   \n",
       "1                    212                 44357     2.912621      4.165982   \n",
       "2                   4873                 10579     0.890269      1.234450   \n",
       "3                  69745                278347     1.706161      2.342862   \n",
       "4                  16897                608566     1.838235      2.530899   \n",
       "..                   ...                   ...          ...           ...   \n",
       "119                 2985                 13790    -4.142582     -5.683606   \n",
       "120                27743                  2242   -11.744870    -16.124205   \n",
       "121                25004                   651    -7.248312     -9.958506   \n",
       "122                28506                177396    -4.922954     -6.757353   \n",
       "123                21360                 94221    -6.881444     -9.442068   \n",
       "\n",
       "     Stability    Stress  Perturbation    Factor  \n",
       "0     0.961272  0.038728            10  TotalNPK  \n",
       "1     0.987433  0.012567            10  TotalNPK  \n",
       "2     0.909929  0.090071            10  TotalNPK  \n",
       "3     0.795234  0.204766            10  TotalNPK  \n",
       "4     0.108846  0.891154            10  TotalNPK  \n",
       "..         ...       ...           ...       ...  \n",
       "119   0.858892  0.141108           -20  TotalNPK  \n",
       "120   0.823149  0.176851           -20  TotalNPK  \n",
       "121   0.644694  0.355306           -20  TotalNPK  \n",
       "122   0.839657  0.160343           -20  TotalNPK  \n",
       "123   0.556928  0.443072           -20  TotalNPK  \n",
       "\n",
       "[124 rows x 14 columns]"
      ]
     },
     "execution_count": 278,
     "metadata": {},
     "output_type": "execute_result"
    }
   ],
   "source": [
    "# Perturbations and factor mapping\n",
    "crop1 = 'Groundnut'\n",
    "crop2 = 'Maize'\n",
    "perturbations = [10, -10, 20, -20]\n",
    "factor_mapping = {\n",
    "    'NPK': 'TotalNPK'\n",
    "}\n",
    "\n",
    "# Initialize an empty DataFrame to store the results\n",
    "G_M_2D_Diff_Impact = pd.DataFrame()\n",
    "\n",
    "# Loop over each perturbation and factor\n",
    "for perturbation in perturbations:\n",
    "    for factor, mapped_factor in factor_mapping.items():\n",
    "        # Call the function to calculate and \n",
    "        calculate_and_visualize(perturbation, crop1, Groundnut_Directory, factor,False)\n",
    "        calculate_and_visualize(perturbation, crop2, Maize_Directory, factor, False)\n",
    "        Calculate_and_visualize_2D(Groundnut_Directory,Maize_Directory, adj_matrix_np, crop1, crop2, perturbation, factor,False)\n",
    "        \n",
    "        # Collect all the new columns in a dictionary\n",
    "        new_columns = {\n",
    "            'District': Working_Directory['District'],\n",
    "            'KDG_District' : Working_Directory['KDG_District'],\n",
    "            'Original Rice Production': Groundnut_Directory[f'{crop1}_Production'],\n",
    "            'Original Maize Production': Maize_Directory[f'{crop2}_Production'],\n",
    "            'Initial Stress': init_df['stress'],\n",
    "            'Initial Stability': init_df['stability'],\n",
    "            'New Rice Production': Groundnut_Directory[f'{crop1[0].upper()} - {factor} {perturbation}'],\n",
    "            'New Maize Production': Maize_Directory[f'{crop2[0].upper()} - {factor} {perturbation}'],\n",
    "            'Rice Impact': Working_Directory[f'Impact_{crop1[0].upper()}_{factor}_{perturbation}'],\n",
    "            'Maize Impact': Working_Directory[f'Impact_{crop2[0].upper()}_{factor}_{perturbation}'],\n",
    "            'Stability': Working_Directory[f'Stability_{crop1[0].upper()}_{crop2[0].upper()}_{factor}_{perturbation}'],\n",
    "            'Stress': Working_Directory[f'Stress_{crop1[0].upper()}_{crop2[0].upper()}_{factor}_{perturbation}'],\n",
    "            'Perturbation': perturbation,\n",
    "            'Factor': mapped_factor,\n",
    "        }\n",
    "        \n",
    "        # Convert the dictionary to a DataFrame and append it to the final DataFrame\n",
    "        temp_df = pd.DataFrame(new_columns)\n",
    "        G_M_2D_Diff_Impact = pd.concat([G_M_2D_Diff_Impact, temp_df], ignore_index=True)\n",
    "\n",
    "# Display or save the final DataFrame\n",
    "G_M_2D_Diff_Impact.to_csv('2D\\G_M_2D_Diff_Impact.csv', index=False)\n",
    "G_M_2D_Diff_Impact\n"
   ]
  },
  {
   "cell_type": "code",
   "execution_count": 279,
   "metadata": {},
   "outputs": [
    {
     "data": {
      "text/html": [
       "<div>\n",
       "<style scoped>\n",
       "    .dataframe tbody tr th:only-of-type {\n",
       "        vertical-align: middle;\n",
       "    }\n",
       "\n",
       "    .dataframe tbody tr th {\n",
       "        vertical-align: top;\n",
       "    }\n",
       "\n",
       "    .dataframe thead th {\n",
       "        text-align: right;\n",
       "    }\n",
       "</style>\n",
       "<table border=\"1\" class=\"dataframe\">\n",
       "  <thead>\n",
       "    <tr style=\"text-align: right;\">\n",
       "      <th></th>\n",
       "      <th>District</th>\n",
       "      <th>KDG_District</th>\n",
       "      <th>Crop</th>\n",
       "      <th>Original Production</th>\n",
       "      <th>New Production</th>\n",
       "      <th>Impact</th>\n",
       "      <th>Stability</th>\n",
       "      <th>Stress</th>\n",
       "      <th>Perturbation</th>\n",
       "      <th>Factor</th>\n",
       "    </tr>\n",
       "  </thead>\n",
       "  <tbody>\n",
       "    <tr>\n",
       "      <th>0</th>\n",
       "      <td>BENGALURU</td>\n",
       "      <td>Bengaluru Urban</td>\n",
       "      <td>Groundnut</td>\n",
       "      <td>71.0</td>\n",
       "      <td>75</td>\n",
       "      <td>5.633803</td>\n",
       "      <td>0.961272</td>\n",
       "      <td>0.038728</td>\n",
       "      <td>10</td>\n",
       "      <td>TotalNPK</td>\n",
       "    </tr>\n",
       "    <tr>\n",
       "      <th>1</th>\n",
       "      <td>BENGALURU(R)</td>\n",
       "      <td>Bengaluru Rural</td>\n",
       "      <td>Groundnut</td>\n",
       "      <td>206.0</td>\n",
       "      <td>212</td>\n",
       "      <td>2.912621</td>\n",
       "      <td>0.987433</td>\n",
       "      <td>0.012567</td>\n",
       "      <td>10</td>\n",
       "      <td>TotalNPK</td>\n",
       "    </tr>\n",
       "    <tr>\n",
       "      <th>2</th>\n",
       "      <td>RAMANAGARA</td>\n",
       "      <td>Ramanagara</td>\n",
       "      <td>Groundnut</td>\n",
       "      <td>4830.0</td>\n",
       "      <td>4873</td>\n",
       "      <td>0.890269</td>\n",
       "      <td>0.909929</td>\n",
       "      <td>0.090071</td>\n",
       "      <td>10</td>\n",
       "      <td>TotalNPK</td>\n",
       "    </tr>\n",
       "    <tr>\n",
       "      <th>3</th>\n",
       "      <td>CHITRADURGA</td>\n",
       "      <td>Chitradurga</td>\n",
       "      <td>Groundnut</td>\n",
       "      <td>68575.0</td>\n",
       "      <td>69745</td>\n",
       "      <td>1.706161</td>\n",
       "      <td>0.795234</td>\n",
       "      <td>0.204766</td>\n",
       "      <td>10</td>\n",
       "      <td>TotalNPK</td>\n",
       "    </tr>\n",
       "    <tr>\n",
       "      <th>4</th>\n",
       "      <td>DAVANAGERE</td>\n",
       "      <td>Davanagere</td>\n",
       "      <td>Groundnut</td>\n",
       "      <td>16592.0</td>\n",
       "      <td>16897</td>\n",
       "      <td>1.838235</td>\n",
       "      <td>0.108846</td>\n",
       "      <td>0.891154</td>\n",
       "      <td>10</td>\n",
       "      <td>TotalNPK</td>\n",
       "    </tr>\n",
       "    <tr>\n",
       "      <th>...</th>\n",
       "      <td>...</td>\n",
       "      <td>...</td>\n",
       "      <td>...</td>\n",
       "      <td>...</td>\n",
       "      <td>...</td>\n",
       "      <td>...</td>\n",
       "      <td>...</td>\n",
       "      <td>...</td>\n",
       "      <td>...</td>\n",
       "      <td>...</td>\n",
       "    </tr>\n",
       "    <tr>\n",
       "      <th>243</th>\n",
       "      <td>KALABURAGI</td>\n",
       "      <td>Kalaburagi</td>\n",
       "      <td>Maize</td>\n",
       "      <td>14621.0</td>\n",
       "      <td>13790</td>\n",
       "      <td>-5.683606</td>\n",
       "      <td>0.858892</td>\n",
       "      <td>0.141108</td>\n",
       "      <td>-20</td>\n",
       "      <td>TotalNPK</td>\n",
       "    </tr>\n",
       "    <tr>\n",
       "      <th>244</th>\n",
       "      <td>YADGIRI</td>\n",
       "      <td>Yadgir</td>\n",
       "      <td>Maize</td>\n",
       "      <td>2673.0</td>\n",
       "      <td>2242</td>\n",
       "      <td>-16.124205</td>\n",
       "      <td>0.823149</td>\n",
       "      <td>0.176851</td>\n",
       "      <td>-20</td>\n",
       "      <td>TotalNPK</td>\n",
       "    </tr>\n",
       "    <tr>\n",
       "      <th>245</th>\n",
       "      <td>RAICHUR</td>\n",
       "      <td>Raichur</td>\n",
       "      <td>Maize</td>\n",
       "      <td>723.0</td>\n",
       "      <td>651</td>\n",
       "      <td>-9.958506</td>\n",
       "      <td>0.644694</td>\n",
       "      <td>0.355306</td>\n",
       "      <td>-20</td>\n",
       "      <td>TotalNPK</td>\n",
       "    </tr>\n",
       "    <tr>\n",
       "      <th>246</th>\n",
       "      <td>KOPPAL</td>\n",
       "      <td>Koppal</td>\n",
       "      <td>Maize</td>\n",
       "      <td>190252.0</td>\n",
       "      <td>177396</td>\n",
       "      <td>-6.757353</td>\n",
       "      <td>0.839657</td>\n",
       "      <td>0.160343</td>\n",
       "      <td>-20</td>\n",
       "      <td>TotalNPK</td>\n",
       "    </tr>\n",
       "    <tr>\n",
       "      <th>247</th>\n",
       "      <td>VIJAYANAGARA</td>\n",
       "      <td>Vijayanagara</td>\n",
       "      <td>Maize</td>\n",
       "      <td>104045.0</td>\n",
       "      <td>94221</td>\n",
       "      <td>-9.442068</td>\n",
       "      <td>0.556928</td>\n",
       "      <td>0.443072</td>\n",
       "      <td>-20</td>\n",
       "      <td>TotalNPK</td>\n",
       "    </tr>\n",
       "  </tbody>\n",
       "</table>\n",
       "<p>248 rows × 10 columns</p>\n",
       "</div>"
      ],
      "text/plain": [
       "         District     KDG_District       Crop  Original Production  \\\n",
       "0       BENGALURU  Bengaluru Urban  Groundnut                 71.0   \n",
       "1    BENGALURU(R)  Bengaluru Rural  Groundnut                206.0   \n",
       "2      RAMANAGARA       Ramanagara  Groundnut               4830.0   \n",
       "3     CHITRADURGA      Chitradurga  Groundnut              68575.0   \n",
       "4      DAVANAGERE       Davanagere  Groundnut              16592.0   \n",
       "..            ...              ...        ...                  ...   \n",
       "243    KALABURAGI       Kalaburagi      Maize              14621.0   \n",
       "244       YADGIRI           Yadgir      Maize               2673.0   \n",
       "245       RAICHUR          Raichur      Maize                723.0   \n",
       "246        KOPPAL           Koppal      Maize             190252.0   \n",
       "247  VIJAYANAGARA     Vijayanagara      Maize             104045.0   \n",
       "\n",
       "     New Production     Impact  Stability    Stress  Perturbation    Factor  \n",
       "0                75   5.633803   0.961272  0.038728            10  TotalNPK  \n",
       "1               212   2.912621   0.987433  0.012567            10  TotalNPK  \n",
       "2              4873   0.890269   0.909929  0.090071            10  TotalNPK  \n",
       "3             69745   1.706161   0.795234  0.204766            10  TotalNPK  \n",
       "4             16897   1.838235   0.108846  0.891154            10  TotalNPK  \n",
       "..              ...        ...        ...       ...           ...       ...  \n",
       "243           13790  -5.683606   0.858892  0.141108           -20  TotalNPK  \n",
       "244            2242 -16.124205   0.823149  0.176851           -20  TotalNPK  \n",
       "245             651  -9.958506   0.644694  0.355306           -20  TotalNPK  \n",
       "246          177396  -6.757353   0.839657  0.160343           -20  TotalNPK  \n",
       "247           94221  -9.442068   0.556928  0.443072           -20  TotalNPK  \n",
       "\n",
       "[248 rows x 10 columns]"
      ]
     },
     "execution_count": 279,
     "metadata": {},
     "output_type": "execute_result"
    }
   ],
   "source": [
    "# Perturbations and factor mapping\n",
    "crop1 = 'Groundnut'\n",
    "crop2 = 'Maize'\n",
    "perturbations = [10, -10, 20, -20]\n",
    "factor_mapping = {\n",
    "    'NPK': 'TotalNPK'\n",
    "}\n",
    "\n",
    "# Initialize an empty DataFrame to store the results\n",
    "G_M_2D_Diff_Impact = pd.DataFrame()\n",
    "\n",
    "# Loop over each perturbation and factor\n",
    "for perturbation in perturbations:\n",
    "    for factor, mapped_factor in factor_mapping.items():\n",
    "        # Call the function to calculate and visualize for both crops\n",
    "        calculate_and_visualize(perturbation, crop1, Groundnut_Directory, factor, False)\n",
    "        calculate_and_visualize(perturbation, crop2, Maize_Directory, factor, False)\n",
    "        Calculate_and_visualize_2D(Groundnut_Directory, Maize_Directory, adj_matrix_np, crop1, crop2, perturbation, factor, False)\n",
    "        \n",
    "        # Create a DataFrame for Rice entries\n",
    "        rice_df = pd.DataFrame({\n",
    "            'District': Working_Directory['District'],\n",
    "            'KDG_District': Working_Directory['KDG_District'],\n",
    "            'Crop': crop1,  # Indicate that these entries are for Rice\n",
    "            'Original Production': Groundnut_Directory[f'{crop1}_Production'],\n",
    "            'New Production': Groundnut_Directory[f'{crop1[0].upper()} - {factor} {perturbation}'],\n",
    "            'Impact': Working_Directory[f'Impact_{crop1[0].upper()}_{factor}_{perturbation}'],\n",
    "            'Stability': Working_Directory[f'Stability_{crop1[0].upper()}_{crop2[0].upper()}_{factor}_{perturbation}'],\n",
    "            'Stress': Working_Directory[f'Stress_{crop1[0].upper()}_{crop2[0].upper()}_{factor}_{perturbation}'],\n",
    "            'Perturbation': perturbation,\n",
    "            'Factor': mapped_factor\n",
    "        })\n",
    "\n",
    "        # Create a DataFrame for Maize entries\n",
    "        maize_df = pd.DataFrame({\n",
    "            'District': Working_Directory['District'],\n",
    "            'KDG_District': Working_Directory['KDG_District'],\n",
    "            'Crop': crop2,  # Indicate that these entries are for Maize\n",
    "            'Original Production': Maize_Directory[f'{crop2}_Production'],\n",
    "            'New Production': Maize_Directory[f'{crop2[0].upper()} - {factor} {perturbation}'],\n",
    "            'Impact': Working_Directory[f'Impact_{crop2[0].upper()}_{factor}_{perturbation}'],\n",
    "            'Stability': Working_Directory[f'Stability_{crop1[0].upper()}_{crop2[0].upper()}_{factor}_{perturbation}'],\n",
    "            'Stress': Working_Directory[f'Stress_{crop1[0].upper()}_{crop2[0].upper()}_{factor}_{perturbation}'],\n",
    "            'Perturbation': perturbation,\n",
    "            'Factor': mapped_factor\n",
    "        })\n",
    "\n",
    "        # Concatenate the Rice and Maize DataFrames for the current perturbation and factor\n",
    "        temp_df = pd.concat([rice_df, maize_df], ignore_index=True)\n",
    "        \n",
    "        # Append to the final DataFrame\n",
    "        G_M_2D_Diff_Impact = pd.concat([G_M_2D_Diff_Impact, temp_df], ignore_index=True)\n",
    "\n",
    "# Display or save the final DataFrame\n",
    "G_M_2D_Diff_Impact.to_csv('2D/G_M_2D_Diff_Impact_1.csv', index=False)\n",
    "G_M_2D_Diff_Impact\n"
   ]
  },
  {
   "cell_type": "code",
   "execution_count": 280,
   "metadata": {},
   "outputs": [
    {
     "data": {
      "text/html": [
       "<div>\n",
       "<style scoped>\n",
       "    .dataframe tbody tr th:only-of-type {\n",
       "        vertical-align: middle;\n",
       "    }\n",
       "\n",
       "    .dataframe tbody tr th {\n",
       "        vertical-align: top;\n",
       "    }\n",
       "\n",
       "    .dataframe thead th {\n",
       "        text-align: right;\n",
       "    }\n",
       "</style>\n",
       "<table border=\"1\" class=\"dataframe\">\n",
       "  <thead>\n",
       "    <tr style=\"text-align: right;\">\n",
       "      <th></th>\n",
       "      <th>District</th>\n",
       "      <th>KDG_District</th>\n",
       "      <th>Crop</th>\n",
       "      <th>Original Production</th>\n",
       "      <th>New Production</th>\n",
       "      <th>Impact</th>\n",
       "      <th>Stability</th>\n",
       "      <th>Stress</th>\n",
       "      <th>SI Score</th>\n",
       "      <th>Perturbation</th>\n",
       "      <th>Factor</th>\n",
       "    </tr>\n",
       "  </thead>\n",
       "  <tbody>\n",
       "    <tr>\n",
       "      <th>0</th>\n",
       "      <td>BENGALURU</td>\n",
       "      <td>Bengaluru Urban</td>\n",
       "      <td>Groundnut</td>\n",
       "      <td>71.0</td>\n",
       "      <td>75</td>\n",
       "      <td>5.633803</td>\n",
       "      <td>0.961272</td>\n",
       "      <td>0.038728</td>\n",
       "      <td>0.080661</td>\n",
       "      <td>10</td>\n",
       "      <td>TotalNPK</td>\n",
       "    </tr>\n",
       "    <tr>\n",
       "      <th>1</th>\n",
       "      <td>BENGALURU(R)</td>\n",
       "      <td>Bengaluru Rural</td>\n",
       "      <td>Groundnut</td>\n",
       "      <td>206.0</td>\n",
       "      <td>212</td>\n",
       "      <td>2.912621</td>\n",
       "      <td>0.987433</td>\n",
       "      <td>0.012567</td>\n",
       "      <td>0.039938</td>\n",
       "      <td>10</td>\n",
       "      <td>TotalNPK</td>\n",
       "    </tr>\n",
       "    <tr>\n",
       "      <th>2</th>\n",
       "      <td>RAMANAGARA</td>\n",
       "      <td>Ramanagara</td>\n",
       "      <td>Groundnut</td>\n",
       "      <td>4830.0</td>\n",
       "      <td>4873</td>\n",
       "      <td>0.890269</td>\n",
       "      <td>0.909929</td>\n",
       "      <td>0.090071</td>\n",
       "      <td>0.011133</td>\n",
       "      <td>10</td>\n",
       "      <td>TotalNPK</td>\n",
       "    </tr>\n",
       "    <tr>\n",
       "      <th>3</th>\n",
       "      <td>CHITRADURGA</td>\n",
       "      <td>Chitradurga</td>\n",
       "      <td>Groundnut</td>\n",
       "      <td>68575.0</td>\n",
       "      <td>69745</td>\n",
       "      <td>1.706161</td>\n",
       "      <td>0.795234</td>\n",
       "      <td>0.204766</td>\n",
       "      <td>0.018313</td>\n",
       "      <td>10</td>\n",
       "      <td>TotalNPK</td>\n",
       "    </tr>\n",
       "    <tr>\n",
       "      <th>4</th>\n",
       "      <td>DAVANAGERE</td>\n",
       "      <td>Davanagere</td>\n",
       "      <td>Groundnut</td>\n",
       "      <td>16592.0</td>\n",
       "      <td>16897</td>\n",
       "      <td>1.838235</td>\n",
       "      <td>0.108846</td>\n",
       "      <td>0.891154</td>\n",
       "      <td>0.002704</td>\n",
       "      <td>10</td>\n",
       "      <td>TotalNPK</td>\n",
       "    </tr>\n",
       "    <tr>\n",
       "      <th>...</th>\n",
       "      <td>...</td>\n",
       "      <td>...</td>\n",
       "      <td>...</td>\n",
       "      <td>...</td>\n",
       "      <td>...</td>\n",
       "      <td>...</td>\n",
       "      <td>...</td>\n",
       "      <td>...</td>\n",
       "      <td>...</td>\n",
       "      <td>...</td>\n",
       "      <td>...</td>\n",
       "    </tr>\n",
       "    <tr>\n",
       "      <th>243</th>\n",
       "      <td>KALABURAGI</td>\n",
       "      <td>Kalaburagi</td>\n",
       "      <td>Maize</td>\n",
       "      <td>14621.0</td>\n",
       "      <td>13790</td>\n",
       "      <td>-5.683606</td>\n",
       "      <td>0.858892</td>\n",
       "      <td>0.141108</td>\n",
       "      <td>-0.050838</td>\n",
       "      <td>-20</td>\n",
       "      <td>TotalNPK</td>\n",
       "    </tr>\n",
       "    <tr>\n",
       "      <th>244</th>\n",
       "      <td>YADGIRI</td>\n",
       "      <td>Yadgir</td>\n",
       "      <td>Maize</td>\n",
       "      <td>2673.0</td>\n",
       "      <td>2242</td>\n",
       "      <td>-16.124205</td>\n",
       "      <td>0.823149</td>\n",
       "      <td>0.176851</td>\n",
       "      <td>-0.148315</td>\n",
       "      <td>-20</td>\n",
       "      <td>TotalNPK</td>\n",
       "    </tr>\n",
       "    <tr>\n",
       "      <th>245</th>\n",
       "      <td>RAICHUR</td>\n",
       "      <td>Raichur</td>\n",
       "      <td>Maize</td>\n",
       "      <td>723.0</td>\n",
       "      <td>651</td>\n",
       "      <td>-9.958506</td>\n",
       "      <td>0.644694</td>\n",
       "      <td>0.355306</td>\n",
       "      <td>-0.068855</td>\n",
       "      <td>-20</td>\n",
       "      <td>TotalNPK</td>\n",
       "    </tr>\n",
       "    <tr>\n",
       "      <th>246</th>\n",
       "      <td>KOPPAL</td>\n",
       "      <td>Koppal</td>\n",
       "      <td>Maize</td>\n",
       "      <td>190252.0</td>\n",
       "      <td>177396</td>\n",
       "      <td>-6.757353</td>\n",
       "      <td>0.839657</td>\n",
       "      <td>0.160343</td>\n",
       "      <td>-0.059532</td>\n",
       "      <td>-20</td>\n",
       "      <td>TotalNPK</td>\n",
       "    </tr>\n",
       "    <tr>\n",
       "      <th>247</th>\n",
       "      <td>VIJAYANAGARA</td>\n",
       "      <td>Vijayanagara</td>\n",
       "      <td>Maize</td>\n",
       "      <td>104045.0</td>\n",
       "      <td>94221</td>\n",
       "      <td>-9.442068</td>\n",
       "      <td>0.556928</td>\n",
       "      <td>0.443072</td>\n",
       "      <td>-0.056204</td>\n",
       "      <td>-20</td>\n",
       "      <td>TotalNPK</td>\n",
       "    </tr>\n",
       "  </tbody>\n",
       "</table>\n",
       "<p>248 rows × 11 columns</p>\n",
       "</div>"
      ],
      "text/plain": [
       "         District     KDG_District       Crop  Original Production  \\\n",
       "0       BENGALURU  Bengaluru Urban  Groundnut                 71.0   \n",
       "1    BENGALURU(R)  Bengaluru Rural  Groundnut                206.0   \n",
       "2      RAMANAGARA       Ramanagara  Groundnut               4830.0   \n",
       "3     CHITRADURGA      Chitradurga  Groundnut              68575.0   \n",
       "4      DAVANAGERE       Davanagere  Groundnut              16592.0   \n",
       "..            ...              ...        ...                  ...   \n",
       "243    KALABURAGI       Kalaburagi      Maize              14621.0   \n",
       "244       YADGIRI           Yadgir      Maize               2673.0   \n",
       "245       RAICHUR          Raichur      Maize                723.0   \n",
       "246        KOPPAL           Koppal      Maize             190252.0   \n",
       "247  VIJAYANAGARA     Vijayanagara      Maize             104045.0   \n",
       "\n",
       "     New Production     Impact  Stability    Stress  SI Score  Perturbation  \\\n",
       "0                75   5.633803   0.961272  0.038728  0.080661            10   \n",
       "1               212   2.912621   0.987433  0.012567  0.039938            10   \n",
       "2              4873   0.890269   0.909929  0.090071  0.011133            10   \n",
       "3             69745   1.706161   0.795234  0.204766  0.018313            10   \n",
       "4             16897   1.838235   0.108846  0.891154  0.002704            10   \n",
       "..              ...        ...        ...       ...       ...           ...   \n",
       "243           13790  -5.683606   0.858892  0.141108 -0.050838           -20   \n",
       "244            2242 -16.124205   0.823149  0.176851 -0.148315           -20   \n",
       "245             651  -9.958506   0.644694  0.355306 -0.068855           -20   \n",
       "246          177396  -6.757353   0.839657  0.160343 -0.059532           -20   \n",
       "247           94221  -9.442068   0.556928  0.443072 -0.056204           -20   \n",
       "\n",
       "       Factor  \n",
       "0    TotalNPK  \n",
       "1    TotalNPK  \n",
       "2    TotalNPK  \n",
       "3    TotalNPK  \n",
       "4    TotalNPK  \n",
       "..        ...  \n",
       "243  TotalNPK  \n",
       "244  TotalNPK  \n",
       "245  TotalNPK  \n",
       "246  TotalNPK  \n",
       "247  TotalNPK  \n",
       "\n",
       "[248 rows x 11 columns]"
      ]
     },
     "execution_count": 280,
     "metadata": {},
     "output_type": "execute_result"
    }
   ],
   "source": [
    "# Perturbations and factor mapping\n",
    "crop1 = 'Groundnut'\n",
    "crop2 = 'Maize'\n",
    "perturbations = [10, -10, 20, -20]\n",
    "factor_mapping = {\n",
    "    'NPK': 'TotalNPK'\n",
    "}\n",
    "\n",
    "# Initialize an empty DataFrame to store the results\n",
    "G_M_2D_Diff_Impact = pd.DataFrame()\n",
    "\n",
    "# Loop over each perturbation and factor\n",
    "for perturbation in perturbations:\n",
    "    for factor, mapped_factor in factor_mapping.items():\n",
    "        # Call the function to calculate and visualize for both crops\n",
    "        calculate_and_visualize(perturbation, crop1, Groundnut_Directory, factor, False)\n",
    "        calculate_and_visualize(perturbation, crop2, Maize_Directory, factor, False)\n",
    "        Calculate_and_visualize_2D(Groundnut_Directory, Maize_Directory, adj_matrix_np, crop1, crop2, perturbation, factor, False)\n",
    "        result_df = Calculate_SI_Score(Maize_Directory, Groundnut_Directory, adj_matrix_np, crop2, crop1, perturbation, factor, False)\n",
    "        # Create a DataFrame for Rice entries\n",
    "        rice_df = pd.DataFrame({\n",
    "            'District': Working_Directory['District'],\n",
    "            'KDG_District': Working_Directory['KDG_District'],\n",
    "            'Crop': crop1,  # Indicate that these entries are for Rice\n",
    "            'Original Production': Groundnut_Directory[f'{crop1}_Production'],\n",
    "            'New Production': Groundnut_Directory[f'{crop1[0].upper()} - {factor} {perturbation}'],\n",
    "            'Impact': Working_Directory[f'Impact_{crop1[0].upper()}_{factor}_{perturbation}'],\n",
    "            'Stability': Working_Directory[f'Stability_{crop1[0].upper()}_{crop2[0].upper()}_{factor}_{perturbation}'],\n",
    "            'Stress': Working_Directory[f'Stress_{crop1[0].upper()}_{crop2[0].upper()}_{factor}_{perturbation}'],\n",
    "            'SI Score' : result_df['SI_Score'],\n",
    "            'Perturbation': perturbation,\n",
    "            'Factor': mapped_factor\n",
    "        })\n",
    "\n",
    "        # Create a DataFrame for Maize entries\n",
    "        maize_df = pd.DataFrame({\n",
    "            'District': Working_Directory['District'],\n",
    "            'KDG_District': Working_Directory['KDG_District'],\n",
    "            'Crop': crop2,  # Indicate that these entries are for Maize\n",
    "            'Original Production': Maize_Directory[f'{crop2}_Production'],\n",
    "            'New Production': Maize_Directory[f'{crop2[0].upper()} - {factor} {perturbation}'],\n",
    "            'Impact': Working_Directory[f'Impact_{crop2[0].upper()}_{factor}_{perturbation}'],\n",
    "            'Stability': Working_Directory[f'Stability_{crop1[0].upper()}_{crop2[0].upper()}_{factor}_{perturbation}'],\n",
    "            'Stress': Working_Directory[f'Stress_{crop1[0].upper()}_{crop2[0].upper()}_{factor}_{perturbation}'],\n",
    "            'SI Score' : result_df['SI_Score'],\n",
    "            'Perturbation': perturbation,\n",
    "            'Factor': mapped_factor\n",
    "        })\n",
    "\n",
    "        # Concatenate the Rice and Maize DataFrames for the current perturbation and factor\n",
    "        temp_df = pd.concat([rice_df, maize_df], ignore_index=True)\n",
    "        \n",
    "        # Append to the final DataFrame\n",
    "        G_M_2D_Diff_Impact = pd.concat([G_M_2D_Diff_Impact, temp_df], ignore_index=True)\n",
    "\n",
    "# Display or save the final DataFrame\n",
    "G_M_2D_Diff_Impact.to_csv('2D/G_M_2D_Diff_Impact_SI.csv', index=False)\n",
    "G_M_2D_Diff_Impact\n"
   ]
  }
 ],
 "metadata": {
  "kernelspec": {
   "display_name": "Python 3",
   "language": "python",
   "name": "python3"
  },
  "language_info": {
   "codemirror_mode": {
    "name": "ipython",
    "version": 3
   },
   "file_extension": ".py",
   "mimetype": "text/x-python",
   "name": "python",
   "nbconvert_exporter": "python",
   "pygments_lexer": "ipython3",
   "version": "3.9.6"
  }
 },
 "nbformat": 4,
 "nbformat_minor": 2
}
