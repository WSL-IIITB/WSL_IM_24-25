{
 "cells": [
  {
   "cell_type": "code",
   "execution_count": 1,
   "metadata": {},
   "outputs": [],
   "source": [
    "import pandas as pd\n",
    "import statsmodels.api as sm\n",
    "import re\n",
    "import numpy as np\n",
    "import pandas as pd\n",
    "from itertools import product"
   ]
  },
  {
   "cell_type": "code",
   "execution_count": 2,
   "metadata": {},
   "outputs": [
    {
     "data": {
      "text/html": [
       "<div>\n",
       "<style scoped>\n",
       "    .dataframe tbody tr th:only-of-type {\n",
       "        vertical-align: middle;\n",
       "    }\n",
       "\n",
       "    .dataframe tbody tr th {\n",
       "        vertical-align: top;\n",
       "    }\n",
       "\n",
       "    .dataframe thead th {\n",
       "        text-align: right;\n",
       "    }\n",
       "</style>\n",
       "<table border=\"1\" class=\"dataframe\">\n",
       "  <thead>\n",
       "    <tr style=\"text-align: right;\">\n",
       "      <th></th>\n",
       "      <th>District</th>\n",
       "      <th>Maize_Production</th>\n",
       "      <th>TotalNPK</th>\n",
       "      <th>LivestockCensus_2012_Cattle</th>\n",
       "      <th>AreaUnderCereals_Maize</th>\n",
       "      <th>Maize_Ratio</th>\n",
       "    </tr>\n",
       "  </thead>\n",
       "  <tbody>\n",
       "    <tr>\n",
       "      <th>24</th>\n",
       "      <td>BALLARI</td>\n",
       "      <td>104045</td>\n",
       "      <td>8404.154608</td>\n",
       "      <td>23446.847903</td>\n",
       "      <td>49869.5</td>\n",
       "      <td>0.136288</td>\n",
       "    </tr>\n",
       "    <tr>\n",
       "      <th>25</th>\n",
       "      <td>BIDAR</td>\n",
       "      <td>2791</td>\n",
       "      <td>249.381182</td>\n",
       "      <td>2371.831678</td>\n",
       "      <td>1382.0</td>\n",
       "      <td>0.010114</td>\n",
       "    </tr>\n",
       "    <tr>\n",
       "      <th>26</th>\n",
       "      <td>KALABURAGI</td>\n",
       "      <td>14621</td>\n",
       "      <td>710.101614</td>\n",
       "      <td>6221.617910</td>\n",
       "      <td>2634.0</td>\n",
       "      <td>0.013150</td>\n",
       "    </tr>\n",
       "    <tr>\n",
       "      <th>27</th>\n",
       "      <td>YADGIRI</td>\n",
       "      <td>2673</td>\n",
       "      <td>368.617469</td>\n",
       "      <td>1253.317144</td>\n",
       "      <td>961.0</td>\n",
       "      <td>0.004033</td>\n",
       "    </tr>\n",
       "    <tr>\n",
       "      <th>28</th>\n",
       "      <td>RAICHUR</td>\n",
       "      <td>723</td>\n",
       "      <td>61.547519</td>\n",
       "      <td>188.537479</td>\n",
       "      <td>2600.0</td>\n",
       "      <td>0.000525</td>\n",
       "    </tr>\n",
       "    <tr>\n",
       "      <th>29</th>\n",
       "      <td>KOPPAL</td>\n",
       "      <td>190252</td>\n",
       "      <td>10997.550403</td>\n",
       "      <td>38936.400172</td>\n",
       "      <td>48210.0</td>\n",
       "      <td>0.149521</td>\n",
       "    </tr>\n",
       "    <tr>\n",
       "      <th>30</th>\n",
       "      <td>VIJAYANAGARA</td>\n",
       "      <td>104045</td>\n",
       "      <td>8404.154608</td>\n",
       "      <td>23446.847903</td>\n",
       "      <td>49869.5</td>\n",
       "      <td>0.136288</td>\n",
       "    </tr>\n",
       "  </tbody>\n",
       "</table>\n",
       "</div>"
      ],
      "text/plain": [
       "        District  Maize_Production      TotalNPK  LivestockCensus_2012_Cattle  \\\n",
       "24       BALLARI            104045   8404.154608                 23446.847903   \n",
       "25         BIDAR              2791    249.381182                  2371.831678   \n",
       "26    KALABURAGI             14621    710.101614                  6221.617910   \n",
       "27       YADGIRI              2673    368.617469                  1253.317144   \n",
       "28       RAICHUR               723     61.547519                   188.537479   \n",
       "29        KOPPAL            190252  10997.550403                 38936.400172   \n",
       "30  VIJAYANAGARA            104045   8404.154608                 23446.847903   \n",
       "\n",
       "    AreaUnderCereals_Maize  Maize_Ratio  \n",
       "24                 49869.5     0.136288  \n",
       "25                  1382.0     0.010114  \n",
       "26                  2634.0     0.013150  \n",
       "27                   961.0     0.004033  \n",
       "28                  2600.0     0.000525  \n",
       "29                 48210.0     0.149521  \n",
       "30                 49869.5     0.136288  "
      ]
     },
     "execution_count": 2,
     "metadata": {},
     "output_type": "execute_result"
    }
   ],
   "source": [
    "def remove_pattern(col_name):\n",
    "    return re.sub(r'_[0-9]{3}$', '', col_name)\n",
    "\n",
    "Zones = pd.read_excel('Zones.xlsx')\n",
    "Dataset = pd.read_csv('KAG 2016-17/Agriculture/Agriculture_KAG_2016_17.csv')\n",
    "Dataset.columns = map(remove_pattern, Dataset.columns)\n",
    "\n",
    "Maize_param = pd.read_csv('Params/3_Param_Maize_Multicollinearity.csv')\n",
    "Groundnut_param = pd.read_csv('Params/4_parameters_multicollinearity_groundnut.csv')\n",
    "Working_Directory = pd.read_csv('Working_Directory.csv')\n",
    "Maize_Directory = Working_Directory[['District','Maize_Production','TotalNPK',\n",
    "'LivestockCensus_2012_Cattle', 'AreaUnderCereals_Maize','Maize_Ratio']].copy()\n",
    "\n",
    "Groundnut_Directory = Working_Directory[['District','Groundnut_Production', 'TotalNPK', 'AreaUnderOilSeeds_GroundNut', 'MotorVehicles_Tractors',\n",
    "       'LivestockCensus_2012_Sheep','Groundnut_Ratio']].copy()\n",
    "\n",
    "for x in Maize_param.columns:\n",
    "    if(x != 'AreaUnderCereals_Maize'):\n",
    "        Maize_Directory[x] = Maize_Directory[x]*Maize_Directory['Maize_Ratio']\n",
    "        \n",
    "for x in Groundnut_param.columns:\n",
    "    if(x != 'AreaUnderOilSeeds_GroundNut'):\n",
    "        Groundnut_Directory[x] = Groundnut_Directory[x]*Groundnut_Directory['Groundnut_Ratio']\n",
    "\n",
    "Maize_Directory[24:]"
   ]
  },
  {
   "cell_type": "code",
   "execution_count": 3,
   "metadata": {},
   "outputs": [
    {
     "data": {
      "text/html": [
       "<div>\n",
       "<style scoped>\n",
       "    .dataframe tbody tr th:only-of-type {\n",
       "        vertical-align: middle;\n",
       "    }\n",
       "\n",
       "    .dataframe tbody tr th {\n",
       "        vertical-align: top;\n",
       "    }\n",
       "\n",
       "    .dataframe thead th {\n",
       "        text-align: right;\n",
       "    }\n",
       "</style>\n",
       "<table border=\"1\" class=\"dataframe\">\n",
       "  <thead>\n",
       "    <tr style=\"text-align: right;\">\n",
       "      <th></th>\n",
       "      <th>LivestockCensus_2012_Cattle</th>\n",
       "      <th>AreaUnderCereals_Maize</th>\n",
       "      <th>TotalNPK</th>\n",
       "    </tr>\n",
       "  </thead>\n",
       "  <tbody>\n",
       "    <tr>\n",
       "      <th>24</th>\n",
       "      <td>23446.847900</td>\n",
       "      <td>49869.5</td>\n",
       "      <td>8404.154608</td>\n",
       "    </tr>\n",
       "    <tr>\n",
       "      <th>25</th>\n",
       "      <td>2371.831678</td>\n",
       "      <td>1382.0</td>\n",
       "      <td>249.381182</td>\n",
       "    </tr>\n",
       "    <tr>\n",
       "      <th>26</th>\n",
       "      <td>6221.617910</td>\n",
       "      <td>2634.0</td>\n",
       "      <td>710.101614</td>\n",
       "    </tr>\n",
       "    <tr>\n",
       "      <th>27</th>\n",
       "      <td>1253.317144</td>\n",
       "      <td>961.0</td>\n",
       "      <td>368.617469</td>\n",
       "    </tr>\n",
       "    <tr>\n",
       "      <th>28</th>\n",
       "      <td>188.537479</td>\n",
       "      <td>2600.0</td>\n",
       "      <td>61.547519</td>\n",
       "    </tr>\n",
       "    <tr>\n",
       "      <th>29</th>\n",
       "      <td>38936.400170</td>\n",
       "      <td>48210.0</td>\n",
       "      <td>10997.550400</td>\n",
       "    </tr>\n",
       "    <tr>\n",
       "      <th>30</th>\n",
       "      <td>23446.847900</td>\n",
       "      <td>49869.5</td>\n",
       "      <td>8404.154608</td>\n",
       "    </tr>\n",
       "  </tbody>\n",
       "</table>\n",
       "</div>"
      ],
      "text/plain": [
       "    LivestockCensus_2012_Cattle  AreaUnderCereals_Maize      TotalNPK\n",
       "24                 23446.847900                 49869.5   8404.154608\n",
       "25                  2371.831678                  1382.0    249.381182\n",
       "26                  6221.617910                  2634.0    710.101614\n",
       "27                  1253.317144                   961.0    368.617469\n",
       "28                   188.537479                  2600.0     61.547519\n",
       "29                 38936.400170                 48210.0  10997.550400\n",
       "30                 23446.847900                 49869.5   8404.154608"
      ]
     },
     "execution_count": 3,
     "metadata": {},
     "output_type": "execute_result"
    }
   ],
   "source": [
    "Maize_Case_file = Maize_param\n",
    "for x in Maize_Case_file.columns:\n",
    "    Working_Directory[x] = Maize_Case_file[x]\n",
    "y_maize = Working_Directory['Maize_Production']\n",
    "\n",
    "if(len(Maize_Case_file) < 31):\n",
    "    row_24 = Maize_Case_file.iloc[24]\n",
    "    halved_row_24 = row_24 / 2\n",
    "    Maize_Case_file.iloc[24] = halved_row_24\n",
    "    Maize_Case_file.loc[len(Maize_Case_file)] = halved_row_24\n",
    "\n",
    "Maize_Case_file[24:]"
   ]
  },
  {
   "cell_type": "code",
   "execution_count": 4,
   "metadata": {},
   "outputs": [
    {
     "data": {
      "text/html": [
       "<div>\n",
       "<style scoped>\n",
       "    .dataframe tbody tr th:only-of-type {\n",
       "        vertical-align: middle;\n",
       "    }\n",
       "\n",
       "    .dataframe tbody tr th {\n",
       "        vertical-align: top;\n",
       "    }\n",
       "\n",
       "    .dataframe thead th {\n",
       "        text-align: right;\n",
       "    }\n",
       "</style>\n",
       "<table border=\"1\" class=\"dataframe\">\n",
       "  <thead>\n",
       "    <tr style=\"text-align: right;\">\n",
       "      <th></th>\n",
       "      <th>AreaUnderOilSeeds_GroundNut</th>\n",
       "      <th>MotorVehicles_Tractors</th>\n",
       "      <th>LivestockCensus_2012_Sheep</th>\n",
       "      <th>TotalNPK</th>\n",
       "    </tr>\n",
       "  </thead>\n",
       "  <tbody>\n",
       "    <tr>\n",
       "      <th>24</th>\n",
       "      <td>49762</td>\n",
       "      <td>721.160542</td>\n",
       "      <td>22723.723301</td>\n",
       "      <td>1852.839641</td>\n",
       "    </tr>\n",
       "    <tr>\n",
       "      <th>25</th>\n",
       "      <td>299</td>\n",
       "      <td>4.970978</td>\n",
       "      <td>83.608146</td>\n",
       "      <td>23.320849</td>\n",
       "    </tr>\n",
       "    <tr>\n",
       "      <th>26</th>\n",
       "      <td>3817</td>\n",
       "      <td>45.795271</td>\n",
       "      <td>280.247116</td>\n",
       "      <td>151.238385</td>\n",
       "    </tr>\n",
       "    <tr>\n",
       "      <th>27</th>\n",
       "      <td>38840</td>\n",
       "      <td>469.698763</td>\n",
       "      <td>21985.146627</td>\n",
       "      <td>4335.013151</td>\n",
       "    </tr>\n",
       "    <tr>\n",
       "      <th>28</th>\n",
       "      <td>35960</td>\n",
       "      <td>501.355901</td>\n",
       "      <td>12675.796996</td>\n",
       "      <td>2294.879709</td>\n",
       "    </tr>\n",
       "    <tr>\n",
       "      <th>29</th>\n",
       "      <td>22274</td>\n",
       "      <td>384.479472</td>\n",
       "      <td>12890.465433</td>\n",
       "      <td>1733.114796</td>\n",
       "    </tr>\n",
       "    <tr>\n",
       "      <th>30</th>\n",
       "      <td>49762</td>\n",
       "      <td>721.160542</td>\n",
       "      <td>22723.723301</td>\n",
       "      <td>1852.839641</td>\n",
       "    </tr>\n",
       "  </tbody>\n",
       "</table>\n",
       "</div>"
      ],
      "text/plain": [
       "    AreaUnderOilSeeds_GroundNut  MotorVehicles_Tractors  \\\n",
       "24                        49762              721.160542   \n",
       "25                          299                4.970978   \n",
       "26                         3817               45.795271   \n",
       "27                        38840              469.698763   \n",
       "28                        35960              501.355901   \n",
       "29                        22274              384.479472   \n",
       "30                        49762              721.160542   \n",
       "\n",
       "    LivestockCensus_2012_Sheep     TotalNPK  \n",
       "24                22723.723301  1852.839641  \n",
       "25                   83.608146    23.320849  \n",
       "26                  280.247116   151.238385  \n",
       "27                21985.146627  4335.013151  \n",
       "28                12675.796996  2294.879709  \n",
       "29                12890.465433  1733.114796  \n",
       "30                22723.723301  1852.839641  "
      ]
     },
     "execution_count": 4,
     "metadata": {},
     "output_type": "execute_result"
    }
   ],
   "source": [
    "Groundnut_Case_file = Groundnut_param\n",
    "for x in Groundnut_Case_file.columns:\n",
    "    Working_Directory[x] = Groundnut_Case_file[x]\n",
    "y_groundnut = Working_Directory['Groundnut_Production']\n",
    "\n",
    "if(len(Groundnut_Case_file) < 31):\n",
    "    row_24 = Groundnut_Case_file.iloc[24]\n",
    "    halved_row_24 = row_24 / 2\n",
    "    Groundnut_Case_file.iloc[24] = halved_row_24\n",
    "    Groundnut_Case_file.loc[len(Groundnut_Case_file)] = halved_row_24\n",
    "\n",
    "Groundnut_Case_file[24:]"
   ]
  },
  {
   "cell_type": "code",
   "execution_count": 5,
   "metadata": {},
   "outputs": [
    {
     "name": "stdout",
     "output_type": "stream",
     "text": [
      "            District      KDG_District\n",
      "0          BENGALURU   Bengaluru Urban\n",
      "1       BENGALURU(R)   Bengaluru Rural\n",
      "2         RAMANAGARA        Ramanagara\n",
      "3        CHITRADURGA       Chitradurga\n",
      "4         DAVANAGERE        Davanagere\n",
      "5              KOLAR             Kolar\n",
      "6    CHIKKABALLAPURA   Chikkaballapura\n",
      "7         SHIVAMOGGA        Shivamogga\n",
      "8           TUMAKURU          Tumakuru\n",
      "9     CHIKKAMAGALURU    Chikkamagaluru\n",
      "10  DAKSHINA KANNADA  Dakshina Kannada\n",
      "11             UDUPI             Udupi\n",
      "12            HASSAN            Hassan\n",
      "13            KODAGU            Kodagu\n",
      "14            MANDYA            Mandya\n",
      "15            MYSURU            Mysuru\n",
      "16    CHAMARAJANAGAR   Chamarajanagara\n",
      "17          BELAGAVI          Belagavi\n",
      "18        VIJAYAPURA        Vijayapura\n",
      "19          BAGALKOT         Bagalkote\n",
      "20          DHARAWAD           Dharwad\n",
      "21             GADAG             Gadag\n",
      "22            HAVERI            Haveri\n",
      "23    UTTARA KANNADA    Uttara Kannada\n",
      "24           BALLARI           Ballari\n",
      "25             BIDAR             Bidar\n",
      "26        KALABURAGI        Kalaburagi\n",
      "27           YADGIRI            Yadgir\n",
      "28           RAICHUR           Raichur\n",
      "29            KOPPAL            Koppal\n",
      "30      VIJAYANAGARA      Vijayanagara\n"
     ]
    }
   ],
   "source": [
    "abbreviation_mapping = {\n",
    "    'BENGALURU': 'BLR',\n",
    "    'BENGALURU(R)': 'BLR(R)',\n",
    "    'RAMANAGARA': 'RGA',\n",
    "    'CHITRADURGA': 'CDA',\n",
    "    'DAVANAGERE': 'DVG',\n",
    "    'KOLAR': 'KLR',\n",
    "    'CHIKKABALLAPURA': 'CKA',\n",
    "    'SHIVAMOGGA': 'SMG',\n",
    "    'TUMAKURU': 'TKR',\n",
    "    'CHIKKAMAGALURU': 'CMG',\n",
    "    'DAKSHINA KANNADA': 'DKA',\n",
    "    'UDUPI': 'UPI',\n",
    "    'HASSAN': 'HSN',\n",
    "    'KODAGU': 'KDG',\n",
    "    'MANDYA': 'MDY',\n",
    "    'MYSURU': 'MYS',\n",
    "    'CHAMARAJANAGAR': 'CNR',\n",
    "    'BELAGAVI': 'BLG',\n",
    "    'VIJAYAPURA': 'VJP',\n",
    "    'BAGALKOT': 'BKT',\n",
    "    'DHARAWAD': 'DWD',\n",
    "    'GADAG': 'GDG',\n",
    "    'HAVERI': 'HVR',\n",
    "    'UTTARA KANNADA': 'UTK',\n",
    "    'BALLARI': 'BLL',\n",
    "    'BIDAR': 'BDR',\n",
    "    'KALABURAGI': 'KLB',\n",
    "    'YADGIRI': 'YDR',\n",
    "    'RAICHUR': 'RCR',\n",
    "    'KOPPAL': 'KPL',\n",
    "    'VIJAYANAGARA': 'VNG',\n",
    "}\n",
    "district_mapping = {\n",
    "    'BENGALURU': 'Bengaluru Urban',\n",
    "    'BENGALURU(R)': 'Bengaluru Rural',\n",
    "    'RAMANAGARA': 'Ramanagara',\n",
    "    'CHITRADURGA': 'Chitradurga',\n",
    "    'DAVANAGERE': 'Davanagere',\n",
    "    'KOLAR': 'Kolar',\n",
    "    'CHIKKABALLAPURA': 'Chikkaballapura',\n",
    "    'SHIVAMOGGA': 'Shivamogga',\n",
    "    'TUMAKURU': 'Tumakuru',\n",
    "    'CHIKKAMAGALURU': 'Chikkamagaluru',\n",
    "    'DAKSHINA KANNADA': 'Dakshina Kannada',\n",
    "    'UDUPI': 'Udupi',\n",
    "    'HASSAN': 'Hassan',\n",
    "    'KODAGU': 'Kodagu',\n",
    "    'MANDYA': 'Mandya',\n",
    "    'MYSURU': 'Mysuru',\n",
    "    'CHAMARAJANAGAR': 'Chamarajanagara',\n",
    "    'BELAGAVI': 'Belagavi',\n",
    "    'VIJAYAPURA': 'Vijayapura',\n",
    "    'BAGALKOT': 'Bagalkote',\n",
    "    'DHARAWAD': 'Dharwad',\n",
    "    'GADAG': 'Gadag',\n",
    "    'HAVERI': 'Haveri',\n",
    "    'UTTARA KANNADA': 'Uttara Kannada',\n",
    "    'BALLARI': 'Ballari',\n",
    "    'BIDAR': 'Bidar',\n",
    "    'KALABURAGI': 'Kalaburagi',\n",
    "    'YADGIRI': 'Yadgir',\n",
    "    'RAICHUR': 'Raichur',\n",
    "    'KOPPAL': 'Koppal',\n",
    "    'VIJAYANAGARA': 'Vijayanagara'\n",
    "}\n",
    "\n",
    "Working_Directory['KDG_District'] = Working_Directory['District'].map(district_mapping)\n",
    "Working_Directory['Abbreviation'] = Working_Directory['District'].map(abbreviation_mapping)\n",
    "\n",
    "Maize_Directory['KDG_District'] = Maize_Directory['District'].map(district_mapping)\n",
    "Maize_Directory['Abbreviation'] = Maize_Directory['District'].map(abbreviation_mapping)\n",
    "\n",
    "Groundnut_Directory['KDG_District'] = Groundnut_Directory['District'].map(district_mapping)\n",
    "Groundnut_Directory['Abbreviation'] = Groundnut_Directory['District'].map(abbreviation_mapping)\n",
    "\n",
    "print(Working_Directory[['District', 'KDG_District']])"
   ]
  },
  {
   "cell_type": "code",
   "execution_count": 6,
   "metadata": {},
   "outputs": [
    {
     "name": "stdout",
     "output_type": "stream",
     "text": [
      "31\n"
     ]
    }
   ],
   "source": [
    "maize_rows_to_remove = (Maize_Case_file < 0).any(axis=1)\n",
    "\n",
    "# maize_rows_to_remove |= Working_Directory['Maize_Production']  < 1000\n",
    "# rows_to_remove |= Working_Directory['Maize_Production'] > 500000\n",
    "\n",
    "# Update Case_file and y\n",
    "Maize_Case_file = Maize_Case_file[~maize_rows_to_remove].reset_index(drop=True)\n",
    "y_maize = Maize_Directory['Maize_Production'][~maize_rows_to_remove].reset_index(drop=True)\n",
    "\n",
    "# Verify the length of Case_file\n",
    "case_file_length = len(Maize_Case_file)\n",
    "print(case_file_length)"
   ]
  },
  {
   "cell_type": "code",
   "execution_count": 7,
   "metadata": {},
   "outputs": [
    {
     "name": "stdout",
     "output_type": "stream",
     "text": [
      "31\n"
     ]
    }
   ],
   "source": [
    "groundnut_rows_to_remove = (Groundnut_Case_file < 0).any(axis=1)\n",
    "\n",
    "# rice_rows_to_remove |= Working_Directory['Groundnut_Production']  < 1000\n",
    "# rows_to_remove |= Working_Directory['Maize_Production'] > 500000\n",
    "\n",
    "# Update Case_file and y\n",
    "Groundnut_Case_file = Groundnut_Case_file[~groundnut_rows_to_remove].reset_index(drop=True)\n",
    "y_maize = Groundnut_Directory['Groundnut_Production'][~groundnut_rows_to_remove].reset_index(drop=True)\n",
    "\n",
    "# Verify the length of Case_file\n",
    "case_file_length = len(Groundnut_Case_file)\n",
    "print(case_file_length)"
   ]
  },
  {
   "cell_type": "code",
   "execution_count": 8,
   "metadata": {},
   "outputs": [],
   "source": [
    "y_maize_df = pd.DataFrame()\n",
    "y_maize_df['Maize_Production'] = Maize_Directory[~maize_rows_to_remove]['Maize_Production'].reset_index(drop=True)\n",
    "y_groundnut_df = pd.DataFrame()\n",
    "y_groundnut_df['Groundnut_Production'] = Groundnut_Directory[~groundnut_rows_to_remove]['Groundnut_Production'].reset_index(drop=True)\n",
    "Maize_Case_file =sm.add_constant(Maize_Case_file)\n",
    "Groundnut_Case_file =sm.add_constant(Groundnut_Case_file)"
   ]
  },
  {
   "cell_type": "code",
   "execution_count": 9,
   "metadata": {},
   "outputs": [
    {
     "name": "stdout",
     "output_type": "stream",
     "text": [
      "                            OLS Regression Results                            \n",
      "==============================================================================\n",
      "Dep. Variable:       Maize_Production   R-squared:                       0.956\n",
      "Model:                            OLS   Adj. R-squared:                  0.951\n",
      "Method:                 Least Squares   F-statistic:                     196.0\n",
      "Date:                Wed, 28 May 2025   Prob (F-statistic):           1.96e-18\n",
      "Time:                        14:47:44   Log-Likelihood:                -366.98\n",
      "No. Observations:                  31   AIC:                             742.0\n",
      "Df Residuals:                      27   BIC:                             747.7\n",
      "Df Model:                           3                                         \n",
      "Covariance Type:            nonrobust                                         \n",
      "===============================================================================================\n",
      "                                  coef    std err          t      P>|t|      [0.025      0.975]\n",
      "-----------------------------------------------------------------------------------------------\n",
      "const                       -6418.6174   9180.879     -0.699      0.490   -2.53e+04    1.24e+04\n",
      "LivestockCensus_2012_Cattle     0.5644      0.282      1.998      0.056      -0.015       1.144\n",
      "AreaUnderCereals_Maize          1.7749      0.256      6.927      0.000       1.249       2.301\n",
      "TotalNPK                        5.8512      1.362      4.295      0.000       3.056       8.646\n",
      "==============================================================================\n",
      "Omnibus:                        4.289   Durbin-Watson:                   2.417\n",
      "Prob(Omnibus):                  0.117   Jarque-Bera (JB):                3.579\n",
      "Skew:                           0.201   Prob(JB):                        0.167\n",
      "Kurtosis:                       4.615   Cond. No.                     1.20e+05\n",
      "==============================================================================\n",
      "\n",
      "Notes:\n",
      "[1] Standard Errors assume that the covariance matrix of the errors is correctly specified.\n",
      "[2] The condition number is large, 1.2e+05. This might indicate that there are\n",
      "strong multicollinearity or other numerical problems.\n"
     ]
    },
    {
     "data": {
      "text/plain": [
       "array([0.56435493, 1.77490279, 5.85119404])"
      ]
     },
     "execution_count": 9,
     "metadata": {},
     "output_type": "execute_result"
    }
   ],
   "source": [
    "model=sm.OLS(y_maize_df['Maize_Production'],Maize_Case_file).fit()\n",
    "print(model.summary())\n",
    "model.params.values\n",
    "maize_coef=model.params.values[1:]\n",
    "maize_coef"
   ]
  },
  {
   "cell_type": "code",
   "execution_count": 10,
   "metadata": {},
   "outputs": [
    {
     "name": "stdout",
     "output_type": "stream",
     "text": [
      "                             OLS Regression Results                             \n",
      "================================================================================\n",
      "Dep. Variable:     Groundnut_Production   R-squared:                       0.924\n",
      "Model:                              OLS   Adj. R-squared:                  0.912\n",
      "Method:                   Least Squares   F-statistic:                     78.73\n",
      "Date:                  Wed, 28 May 2025   Prob (F-statistic):           3.84e-14\n",
      "Time:                          14:47:44   Log-Likelihood:                -304.56\n",
      "No. Observations:                    31   AIC:                             619.1\n",
      "Df Residuals:                        26   BIC:                             626.3\n",
      "Df Model:                             4                                         \n",
      "Covariance Type:              nonrobust                                         \n",
      "===============================================================================================\n",
      "                                  coef    std err          t      P>|t|      [0.025      0.975]\n",
      "-----------------------------------------------------------------------------------------------\n",
      "const                         801.8414   1251.588      0.641      0.527   -1770.835    3374.518\n",
      "AreaUnderOilSeeds_GroundNut     0.2810      0.144      1.958      0.061      -0.014       0.576\n",
      "MotorVehicles_Tractors          8.3642      4.659      1.795      0.084      -1.213      17.941\n",
      "LivestockCensus_2012_Sheep      0.1394      0.150      0.931      0.360      -0.168       0.447\n",
      "TotalNPK                        4.2686      1.260      3.388      0.002       1.679       6.858\n",
      "==============================================================================\n",
      "Omnibus:                        0.934   Durbin-Watson:                   1.883\n",
      "Prob(Omnibus):                  0.627   Jarque-Bera (JB):                0.279\n",
      "Skew:                           0.200   Prob(JB):                        0.870\n",
      "Kurtosis:                       3.235   Cond. No.                     5.01e+04\n",
      "==============================================================================\n",
      "\n",
      "Notes:\n",
      "[1] Standard Errors assume that the covariance matrix of the errors is correctly specified.\n",
      "[2] The condition number is large, 5.01e+04. This might indicate that there are\n",
      "strong multicollinearity or other numerical problems.\n"
     ]
    },
    {
     "data": {
      "text/plain": [
       "array([0.28098192, 8.36421396, 0.13943503, 4.26857922])"
      ]
     },
     "execution_count": 10,
     "metadata": {},
     "output_type": "execute_result"
    }
   ],
   "source": [
    "model=sm.OLS(y_groundnut_df['Groundnut_Production'],Groundnut_Case_file).fit()\n",
    "print(model.summary())\n",
    "model.params.values\n",
    "groundnut_coef=model.params.values[1:]\n",
    "groundnut_coef"
   ]
  },
  {
   "cell_type": "code",
   "execution_count": 11,
   "metadata": {},
   "outputs": [
    {
     "name": "stdout",
     "output_type": "stream",
     "text": [
      "5.851194036365962\n",
      "4.26857922467183\n"
     ]
    }
   ],
   "source": [
    "labels_maize = [\"Cattle\", \"MArea\", \"NPK\"]\n",
    "maize_coef_dict = dict(zip(labels_maize, maize_coef))\n",
    "\n",
    "labels_groundnut = [\"GArea\", \"Tractors\", \"Sheep\",\"NPK\"]\n",
    "groundnut_coef_dict = dict(zip(labels_groundnut, groundnut_coef))\n",
    "\n",
    "def get_slope(label, crop_type):\n",
    "    if crop_type == \"Maize\":\n",
    "        return maize_coef_dict.get(label, \"Label not found\")\n",
    "    elif crop_type == \"Groundnut\":\n",
    "        return groundnut_coef_dict.get(label, \"Label not found\")\n",
    "    else:\n",
    "        return \"Crop type not found\"\n",
    "\n",
    "print(get_slope(\"NPK\", \"Maize\"))\n",
    "print(get_slope(\"NPK\", \"Groundnut\"))"
   ]
  },
  {
   "cell_type": "code",
   "execution_count": 12,
   "metadata": {},
   "outputs": [
    {
     "name": "stdout",
     "output_type": "stream",
     "text": [
      "5.851194036365962\n"
     ]
    },
    {
     "data": {
      "image/png": "[encoded data removed]",
      "text/plain": [
       "<Figure size 1400x900 with 1 Axes>"
      ]
     },
     "metadata": {},
     "output_type": "display_data"
    }
   ],
   "source": [
    "import matplotlib.pyplot as plt\n",
    "import numpy as np\n",
    "\n",
    "def calculate_and_visualize(perturbation, crop, Working_Directory, what,plot = True):\n",
    "    # Mapping of factor names based on 'what'\n",
    "    factor_mapping = {\n",
    "        'NPK': 'TotalNPK',\n",
    "        'Cattle': 'LivestockCensus_2012_Cattle',\n",
    "        'MArea': 'AreaUnderCereals_Maize',\n",
    "    }\n",
    "    \n",
    "    # Dynamically select the correct factor and slope column based on 'what'\n",
    "    factor_name = factor_mapping[what]\n",
    "    production_col = f'{crop}_Production'\n",
    "    slope = get_slope(what,crop)\n",
    "    print(slope)\n",
    "    # Calculate the factor\n",
    "    factor = Working_Directory[factor_name]\n",
    "    \n",
    "    # Initialize an empty list for new values\n",
    "    New_values = []\n",
    "    \n",
    "    # Calculate new values based on the provided formula\n",
    "    for i in range(len(Working_Directory['District'])):\n",
    "        y_new = Working_Directory[production_col][i] + slope * (perturbation * factor[i] / 100)\n",
    "        New_values.append(int(y_new))\n",
    "    \n",
    "    # Add the new values to the DataFrame with a specific column name\n",
    "    Working_Directory[f'{crop[0].upper()} - {what} {perturbation}'] = New_values\n",
    "    Working_Directory['Change'] =  (New_values - Working_Directory[production_col])\n",
    "    Working_Directory['Percentage Change'] =  ((New_values - Working_Directory[production_col])/Working_Directory[production_col])*100\n",
    "    Working_Directory = Working_Directory.replace([np.inf, -np.inf], np.nan).dropna(subset=['Percentage Change'])\n",
    "    \n",
    "    # Visualization\n",
    "    if(plot == True):\n",
    "        plt.figure(figsize=(14, 9))\n",
    "        bars = plt.bar(Working_Directory['District'], \n",
    "                    Working_Directory['Percentage Change'], color = 'green')\n",
    "        \n",
    "        # Add value labels to the bars\n",
    "        for bar, value in zip(bars, Working_Directory['Percentage Change']):\n",
    "            plt.text(bar.get_x() + bar.get_width() / 2, \n",
    "                    bar.get_height(), \n",
    "                    f'{value:.1f}', \n",
    "                    ha='center', \n",
    "                    va='bottom', \n",
    "                    fontsize=10)\n",
    "        \n",
    "        plt.xlabel('District')\n",
    "        plt.ylabel(f'Percentage Change in {crop} Production')\n",
    "        # plt.title(f'Percentage Change in {crop} Production Values when {what} increases by {perturbation}%')\n",
    "        plt.xticks(rotation=90)\n",
    "        plt.tight_layout()\n",
    "        plt.show()\n",
    "\n",
    "# Example usage:\n",
    "perturbation = 20\n",
    "what = 'NPK'  # Factor to be used\n",
    "crop = 'Maize'  # Or 'Maize'\n",
    "\n",
    "# Assuming Working_Directory is a DataFrame that has all necessary columns defined\n",
    "calculate_and_visualize(perturbation, crop, Maize_Directory, what,plot = True)\n"
   ]
  },
  {
   "cell_type": "code",
   "execution_count": 13,
   "metadata": {},
   "outputs": [
    {
     "data": {
      "image/png": "[encoded data removed]",
      "text/plain": [
       "<Figure size 1400x900 with 1 Axes>"
      ]
     },
     "metadata": {},
     "output_type": "display_data"
    }
   ],
   "source": [
    "import matplotlib.pyplot as plt\n",
    "import numpy as np\n",
    "\n",
    "def calculate_and_visualize(perturbation, crop, Working_Directory, what,plot = True):\n",
    "    # Mapping of factor names based on 'what'\n",
    "    factor_mapping = {\n",
    "        'NPK': 'TotalNPK',\n",
    "        'GArea': 'AreaUnderOilSeeds_GroundNut',\n",
    "        'Sheep': 'LivestockCensus_2012_Sheep',\n",
    "        'Tractors': 'MotorVehicles_Tractors'\n",
    "    }\n",
    "    \n",
    "    # Dynamically select the correct factor and slope column based on 'what'\n",
    "    factor_name = factor_mapping[what]\n",
    "    production_col = f'{crop}_Production'\n",
    "    slope = get_slope(what,crop)\n",
    "\n",
    "    # Calculate the factor\n",
    "    factor = Working_Directory[factor_name]\n",
    "    \n",
    "    # Initialize an empty list for new values\n",
    "    New_values = []\n",
    "    \n",
    "    # Calculate new values based on the provided formula\n",
    "    for i in range(len(Working_Directory['District'])):\n",
    "        y_new = Working_Directory[production_col][i] + slope * (perturbation * factor[i] / 100)\n",
    "        New_values.append(int(y_new))\n",
    "    \n",
    "    # Add the new values to the DataFrame with a specific column name\n",
    "    Working_Directory[f'{crop[0].upper()} - {what} {perturbation}'] = New_values\n",
    "    Working_Directory['Change'] =  (New_values - Working_Directory[production_col])\n",
    "    Working_Directory['Percentage Change'] =  ((New_values - Working_Directory[production_col])/Working_Directory[production_col])*100\n",
    "    Working_Directory = Working_Directory.replace([np.inf, -np.inf], np.nan).dropna(subset=['Percentage Change'])\n",
    "    \n",
    "    # Visualization\n",
    "    if(plot == True):\n",
    "        plt.figure(figsize=(14, 9))\n",
    "        bars = plt.bar(Working_Directory['District'], \n",
    "                    Working_Directory['Percentage Change'], color = 'darkviolet')\n",
    "        \n",
    "        # Add value labels to the bars\n",
    "        for bar, value in zip(bars, Working_Directory['Percentage Change']):\n",
    "            plt.text(bar.get_x() + bar.get_width() / 2, \n",
    "                    bar.get_height(), \n",
    "                    f'{value:.1f}', \n",
    "                    ha='center', \n",
    "                    va='bottom', \n",
    "                    fontsize=10)\n",
    "        \n",
    "        plt.xlabel('District')\n",
    "        plt.ylabel(f'Percentage Change in {crop} Production')\n",
    "        plt.title(f'Percentage Change in {crop} Production Values when {what} increases by {perturbation}%')\n",
    "        plt.xticks(rotation=90)\n",
    "        plt.tight_layout()\n",
    "        plt.show()\n",
    "\n",
    "# Example usage:\n",
    "perturbation = 20\n",
    "what = 'NPK'  # Factor to be used\n",
    "crop = 'Groundnut'  # Or 'Maize'\n",
    "\n",
    "# Assuming Working_Directory is a DataFrame that has all necessary columns defined\n",
    "calculate_and_visualize(perturbation, crop, Groundnut_Directory, what,plot = True)"
   ]
  },
  {
   "cell_type": "code",
   "execution_count": 14,
   "metadata": {},
   "outputs": [
    {
     "name": "stdout",
     "output_type": "stream",
     "text": [
      "    1   2   3   4   5   6   7   8   9   10  ...  22  23  24  25  26  27  28  \\\n",
      "1    0   1   1   0   0   0   0   0   0   0  ...   0   0   0   0   0   0   0   \n",
      "2    1   0   1   0   0   1   1   0   1   0  ...   0   0   0   0   0   0   0   \n",
      "3    1   1   0   0   0   0   0   0   1   0  ...   0   0   0   0   0   0   0   \n",
      "4    0   0   0   0   1   0   0   0   1   1  ...   0   0   0   1   0   0   0   \n",
      "5    0   0   0   1   0   0   0   1   0   1  ...   0   1   0   1   0   0   0   \n",
      "6    0   1   0   0   0   0   1   0   0   0  ...   0   0   0   0   0   0   0   \n",
      "7    0   1   0   0   0   1   0   0   1   0  ...   0   0   0   0   0   0   0   \n",
      "8    0   0   0   0   1   0   0   0   0   1  ...   0   1   1   0   0   0   0   \n",
      "9    0   1   1   1   0   0   1   0   0   1  ...   0   0   0   0   0   0   0   \n",
      "10   0   0   0   1   1   0   0   1   1   0  ...   0   0   0   0   0   0   0   \n",
      "11   0   0   0   0   0   0   0   0   0   1  ...   0   0   0   0   0   0   0   \n",
      "12   0   0   0   0   0   0   0   1   0   1  ...   0   0   1   0   0   0   0   \n",
      "13   0   0   0   0   0   0   0   0   1   1  ...   0   0   0   0   0   0   0   \n",
      "14   0   0   0   0   0   0   0   0   0   0  ...   0   0   0   0   0   0   0   \n",
      "15   0   0   1   0   0   0   0   0   1   0  ...   0   0   0   0   0   0   0   \n",
      "16   0   0   0   0   0   0   0   0   0   0  ...   0   0   0   0   0   0   0   \n",
      "17   0   0   1   0   0   0   0   0   0   0  ...   0   0   0   0   0   0   0   \n",
      "18   0   0   0   0   0   0   0   0   0   0  ...   1   0   1   0   0   0   0   \n",
      "19   0   0   0   0   0   0   0   0   0   0  ...   0   0   0   0   0   1   1   \n",
      "20   0   0   0   0   0   0   0   0   0   0  ...   1   0   0   0   0   0   0   \n",
      "21   0   0   0   0   0   0   0   0   0   0  ...   1   1   1   0   0   0   0   \n",
      "22   0   0   0   0   0   0   0   0   0   0  ...   0   1   0   1   0   0   0   \n",
      "23   0   0   0   0   1   0   0   1   0   0  ...   1   0   1   1   0   0   0   \n",
      "24   0   0   0   0   0   0   0   1   0   0  ...   0   1   0   0   0   0   0   \n",
      "25   0   0   0   1   1   0   0   0   0   0  ...   1   1   0   0   0   0   0   \n",
      "26   0   0   0   0   0   0   0   0   0   0  ...   0   0   0   0   0   1   0   \n",
      "27   0   0   0   0   0   0   0   0   0   0  ...   0   0   0   0   1   0   1   \n",
      "28   0   0   0   0   0   0   0   0   0   0  ...   0   0   0   0   0   1   0   \n",
      "29   0   0   0   0   0   0   0   0   0   0  ...   0   0   0   1   0   0   1   \n",
      "30   0   0   0   0   0   0   0   0   0   0  ...   1   0   0   1   0   0   0   \n",
      "31   0   0   0   1   1   0   0   0   0   0  ...   1   1   0   1   0   0   0   \n",
      "\n",
      "    29  30  31  \n",
      "1    0   0   0  \n",
      "2    0   0   0  \n",
      "3    0   0   0  \n",
      "4    0   0   1  \n",
      "5    0   0   1  \n",
      "6    0   0   0  \n",
      "7    0   0   0  \n",
      "8    0   0   0  \n",
      "9    0   0   0  \n",
      "10   0   0   0  \n",
      "11   0   0   0  \n",
      "12   0   0   0  \n",
      "13   0   0   0  \n",
      "14   0   0   0  \n",
      "15   0   0   0  \n",
      "16   0   0   0  \n",
      "17   0   0   0  \n",
      "18   0   0   0  \n",
      "19   1   0   0  \n",
      "20   1   1   0  \n",
      "21   0   0   0  \n",
      "22   0   1   1  \n",
      "23   0   0   1  \n",
      "24   0   0   0  \n",
      "25   1   1   1  \n",
      "26   0   0   0  \n",
      "27   0   0   0  \n",
      "28   1   0   0  \n",
      "29   0   1   0  \n",
      "30   1   0   1  \n",
      "31   0   1   0  \n",
      "\n",
      "[31 rows x 31 columns]\n"
     ]
    }
   ],
   "source": [
    "adjacency_excel = pd.read_excel('Karnataka_District_Adjacency_File.xlsx')\n",
    "\n",
    "district_codes = sorted(set(adjacency_excel['District_Code']))\n",
    "\n",
    "n = len(district_codes)\n",
    "adj_matrix = np.zeros((n, n), dtype=int)\n",
    "\n",
    "code_to_index = {code: idx for idx, code in enumerate(district_codes)}\n",
    "\n",
    "for i in range(len(adjacency_excel)):\n",
    "    district_code = adjacency_excel['District_Code'][i]\n",
    "    neighbors = [int(num) for num in str(adjacency_excel['District_Neighbors'][i]).split(',') if num.strip().isdigit()]\n",
    "    \n",
    "    for neighbor in neighbors:\n",
    "        adj_matrix[code_to_index[district_code]][code_to_index[neighbor]] = 1\n",
    "        adj_matrix[code_to_index[neighbor]][code_to_index[district_code]] = 1  # Assuming adjacency is bidirectional\n",
    "\n",
    "adj_matrix_df = pd.DataFrame(adj_matrix, index=district_codes, columns=district_codes)\n",
    "\n",
    "print(adj_matrix_df)\n",
    "\n",
    "adj_matrix_np = adj_matrix_df.to_numpy()"
   ]
  },
  {
   "cell_type": "code",
   "execution_count": 15,
   "metadata": {},
   "outputs": [],
   "source": [
    "def normalize_list(lst):\n",
    "    min_val = min(lst)\n",
    "    max_val = max(lst)\n",
    "    normalized_lst = [(x - min_val) / (max_val - min_val) for x in lst]\n",
    "    return normalized_lst\n",
    "\n",
    "\n",
    "Name = 'M - NPK 20'\n",
    "Capability_list = normalize_list(Maize_Directory[f'{Name}'])"
   ]
  },
  {
   "cell_type": "code",
   "execution_count": 16,
   "metadata": {},
   "outputs": [],
   "source": [
    "# Impact calculation function\n",
    "def calculate_impact(Working_Directory, crop, perturbation, what):\n",
    "    # Normalize the capability list\n",
    "    capability_name = f'{crop[0].upper()} - {what} {perturbation}'\n",
    "\n",
    "    # Calculate the impact as percentage change\n",
    "    original_production = Working_Directory[f'{crop}_Production']\n",
    "    new_production = Working_Directory[capability_name]\n",
    "    impact = ((new_production - original_production) / original_production) * 100\n",
    "\n",
    "    # Column names\n",
    "    impact_column_name = f'Impact_{crop[0].upper()}_{what}_{perturbation}'\n",
    "\n",
    "    return impact, impact_column_name"
   ]
  },
  {
   "cell_type": "code",
   "execution_count": 17,
   "metadata": {},
   "outputs": [],
   "source": [
    "# Combined calculation function\n",
    "def calculate_Change_Impact(Working_Directory, crop, perturbation, what):\n",
    "    # Normalize the capability list\n",
    "    capability_name = f'{crop[0].upper()} - {what} {perturbation}'\n",
    "    \n",
    "    # Calculate the impact as percentage change\n",
    "    original_production = Working_Directory[f'{crop}_Production']\n",
    "    new_production = Working_Directory[capability_name]\n",
    "    change = (new_production - original_production) \n",
    "    impact = ((new_production - original_production) / original_production) * 100\n",
    "\n",
    "    return change,impact,new_production"
   ]
  },
  {
   "cell_type": "code",
   "execution_count": 18,
   "metadata": {},
   "outputs": [],
   "source": [
    "# Function to calculate impact for a specific crop\n",
    "def calculate_impact( crop, perturbation, what):\n",
    "    if(crop == 'Maize'):\n",
    "        Working_Directory = Maize_Directory\n",
    "    elif(crop == 'Rice'):\n",
    "        Working_Directory = Rice_Directory\n",
    "    else:\n",
    "        Working_Directory = Groundnut_Directory\n",
    "    capability_name = f'{crop[0].upper()} - {what} {perturbation}'\n",
    "    original_production = Working_Directory[f'{crop}_Production']\n",
    "    new_production = Working_Directory[capability_name]\n",
    "    impact = ((new_production - original_production) / original_production) * 100\n",
    "    impact_column_name = f'Impact_{crop[0].upper()}_{what}_{perturbation}'\n",
    "    return impact, impact_column_name"
   ]
  },
  {
   "cell_type": "markdown",
   "metadata": {},
   "source": [
    "### Normalizing Before Calculation"
   ]
  },
  {
   "cell_type": "code",
   "execution_count": null,
   "metadata": {},
   "outputs": [],
   "source": [
    "def calculate_stress_stability(adj_matrix, df):\n",
    "    df = df.copy()  # Avoid modifying original DataFrame\n",
    "\n",
    "    df['stress'] = 0.0\n",
    "    df['stability'] = 0.0\n",
    "    \n",
    "    capability_columns = df.columns.difference(['node', 'stress', 'stability'])\n",
    "\n",
    "    # Normalize capability columns (min-max normalization)\n",
    "    for col in capability_columns:\n",
    "        min_val = df[col].min()\n",
    "        max_val = df[col].max()\n",
    "        if max_val - min_val > 0:\n",
    "            df[col] = (df[col] - min_val) / (max_val - min_val)\n",
    "        else:\n",
    "            df[col] = 0  # If constant column\n",
    "\n",
    "    for idx, row in df.iterrows():\n",
    "        node = row['node']\n",
    "        node_idx = df.index[df['node'] == node][0]\n",
    "        neighbors_idx = np.where(adj_matrix[node_idx] == 1)[0]\n",
    "        \n",
    "        if len(neighbors_idx) > 0:\n",
    "            neighbor_capabilities = df.iloc[neighbors_idx][capability_columns].values\n",
    "            centroid = np.mean(neighbor_capabilities, axis=0)\n",
    "            node_capabilities = row[capability_columns].values\n",
    "            stress = np.linalg.norm(node_capabilities - centroid)\n",
    "        else:\n",
    "            stress = 0\n",
    "        \n",
    "        df.at[idx, 'stress'] = stress\n",
    "\n",
    "    df['stability'] = 1 - df['stress']\n",
    "    \n",
    "    return df\n"
   ]
  },
  {
   "cell_type": "markdown",
   "metadata": {},
   "source": [
    "### Normalizing after Calculation"
   ]
  },
  {
   "cell_type": "code",
   "execution_count": null,
   "metadata": {},
   "outputs": [],
   "source": [
    "def calculate_stress_stability(adj_matrix, df):\n",
    "    df['stress'] = 0.0\n",
    "    df['stability'] = 0.0\n",
    "    capability_columns = df.columns.difference(['node', 'stress', 'stability'])\n",
    "    \n",
    "    for idx, row in df.iterrows():\n",
    "        node = row['node']\n",
    "        node_idx = df.index[df['node'] == node][0]\n",
    "        neighbors_idx = np.where(adj_matrix[node_idx] == 1)[0]\n",
    "        \n",
    "        if len(neighbors_idx) > 0:\n",
    "            neighbor_capabilities = df.iloc[neighbors_idx][capability_columns].values\n",
    "            centroid = np.mean(neighbor_capabilities, axis=0)\n",
    "            node_capabilities = row[capability_columns].values\n",
    "            stress = np.linalg.norm(node_capabilities - centroid)\n",
    "        else:\n",
    "            stress = 0\n",
    "        \n",
    "        df.at[idx, 'stress'] = stress\n",
    "    \n",
    "    min_stress = df['stress'].min()\n",
    "    max_stress = df['stress'].max()\n",
    "    \n",
    "    if max_stress - min_stress > 0:\n",
    "        df['stress'] = (df['stress'] - min_stress) / (max_stress - min_stress)\n",
    "    else:\n",
    "        df['stress'] = 0 \n",
    "    \n",
    "    df['stability'] = 1 - df['stress']\n",
    "    \n",
    "    return df\n"
   ]
  },
  {
   "cell_type": "code",
   "execution_count": 21,
   "metadata": {},
   "outputs": [
    {
     "data": {
      "application/vnd.plotly.v1+json": {
       "config": {
        "plotlyServerURL": "https://plot.ly"
       },
       "data": [
        {
         "hovertemplate": "<b>%{text}</b><br>Stability: %{x:.2f}<br>Impact: %{y:.2f}%<extra></extra>",
         "marker": {
          "color": "green"
         },
         "mode": "markers+text",
         "name": "Maize",
         "text": [
          "BLR",
          "BLR(R)",
          "RGA",
          "CDA",
          "DVG",
          "KLR",
          "CKA",
          "SMG",
          "TKR",
          "CMG",
          "DKA",
          "UPI",
          "HSN",
          "KDG",
          "MDY",
          "MYS",
          "CNR",
          "BLG",
          "VJP",
          "BKT",
          "DWD",
          "GDG",
          "HVR",
          "UTK",
          "BLL",
          "BDR",
          "KLB",
          "YDR",
          "RCR",
          "KPL",
          "VNG"
         ],
         "textfont": {
          "color": "black",
          "size": 10
         },
         "textposition": "top right",
         "type": "scatter",
         "x": {
          "bdata": "NE/LSBdP7j97HAZw0qvqPy4B7TN8iOw/8PjiXjJJ0z9ulmJuSMbVP4aKhjZ23us/m9h3aiqn6j/12U4oPb3rPwp/rSvc7eI/4nh3PPHH5T+sRK4tSUXqP7O6Qtitt+s/MO79hV6C4D/auymr7bHoP0gQp3itDeg/XI10QWOX7z/LLmTjSEbqP6jf7e3OmMk/r8P2a6xN7T8xtSx0jwjtP74PeHEaOuU/C78AeeBc6T+Jl3YRsJ3jP2n8IFdzp+E/bUN64GDu5z9libEjMYbuP1uAEz9ILec/vzUCNZ4d6D+6sufmiJPnP7vFw7od7es/X0yx1LrW5T8=",
          "dtype": "f8"
         },
         "y": {
          "bdata": "cbfPILHIMUAnfDNUxq4gQGHhyJyA5wNAe/XACHTDEkClDnuwJUUUQHgZz6+4VS1A/YIC13gvIkDiwOJ1KYwVQNy92gRPOBNAQTFEgZwcL0AAAAAAAAD4/7rVGamYW/0/mw5loX7iF0AgQHdkh/o2QEgtodZmfCFAPZGlwKqzF0BjOIcpYxIXQPnMZLZrmCNAHmwSR6KMFUCdhc2pvlQlQA+OwdU9piBAQOOPGmjmEkAukvlvvJkYQJqPjZVL7RNAoMkji0LnIkAEXik7TdokQK4vQTkCtRZA0DxV5ssfMEBUwepTweojQHxaX+SGDhtAoMkji0LnIkA=",
          "dtype": "f8"
         }
        },
        {
         "hovertemplate": "<b>%{text}</b><br>Stability: %{x:.2f}<br>Impact: %{y:.2f}%<extra></extra>",
         "marker": {
          "color": "darkviolet"
         },
         "mode": "markers",
         "name": "Groundnut",
         "text": [
          "BLR",
          "BLR(R)",
          "RGA",
          "CDA",
          "DVG",
          "KLR",
          "CKA",
          "SMG",
          "TKR",
          "CMG",
          "DKA",
          "UPI",
          "HSN",
          "KDG",
          "MDY",
          "MYS",
          "CNR",
          "BLG",
          "VJP",
          "BKT",
          "DWD",
          "GDG",
          "HVR",
          "UTK",
          "BLL",
          "BDR",
          "KLB",
          "YDR",
          "RCR",
          "KPL",
          "VNG"
         ],
         "type": "scatter",
         "x": {
          "bdata": "NE/LSBdP7j97HAZw0qvqPy4B7TN8iOw/8PjiXjJJ0z9ulmJuSMbVP4aKhjZ23us/m9h3aiqn6j/12U4oPb3rPwp/rSvc7eI/4nh3PPHH5T+sRK4tSUXqP7O6Qtitt+s/MO79hV6C4D/auymr7bHoP0gQp3itDeg/XI10QWOX7z/LLmTjSEbqP6jf7e3OmMk/r8P2a6xN7T8xtSx0jwjtP74PeHEaOuU/C78AeeBc6T+Jl3YRsJ3jP2n8IFdzp+E/bUN64GDu5z9libEjMYbuP1uAEz9ILec/vzUCNZ4d6D+6sufmiJPnP7vFw7od7es/X0yx1LrW5T8=",
          "dtype": "f8"
         },
         "y": {
          "bdata": "RCtsDiRaKUAP9lttDE0XQPFo/mDj0fw/Lwfl5lpeC0C1PooQcY4NQHAa9N5OaSVA6e3xLUCHGkAJIYQQQggNQGIajkLNCgxAvDPimmeqJkAAAAAAAAD4/7pNLCubtPw/GjPYCP7jEEDHcRzHcRwvQK8+/lIZdxlASZIkSZIkEUBpaR9AkdMQQP6nvoD8lRxAEWQvM1BqD0DS6D+siBwfQBaI30oTShhAmEYQPl2TC0AumkmwwO8RQL1nEr1nEg1AzAYGqP2TG0DVOyf4Zx4dQLQVjPwAkhBAYeo8WGeKJ0DYhd+hQxEdQLdNt85ZuxNAzAYGqP2TG0A=",
          "dtype": "f8"
         }
        },
        {
         "marker": {
          "color": "darkblue"
         },
         "mode": "markers",
         "name": "BLR: BENGALURU",
         "type": "scatter",
         "x": [
          null
         ],
         "y": [
          null
         ]
        },
        {
         "marker": {
          "color": "darkblue"
         },
         "mode": "markers",
         "name": "BLR(R): BENGALURU(R)",
         "type": "scatter",
         "x": [
          null
         ],
         "y": [
          null
         ]
        },
        {
         "marker": {
          "color": "darkblue"
         },
         "mode": "markers",
         "name": "RGA: RAMANAGARA",
         "type": "scatter",
         "x": [
          null
         ],
         "y": [
          null
         ]
        },
        {
         "marker": {
          "color": "darkblue"
         },
         "mode": "markers",
         "name": "CDA: CHITRADURGA",
         "type": "scatter",
         "x": [
          null
         ],
         "y": [
          null
         ]
        },
        {
         "marker": {
          "color": "darkblue"
         },
         "mode": "markers",
         "name": "DVG: DAVANAGERE",
         "type": "scatter",
         "x": [
          null
         ],
         "y": [
          null
         ]
        },
        {
         "marker": {
          "color": "darkblue"
         },
         "mode": "markers",
         "name": "KLR: KOLAR",
         "type": "scatter",
         "x": [
          null
         ],
         "y": [
          null
         ]
        },
        {
         "marker": {
          "color": "darkblue"
         },
         "mode": "markers",
         "name": "CKA: CHIKKABALLAPURA",
         "type": "scatter",
         "x": [
          null
         ],
         "y": [
          null
         ]
        },
        {
         "marker": {
          "color": "darkblue"
         },
         "mode": "markers",
         "name": "SMG: SHIVAMOGGA",
         "type": "scatter",
         "x": [
          null
         ],
         "y": [
          null
         ]
        },
        {
         "marker": {
          "color": "darkblue"
         },
         "mode": "markers",
         "name": "TKR: TUMAKURU",
         "type": "scatter",
         "x": [
          null
         ],
         "y": [
          null
         ]
        },
        {
         "marker": {
          "color": "darkblue"
         },
         "mode": "markers",
         "name": "CMG: CHIKKAMAGALURU",
         "type": "scatter",
         "x": [
          null
         ],
         "y": [
          null
         ]
        },
        {
         "marker": {
          "color": "darkblue"
         },
         "mode": "markers",
         "name": "DKA: DAKSHINA KANNADA",
         "type": "scatter",
         "x": [
          null
         ],
         "y": [
          null
         ]
        },
        {
         "marker": {
          "color": "darkblue"
         },
         "mode": "markers",
         "name": "UPI: UDUPI",
         "type": "scatter",
         "x": [
          null
         ],
         "y": [
          null
         ]
        },
        {
         "marker": {
          "color": "darkblue"
         },
         "mode": "markers",
         "name": "HSN: HASSAN",
         "type": "scatter",
         "x": [
          null
         ],
         "y": [
          null
         ]
        },
        {
         "marker": {
          "color": "darkblue"
         },
         "mode": "markers",
         "name": "KDG: KODAGU",
         "type": "scatter",
         "x": [
          null
         ],
         "y": [
          null
         ]
        },
        {
         "marker": {
          "color": "darkblue"
         },
         "mode": "markers",
         "name": "MDY: MANDYA",
         "type": "scatter",
         "x": [
          null
         ],
         "y": [
          null
         ]
        },
        {
         "marker": {
          "color": "darkblue"
         },
         "mode": "markers",
         "name": "MYS: MYSURU",
         "type": "scatter",
         "x": [
          null
         ],
         "y": [
          null
         ]
        },
        {
         "marker": {
          "color": "darkblue"
         },
         "mode": "markers",
         "name": "CNR: CHAMARAJANAGAR",
         "type": "scatter",
         "x": [
          null
         ],
         "y": [
          null
         ]
        },
        {
         "marker": {
          "color": "darkblue"
         },
         "mode": "markers",
         "name": "BLG: BELAGAVI",
         "type": "scatter",
         "x": [
          null
         ],
         "y": [
          null
         ]
        },
        {
         "marker": {
          "color": "darkblue"
         },
         "mode": "markers",
         "name": "VJP: VIJAYAPURA",
         "type": "scatter",
         "x": [
          null
         ],
         "y": [
          null
         ]
        },
        {
         "marker": {
          "color": "darkblue"
         },
         "mode": "markers",
         "name": "BKT: BAGALKOT",
         "type": "scatter",
         "x": [
          null
         ],
         "y": [
          null
         ]
        },
        {
         "marker": {
          "color": "darkblue"
         },
         "mode": "markers",
         "name": "DWD: DHARAWAD",
         "type": "scatter",
         "x": [
          null
         ],
         "y": [
          null
         ]
        },
        {
         "marker": {
          "color": "darkblue"
         },
         "mode": "markers",
         "name": "GDG: GADAG",
         "type": "scatter",
         "x": [
          null
         ],
         "y": [
          null
         ]
        },
        {
         "marker": {
          "color": "darkblue"
         },
         "mode": "markers",
         "name": "HVR: HAVERI",
         "type": "scatter",
         "x": [
          null
         ],
         "y": [
          null
         ]
        },
        {
         "marker": {
          "color": "darkblue"
         },
         "mode": "markers",
         "name": "UTK: UTTARA KANNADA",
         "type": "scatter",
         "x": [
          null
         ],
         "y": [
          null
         ]
        },
        {
         "marker": {
          "color": "darkblue"
         },
         "mode": "markers",
         "name": "BLL: BALLARI",
         "type": "scatter",
         "x": [
          null
         ],
         "y": [
          null
         ]
        },
        {
         "marker": {
          "color": "darkblue"
         },
         "mode": "markers",
         "name": "BDR: BIDAR",
         "type": "scatter",
         "x": [
          null
         ],
         "y": [
          null
         ]
        },
        {
         "marker": {
          "color": "darkblue"
         },
         "mode": "markers",
         "name": "KLB: KALABURAGI",
         "type": "scatter",
         "x": [
          null
         ],
         "y": [
          null
         ]
        },
        {
         "marker": {
          "color": "darkblue"
         },
         "mode": "markers",
         "name": "YDR: YADGIRI",
         "type": "scatter",
         "x": [
          null
         ],
         "y": [
          null
         ]
        },
        {
         "marker": {
          "color": "darkblue"
         },
         "mode": "markers",
         "name": "RCR: RAICHUR",
         "type": "scatter",
         "x": [
          null
         ],
         "y": [
          null
         ]
        },
        {
         "marker": {
          "color": "darkblue"
         },
         "mode": "markers",
         "name": "KPL: KOPPAL",
         "type": "scatter",
         "x": [
          null
         ],
         "y": [
          null
         ]
        },
        {
         "marker": {
          "color": "darkblue"
         },
         "mode": "markers",
         "name": "VNG: VIJAYANAGARA",
         "type": "scatter",
         "x": [
          null
         ],
         "y": [
          null
         ]
        },
        {
         "mode": "text",
         "showlegend": false,
         "text": [
          "Avg Stability: 0.74"
         ],
         "textfont": {
          "size": 10.7
         },
         "type": "scatter",
         "x": [
          0.7356973957825889
         ],
         "y": [
          1.7940932928512283
         ]
        },
        {
         "mode": "text",
         "showlegend": false,
         "text": [
          "Avg Impact (Maize): 8.57"
         ],
         "textfont": {
          "color": "green",
          "size": 10.7
         },
         "type": "scatter",
         "x": [
          0.3
         ],
         "y": [
          8.16620693598939
         ]
        },
        {
         "mode": "text",
         "showlegend": false,
         "text": [
          "Avg Impact (Groundnut): 6.18"
         ],
         "textfont": {
          "color": "darkviolet",
          "size": 10.7
         },
         "type": "scatter",
         "x": [
          0.3
         ],
         "y": [
          6.577470086302204
         ]
        }
       ],
       "layout": {
        "height": 600,
        "legend": {
         "title": {
          "text": "Districts"
         }
        },
        "shapes": [
         {
          "line": {
           "color": "darkgrey",
           "dash": "dash",
           "width": 1.5
          },
          "type": "line",
          "x0": 0.7356973957825889,
          "x1": 0.7356973957825889,
          "y0": 0,
          "y1": 1,
          "yref": "paper"
         },
         {
          "line": {
           "color": "green",
           "dash": "dash",
           "width": 1.5
          },
          "type": "line",
          "x0": 0,
          "x1": 1,
          "xref": "paper",
          "y0": 8.56620693598939,
          "y1": 8.56620693598939
         },
         {
          "line": {
           "color": "darkviolet",
           "dash": "dash",
           "width": 1.5
          },
          "type": "line",
          "x0": 0,
          "x1": 1,
          "xref": "paper",
          "y0": 6.177470086302204,
          "y1": 6.177470086302204
         }
        ],
        "template": {
         "data": {
          "bar": [
           {
            "error_x": {
             "color": "#2a3f5f"
            },
            "error_y": {
             "color": "#2a3f5f"
            },
            "marker": {
             "line": {
              "color": "#E5ECF6",
              "width": 0.5
             },
             "pattern": {
              "fillmode": "overlay",
              "size": 10,
              "solidity": 0.2
             }
            },
            "type": "bar"
           }
          ],
          "barpolar": [
           {
            "marker": {
             "line": {
              "color": "#E5ECF6",
              "width": 0.5
             },
             "pattern": {
              "fillmode": "overlay",
              "size": 10,
              "solidity": 0.2
             }
            },
            "type": "barpolar"
           }
          ],
          "carpet": [
           {
            "aaxis": {
             "endlinecolor": "#2a3f5f",
             "gridcolor": "white",
             "linecolor": "white",
             "minorgridcolor": "white",
             "startlinecolor": "#2a3f5f"
            },
            "baxis": {
             "endlinecolor": "#2a3f5f",
             "gridcolor": "white",
             "linecolor": "white",
             "minorgridcolor": "white",
             "startlinecolor": "#2a3f5f"
            },
            "type": "carpet"
           }
          ],
          "choropleth": [
           {
            "colorbar": {
             "outlinewidth": 0,
             "ticks": ""
            },
            "type": "choropleth"
           }
          ],
          "contour": [
           {
            "colorbar": {
             "outlinewidth": 0,
             "ticks": ""
            },
            "colorscale": [
             [
              0,
              "#0d0887"
             ],
             [
              0.1111111111111111,
              "#46039f"
             ],
             [
              0.2222222222222222,
              "#7201a8"
             ],
             [
              0.3333333333333333,
              "#9c179e"
             ],
             [
              0.4444444444444444,
              "#bd3786"
             ],
             [
              0.5555555555555556,
              "#d8576b"
             ],
             [
              0.6666666666666666,
              "#ed7953"
             ],
             [
              0.7777777777777778,
              "#fb9f3a"
             ],
             [
              0.8888888888888888,
              "#fdca26"
             ],
             [
              1,
              "#f0f921"
             ]
            ],
            "type": "contour"
           }
          ],
          "contourcarpet": [
           {
            "colorbar": {
             "outlinewidth": 0,
             "ticks": ""
            },
            "type": "contourcarpet"
           }
          ],
          "heatmap": [
           {
            "colorbar": {
             "outlinewidth": 0,
             "ticks": ""
            },
            "colorscale": [
             [
              0,
              "#0d0887"
             ],
             [
              0.1111111111111111,
              "#46039f"
             ],
             [
              0.2222222222222222,
              "#7201a8"
             ],
             [
              0.3333333333333333,
              "#9c179e"
             ],
             [
              0.4444444444444444,
              "#bd3786"
             ],
             [
              0.5555555555555556,
              "#d8576b"
             ],
             [
              0.6666666666666666,
              "#ed7953"
             ],
             [
              0.7777777777777778,
              "#fb9f3a"
             ],
             [
              0.8888888888888888,
              "#fdca26"
             ],
             [
              1,
              "#f0f921"
             ]
            ],
            "type": "heatmap"
           }
          ],
          "histogram": [
           {
            "marker": {
             "pattern": {
              "fillmode": "overlay",
              "size": 10,
              "solidity": 0.2
             }
            },
            "type": "histogram"
           }
          ],
          "histogram2d": [
           {
            "colorbar": {
             "outlinewidth": 0,
             "ticks": ""
            },
            "colorscale": [
             [
              0,
              "#0d0887"
             ],
             [
              0.1111111111111111,
              "#46039f"
             ],
             [
              0.2222222222222222,
              "#7201a8"
             ],
             [
              0.3333333333333333,
              "#9c179e"
             ],
             [
              0.4444444444444444,
              "#bd3786"
             ],
             [
              0.5555555555555556,
              "#d8576b"
             ],
             [
              0.6666666666666666,
              "#ed7953"
             ],
             [
              0.7777777777777778,
              "#fb9f3a"
             ],
             [
              0.8888888888888888,
              "#fdca26"
             ],
             [
              1,
              "#f0f921"
             ]
            ],
            "type": "histogram2d"
           }
          ],
          "histogram2dcontour": [
           {
            "colorbar": {
             "outlinewidth": 0,
             "ticks": ""
            },
            "colorscale": [
             [
              0,
              "#0d0887"
             ],
             [
              0.1111111111111111,
              "#46039f"
             ],
             [
              0.2222222222222222,
              "#7201a8"
             ],
             [
              0.3333333333333333,
              "#9c179e"
             ],
             [
              0.4444444444444444,
              "#bd3786"
             ],
             [
              0.5555555555555556,
              "#d8576b"
             ],
             [
              0.6666666666666666,
              "#ed7953"
             ],
             [
              0.7777777777777778,
              "#fb9f3a"
             ],
             [
              0.8888888888888888,
              "#fdca26"
             ],
             [
              1,
              "#f0f921"
             ]
            ],
            "type": "histogram2dcontour"
           }
          ],
          "mesh3d": [
           {
            "colorbar": {
             "outlinewidth": 0,
             "ticks": ""
            },
            "type": "mesh3d"
           }
          ],
          "parcoords": [
           {
            "line": {
             "colorbar": {
              "outlinewidth": 0,
              "ticks": ""
             }
            },
            "type": "parcoords"
           }
          ],
          "pie": [
           {
            "automargin": true,
            "type": "pie"
           }
          ],
          "scatter": [
           {
            "fillpattern": {
             "fillmode": "overlay",
             "size": 10,
             "solidity": 0.2
            },
            "type": "scatter"
           }
          ],
          "scatter3d": [
           {
            "line": {
             "colorbar": {
              "outlinewidth": 0,
              "ticks": ""
             }
            },
            "marker": {
             "colorbar": {
              "outlinewidth": 0,
              "ticks": ""
             }
            },
            "type": "scatter3d"
           }
          ],
          "scattercarpet": [
           {
            "marker": {
             "colorbar": {
              "outlinewidth": 0,
              "ticks": ""
             }
            },
            "type": "scattercarpet"
           }
          ],
          "scattergeo": [
           {
            "marker": {
             "colorbar": {
              "outlinewidth": 0,
              "ticks": ""
             }
            },
            "type": "scattergeo"
           }
          ],
          "scattergl": [
           {
            "marker": {
             "colorbar": {
              "outlinewidth": 0,
              "ticks": ""
             }
            },
            "type": "scattergl"
           }
          ],
          "scattermap": [
           {
            "marker": {
             "colorbar": {
              "outlinewidth": 0,
              "ticks": ""
             }
            },
            "type": "scattermap"
           }
          ],
          "scattermapbox": [
           {
            "marker": {
             "colorbar": {
              "outlinewidth": 0,
              "ticks": ""
             }
            },
            "type": "scattermapbox"
           }
          ],
          "scatterpolar": [
           {
            "marker": {
             "colorbar": {
              "outlinewidth": 0,
              "ticks": ""
             }
            },
            "type": "scatterpolar"
           }
          ],
          "scatterpolargl": [
           {
            "marker": {
             "colorbar": {
              "outlinewidth": 0,
              "ticks": ""
             }
            },
            "type": "scatterpolargl"
           }
          ],
          "scatterternary": [
           {
            "marker": {
             "colorbar": {
              "outlinewidth": 0,
              "ticks": ""
             }
            },
            "type": "scatterternary"
           }
          ],
          "surface": [
           {
            "colorbar": {
             "outlinewidth": 0,
             "ticks": ""
            },
            "colorscale": [
             [
              0,
              "#0d0887"
             ],
             [
              0.1111111111111111,
              "#46039f"
             ],
             [
              0.2222222222222222,
              "#7201a8"
             ],
             [
              0.3333333333333333,
              "#9c179e"
             ],
             [
              0.4444444444444444,
              "#bd3786"
             ],
             [
              0.5555555555555556,
              "#d8576b"
             ],
             [
              0.6666666666666666,
              "#ed7953"
             ],
             [
              0.7777777777777778,
              "#fb9f3a"
             ],
             [
              0.8888888888888888,
              "#fdca26"
             ],
             [
              1,
              "#f0f921"
             ]
            ],
            "type": "surface"
           }
          ],
          "table": [
           {
            "cells": {
             "fill": {
              "color": "#EBF0F8"
             },
             "line": {
              "color": "white"
             }
            },
            "header": {
             "fill": {
              "color": "#C8D4E3"
             },
             "line": {
              "color": "white"
             }
            },
            "type": "table"
           }
          ]
         },
         "layout": {
          "annotationdefaults": {
           "arrowcolor": "#2a3f5f",
           "arrowhead": 0,
           "arrowwidth": 1
          },
          "autotypenumbers": "strict",
          "coloraxis": {
           "colorbar": {
            "outlinewidth": 0,
            "ticks": ""
           }
          },
          "colorscale": {
           "diverging": [
            [
             0,
             "#8e0152"
            ],
            [
             0.1,
             "#c51b7d"
            ],
            [
             0.2,
             "#de77ae"
            ],
            [
             0.3,
             "#f1b6da"
            ],
            [
             0.4,
             "#fde0ef"
            ],
            [
             0.5,
             "#f7f7f7"
            ],
            [
             0.6,
             "#e6f5d0"
            ],
            [
             0.7,
             "#b8e186"
            ],
            [
             0.8,
             "#7fbc41"
            ],
            [
             0.9,
             "#4d9221"
            ],
            [
             1,
             "#276419"
            ]
           ],
           "sequential": [
            [
             0,
             "#0d0887"
            ],
            [
             0.1111111111111111,
             "#46039f"
            ],
            [
             0.2222222222222222,
             "#7201a8"
            ],
            [
             0.3333333333333333,
             "#9c179e"
            ],
            [
             0.4444444444444444,
             "#bd3786"
            ],
            [
             0.5555555555555556,
             "#d8576b"
            ],
            [
             0.6666666666666666,
             "#ed7953"
            ],
            [
             0.7777777777777778,
             "#fb9f3a"
            ],
            [
             0.8888888888888888,
             "#fdca26"
            ],
            [
             1,
             "#f0f921"
            ]
           ],
           "sequentialminus": [
            [
             0,
             "#0d0887"
            ],
            [
             0.1111111111111111,
             "#46039f"
            ],
            [
             0.2222222222222222,
             "#7201a8"
            ],
            [
             0.3333333333333333,
             "#9c179e"
            ],
            [
             0.4444444444444444,
             "#bd3786"
            ],
            [
             0.5555555555555556,
             "#d8576b"
            ],
            [
             0.6666666666666666,
             "#ed7953"
            ],
            [
             0.7777777777777778,
             "#fb9f3a"
            ],
            [
             0.8888888888888888,
             "#fdca26"
            ],
            [
             1,
             "#f0f921"
            ]
           ]
          },
          "colorway": [
           "#636efa",
           "#EF553B",
           "#00cc96",
           "#ab63fa",
           "#FFA15A",
           "#19d3f3",
           "#FF6692",
           "#B6E880",
           "#FF97FF",
           "#FECB52"
          ],
          "font": {
           "color": "#2a3f5f"
          },
          "geo": {
           "bgcolor": "white",
           "lakecolor": "white",
           "landcolor": "#E5ECF6",
           "showlakes": true,
           "showland": true,
           "subunitcolor": "white"
          },
          "hoverlabel": {
           "align": "left"
          },
          "hovermode": "closest",
          "mapbox": {
           "style": "light"
          },
          "paper_bgcolor": "white",
          "plot_bgcolor": "#E5ECF6",
          "polar": {
           "angularaxis": {
            "gridcolor": "white",
            "linecolor": "white",
            "ticks": ""
           },
           "bgcolor": "#E5ECF6",
           "radialaxis": {
            "gridcolor": "white",
            "linecolor": "white",
            "ticks": ""
           }
          },
          "scene": {
           "xaxis": {
            "backgroundcolor": "#E5ECF6",
            "gridcolor": "white",
            "gridwidth": 2,
            "linecolor": "white",
            "showbackground": true,
            "ticks": "",
            "zerolinecolor": "white"
           },
           "yaxis": {
            "backgroundcolor": "#E5ECF6",
            "gridcolor": "white",
            "gridwidth": 2,
            "linecolor": "white",
            "showbackground": true,
            "ticks": "",
            "zerolinecolor": "white"
           },
           "zaxis": {
            "backgroundcolor": "#E5ECF6",
            "gridcolor": "white",
            "gridwidth": 2,
            "linecolor": "white",
            "showbackground": true,
            "ticks": "",
            "zerolinecolor": "white"
           }
          },
          "shapedefaults": {
           "line": {
            "color": "#2a3f5f"
           }
          },
          "ternary": {
           "aaxis": {
            "gridcolor": "white",
            "linecolor": "white",
            "ticks": ""
           },
           "baxis": {
            "gridcolor": "white",
            "linecolor": "white",
            "ticks": ""
           },
           "bgcolor": "#E5ECF6",
           "caxis": {
            "gridcolor": "white",
            "linecolor": "white",
            "ticks": ""
           }
          },
          "title": {
           "x": 0.05
          },
          "xaxis": {
           "automargin": true,
           "gridcolor": "white",
           "linecolor": "white",
           "ticks": "",
           "title": {
            "standoff": 15
           },
           "zerolinecolor": "white",
           "zerolinewidth": 2
          },
          "yaxis": {
           "automargin": true,
           "gridcolor": "white",
           "linecolor": "white",
           "ticks": "",
           "title": {
            "standoff": 15
           },
           "zerolinecolor": "white",
           "zerolinewidth": 2
          }
         }
        },
        "title": {
         "text": "Impact vs Stability for Maize and Groundnut (NPK +20%)"
        },
        "width": 1080,
        "xaxis": {
         "title": {
          "text": "Stability"
         }
        },
        "yaxis": {
         "title": {
          "text": "Impact (Percentage Change)"
         }
        }
       }
      }
     },
     "metadata": {},
     "output_type": "display_data"
    }
   ],
   "source": [
    "import pandas as pd\n",
    "import plotly.graph_objects as go\n",
    "\n",
    "def Calculate_and_visualize_2D(Groundnut_Directory, Maize_Directory, adj_matrix_np, crop1, crop2, perturbation, what, visualize=True):\n",
    "    # Normalize capabilities for both crops\n",
    "    calculate_and_visualize(perturbation, crop1, Groundnut_Directory, what, False)\n",
    "    calculate_and_visualize(perturbation, crop2, Maize_Directory, what, False)\n",
    "    \n",
    "    capability_1 = Groundnut_Directory[f'{crop1[0].upper()} - {what} {perturbation}']\n",
    "    capability_2 = Maize_Directory[f'{crop2[0].upper()} - {what} {perturbation}']\n",
    "    \n",
    "    # Combine capabilities into a single DataFrame\n",
    "    combined_df = pd.DataFrame({\n",
    "        'node': Working_Directory['District'],\n",
    "        'Capability_1': capability_1,\n",
    "        'Capability_2': capability_2\n",
    "    })\n",
    "    \n",
    "    # Calculate stress and stability for the combined capabilities\n",
    "    result_df = calculate_stress_stability(adj_matrix_np, combined_df) \n",
    "    \n",
    "    # Calculate impact for each crop\n",
    "    impact1, impact_column1 = calculate_impact(crop1, perturbation, what)\n",
    "    impact2, impact_column2 = calculate_impact(crop2, perturbation, what)\n",
    "    \n",
    "    # Naming conventions for stability and stress columns\n",
    "    stability_column_name = f'Stability_{crop1[0].upper()}_{crop2[0].upper()}_{what}_{perturbation}'\n",
    "    stress_column_name = f'Stress_{crop1[0].upper()}_{crop2[0].upper()}_{what}_{perturbation}'\n",
    "    \n",
    "    # Add impacts, stability, and stress to the Working_Directory DataFrame\n",
    "    Working_Directory[impact_column1] = impact1\n",
    "    Working_Directory[impact_column2] = impact2\n",
    "    Working_Directory[stability_column_name] = result_df['stability']\n",
    "    Working_Directory[stress_column_name] = result_df['stress']\n",
    "    \n",
    "    if visualize:\n",
    "        # Prepare data for plotting\n",
    "        plot_df = pd.DataFrame({\n",
    "            'District': Working_Directory['District'],\n",
    "            'Stability': result_df['stability'],\n",
    "            f'{crop1} Impact': impact1,\n",
    "            f'{crop2} Impact': impact2,\n",
    "            'Abbreviation': Working_Directory['Abbreviation']\n",
    "        })\n",
    "        \n",
    "        # Create the scatter plot\n",
    "        fig = go.Figure()\n",
    "\n",
    "        # Plot for Crop 1\n",
    "        fig.add_trace(go.Scatter(\n",
    "            x=plot_df['Stability'],\n",
    "            y=plot_df[f'{crop1} Impact'],\n",
    "            mode='markers+text',\n",
    "            text=plot_df['Abbreviation'],\n",
    "            name=f'{crop1}',  \n",
    "            marker=dict(color='green'),\n",
    "            textposition='top right',\n",
    "            textfont=dict(size=10, color='black'),\n",
    "            hovertemplate='<b>%{text}</b><br>Stability: %{x:.2f}<br>Impact: %{y:.2f}%<extra></extra>'\n",
    "        ))\n",
    "\n",
    "        # Plot for Crop 2\n",
    "        fig.add_trace(go.Scatter(\n",
    "            x=plot_df['Stability'],\n",
    "            y=plot_df[f'{crop2} Impact'],\n",
    "            mode='markers',\n",
    "            text=plot_df['Abbreviation'],\n",
    "            name=f'{crop2}',  \n",
    "            marker=dict(color='darkviolet'),\n",
    "            hovertemplate='<b>%{text}</b><br>Stability: %{x:.2f}<br>Impact: %{y:.2f}%<extra></extra>'\n",
    "        ))\n",
    "        \n",
    "        # Adding custom legends with abbreviations and full forms\n",
    "        legend_labels = [{'Abbreviation': abb, 'Full Form': full_form} \n",
    "                         for abb, full_form in zip(plot_df['Abbreviation'].unique(), plot_df['District'].unique())]\n",
    "\n",
    "        for label in legend_labels:\n",
    "            fig.add_trace(go.Scatter(\n",
    "                x=[None],\n",
    "                y=[None],\n",
    "                mode='markers',\n",
    "                marker=dict(color='darkblue'),\n",
    "                name=f\"{label['Abbreviation']}: {label['Full Form']}\"\n",
    "            ))\n",
    "\n",
    "        # Add average lines for stability and impact\n",
    "        avg_stability = plot_df['Stability'].mean()\n",
    "        avg_impact1 = plot_df[f'{crop1} Impact'].mean()\n",
    "        avg_impact2 = plot_df[f'{crop2} Impact'].mean()\n",
    "        min_impact = min(plot_df[f'{crop1} Impact'].min(), plot_df[f'{crop2} Impact'].min())\n",
    "\n",
    "        # Average lines for stability\n",
    "        fig.add_shape(\n",
    "            type='line',\n",
    "            x0=avg_stability, y0=0, x1=avg_stability, y1=1,\n",
    "            line=dict(color='darkgrey', width=1.5, dash='dash'),\n",
    "            yref='paper'\n",
    "        )\n",
    "\n",
    "        # Average line for Crop 1 impact\n",
    "        fig.add_shape(\n",
    "            type='line',\n",
    "            x0=0, y0=avg_impact1, x1=1, y1=avg_impact1,\n",
    "            line=dict(color='green', width=1.5, dash='dash'),\n",
    "            xref='paper'\n",
    "        )\n",
    "\n",
    "        # Average line for Crop 2 impact\n",
    "        fig.add_shape(\n",
    "            type='line',\n",
    "            x0=0, y0=avg_impact2, x1=1, y1=avg_impact2,\n",
    "            line=dict(color='darkviolet', width=1.5, dash='dash'),\n",
    "            xref='paper'\n",
    "        )\n",
    "\n",
    "        # Add annotations for average values\n",
    "        fig.add_trace(go.Scatter(\n",
    "            x=[avg_stability],\n",
    "            y=[min_impact],\n",
    "            text=[f'Avg Stability: {avg_stability:.2f}'],\n",
    "            mode=\"text\",\n",
    "            showlegend=False,\n",
    "            textfont=dict(size=10.7)\n",
    "        ))\n",
    "\n",
    "        fig.add_trace(go.Scatter(\n",
    "            x=[0.3],\n",
    "            y=[avg_impact1-0.4],\n",
    "            text=[f'Avg Impact ({crop1}): {avg_impact1:.2f}'],\n",
    "            mode=\"text\",\n",
    "            showlegend=False,\n",
    "            textfont=dict(size=10.7, color='green')\n",
    "        ))\n",
    "\n",
    "        fig.add_trace(go.Scatter(\n",
    "            x=[0.3],\n",
    "            y=[avg_impact2+0.4],\n",
    "            text=[f'Avg Impact ({crop2}): {avg_impact2:.2f}'],\n",
    "            mode=\"text\",\n",
    "            showlegend=False,\n",
    "            textfont=dict(size=10.7, color='darkviolet')\n",
    "        ))\n",
    "\n",
    "        # Update layout\n",
    "        fig.update_layout(\n",
    "            title=f'Impact vs Stability for {crop1} and {crop2} ({what} +{perturbation}%)',\n",
    "            xaxis_title='Stability',\n",
    "            yaxis_title='Impact (Percentage Change)',\n",
    "            width=1080,\n",
    "            height=600,\n",
    "            legend_title='Districts'\n",
    "        )\n",
    "\n",
    "        # Show the plot\n",
    "        fig.show()\n",
    "\n",
    "# Example usage\n",
    "crop1 = 'Maize'\n",
    "crop2 = 'Groundnut'\n",
    "perturbation = 20\n",
    "what = 'NPK'\n",
    "Calculate_and_visualize_2D(Maize_Directory,Groundnut_Directory, adj_matrix_np, crop1, crop2, perturbation, what)\n"
   ]
  },
  {
   "cell_type": "code",
   "execution_count": 22,
   "metadata": {},
   "outputs": [
    {
     "data": {
      "text/html": [
       "<div>\n",
       "<style scoped>\n",
       "    .dataframe tbody tr th:only-of-type {\n",
       "        vertical-align: middle;\n",
       "    }\n",
       "\n",
       "    .dataframe tbody tr th {\n",
       "        vertical-align: top;\n",
       "    }\n",
       "\n",
       "    .dataframe thead th {\n",
       "        text-align: right;\n",
       "    }\n",
       "</style>\n",
       "<table border=\"1\" class=\"dataframe\">\n",
       "  <thead>\n",
       "    <tr style=\"text-align: right;\">\n",
       "      <th></th>\n",
       "      <th>node</th>\n",
       "      <th>Capability_1</th>\n",
       "      <th>Capability_2</th>\n",
       "      <th>stress</th>\n",
       "      <th>stability</th>\n",
       "      <th>Change_M_NPK_20</th>\n",
       "      <th>Change_G_NPK_20</th>\n",
       "      <th>Mean_Impact</th>\n",
       "      <th>Dissonance</th>\n",
       "      <th>Stability_M_G_NPK_20</th>\n",
       "      <th>SI_Score</th>\n",
       "    </tr>\n",
       "  </thead>\n",
       "  <tbody>\n",
       "    <tr>\n",
       "      <th>0</th>\n",
       "      <td>BENGALURU</td>\n",
       "      <td>0.005355</td>\n",
       "      <td>0.001128</td>\n",
       "      <td>0.052845</td>\n",
       "      <td>0.947155</td>\n",
       "      <td>0.177840</td>\n",
       "      <td>0.126761</td>\n",
       "      <td>0.152300</td>\n",
       "      <td>0.051079</td>\n",
       "      <td>0.947155</td>\n",
       "      <td>0.147090</td>\n",
       "    </tr>\n",
       "    <tr>\n",
       "      <th>1</th>\n",
       "      <td>BENGALURU(R)</td>\n",
       "      <td>0.072852</td>\n",
       "      <td>0.003074</td>\n",
       "      <td>0.166526</td>\n",
       "      <td>0.833474</td>\n",
       "      <td>0.083414</td>\n",
       "      <td>0.058252</td>\n",
       "      <td>0.070833</td>\n",
       "      <td>0.025161</td>\n",
       "      <td>0.833474</td>\n",
       "      <td>0.065473</td>\n",
       "    </tr>\n",
       "    <tr>\n",
       "      <th>2</th>\n",
       "      <td>RAMANAGARA</td>\n",
       "      <td>0.016912</td>\n",
       "      <td>0.069331</td>\n",
       "      <td>0.108339</td>\n",
       "      <td>0.891661</td>\n",
       "      <td>0.024880</td>\n",
       "      <td>0.018012</td>\n",
       "      <td>0.021446</td>\n",
       "      <td>0.006868</td>\n",
       "      <td>0.891661</td>\n",
       "      <td>0.021785</td>\n",
       "    </tr>\n",
       "    <tr>\n",
       "      <th>3</th>\n",
       "      <td>CHITRADURGA</td>\n",
       "      <td>0.449626</td>\n",
       "      <td>1.000000</td>\n",
       "      <td>0.698657</td>\n",
       "      <td>0.301343</td>\n",
       "      <td>0.046909</td>\n",
       "      <td>0.034211</td>\n",
       "      <td>0.040560</td>\n",
       "      <td>0.012698</td>\n",
       "      <td>0.301343</td>\n",
       "      <td>0.013652</td>\n",
       "    </tr>\n",
       "    <tr>\n",
       "      <th>4</th>\n",
       "      <td>DAVANAGERE</td>\n",
       "      <td>0.984769</td>\n",
       "      <td>0.242594</td>\n",
       "      <td>0.659773</td>\n",
       "      <td>0.340227</td>\n",
       "      <td>0.050675</td>\n",
       "      <td>0.036946</td>\n",
       "      <td>0.043810</td>\n",
       "      <td>0.013730</td>\n",
       "      <td>0.340227</td>\n",
       "      <td>0.016604</td>\n",
       "    </tr>\n",
       "    <tr>\n",
       "      <th>5</th>\n",
       "      <td>KOLAR</td>\n",
       "      <td>0.003185</td>\n",
       "      <td>0.090692</td>\n",
       "      <td>0.129094</td>\n",
       "      <td>0.870906</td>\n",
       "      <td>0.146674</td>\n",
       "      <td>0.107057</td>\n",
       "      <td>0.126866</td>\n",
       "      <td>0.039617</td>\n",
       "      <td>0.870906</td>\n",
       "      <td>0.114064</td>\n",
       "    </tr>\n",
       "    <tr>\n",
       "      <th>6</th>\n",
       "      <td>CHIKKABALLAPURA</td>\n",
       "      <td>0.181729</td>\n",
       "      <td>0.107232</td>\n",
       "      <td>0.167094</td>\n",
       "      <td>0.832906</td>\n",
       "      <td>0.090927</td>\n",
       "      <td>0.066321</td>\n",
       "      <td>0.078624</td>\n",
       "      <td>0.024606</td>\n",
       "      <td>0.832906</td>\n",
       "      <td>0.070711</td>\n",
       "    </tr>\n",
       "    <tr>\n",
       "      <th>7</th>\n",
       "      <td>SHIVAMOGGA</td>\n",
       "      <td>0.376989</td>\n",
       "      <td>0.003624</td>\n",
       "      <td>0.133150</td>\n",
       "      <td>0.866850</td>\n",
       "      <td>0.053869</td>\n",
       "      <td>0.036290</td>\n",
       "      <td>0.045080</td>\n",
       "      <td>0.017578</td>\n",
       "      <td>0.866850</td>\n",
       "      <td>0.045002</td>\n",
       "    </tr>\n",
       "    <tr>\n",
       "      <th>8</th>\n",
       "      <td>TUMAKURU</td>\n",
       "      <td>0.110666</td>\n",
       "      <td>0.578320</td>\n",
       "      <td>0.408464</td>\n",
       "      <td>0.591536</td>\n",
       "      <td>0.048050</td>\n",
       "      <td>0.035053</td>\n",
       "      <td>0.041551</td>\n",
       "      <td>0.012997</td>\n",
       "      <td>0.591536</td>\n",
       "      <td>0.027427</td>\n",
       "    </tr>\n",
       "    <tr>\n",
       "      <th>9</th>\n",
       "      <td>CHIKKAMAGALURU</td>\n",
       "      <td>0.111954</td>\n",
       "      <td>0.061364</td>\n",
       "      <td>0.319343</td>\n",
       "      <td>0.680657</td>\n",
       "      <td>0.155559</td>\n",
       "      <td>0.113328</td>\n",
       "      <td>0.134444</td>\n",
       "      <td>0.042231</td>\n",
       "      <td>0.680657</td>\n",
       "      <td>0.093883</td>\n",
       "    </tr>\n",
       "    <tr>\n",
       "      <th>10</th>\n",
       "      <td>DAKSHINA KANNADA</td>\n",
       "      <td>0.000000</td>\n",
       "      <td>0.000000</td>\n",
       "      <td>0.179042</td>\n",
       "      <td>0.820958</td>\n",
       "      <td>NaN</td>\n",
       "      <td>NaN</td>\n",
       "      <td>NaN</td>\n",
       "      <td>NaN</td>\n",
       "      <td>0.820958</td>\n",
       "      <td>NaN</td>\n",
       "    </tr>\n",
       "    <tr>\n",
       "      <th>11</th>\n",
       "      <td>UDUPI</td>\n",
       "      <td>0.000175</td>\n",
       "      <td>0.052002</td>\n",
       "      <td>0.133828</td>\n",
       "      <td>0.866172</td>\n",
       "      <td>0.018349</td>\n",
       "      <td>0.017941</td>\n",
       "      <td>0.018145</td>\n",
       "      <td>0.000408</td>\n",
       "      <td>0.866172</td>\n",
       "      <td>0.015608</td>\n",
       "    </tr>\n",
       "    <tr>\n",
       "      <th>12</th>\n",
       "      <td>HASSAN</td>\n",
       "      <td>0.558812</td>\n",
       "      <td>0.007656</td>\n",
       "      <td>0.484086</td>\n",
       "      <td>0.515914</td>\n",
       "      <td>0.059712</td>\n",
       "      <td>0.042226</td>\n",
       "      <td>0.050969</td>\n",
       "      <td>0.017485</td>\n",
       "      <td>0.515914</td>\n",
       "      <td>0.029505</td>\n",
       "    </tr>\n",
       "    <tr>\n",
       "      <th>13</th>\n",
       "      <td>KODAGU</td>\n",
       "      <td>0.034802</td>\n",
       "      <td>0.000733</td>\n",
       "      <td>0.228280</td>\n",
       "      <td>0.771720</td>\n",
       "      <td>0.229786</td>\n",
       "      <td>0.155556</td>\n",
       "      <td>0.192671</td>\n",
       "      <td>0.074231</td>\n",
       "      <td>0.771720</td>\n",
       "      <td>0.149746</td>\n",
       "    </tr>\n",
       "    <tr>\n",
       "      <th>14</th>\n",
       "      <td>MANDYA</td>\n",
       "      <td>0.033291</td>\n",
       "      <td>0.015313</td>\n",
       "      <td>0.248330</td>\n",
       "      <td>0.751670</td>\n",
       "      <td>0.087430</td>\n",
       "      <td>0.063663</td>\n",
       "      <td>0.075546</td>\n",
       "      <td>0.023767</td>\n",
       "      <td>0.751670</td>\n",
       "      <td>0.061534</td>\n",
       "    </tr>\n",
       "    <tr>\n",
       "      <th>15</th>\n",
       "      <td>MYSURU</td>\n",
       "      <td>0.229415</td>\n",
       "      <td>0.031909</td>\n",
       "      <td>0.012770</td>\n",
       "      <td>0.987230</td>\n",
       "      <td>0.059255</td>\n",
       "      <td>0.042857</td>\n",
       "      <td>0.051056</td>\n",
       "      <td>0.016397</td>\n",
       "      <td>0.987230</td>\n",
       "      <td>0.055991</td>\n",
       "    </tr>\n",
       "    <tr>\n",
       "      <th>16</th>\n",
       "      <td>CHAMARAJANAGAR</td>\n",
       "      <td>0.246999</td>\n",
       "      <td>0.130286</td>\n",
       "      <td>0.178920</td>\n",
       "      <td>0.821080</td>\n",
       "      <td>0.057680</td>\n",
       "      <td>0.042066</td>\n",
       "      <td>0.049873</td>\n",
       "      <td>0.015613</td>\n",
       "      <td>0.821080</td>\n",
       "      <td>0.045367</td>\n",
       "    </tr>\n",
       "    <tr>\n",
       "      <th>17</th>\n",
       "      <td>BELAGAVI</td>\n",
       "      <td>1.000000</td>\n",
       "      <td>0.597214</td>\n",
       "      <td>0.800024</td>\n",
       "      <td>0.199976</td>\n",
       "      <td>0.097977</td>\n",
       "      <td>0.071465</td>\n",
       "      <td>0.084721</td>\n",
       "      <td>0.026512</td>\n",
       "      <td>0.199976</td>\n",
       "      <td>0.018193</td>\n",
       "    </tr>\n",
       "    <tr>\n",
       "      <th>18</th>\n",
       "      <td>VIJAYAPURA</td>\n",
       "      <td>0.376650</td>\n",
       "      <td>0.403393</td>\n",
       "      <td>0.084268</td>\n",
       "      <td>0.915732</td>\n",
       "      <td>0.053873</td>\n",
       "      <td>0.039269</td>\n",
       "      <td>0.046571</td>\n",
       "      <td>0.014604</td>\n",
       "      <td>0.915732</td>\n",
       "      <td>0.047396</td>\n",
       "    </tr>\n",
       "    <tr>\n",
       "      <th>19</th>\n",
       "      <td>BAGALKOT</td>\n",
       "      <td>0.439852</td>\n",
       "      <td>0.386670</td>\n",
       "      <td>0.092705</td>\n",
       "      <td>0.907295</td>\n",
       "      <td>0.106655</td>\n",
       "      <td>0.077779</td>\n",
       "      <td>0.092217</td>\n",
       "      <td>0.028877</td>\n",
       "      <td>0.907295</td>\n",
       "      <td>0.089241</td>\n",
       "    </tr>\n",
       "    <tr>\n",
       "      <th>20</th>\n",
       "      <td>DHARAWAD</td>\n",
       "      <td>0.155036</td>\n",
       "      <td>0.316747</td>\n",
       "      <td>0.336657</td>\n",
       "      <td>0.663343</td>\n",
       "      <td>0.083247</td>\n",
       "      <td>0.060723</td>\n",
       "      <td>0.071985</td>\n",
       "      <td>0.022524</td>\n",
       "      <td>0.663343</td>\n",
       "      <td>0.051868</td>\n",
       "    </tr>\n",
       "    <tr>\n",
       "      <th>21</th>\n",
       "      <td>GADAG</td>\n",
       "      <td>0.229001</td>\n",
       "      <td>0.457016</td>\n",
       "      <td>0.207412</td>\n",
       "      <td>0.792588</td>\n",
       "      <td>0.047250</td>\n",
       "      <td>0.034470</td>\n",
       "      <td>0.040860</td>\n",
       "      <td>0.012781</td>\n",
       "      <td>0.792588</td>\n",
       "      <td>0.036159</td>\n",
       "    </tr>\n",
       "    <tr>\n",
       "      <th>22</th>\n",
       "      <td>HAVERI</td>\n",
       "      <td>0.693099</td>\n",
       "      <td>0.269737</td>\n",
       "      <td>0.387001</td>\n",
       "      <td>0.612999</td>\n",
       "      <td>0.061501</td>\n",
       "      <td>0.044841</td>\n",
       "      <td>0.053171</td>\n",
       "      <td>0.016660</td>\n",
       "      <td>0.612999</td>\n",
       "      <td>0.036010</td>\n",
       "    </tr>\n",
       "    <tr>\n",
       "      <th>23</th>\n",
       "      <td>UTTARA KANNADA</td>\n",
       "      <td>0.039933</td>\n",
       "      <td>0.055893</td>\n",
       "      <td>0.448309</td>\n",
       "      <td>0.551691</td>\n",
       "      <td>0.049817</td>\n",
       "      <td>0.036340</td>\n",
       "      <td>0.043079</td>\n",
       "      <td>0.013477</td>\n",
       "      <td>0.551691</td>\n",
       "      <td>0.026485</td>\n",
       "    </tr>\n",
       "    <tr>\n",
       "      <th>24</th>\n",
       "      <td>BALLARI</td>\n",
       "      <td>0.179828</td>\n",
       "      <td>0.345737</td>\n",
       "      <td>0.252151</td>\n",
       "      <td>0.747849</td>\n",
       "      <td>0.094517</td>\n",
       "      <td>0.068945</td>\n",
       "      <td>0.081731</td>\n",
       "      <td>0.025572</td>\n",
       "      <td>0.747849</td>\n",
       "      <td>0.065811</td>\n",
       "    </tr>\n",
       "    <tr>\n",
       "      <th>25</th>\n",
       "      <td>BIDAR</td>\n",
       "      <td>0.004867</td>\n",
       "      <td>0.003948</td>\n",
       "      <td>0.046119</td>\n",
       "      <td>0.953881</td>\n",
       "      <td>0.104264</td>\n",
       "      <td>0.072797</td>\n",
       "      <td>0.088530</td>\n",
       "      <td>0.031467</td>\n",
       "      <td>0.953881</td>\n",
       "      <td>0.092215</td>\n",
       "    </tr>\n",
       "    <tr>\n",
       "      <th>26</th>\n",
       "      <td>KALABURAGI</td>\n",
       "      <td>0.024399</td>\n",
       "      <td>0.045727</td>\n",
       "      <td>0.275722</td>\n",
       "      <td>0.724278</td>\n",
       "      <td>0.056768</td>\n",
       "      <td>0.041426</td>\n",
       "      <td>0.049097</td>\n",
       "      <td>0.015342</td>\n",
       "      <td>0.724278</td>\n",
       "      <td>0.039412</td>\n",
       "    </tr>\n",
       "    <tr>\n",
       "      <th>27</th>\n",
       "      <td>YADGIRI</td>\n",
       "      <td>0.004902</td>\n",
       "      <td>0.495410</td>\n",
       "      <td>0.246385</td>\n",
       "      <td>0.753615</td>\n",
       "      <td>0.161242</td>\n",
       "      <td>0.117703</td>\n",
       "      <td>0.139473</td>\n",
       "      <td>0.043539</td>\n",
       "      <td>0.753615</td>\n",
       "      <td>0.107212</td>\n",
       "    </tr>\n",
       "    <tr>\n",
       "      <th>28</th>\n",
       "      <td>RAICHUR</td>\n",
       "      <td>0.001255</td>\n",
       "      <td>0.407735</td>\n",
       "      <td>0.263240</td>\n",
       "      <td>0.736760</td>\n",
       "      <td>0.099585</td>\n",
       "      <td>0.072669</td>\n",
       "      <td>0.086127</td>\n",
       "      <td>0.026916</td>\n",
       "      <td>0.736760</td>\n",
       "      <td>0.068039</td>\n",
       "    </tr>\n",
       "    <tr>\n",
       "      <th>29</th>\n",
       "      <td>KOPPAL</td>\n",
       "      <td>0.320751</td>\n",
       "      <td>0.443606</td>\n",
       "      <td>0.127305</td>\n",
       "      <td>0.872695</td>\n",
       "      <td>0.067642</td>\n",
       "      <td>0.049330</td>\n",
       "      <td>0.058486</td>\n",
       "      <td>0.018312</td>\n",
       "      <td>0.872695</td>\n",
       "      <td>0.056119</td>\n",
       "    </tr>\n",
       "    <tr>\n",
       "      <th>30</th>\n",
       "      <td>VIJAYANAGARA</td>\n",
       "      <td>0.179828</td>\n",
       "      <td>0.345737</td>\n",
       "      <td>0.317538</td>\n",
       "      <td>0.682462</td>\n",
       "      <td>0.094517</td>\n",
       "      <td>0.068945</td>\n",
       "      <td>0.081731</td>\n",
       "      <td>0.025572</td>\n",
       "      <td>0.682462</td>\n",
       "      <td>0.060057</td>\n",
       "    </tr>\n",
       "  </tbody>\n",
       "</table>\n",
       "</div>"
      ],
      "text/plain": [
       "                node  Capability_1  Capability_2    stress  stability  \\\n",
       "0          BENGALURU      0.005355      0.001128  0.052845   0.947155   \n",
       "1       BENGALURU(R)      0.072852      0.003074  0.166526   0.833474   \n",
       "2         RAMANAGARA      0.016912      0.069331  0.108339   0.891661   \n",
       "3        CHITRADURGA      0.449626      1.000000  0.698657   0.301343   \n",
       "4         DAVANAGERE      0.984769      0.242594  0.659773   0.340227   \n",
       "5              KOLAR      0.003185      0.090692  0.129094   0.870906   \n",
       "6    CHIKKABALLAPURA      0.181729      0.107232  0.167094   0.832906   \n",
       "7         SHIVAMOGGA      0.376989      0.003624  0.133150   0.866850   \n",
       "8           TUMAKURU      0.110666      0.578320  0.408464   0.591536   \n",
       "9     CHIKKAMAGALURU      0.111954      0.061364  0.319343   0.680657   \n",
       "10  DAKSHINA KANNADA      0.000000      0.000000  0.179042   0.820958   \n",
       "11             UDUPI      0.000175      0.052002  0.133828   0.866172   \n",
       "12            HASSAN      0.558812      0.007656  0.484086   0.515914   \n",
       "13            KODAGU      0.034802      0.000733  0.228280   0.771720   \n",
       "14            MANDYA      0.033291      0.015313  0.248330   0.751670   \n",
       "15            MYSURU      0.229415      0.031909  0.012770   0.987230   \n",
       "16    CHAMARAJANAGAR      0.246999      0.130286  0.178920   0.821080   \n",
       "17          BELAGAVI      1.000000      0.597214  0.800024   0.199976   \n",
       "18        VIJAYAPURA      0.376650      0.403393  0.084268   0.915732   \n",
       "19          BAGALKOT      0.439852      0.386670  0.092705   0.907295   \n",
       "20          DHARAWAD      0.155036      0.316747  0.336657   0.663343   \n",
       "21             GADAG      0.229001      0.457016  0.207412   0.792588   \n",
       "22            HAVERI      0.693099      0.269737  0.387001   0.612999   \n",
       "23    UTTARA KANNADA      0.039933      0.055893  0.448309   0.551691   \n",
       "24           BALLARI      0.179828      0.345737  0.252151   0.747849   \n",
       "25             BIDAR      0.004867      0.003948  0.046119   0.953881   \n",
       "26        KALABURAGI      0.024399      0.045727  0.275722   0.724278   \n",
       "27           YADGIRI      0.004902      0.495410  0.246385   0.753615   \n",
       "28           RAICHUR      0.001255      0.407735  0.263240   0.736760   \n",
       "29            KOPPAL      0.320751      0.443606  0.127305   0.872695   \n",
       "30      VIJAYANAGARA      0.179828      0.345737  0.317538   0.682462   \n",
       "\n",
       "    Change_M_NPK_20  Change_G_NPK_20  Mean_Impact  Dissonance  \\\n",
       "0          0.177840         0.126761     0.152300    0.051079   \n",
       "1          0.083414         0.058252     0.070833    0.025161   \n",
       "2          0.024880         0.018012     0.021446    0.006868   \n",
       "3          0.046909         0.034211     0.040560    0.012698   \n",
       "4          0.050675         0.036946     0.043810    0.013730   \n",
       "5          0.146674         0.107057     0.126866    0.039617   \n",
       "6          0.090927         0.066321     0.078624    0.024606   \n",
       "7          0.053869         0.036290     0.045080    0.017578   \n",
       "8          0.048050         0.035053     0.041551    0.012997   \n",
       "9          0.155559         0.113328     0.134444    0.042231   \n",
       "10              NaN              NaN          NaN         NaN   \n",
       "11         0.018349         0.017941     0.018145    0.000408   \n",
       "12         0.059712         0.042226     0.050969    0.017485   \n",
       "13         0.229786         0.155556     0.192671    0.074231   \n",
       "14         0.087430         0.063663     0.075546    0.023767   \n",
       "15         0.059255         0.042857     0.051056    0.016397   \n",
       "16         0.057680         0.042066     0.049873    0.015613   \n",
       "17         0.097977         0.071465     0.084721    0.026512   \n",
       "18         0.053873         0.039269     0.046571    0.014604   \n",
       "19         0.106655         0.077779     0.092217    0.028877   \n",
       "20         0.083247         0.060723     0.071985    0.022524   \n",
       "21         0.047250         0.034470     0.040860    0.012781   \n",
       "22         0.061501         0.044841     0.053171    0.016660   \n",
       "23         0.049817         0.036340     0.043079    0.013477   \n",
       "24         0.094517         0.068945     0.081731    0.025572   \n",
       "25         0.104264         0.072797     0.088530    0.031467   \n",
       "26         0.056768         0.041426     0.049097    0.015342   \n",
       "27         0.161242         0.117703     0.139473    0.043539   \n",
       "28         0.099585         0.072669     0.086127    0.026916   \n",
       "29         0.067642         0.049330     0.058486    0.018312   \n",
       "30         0.094517         0.068945     0.081731    0.025572   \n",
       "\n",
       "    Stability_M_G_NPK_20  SI_Score  \n",
       "0               0.947155  0.147090  \n",
       "1               0.833474  0.065473  \n",
       "2               0.891661  0.021785  \n",
       "3               0.301343  0.013652  \n",
       "4               0.340227  0.016604  \n",
       "5               0.870906  0.114064  \n",
       "6               0.832906  0.070711  \n",
       "7               0.866850  0.045002  \n",
       "8               0.591536  0.027427  \n",
       "9               0.680657  0.093883  \n",
       "10              0.820958       NaN  \n",
       "11              0.866172  0.015608  \n",
       "12              0.515914  0.029505  \n",
       "13              0.771720  0.149746  \n",
       "14              0.751670  0.061534  \n",
       "15              0.987230  0.055991  \n",
       "16              0.821080  0.045367  \n",
       "17              0.199976  0.018193  \n",
       "18              0.915732  0.047396  \n",
       "19              0.907295  0.089241  \n",
       "20              0.663343  0.051868  \n",
       "21              0.792588  0.036159  \n",
       "22              0.612999  0.036010  \n",
       "23              0.551691  0.026485  \n",
       "24              0.747849  0.065811  \n",
       "25              0.953881  0.092215  \n",
       "26              0.724278  0.039412  \n",
       "27              0.753615  0.107212  \n",
       "28              0.736760  0.068039  \n",
       "29              0.872695  0.056119  \n",
       "30              0.682462  0.060057  "
      ]
     },
     "execution_count": 22,
     "metadata": {},
     "output_type": "execute_result"
    }
   ],
   "source": [
    "def calculate_change_impact(crop, perturbation, what):\n",
    "    capability_name = f'{crop[0].upper()} - {what} {perturbation}'\n",
    "    if(crop == \"Maize\"): \n",
    "        Working_Directory = Maize_Directory\n",
    "    elif(crop == \"Rice\"):\n",
    "        Working_Directory = Rice_Directory\n",
    "    else:\n",
    "        Working_Directory = Groundnut_Directory\n",
    "    original_production = Working_Directory[f'{crop}_Production']\n",
    "    new_production = Working_Directory[capability_name]\n",
    "    impact = (new_production - original_production)/(original_production)\n",
    "    impact_column_name = f'Change_{crop[0].upper()}_{what}_{perturbation}'\n",
    "    return impact, impact_column_name\n",
    "\n",
    "def Calculate_SI_Score(Maize_Directory,Groundnut_Directory, adj_matrix_np, crop1, crop2, perturbation, what,visualize = True):\n",
    "    # Normalize capabilities for both crops\n",
    "    Calculate_and_visualize_2D(Maize_Directory,Groundnut_Directory, adj_matrix_np, crop1, crop2, perturbation, what,False)\n",
    "\n",
    "    capability_1 = Maize_Directory[f'{crop1[0].upper()} - {what} {perturbation}']\n",
    "    capability_2 = Groundnut_Directory[f'{crop2[0].upper()} - {what} {perturbation}']\n",
    "    \n",
    "    # Combine capabilities into a single DataFrame\n",
    "    combined_df = pd.DataFrame({\n",
    "        'node': Working_Directory['District'],\n",
    "        'Capability_1': capability_1,\n",
    "        'Capability_2': capability_2\n",
    "    })\n",
    "    \n",
    "    # Calculate stress and stability for the combined capabilities\n",
    "    result_df = calculate_stress_stability(adj_matrix_np, combined_df)\n",
    "\n",
    "    # Calculate impact for each crop\n",
    "    impact1, impact_column1 = calculate_change_impact( crop1, perturbation, what)\n",
    "    impact2, impact_column2 = calculate_change_impact( crop2, perturbation, what)\n",
    "    \n",
    "    # Naming conventions for stability and stress columns\n",
    "    stability_column_name = f'Stability_{crop1[0].upper()}_{crop2[0].upper()}_{what}_{perturbation}'\n",
    "    stress_column_name = f'Stress_{crop1[0].upper()}_{crop2[0].upper()}_{what}_{perturbation}'\n",
    "    \n",
    "    # Add impacts, stability, and stress to the result_df DataFrame\n",
    "    result_df[impact_column1] = impact1\n",
    "    result_df[impact_column2] = impact2\n",
    "   # sec_imp = result_df[impact_column2].mean()\n",
    "    result_df['Mean_Impact'] = (impact1 + impact2)/2\n",
    "    result_df['Dissonance'] = (impact1 - impact2).abs()\n",
    "    result_df[stability_column_name] = result_df['stability']\n",
    "    \n",
    "    #result_df['SI_Score'] = result_df['stability']*result_df[impact_column1]*(1 - sec_imp)\n",
    "    \n",
    "    result_df['SI_Score'] = result_df['stability']*result_df[impact_column1]*(1-result_df[impact_column2])\n",
    "\n",
    "    return result_df\n",
    "\n",
    "result_df = pd.DataFrame()\n",
    "crop1 = 'Maize'\n",
    "crop2 = 'Groundnut'\n",
    "perturbation = 20\n",
    "what = 'NPK'\n",
    "result_df = Calculate_SI_Score(Maize_Directory,Groundnut_Directory, adj_matrix_np, crop1, crop2, perturbation, what)\n",
    "result_df"
   ]
  },
  {
   "cell_type": "markdown",
   "metadata": {},
   "source": [
    "'NaN in DAKSHINA KANNADA is due to it's FCR value being 0'"
   ]
  },
  {
   "cell_type": "code",
   "execution_count": 23,
   "metadata": {},
   "outputs": [
    {
     "data": {
      "text/html": [
       "<div>\n",
       "<style scoped>\n",
       "    .dataframe tbody tr th:only-of-type {\n",
       "        vertical-align: middle;\n",
       "    }\n",
       "\n",
       "    .dataframe tbody tr th {\n",
       "        vertical-align: top;\n",
       "    }\n",
       "\n",
       "    .dataframe thead th {\n",
       "        text-align: right;\n",
       "    }\n",
       "</style>\n",
       "<table border=\"1\" class=\"dataframe\">\n",
       "  <thead>\n",
       "    <tr style=\"text-align: right;\">\n",
       "      <th></th>\n",
       "      <th>node</th>\n",
       "      <th>Capability_1</th>\n",
       "      <th>Capability_2</th>\n",
       "      <th>stress</th>\n",
       "      <th>stability</th>\n",
       "      <th>Change_M_NPK_20</th>\n",
       "      <th>Change_G_NPK_20</th>\n",
       "      <th>Mean_Impact</th>\n",
       "      <th>Dissonance</th>\n",
       "      <th>Stability_M_G_NPK_20</th>\n",
       "      <th>SI_Score</th>\n",
       "    </tr>\n",
       "  </thead>\n",
       "  <tbody>\n",
       "    <tr>\n",
       "      <th>0</th>\n",
       "      <td>BENGALURU</td>\n",
       "      <td>0.005355</td>\n",
       "      <td>0.001128</td>\n",
       "      <td>0.052845</td>\n",
       "      <td>0.947155</td>\n",
       "      <td>0.177840</td>\n",
       "      <td>0.126761</td>\n",
       "      <td>0.152300</td>\n",
       "      <td>0.051079</td>\n",
       "      <td>0.947155</td>\n",
       "      <td>0.147090</td>\n",
       "    </tr>\n",
       "    <tr>\n",
       "      <th>1</th>\n",
       "      <td>BENGALURU(R)</td>\n",
       "      <td>0.072852</td>\n",
       "      <td>0.003074</td>\n",
       "      <td>0.166526</td>\n",
       "      <td>0.833474</td>\n",
       "      <td>0.083414</td>\n",
       "      <td>0.058252</td>\n",
       "      <td>0.070833</td>\n",
       "      <td>0.025161</td>\n",
       "      <td>0.833474</td>\n",
       "      <td>0.065473</td>\n",
       "    </tr>\n",
       "    <tr>\n",
       "      <th>2</th>\n",
       "      <td>RAMANAGARA</td>\n",
       "      <td>0.016912</td>\n",
       "      <td>0.069331</td>\n",
       "      <td>0.108339</td>\n",
       "      <td>0.891661</td>\n",
       "      <td>0.024880</td>\n",
       "      <td>0.018012</td>\n",
       "      <td>0.021446</td>\n",
       "      <td>0.006868</td>\n",
       "      <td>0.891661</td>\n",
       "      <td>0.021785</td>\n",
       "    </tr>\n",
       "    <tr>\n",
       "      <th>3</th>\n",
       "      <td>CHITRADURGA</td>\n",
       "      <td>0.449626</td>\n",
       "      <td>1.000000</td>\n",
       "      <td>0.698657</td>\n",
       "      <td>0.301343</td>\n",
       "      <td>0.046909</td>\n",
       "      <td>0.034211</td>\n",
       "      <td>0.040560</td>\n",
       "      <td>0.012698</td>\n",
       "      <td>0.301343</td>\n",
       "      <td>0.013652</td>\n",
       "    </tr>\n",
       "    <tr>\n",
       "      <th>4</th>\n",
       "      <td>DAVANAGERE</td>\n",
       "      <td>0.984769</td>\n",
       "      <td>0.242594</td>\n",
       "      <td>0.659773</td>\n",
       "      <td>0.340227</td>\n",
       "      <td>0.050675</td>\n",
       "      <td>0.036946</td>\n",
       "      <td>0.043810</td>\n",
       "      <td>0.013730</td>\n",
       "      <td>0.340227</td>\n",
       "      <td>0.016604</td>\n",
       "    </tr>\n",
       "    <tr>\n",
       "      <th>5</th>\n",
       "      <td>KOLAR</td>\n",
       "      <td>0.003185</td>\n",
       "      <td>0.090692</td>\n",
       "      <td>0.129094</td>\n",
       "      <td>0.870906</td>\n",
       "      <td>0.146674</td>\n",
       "      <td>0.107057</td>\n",
       "      <td>0.126866</td>\n",
       "      <td>0.039617</td>\n",
       "      <td>0.870906</td>\n",
       "      <td>0.114064</td>\n",
       "    </tr>\n",
       "    <tr>\n",
       "      <th>6</th>\n",
       "      <td>CHIKKABALLAPURA</td>\n",
       "      <td>0.181729</td>\n",
       "      <td>0.107232</td>\n",
       "      <td>0.167094</td>\n",
       "      <td>0.832906</td>\n",
       "      <td>0.090927</td>\n",
       "      <td>0.066321</td>\n",
       "      <td>0.078624</td>\n",
       "      <td>0.024606</td>\n",
       "      <td>0.832906</td>\n",
       "      <td>0.070711</td>\n",
       "    </tr>\n",
       "    <tr>\n",
       "      <th>7</th>\n",
       "      <td>SHIVAMOGGA</td>\n",
       "      <td>0.376989</td>\n",
       "      <td>0.003624</td>\n",
       "      <td>0.133150</td>\n",
       "      <td>0.866850</td>\n",
       "      <td>0.053869</td>\n",
       "      <td>0.036290</td>\n",
       "      <td>0.045080</td>\n",
       "      <td>0.017578</td>\n",
       "      <td>0.866850</td>\n",
       "      <td>0.045002</td>\n",
       "    </tr>\n",
       "    <tr>\n",
       "      <th>8</th>\n",
       "      <td>TUMAKURU</td>\n",
       "      <td>0.110666</td>\n",
       "      <td>0.578320</td>\n",
       "      <td>0.408464</td>\n",
       "      <td>0.591536</td>\n",
       "      <td>0.048050</td>\n",
       "      <td>0.035053</td>\n",
       "      <td>0.041551</td>\n",
       "      <td>0.012997</td>\n",
       "      <td>0.591536</td>\n",
       "      <td>0.027427</td>\n",
       "    </tr>\n",
       "    <tr>\n",
       "      <th>9</th>\n",
       "      <td>CHIKKAMAGALURU</td>\n",
       "      <td>0.111954</td>\n",
       "      <td>0.061364</td>\n",
       "      <td>0.319343</td>\n",
       "      <td>0.680657</td>\n",
       "      <td>0.155559</td>\n",
       "      <td>0.113328</td>\n",
       "      <td>0.134444</td>\n",
       "      <td>0.042231</td>\n",
       "      <td>0.680657</td>\n",
       "      <td>0.093883</td>\n",
       "    </tr>\n",
       "    <tr>\n",
       "      <th>10</th>\n",
       "      <td>DAKSHINA KANNADA</td>\n",
       "      <td>0.000000</td>\n",
       "      <td>0.000000</td>\n",
       "      <td>0.179042</td>\n",
       "      <td>0.820958</td>\n",
       "      <td>NaN</td>\n",
       "      <td>NaN</td>\n",
       "      <td>NaN</td>\n",
       "      <td>NaN</td>\n",
       "      <td>0.820958</td>\n",
       "      <td>NaN</td>\n",
       "    </tr>\n",
       "    <tr>\n",
       "      <th>11</th>\n",
       "      <td>UDUPI</td>\n",
       "      <td>0.000175</td>\n",
       "      <td>0.052002</td>\n",
       "      <td>0.133828</td>\n",
       "      <td>0.866172</td>\n",
       "      <td>0.018349</td>\n",
       "      <td>0.017941</td>\n",
       "      <td>0.018145</td>\n",
       "      <td>0.000408</td>\n",
       "      <td>0.866172</td>\n",
       "      <td>0.015608</td>\n",
       "    </tr>\n",
       "    <tr>\n",
       "      <th>12</th>\n",
       "      <td>HASSAN</td>\n",
       "      <td>0.558812</td>\n",
       "      <td>0.007656</td>\n",
       "      <td>0.484086</td>\n",
       "      <td>0.515914</td>\n",
       "      <td>0.059712</td>\n",
       "      <td>0.042226</td>\n",
       "      <td>0.050969</td>\n",
       "      <td>0.017485</td>\n",
       "      <td>0.515914</td>\n",
       "      <td>0.029505</td>\n",
       "    </tr>\n",
       "    <tr>\n",
       "      <th>13</th>\n",
       "      <td>KODAGU</td>\n",
       "      <td>0.034802</td>\n",
       "      <td>0.000733</td>\n",
       "      <td>0.228280</td>\n",
       "      <td>0.771720</td>\n",
       "      <td>0.229786</td>\n",
       "      <td>0.155556</td>\n",
       "      <td>0.192671</td>\n",
       "      <td>0.074231</td>\n",
       "      <td>0.771720</td>\n",
       "      <td>0.149746</td>\n",
       "    </tr>\n",
       "    <tr>\n",
       "      <th>14</th>\n",
       "      <td>MANDYA</td>\n",
       "      <td>0.033291</td>\n",
       "      <td>0.015313</td>\n",
       "      <td>0.248330</td>\n",
       "      <td>0.751670</td>\n",
       "      <td>0.087430</td>\n",
       "      <td>0.063663</td>\n",
       "      <td>0.075546</td>\n",
       "      <td>0.023767</td>\n",
       "      <td>0.751670</td>\n",
       "      <td>0.061534</td>\n",
       "    </tr>\n",
       "    <tr>\n",
       "      <th>15</th>\n",
       "      <td>MYSURU</td>\n",
       "      <td>0.229415</td>\n",
       "      <td>0.031909</td>\n",
       "      <td>0.012770</td>\n",
       "      <td>0.987230</td>\n",
       "      <td>0.059255</td>\n",
       "      <td>0.042857</td>\n",
       "      <td>0.051056</td>\n",
       "      <td>0.016397</td>\n",
       "      <td>0.987230</td>\n",
       "      <td>0.055991</td>\n",
       "    </tr>\n",
       "    <tr>\n",
       "      <th>16</th>\n",
       "      <td>CHAMARAJANAGAR</td>\n",
       "      <td>0.246999</td>\n",
       "      <td>0.130286</td>\n",
       "      <td>0.178920</td>\n",
       "      <td>0.821080</td>\n",
       "      <td>0.057680</td>\n",
       "      <td>0.042066</td>\n",
       "      <td>0.049873</td>\n",
       "      <td>0.015613</td>\n",
       "      <td>0.821080</td>\n",
       "      <td>0.045367</td>\n",
       "    </tr>\n",
       "    <tr>\n",
       "      <th>17</th>\n",
       "      <td>BELAGAVI</td>\n",
       "      <td>1.000000</td>\n",
       "      <td>0.597214</td>\n",
       "      <td>0.800024</td>\n",
       "      <td>0.199976</td>\n",
       "      <td>0.097977</td>\n",
       "      <td>0.071465</td>\n",
       "      <td>0.084721</td>\n",
       "      <td>0.026512</td>\n",
       "      <td>0.199976</td>\n",
       "      <td>0.018193</td>\n",
       "    </tr>\n",
       "    <tr>\n",
       "      <th>18</th>\n",
       "      <td>VIJAYAPURA</td>\n",
       "      <td>0.376650</td>\n",
       "      <td>0.403393</td>\n",
       "      <td>0.084268</td>\n",
       "      <td>0.915732</td>\n",
       "      <td>0.053873</td>\n",
       "      <td>0.039269</td>\n",
       "      <td>0.046571</td>\n",
       "      <td>0.014604</td>\n",
       "      <td>0.915732</td>\n",
       "      <td>0.047396</td>\n",
       "    </tr>\n",
       "    <tr>\n",
       "      <th>19</th>\n",
       "      <td>BAGALKOT</td>\n",
       "      <td>0.439852</td>\n",
       "      <td>0.386670</td>\n",
       "      <td>0.092705</td>\n",
       "      <td>0.907295</td>\n",
       "      <td>0.106655</td>\n",
       "      <td>0.077779</td>\n",
       "      <td>0.092217</td>\n",
       "      <td>0.028877</td>\n",
       "      <td>0.907295</td>\n",
       "      <td>0.089241</td>\n",
       "    </tr>\n",
       "    <tr>\n",
       "      <th>20</th>\n",
       "      <td>DHARAWAD</td>\n",
       "      <td>0.155036</td>\n",
       "      <td>0.316747</td>\n",
       "      <td>0.336657</td>\n",
       "      <td>0.663343</td>\n",
       "      <td>0.083247</td>\n",
       "      <td>0.060723</td>\n",
       "      <td>0.071985</td>\n",
       "      <td>0.022524</td>\n",
       "      <td>0.663343</td>\n",
       "      <td>0.051868</td>\n",
       "    </tr>\n",
       "    <tr>\n",
       "      <th>21</th>\n",
       "      <td>GADAG</td>\n",
       "      <td>0.229001</td>\n",
       "      <td>0.457016</td>\n",
       "      <td>0.207412</td>\n",
       "      <td>0.792588</td>\n",
       "      <td>0.047250</td>\n",
       "      <td>0.034470</td>\n",
       "      <td>0.040860</td>\n",
       "      <td>0.012781</td>\n",
       "      <td>0.792588</td>\n",
       "      <td>0.036159</td>\n",
       "    </tr>\n",
       "    <tr>\n",
       "      <th>22</th>\n",
       "      <td>HAVERI</td>\n",
       "      <td>0.693099</td>\n",
       "      <td>0.269737</td>\n",
       "      <td>0.387001</td>\n",
       "      <td>0.612999</td>\n",
       "      <td>0.061501</td>\n",
       "      <td>0.044841</td>\n",
       "      <td>0.053171</td>\n",
       "      <td>0.016660</td>\n",
       "      <td>0.612999</td>\n",
       "      <td>0.036010</td>\n",
       "    </tr>\n",
       "    <tr>\n",
       "      <th>23</th>\n",
       "      <td>UTTARA KANNADA</td>\n",
       "      <td>0.039933</td>\n",
       "      <td>0.055893</td>\n",
       "      <td>0.448309</td>\n",
       "      <td>0.551691</td>\n",
       "      <td>0.049817</td>\n",
       "      <td>0.036340</td>\n",
       "      <td>0.043079</td>\n",
       "      <td>0.013477</td>\n",
       "      <td>0.551691</td>\n",
       "      <td>0.026485</td>\n",
       "    </tr>\n",
       "    <tr>\n",
       "      <th>24</th>\n",
       "      <td>BALLARI</td>\n",
       "      <td>0.179828</td>\n",
       "      <td>0.345737</td>\n",
       "      <td>0.252151</td>\n",
       "      <td>0.747849</td>\n",
       "      <td>0.094517</td>\n",
       "      <td>0.068945</td>\n",
       "      <td>0.081731</td>\n",
       "      <td>0.025572</td>\n",
       "      <td>0.747849</td>\n",
       "      <td>0.065811</td>\n",
       "    </tr>\n",
       "    <tr>\n",
       "      <th>25</th>\n",
       "      <td>BIDAR</td>\n",
       "      <td>0.004867</td>\n",
       "      <td>0.003948</td>\n",
       "      <td>0.046119</td>\n",
       "      <td>0.953881</td>\n",
       "      <td>0.104264</td>\n",
       "      <td>0.072797</td>\n",
       "      <td>0.088530</td>\n",
       "      <td>0.031467</td>\n",
       "      <td>0.953881</td>\n",
       "      <td>0.092215</td>\n",
       "    </tr>\n",
       "    <tr>\n",
       "      <th>26</th>\n",
       "      <td>KALABURAGI</td>\n",
       "      <td>0.024399</td>\n",
       "      <td>0.045727</td>\n",
       "      <td>0.275722</td>\n",
       "      <td>0.724278</td>\n",
       "      <td>0.056768</td>\n",
       "      <td>0.041426</td>\n",
       "      <td>0.049097</td>\n",
       "      <td>0.015342</td>\n",
       "      <td>0.724278</td>\n",
       "      <td>0.039412</td>\n",
       "    </tr>\n",
       "    <tr>\n",
       "      <th>27</th>\n",
       "      <td>YADGIRI</td>\n",
       "      <td>0.004902</td>\n",
       "      <td>0.495410</td>\n",
       "      <td>0.246385</td>\n",
       "      <td>0.753615</td>\n",
       "      <td>0.161242</td>\n",
       "      <td>0.117703</td>\n",
       "      <td>0.139473</td>\n",
       "      <td>0.043539</td>\n",
       "      <td>0.753615</td>\n",
       "      <td>0.107212</td>\n",
       "    </tr>\n",
       "    <tr>\n",
       "      <th>28</th>\n",
       "      <td>RAICHUR</td>\n",
       "      <td>0.001255</td>\n",
       "      <td>0.407735</td>\n",
       "      <td>0.263240</td>\n",
       "      <td>0.736760</td>\n",
       "      <td>0.099585</td>\n",
       "      <td>0.072669</td>\n",
       "      <td>0.086127</td>\n",
       "      <td>0.026916</td>\n",
       "      <td>0.736760</td>\n",
       "      <td>0.068039</td>\n",
       "    </tr>\n",
       "    <tr>\n",
       "      <th>29</th>\n",
       "      <td>KOPPAL</td>\n",
       "      <td>0.320751</td>\n",
       "      <td>0.443606</td>\n",
       "      <td>0.127305</td>\n",
       "      <td>0.872695</td>\n",
       "      <td>0.067642</td>\n",
       "      <td>0.049330</td>\n",
       "      <td>0.058486</td>\n",
       "      <td>0.018312</td>\n",
       "      <td>0.872695</td>\n",
       "      <td>0.056119</td>\n",
       "    </tr>\n",
       "    <tr>\n",
       "      <th>30</th>\n",
       "      <td>VIJAYANAGARA</td>\n",
       "      <td>0.179828</td>\n",
       "      <td>0.345737</td>\n",
       "      <td>0.317538</td>\n",
       "      <td>0.682462</td>\n",
       "      <td>0.094517</td>\n",
       "      <td>0.068945</td>\n",
       "      <td>0.081731</td>\n",
       "      <td>0.025572</td>\n",
       "      <td>0.682462</td>\n",
       "      <td>0.060057</td>\n",
       "    </tr>\n",
       "  </tbody>\n",
       "</table>\n",
       "</div>"
      ],
      "text/plain": [
       "                node  Capability_1  Capability_2    stress  stability  \\\n",
       "0          BENGALURU      0.005355      0.001128  0.052845   0.947155   \n",
       "1       BENGALURU(R)      0.072852      0.003074  0.166526   0.833474   \n",
       "2         RAMANAGARA      0.016912      0.069331  0.108339   0.891661   \n",
       "3        CHITRADURGA      0.449626      1.000000  0.698657   0.301343   \n",
       "4         DAVANAGERE      0.984769      0.242594  0.659773   0.340227   \n",
       "5              KOLAR      0.003185      0.090692  0.129094   0.870906   \n",
       "6    CHIKKABALLAPURA      0.181729      0.107232  0.167094   0.832906   \n",
       "7         SHIVAMOGGA      0.376989      0.003624  0.133150   0.866850   \n",
       "8           TUMAKURU      0.110666      0.578320  0.408464   0.591536   \n",
       "9     CHIKKAMAGALURU      0.111954      0.061364  0.319343   0.680657   \n",
       "10  DAKSHINA KANNADA      0.000000      0.000000  0.179042   0.820958   \n",
       "11             UDUPI      0.000175      0.052002  0.133828   0.866172   \n",
       "12            HASSAN      0.558812      0.007656  0.484086   0.515914   \n",
       "13            KODAGU      0.034802      0.000733  0.228280   0.771720   \n",
       "14            MANDYA      0.033291      0.015313  0.248330   0.751670   \n",
       "15            MYSURU      0.229415      0.031909  0.012770   0.987230   \n",
       "16    CHAMARAJANAGAR      0.246999      0.130286  0.178920   0.821080   \n",
       "17          BELAGAVI      1.000000      0.597214  0.800024   0.199976   \n",
       "18        VIJAYAPURA      0.376650      0.403393  0.084268   0.915732   \n",
       "19          BAGALKOT      0.439852      0.386670  0.092705   0.907295   \n",
       "20          DHARAWAD      0.155036      0.316747  0.336657   0.663343   \n",
       "21             GADAG      0.229001      0.457016  0.207412   0.792588   \n",
       "22            HAVERI      0.693099      0.269737  0.387001   0.612999   \n",
       "23    UTTARA KANNADA      0.039933      0.055893  0.448309   0.551691   \n",
       "24           BALLARI      0.179828      0.345737  0.252151   0.747849   \n",
       "25             BIDAR      0.004867      0.003948  0.046119   0.953881   \n",
       "26        KALABURAGI      0.024399      0.045727  0.275722   0.724278   \n",
       "27           YADGIRI      0.004902      0.495410  0.246385   0.753615   \n",
       "28           RAICHUR      0.001255      0.407735  0.263240   0.736760   \n",
       "29            KOPPAL      0.320751      0.443606  0.127305   0.872695   \n",
       "30      VIJAYANAGARA      0.179828      0.345737  0.317538   0.682462   \n",
       "\n",
       "    Change_M_NPK_20  Change_G_NPK_20  Mean_Impact  Dissonance  \\\n",
       "0          0.177840         0.126761     0.152300    0.051079   \n",
       "1          0.083414         0.058252     0.070833    0.025161   \n",
       "2          0.024880         0.018012     0.021446    0.006868   \n",
       "3          0.046909         0.034211     0.040560    0.012698   \n",
       "4          0.050675         0.036946     0.043810    0.013730   \n",
       "5          0.146674         0.107057     0.126866    0.039617   \n",
       "6          0.090927         0.066321     0.078624    0.024606   \n",
       "7          0.053869         0.036290     0.045080    0.017578   \n",
       "8          0.048050         0.035053     0.041551    0.012997   \n",
       "9          0.155559         0.113328     0.134444    0.042231   \n",
       "10              NaN              NaN          NaN         NaN   \n",
       "11         0.018349         0.017941     0.018145    0.000408   \n",
       "12         0.059712         0.042226     0.050969    0.017485   \n",
       "13         0.229786         0.155556     0.192671    0.074231   \n",
       "14         0.087430         0.063663     0.075546    0.023767   \n",
       "15         0.059255         0.042857     0.051056    0.016397   \n",
       "16         0.057680         0.042066     0.049873    0.015613   \n",
       "17         0.097977         0.071465     0.084721    0.026512   \n",
       "18         0.053873         0.039269     0.046571    0.014604   \n",
       "19         0.106655         0.077779     0.092217    0.028877   \n",
       "20         0.083247         0.060723     0.071985    0.022524   \n",
       "21         0.047250         0.034470     0.040860    0.012781   \n",
       "22         0.061501         0.044841     0.053171    0.016660   \n",
       "23         0.049817         0.036340     0.043079    0.013477   \n",
       "24         0.094517         0.068945     0.081731    0.025572   \n",
       "25         0.104264         0.072797     0.088530    0.031467   \n",
       "26         0.056768         0.041426     0.049097    0.015342   \n",
       "27         0.161242         0.117703     0.139473    0.043539   \n",
       "28         0.099585         0.072669     0.086127    0.026916   \n",
       "29         0.067642         0.049330     0.058486    0.018312   \n",
       "30         0.094517         0.068945     0.081731    0.025572   \n",
       "\n",
       "    Stability_M_G_NPK_20  SI_Score  \n",
       "0               0.947155  0.147090  \n",
       "1               0.833474  0.065473  \n",
       "2               0.891661  0.021785  \n",
       "3               0.301343  0.013652  \n",
       "4               0.340227  0.016604  \n",
       "5               0.870906  0.114064  \n",
       "6               0.832906  0.070711  \n",
       "7               0.866850  0.045002  \n",
       "8               0.591536  0.027427  \n",
       "9               0.680657  0.093883  \n",
       "10              0.820958       NaN  \n",
       "11              0.866172  0.015608  \n",
       "12              0.515914  0.029505  \n",
       "13              0.771720  0.149746  \n",
       "14              0.751670  0.061534  \n",
       "15              0.987230  0.055991  \n",
       "16              0.821080  0.045367  \n",
       "17              0.199976  0.018193  \n",
       "18              0.915732  0.047396  \n",
       "19              0.907295  0.089241  \n",
       "20              0.663343  0.051868  \n",
       "21              0.792588  0.036159  \n",
       "22              0.612999  0.036010  \n",
       "23              0.551691  0.026485  \n",
       "24              0.747849  0.065811  \n",
       "25              0.953881  0.092215  \n",
       "26              0.724278  0.039412  \n",
       "27              0.753615  0.107212  \n",
       "28              0.736760  0.068039  \n",
       "29              0.872695  0.056119  \n",
       "30              0.682462  0.060057  "
      ]
     },
     "execution_count": 23,
     "metadata": {},
     "output_type": "execute_result"
    }
   ],
   "source": [
    "result_df.to_csv('2D/Maize_Groundnut SI Score NPK+20%.csv',index=False)\n",
    "result_df"
   ]
  },
  {
   "cell_type": "code",
   "execution_count": 24,
   "metadata": {},
   "outputs": [
    {
     "data": {
      "application/vnd.plotly.v1+json": {
       "config": {
        "plotlyServerURL": "https://plot.ly"
       },
       "data": [
        {
         "hovertemplate": "SI Score=%{marker.color}<br>District=%{y}<extra></extra>",
         "legendgroup": "",
         "marker": {
          "color": {
           "bdata": "5j+k374OjD/ecYqO5PKPP49TdCSX/5A/whcmUwWjkj80ETY8vVKWP4lBYOXQIps/5j+k374OnD9oke18PzWePzvfT42XbqI/f/s6cM6Ioj+xv+yePCykPwrXo3A9Cqc/kQ96Nqs+pz8wKqkT0ESoPxgmUwWjkqo/eekmMQisrD+ad5yiI7msP9qs+lxtxa4/sHJoke18rz/4U+Olm8SwPyqpE9BE2LA/nMQgsHJosT9hw9MrZRmyP4SezarP1bY/fPKwUGuatz+ZKhiV1Am4P1OWIY51cbs/2T15WKg1vT/A7J48LNTCP5oIG55eKcM/",
           "dtype": "f8"
          },
          "coloraxis": "coloraxis",
          "pattern": {
           "shape": ""
          }
         },
         "name": "",
         "orientation": "h",
         "showlegend": false,
         "text": {
          "bdata": "5j+k374OjD/ecYqO5PKPP49TdCSX/5A/whcmUwWjkj80ETY8vVKWP4lBYOXQIps/5j+k374OnD9oke18PzWePzvfT42XbqI/f/s6cM6Ioj+xv+yePCykPwrXo3A9Cqc/kQ96Nqs+pz8wKqkT0ESoPxgmUwWjkqo/eekmMQisrD+ad5yiI7msP9qs+lxtxa4/sHJoke18rz/4U+Olm8SwPyqpE9BE2LA/nMQgsHJosT9hw9MrZRmyP4SezarP1bY/fPKwUGuatz+ZKhiV1Am4P1OWIY51cbs/2T15WKg1vT/A7J48LNTCP5oIG55eKcM/",
          "dtype": "f8"
         },
         "textposition": "auto",
         "type": "bar",
         "x": {
          "bdata": "5j+k374OjD/ecYqO5PKPP49TdCSX/5A/whcmUwWjkj80ETY8vVKWP4lBYOXQIps/5j+k374OnD9oke18PzWePzvfT42XbqI/f/s6cM6Ioj+xv+yePCykPwrXo3A9Cqc/kQ96Nqs+pz8wKqkT0ESoPxgmUwWjkqo/eekmMQisrD+ad5yiI7msP9qs+lxtxa4/sHJoke18rz/4U+Olm8SwPyqpE9BE2LA/nMQgsHJosT9hw9MrZRmyP4SezarP1bY/fPKwUGuatz+ZKhiV1Am4P1OWIY51cbs/2T15WKg1vT/A7J48LNTCP5oIG55eKcM/",
          "dtype": "f8"
         },
         "xaxis": "x",
         "y": [
          "CHITRADURGA",
          "UDUPI",
          "DAVANAGERE",
          "BELAGAVI",
          "RAMANAGARA",
          "UTTARA KANNADA",
          "TUMAKURU",
          "HASSAN",
          "HAVERI",
          "GADAG",
          "KALABURAGI",
          "SHIVAMOGGA",
          "CHAMARAJANAGAR",
          "VIJAYAPURA",
          "DHARAWAD",
          "MYSURU",
          "KOPPAL",
          "VIJAYANAGARA",
          "MANDYA",
          "BENGALURU(R)",
          "BALLARI",
          "RAICHUR",
          "CHIKKABALLAPURA",
          "BAGALKOT",
          "BIDAR",
          "CHIKKAMAGALURU",
          "YADGIRI",
          "KOLAR",
          "BENGALURU",
          "KODAGU"
         ],
         "yaxis": "y"
        }
       ],
       "layout": {
        "barmode": "relative",
        "coloraxis": {
         "colorbar": {
          "title": {
           "text": "SI Score"
          }
         },
         "colorscale": [
          [
           0,
           "rgb(207, 89, 126)"
          ],
          [
           0.16666666666666666,
           "rgb(232, 132, 113)"
          ],
          [
           0.3333333333333333,
           "rgb(238, 180, 121)"
          ],
          [
           0.5,
           "rgb(233, 226, 156)"
          ],
          [
           0.6666666666666666,
           "rgb(156, 203, 134)"
          ],
          [
           0.8333333333333334,
           "rgb(57, 177, 133)"
          ],
          [
           1,
           "rgb(0, 147, 146)"
          ]
         ]
        },
        "height": 800,
        "legend": {
         "tracegroupgap": 0
        },
        "template": {
         "data": {
          "bar": [
           {
            "error_x": {
             "color": "#2a3f5f"
            },
            "error_y": {
             "color": "#2a3f5f"
            },
            "marker": {
             "line": {
              "color": "#E5ECF6",
              "width": 0.5
             },
             "pattern": {
              "fillmode": "overlay",
              "size": 10,
              "solidity": 0.2
             }
            },
            "type": "bar"
           }
          ],
          "barpolar": [
           {
            "marker": {
             "line": {
              "color": "#E5ECF6",
              "width": 0.5
             },
             "pattern": {
              "fillmode": "overlay",
              "size": 10,
              "solidity": 0.2
             }
            },
            "type": "barpolar"
           }
          ],
          "carpet": [
           {
            "aaxis": {
             "endlinecolor": "#2a3f5f",
             "gridcolor": "white",
             "linecolor": "white",
             "minorgridcolor": "white",
             "startlinecolor": "#2a3f5f"
            },
            "baxis": {
             "endlinecolor": "#2a3f5f",
             "gridcolor": "white",
             "linecolor": "white",
             "minorgridcolor": "white",
             "startlinecolor": "#2a3f5f"
            },
            "type": "carpet"
           }
          ],
          "choropleth": [
           {
            "colorbar": {
             "outlinewidth": 0,
             "ticks": ""
            },
            "type": "choropleth"
           }
          ],
          "contour": [
           {
            "colorbar": {
             "outlinewidth": 0,
             "ticks": ""
            },
            "colorscale": [
             [
              0,
              "#0d0887"
             ],
             [
              0.1111111111111111,
              "#46039f"
             ],
             [
              0.2222222222222222,
              "#7201a8"
             ],
             [
              0.3333333333333333,
              "#9c179e"
             ],
             [
              0.4444444444444444,
              "#bd3786"
             ],
             [
              0.5555555555555556,
              "#d8576b"
             ],
             [
              0.6666666666666666,
              "#ed7953"
             ],
             [
              0.7777777777777778,
              "#fb9f3a"
             ],
             [
              0.8888888888888888,
              "#fdca26"
             ],
             [
              1,
              "#f0f921"
             ]
            ],
            "type": "contour"
           }
          ],
          "contourcarpet": [
           {
            "colorbar": {
             "outlinewidth": 0,
             "ticks": ""
            },
            "type": "contourcarpet"
           }
          ],
          "heatmap": [
           {
            "colorbar": {
             "outlinewidth": 0,
             "ticks": ""
            },
            "colorscale": [
             [
              0,
              "#0d0887"
             ],
             [
              0.1111111111111111,
              "#46039f"
             ],
             [
              0.2222222222222222,
              "#7201a8"
             ],
             [
              0.3333333333333333,
              "#9c179e"
             ],
             [
              0.4444444444444444,
              "#bd3786"
             ],
             [
              0.5555555555555556,
              "#d8576b"
             ],
             [
              0.6666666666666666,
              "#ed7953"
             ],
             [
              0.7777777777777778,
              "#fb9f3a"
             ],
             [
              0.8888888888888888,
              "#fdca26"
             ],
             [
              1,
              "#f0f921"
             ]
            ],
            "type": "heatmap"
           }
          ],
          "histogram": [
           {
            "marker": {
             "pattern": {
              "fillmode": "overlay",
              "size": 10,
              "solidity": 0.2
             }
            },
            "type": "histogram"
           }
          ],
          "histogram2d": [
           {
            "colorbar": {
             "outlinewidth": 0,
             "ticks": ""
            },
            "colorscale": [
             [
              0,
              "#0d0887"
             ],
             [
              0.1111111111111111,
              "#46039f"
             ],
             [
              0.2222222222222222,
              "#7201a8"
             ],
             [
              0.3333333333333333,
              "#9c179e"
             ],
             [
              0.4444444444444444,
              "#bd3786"
             ],
             [
              0.5555555555555556,
              "#d8576b"
             ],
             [
              0.6666666666666666,
              "#ed7953"
             ],
             [
              0.7777777777777778,
              "#fb9f3a"
             ],
             [
              0.8888888888888888,
              "#fdca26"
             ],
             [
              1,
              "#f0f921"
             ]
            ],
            "type": "histogram2d"
           }
          ],
          "histogram2dcontour": [
           {
            "colorbar": {
             "outlinewidth": 0,
             "ticks": ""
            },
            "colorscale": [
             [
              0,
              "#0d0887"
             ],
             [
              0.1111111111111111,
              "#46039f"
             ],
             [
              0.2222222222222222,
              "#7201a8"
             ],
             [
              0.3333333333333333,
              "#9c179e"
             ],
             [
              0.4444444444444444,
              "#bd3786"
             ],
             [
              0.5555555555555556,
              "#d8576b"
             ],
             [
              0.6666666666666666,
              "#ed7953"
             ],
             [
              0.7777777777777778,
              "#fb9f3a"
             ],
             [
              0.8888888888888888,
              "#fdca26"
             ],
             [
              1,
              "#f0f921"
             ]
            ],
            "type": "histogram2dcontour"
           }
          ],
          "mesh3d": [
           {
            "colorbar": {
             "outlinewidth": 0,
             "ticks": ""
            },
            "type": "mesh3d"
           }
          ],
          "parcoords": [
           {
            "line": {
             "colorbar": {
              "outlinewidth": 0,
              "ticks": ""
             }
            },
            "type": "parcoords"
           }
          ],
          "pie": [
           {
            "automargin": true,
            "type": "pie"
           }
          ],
          "scatter": [
           {
            "fillpattern": {
             "fillmode": "overlay",
             "size": 10,
             "solidity": 0.2
            },
            "type": "scatter"
           }
          ],
          "scatter3d": [
           {
            "line": {
             "colorbar": {
              "outlinewidth": 0,
              "ticks": ""
             }
            },
            "marker": {
             "colorbar": {
              "outlinewidth": 0,
              "ticks": ""
             }
            },
            "type": "scatter3d"
           }
          ],
          "scattercarpet": [
           {
            "marker": {
             "colorbar": {
              "outlinewidth": 0,
              "ticks": ""
             }
            },
            "type": "scattercarpet"
           }
          ],
          "scattergeo": [
           {
            "marker": {
             "colorbar": {
              "outlinewidth": 0,
              "ticks": ""
             }
            },
            "type": "scattergeo"
           }
          ],
          "scattergl": [
           {
            "marker": {
             "colorbar": {
              "outlinewidth": 0,
              "ticks": ""
             }
            },
            "type": "scattergl"
           }
          ],
          "scattermap": [
           {
            "marker": {
             "colorbar": {
              "outlinewidth": 0,
              "ticks": ""
             }
            },
            "type": "scattermap"
           }
          ],
          "scattermapbox": [
           {
            "marker": {
             "colorbar": {
              "outlinewidth": 0,
              "ticks": ""
             }
            },
            "type": "scattermapbox"
           }
          ],
          "scatterpolar": [
           {
            "marker": {
             "colorbar": {
              "outlinewidth": 0,
              "ticks": ""
             }
            },
            "type": "scatterpolar"
           }
          ],
          "scatterpolargl": [
           {
            "marker": {
             "colorbar": {
              "outlinewidth": 0,
              "ticks": ""
             }
            },
            "type": "scatterpolargl"
           }
          ],
          "scatterternary": [
           {
            "marker": {
             "colorbar": {
              "outlinewidth": 0,
              "ticks": ""
             }
            },
            "type": "scatterternary"
           }
          ],
          "surface": [
           {
            "colorbar": {
             "outlinewidth": 0,
             "ticks": ""
            },
            "colorscale": [
             [
              0,
              "#0d0887"
             ],
             [
              0.1111111111111111,
              "#46039f"
             ],
             [
              0.2222222222222222,
              "#7201a8"
             ],
             [
              0.3333333333333333,
              "#9c179e"
             ],
             [
              0.4444444444444444,
              "#bd3786"
             ],
             [
              0.5555555555555556,
              "#d8576b"
             ],
             [
              0.6666666666666666,
              "#ed7953"
             ],
             [
              0.7777777777777778,
              "#fb9f3a"
             ],
             [
              0.8888888888888888,
              "#fdca26"
             ],
             [
              1,
              "#f0f921"
             ]
            ],
            "type": "surface"
           }
          ],
          "table": [
           {
            "cells": {
             "fill": {
              "color": "#EBF0F8"
             },
             "line": {
              "color": "white"
             }
            },
            "header": {
             "fill": {
              "color": "#C8D4E3"
             },
             "line": {
              "color": "white"
             }
            },
            "type": "table"
           }
          ]
         },
         "layout": {
          "annotationdefaults": {
           "arrowcolor": "#2a3f5f",
           "arrowhead": 0,
           "arrowwidth": 1
          },
          "autotypenumbers": "strict",
          "coloraxis": {
           "colorbar": {
            "outlinewidth": 0,
            "ticks": ""
           }
          },
          "colorscale": {
           "diverging": [
            [
             0,
             "#8e0152"
            ],
            [
             0.1,
             "#c51b7d"
            ],
            [
             0.2,
             "#de77ae"
            ],
            [
             0.3,
             "#f1b6da"
            ],
            [
             0.4,
             "#fde0ef"
            ],
            [
             0.5,
             "#f7f7f7"
            ],
            [
             0.6,
             "#e6f5d0"
            ],
            [
             0.7,
             "#b8e186"
            ],
            [
             0.8,
             "#7fbc41"
            ],
            [
             0.9,
             "#4d9221"
            ],
            [
             1,
             "#276419"
            ]
           ],
           "sequential": [
            [
             0,
             "#0d0887"
            ],
            [
             0.1111111111111111,
             "#46039f"
            ],
            [
             0.2222222222222222,
             "#7201a8"
            ],
            [
             0.3333333333333333,
             "#9c179e"
            ],
            [
             0.4444444444444444,
             "#bd3786"
            ],
            [
             0.5555555555555556,
             "#d8576b"
            ],
            [
             0.6666666666666666,
             "#ed7953"
            ],
            [
             0.7777777777777778,
             "#fb9f3a"
            ],
            [
             0.8888888888888888,
             "#fdca26"
            ],
            [
             1,
             "#f0f921"
            ]
           ],
           "sequentialminus": [
            [
             0,
             "#0d0887"
            ],
            [
             0.1111111111111111,
             "#46039f"
            ],
            [
             0.2222222222222222,
             "#7201a8"
            ],
            [
             0.3333333333333333,
             "#9c179e"
            ],
            [
             0.4444444444444444,
             "#bd3786"
            ],
            [
             0.5555555555555556,
             "#d8576b"
            ],
            [
             0.6666666666666666,
             "#ed7953"
            ],
            [
             0.7777777777777778,
             "#fb9f3a"
            ],
            [
             0.8888888888888888,
             "#fdca26"
            ],
            [
             1,
             "#f0f921"
            ]
           ]
          },
          "colorway": [
           "#636efa",
           "#EF553B",
           "#00cc96",
           "#ab63fa",
           "#FFA15A",
           "#19d3f3",
           "#FF6692",
           "#B6E880",
           "#FF97FF",
           "#FECB52"
          ],
          "font": {
           "color": "#2a3f5f"
          },
          "geo": {
           "bgcolor": "white",
           "lakecolor": "white",
           "landcolor": "#E5ECF6",
           "showlakes": true,
           "showland": true,
           "subunitcolor": "white"
          },
          "hoverlabel": {
           "align": "left"
          },
          "hovermode": "closest",
          "mapbox": {
           "style": "light"
          },
          "paper_bgcolor": "white",
          "plot_bgcolor": "#E5ECF6",
          "polar": {
           "angularaxis": {
            "gridcolor": "white",
            "linecolor": "white",
            "ticks": ""
           },
           "bgcolor": "#E5ECF6",
           "radialaxis": {
            "gridcolor": "white",
            "linecolor": "white",
            "ticks": ""
           }
          },
          "scene": {
           "xaxis": {
            "backgroundcolor": "#E5ECF6",
            "gridcolor": "white",
            "gridwidth": 2,
            "linecolor": "white",
            "showbackground": true,
            "ticks": "",
            "zerolinecolor": "white"
           },
           "yaxis": {
            "backgroundcolor": "#E5ECF6",
            "gridcolor": "white",
            "gridwidth": 2,
            "linecolor": "white",
            "showbackground": true,
            "ticks": "",
            "zerolinecolor": "white"
           },
           "zaxis": {
            "backgroundcolor": "#E5ECF6",
            "gridcolor": "white",
            "gridwidth": 2,
            "linecolor": "white",
            "showbackground": true,
            "ticks": "",
            "zerolinecolor": "white"
           }
          },
          "shapedefaults": {
           "line": {
            "color": "#2a3f5f"
           }
          },
          "ternary": {
           "aaxis": {
            "gridcolor": "white",
            "linecolor": "white",
            "ticks": ""
           },
           "baxis": {
            "gridcolor": "white",
            "linecolor": "white",
            "ticks": ""
           },
           "bgcolor": "#E5ECF6",
           "caxis": {
            "gridcolor": "white",
            "linecolor": "white",
            "ticks": ""
           }
          },
          "title": {
           "x": 0.05
          },
          "xaxis": {
           "automargin": true,
           "gridcolor": "white",
           "linecolor": "white",
           "ticks": "",
           "title": {
            "standoff": 15
           },
           "zerolinecolor": "white",
           "zerolinewidth": 2
          },
          "yaxis": {
           "automargin": true,
           "gridcolor": "white",
           "linecolor": "white",
           "ticks": "",
           "title": {
            "standoff": 15
           },
           "zerolinecolor": "white",
           "zerolinewidth": 2
          }
         }
        },
        "title": {
         "text": "Ranked Bar Chart of SI Score by District for NPK +20%",
         "x": 0.5
        },
        "width": 700,
        "xaxis": {
         "anchor": "y",
         "domain": [
          0,
          1
         ],
         "title": {
          "text": "Sustainable Intervention Score"
         }
        },
        "yaxis": {
         "anchor": "x",
         "domain": [
          0,
          1
         ],
         "title": {
          "text": "District"
         }
        }
       }
      }
     },
     "metadata": {},
     "output_type": "display_data"
    }
   ],
   "source": [
    "import plotly.express as px\n",
    "ranked_df = result_df[['node', 'SI_Score']].sort_values(by='SI_Score', ascending=True)\n",
    "ranked_df = ranked_df[ranked_df['SI_Score'] <= 5]\n",
    "\n",
    "ranked_df = ranked_df.dropna()\n",
    "\n",
    "ranked_df['SI_Score'] = ranked_df['SI_Score'].round(4)\n",
    "\n",
    "fig = px.bar(\n",
    "    ranked_df,\n",
    "    x='SI_Score',        \n",
    "    y='node',            \n",
    "    text='SI_Score',     \n",
    "    title='Ranked Bar Chart of SI Score by District for NPK +20%',\n",
    "    labels={'node': 'District', 'SI_Score': 'SI Score'},\n",
    "    color='SI_Score',    \n",
    "    color_continuous_scale='Temps_r'\n",
    ")\n",
    "\n",
    "fig.update_layout(\n",
    "    width=700,\n",
    "    height=800,\n",
    "    xaxis_title='Sustainable Intervention Score',\n",
    "    yaxis_title='District',\n",
    "    title_x=0.5 \n",
    ")\n",
    "\n",
    "fig.show()\n"
   ]
  },
  {
   "cell_type": "code",
   "execution_count": 25,
   "metadata": {},
   "outputs": [
    {
     "data": {
      "application/vnd.plotly.v1+json": {
       "config": {
        "plotlyServerURL": "https://plot.ly"
       },
       "data": [
        {
         "hovertemplate": "SI Score=%{marker.color}<br>District=%{y}<extra></extra>",
         "legendgroup": "",
         "marker": {
          "color": {
           "bdata": "5j+k374OjD/ecYqO5PKPP49TdCSX/5A/whcmUwWjkj80ETY8vVKWP4lBYOXQIps/5j+k374OnD9oke18PzWePzvfT42XbqI/f/s6cM6Ioj+xv+yePCykPwrXo3A9Cqc/kQ96Nqs+pz8wKqkT0ESoPxgmUwWjkqo/eekmMQisrD+ad5yiI7msP9qs+lxtxa4/sHJoke18rz/4U+Olm8SwPyqpE9BE2LA/nMQgsHJosT9hw9MrZRmyP4SezarP1bY/fPKwUGuatz+ZKhiV1Am4P1OWIY51cbs/2T15WKg1vT/A7J48LNTCP5oIG55eKcM/",
           "dtype": "f8"
          },
          "coloraxis": "coloraxis",
          "pattern": {
           "shape": ""
          }
         },
         "name": "",
         "orientation": "h",
         "showlegend": false,
         "text": {
          "bdata": "5j+k374OjD/ecYqO5PKPP49TdCSX/5A/whcmUwWjkj80ETY8vVKWP4lBYOXQIps/5j+k374OnD9oke18PzWePzvfT42XbqI/f/s6cM6Ioj+xv+yePCykPwrXo3A9Cqc/kQ96Nqs+pz8wKqkT0ESoPxgmUwWjkqo/eekmMQisrD+ad5yiI7msP9qs+lxtxa4/sHJoke18rz/4U+Olm8SwPyqpE9BE2LA/nMQgsHJosT9hw9MrZRmyP4SezarP1bY/fPKwUGuatz+ZKhiV1Am4P1OWIY51cbs/2T15WKg1vT/A7J48LNTCP5oIG55eKcM/",
          "dtype": "f8"
         },
         "textposition": "auto",
         "type": "bar",
         "x": {
          "bdata": "5j+k374OjD/ecYqO5PKPP49TdCSX/5A/whcmUwWjkj80ETY8vVKWP4lBYOXQIps/5j+k374OnD9oke18PzWePzvfT42XbqI/f/s6cM6Ioj+xv+yePCykPwrXo3A9Cqc/kQ96Nqs+pz8wKqkT0ESoPxgmUwWjkqo/eekmMQisrD+ad5yiI7msP9qs+lxtxa4/sHJoke18rz/4U+Olm8SwPyqpE9BE2LA/nMQgsHJosT9hw9MrZRmyP4SezarP1bY/fPKwUGuatz+ZKhiV1Am4P1OWIY51cbs/2T15WKg1vT/A7J48LNTCP5oIG55eKcM/",
          "dtype": "f8"
         },
         "xaxis": "x",
         "y": [
          "CHITRADURGA",
          "UDUPI",
          "DAVANAGERE",
          "BELAGAVI",
          "RAMANAGARA",
          "UTTARA KANNADA",
          "TUMAKURU",
          "HASSAN",
          "HAVERI",
          "GADAG",
          "KALABURAGI",
          "SHIVAMOGGA",
          "CHAMARAJANAGAR",
          "VIJAYAPURA",
          "DHARAWAD",
          "MYSURU",
          "KOPPAL",
          "VIJAYANAGARA",
          "MANDYA",
          "BENGALURU(R)",
          "BALLARI",
          "RAICHUR",
          "CHIKKABALLAPURA",
          "BAGALKOT",
          "BIDAR",
          "CHIKKAMAGALURU",
          "YADGIRI",
          "KOLAR",
          "BENGALURU",
          "KODAGU"
         ],
         "yaxis": "y"
        }
       ],
       "layout": {
        "annotations": [
         {
          "font": {
           "color": "black",
           "size": 13
          },
          "showarrow": false,
          "text": "Avg: 0.0589",
          "x": 0.058923333333333335,
          "xanchor": "left",
          "y": 29.7
         }
        ],
        "barmode": "relative",
        "coloraxis": {
         "colorbar": {
          "title": {
           "text": "SI Score"
          }
         },
         "colorscale": [
          [
           0,
           "rgb(207, 89, 126)"
          ],
          [
           0.16666666666666666,
           "rgb(232, 132, 113)"
          ],
          [
           0.3333333333333333,
           "rgb(238, 180, 121)"
          ],
          [
           0.5,
           "rgb(233, 226, 156)"
          ],
          [
           0.6666666666666666,
           "rgb(156, 203, 134)"
          ],
          [
           0.8333333333333334,
           "rgb(57, 177, 133)"
          ],
          [
           1,
           "rgb(0, 147, 146)"
          ]
         ]
        },
        "height": 800,
        "legend": {
         "tracegroupgap": 0
        },
        "shapes": [
         {
          "line": {
           "color": "grey",
           "dash": "dash"
          },
          "type": "line",
          "x0": 0.058923333333333335,
          "x1": 0.058923333333333335,
          "xref": "x",
          "y0": 0,
          "y1": 30,
          "yref": "y"
         }
        ],
        "template": {
         "data": {
          "bar": [
           {
            "error_x": {
             "color": "#2a3f5f"
            },
            "error_y": {
             "color": "#2a3f5f"
            },
            "marker": {
             "line": {
              "color": "#E5ECF6",
              "width": 0.5
             },
             "pattern": {
              "fillmode": "overlay",
              "size": 10,
              "solidity": 0.2
             }
            },
            "type": "bar"
           }
          ],
          "barpolar": [
           {
            "marker": {
             "line": {
              "color": "#E5ECF6",
              "width": 0.5
             },
             "pattern": {
              "fillmode": "overlay",
              "size": 10,
              "solidity": 0.2
             }
            },
            "type": "barpolar"
           }
          ],
          "carpet": [
           {
            "aaxis": {
             "endlinecolor": "#2a3f5f",
             "gridcolor": "white",
             "linecolor": "white",
             "minorgridcolor": "white",
             "startlinecolor": "#2a3f5f"
            },
            "baxis": {
             "endlinecolor": "#2a3f5f",
             "gridcolor": "white",
             "linecolor": "white",
             "minorgridcolor": "white",
             "startlinecolor": "#2a3f5f"
            },
            "type": "carpet"
           }
          ],
          "choropleth": [
           {
            "colorbar": {
             "outlinewidth": 0,
             "ticks": ""
            },
            "type": "choropleth"
           }
          ],
          "contour": [
           {
            "colorbar": {
             "outlinewidth": 0,
             "ticks": ""
            },
            "colorscale": [
             [
              0,
              "#0d0887"
             ],
             [
              0.1111111111111111,
              "#46039f"
             ],
             [
              0.2222222222222222,
              "#7201a8"
             ],
             [
              0.3333333333333333,
              "#9c179e"
             ],
             [
              0.4444444444444444,
              "#bd3786"
             ],
             [
              0.5555555555555556,
              "#d8576b"
             ],
             [
              0.6666666666666666,
              "#ed7953"
             ],
             [
              0.7777777777777778,
              "#fb9f3a"
             ],
             [
              0.8888888888888888,
              "#fdca26"
             ],
             [
              1,
              "#f0f921"
             ]
            ],
            "type": "contour"
           }
          ],
          "contourcarpet": [
           {
            "colorbar": {
             "outlinewidth": 0,
             "ticks": ""
            },
            "type": "contourcarpet"
           }
          ],
          "heatmap": [
           {
            "colorbar": {
             "outlinewidth": 0,
             "ticks": ""
            },
            "colorscale": [
             [
              0,
              "#0d0887"
             ],
             [
              0.1111111111111111,
              "#46039f"
             ],
             [
              0.2222222222222222,
              "#7201a8"
             ],
             [
              0.3333333333333333,
              "#9c179e"
             ],
             [
              0.4444444444444444,
              "#bd3786"
             ],
             [
              0.5555555555555556,
              "#d8576b"
             ],
             [
              0.6666666666666666,
              "#ed7953"
             ],
             [
              0.7777777777777778,
              "#fb9f3a"
             ],
             [
              0.8888888888888888,
              "#fdca26"
             ],
             [
              1,
              "#f0f921"
             ]
            ],
            "type": "heatmap"
           }
          ],
          "histogram": [
           {
            "marker": {
             "pattern": {
              "fillmode": "overlay",
              "size": 10,
              "solidity": 0.2
             }
            },
            "type": "histogram"
           }
          ],
          "histogram2d": [
           {
            "colorbar": {
             "outlinewidth": 0,
             "ticks": ""
            },
            "colorscale": [
             [
              0,
              "#0d0887"
             ],
             [
              0.1111111111111111,
              "#46039f"
             ],
             [
              0.2222222222222222,
              "#7201a8"
             ],
             [
              0.3333333333333333,
              "#9c179e"
             ],
             [
              0.4444444444444444,
              "#bd3786"
             ],
             [
              0.5555555555555556,
              "#d8576b"
             ],
             [
              0.6666666666666666,
              "#ed7953"
             ],
             [
              0.7777777777777778,
              "#fb9f3a"
             ],
             [
              0.8888888888888888,
              "#fdca26"
             ],
             [
              1,
              "#f0f921"
             ]
            ],
            "type": "histogram2d"
           }
          ],
          "histogram2dcontour": [
           {
            "colorbar": {
             "outlinewidth": 0,
             "ticks": ""
            },
            "colorscale": [
             [
              0,
              "#0d0887"
             ],
             [
              0.1111111111111111,
              "#46039f"
             ],
             [
              0.2222222222222222,
              "#7201a8"
             ],
             [
              0.3333333333333333,
              "#9c179e"
             ],
             [
              0.4444444444444444,
              "#bd3786"
             ],
             [
              0.5555555555555556,
              "#d8576b"
             ],
             [
              0.6666666666666666,
              "#ed7953"
             ],
             [
              0.7777777777777778,
              "#fb9f3a"
             ],
             [
              0.8888888888888888,
              "#fdca26"
             ],
             [
              1,
              "#f0f921"
             ]
            ],
            "type": "histogram2dcontour"
           }
          ],
          "mesh3d": [
           {
            "colorbar": {
             "outlinewidth": 0,
             "ticks": ""
            },
            "type": "mesh3d"
           }
          ],
          "parcoords": [
           {
            "line": {
             "colorbar": {
              "outlinewidth": 0,
              "ticks": ""
             }
            },
            "type": "parcoords"
           }
          ],
          "pie": [
           {
            "automargin": true,
            "type": "pie"
           }
          ],
          "scatter": [
           {
            "fillpattern": {
             "fillmode": "overlay",
             "size": 10,
             "solidity": 0.2
            },
            "type": "scatter"
           }
          ],
          "scatter3d": [
           {
            "line": {
             "colorbar": {
              "outlinewidth": 0,
              "ticks": ""
             }
            },
            "marker": {
             "colorbar": {
              "outlinewidth": 0,
              "ticks": ""
             }
            },
            "type": "scatter3d"
           }
          ],
          "scattercarpet": [
           {
            "marker": {
             "colorbar": {
              "outlinewidth": 0,
              "ticks": ""
             }
            },
            "type": "scattercarpet"
           }
          ],
          "scattergeo": [
           {
            "marker": {
             "colorbar": {
              "outlinewidth": 0,
              "ticks": ""
             }
            },
            "type": "scattergeo"
           }
          ],
          "scattergl": [
           {
            "marker": {
             "colorbar": {
              "outlinewidth": 0,
              "ticks": ""
             }
            },
            "type": "scattergl"
           }
          ],
          "scattermap": [
           {
            "marker": {
             "colorbar": {
              "outlinewidth": 0,
              "ticks": ""
             }
            },
            "type": "scattermap"
           }
          ],
          "scattermapbox": [
           {
            "marker": {
             "colorbar": {
              "outlinewidth": 0,
              "ticks": ""
             }
            },
            "type": "scattermapbox"
           }
          ],
          "scatterpolar": [
           {
            "marker": {
             "colorbar": {
              "outlinewidth": 0,
              "ticks": ""
             }
            },
            "type": "scatterpolar"
           }
          ],
          "scatterpolargl": [
           {
            "marker": {
             "colorbar": {
              "outlinewidth": 0,
              "ticks": ""
             }
            },
            "type": "scatterpolargl"
           }
          ],
          "scatterternary": [
           {
            "marker": {
             "colorbar": {
              "outlinewidth": 0,
              "ticks": ""
             }
            },
            "type": "scatterternary"
           }
          ],
          "surface": [
           {
            "colorbar": {
             "outlinewidth": 0,
             "ticks": ""
            },
            "colorscale": [
             [
              0,
              "#0d0887"
             ],
             [
              0.1111111111111111,
              "#46039f"
             ],
             [
              0.2222222222222222,
              "#7201a8"
             ],
             [
              0.3333333333333333,
              "#9c179e"
             ],
             [
              0.4444444444444444,
              "#bd3786"
             ],
             [
              0.5555555555555556,
              "#d8576b"
             ],
             [
              0.6666666666666666,
              "#ed7953"
             ],
             [
              0.7777777777777778,
              "#fb9f3a"
             ],
             [
              0.8888888888888888,
              "#fdca26"
             ],
             [
              1,
              "#f0f921"
             ]
            ],
            "type": "surface"
           }
          ],
          "table": [
           {
            "cells": {
             "fill": {
              "color": "#EBF0F8"
             },
             "line": {
              "color": "white"
             }
            },
            "header": {
             "fill": {
              "color": "#C8D4E3"
             },
             "line": {
              "color": "white"
             }
            },
            "type": "table"
           }
          ]
         },
         "layout": {
          "annotationdefaults": {
           "arrowcolor": "#2a3f5f",
           "arrowhead": 0,
           "arrowwidth": 1
          },
          "autotypenumbers": "strict",
          "coloraxis": {
           "colorbar": {
            "outlinewidth": 0,
            "ticks": ""
           }
          },
          "colorscale": {
           "diverging": [
            [
             0,
             "#8e0152"
            ],
            [
             0.1,
             "#c51b7d"
            ],
            [
             0.2,
             "#de77ae"
            ],
            [
             0.3,
             "#f1b6da"
            ],
            [
             0.4,
             "#fde0ef"
            ],
            [
             0.5,
             "#f7f7f7"
            ],
            [
             0.6,
             "#e6f5d0"
            ],
            [
             0.7,
             "#b8e186"
            ],
            [
             0.8,
             "#7fbc41"
            ],
            [
             0.9,
             "#4d9221"
            ],
            [
             1,
             "#276419"
            ]
           ],
           "sequential": [
            [
             0,
             "#0d0887"
            ],
            [
             0.1111111111111111,
             "#46039f"
            ],
            [
             0.2222222222222222,
             "#7201a8"
            ],
            [
             0.3333333333333333,
             "#9c179e"
            ],
            [
             0.4444444444444444,
             "#bd3786"
            ],
            [
             0.5555555555555556,
             "#d8576b"
            ],
            [
             0.6666666666666666,
             "#ed7953"
            ],
            [
             0.7777777777777778,
             "#fb9f3a"
            ],
            [
             0.8888888888888888,
             "#fdca26"
            ],
            [
             1,
             "#f0f921"
            ]
           ],
           "sequentialminus": [
            [
             0,
             "#0d0887"
            ],
            [
             0.1111111111111111,
             "#46039f"
            ],
            [
             0.2222222222222222,
             "#7201a8"
            ],
            [
             0.3333333333333333,
             "#9c179e"
            ],
            [
             0.4444444444444444,
             "#bd3786"
            ],
            [
             0.5555555555555556,
             "#d8576b"
            ],
            [
             0.6666666666666666,
             "#ed7953"
            ],
            [
             0.7777777777777778,
             "#fb9f3a"
            ],
            [
             0.8888888888888888,
             "#fdca26"
            ],
            [
             1,
             "#f0f921"
            ]
           ]
          },
          "colorway": [
           "#636efa",
           "#EF553B",
           "#00cc96",
           "#ab63fa",
           "#FFA15A",
           "#19d3f3",
           "#FF6692",
           "#B6E880",
           "#FF97FF",
           "#FECB52"
          ],
          "font": {
           "color": "#2a3f5f"
          },
          "geo": {
           "bgcolor": "white",
           "lakecolor": "white",
           "landcolor": "#E5ECF6",
           "showlakes": true,
           "showland": true,
           "subunitcolor": "white"
          },
          "hoverlabel": {
           "align": "left"
          },
          "hovermode": "closest",
          "mapbox": {
           "style": "light"
          },
          "paper_bgcolor": "white",
          "plot_bgcolor": "#E5ECF6",
          "polar": {
           "angularaxis": {
            "gridcolor": "white",
            "linecolor": "white",
            "ticks": ""
           },
           "bgcolor": "#E5ECF6",
           "radialaxis": {
            "gridcolor": "white",
            "linecolor": "white",
            "ticks": ""
           }
          },
          "scene": {
           "xaxis": {
            "backgroundcolor": "#E5ECF6",
            "gridcolor": "white",
            "gridwidth": 2,
            "linecolor": "white",
            "showbackground": true,
            "ticks": "",
            "zerolinecolor": "white"
           },
           "yaxis": {
            "backgroundcolor": "#E5ECF6",
            "gridcolor": "white",
            "gridwidth": 2,
            "linecolor": "white",
            "showbackground": true,
            "ticks": "",
            "zerolinecolor": "white"
           },
           "zaxis": {
            "backgroundcolor": "#E5ECF6",
            "gridcolor": "white",
            "gridwidth": 2,
            "linecolor": "white",
            "showbackground": true,
            "ticks": "",
            "zerolinecolor": "white"
           }
          },
          "shapedefaults": {
           "line": {
            "color": "#2a3f5f"
           }
          },
          "ternary": {
           "aaxis": {
            "gridcolor": "white",
            "linecolor": "white",
            "ticks": ""
           },
           "baxis": {
            "gridcolor": "white",
            "linecolor": "white",
            "ticks": ""
           },
           "bgcolor": "#E5ECF6",
           "caxis": {
            "gridcolor": "white",
            "linecolor": "white",
            "ticks": ""
           }
          },
          "title": {
           "x": 0.05
          },
          "xaxis": {
           "automargin": true,
           "gridcolor": "white",
           "linecolor": "white",
           "ticks": "",
           "title": {
            "standoff": 15
           },
           "zerolinecolor": "white",
           "zerolinewidth": 2
          },
          "yaxis": {
           "automargin": true,
           "gridcolor": "white",
           "linecolor": "white",
           "ticks": "",
           "title": {
            "standoff": 15
           },
           "zerolinecolor": "white",
           "zerolinewidth": 2
          }
         }
        },
        "title": {
         "text": "Ranked Bar Chart of SI Score by District for NPK +20%",
         "x": 0.5
        },
        "width": 700,
        "xaxis": {
         "anchor": "y",
         "domain": [
          0,
          1
         ],
         "title": {
          "text": "Sustainable Intervention Score"
         }
        },
        "yaxis": {
         "anchor": "x",
         "domain": [
          0,
          1
         ],
         "title": {
          "text": "District"
         }
        }
       }
      }
     },
     "metadata": {},
     "output_type": "display_data"
    }
   ],
   "source": [
    "import plotly.express as px\n",
    "\n",
    "# Calculate the average of SI_Score\n",
    "avg_si_score = ranked_df['SI_Score'].mean()\n",
    "\n",
    "# Create the bar chart\n",
    "fig = px.bar(\n",
    "    ranked_df,\n",
    "    x='SI_Score',        \n",
    "    y='node',            \n",
    "    text='SI_Score',     \n",
    "    title='Ranked Bar Chart of SI Score by District for NPK +20%',\n",
    "    labels={'node': 'District', 'SI_Score': 'SI Score'},\n",
    "    color='SI_Score',    \n",
    "    color_continuous_scale='Temps_r'\n",
    ")\n",
    "\n",
    "# Add a vertical line to indicate the average SI Score\n",
    "fig.add_shape(\n",
    "    type='line',\n",
    "    x0=avg_si_score,\n",
    "    y0=0,\n",
    "    x1=avg_si_score,\n",
    "    y1=len(ranked_df['node']),\n",
    "    line=dict(color='grey', dash='dash'),\n",
    "    xref='x',\n",
    "    yref='y'\n",
    ")\n",
    "\n",
    "# Add a label to the average line\n",
    "fig.add_annotation(\n",
    "    x=avg_si_score,\n",
    "    y=len(ranked_df['node']) - 0.3,\n",
    "    text=f'Avg: {avg_si_score:.4f}',\n",
    "    showarrow=False,\n",
    "    font=dict(size=13, color='black'),\n",
    "    xanchor='left'\n",
    ")\n",
    "\n",
    "# Update layout\n",
    "fig.update_layout(\n",
    "    width=700,\n",
    "    height=800,\n",
    "    xaxis_title='Sustainable Intervention Score',\n",
    "    yaxis_title='District',\n",
    "    title_x=0.5\n",
    ")\n",
    "\n",
    "fig.show()"
   ]
  },
  {
   "cell_type": "code",
   "execution_count": 26,
   "metadata": {},
   "outputs": [
    {
     "data": {
      "application/vnd.plotly.v1+json": {
       "config": {
        "plotlyServerURL": "https://plot.ly"
       },
       "data": [
        {
         "name": "Stability",
         "orientation": "h",
         "text": {
          "bdata": "rK3YX3ZP7j956SYxCKzqP3/7OnDOiOw/KjqSy39I0z9LWYY41sXVP8rDQq1p3us/LNSa5h2n6j924JwRpb3rPyGwcmiR7eI/8WPMXUvI5T8Sg8DKoUXqP0dy+Q/pt+s/bjSAt0CC4D+oV8oyxLHoPwTnjCjtDeg/845TdCSX7z/129eBc0bqP5qZmZmZmck/dk8eFmpN7T9GJXUCmgjtP0T67evAOeU/PujZrPpc6T8EVg4tsp3jP52AJsKGp+E/klz+Q/rt5z/Y8PRKWYbuPwXFjzF3Lec/zH9Iv30d6D9rK/aX3ZPnP7AD54wo7es/16NwPQrX5T8=",
          "dtype": "f8"
         },
         "textfont": {
          "size": 15
         },
         "textposition": "outside",
         "type": "bar",
         "x": {
          "bdata": "NE/LSBdP7j97HAZw0qvqPy4B7TN8iOw/8PjiXjJJ0z9ulmJuSMbVP4aKhjZ23us/m9h3aiqn6j/12U4oPb3rPwp/rSvc7eI/4nh3PPHH5T+sRK4tSUXqP7O6Qtitt+s/MO79hV6C4D/auymr7bHoP0gQp3itDeg/XI10QWOX7z/LLmTjSEbqP6jf7e3OmMk/r8P2a6xN7T8xtSx0jwjtP74PeHEaOuU/C78AeeBc6T+Jl3YRsJ3jP2n8IFdzp+E/bUN64GDu5z9libEjMYbuP1uAEz9ILec/vzUCNZ4d6D+6sufmiJPnP7vFw7od7es/X0yx1LrW5T8=",
          "dtype": "f8"
         },
         "y": [
          "BENGALURU",
          "BENGALURU(R)",
          "RAMANAGARA",
          "CHITRADURGA",
          "DAVANAGERE",
          "KOLAR",
          "CHIKKABALLAPURA",
          "SHIVAMOGGA",
          "TUMAKURU",
          "CHIKKAMAGALURU",
          "DAKSHINA KANNADA",
          "UDUPI",
          "HASSAN",
          "KODAGU",
          "MANDYA",
          "MYSURU",
          "CHAMARAJANAGAR",
          "BELAGAVI",
          "VIJAYAPURA",
          "BAGALKOT",
          "DHARAWAD",
          "GADAG",
          "HAVERI",
          "UTTARA KANNADA",
          "BALLARI",
          "BIDAR",
          "KALABURAGI",
          "YADGIRI",
          "RAICHUR",
          "KOPPAL",
          "VIJAYANAGARA"
         ]
        },
        {
         "name": "Maize Impact",
         "orientation": "h",
         "text": {
          "bdata": "UkmdgCbCxj+2hHzQs1m1P1Z9rrZif5k/iGNd3EYDqD+FfNCzWfWpP55eKcsQx8I/odY07zhFtz+4QILix5irP/p+arx0k6g/CfmgZ7Pqwz8AAAAAAAD4/wU0ETY8vZI/VHQkl/+Qrj9gdk8eFmrNP1afq63YX7Y/zTtO0ZFcrj+0WfW52oqtP0oMAiuHFrk/uECC4seYqz//snvysFC7P5T2Bl+YTLU/D5wzorQ3qD+wcmiR7XyvP1Z9rrZif6k//tR46SYxuD9sCfmgZ7O6P4Za07zjFK0/4L4OnDOixD9Wfa62Yn+5P1ioNc07TrE//tR46SYxuD8=",
          "dtype": "f8"
         },
         "textfont": {
          "size": 15
         },
         "textposition": "outside",
         "type": "bar",
         "x": {
          "bdata": "2MGEFXLDxj/0dQR2l1q1PwEMUzk+epk/vCVTkGsEqD+M3yzDG/KpP00QcMI4xsI/Omo2EwFHtz+xww3zr5SrPxqhiL7+mag/Z5pU7Fnpwz8AAAAAAAD4/6AsgU37yZI/DqJim42Srj/2zPQPo2nNP2Z3KlDLYbY/Bz+MH51Wrj8Ow/QBLYitP14GgcAEFbk/J4BpmEqVqz/y/FjZwE27P/Q6DE+rT7U/j2rCFykxqD/ph+0oGn2vP33/gW2ogak/AFQZskAyuD9XeCCyBrG6PzCZr6+mEK0/PrQGWpSjxD8ZaH4ZaH65P24lwiv6ULE/AFQZskAyuD8=",
          "dtype": "f8"
         },
         "y": [
          "BENGALURU",
          "BENGALURU(R)",
          "RAMANAGARA",
          "CHITRADURGA",
          "DAVANAGERE",
          "KOLAR",
          "CHIKKABALLAPURA",
          "SHIVAMOGGA",
          "TUMAKURU",
          "CHIKKAMAGALURU",
          "DAKSHINA KANNADA",
          "UDUPI",
          "HASSAN",
          "KODAGU",
          "MANDYA",
          "MYSURU",
          "CHAMARAJANAGAR",
          "BELAGAVI",
          "VIJAYAPURA",
          "BAGALKOT",
          "DHARAWAD",
          "GADAG",
          "HAVERI",
          "UTTARA KANNADA",
          "BALLARI",
          "BIDAR",
          "KALABURAGI",
          "YADGIRI",
          "RAICHUR",
          "KOPPAL",
          "VIJAYANAGARA"
         ]
        },
        {
         "name": "Groundnut Impact",
         "orientation": "h",
         "text": {
          "bdata": "l/+Qfvs6wD99rrZif9mtPzvfT42XbpI/3+ALk6mCoT9q3nGKjuSiP0LPZtXnars/foy5awn5sD+gibDh6ZWiPw3gLZCg+KE/UwWjkjoBvT8AAAAAAAD4//jCZKpgVJI/XkvIBz2bpT8J+aBns+rDP8pUwaikTrA/SS7/If32pT88vVKWIY6lP+f7qfHSTbI/kDF3LSEfpD8J+aBns+qzP6MBvAUSFK8/RIts5/upoT/HuriNBvCmP6CJsOHplaI/M8SxLm6jsT/CFyZTBaOyP1HaG3xhMqU/Njy9UpYhvj+xUGuad5yyP662Yn/ZPak/M8SxLm6jsT8=",
          "dtype": "f8"
         },
         "textfont": {
          "size": 15
         },
         "textposition": "outside",
         "type": "bar",
         "x": {
          "bdata": "NgcSrbA5wD+E/VYbQ9OtP7kF1jPZcZI/ZtGcNxGEoT/aRiXNheqiPz2I5ggTaLs/5wjOg2b6sD+VUkoppZSiP1NO6uJu8qE/bHVz+RMDvT8AAAAAAAD4/78xwKAbX5I/F4nhzbWepT+UPumTPunDPx4o4Co5TLA/Fl/xFV/xpT/irzyur4mlPzKzweGCS7I/PnOjmxQbpD+bLgo7TemzP7aZMu8iF68/YWAzPP6loT9Q7nyFcfWmP0a9NKwjm6I/ykFq5mSmsT90gn/m0aKyPxrUntLDNaU/KogQ9sshvj+K0IS5aJqyP/9OMqK6Qak/ykFq5mSmsT8=",
          "dtype": "f8"
         },
         "y": [
          "BENGALURU",
          "BENGALURU(R)",
          "RAMANAGARA",
          "CHITRADURGA",
          "DAVANAGERE",
          "KOLAR",
          "CHIKKABALLAPURA",
          "SHIVAMOGGA",
          "TUMAKURU",
          "CHIKKAMAGALURU",
          "DAKSHINA KANNADA",
          "UDUPI",
          "HASSAN",
          "KODAGU",
          "MANDYA",
          "MYSURU",
          "CHAMARAJANAGAR",
          "BELAGAVI",
          "VIJAYAPURA",
          "BAGALKOT",
          "DHARAWAD",
          "GADAG",
          "HAVERI",
          "UTTARA KANNADA",
          "BALLARI",
          "BIDAR",
          "KALABURAGI",
          "YADGIRI",
          "RAICHUR",
          "KOPPAL",
          "VIJAYANAGARA"
         ]
        }
       ],
       "layout": {
        "barmode": "group",
        "height": 1200,
        "template": {
         "data": {
          "bar": [
           {
            "error_x": {
             "color": "#2a3f5f"
            },
            "error_y": {
             "color": "#2a3f5f"
            },
            "marker": {
             "line": {
              "color": "#E5ECF6",
              "width": 0.5
             },
             "pattern": {
              "fillmode": "overlay",
              "size": 10,
              "solidity": 0.2
             }
            },
            "type": "bar"
           }
          ],
          "barpolar": [
           {
            "marker": {
             "line": {
              "color": "#E5ECF6",
              "width": 0.5
             },
             "pattern": {
              "fillmode": "overlay",
              "size": 10,
              "solidity": 0.2
             }
            },
            "type": "barpolar"
           }
          ],
          "carpet": [
           {
            "aaxis": {
             "endlinecolor": "#2a3f5f",
             "gridcolor": "white",
             "linecolor": "white",
             "minorgridcolor": "white",
             "startlinecolor": "#2a3f5f"
            },
            "baxis": {
             "endlinecolor": "#2a3f5f",
             "gridcolor": "white",
             "linecolor": "white",
             "minorgridcolor": "white",
             "startlinecolor": "#2a3f5f"
            },
            "type": "carpet"
           }
          ],
          "choropleth": [
           {
            "colorbar": {
             "outlinewidth": 0,
             "ticks": ""
            },
            "type": "choropleth"
           }
          ],
          "contour": [
           {
            "colorbar": {
             "outlinewidth": 0,
             "ticks": ""
            },
            "colorscale": [
             [
              0,
              "#0d0887"
             ],
             [
              0.1111111111111111,
              "#46039f"
             ],
             [
              0.2222222222222222,
              "#7201a8"
             ],
             [
              0.3333333333333333,
              "#9c179e"
             ],
             [
              0.4444444444444444,
              "#bd3786"
             ],
             [
              0.5555555555555556,
              "#d8576b"
             ],
             [
              0.6666666666666666,
              "#ed7953"
             ],
             [
              0.7777777777777778,
              "#fb9f3a"
             ],
             [
              0.8888888888888888,
              "#fdca26"
             ],
             [
              1,
              "#f0f921"
             ]
            ],
            "type": "contour"
           }
          ],
          "contourcarpet": [
           {
            "colorbar": {
             "outlinewidth": 0,
             "ticks": ""
            },
            "type": "contourcarpet"
           }
          ],
          "heatmap": [
           {
            "colorbar": {
             "outlinewidth": 0,
             "ticks": ""
            },
            "colorscale": [
             [
              0,
              "#0d0887"
             ],
             [
              0.1111111111111111,
              "#46039f"
             ],
             [
              0.2222222222222222,
              "#7201a8"
             ],
             [
              0.3333333333333333,
              "#9c179e"
             ],
             [
              0.4444444444444444,
              "#bd3786"
             ],
             [
              0.5555555555555556,
              "#d8576b"
             ],
             [
              0.6666666666666666,
              "#ed7953"
             ],
             [
              0.7777777777777778,
              "#fb9f3a"
             ],
             [
              0.8888888888888888,
              "#fdca26"
             ],
             [
              1,
              "#f0f921"
             ]
            ],
            "type": "heatmap"
           }
          ],
          "histogram": [
           {
            "marker": {
             "pattern": {
              "fillmode": "overlay",
              "size": 10,
              "solidity": 0.2
             }
            },
            "type": "histogram"
           }
          ],
          "histogram2d": [
           {
            "colorbar": {
             "outlinewidth": 0,
             "ticks": ""
            },
            "colorscale": [
             [
              0,
              "#0d0887"
             ],
             [
              0.1111111111111111,
              "#46039f"
             ],
             [
              0.2222222222222222,
              "#7201a8"
             ],
             [
              0.3333333333333333,
              "#9c179e"
             ],
             [
              0.4444444444444444,
              "#bd3786"
             ],
             [
              0.5555555555555556,
              "#d8576b"
             ],
             [
              0.6666666666666666,
              "#ed7953"
             ],
             [
              0.7777777777777778,
              "#fb9f3a"
             ],
             [
              0.8888888888888888,
              "#fdca26"
             ],
             [
              1,
              "#f0f921"
             ]
            ],
            "type": "histogram2d"
           }
          ],
          "histogram2dcontour": [
           {
            "colorbar": {
             "outlinewidth": 0,
             "ticks": ""
            },
            "colorscale": [
             [
              0,
              "#0d0887"
             ],
             [
              0.1111111111111111,
              "#46039f"
             ],
             [
              0.2222222222222222,
              "#7201a8"
             ],
             [
              0.3333333333333333,
              "#9c179e"
             ],
             [
              0.4444444444444444,
              "#bd3786"
             ],
             [
              0.5555555555555556,
              "#d8576b"
             ],
             [
              0.6666666666666666,
              "#ed7953"
             ],
             [
              0.7777777777777778,
              "#fb9f3a"
             ],
             [
              0.8888888888888888,
              "#fdca26"
             ],
             [
              1,
              "#f0f921"
             ]
            ],
            "type": "histogram2dcontour"
           }
          ],
          "mesh3d": [
           {
            "colorbar": {
             "outlinewidth": 0,
             "ticks": ""
            },
            "type": "mesh3d"
           }
          ],
          "parcoords": [
           {
            "line": {
             "colorbar": {
              "outlinewidth": 0,
              "ticks": ""
             }
            },
            "type": "parcoords"
           }
          ],
          "pie": [
           {
            "automargin": true,
            "type": "pie"
           }
          ],
          "scatter": [
           {
            "fillpattern": {
             "fillmode": "overlay",
             "size": 10,
             "solidity": 0.2
            },
            "type": "scatter"
           }
          ],
          "scatter3d": [
           {
            "line": {
             "colorbar": {
              "outlinewidth": 0,
              "ticks": ""
             }
            },
            "marker": {
             "colorbar": {
              "outlinewidth": 0,
              "ticks": ""
             }
            },
            "type": "scatter3d"
           }
          ],
          "scattercarpet": [
           {
            "marker": {
             "colorbar": {
              "outlinewidth": 0,
              "ticks": ""
             }
            },
            "type": "scattercarpet"
           }
          ],
          "scattergeo": [
           {
            "marker": {
             "colorbar": {
              "outlinewidth": 0,
              "ticks": ""
             }
            },
            "type": "scattergeo"
           }
          ],
          "scattergl": [
           {
            "marker": {
             "colorbar": {
              "outlinewidth": 0,
              "ticks": ""
             }
            },
            "type": "scattergl"
           }
          ],
          "scattermap": [
           {
            "marker": {
             "colorbar": {
              "outlinewidth": 0,
              "ticks": ""
             }
            },
            "type": "scattermap"
           }
          ],
          "scattermapbox": [
           {
            "marker": {
             "colorbar": {
              "outlinewidth": 0,
              "ticks": ""
             }
            },
            "type": "scattermapbox"
           }
          ],
          "scatterpolar": [
           {
            "marker": {
             "colorbar": {
              "outlinewidth": 0,
              "ticks": ""
             }
            },
            "type": "scatterpolar"
           }
          ],
          "scatterpolargl": [
           {
            "marker": {
             "colorbar": {
              "outlinewidth": 0,
              "ticks": ""
             }
            },
            "type": "scatterpolargl"
           }
          ],
          "scatterternary": [
           {
            "marker": {
             "colorbar": {
              "outlinewidth": 0,
              "ticks": ""
             }
            },
            "type": "scatterternary"
           }
          ],
          "surface": [
           {
            "colorbar": {
             "outlinewidth": 0,
             "ticks": ""
            },
            "colorscale": [
             [
              0,
              "#0d0887"
             ],
             [
              0.1111111111111111,
              "#46039f"
             ],
             [
              0.2222222222222222,
              "#7201a8"
             ],
             [
              0.3333333333333333,
              "#9c179e"
             ],
             [
              0.4444444444444444,
              "#bd3786"
             ],
             [
              0.5555555555555556,
              "#d8576b"
             ],
             [
              0.6666666666666666,
              "#ed7953"
             ],
             [
              0.7777777777777778,
              "#fb9f3a"
             ],
             [
              0.8888888888888888,
              "#fdca26"
             ],
             [
              1,
              "#f0f921"
             ]
            ],
            "type": "surface"
           }
          ],
          "table": [
           {
            "cells": {
             "fill": {
              "color": "#EBF0F8"
             },
             "line": {
              "color": "white"
             }
            },
            "header": {
             "fill": {
              "color": "#C8D4E3"
             },
             "line": {
              "color": "white"
             }
            },
            "type": "table"
           }
          ]
         },
         "layout": {
          "annotationdefaults": {
           "arrowcolor": "#2a3f5f",
           "arrowhead": 0,
           "arrowwidth": 1
          },
          "autotypenumbers": "strict",
          "coloraxis": {
           "colorbar": {
            "outlinewidth": 0,
            "ticks": ""
           }
          },
          "colorscale": {
           "diverging": [
            [
             0,
             "#8e0152"
            ],
            [
             0.1,
             "#c51b7d"
            ],
            [
             0.2,
             "#de77ae"
            ],
            [
             0.3,
             "#f1b6da"
            ],
            [
             0.4,
             "#fde0ef"
            ],
            [
             0.5,
             "#f7f7f7"
            ],
            [
             0.6,
             "#e6f5d0"
            ],
            [
             0.7,
             "#b8e186"
            ],
            [
             0.8,
             "#7fbc41"
            ],
            [
             0.9,
             "#4d9221"
            ],
            [
             1,
             "#276419"
            ]
           ],
           "sequential": [
            [
             0,
             "#0d0887"
            ],
            [
             0.1111111111111111,
             "#46039f"
            ],
            [
             0.2222222222222222,
             "#7201a8"
            ],
            [
             0.3333333333333333,
             "#9c179e"
            ],
            [
             0.4444444444444444,
             "#bd3786"
            ],
            [
             0.5555555555555556,
             "#d8576b"
            ],
            [
             0.6666666666666666,
             "#ed7953"
            ],
            [
             0.7777777777777778,
             "#fb9f3a"
            ],
            [
             0.8888888888888888,
             "#fdca26"
            ],
            [
             1,
             "#f0f921"
            ]
           ],
           "sequentialminus": [
            [
             0,
             "#0d0887"
            ],
            [
             0.1111111111111111,
             "#46039f"
            ],
            [
             0.2222222222222222,
             "#7201a8"
            ],
            [
             0.3333333333333333,
             "#9c179e"
            ],
            [
             0.4444444444444444,
             "#bd3786"
            ],
            [
             0.5555555555555556,
             "#d8576b"
            ],
            [
             0.6666666666666666,
             "#ed7953"
            ],
            [
             0.7777777777777778,
             "#fb9f3a"
            ],
            [
             0.8888888888888888,
             "#fdca26"
            ],
            [
             1,
             "#f0f921"
            ]
           ]
          },
          "colorway": [
           "#636efa",
           "#EF553B",
           "#00cc96",
           "#ab63fa",
           "#FFA15A",
           "#19d3f3",
           "#FF6692",
           "#B6E880",
           "#FF97FF",
           "#FECB52"
          ],
          "font": {
           "color": "#2a3f5f"
          },
          "geo": {
           "bgcolor": "white",
           "lakecolor": "white",
           "landcolor": "#E5ECF6",
           "showlakes": true,
           "showland": true,
           "subunitcolor": "white"
          },
          "hoverlabel": {
           "align": "left"
          },
          "hovermode": "closest",
          "mapbox": {
           "style": "light"
          },
          "paper_bgcolor": "white",
          "plot_bgcolor": "#E5ECF6",
          "polar": {
           "angularaxis": {
            "gridcolor": "white",
            "linecolor": "white",
            "ticks": ""
           },
           "bgcolor": "#E5ECF6",
           "radialaxis": {
            "gridcolor": "white",
            "linecolor": "white",
            "ticks": ""
           }
          },
          "scene": {
           "xaxis": {
            "backgroundcolor": "#E5ECF6",
            "gridcolor": "white",
            "gridwidth": 2,
            "linecolor": "white",
            "showbackground": true,
            "ticks": "",
            "zerolinecolor": "white"
           },
           "yaxis": {
            "backgroundcolor": "#E5ECF6",
            "gridcolor": "white",
            "gridwidth": 2,
            "linecolor": "white",
            "showbackground": true,
            "ticks": "",
            "zerolinecolor": "white"
           },
           "zaxis": {
            "backgroundcolor": "#E5ECF6",
            "gridcolor": "white",
            "gridwidth": 2,
            "linecolor": "white",
            "showbackground": true,
            "ticks": "",
            "zerolinecolor": "white"
           }
          },
          "shapedefaults": {
           "line": {
            "color": "#2a3f5f"
           }
          },
          "ternary": {
           "aaxis": {
            "gridcolor": "white",
            "linecolor": "white",
            "ticks": ""
           },
           "baxis": {
            "gridcolor": "white",
            "linecolor": "white",
            "ticks": ""
           },
           "bgcolor": "#E5ECF6",
           "caxis": {
            "gridcolor": "white",
            "linecolor": "white",
            "ticks": ""
           }
          },
          "title": {
           "x": 0.05
          },
          "xaxis": {
           "automargin": true,
           "gridcolor": "white",
           "linecolor": "white",
           "ticks": "",
           "title": {
            "standoff": 15
           },
           "zerolinecolor": "white",
           "zerolinewidth": 2
          },
          "yaxis": {
           "automargin": true,
           "gridcolor": "white",
           "linecolor": "white",
           "ticks": "",
           "title": {
            "standoff": 15
           },
           "zerolinecolor": "white",
           "zerolinewidth": 2
          }
         }
        },
        "title": {
         "text": "Stability, Maize Impact, and Groundnut Impact per District"
        },
        "width": 800,
        "xaxis": {
         "title": {
          "text": "Values"
         }
        },
        "yaxis": {
         "title": {
          "text": "District"
         }
        }
       }
      }
     },
     "metadata": {},
     "output_type": "display_data"
    }
   ],
   "source": [
    "import plotly.graph_objects as go\n",
    "# result_df['stability']*result_df['Change_M_NPK_20']*(1-result_df['Change_G_NPK_20'])\n",
    "\n",
    "filtered_df = result_df[['node','stability','Change_M_NPK_20', 'Change_G_NPK_20']]\n",
    "filtered_df\n",
    "# Create a bar plot\n",
    "fig = go.Figure()\n",
    "import plotly.graph_objects as go\n",
    "\n",
    "\n",
    "# Add bars for each category and display values on each bar\n",
    "fig.add_trace(go.Bar(\n",
    "    y=filtered_df['node'],\n",
    "    x=filtered_df['stability'],\n",
    "    text=filtered_df['stability'].round(4), \n",
    "    textfont_size=15,\n",
    "    textposition='outside',\n",
    "    name='Stability',\n",
    "    orientation='h'\n",
    "))\n",
    "\n",
    "fig.add_trace(go.Bar(\n",
    "    y=filtered_df['node'],\n",
    "    x=filtered_df['Change_M_NPK_20'],\n",
    "    text=filtered_df['Change_M_NPK_20'].round(4),  \n",
    "    textfont_size=15,\n",
    "    textposition='outside',\n",
    "    name='Maize Impact',\n",
    "    orientation='h'\n",
    "))\n",
    "\n",
    "fig.add_trace(go.Bar(\n",
    "    y=filtered_df['node'],\n",
    "    x=filtered_df['Change_G_NPK_20'],\n",
    "    text=filtered_df['Change_G_NPK_20'].round(4),  \n",
    "    textfont_size=15,\n",
    "    textposition='outside',\n",
    "    name='Groundnut Impact',\n",
    "    orientation='h'\n",
    "))\n",
    "\n",
    "# Update layout with increased plot size\n",
    "fig.update_layout(\n",
    "    title='Stability, Maize Impact, and Groundnut Impact per District',\n",
    "    barmode='group',  # Group bars together\n",
    "    xaxis_title='Values',\n",
    "    yaxis_title='District',\n",
    "    width=800,  # Increase width\n",
    "    height=1200   # Increase height\n",
    ")\n",
    "\n",
    "# Show the plot\n",
    "fig.show()\n"
   ]
  },
  {
   "cell_type": "code",
   "execution_count": 27,
   "metadata": {},
   "outputs": [
    {
     "data": {
      "text/html": [
       "<div>\n",
       "<style scoped>\n",
       "    .dataframe tbody tr th:only-of-type {\n",
       "        vertical-align: middle;\n",
       "    }\n",
       "\n",
       "    .dataframe tbody tr th {\n",
       "        vertical-align: top;\n",
       "    }\n",
       "\n",
       "    .dataframe thead th {\n",
       "        text-align: right;\n",
       "    }\n",
       "</style>\n",
       "<table border=\"1\" class=\"dataframe\">\n",
       "  <thead>\n",
       "    <tr style=\"text-align: right;\">\n",
       "      <th></th>\n",
       "      <th>node</th>\n",
       "      <th>Groundnut_Production</th>\n",
       "      <th>Maize_Production</th>\n",
       "      <th>stress</th>\n",
       "      <th>stability</th>\n",
       "    </tr>\n",
       "  </thead>\n",
       "  <tbody>\n",
       "    <tr>\n",
       "      <th>0</th>\n",
       "      <td>BENGALURU</td>\n",
       "      <td>0.001035</td>\n",
       "      <td>0.004851</td>\n",
       "      <td>0.053472</td>\n",
       "      <td>0.946528</td>\n",
       "    </tr>\n",
       "    <tr>\n",
       "      <th>1</th>\n",
       "      <td>BENGALURU(R)</td>\n",
       "      <td>0.003004</td>\n",
       "      <td>0.071744</td>\n",
       "      <td>0.164829</td>\n",
       "      <td>0.835171</td>\n",
       "    </tr>\n",
       "    <tr>\n",
       "      <th>2</th>\n",
       "      <td>RAMANAGARA</td>\n",
       "      <td>0.070434</td>\n",
       "      <td>0.017606</td>\n",
       "      <td>0.107057</td>\n",
       "      <td>0.892943</td>\n",
       "    </tr>\n",
       "    <tr>\n",
       "      <th>3</th>\n",
       "      <td>CHITRADURGA</td>\n",
       "      <td>1.000000</td>\n",
       "      <td>0.458222</td>\n",
       "      <td>0.705870</td>\n",
       "      <td>0.294130</td>\n",
       "    </tr>\n",
       "    <tr>\n",
       "      <th>4</th>\n",
       "      <td>DAVANAGERE</td>\n",
       "      <td>0.241954</td>\n",
       "      <td>1.000000</td>\n",
       "      <td>0.674396</td>\n",
       "      <td>0.325604</td>\n",
       "    </tr>\n",
       "  </tbody>\n",
       "</table>\n",
       "</div>"
      ],
      "text/plain": [
       "           node  Groundnut_Production  Maize_Production    stress  stability\n",
       "0     BENGALURU              0.001035          0.004851  0.053472   0.946528\n",
       "1  BENGALURU(R)              0.003004          0.071744  0.164829   0.835171\n",
       "2    RAMANAGARA              0.070434          0.017606  0.107057   0.892943\n",
       "3   CHITRADURGA              1.000000          0.458222  0.705870   0.294130\n",
       "4    DAVANAGERE              0.241954          1.000000  0.674396   0.325604"
      ]
     },
     "execution_count": 27,
     "metadata": {},
     "output_type": "execute_result"
    }
   ],
   "source": [
    "Groundnut_Prod = normalize_list(Groundnut_Directory['Groundnut_Production'])\n",
    "Maize_Prod = normalize_list(Maize_Directory['Maize_Production'])\n",
    "\n",
    "# Combine capabilities into a single DataFrame\n",
    "combined_df = pd.DataFrame({\n",
    "    'node': Working_Directory['District'],\n",
    "    'Groundnut_Production': Groundnut_Prod,\n",
    "    'Maize_Production': Maize_Prod\n",
    "})\n",
    "\n",
    "# Calculate stress and stability for the combined capabilities\n",
    "init_df = calculate_stress_stability(adj_matrix_np, combined_df)\n",
    "init_df[:5]"
   ]
  },
  {
   "cell_type": "code",
   "execution_count": 28,
   "metadata": {},
   "outputs": [
    {
     "name": "stderr",
     "output_type": "stream",
     "text": [
      "<>:43: SyntaxWarning:\n",
      "\n",
      "invalid escape sequence '\\G'\n",
      "\n",
      "<>:43: SyntaxWarning:\n",
      "\n",
      "invalid escape sequence '\\G'\n",
      "\n",
      "C:\\Users\\manis\\AppData\\Local\\Temp\\ipykernel_39220\\2079544366.py:43: SyntaxWarning:\n",
      "\n",
      "invalid escape sequence '\\G'\n",
      "\n"
     ]
    },
    {
     "data": {
      "text/html": [
       "<div>\n",
       "<style scoped>\n",
       "    .dataframe tbody tr th:only-of-type {\n",
       "        vertical-align: middle;\n",
       "    }\n",
       "\n",
       "    .dataframe tbody tr th {\n",
       "        vertical-align: top;\n",
       "    }\n",
       "\n",
       "    .dataframe thead th {\n",
       "        text-align: right;\n",
       "    }\n",
       "</style>\n",
       "<table border=\"1\" class=\"dataframe\">\n",
       "  <thead>\n",
       "    <tr style=\"text-align: right;\">\n",
       "      <th></th>\n",
       "      <th>District</th>\n",
       "      <th>KDG_District</th>\n",
       "      <th>Original Rice Production</th>\n",
       "      <th>Original Maize Production</th>\n",
       "      <th>Initial Stress</th>\n",
       "      <th>Initial Stability</th>\n",
       "      <th>New Rice Production</th>\n",
       "      <th>New Maize Production</th>\n",
       "      <th>Rice Impact</th>\n",
       "      <th>Maize Impact</th>\n",
       "      <th>Stability</th>\n",
       "      <th>Stress</th>\n",
       "      <th>Perturbation</th>\n",
       "      <th>Factor</th>\n",
       "    </tr>\n",
       "  </thead>\n",
       "  <tbody>\n",
       "    <tr>\n",
       "      <th>0</th>\n",
       "      <td>BENGALURU</td>\n",
       "      <td>Bengaluru Urban</td>\n",
       "      <td>71.0</td>\n",
       "      <td>2879</td>\n",
       "      <td>0.053472</td>\n",
       "      <td>0.946528</td>\n",
       "      <td>75</td>\n",
       "      <td>3135</td>\n",
       "      <td>5.633803</td>\n",
       "      <td>8.891976</td>\n",
       "      <td>0.946611</td>\n",
       "      <td>0.053389</td>\n",
       "      <td>10</td>\n",
       "      <td>TotalNPK</td>\n",
       "    </tr>\n",
       "    <tr>\n",
       "      <th>1</th>\n",
       "      <td>BENGALURU(R)</td>\n",
       "      <td>Bengaluru Rural</td>\n",
       "      <td>206.0</td>\n",
       "      <td>42583</td>\n",
       "      <td>0.164829</td>\n",
       "      <td>0.835171</td>\n",
       "      <td>212</td>\n",
       "      <td>44359</td>\n",
       "      <td>2.912621</td>\n",
       "      <td>4.170678</td>\n",
       "      <td>0.834310</td>\n",
       "      <td>0.165690</td>\n",
       "      <td>10</td>\n",
       "      <td>TotalNPK</td>\n",
       "    </tr>\n",
       "    <tr>\n",
       "      <th>2</th>\n",
       "      <td>RAMANAGARA</td>\n",
       "      <td>Ramanagara</td>\n",
       "      <td>4830.0</td>\n",
       "      <td>10450</td>\n",
       "      <td>0.107057</td>\n",
       "      <td>0.892943</td>\n",
       "      <td>4873</td>\n",
       "      <td>10580</td>\n",
       "      <td>0.890269</td>\n",
       "      <td>1.244019</td>\n",
       "      <td>0.891855</td>\n",
       "      <td>0.108145</td>\n",
       "      <td>10</td>\n",
       "      <td>TotalNPK</td>\n",
       "    </tr>\n",
       "    <tr>\n",
       "      <th>3</th>\n",
       "      <td>CHITRADURGA</td>\n",
       "      <td>Chitradurga</td>\n",
       "      <td>68575.0</td>\n",
       "      <td>271975</td>\n",
       "      <td>0.705870</td>\n",
       "      <td>0.294130</td>\n",
       "      <td>69748</td>\n",
       "      <td>278354</td>\n",
       "      <td>1.710536</td>\n",
       "      <td>2.345436</td>\n",
       "      <td>0.297591</td>\n",
       "      <td>0.702409</td>\n",
       "      <td>10</td>\n",
       "      <td>TotalNPK</td>\n",
       "    </tr>\n",
       "    <tr>\n",
       "      <th>4</th>\n",
       "      <td>DAVANAGERE</td>\n",
       "      <td>Davanagere</td>\n",
       "      <td>16592.0</td>\n",
       "      <td>593544</td>\n",
       "      <td>0.674396</td>\n",
       "      <td>0.325604</td>\n",
       "      <td>16898</td>\n",
       "      <td>608583</td>\n",
       "      <td>1.844262</td>\n",
       "      <td>2.533763</td>\n",
       "      <td>0.327982</td>\n",
       "      <td>0.672018</td>\n",
       "      <td>10</td>\n",
       "      <td>TotalNPK</td>\n",
       "    </tr>\n",
       "    <tr>\n",
       "      <th>...</th>\n",
       "      <td>...</td>\n",
       "      <td>...</td>\n",
       "      <td>...</td>\n",
       "      <td>...</td>\n",
       "      <td>...</td>\n",
       "      <td>...</td>\n",
       "      <td>...</td>\n",
       "      <td>...</td>\n",
       "      <td>...</td>\n",
       "      <td>...</td>\n",
       "      <td>...</td>\n",
       "      <td>...</td>\n",
       "      <td>...</td>\n",
       "      <td>...</td>\n",
       "    </tr>\n",
       "    <tr>\n",
       "      <th>119</th>\n",
       "      <td>KALABURAGI</td>\n",
       "      <td>Kalaburagi</td>\n",
       "      <td>3114.0</td>\n",
       "      <td>14621</td>\n",
       "      <td>0.264443</td>\n",
       "      <td>0.735557</td>\n",
       "      <td>2984</td>\n",
       "      <td>13790</td>\n",
       "      <td>-4.174695</td>\n",
       "      <td>-5.683606</td>\n",
       "      <td>0.748208</td>\n",
       "      <td>0.251792</td>\n",
       "      <td>-20</td>\n",
       "      <td>TotalNPK</td>\n",
       "    </tr>\n",
       "    <tr>\n",
       "      <th>120</th>\n",
       "      <td>YADGIRI</td>\n",
       "      <td>Yadgir</td>\n",
       "      <td>31435.0</td>\n",
       "      <td>2673</td>\n",
       "      <td>0.221475</td>\n",
       "      <td>0.778525</td>\n",
       "      <td>27734</td>\n",
       "      <td>2241</td>\n",
       "      <td>-11.773501</td>\n",
       "      <td>-16.161616</td>\n",
       "      <td>0.804557</td>\n",
       "      <td>0.195443</td>\n",
       "      <td>-20</td>\n",
       "      <td>TotalNPK</td>\n",
       "    </tr>\n",
       "    <tr>\n",
       "      <th>121</th>\n",
       "      <td>RAICHUR</td>\n",
       "      <td>Raichur</td>\n",
       "      <td>26958.0</td>\n",
       "      <td>723</td>\n",
       "      <td>0.260029</td>\n",
       "      <td>0.739971</td>\n",
       "      <td>24998</td>\n",
       "      <td>650</td>\n",
       "      <td>-7.270569</td>\n",
       "      <td>-10.096819</td>\n",
       "      <td>0.748027</td>\n",
       "      <td>0.251973</td>\n",
       "      <td>-20</td>\n",
       "      <td>TotalNPK</td>\n",
       "    </tr>\n",
       "    <tr>\n",
       "      <th>122</th>\n",
       "      <td>KOPPAL</td>\n",
       "      <td>Koppal</td>\n",
       "      <td>29982.0</td>\n",
       "      <td>190252</td>\n",
       "      <td>0.132646</td>\n",
       "      <td>0.867354</td>\n",
       "      <td>28502</td>\n",
       "      <td>177382</td>\n",
       "      <td>-4.936295</td>\n",
       "      <td>-6.764712</td>\n",
       "      <td>0.863219</td>\n",
       "      <td>0.136781</td>\n",
       "      <td>-20</td>\n",
       "      <td>TotalNPK</td>\n",
       "    </tr>\n",
       "    <tr>\n",
       "      <th>123</th>\n",
       "      <td>VIJAYANAGARA</td>\n",
       "      <td>Vijayanagara</td>\n",
       "      <td>22938.5</td>\n",
       "      <td>104045</td>\n",
       "      <td>0.328751</td>\n",
       "      <td>0.671249</td>\n",
       "      <td>21356</td>\n",
       "      <td>94210</td>\n",
       "      <td>-6.898882</td>\n",
       "      <td>-9.452641</td>\n",
       "      <td>0.663577</td>\n",
       "      <td>0.336423</td>\n",
       "      <td>-20</td>\n",
       "      <td>TotalNPK</td>\n",
       "    </tr>\n",
       "  </tbody>\n",
       "</table>\n",
       "<p>124 rows × 14 columns</p>\n",
       "</div>"
      ],
      "text/plain": [
       "         District     KDG_District  Original Rice Production  \\\n",
       "0       BENGALURU  Bengaluru Urban                      71.0   \n",
       "1    BENGALURU(R)  Bengaluru Rural                     206.0   \n",
       "2      RAMANAGARA       Ramanagara                    4830.0   \n",
       "3     CHITRADURGA      Chitradurga                   68575.0   \n",
       "4      DAVANAGERE       Davanagere                   16592.0   \n",
       "..            ...              ...                       ...   \n",
       "119    KALABURAGI       Kalaburagi                    3114.0   \n",
       "120       YADGIRI           Yadgir                   31435.0   \n",
       "121       RAICHUR          Raichur                   26958.0   \n",
       "122        KOPPAL           Koppal                   29982.0   \n",
       "123  VIJAYANAGARA     Vijayanagara                   22938.5   \n",
       "\n",
       "     Original Maize Production  Initial Stress  Initial Stability  \\\n",
       "0                         2879        0.053472           0.946528   \n",
       "1                        42583        0.164829           0.835171   \n",
       "2                        10450        0.107057           0.892943   \n",
       "3                       271975        0.705870           0.294130   \n",
       "4                       593544        0.674396           0.325604   \n",
       "..                         ...             ...                ...   \n",
       "119                      14621        0.264443           0.735557   \n",
       "120                       2673        0.221475           0.778525   \n",
       "121                        723        0.260029           0.739971   \n",
       "122                     190252        0.132646           0.867354   \n",
       "123                     104045        0.328751           0.671249   \n",
       "\n",
       "     New Rice Production  New Maize Production  Rice Impact  Maize Impact  \\\n",
       "0                     75                  3135     5.633803      8.891976   \n",
       "1                    212                 44359     2.912621      4.170678   \n",
       "2                   4873                 10580     0.890269      1.244019   \n",
       "3                  69748                278354     1.710536      2.345436   \n",
       "4                  16898                608583     1.844262      2.533763   \n",
       "..                   ...                   ...          ...           ...   \n",
       "119                 2984                 13790    -4.174695     -5.683606   \n",
       "120                27734                  2241   -11.773501    -16.161616   \n",
       "121                24998                   650    -7.270569    -10.096819   \n",
       "122                28502                177382    -4.936295     -6.764712   \n",
       "123                21356                 94210    -6.898882     -9.452641   \n",
       "\n",
       "     Stability    Stress  Perturbation    Factor  \n",
       "0     0.946611  0.053389            10  TotalNPK  \n",
       "1     0.834310  0.165690            10  TotalNPK  \n",
       "2     0.891855  0.108145            10  TotalNPK  \n",
       "3     0.297591  0.702409            10  TotalNPK  \n",
       "4     0.327982  0.672018            10  TotalNPK  \n",
       "..         ...       ...           ...       ...  \n",
       "119   0.748208  0.251792           -20  TotalNPK  \n",
       "120   0.804557  0.195443           -20  TotalNPK  \n",
       "121   0.748027  0.251973           -20  TotalNPK  \n",
       "122   0.863219  0.136781           -20  TotalNPK  \n",
       "123   0.663577  0.336423           -20  TotalNPK  \n",
       "\n",
       "[124 rows x 14 columns]"
      ]
     },
     "execution_count": 28,
     "metadata": {},
     "output_type": "execute_result"
    }
   ],
   "source": [
    "# Perturbations and factor mapping\n",
    "crop1 = 'Groundnut'\n",
    "crop2 = 'Maize'\n",
    "perturbations = [10, -10, 20, -20]\n",
    "factor_mapping = {\n",
    "    'NPK': 'TotalNPK'\n",
    "}\n",
    "\n",
    "# Initialize an empty DataFrame to store the results\n",
    "G_M_2D_Diff_Impact = pd.DataFrame()\n",
    "\n",
    "# Loop over each perturbation and factor\n",
    "for perturbation in perturbations:\n",
    "    for factor, mapped_factor in factor_mapping.items():\n",
    "        # Call the function to calculate and \n",
    "        calculate_and_visualize(perturbation, crop1, Groundnut_Directory, factor,False)\n",
    "        calculate_and_visualize(perturbation, crop2, Maize_Directory, factor, False)\n",
    "        Calculate_and_visualize_2D(Groundnut_Directory,Maize_Directory, adj_matrix_np, crop1, crop2, perturbation, factor,False)\n",
    "        \n",
    "        # Collect all the new columns in a dictionary\n",
    "        new_columns = {\n",
    "            'District': Working_Directory['District'],\n",
    "            'KDG_District' : Working_Directory['KDG_District'],\n",
    "            'Original Rice Production': Groundnut_Directory[f'{crop1}_Production'],\n",
    "            'Original Maize Production': Maize_Directory[f'{crop2}_Production'],\n",
    "            'Initial Stress': init_df['stress'],\n",
    "            'Initial Stability': init_df['stability'],\n",
    "            'New Rice Production': Groundnut_Directory[f'{crop1[0].upper()} - {factor} {perturbation}'],\n",
    "            'New Maize Production': Maize_Directory[f'{crop2[0].upper()} - {factor} {perturbation}'],\n",
    "            'Rice Impact': Working_Directory[f'Impact_{crop1[0].upper()}_{factor}_{perturbation}'],\n",
    "            'Maize Impact': Working_Directory[f'Impact_{crop2[0].upper()}_{factor}_{perturbation}'],\n",
    "            'Stability': Working_Directory[f'Stability_{crop1[0].upper()}_{crop2[0].upper()}_{factor}_{perturbation}'],\n",
    "            'Stress': Working_Directory[f'Stress_{crop1[0].upper()}_{crop2[0].upper()}_{factor}_{perturbation}'],\n",
    "            'Perturbation': perturbation,\n",
    "            'Factor': mapped_factor,\n",
    "        }\n",
    "        \n",
    "        # Convert the dictionary to a DataFrame and append it to the final DataFrame\n",
    "        temp_df = pd.DataFrame(new_columns)\n",
    "        G_M_2D_Diff_Impact = pd.concat([G_M_2D_Diff_Impact, temp_df], ignore_index=True)\n",
    "\n",
    "# Display or save the final DataFrame\n",
    "G_M_2D_Diff_Impact.to_csv('2D\\G_M_2D_Diff_Impact.csv', index=False)\n",
    "G_M_2D_Diff_Impact\n"
   ]
  },
  {
   "cell_type": "code",
   "execution_count": 29,
   "metadata": {},
   "outputs": [
    {
     "data": {
      "text/html": [
       "<div>\n",
       "<style scoped>\n",
       "    .dataframe tbody tr th:only-of-type {\n",
       "        vertical-align: middle;\n",
       "    }\n",
       "\n",
       "    .dataframe tbody tr th {\n",
       "        vertical-align: top;\n",
       "    }\n",
       "\n",
       "    .dataframe thead th {\n",
       "        text-align: right;\n",
       "    }\n",
       "</style>\n",
       "<table border=\"1\" class=\"dataframe\">\n",
       "  <thead>\n",
       "    <tr style=\"text-align: right;\">\n",
       "      <th></th>\n",
       "      <th>District</th>\n",
       "      <th>KDG_District</th>\n",
       "      <th>Crop</th>\n",
       "      <th>Original Production</th>\n",
       "      <th>New Production</th>\n",
       "      <th>Impact</th>\n",
       "      <th>Stability</th>\n",
       "      <th>Stress</th>\n",
       "      <th>Perturbation</th>\n",
       "      <th>Factor</th>\n",
       "    </tr>\n",
       "  </thead>\n",
       "  <tbody>\n",
       "    <tr>\n",
       "      <th>0</th>\n",
       "      <td>BENGALURU</td>\n",
       "      <td>Bengaluru Urban</td>\n",
       "      <td>Groundnut</td>\n",
       "      <td>71.0</td>\n",
       "      <td>75</td>\n",
       "      <td>5.633803</td>\n",
       "      <td>0.946611</td>\n",
       "      <td>0.053389</td>\n",
       "      <td>10</td>\n",
       "      <td>TotalNPK</td>\n",
       "    </tr>\n",
       "    <tr>\n",
       "      <th>1</th>\n",
       "      <td>BENGALURU(R)</td>\n",
       "      <td>Bengaluru Rural</td>\n",
       "      <td>Groundnut</td>\n",
       "      <td>206.0</td>\n",
       "      <td>212</td>\n",
       "      <td>2.912621</td>\n",
       "      <td>0.834310</td>\n",
       "      <td>0.165690</td>\n",
       "      <td>10</td>\n",
       "      <td>TotalNPK</td>\n",
       "    </tr>\n",
       "    <tr>\n",
       "      <th>2</th>\n",
       "      <td>RAMANAGARA</td>\n",
       "      <td>Ramanagara</td>\n",
       "      <td>Groundnut</td>\n",
       "      <td>4830.0</td>\n",
       "      <td>4873</td>\n",
       "      <td>0.890269</td>\n",
       "      <td>0.891855</td>\n",
       "      <td>0.108145</td>\n",
       "      <td>10</td>\n",
       "      <td>TotalNPK</td>\n",
       "    </tr>\n",
       "    <tr>\n",
       "      <th>3</th>\n",
       "      <td>CHITRADURGA</td>\n",
       "      <td>Chitradurga</td>\n",
       "      <td>Groundnut</td>\n",
       "      <td>68575.0</td>\n",
       "      <td>69748</td>\n",
       "      <td>1.710536</td>\n",
       "      <td>0.297591</td>\n",
       "      <td>0.702409</td>\n",
       "      <td>10</td>\n",
       "      <td>TotalNPK</td>\n",
       "    </tr>\n",
       "    <tr>\n",
       "      <th>4</th>\n",
       "      <td>DAVANAGERE</td>\n",
       "      <td>Davanagere</td>\n",
       "      <td>Groundnut</td>\n",
       "      <td>16592.0</td>\n",
       "      <td>16898</td>\n",
       "      <td>1.844262</td>\n",
       "      <td>0.327982</td>\n",
       "      <td>0.672018</td>\n",
       "      <td>10</td>\n",
       "      <td>TotalNPK</td>\n",
       "    </tr>\n",
       "    <tr>\n",
       "      <th>...</th>\n",
       "      <td>...</td>\n",
       "      <td>...</td>\n",
       "      <td>...</td>\n",
       "      <td>...</td>\n",
       "      <td>...</td>\n",
       "      <td>...</td>\n",
       "      <td>...</td>\n",
       "      <td>...</td>\n",
       "      <td>...</td>\n",
       "      <td>...</td>\n",
       "    </tr>\n",
       "    <tr>\n",
       "      <th>243</th>\n",
       "      <td>KALABURAGI</td>\n",
       "      <td>Kalaburagi</td>\n",
       "      <td>Maize</td>\n",
       "      <td>14621.0</td>\n",
       "      <td>13790</td>\n",
       "      <td>-5.683606</td>\n",
       "      <td>0.748208</td>\n",
       "      <td>0.251792</td>\n",
       "      <td>-20</td>\n",
       "      <td>TotalNPK</td>\n",
       "    </tr>\n",
       "    <tr>\n",
       "      <th>244</th>\n",
       "      <td>YADGIRI</td>\n",
       "      <td>Yadgir</td>\n",
       "      <td>Maize</td>\n",
       "      <td>2673.0</td>\n",
       "      <td>2241</td>\n",
       "      <td>-16.161616</td>\n",
       "      <td>0.804557</td>\n",
       "      <td>0.195443</td>\n",
       "      <td>-20</td>\n",
       "      <td>TotalNPK</td>\n",
       "    </tr>\n",
       "    <tr>\n",
       "      <th>245</th>\n",
       "      <td>RAICHUR</td>\n",
       "      <td>Raichur</td>\n",
       "      <td>Maize</td>\n",
       "      <td>723.0</td>\n",
       "      <td>650</td>\n",
       "      <td>-10.096819</td>\n",
       "      <td>0.748027</td>\n",
       "      <td>0.251973</td>\n",
       "      <td>-20</td>\n",
       "      <td>TotalNPK</td>\n",
       "    </tr>\n",
       "    <tr>\n",
       "      <th>246</th>\n",
       "      <td>KOPPAL</td>\n",
       "      <td>Koppal</td>\n",
       "      <td>Maize</td>\n",
       "      <td>190252.0</td>\n",
       "      <td>177382</td>\n",
       "      <td>-6.764712</td>\n",
       "      <td>0.863219</td>\n",
       "      <td>0.136781</td>\n",
       "      <td>-20</td>\n",
       "      <td>TotalNPK</td>\n",
       "    </tr>\n",
       "    <tr>\n",
       "      <th>247</th>\n",
       "      <td>VIJAYANAGARA</td>\n",
       "      <td>Vijayanagara</td>\n",
       "      <td>Maize</td>\n",
       "      <td>104045.0</td>\n",
       "      <td>94210</td>\n",
       "      <td>-9.452641</td>\n",
       "      <td>0.663577</td>\n",
       "      <td>0.336423</td>\n",
       "      <td>-20</td>\n",
       "      <td>TotalNPK</td>\n",
       "    </tr>\n",
       "  </tbody>\n",
       "</table>\n",
       "<p>248 rows × 10 columns</p>\n",
       "</div>"
      ],
      "text/plain": [
       "         District     KDG_District       Crop  Original Production  \\\n",
       "0       BENGALURU  Bengaluru Urban  Groundnut                 71.0   \n",
       "1    BENGALURU(R)  Bengaluru Rural  Groundnut                206.0   \n",
       "2      RAMANAGARA       Ramanagara  Groundnut               4830.0   \n",
       "3     CHITRADURGA      Chitradurga  Groundnut              68575.0   \n",
       "4      DAVANAGERE       Davanagere  Groundnut              16592.0   \n",
       "..            ...              ...        ...                  ...   \n",
       "243    KALABURAGI       Kalaburagi      Maize              14621.0   \n",
       "244       YADGIRI           Yadgir      Maize               2673.0   \n",
       "245       RAICHUR          Raichur      Maize                723.0   \n",
       "246        KOPPAL           Koppal      Maize             190252.0   \n",
       "247  VIJAYANAGARA     Vijayanagara      Maize             104045.0   \n",
       "\n",
       "     New Production     Impact  Stability    Stress  Perturbation    Factor  \n",
       "0                75   5.633803   0.946611  0.053389            10  TotalNPK  \n",
       "1               212   2.912621   0.834310  0.165690            10  TotalNPK  \n",
       "2              4873   0.890269   0.891855  0.108145            10  TotalNPK  \n",
       "3             69748   1.710536   0.297591  0.702409            10  TotalNPK  \n",
       "4             16898   1.844262   0.327982  0.672018            10  TotalNPK  \n",
       "..              ...        ...        ...       ...           ...       ...  \n",
       "243           13790  -5.683606   0.748208  0.251792           -20  TotalNPK  \n",
       "244            2241 -16.161616   0.804557  0.195443           -20  TotalNPK  \n",
       "245             650 -10.096819   0.748027  0.251973           -20  TotalNPK  \n",
       "246          177382  -6.764712   0.863219  0.136781           -20  TotalNPK  \n",
       "247           94210  -9.452641   0.663577  0.336423           -20  TotalNPK  \n",
       "\n",
       "[248 rows x 10 columns]"
      ]
     },
     "execution_count": 29,
     "metadata": {},
     "output_type": "execute_result"
    }
   ],
   "source": [
    "# Perturbations and factor mapping\n",
    "crop1 = 'Groundnut'\n",
    "crop2 = 'Maize'\n",
    "perturbations = [10, -10, 20, -20]\n",
    "factor_mapping = {\n",
    "    'NPK': 'TotalNPK'\n",
    "}\n",
    "\n",
    "# Initialize an empty DataFrame to store the results\n",
    "G_M_2D_Diff_Impact = pd.DataFrame()\n",
    "\n",
    "# Loop over each perturbation and factor\n",
    "for perturbation in perturbations:\n",
    "    for factor, mapped_factor in factor_mapping.items():\n",
    "        # Call the function to calculate and visualize for both crops\n",
    "        calculate_and_visualize(perturbation, crop1, Groundnut_Directory, factor, False)\n",
    "        calculate_and_visualize(perturbation, crop2, Maize_Directory, factor, False)\n",
    "        Calculate_and_visualize_2D(Groundnut_Directory, Maize_Directory, adj_matrix_np, crop1, crop2, perturbation, factor, False)\n",
    "        \n",
    "        # Create a DataFrame for Rice entries\n",
    "        rice_df = pd.DataFrame({\n",
    "            'District': Working_Directory['District'],\n",
    "            'KDG_District': Working_Directory['KDG_District'],\n",
    "            'Crop': crop1,  # Indicate that these entries are for Rice\n",
    "            'Original Production': Groundnut_Directory[f'{crop1}_Production'],\n",
    "            'New Production': Groundnut_Directory[f'{crop1[0].upper()} - {factor} {perturbation}'],\n",
    "            'Impact': Working_Directory[f'Impact_{crop1[0].upper()}_{factor}_{perturbation}'],\n",
    "            'Stability': Working_Directory[f'Stability_{crop1[0].upper()}_{crop2[0].upper()}_{factor}_{perturbation}'],\n",
    "            'Stress': Working_Directory[f'Stress_{crop1[0].upper()}_{crop2[0].upper()}_{factor}_{perturbation}'],\n",
    "            'Perturbation': perturbation,\n",
    "            'Factor': mapped_factor\n",
    "        })\n",
    "\n",
    "        # Create a DataFrame for Maize entries\n",
    "        maize_df = pd.DataFrame({\n",
    "            'District': Working_Directory['District'],\n",
    "            'KDG_District': Working_Directory['KDG_District'],\n",
    "            'Crop': crop2,  # Indicate that these entries are for Maize\n",
    "            'Original Production': Maize_Directory[f'{crop2}_Production'],\n",
    "            'New Production': Maize_Directory[f'{crop2[0].upper()} - {factor} {perturbation}'],\n",
    "            'Impact': Working_Directory[f'Impact_{crop2[0].upper()}_{factor}_{perturbation}'],\n",
    "            'Stability': Working_Directory[f'Stability_{crop1[0].upper()}_{crop2[0].upper()}_{factor}_{perturbation}'],\n",
    "            'Stress': Working_Directory[f'Stress_{crop1[0].upper()}_{crop2[0].upper()}_{factor}_{perturbation}'],\n",
    "            'Perturbation': perturbation,\n",
    "            'Factor': mapped_factor\n",
    "        })\n",
    "\n",
    "        # Concatenate the Rice and Maize DataFrames for the current perturbation and factor\n",
    "        temp_df = pd.concat([rice_df, maize_df], ignore_index=True)\n",
    "        \n",
    "        # Append to the final DataFrame\n",
    "        G_M_2D_Diff_Impact = pd.concat([G_M_2D_Diff_Impact, temp_df], ignore_index=True)\n",
    "\n",
    "# Display or save the final DataFrame\n",
    "G_M_2D_Diff_Impact.to_csv('2D/G_M_2D_Diff_Impact_1.csv', index=False)\n",
    "G_M_2D_Diff_Impact\n"
   ]
  },
  {
   "cell_type": "code",
   "execution_count": 30,
   "metadata": {},
   "outputs": [
    {
     "data": {
      "text/html": [
       "<div>\n",
       "<style scoped>\n",
       "    .dataframe tbody tr th:only-of-type {\n",
       "        vertical-align: middle;\n",
       "    }\n",
       "\n",
       "    .dataframe tbody tr th {\n",
       "        vertical-align: top;\n",
       "    }\n",
       "\n",
       "    .dataframe thead th {\n",
       "        text-align: right;\n",
       "    }\n",
       "</style>\n",
       "<table border=\"1\" class=\"dataframe\">\n",
       "  <thead>\n",
       "    <tr style=\"text-align: right;\">\n",
       "      <th></th>\n",
       "      <th>District</th>\n",
       "      <th>KDG_District</th>\n",
       "      <th>Crop</th>\n",
       "      <th>Original Production</th>\n",
       "      <th>New Production</th>\n",
       "      <th>Impact</th>\n",
       "      <th>Stability</th>\n",
       "      <th>Stress</th>\n",
       "      <th>SI Score</th>\n",
       "      <th>Perturbation</th>\n",
       "      <th>Factor</th>\n",
       "    </tr>\n",
       "  </thead>\n",
       "  <tbody>\n",
       "    <tr>\n",
       "      <th>0</th>\n",
       "      <td>BENGALURU</td>\n",
       "      <td>Bengaluru Urban</td>\n",
       "      <td>Groundnut</td>\n",
       "      <td>71.0</td>\n",
       "      <td>75</td>\n",
       "      <td>5.633803</td>\n",
       "      <td>0.946611</td>\n",
       "      <td>0.053389</td>\n",
       "      <td>0.079430</td>\n",
       "      <td>10</td>\n",
       "      <td>TotalNPK</td>\n",
       "    </tr>\n",
       "    <tr>\n",
       "      <th>1</th>\n",
       "      <td>BENGALURU(R)</td>\n",
       "      <td>Bengaluru Rural</td>\n",
       "      <td>Groundnut</td>\n",
       "      <td>206.0</td>\n",
       "      <td>212</td>\n",
       "      <td>2.912621</td>\n",
       "      <td>0.834310</td>\n",
       "      <td>0.165690</td>\n",
       "      <td>0.033783</td>\n",
       "      <td>10</td>\n",
       "      <td>TotalNPK</td>\n",
       "    </tr>\n",
       "    <tr>\n",
       "      <th>2</th>\n",
       "      <td>RAMANAGARA</td>\n",
       "      <td>Ramanagara</td>\n",
       "      <td>Groundnut</td>\n",
       "      <td>4830.0</td>\n",
       "      <td>4873</td>\n",
       "      <td>0.890269</td>\n",
       "      <td>0.891855</td>\n",
       "      <td>0.108145</td>\n",
       "      <td>0.010996</td>\n",
       "      <td>10</td>\n",
       "      <td>TotalNPK</td>\n",
       "    </tr>\n",
       "    <tr>\n",
       "      <th>3</th>\n",
       "      <td>CHITRADURGA</td>\n",
       "      <td>Chitradurga</td>\n",
       "      <td>Groundnut</td>\n",
       "      <td>68575.0</td>\n",
       "      <td>69748</td>\n",
       "      <td>1.710536</td>\n",
       "      <td>0.297591</td>\n",
       "      <td>0.702409</td>\n",
       "      <td>0.006860</td>\n",
       "      <td>10</td>\n",
       "      <td>TotalNPK</td>\n",
       "    </tr>\n",
       "    <tr>\n",
       "      <th>4</th>\n",
       "      <td>DAVANAGERE</td>\n",
       "      <td>Davanagere</td>\n",
       "      <td>Groundnut</td>\n",
       "      <td>16592.0</td>\n",
       "      <td>16898</td>\n",
       "      <td>1.844262</td>\n",
       "      <td>0.327982</td>\n",
       "      <td>0.672018</td>\n",
       "      <td>0.008157</td>\n",
       "      <td>10</td>\n",
       "      <td>TotalNPK</td>\n",
       "    </tr>\n",
       "    <tr>\n",
       "      <th>...</th>\n",
       "      <td>...</td>\n",
       "      <td>...</td>\n",
       "      <td>...</td>\n",
       "      <td>...</td>\n",
       "      <td>...</td>\n",
       "      <td>...</td>\n",
       "      <td>...</td>\n",
       "      <td>...</td>\n",
       "      <td>...</td>\n",
       "      <td>...</td>\n",
       "      <td>...</td>\n",
       "    </tr>\n",
       "    <tr>\n",
       "      <th>243</th>\n",
       "      <td>KALABURAGI</td>\n",
       "      <td>Kalaburagi</td>\n",
       "      <td>Maize</td>\n",
       "      <td>14621.0</td>\n",
       "      <td>13790</td>\n",
       "      <td>-5.683606</td>\n",
       "      <td>0.748208</td>\n",
       "      <td>0.251792</td>\n",
       "      <td>-0.044300</td>\n",
       "      <td>-20</td>\n",
       "      <td>TotalNPK</td>\n",
       "    </tr>\n",
       "    <tr>\n",
       "      <th>244</th>\n",
       "      <td>YADGIRI</td>\n",
       "      <td>Yadgir</td>\n",
       "      <td>Maize</td>\n",
       "      <td>2673.0</td>\n",
       "      <td>2241</td>\n",
       "      <td>-16.161616</td>\n",
       "      <td>0.804557</td>\n",
       "      <td>0.195443</td>\n",
       "      <td>-0.145338</td>\n",
       "      <td>-20</td>\n",
       "      <td>TotalNPK</td>\n",
       "    </tr>\n",
       "    <tr>\n",
       "      <th>245</th>\n",
       "      <td>RAICHUR</td>\n",
       "      <td>Raichur</td>\n",
       "      <td>Maize</td>\n",
       "      <td>723.0</td>\n",
       "      <td>650</td>\n",
       "      <td>-10.096819</td>\n",
       "      <td>0.748027</td>\n",
       "      <td>0.251973</td>\n",
       "      <td>-0.081018</td>\n",
       "      <td>-20</td>\n",
       "      <td>TotalNPK</td>\n",
       "    </tr>\n",
       "    <tr>\n",
       "      <th>246</th>\n",
       "      <td>KOPPAL</td>\n",
       "      <td>Koppal</td>\n",
       "      <td>Maize</td>\n",
       "      <td>190252.0</td>\n",
       "      <td>177382</td>\n",
       "      <td>-6.764712</td>\n",
       "      <td>0.863219</td>\n",
       "      <td>0.136781</td>\n",
       "      <td>-0.061277</td>\n",
       "      <td>-20</td>\n",
       "      <td>TotalNPK</td>\n",
       "    </tr>\n",
       "    <tr>\n",
       "      <th>247</th>\n",
       "      <td>VIJAYANAGARA</td>\n",
       "      <td>Vijayanagara</td>\n",
       "      <td>Maize</td>\n",
       "      <td>104045.0</td>\n",
       "      <td>94210</td>\n",
       "      <td>-9.452641</td>\n",
       "      <td>0.663577</td>\n",
       "      <td>0.336423</td>\n",
       "      <td>-0.067053</td>\n",
       "      <td>-20</td>\n",
       "      <td>TotalNPK</td>\n",
       "    </tr>\n",
       "  </tbody>\n",
       "</table>\n",
       "<p>248 rows × 11 columns</p>\n",
       "</div>"
      ],
      "text/plain": [
       "         District     KDG_District       Crop  Original Production  \\\n",
       "0       BENGALURU  Bengaluru Urban  Groundnut                 71.0   \n",
       "1    BENGALURU(R)  Bengaluru Rural  Groundnut                206.0   \n",
       "2      RAMANAGARA       Ramanagara  Groundnut               4830.0   \n",
       "3     CHITRADURGA      Chitradurga  Groundnut              68575.0   \n",
       "4      DAVANAGERE       Davanagere  Groundnut              16592.0   \n",
       "..            ...              ...        ...                  ...   \n",
       "243    KALABURAGI       Kalaburagi      Maize              14621.0   \n",
       "244       YADGIRI           Yadgir      Maize               2673.0   \n",
       "245       RAICHUR          Raichur      Maize                723.0   \n",
       "246        KOPPAL           Koppal      Maize             190252.0   \n",
       "247  VIJAYANAGARA     Vijayanagara      Maize             104045.0   \n",
       "\n",
       "     New Production     Impact  Stability    Stress  SI Score  Perturbation  \\\n",
       "0                75   5.633803   0.946611  0.053389  0.079430            10   \n",
       "1               212   2.912621   0.834310  0.165690  0.033783            10   \n",
       "2              4873   0.890269   0.891855  0.108145  0.010996            10   \n",
       "3             69748   1.710536   0.297591  0.702409  0.006860            10   \n",
       "4             16898   1.844262   0.327982  0.672018  0.008157            10   \n",
       "..              ...        ...        ...       ...       ...           ...   \n",
       "243           13790  -5.683606   0.748208  0.251792 -0.044300           -20   \n",
       "244            2241 -16.161616   0.804557  0.195443 -0.145338           -20   \n",
       "245             650 -10.096819   0.748027  0.251973 -0.081018           -20   \n",
       "246          177382  -6.764712   0.863219  0.136781 -0.061277           -20   \n",
       "247           94210  -9.452641   0.663577  0.336423 -0.067053           -20   \n",
       "\n",
       "       Factor  \n",
       "0    TotalNPK  \n",
       "1    TotalNPK  \n",
       "2    TotalNPK  \n",
       "3    TotalNPK  \n",
       "4    TotalNPK  \n",
       "..        ...  \n",
       "243  TotalNPK  \n",
       "244  TotalNPK  \n",
       "245  TotalNPK  \n",
       "246  TotalNPK  \n",
       "247  TotalNPK  \n",
       "\n",
       "[248 rows x 11 columns]"
      ]
     },
     "execution_count": 30,
     "metadata": {},
     "output_type": "execute_result"
    }
   ],
   "source": [
    "# Perturbations and factor mapping\n",
    "crop1 = 'Groundnut'\n",
    "crop2 = 'Maize'\n",
    "perturbations = [10, -10, 20, -20]\n",
    "factor_mapping = {\n",
    "    'NPK': 'TotalNPK'\n",
    "}\n",
    "\n",
    "# Initialize an empty DataFrame to store the results\n",
    "G_M_2D_Diff_Impact = pd.DataFrame()\n",
    "\n",
    "# Loop over each perturbation and factor\n",
    "for perturbation in perturbations:\n",
    "    for factor, mapped_factor in factor_mapping.items():\n",
    "        # Call the function to calculate and visualize for both crops\n",
    "        calculate_and_visualize(perturbation, crop1, Groundnut_Directory, factor, False)\n",
    "        calculate_and_visualize(perturbation, crop2, Maize_Directory, factor, False)\n",
    "        Calculate_and_visualize_2D(Groundnut_Directory, Maize_Directory, adj_matrix_np, crop1, crop2, perturbation, factor, False)\n",
    "        result_df = Calculate_SI_Score(Maize_Directory, Groundnut_Directory, adj_matrix_np, crop2, crop1, perturbation, factor, False)\n",
    "        # Create a DataFrame for Rice entries\n",
    "        rice_df = pd.DataFrame({\n",
    "            'District': Working_Directory['District'],\n",
    "            'KDG_District': Working_Directory['KDG_District'],\n",
    "            'Crop': crop1,  # Indicate that these entries are for Rice\n",
    "            'Original Production': Groundnut_Directory[f'{crop1}_Production'],\n",
    "            'New Production': Groundnut_Directory[f'{crop1[0].upper()} - {factor} {perturbation}'],\n",
    "            'Impact': Working_Directory[f'Impact_{crop1[0].upper()}_{factor}_{perturbation}'],\n",
    "            'Stability': Working_Directory[f'Stability_{crop1[0].upper()}_{crop2[0].upper()}_{factor}_{perturbation}'],\n",
    "            'Stress': Working_Directory[f'Stress_{crop1[0].upper()}_{crop2[0].upper()}_{factor}_{perturbation}'],\n",
    "            'SI Score' : result_df['SI_Score'],\n",
    "            'Perturbation': perturbation,\n",
    "            'Factor': mapped_factor\n",
    "        })\n",
    "\n",
    "        # Create a DataFrame for Maize entries\n",
    "        maize_df = pd.DataFrame({\n",
    "            'District': Working_Directory['District'],\n",
    "            'KDG_District': Working_Directory['KDG_District'],\n",
    "            'Crop': crop2,  # Indicate that these entries are for Maize\n",
    "            'Original Production': Maize_Directory[f'{crop2}_Production'],\n",
    "            'New Production': Maize_Directory[f'{crop2[0].upper()} - {factor} {perturbation}'],\n",
    "            'Impact': Working_Directory[f'Impact_{crop2[0].upper()}_{factor}_{perturbation}'],\n",
    "            'Stability': Working_Directory[f'Stability_{crop1[0].upper()}_{crop2[0].upper()}_{factor}_{perturbation}'],\n",
    "            'Stress': Working_Directory[f'Stress_{crop1[0].upper()}_{crop2[0].upper()}_{factor}_{perturbation}'],\n",
    "            'SI Score' : result_df['SI_Score'],\n",
    "            'Perturbation': perturbation,\n",
    "            'Factor': mapped_factor\n",
    "        })\n",
    "\n",
    "        # Concatenate the Rice and Maize DataFrames for the current perturbation and factor\n",
    "        temp_df = pd.concat([rice_df, maize_df], ignore_index=True)\n",
    "        \n",
    "        # Append to the final DataFrame\n",
    "        G_M_2D_Diff_Impact = pd.concat([G_M_2D_Diff_Impact, temp_df], ignore_index=True)\n",
    "\n",
    "# Display or save the final DataFrame\n",
    "G_M_2D_Diff_Impact.to_csv('2D/G_M_2D_Diff_Impact_SI.csv', index=False)\n",
    "G_M_2D_Diff_Impact\n"
   ]
  }
 ],
 "metadata": {
  "kernelspec": {
   "display_name": "Python 3",
   "language": "python",
   "name": "python3"
  },
  "language_info": {
   "codemirror_mode": {
    "name": "ipython",
    "version": 3
   },
   "file_extension": ".py",
   "mimetype": "text/x-python",
   "name": "python",
   "nbconvert_exporter": "python",
   "pygments_lexer": "ipython3",
   "version": "3.13.3"
  }
 },
 "nbformat": 4,
 "nbformat_minor": 2
}
