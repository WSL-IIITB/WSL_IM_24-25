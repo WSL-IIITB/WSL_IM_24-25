{
 "cells": [
  {
   "cell_type": "code",
   "execution_count": 1,
   "metadata": {},
   "outputs": [],
   "source": [
    "import pandas as pd\n",
    "import statsmodels.api as sm\n",
    "import re\n",
    "import numpy as np\n",
    "import pandas as pd\n",
    "from itertools import product"
   ]
  },
  {
   "cell_type": "code",
   "execution_count": 2,
   "metadata": {},
   "outputs": [
    {
     "data": {
      "text/html": [
       "<div>\n",
       "<style scoped>\n",
       "    .dataframe tbody tr th:only-of-type {\n",
       "        vertical-align: middle;\n",
       "    }\n",
       "\n",
       "    .dataframe tbody tr th {\n",
       "        vertical-align: top;\n",
       "    }\n",
       "\n",
       "    .dataframe thead th {\n",
       "        text-align: right;\n",
       "    }\n",
       "</style>\n",
       "<table border=\"1\" class=\"dataframe\">\n",
       "  <thead>\n",
       "    <tr style=\"text-align: right;\">\n",
       "      <th></th>\n",
       "      <th>District</th>\n",
       "      <th>Rice_Production</th>\n",
       "      <th>TotalNPK</th>\n",
       "      <th>NetAreaIrrigated_Canals_NetAreaIrrigated</th>\n",
       "      <th>AreaUnderCereals_Paddy</th>\n",
       "      <th>Rice_Ratio</th>\n",
       "    </tr>\n",
       "  </thead>\n",
       "  <tbody>\n",
       "    <tr>\n",
       "      <th>24</th>\n",
       "      <td>BALLARI</td>\n",
       "      <td>206115.5</td>\n",
       "      <td>16648.820502</td>\n",
       "      <td>20953.141802</td>\n",
       "      <td>46832.5</td>\n",
       "      <td>0.269990</td>\n",
       "    </tr>\n",
       "    <tr>\n",
       "      <th>25</th>\n",
       "      <td>BIDAR</td>\n",
       "      <td>2036.0</td>\n",
       "      <td>181.920490</td>\n",
       "      <td>0.000000</td>\n",
       "      <td>1548.0</td>\n",
       "      <td>0.007378</td>\n",
       "    </tr>\n",
       "    <tr>\n",
       "      <th>26</th>\n",
       "      <td>KALABURAGI</td>\n",
       "      <td>7888.0</td>\n",
       "      <td>383.098388</td>\n",
       "      <td>148.020607</td>\n",
       "      <td>4199.0</td>\n",
       "      <td>0.007095</td>\n",
       "    </tr>\n",
       "    <tr>\n",
       "      <th>27</th>\n",
       "      <td>YADGIRI</td>\n",
       "      <td>224659.0</td>\n",
       "      <td>30981.381245</td>\n",
       "      <td>30897.307860</td>\n",
       "      <td>49358.0</td>\n",
       "      <td>0.339006</td>\n",
       "    </tr>\n",
       "    <tr>\n",
       "      <th>28</th>\n",
       "      <td>RAICHUR</td>\n",
       "      <td>492342.0</td>\n",
       "      <td>41912.073068</td>\n",
       "      <td>39866.073203</td>\n",
       "      <td>115246.0</td>\n",
       "      <td>0.357505</td>\n",
       "    </tr>\n",
       "    <tr>\n",
       "      <th>29</th>\n",
       "      <td>KOPPAL</td>\n",
       "      <td>243505.0</td>\n",
       "      <td>14075.849458</td>\n",
       "      <td>7221.642581</td>\n",
       "      <td>50753.0</td>\n",
       "      <td>0.191373</td>\n",
       "    </tr>\n",
       "    <tr>\n",
       "      <th>30</th>\n",
       "      <td>VIJAYANAGARA</td>\n",
       "      <td>206115.5</td>\n",
       "      <td>16648.820502</td>\n",
       "      <td>20953.141802</td>\n",
       "      <td>46832.5</td>\n",
       "      <td>0.269990</td>\n",
       "    </tr>\n",
       "  </tbody>\n",
       "</table>\n",
       "</div>"
      ],
      "text/plain": [
       "        District  Rice_Production      TotalNPK  \\\n",
       "24       BALLARI         206115.5  16648.820502   \n",
       "25         BIDAR           2036.0    181.920490   \n",
       "26    KALABURAGI           7888.0    383.098388   \n",
       "27       YADGIRI         224659.0  30981.381245   \n",
       "28       RAICHUR         492342.0  41912.073068   \n",
       "29        KOPPAL         243505.0  14075.849458   \n",
       "30  VIJAYANAGARA         206115.5  16648.820502   \n",
       "\n",
       "    NetAreaIrrigated_Canals_NetAreaIrrigated  AreaUnderCereals_Paddy  \\\n",
       "24                              20953.141802                 46832.5   \n",
       "25                                  0.000000                  1548.0   \n",
       "26                                148.020607                  4199.0   \n",
       "27                              30897.307860                 49358.0   \n",
       "28                              39866.073203                115246.0   \n",
       "29                               7221.642581                 50753.0   \n",
       "30                              20953.141802                 46832.5   \n",
       "\n",
       "    Rice_Ratio  \n",
       "24    0.269990  \n",
       "25    0.007378  \n",
       "26    0.007095  \n",
       "27    0.339006  \n",
       "28    0.357505  \n",
       "29    0.191373  \n",
       "30    0.269990  "
      ]
     },
     "execution_count": 2,
     "metadata": {},
     "output_type": "execute_result"
    }
   ],
   "source": [
    "def remove_pattern(col_name):\n",
    "    return re.sub(r'_[0-9]{3}$', '', col_name)\n",
    "\n",
    "Zones = pd.read_excel('Zones.xlsx')\n",
    "Dataset = pd.read_csv('KAG 2016-17/Agriculture/Agriculture_KAG_2016_17.csv')\n",
    "Dataset.columns = map(remove_pattern, Dataset.columns)\n",
    "\n",
    "param = pd.read_csv('Params/3_parameters_multicollinearity_rice.csv')\n",
    "\n",
    "Working_Directory = pd.read_csv('Working_Directory.csv')\n",
    "Working_Directory = Working_Directory[['District','Rice_Production','TotalNPK',\n",
    "'NetAreaIrrigated_Canals_NetAreaIrrigated', 'AreaUnderCereals_Paddy','Rice_Ratio']].copy()\n",
    "\n",
    "for x in param.columns:\n",
    "    if(x != 'AreaUnderCereals_Paddy'):\n",
    "        Working_Directory[x] = Working_Directory[x]*Working_Directory['Rice_Ratio']\n",
    "\n",
    "Working_Directory[24:]"
   ]
  },
  {
   "cell_type": "code",
   "execution_count": 3,
   "metadata": {},
   "outputs": [
    {
     "data": {
      "text/html": [
       "<div>\n",
       "<style scoped>\n",
       "    .dataframe tbody tr th:only-of-type {\n",
       "        vertical-align: middle;\n",
       "    }\n",
       "\n",
       "    .dataframe tbody tr th {\n",
       "        vertical-align: top;\n",
       "    }\n",
       "\n",
       "    .dataframe thead th {\n",
       "        text-align: right;\n",
       "    }\n",
       "</style>\n",
       "<table border=\"1\" class=\"dataframe\">\n",
       "  <thead>\n",
       "    <tr style=\"text-align: right;\">\n",
       "      <th></th>\n",
       "      <th>AreaUnderCereals_Paddy</th>\n",
       "      <th>TotalNPK</th>\n",
       "      <th>NetAreaIrrigated_Canals_NetAreaIrrigated</th>\n",
       "    </tr>\n",
       "  </thead>\n",
       "  <tbody>\n",
       "    <tr>\n",
       "      <th>0</th>\n",
       "      <td>782.0</td>\n",
       "      <td>513.822990</td>\n",
       "      <td>0.000000</td>\n",
       "    </tr>\n",
       "    <tr>\n",
       "      <th>1</th>\n",
       "      <td>736.0</td>\n",
       "      <td>167.835355</td>\n",
       "      <td>0.000000</td>\n",
       "    </tr>\n",
       "    <tr>\n",
       "      <th>2</th>\n",
       "      <td>4468.0</td>\n",
       "      <td>257.908893</td>\n",
       "      <td>272.509463</td>\n",
       "    </tr>\n",
       "    <tr>\n",
       "      <th>3</th>\n",
       "      <td>1297.0</td>\n",
       "      <td>183.032957</td>\n",
       "      <td>9.283245</td>\n",
       "    </tr>\n",
       "    <tr>\n",
       "      <th>4</th>\n",
       "      <td>98259.0</td>\n",
       "      <td>21197.529554</td>\n",
       "      <td>18037.386429</td>\n",
       "    </tr>\n",
       "  </tbody>\n",
       "</table>\n",
       "</div>"
      ],
      "text/plain": [
       "   AreaUnderCereals_Paddy      TotalNPK  \\\n",
       "0                   782.0    513.822990   \n",
       "1                   736.0    167.835355   \n",
       "2                  4468.0    257.908893   \n",
       "3                  1297.0    183.032957   \n",
       "4                 98259.0  21197.529554   \n",
       "\n",
       "   NetAreaIrrigated_Canals_NetAreaIrrigated  \n",
       "0                                  0.000000  \n",
       "1                                  0.000000  \n",
       "2                                272.509463  \n",
       "3                                  9.283245  \n",
       "4                              18037.386429  "
      ]
     },
     "execution_count": 3,
     "metadata": {},
     "output_type": "execute_result"
    }
   ],
   "source": [
    "Case_file = param\n",
    "for x in Case_file.columns:\n",
    "    Working_Directory[x] = Case_file[x]\n",
    "y = Working_Directory['Rice_Production']\n",
    "Case_file[:5]"
   ]
  },
  {
   "cell_type": "code",
   "execution_count": 4,
   "metadata": {},
   "outputs": [
    {
     "data": {
      "text/html": [
       "<div>\n",
       "<style scoped>\n",
       "    .dataframe tbody tr th:only-of-type {\n",
       "        vertical-align: middle;\n",
       "    }\n",
       "\n",
       "    .dataframe tbody tr th {\n",
       "        vertical-align: top;\n",
       "    }\n",
       "\n",
       "    .dataframe thead th {\n",
       "        text-align: right;\n",
       "    }\n",
       "</style>\n",
       "<table border=\"1\" class=\"dataframe\">\n",
       "  <thead>\n",
       "    <tr style=\"text-align: right;\">\n",
       "      <th></th>\n",
       "      <th>AreaUnderCereals_Paddy</th>\n",
       "      <th>TotalNPK</th>\n",
       "      <th>NetAreaIrrigated_Canals_NetAreaIrrigated</th>\n",
       "    </tr>\n",
       "  </thead>\n",
       "  <tbody>\n",
       "    <tr>\n",
       "      <th>24</th>\n",
       "      <td>46832.5</td>\n",
       "      <td>16648.820502</td>\n",
       "      <td>20953.141802</td>\n",
       "    </tr>\n",
       "    <tr>\n",
       "      <th>25</th>\n",
       "      <td>1548.0</td>\n",
       "      <td>181.920490</td>\n",
       "      <td>0.000000</td>\n",
       "    </tr>\n",
       "    <tr>\n",
       "      <th>26</th>\n",
       "      <td>4199.0</td>\n",
       "      <td>383.098388</td>\n",
       "      <td>148.020607</td>\n",
       "    </tr>\n",
       "    <tr>\n",
       "      <th>27</th>\n",
       "      <td>49358.0</td>\n",
       "      <td>30981.381245</td>\n",
       "      <td>30897.307860</td>\n",
       "    </tr>\n",
       "    <tr>\n",
       "      <th>28</th>\n",
       "      <td>115246.0</td>\n",
       "      <td>41912.073068</td>\n",
       "      <td>39866.073203</td>\n",
       "    </tr>\n",
       "    <tr>\n",
       "      <th>29</th>\n",
       "      <td>50753.0</td>\n",
       "      <td>14075.849458</td>\n",
       "      <td>7221.642581</td>\n",
       "    </tr>\n",
       "    <tr>\n",
       "      <th>30</th>\n",
       "      <td>46832.5</td>\n",
       "      <td>16648.820502</td>\n",
       "      <td>20953.141802</td>\n",
       "    </tr>\n",
       "  </tbody>\n",
       "</table>\n",
       "</div>"
      ],
      "text/plain": [
       "    AreaUnderCereals_Paddy      TotalNPK  \\\n",
       "24                 46832.5  16648.820502   \n",
       "25                  1548.0    181.920490   \n",
       "26                  4199.0    383.098388   \n",
       "27                 49358.0  30981.381245   \n",
       "28                115246.0  41912.073068   \n",
       "29                 50753.0  14075.849458   \n",
       "30                 46832.5  16648.820502   \n",
       "\n",
       "    NetAreaIrrigated_Canals_NetAreaIrrigated  \n",
       "24                              20953.141802  \n",
       "25                                  0.000000  \n",
       "26                                148.020607  \n",
       "27                              30897.307860  \n",
       "28                              39866.073203  \n",
       "29                               7221.642581  \n",
       "30                              20953.141802  "
      ]
     },
     "execution_count": 4,
     "metadata": {},
     "output_type": "execute_result"
    }
   ],
   "source": [
    "if(len(Case_file) < 31):\n",
    "    row_24 = Case_file.iloc[24]\n",
    "    halved_row_24 = row_24 / 2\n",
    "    Case_file.iloc[24] = halved_row_24\n",
    "    Case_file.loc[len(Case_file)] = halved_row_24\n",
    "\n",
    "Case_file[24:]\n"
   ]
  },
  {
   "cell_type": "code",
   "execution_count": 5,
   "metadata": {},
   "outputs": [
    {
     "data": {
      "text/html": [
       "<div>\n",
       "<style scoped>\n",
       "    .dataframe tbody tr th:only-of-type {\n",
       "        vertical-align: middle;\n",
       "    }\n",
       "\n",
       "    .dataframe tbody tr th {\n",
       "        vertical-align: top;\n",
       "    }\n",
       "\n",
       "    .dataframe thead th {\n",
       "        text-align: right;\n",
       "    }\n",
       "</style>\n",
       "<table border=\"1\" class=\"dataframe\">\n",
       "  <thead>\n",
       "    <tr style=\"text-align: right;\">\n",
       "      <th></th>\n",
       "      <th>AreaUnderCereals_Paddy</th>\n",
       "      <th>TotalNPK</th>\n",
       "      <th>NetAreaIrrigated_Canals_NetAreaIrrigated</th>\n",
       "    </tr>\n",
       "  </thead>\n",
       "  <tbody>\n",
       "    <tr>\n",
       "      <th>0</th>\n",
       "      <td>782.0</td>\n",
       "      <td>513.822990</td>\n",
       "      <td>0.000000</td>\n",
       "    </tr>\n",
       "    <tr>\n",
       "      <th>1</th>\n",
       "      <td>736.0</td>\n",
       "      <td>167.835355</td>\n",
       "      <td>0.000000</td>\n",
       "    </tr>\n",
       "    <tr>\n",
       "      <th>2</th>\n",
       "      <td>4468.0</td>\n",
       "      <td>257.908893</td>\n",
       "      <td>272.509463</td>\n",
       "    </tr>\n",
       "    <tr>\n",
       "      <th>3</th>\n",
       "      <td>1297.0</td>\n",
       "      <td>183.032957</td>\n",
       "      <td>9.283245</td>\n",
       "    </tr>\n",
       "    <tr>\n",
       "      <th>4</th>\n",
       "      <td>98259.0</td>\n",
       "      <td>21197.529554</td>\n",
       "      <td>18037.386429</td>\n",
       "    </tr>\n",
       "    <tr>\n",
       "      <th>5</th>\n",
       "      <td>395.0</td>\n",
       "      <td>108.445953</td>\n",
       "      <td>0.000000</td>\n",
       "    </tr>\n",
       "    <tr>\n",
       "      <th>6</th>\n",
       "      <td>1333.0</td>\n",
       "      <td>209.640893</td>\n",
       "      <td>0.000000</td>\n",
       "    </tr>\n",
       "    <tr>\n",
       "      <th>7</th>\n",
       "      <td>109617.0</td>\n",
       "      <td>17722.015760</td>\n",
       "      <td>13305.677787</td>\n",
       "    </tr>\n",
       "    <tr>\n",
       "      <th>8</th>\n",
       "      <td>10379.0</td>\n",
       "      <td>1069.562417</td>\n",
       "      <td>114.924409</td>\n",
       "    </tr>\n",
       "    <tr>\n",
       "      <th>9</th>\n",
       "      <td>33036.0</td>\n",
       "      <td>14694.297645</td>\n",
       "      <td>1344.644186</td>\n",
       "    </tr>\n",
       "    <tr>\n",
       "      <th>10</th>\n",
       "      <td>48689.0</td>\n",
       "      <td>8898.497787</td>\n",
       "      <td>0.000000</td>\n",
       "    </tr>\n",
       "    <tr>\n",
       "      <th>11</th>\n",
       "      <td>49608.0</td>\n",
       "      <td>2921.382123</td>\n",
       "      <td>0.000000</td>\n",
       "    </tr>\n",
       "    <tr>\n",
       "      <th>12</th>\n",
       "      <td>42818.0</td>\n",
       "      <td>7332.607213</td>\n",
       "      <td>3867.912533</td>\n",
       "    </tr>\n",
       "    <tr>\n",
       "      <th>13</th>\n",
       "      <td>28336.0</td>\n",
       "      <td>16946.721245</td>\n",
       "      <td>507.404211</td>\n",
       "    </tr>\n",
       "    <tr>\n",
       "      <th>14</th>\n",
       "      <td>58487.0</td>\n",
       "      <td>18424.665100</td>\n",
       "      <td>27586.796690</td>\n",
       "    </tr>\n",
       "    <tr>\n",
       "      <th>15</th>\n",
       "      <td>93521.0</td>\n",
       "      <td>17937.675249</td>\n",
       "      <td>26552.468392</td>\n",
       "    </tr>\n",
       "    <tr>\n",
       "      <th>16</th>\n",
       "      <td>13881.0</td>\n",
       "      <td>2260.361257</td>\n",
       "      <td>1997.983483</td>\n",
       "    </tr>\n",
       "    <tr>\n",
       "      <th>17</th>\n",
       "      <td>61230.0</td>\n",
       "      <td>14865.464724</td>\n",
       "      <td>4947.776905</td>\n",
       "    </tr>\n",
       "    <tr>\n",
       "      <th>18</th>\n",
       "      <td>51.0</td>\n",
       "      <td>7.826782</td>\n",
       "      <td>12.617706</td>\n",
       "    </tr>\n",
       "    <tr>\n",
       "      <th>19</th>\n",
       "      <td>32.0</td>\n",
       "      <td>7.747128</td>\n",
       "      <td>0.185064</td>\n",
       "    </tr>\n",
       "    <tr>\n",
       "      <th>20</th>\n",
       "      <td>23909.0</td>\n",
       "      <td>2417.985953</td>\n",
       "      <td>1020.662913</td>\n",
       "    </tr>\n",
       "    <tr>\n",
       "      <th>21</th>\n",
       "      <td>1706.0</td>\n",
       "      <td>293.056198</td>\n",
       "      <td>384.409670</td>\n",
       "    </tr>\n",
       "    <tr>\n",
       "      <th>22</th>\n",
       "      <td>44968.0</td>\n",
       "      <td>6591.662844</td>\n",
       "      <td>520.631945</td>\n",
       "    </tr>\n",
       "    <tr>\n",
       "      <th>23</th>\n",
       "      <td>66147.0</td>\n",
       "      <td>6513.612078</td>\n",
       "      <td>0.000000</td>\n",
       "    </tr>\n",
       "    <tr>\n",
       "      <th>24</th>\n",
       "      <td>46832.5</td>\n",
       "      <td>16648.820502</td>\n",
       "      <td>20953.141802</td>\n",
       "    </tr>\n",
       "    <tr>\n",
       "      <th>25</th>\n",
       "      <td>1548.0</td>\n",
       "      <td>181.920490</td>\n",
       "      <td>0.000000</td>\n",
       "    </tr>\n",
       "    <tr>\n",
       "      <th>26</th>\n",
       "      <td>4199.0</td>\n",
       "      <td>383.098388</td>\n",
       "      <td>148.020607</td>\n",
       "    </tr>\n",
       "    <tr>\n",
       "      <th>27</th>\n",
       "      <td>49358.0</td>\n",
       "      <td>30981.381245</td>\n",
       "      <td>30897.307860</td>\n",
       "    </tr>\n",
       "    <tr>\n",
       "      <th>28</th>\n",
       "      <td>115246.0</td>\n",
       "      <td>41912.073068</td>\n",
       "      <td>39866.073203</td>\n",
       "    </tr>\n",
       "    <tr>\n",
       "      <th>29</th>\n",
       "      <td>50753.0</td>\n",
       "      <td>14075.849458</td>\n",
       "      <td>7221.642581</td>\n",
       "    </tr>\n",
       "    <tr>\n",
       "      <th>30</th>\n",
       "      <td>46832.5</td>\n",
       "      <td>16648.820502</td>\n",
       "      <td>20953.141802</td>\n",
       "    </tr>\n",
       "  </tbody>\n",
       "</table>\n",
       "</div>"
      ],
      "text/plain": [
       "    AreaUnderCereals_Paddy      TotalNPK  \\\n",
       "0                    782.0    513.822990   \n",
       "1                    736.0    167.835355   \n",
       "2                   4468.0    257.908893   \n",
       "3                   1297.0    183.032957   \n",
       "4                  98259.0  21197.529554   \n",
       "5                    395.0    108.445953   \n",
       "6                   1333.0    209.640893   \n",
       "7                 109617.0  17722.015760   \n",
       "8                  10379.0   1069.562417   \n",
       "9                  33036.0  14694.297645   \n",
       "10                 48689.0   8898.497787   \n",
       "11                 49608.0   2921.382123   \n",
       "12                 42818.0   7332.607213   \n",
       "13                 28336.0  16946.721245   \n",
       "14                 58487.0  18424.665100   \n",
       "15                 93521.0  17937.675249   \n",
       "16                 13881.0   2260.361257   \n",
       "17                 61230.0  14865.464724   \n",
       "18                    51.0      7.826782   \n",
       "19                    32.0      7.747128   \n",
       "20                 23909.0   2417.985953   \n",
       "21                  1706.0    293.056198   \n",
       "22                 44968.0   6591.662844   \n",
       "23                 66147.0   6513.612078   \n",
       "24                 46832.5  16648.820502   \n",
       "25                  1548.0    181.920490   \n",
       "26                  4199.0    383.098388   \n",
       "27                 49358.0  30981.381245   \n",
       "28                115246.0  41912.073068   \n",
       "29                 50753.0  14075.849458   \n",
       "30                 46832.5  16648.820502   \n",
       "\n",
       "    NetAreaIrrigated_Canals_NetAreaIrrigated  \n",
       "0                                   0.000000  \n",
       "1                                   0.000000  \n",
       "2                                 272.509463  \n",
       "3                                   9.283245  \n",
       "4                               18037.386429  \n",
       "5                                   0.000000  \n",
       "6                                   0.000000  \n",
       "7                               13305.677787  \n",
       "8                                 114.924409  \n",
       "9                                1344.644186  \n",
       "10                                  0.000000  \n",
       "11                                  0.000000  \n",
       "12                               3867.912533  \n",
       "13                                507.404211  \n",
       "14                              27586.796690  \n",
       "15                              26552.468392  \n",
       "16                               1997.983483  \n",
       "17                               4947.776905  \n",
       "18                                 12.617706  \n",
       "19                                  0.185064  \n",
       "20                               1020.662913  \n",
       "21                                384.409670  \n",
       "22                                520.631945  \n",
       "23                                  0.000000  \n",
       "24                              20953.141802  \n",
       "25                                  0.000000  \n",
       "26                                148.020607  \n",
       "27                              30897.307860  \n",
       "28                              39866.073203  \n",
       "29                               7221.642581  \n",
       "30                              20953.141802  "
      ]
     },
     "execution_count": 5,
     "metadata": {},
     "output_type": "execute_result"
    }
   ],
   "source": [
    "Case_file"
   ]
  },
  {
   "cell_type": "code",
   "execution_count": 6,
   "metadata": {},
   "outputs": [
    {
     "name": "stdout",
     "output_type": "stream",
     "text": [
      "31\n"
     ]
    }
   ],
   "source": [
    "# Ensure that the index of y and Case_file are aligned\n",
    "y = y.loc[Case_file.index]\n",
    "\n",
    "# Identify rows in Case_file that have any zeros\n",
    "rows_to_remove = (Case_file < 0).any(axis=1)\n",
    "\n",
    "# rows_to_remove |= Working_Directory['Rice_Production']  < 1000\n",
    "# rows_to_remove |= Working_Directory['Rice_Production'] > 500000\n",
    "\n",
    "# Update Case_file and y\n",
    "Case_file = Case_file[~rows_to_remove].reset_index(drop=True)\n",
    "y = Working_Directory['Rice_Production'][~rows_to_remove].reset_index(drop=True)\n",
    "\n",
    "# Verify the length of Case_file\n",
    "case_file_length = len(Case_file)\n",
    "print(case_file_length)"
   ]
  },
  {
   "cell_type": "code",
   "execution_count": 7,
   "metadata": {},
   "outputs": [
    {
     "data": {
      "text/html": [
       "<div>\n",
       "<style scoped>\n",
       "    .dataframe tbody tr th:only-of-type {\n",
       "        vertical-align: middle;\n",
       "    }\n",
       "\n",
       "    .dataframe tbody tr th {\n",
       "        vertical-align: top;\n",
       "    }\n",
       "\n",
       "    .dataframe thead th {\n",
       "        text-align: right;\n",
       "    }\n",
       "</style>\n",
       "<table border=\"1\" class=\"dataframe\">\n",
       "  <thead>\n",
       "    <tr style=\"text-align: right;\">\n",
       "      <th></th>\n",
       "      <th>District</th>\n",
       "      <th>Rice_Production</th>\n",
       "      <th>TotalNPK</th>\n",
       "      <th>NetAreaIrrigated_Canals_NetAreaIrrigated</th>\n",
       "      <th>AreaUnderCereals_Paddy</th>\n",
       "      <th>Rice_Ratio</th>\n",
       "    </tr>\n",
       "  </thead>\n",
       "  <tbody>\n",
       "  </tbody>\n",
       "</table>\n",
       "</div>"
      ],
      "text/plain": [
       "Empty DataFrame\n",
       "Columns: [District, Rice_Production, TotalNPK, NetAreaIrrigated_Canals_NetAreaIrrigated, AreaUnderCereals_Paddy, Rice_Ratio]\n",
       "Index: []"
      ]
     },
     "execution_count": 7,
     "metadata": {},
     "output_type": "execute_result"
    }
   ],
   "source": [
    "Working_Directory[rows_to_remove]"
   ]
  },
  {
   "cell_type": "code",
   "execution_count": 8,
   "metadata": {},
   "outputs": [
    {
     "name": "stdout",
     "output_type": "stream",
     "text": [
      "            District      KDG_District\n",
      "0          BENGALURU   Bengaluru Urban\n",
      "1       BENGALURU(R)   Bengaluru Rural\n",
      "2         RAMANAGARA        Ramanagara\n",
      "3        CHITRADURGA       Chitradurga\n",
      "4         DAVANAGERE        Davanagere\n",
      "5              KOLAR             Kolar\n",
      "6    CHIKKABALLAPURA   Chikkaballapura\n",
      "7         SHIVAMOGGA        Shivamogga\n",
      "8           TUMAKURU          Tumakuru\n",
      "9     CHIKKAMAGALURU    Chikkamagaluru\n",
      "10  DAKSHINA KANNADA  Dakshina Kannada\n",
      "11             UDUPI             Udupi\n",
      "12            HASSAN            Hassan\n",
      "13            KODAGU            Kodagu\n",
      "14            MANDYA            Mandya\n",
      "15            MYSURU            Mysuru\n",
      "16    CHAMARAJANAGAR   Chamarajanagara\n",
      "17          BELAGAVI          Belagavi\n",
      "18        VIJAYAPURA        Vijayapura\n",
      "19          BAGALKOT         Bagalkote\n",
      "20          DHARAWAD           Dharwad\n",
      "21             GADAG             Gadag\n",
      "22            HAVERI            Haveri\n",
      "23    UTTARA KANNADA    Uttara Kannada\n",
      "24           BALLARI           Ballari\n",
      "25             BIDAR             Bidar\n",
      "26        KALABURAGI        Kalaburagi\n",
      "27           YADGIRI            Yadgir\n",
      "28           RAICHUR           Raichur\n",
      "29            KOPPAL            Koppal\n",
      "30      VIJAYANAGARA      Vijayanagara\n"
     ]
    }
   ],
   "source": [
    "abbreviation_mapping = {\n",
    "    'BENGALURU': 'BLR',\n",
    "    'BENGALURU(R)': 'BLR(R)',\n",
    "    'RAMANAGARA': 'RGA',\n",
    "    'CHITRADURGA': 'CDA',\n",
    "    'DAVANAGERE': 'DVG',\n",
    "    'KOLAR': 'KLR',\n",
    "    'CHIKKABALLAPURA': 'CKA',\n",
    "    'SHIVAMOGGA': 'SMG',\n",
    "    'TUMAKURU': 'TKR',\n",
    "    'CHIKKAMAGALURU': 'CMG',\n",
    "    'DAKSHINA KANNADA': 'DKA',\n",
    "    'UDUPI': 'UPI',\n",
    "    'HASSAN': 'HSN',\n",
    "    'KODAGU': 'KDG',\n",
    "    'MANDYA': 'MDY',\n",
    "    'MYSURU': 'MYS',\n",
    "    'CHAMARAJANAGAR': 'CNR',\n",
    "    'BELAGAVI': 'BLG',\n",
    "    'VIJAYAPURA': 'VJP',\n",
    "    'BAGALKOT': 'BKT',\n",
    "    'DHARAWAD': 'DWD',\n",
    "    'GADAG': 'GDG',\n",
    "    'HAVERI': 'HVR',\n",
    "    'UTTARA KANNADA': 'UTK',\n",
    "    'BALLARI': 'BLL',\n",
    "    'BIDAR': 'BDR',\n",
    "    'KALABURAGI': 'KLB',\n",
    "    'YADGIRI': 'YDR',\n",
    "    'RAICHUR': 'RCR',\n",
    "    'KOPPAL': 'KPL',\n",
    "    'VIJAYANAGARA': 'VNG',\n",
    "}\n",
    "\n",
    "Working_Directory['Abbreviation'] = Working_Directory['District'].map(abbreviation_mapping)\n",
    "Working_Directory[:5]\n",
    "\n",
    "# Create a dictionary to map district names\n",
    "district_mapping = {\n",
    "    'BENGALURU': 'Bengaluru Urban',\n",
    "    'BENGALURU(R)': 'Bengaluru Rural',\n",
    "    'RAMANAGARA': 'Ramanagara',\n",
    "    'CHITRADURGA': 'Chitradurga',\n",
    "    'DAVANAGERE': 'Davanagere',\n",
    "    'KOLAR': 'Kolar',\n",
    "    'CHIKKABALLAPURA': 'Chikkaballapura',\n",
    "    'SHIVAMOGGA': 'Shivamogga',\n",
    "    'TUMAKURU': 'Tumakuru',\n",
    "    'CHIKKAMAGALURU': 'Chikkamagaluru',\n",
    "    'DAKSHINA KANNADA': 'Dakshina Kannada',\n",
    "    'UDUPI': 'Udupi',\n",
    "    'HASSAN': 'Hassan',\n",
    "    'KODAGU': 'Kodagu',\n",
    "    'MANDYA': 'Mandya',\n",
    "    'MYSURU': 'Mysuru',\n",
    "    'CHAMARAJANAGAR': 'Chamarajanagara',\n",
    "    'BELAGAVI': 'Belagavi',\n",
    "    'VIJAYAPURA': 'Vijayapura',\n",
    "    'BAGALKOT': 'Bagalkote',\n",
    "    'DHARAWAD': 'Dharwad',\n",
    "    'GADAG': 'Gadag',\n",
    "    'HAVERI': 'Haveri',\n",
    "    'UTTARA KANNADA': 'Uttara Kannada',\n",
    "    'BALLARI': 'Ballari',\n",
    "    'BIDAR': 'Bidar',\n",
    "    'KALABURAGI': 'Kalaburagi',\n",
    "    'YADGIRI': 'Yadgir',\n",
    "    'RAICHUR': 'Raichur',\n",
    "    'KOPPAL': 'Koppal',\n",
    "    'VIJAYANAGARA': 'Vijayanagara'\n",
    "}\n",
    "\n",
    "Working_Directory['KDG_District'] = Working_Directory['District'].map(district_mapping)\n",
    "\n",
    "print(Working_Directory[['District', 'KDG_District']])"
   ]
  },
  {
   "cell_type": "code",
   "execution_count": 9,
   "metadata": {},
   "outputs": [],
   "source": [
    "y_st = pd.DataFrame()\n",
    "y_st['Rice_Production'] = Working_Directory[~rows_to_remove]['Rice_Production'].reset_index(drop=True)\n",
    "\n",
    "Case_file =sm.add_constant(Case_file)"
   ]
  },
  {
   "cell_type": "code",
   "execution_count": 10,
   "metadata": {},
   "outputs": [
    {
     "name": "stdout",
     "output_type": "stream",
     "text": [
      "                            OLS Regression Results                            \n",
      "==============================================================================\n",
      "Dep. Variable:        Rice_Production   R-squared:                       0.957\n",
      "Model:                            OLS   Adj. R-squared:                  0.952\n",
      "Method:                 Least Squares   F-statistic:                     200.7\n",
      "Date:                Mon, 07 Oct 2024   Prob (F-statistic):           1.45e-18\n",
      "Time:                        12:09:08   Log-Likelihood:                -363.08\n",
      "No. Observations:                  31   AIC:                             734.2\n",
      "Df Residuals:                      27   BIC:                             739.9\n",
      "Df Model:                           3                                         \n",
      "Covariance Type:            nonrobust                                         \n",
      "============================================================================================================\n",
      "                                               coef    std err          t      P>|t|      [0.025      0.975]\n",
      "------------------------------------------------------------------------------------------------------------\n",
      "const                                    -8814.5822   8387.536     -1.051      0.303    -2.6e+04    8395.221\n",
      "AreaUnderCereals_Paddy                       3.2026      0.285     11.223      0.000       2.617       3.788\n",
      "TotalNPK                                     0.6372      1.416      0.450      0.656      -2.268       3.542\n",
      "NetAreaIrrigated_Canals_NetAreaIrrigated     2.7569      1.069      2.579      0.016       0.564       4.950\n",
      "==============================================================================\n",
      "Omnibus:                       31.442   Durbin-Watson:                   1.811\n",
      "Prob(Omnibus):                  0.000   Jarque-Bera (JB):               86.907\n",
      "Skew:                           2.090   Prob(JB):                     1.34e-19\n",
      "Kurtosis:                      10.058   Cond. No.                     7.71e+04\n",
      "==============================================================================\n",
      "\n",
      "Notes:\n",
      "[1] Standard Errors assume that the covariance matrix of the errors is correctly specified.\n",
      "[2] The condition number is large, 7.71e+04. This might indicate that there are\n",
      "strong multicollinearity or other numerical problems.\n"
     ]
    },
    {
     "data": {
      "text/plain": [
       "array([3.20256645, 0.63724133, 2.75685678])"
      ]
     },
     "execution_count": 10,
     "metadata": {},
     "output_type": "execute_result"
    }
   ],
   "source": [
    "model=sm.OLS(y_st['Rice_Production'],Case_file).fit()\n",
    "print(model.summary())\n",
    "model.params.values\n",
    "coef=model.params.values[1:]\n",
    "coef"
   ]
  },
  {
   "cell_type": "code",
   "execution_count": 11,
   "metadata": {},
   "outputs": [
    {
     "data": {
      "text/html": [
       "<div>\n",
       "<style scoped>\n",
       "    .dataframe tbody tr th:only-of-type {\n",
       "        vertical-align: middle;\n",
       "    }\n",
       "\n",
       "    .dataframe tbody tr th {\n",
       "        vertical-align: top;\n",
       "    }\n",
       "\n",
       "    .dataframe thead th {\n",
       "        text-align: right;\n",
       "    }\n",
       "</style>\n",
       "<table border=\"1\" class=\"dataframe\">\n",
       "  <thead>\n",
       "    <tr style=\"text-align: right;\">\n",
       "      <th></th>\n",
       "      <th>District</th>\n",
       "      <th>Rice_Production</th>\n",
       "      <th>TotalNPK</th>\n",
       "      <th>NetAreaIrrigated_Canals_NetAreaIrrigated</th>\n",
       "      <th>AreaUnderCereals_Paddy</th>\n",
       "      <th>Rice_Ratio</th>\n",
       "      <th>Abbreviation</th>\n",
       "      <th>KDG_District</th>\n",
       "    </tr>\n",
       "  </thead>\n",
       "  <tbody>\n",
       "    <tr>\n",
       "      <th>0</th>\n",
       "      <td>BENGALURU</td>\n",
       "      <td>3376.0</td>\n",
       "      <td>513.822990</td>\n",
       "      <td>0.000000</td>\n",
       "      <td>782.0</td>\n",
       "      <td>0.022043</td>\n",
       "      <td>BLR</td>\n",
       "      <td>Bengaluru Urban</td>\n",
       "    </tr>\n",
       "    <tr>\n",
       "      <th>1</th>\n",
       "      <td>BENGALURU(R)</td>\n",
       "      <td>2354.0</td>\n",
       "      <td>167.835355</td>\n",
       "      <td>0.000000</td>\n",
       "      <td>736.0</td>\n",
       "      <td>0.008715</td>\n",
       "      <td>BLR(R)</td>\n",
       "      <td>Bengaluru Rural</td>\n",
       "    </tr>\n",
       "    <tr>\n",
       "      <th>2</th>\n",
       "      <td>RAMANAGARA</td>\n",
       "      <td>12128.0</td>\n",
       "      <td>257.908893</td>\n",
       "      <td>272.509463</td>\n",
       "      <td>4468.0</td>\n",
       "      <td>0.034517</td>\n",
       "      <td>RGA</td>\n",
       "      <td>Ramanagara</td>\n",
       "    </tr>\n",
       "    <tr>\n",
       "      <th>3</th>\n",
       "      <td>CHITRADURGA</td>\n",
       "      <td>4566.0</td>\n",
       "      <td>183.032957</td>\n",
       "      <td>9.283245</td>\n",
       "      <td>1297.0</td>\n",
       "      <td>0.005101</td>\n",
       "      <td>CDA</td>\n",
       "      <td>Chitradurga</td>\n",
       "    </tr>\n",
       "    <tr>\n",
       "      <th>4</th>\n",
       "      <td>DAVANAGERE</td>\n",
       "      <td>489505.0</td>\n",
       "      <td>21197.529554</td>\n",
       "      <td>18037.386429</td>\n",
       "      <td>98259.0</td>\n",
       "      <td>0.212733</td>\n",
       "      <td>DVG</td>\n",
       "      <td>Davanagere</td>\n",
       "    </tr>\n",
       "    <tr>\n",
       "      <th>5</th>\n",
       "      <td>KOLAR</td>\n",
       "      <td>864.0</td>\n",
       "      <td>108.445953</td>\n",
       "      <td>0.000000</td>\n",
       "      <td>395.0</td>\n",
       "      <td>0.004887</td>\n",
       "      <td>KLR</td>\n",
       "      <td>Kolar</td>\n",
       "    </tr>\n",
       "    <tr>\n",
       "      <th>6</th>\n",
       "      <td>CHIKKABALLAPURA</td>\n",
       "      <td>2698.0</td>\n",
       "      <td>209.640893</td>\n",
       "      <td>0.000000</td>\n",
       "      <td>1333.0</td>\n",
       "      <td>0.007393</td>\n",
       "      <td>CKA</td>\n",
       "      <td>Chikkaballapura</td>\n",
       "    </tr>\n",
       "    <tr>\n",
       "      <th>7</th>\n",
       "      <td>SHIVAMOGGA</td>\n",
       "      <td>384974.0</td>\n",
       "      <td>17722.015760</td>\n",
       "      <td>13305.677787</td>\n",
       "      <td>109617.0</td>\n",
       "      <td>0.313060</td>\n",
       "      <td>SMG</td>\n",
       "      <td>Shivamogga</td>\n",
       "    </tr>\n",
       "    <tr>\n",
       "      <th>8</th>\n",
       "      <td>TUMAKURU</td>\n",
       "      <td>26042.0</td>\n",
       "      <td>1069.562417</td>\n",
       "      <td>114.924409</td>\n",
       "      <td>10379.0</td>\n",
       "      <td>0.028037</td>\n",
       "      <td>TKR</td>\n",
       "      <td>Tumakuru</td>\n",
       "    </tr>\n",
       "    <tr>\n",
       "      <th>9</th>\n",
       "      <td>CHIKKAMAGALURU</td>\n",
       "      <td>110533.0</td>\n",
       "      <td>14694.297645</td>\n",
       "      <td>1344.644186</td>\n",
       "      <td>33036.0</td>\n",
       "      <td>0.216529</td>\n",
       "      <td>CMG</td>\n",
       "      <td>Chikkamagaluru</td>\n",
       "    </tr>\n",
       "    <tr>\n",
       "      <th>10</th>\n",
       "      <td>DAKSHINA KANNADA</td>\n",
       "      <td>132588.0</td>\n",
       "      <td>8898.497787</td>\n",
       "      <td>0.000000</td>\n",
       "      <td>48689.0</td>\n",
       "      <td>0.478723</td>\n",
       "      <td>DKA</td>\n",
       "      <td>Dakshina Kannada</td>\n",
       "    </tr>\n",
       "    <tr>\n",
       "      <th>11</th>\n",
       "      <td>UDUPI</td>\n",
       "      <td>138156.0</td>\n",
       "      <td>2921.382123</td>\n",
       "      <td>0.000000</td>\n",
       "      <td>49608.0</td>\n",
       "      <td>0.475176</td>\n",
       "      <td>UPI</td>\n",
       "      <td>Udupi</td>\n",
       "    </tr>\n",
       "    <tr>\n",
       "      <th>12</th>\n",
       "      <td>HASSAN</td>\n",
       "      <td>143705.0</td>\n",
       "      <td>7332.607213</td>\n",
       "      <td>3867.912533</td>\n",
       "      <td>42818.0</td>\n",
       "      <td>0.107153</td>\n",
       "      <td>HSN</td>\n",
       "      <td>Hassan</td>\n",
       "    </tr>\n",
       "    <tr>\n",
       "      <th>13</th>\n",
       "      <td>KODAGU</td>\n",
       "      <td>86303.0</td>\n",
       "      <td>16946.721245</td>\n",
       "      <td>507.404211</td>\n",
       "      <td>28336.0</td>\n",
       "      <td>0.413870</td>\n",
       "      <td>KDG</td>\n",
       "      <td>Kodagu</td>\n",
       "    </tr>\n",
       "    <tr>\n",
       "      <th>14</th>\n",
       "      <td>MANDYA</td>\n",
       "      <td>246543.0</td>\n",
       "      <td>18424.665100</td>\n",
       "      <td>27586.796690</td>\n",
       "      <td>58487.0</td>\n",
       "      <td>0.304248</td>\n",
       "      <td>MDY</td>\n",
       "      <td>Mandya</td>\n",
       "    </tr>\n",
       "    <tr>\n",
       "      <th>15</th>\n",
       "      <td>MYSURU</td>\n",
       "      <td>354227.0</td>\n",
       "      <td>17937.675249</td>\n",
       "      <td>26552.468392</td>\n",
       "      <td>93521.0</td>\n",
       "      <td>0.289252</td>\n",
       "      <td>MYS</td>\n",
       "      <td>Mysuru</td>\n",
       "    </tr>\n",
       "    <tr>\n",
       "      <th>16</th>\n",
       "      <td>CHAMARAJANAGAR</td>\n",
       "      <td>45856.0</td>\n",
       "      <td>2260.361257</td>\n",
       "      <td>1997.983483</td>\n",
       "      <td>13881.0</td>\n",
       "      <td>0.094961</td>\n",
       "      <td>CNR</td>\n",
       "      <td>Chamarajanagara</td>\n",
       "    </tr>\n",
       "    <tr>\n",
       "      <th>17</th>\n",
       "      <td>BELAGAVI</td>\n",
       "      <td>177552.0</td>\n",
       "      <td>14865.464724</td>\n",
       "      <td>4947.776905</td>\n",
       "      <td>61230.0</td>\n",
       "      <td>0.082590</td>\n",
       "      <td>BLG</td>\n",
       "      <td>Belagavi</td>\n",
       "    </tr>\n",
       "    <tr>\n",
       "      <th>18</th>\n",
       "      <td>VIJAYAPURA</td>\n",
       "      <td>170.0</td>\n",
       "      <td>7.826782</td>\n",
       "      <td>12.617706</td>\n",
       "      <td>51.0</td>\n",
       "      <td>0.000144</td>\n",
       "      <td>VJP</td>\n",
       "      <td>Vijayapura</td>\n",
       "    </tr>\n",
       "    <tr>\n",
       "      <th>19</th>\n",
       "      <td>BAGALKOT</td>\n",
       "      <td>85.0</td>\n",
       "      <td>7.747128</td>\n",
       "      <td>0.185064</td>\n",
       "      <td>32.0</td>\n",
       "      <td>0.000091</td>\n",
       "      <td>BKT</td>\n",
       "      <td>Bagalkote</td>\n",
       "    </tr>\n",
       "    <tr>\n",
       "      <th>20</th>\n",
       "      <td>DHARAWAD</td>\n",
       "      <td>33989.0</td>\n",
       "      <td>2417.985953</td>\n",
       "      <td>1020.662913</td>\n",
       "      <td>23909.0</td>\n",
       "      <td>0.064685</td>\n",
       "      <td>DWD</td>\n",
       "      <td>Dharwad</td>\n",
       "    </tr>\n",
       "    <tr>\n",
       "      <th>21</th>\n",
       "      <td>GADAG</td>\n",
       "      <td>7258.0</td>\n",
       "      <td>293.056198</td>\n",
       "      <td>384.409670</td>\n",
       "      <td>1706.0</td>\n",
       "      <td>0.012588</td>\n",
       "      <td>GDG</td>\n",
       "      <td>Gadag</td>\n",
       "    </tr>\n",
       "    <tr>\n",
       "      <th>22</th>\n",
       "      <td>HAVERI</td>\n",
       "      <td>125422.0</td>\n",
       "      <td>6591.662844</td>\n",
       "      <td>520.631945</td>\n",
       "      <td>44968.0</td>\n",
       "      <td>0.101409</td>\n",
       "      <td>HVR</td>\n",
       "      <td>Haveri</td>\n",
       "    </tr>\n",
       "    <tr>\n",
       "      <th>23</th>\n",
       "      <td>UTTARA KANNADA</td>\n",
       "      <td>152981.0</td>\n",
       "      <td>6513.612078</td>\n",
       "      <td>0.000000</td>\n",
       "      <td>66147.0</td>\n",
       "      <td>0.425282</td>\n",
       "      <td>UTK</td>\n",
       "      <td>Uttara Kannada</td>\n",
       "    </tr>\n",
       "    <tr>\n",
       "      <th>24</th>\n",
       "      <td>BALLARI</td>\n",
       "      <td>206115.5</td>\n",
       "      <td>16648.820502</td>\n",
       "      <td>20953.141802</td>\n",
       "      <td>46832.5</td>\n",
       "      <td>0.269990</td>\n",
       "      <td>BLL</td>\n",
       "      <td>Ballari</td>\n",
       "    </tr>\n",
       "    <tr>\n",
       "      <th>25</th>\n",
       "      <td>BIDAR</td>\n",
       "      <td>2036.0</td>\n",
       "      <td>181.920490</td>\n",
       "      <td>0.000000</td>\n",
       "      <td>1548.0</td>\n",
       "      <td>0.007378</td>\n",
       "      <td>BDR</td>\n",
       "      <td>Bidar</td>\n",
       "    </tr>\n",
       "    <tr>\n",
       "      <th>26</th>\n",
       "      <td>KALABURAGI</td>\n",
       "      <td>7888.0</td>\n",
       "      <td>383.098388</td>\n",
       "      <td>148.020607</td>\n",
       "      <td>4199.0</td>\n",
       "      <td>0.007095</td>\n",
       "      <td>KLB</td>\n",
       "      <td>Kalaburagi</td>\n",
       "    </tr>\n",
       "    <tr>\n",
       "      <th>27</th>\n",
       "      <td>YADGIRI</td>\n",
       "      <td>224659.0</td>\n",
       "      <td>30981.381245</td>\n",
       "      <td>30897.307860</td>\n",
       "      <td>49358.0</td>\n",
       "      <td>0.339006</td>\n",
       "      <td>YDR</td>\n",
       "      <td>Yadgir</td>\n",
       "    </tr>\n",
       "    <tr>\n",
       "      <th>28</th>\n",
       "      <td>RAICHUR</td>\n",
       "      <td>492342.0</td>\n",
       "      <td>41912.073068</td>\n",
       "      <td>39866.073203</td>\n",
       "      <td>115246.0</td>\n",
       "      <td>0.357505</td>\n",
       "      <td>RCR</td>\n",
       "      <td>Raichur</td>\n",
       "    </tr>\n",
       "    <tr>\n",
       "      <th>29</th>\n",
       "      <td>KOPPAL</td>\n",
       "      <td>243505.0</td>\n",
       "      <td>14075.849458</td>\n",
       "      <td>7221.642581</td>\n",
       "      <td>50753.0</td>\n",
       "      <td>0.191373</td>\n",
       "      <td>KPL</td>\n",
       "      <td>Koppal</td>\n",
       "    </tr>\n",
       "    <tr>\n",
       "      <th>30</th>\n",
       "      <td>VIJAYANAGARA</td>\n",
       "      <td>206115.5</td>\n",
       "      <td>16648.820502</td>\n",
       "      <td>20953.141802</td>\n",
       "      <td>46832.5</td>\n",
       "      <td>0.269990</td>\n",
       "      <td>VNG</td>\n",
       "      <td>Vijayanagara</td>\n",
       "    </tr>\n",
       "  </tbody>\n",
       "</table>\n",
       "</div>"
      ],
      "text/plain": [
       "            District  Rice_Production      TotalNPK  \\\n",
       "0          BENGALURU           3376.0    513.822990   \n",
       "1       BENGALURU(R)           2354.0    167.835355   \n",
       "2         RAMANAGARA          12128.0    257.908893   \n",
       "3        CHITRADURGA           4566.0    183.032957   \n",
       "4         DAVANAGERE         489505.0  21197.529554   \n",
       "5              KOLAR            864.0    108.445953   \n",
       "6    CHIKKABALLAPURA           2698.0    209.640893   \n",
       "7         SHIVAMOGGA         384974.0  17722.015760   \n",
       "8           TUMAKURU          26042.0   1069.562417   \n",
       "9     CHIKKAMAGALURU         110533.0  14694.297645   \n",
       "10  DAKSHINA KANNADA         132588.0   8898.497787   \n",
       "11             UDUPI         138156.0   2921.382123   \n",
       "12            HASSAN         143705.0   7332.607213   \n",
       "13            KODAGU          86303.0  16946.721245   \n",
       "14            MANDYA         246543.0  18424.665100   \n",
       "15            MYSURU         354227.0  17937.675249   \n",
       "16    CHAMARAJANAGAR          45856.0   2260.361257   \n",
       "17          BELAGAVI         177552.0  14865.464724   \n",
       "18        VIJAYAPURA            170.0      7.826782   \n",
       "19          BAGALKOT             85.0      7.747128   \n",
       "20          DHARAWAD          33989.0   2417.985953   \n",
       "21             GADAG           7258.0    293.056198   \n",
       "22            HAVERI         125422.0   6591.662844   \n",
       "23    UTTARA KANNADA         152981.0   6513.612078   \n",
       "24           BALLARI         206115.5  16648.820502   \n",
       "25             BIDAR           2036.0    181.920490   \n",
       "26        KALABURAGI           7888.0    383.098388   \n",
       "27           YADGIRI         224659.0  30981.381245   \n",
       "28           RAICHUR         492342.0  41912.073068   \n",
       "29            KOPPAL         243505.0  14075.849458   \n",
       "30      VIJAYANAGARA         206115.5  16648.820502   \n",
       "\n",
       "    NetAreaIrrigated_Canals_NetAreaIrrigated  AreaUnderCereals_Paddy  \\\n",
       "0                                   0.000000                   782.0   \n",
       "1                                   0.000000                   736.0   \n",
       "2                                 272.509463                  4468.0   \n",
       "3                                   9.283245                  1297.0   \n",
       "4                               18037.386429                 98259.0   \n",
       "5                                   0.000000                   395.0   \n",
       "6                                   0.000000                  1333.0   \n",
       "7                               13305.677787                109617.0   \n",
       "8                                 114.924409                 10379.0   \n",
       "9                                1344.644186                 33036.0   \n",
       "10                                  0.000000                 48689.0   \n",
       "11                                  0.000000                 49608.0   \n",
       "12                               3867.912533                 42818.0   \n",
       "13                                507.404211                 28336.0   \n",
       "14                              27586.796690                 58487.0   \n",
       "15                              26552.468392                 93521.0   \n",
       "16                               1997.983483                 13881.0   \n",
       "17                               4947.776905                 61230.0   \n",
       "18                                 12.617706                    51.0   \n",
       "19                                  0.185064                    32.0   \n",
       "20                               1020.662913                 23909.0   \n",
       "21                                384.409670                  1706.0   \n",
       "22                                520.631945                 44968.0   \n",
       "23                                  0.000000                 66147.0   \n",
       "24                              20953.141802                 46832.5   \n",
       "25                                  0.000000                  1548.0   \n",
       "26                                148.020607                  4199.0   \n",
       "27                              30897.307860                 49358.0   \n",
       "28                              39866.073203                115246.0   \n",
       "29                               7221.642581                 50753.0   \n",
       "30                              20953.141802                 46832.5   \n",
       "\n",
       "    Rice_Ratio Abbreviation      KDG_District  \n",
       "0     0.022043          BLR   Bengaluru Urban  \n",
       "1     0.008715       BLR(R)   Bengaluru Rural  \n",
       "2     0.034517          RGA        Ramanagara  \n",
       "3     0.005101          CDA       Chitradurga  \n",
       "4     0.212733          DVG        Davanagere  \n",
       "5     0.004887          KLR             Kolar  \n",
       "6     0.007393          CKA   Chikkaballapura  \n",
       "7     0.313060          SMG        Shivamogga  \n",
       "8     0.028037          TKR          Tumakuru  \n",
       "9     0.216529          CMG    Chikkamagaluru  \n",
       "10    0.478723          DKA  Dakshina Kannada  \n",
       "11    0.475176          UPI             Udupi  \n",
       "12    0.107153          HSN            Hassan  \n",
       "13    0.413870          KDG            Kodagu  \n",
       "14    0.304248          MDY            Mandya  \n",
       "15    0.289252          MYS            Mysuru  \n",
       "16    0.094961          CNR   Chamarajanagara  \n",
       "17    0.082590          BLG          Belagavi  \n",
       "18    0.000144          VJP        Vijayapura  \n",
       "19    0.000091          BKT         Bagalkote  \n",
       "20    0.064685          DWD           Dharwad  \n",
       "21    0.012588          GDG             Gadag  \n",
       "22    0.101409          HVR            Haveri  \n",
       "23    0.425282          UTK    Uttara Kannada  \n",
       "24    0.269990          BLL           Ballari  \n",
       "25    0.007378          BDR             Bidar  \n",
       "26    0.007095          KLB        Kalaburagi  \n",
       "27    0.339006          YDR            Yadgir  \n",
       "28    0.357505          RCR           Raichur  \n",
       "29    0.191373          KPL            Koppal  \n",
       "30    0.269990          VNG      Vijayanagara  "
      ]
     },
     "execution_count": 11,
     "metadata": {},
     "output_type": "execute_result"
    }
   ],
   "source": [
    "Working_Directory"
   ]
  },
  {
   "cell_type": "code",
   "execution_count": 12,
   "metadata": {},
   "outputs": [
    {
     "name": "stdout",
     "output_type": "stream",
     "text": [
      "0.6372413252833669\n"
     ]
    }
   ],
   "source": [
    "labels = [\"PArea\", \"NPK\",\"Canal\",]\n",
    "coef_dict = dict(zip(labels, coef))\n",
    "def get_slope(label):\n",
    "    return coef_dict.get(label, \"Label not found\")\n",
    "print(get_slope(\"NPK\"))"
   ]
  },
  {
   "cell_type": "code",
   "execution_count": 13,
   "metadata": {},
   "outputs": [
    {
     "data": {
      "text/html": [
       "<div>\n",
       "<style scoped>\n",
       "    .dataframe tbody tr th:only-of-type {\n",
       "        vertical-align: middle;\n",
       "    }\n",
       "\n",
       "    .dataframe tbody tr th {\n",
       "        vertical-align: top;\n",
       "    }\n",
       "\n",
       "    .dataframe thead th {\n",
       "        text-align: right;\n",
       "    }\n",
       "</style>\n",
       "<table border=\"1\" class=\"dataframe\">\n",
       "  <thead>\n",
       "    <tr style=\"text-align: right;\">\n",
       "      <th></th>\n",
       "      <th>District</th>\n",
       "      <th>Rice_Production</th>\n",
       "      <th>TotalNPK</th>\n",
       "      <th>NetAreaIrrigated_Canals_NetAreaIrrigated</th>\n",
       "      <th>AreaUnderCereals_Paddy</th>\n",
       "      <th>Rice_Ratio</th>\n",
       "      <th>Abbreviation</th>\n",
       "      <th>KDG_District</th>\n",
       "    </tr>\n",
       "  </thead>\n",
       "  <tbody>\n",
       "    <tr>\n",
       "      <th>0</th>\n",
       "      <td>BENGALURU</td>\n",
       "      <td>3376.0</td>\n",
       "      <td>513.822990</td>\n",
       "      <td>0.000000</td>\n",
       "      <td>782.0</td>\n",
       "      <td>0.022043</td>\n",
       "      <td>BLR</td>\n",
       "      <td>Bengaluru Urban</td>\n",
       "    </tr>\n",
       "    <tr>\n",
       "      <th>1</th>\n",
       "      <td>BENGALURU(R)</td>\n",
       "      <td>2354.0</td>\n",
       "      <td>167.835355</td>\n",
       "      <td>0.000000</td>\n",
       "      <td>736.0</td>\n",
       "      <td>0.008715</td>\n",
       "      <td>BLR(R)</td>\n",
       "      <td>Bengaluru Rural</td>\n",
       "    </tr>\n",
       "    <tr>\n",
       "      <th>2</th>\n",
       "      <td>RAMANAGARA</td>\n",
       "      <td>12128.0</td>\n",
       "      <td>257.908893</td>\n",
       "      <td>272.509463</td>\n",
       "      <td>4468.0</td>\n",
       "      <td>0.034517</td>\n",
       "      <td>RGA</td>\n",
       "      <td>Ramanagara</td>\n",
       "    </tr>\n",
       "    <tr>\n",
       "      <th>3</th>\n",
       "      <td>CHITRADURGA</td>\n",
       "      <td>4566.0</td>\n",
       "      <td>183.032957</td>\n",
       "      <td>9.283245</td>\n",
       "      <td>1297.0</td>\n",
       "      <td>0.005101</td>\n",
       "      <td>CDA</td>\n",
       "      <td>Chitradurga</td>\n",
       "    </tr>\n",
       "    <tr>\n",
       "      <th>4</th>\n",
       "      <td>DAVANAGERE</td>\n",
       "      <td>489505.0</td>\n",
       "      <td>21197.529554</td>\n",
       "      <td>18037.386429</td>\n",
       "      <td>98259.0</td>\n",
       "      <td>0.212733</td>\n",
       "      <td>DVG</td>\n",
       "      <td>Davanagere</td>\n",
       "    </tr>\n",
       "    <tr>\n",
       "      <th>5</th>\n",
       "      <td>KOLAR</td>\n",
       "      <td>864.0</td>\n",
       "      <td>108.445953</td>\n",
       "      <td>0.000000</td>\n",
       "      <td>395.0</td>\n",
       "      <td>0.004887</td>\n",
       "      <td>KLR</td>\n",
       "      <td>Kolar</td>\n",
       "    </tr>\n",
       "    <tr>\n",
       "      <th>6</th>\n",
       "      <td>CHIKKABALLAPURA</td>\n",
       "      <td>2698.0</td>\n",
       "      <td>209.640893</td>\n",
       "      <td>0.000000</td>\n",
       "      <td>1333.0</td>\n",
       "      <td>0.007393</td>\n",
       "      <td>CKA</td>\n",
       "      <td>Chikkaballapura</td>\n",
       "    </tr>\n",
       "    <tr>\n",
       "      <th>7</th>\n",
       "      <td>SHIVAMOGGA</td>\n",
       "      <td>384974.0</td>\n",
       "      <td>17722.015760</td>\n",
       "      <td>13305.677787</td>\n",
       "      <td>109617.0</td>\n",
       "      <td>0.313060</td>\n",
       "      <td>SMG</td>\n",
       "      <td>Shivamogga</td>\n",
       "    </tr>\n",
       "    <tr>\n",
       "      <th>8</th>\n",
       "      <td>TUMAKURU</td>\n",
       "      <td>26042.0</td>\n",
       "      <td>1069.562417</td>\n",
       "      <td>114.924409</td>\n",
       "      <td>10379.0</td>\n",
       "      <td>0.028037</td>\n",
       "      <td>TKR</td>\n",
       "      <td>Tumakuru</td>\n",
       "    </tr>\n",
       "    <tr>\n",
       "      <th>9</th>\n",
       "      <td>CHIKKAMAGALURU</td>\n",
       "      <td>110533.0</td>\n",
       "      <td>14694.297645</td>\n",
       "      <td>1344.644186</td>\n",
       "      <td>33036.0</td>\n",
       "      <td>0.216529</td>\n",
       "      <td>CMG</td>\n",
       "      <td>Chikkamagaluru</td>\n",
       "    </tr>\n",
       "    <tr>\n",
       "      <th>10</th>\n",
       "      <td>DAKSHINA KANNADA</td>\n",
       "      <td>132588.0</td>\n",
       "      <td>8898.497787</td>\n",
       "      <td>0.000000</td>\n",
       "      <td>48689.0</td>\n",
       "      <td>0.478723</td>\n",
       "      <td>DKA</td>\n",
       "      <td>Dakshina Kannada</td>\n",
       "    </tr>\n",
       "    <tr>\n",
       "      <th>11</th>\n",
       "      <td>UDUPI</td>\n",
       "      <td>138156.0</td>\n",
       "      <td>2921.382123</td>\n",
       "      <td>0.000000</td>\n",
       "      <td>49608.0</td>\n",
       "      <td>0.475176</td>\n",
       "      <td>UPI</td>\n",
       "      <td>Udupi</td>\n",
       "    </tr>\n",
       "    <tr>\n",
       "      <th>12</th>\n",
       "      <td>HASSAN</td>\n",
       "      <td>143705.0</td>\n",
       "      <td>7332.607213</td>\n",
       "      <td>3867.912533</td>\n",
       "      <td>42818.0</td>\n",
       "      <td>0.107153</td>\n",
       "      <td>HSN</td>\n",
       "      <td>Hassan</td>\n",
       "    </tr>\n",
       "    <tr>\n",
       "      <th>13</th>\n",
       "      <td>KODAGU</td>\n",
       "      <td>86303.0</td>\n",
       "      <td>16946.721245</td>\n",
       "      <td>507.404211</td>\n",
       "      <td>28336.0</td>\n",
       "      <td>0.413870</td>\n",
       "      <td>KDG</td>\n",
       "      <td>Kodagu</td>\n",
       "    </tr>\n",
       "    <tr>\n",
       "      <th>14</th>\n",
       "      <td>MANDYA</td>\n",
       "      <td>246543.0</td>\n",
       "      <td>18424.665100</td>\n",
       "      <td>27586.796690</td>\n",
       "      <td>58487.0</td>\n",
       "      <td>0.304248</td>\n",
       "      <td>MDY</td>\n",
       "      <td>Mandya</td>\n",
       "    </tr>\n",
       "    <tr>\n",
       "      <th>15</th>\n",
       "      <td>MYSURU</td>\n",
       "      <td>354227.0</td>\n",
       "      <td>17937.675249</td>\n",
       "      <td>26552.468392</td>\n",
       "      <td>93521.0</td>\n",
       "      <td>0.289252</td>\n",
       "      <td>MYS</td>\n",
       "      <td>Mysuru</td>\n",
       "    </tr>\n",
       "    <tr>\n",
       "      <th>16</th>\n",
       "      <td>CHAMARAJANAGAR</td>\n",
       "      <td>45856.0</td>\n",
       "      <td>2260.361257</td>\n",
       "      <td>1997.983483</td>\n",
       "      <td>13881.0</td>\n",
       "      <td>0.094961</td>\n",
       "      <td>CNR</td>\n",
       "      <td>Chamarajanagara</td>\n",
       "    </tr>\n",
       "    <tr>\n",
       "      <th>17</th>\n",
       "      <td>BELAGAVI</td>\n",
       "      <td>177552.0</td>\n",
       "      <td>14865.464724</td>\n",
       "      <td>4947.776905</td>\n",
       "      <td>61230.0</td>\n",
       "      <td>0.082590</td>\n",
       "      <td>BLG</td>\n",
       "      <td>Belagavi</td>\n",
       "    </tr>\n",
       "    <tr>\n",
       "      <th>18</th>\n",
       "      <td>VIJAYAPURA</td>\n",
       "      <td>170.0</td>\n",
       "      <td>7.826782</td>\n",
       "      <td>12.617706</td>\n",
       "      <td>51.0</td>\n",
       "      <td>0.000144</td>\n",
       "      <td>VJP</td>\n",
       "      <td>Vijayapura</td>\n",
       "    </tr>\n",
       "    <tr>\n",
       "      <th>19</th>\n",
       "      <td>BAGALKOT</td>\n",
       "      <td>85.0</td>\n",
       "      <td>7.747128</td>\n",
       "      <td>0.185064</td>\n",
       "      <td>32.0</td>\n",
       "      <td>0.000091</td>\n",
       "      <td>BKT</td>\n",
       "      <td>Bagalkote</td>\n",
       "    </tr>\n",
       "    <tr>\n",
       "      <th>20</th>\n",
       "      <td>DHARAWAD</td>\n",
       "      <td>33989.0</td>\n",
       "      <td>2417.985953</td>\n",
       "      <td>1020.662913</td>\n",
       "      <td>23909.0</td>\n",
       "      <td>0.064685</td>\n",
       "      <td>DWD</td>\n",
       "      <td>Dharwad</td>\n",
       "    </tr>\n",
       "    <tr>\n",
       "      <th>21</th>\n",
       "      <td>GADAG</td>\n",
       "      <td>7258.0</td>\n",
       "      <td>293.056198</td>\n",
       "      <td>384.409670</td>\n",
       "      <td>1706.0</td>\n",
       "      <td>0.012588</td>\n",
       "      <td>GDG</td>\n",
       "      <td>Gadag</td>\n",
       "    </tr>\n",
       "    <tr>\n",
       "      <th>22</th>\n",
       "      <td>HAVERI</td>\n",
       "      <td>125422.0</td>\n",
       "      <td>6591.662844</td>\n",
       "      <td>520.631945</td>\n",
       "      <td>44968.0</td>\n",
       "      <td>0.101409</td>\n",
       "      <td>HVR</td>\n",
       "      <td>Haveri</td>\n",
       "    </tr>\n",
       "    <tr>\n",
       "      <th>23</th>\n",
       "      <td>UTTARA KANNADA</td>\n",
       "      <td>152981.0</td>\n",
       "      <td>6513.612078</td>\n",
       "      <td>0.000000</td>\n",
       "      <td>66147.0</td>\n",
       "      <td>0.425282</td>\n",
       "      <td>UTK</td>\n",
       "      <td>Uttara Kannada</td>\n",
       "    </tr>\n",
       "    <tr>\n",
       "      <th>24</th>\n",
       "      <td>BALLARI</td>\n",
       "      <td>206115.5</td>\n",
       "      <td>16648.820502</td>\n",
       "      <td>20953.141802</td>\n",
       "      <td>46832.5</td>\n",
       "      <td>0.269990</td>\n",
       "      <td>BLL</td>\n",
       "      <td>Ballari</td>\n",
       "    </tr>\n",
       "    <tr>\n",
       "      <th>25</th>\n",
       "      <td>BIDAR</td>\n",
       "      <td>2036.0</td>\n",
       "      <td>181.920490</td>\n",
       "      <td>0.000000</td>\n",
       "      <td>1548.0</td>\n",
       "      <td>0.007378</td>\n",
       "      <td>BDR</td>\n",
       "      <td>Bidar</td>\n",
       "    </tr>\n",
       "    <tr>\n",
       "      <th>26</th>\n",
       "      <td>KALABURAGI</td>\n",
       "      <td>7888.0</td>\n",
       "      <td>383.098388</td>\n",
       "      <td>148.020607</td>\n",
       "      <td>4199.0</td>\n",
       "      <td>0.007095</td>\n",
       "      <td>KLB</td>\n",
       "      <td>Kalaburagi</td>\n",
       "    </tr>\n",
       "    <tr>\n",
       "      <th>27</th>\n",
       "      <td>YADGIRI</td>\n",
       "      <td>224659.0</td>\n",
       "      <td>30981.381245</td>\n",
       "      <td>30897.307860</td>\n",
       "      <td>49358.0</td>\n",
       "      <td>0.339006</td>\n",
       "      <td>YDR</td>\n",
       "      <td>Yadgir</td>\n",
       "    </tr>\n",
       "    <tr>\n",
       "      <th>28</th>\n",
       "      <td>RAICHUR</td>\n",
       "      <td>492342.0</td>\n",
       "      <td>41912.073068</td>\n",
       "      <td>39866.073203</td>\n",
       "      <td>115246.0</td>\n",
       "      <td>0.357505</td>\n",
       "      <td>RCR</td>\n",
       "      <td>Raichur</td>\n",
       "    </tr>\n",
       "    <tr>\n",
       "      <th>29</th>\n",
       "      <td>KOPPAL</td>\n",
       "      <td>243505.0</td>\n",
       "      <td>14075.849458</td>\n",
       "      <td>7221.642581</td>\n",
       "      <td>50753.0</td>\n",
       "      <td>0.191373</td>\n",
       "      <td>KPL</td>\n",
       "      <td>Koppal</td>\n",
       "    </tr>\n",
       "    <tr>\n",
       "      <th>30</th>\n",
       "      <td>VIJAYANAGARA</td>\n",
       "      <td>206115.5</td>\n",
       "      <td>16648.820502</td>\n",
       "      <td>20953.141802</td>\n",
       "      <td>46832.5</td>\n",
       "      <td>0.269990</td>\n",
       "      <td>VNG</td>\n",
       "      <td>Vijayanagara</td>\n",
       "    </tr>\n",
       "  </tbody>\n",
       "</table>\n",
       "</div>"
      ],
      "text/plain": [
       "            District  Rice_Production      TotalNPK  \\\n",
       "0          BENGALURU           3376.0    513.822990   \n",
       "1       BENGALURU(R)           2354.0    167.835355   \n",
       "2         RAMANAGARA          12128.0    257.908893   \n",
       "3        CHITRADURGA           4566.0    183.032957   \n",
       "4         DAVANAGERE         489505.0  21197.529554   \n",
       "5              KOLAR            864.0    108.445953   \n",
       "6    CHIKKABALLAPURA           2698.0    209.640893   \n",
       "7         SHIVAMOGGA         384974.0  17722.015760   \n",
       "8           TUMAKURU          26042.0   1069.562417   \n",
       "9     CHIKKAMAGALURU         110533.0  14694.297645   \n",
       "10  DAKSHINA KANNADA         132588.0   8898.497787   \n",
       "11             UDUPI         138156.0   2921.382123   \n",
       "12            HASSAN         143705.0   7332.607213   \n",
       "13            KODAGU          86303.0  16946.721245   \n",
       "14            MANDYA         246543.0  18424.665100   \n",
       "15            MYSURU         354227.0  17937.675249   \n",
       "16    CHAMARAJANAGAR          45856.0   2260.361257   \n",
       "17          BELAGAVI         177552.0  14865.464724   \n",
       "18        VIJAYAPURA            170.0      7.826782   \n",
       "19          BAGALKOT             85.0      7.747128   \n",
       "20          DHARAWAD          33989.0   2417.985953   \n",
       "21             GADAG           7258.0    293.056198   \n",
       "22            HAVERI         125422.0   6591.662844   \n",
       "23    UTTARA KANNADA         152981.0   6513.612078   \n",
       "24           BALLARI         206115.5  16648.820502   \n",
       "25             BIDAR           2036.0    181.920490   \n",
       "26        KALABURAGI           7888.0    383.098388   \n",
       "27           YADGIRI         224659.0  30981.381245   \n",
       "28           RAICHUR         492342.0  41912.073068   \n",
       "29            KOPPAL         243505.0  14075.849458   \n",
       "30      VIJAYANAGARA         206115.5  16648.820502   \n",
       "\n",
       "    NetAreaIrrigated_Canals_NetAreaIrrigated  AreaUnderCereals_Paddy  \\\n",
       "0                                   0.000000                   782.0   \n",
       "1                                   0.000000                   736.0   \n",
       "2                                 272.509463                  4468.0   \n",
       "3                                   9.283245                  1297.0   \n",
       "4                               18037.386429                 98259.0   \n",
       "5                                   0.000000                   395.0   \n",
       "6                                   0.000000                  1333.0   \n",
       "7                               13305.677787                109617.0   \n",
       "8                                 114.924409                 10379.0   \n",
       "9                                1344.644186                 33036.0   \n",
       "10                                  0.000000                 48689.0   \n",
       "11                                  0.000000                 49608.0   \n",
       "12                               3867.912533                 42818.0   \n",
       "13                                507.404211                 28336.0   \n",
       "14                              27586.796690                 58487.0   \n",
       "15                              26552.468392                 93521.0   \n",
       "16                               1997.983483                 13881.0   \n",
       "17                               4947.776905                 61230.0   \n",
       "18                                 12.617706                    51.0   \n",
       "19                                  0.185064                    32.0   \n",
       "20                               1020.662913                 23909.0   \n",
       "21                                384.409670                  1706.0   \n",
       "22                                520.631945                 44968.0   \n",
       "23                                  0.000000                 66147.0   \n",
       "24                              20953.141802                 46832.5   \n",
       "25                                  0.000000                  1548.0   \n",
       "26                                148.020607                  4199.0   \n",
       "27                              30897.307860                 49358.0   \n",
       "28                              39866.073203                115246.0   \n",
       "29                               7221.642581                 50753.0   \n",
       "30                              20953.141802                 46832.5   \n",
       "\n",
       "    Rice_Ratio Abbreviation      KDG_District  \n",
       "0     0.022043          BLR   Bengaluru Urban  \n",
       "1     0.008715       BLR(R)   Bengaluru Rural  \n",
       "2     0.034517          RGA        Ramanagara  \n",
       "3     0.005101          CDA       Chitradurga  \n",
       "4     0.212733          DVG        Davanagere  \n",
       "5     0.004887          KLR             Kolar  \n",
       "6     0.007393          CKA   Chikkaballapura  \n",
       "7     0.313060          SMG        Shivamogga  \n",
       "8     0.028037          TKR          Tumakuru  \n",
       "9     0.216529          CMG    Chikkamagaluru  \n",
       "10    0.478723          DKA  Dakshina Kannada  \n",
       "11    0.475176          UPI             Udupi  \n",
       "12    0.107153          HSN            Hassan  \n",
       "13    0.413870          KDG            Kodagu  \n",
       "14    0.304248          MDY            Mandya  \n",
       "15    0.289252          MYS            Mysuru  \n",
       "16    0.094961          CNR   Chamarajanagara  \n",
       "17    0.082590          BLG          Belagavi  \n",
       "18    0.000144          VJP        Vijayapura  \n",
       "19    0.000091          BKT         Bagalkote  \n",
       "20    0.064685          DWD           Dharwad  \n",
       "21    0.012588          GDG             Gadag  \n",
       "22    0.101409          HVR            Haveri  \n",
       "23    0.425282          UTK    Uttara Kannada  \n",
       "24    0.269990          BLL           Ballari  \n",
       "25    0.007378          BDR             Bidar  \n",
       "26    0.007095          KLB        Kalaburagi  \n",
       "27    0.339006          YDR            Yadgir  \n",
       "28    0.357505          RCR           Raichur  \n",
       "29    0.191373          KPL            Koppal  \n",
       "30    0.269990          VNG      Vijayanagara  "
      ]
     },
     "execution_count": 13,
     "metadata": {},
     "output_type": "execute_result"
    }
   ],
   "source": [
    "Working_Directory"
   ]
  },
  {
   "cell_type": "code",
   "execution_count": 14,
   "metadata": {},
   "outputs": [
    {
     "data": {
      "image/png": "[encoded data removed]",
      "text/plain": [
       "<Figure size 1008x648 with 1 Axes>"
      ]
     },
     "metadata": {
      "needs_background": "light"
     },
     "output_type": "display_data"
    }
   ],
   "source": [
    "import matplotlib.pyplot as plt\n",
    "import numpy as np\n",
    "\n",
    "def calculate_and_visualize(perturbation, crop, Working_Directory, what,plot = True):\n",
    "    # Mapping of factor names based on 'what'\n",
    "    factor_mapping = {\n",
    "        'NPK': 'TotalNPK',\n",
    "        'PArea': 'AreaUnderCereals_Paddy',\n",
    "        'Canal': 'NetAreaIrrigated_Canals_NetAreaIrrigated'\n",
    "    }\n",
    "    \n",
    "    # Dynamically select the correct factor and slope column based on 'what'\n",
    "    factor_name = factor_mapping[what]\n",
    "    production_col = f'{crop}_Production'\n",
    "    slope = get_slope(what)\n",
    "\n",
    "    # Calculate the factor\n",
    "    factor = Working_Directory[factor_name]\n",
    "    \n",
    "    # Initialize an empty list for new values\n",
    "    New_values = []\n",
    "    \n",
    "    # Calculate new values based on the provided formula\n",
    "    for i in range(len(Working_Directory['District'])):\n",
    "        y_new = Working_Directory[production_col][i] + slope * (perturbation * factor[i] / 100)\n",
    "        New_values.append(int(y_new))\n",
    "    \n",
    "    # Add the new values to the DataFrame with a specific column name\n",
    "    Working_Directory[f'{crop[0].upper()} - {what} {perturbation}'] = New_values\n",
    "    Working_Directory['Change'] =  (New_values - Working_Directory[production_col])\n",
    "    Working_Directory['Percentage Change'] =  ((New_values - Working_Directory[production_col])/Working_Directory[production_col])*100\n",
    "    Working_Directory = Working_Directory.replace([np.inf, -np.inf], np.nan).dropna(subset=['Percentage Change'])\n",
    "    \n",
    "    # Visualization\n",
    "    if(plot == True):\n",
    "        plt.figure(figsize=(14, 9))\n",
    "        bars = plt.bar(Working_Directory['District'], \n",
    "                    Working_Directory['Percentage Change'])\n",
    "        \n",
    "        # Add value labels to the bars\n",
    "        for bar, value in zip(bars, Working_Directory['Percentage Change']):\n",
    "            plt.text(bar.get_x() + bar.get_width() / 2, \n",
    "                    bar.get_height(), \n",
    "                    f'{value:.1f}', \n",
    "                    ha='center', \n",
    "                    va='bottom', \n",
    "                    fontsize=10)\n",
    "        \n",
    "        plt.xlabel('District')\n",
    "        plt.ylabel(f'Percentage Change in {crop} Production')\n",
    "        plt.title(f'Percentage Change in {crop} Production Values when {what} increases by {perturbation}%')\n",
    "        plt.xticks(rotation=90)\n",
    "        plt.tight_layout()\n",
    "        plt.show()\n",
    "\n",
    "# Example usage:\n",
    "perturbation = 20\n",
    "what = 'NPK'  # Factor to be used\n",
    "crop = 'Rice'  # Or 'Maize'\n",
    "\n",
    "# Assuming Working_Directory is a DataFrame that has all necessary columns defined\n",
    "calculate_and_visualize(perturbation, crop, Working_Directory, what,plot = True)\n"
   ]
  },
  {
   "cell_type": "code",
   "execution_count": 15,
   "metadata": {},
   "outputs": [
    {
     "name": "stdout",
     "output_type": "stream",
     "text": [
      "    1   2   3   4   5   6   7   8   9   10  ...  22  23  24  25  26  27  28  \\\n",
      "1    0   1   1   0   0   0   0   0   0   0  ...   0   0   0   0   0   0   0   \n",
      "2    1   0   1   0   0   1   1   0   1   0  ...   0   0   0   0   0   0   0   \n",
      "3    1   1   0   0   0   0   0   0   1   0  ...   0   0   0   0   0   0   0   \n",
      "4    0   0   0   0   1   0   0   0   1   1  ...   0   0   0   1   0   0   0   \n",
      "5    0   0   0   1   0   0   0   1   0   1  ...   0   1   0   1   0   0   0   \n",
      "6    0   1   0   0   0   0   1   0   0   0  ...   0   0   0   0   0   0   0   \n",
      "7    0   1   0   0   0   1   0   0   1   0  ...   0   0   0   0   0   0   0   \n",
      "8    0   0   0   0   1   0   0   0   0   1  ...   0   1   1   0   0   0   0   \n",
      "9    0   1   1   1   0   0   1   0   0   1  ...   0   0   0   0   0   0   0   \n",
      "10   0   0   0   1   1   0   0   1   1   0  ...   0   0   0   0   0   0   0   \n",
      "11   0   0   0   0   0   0   0   0   0   1  ...   0   0   0   0   0   0   0   \n",
      "12   0   0   0   0   0   0   0   1   0   1  ...   0   0   1   0   0   0   0   \n",
      "13   0   0   0   0   0   0   0   0   1   1  ...   0   0   0   0   0   0   0   \n",
      "14   0   0   0   0   0   0   0   0   0   0  ...   0   0   0   0   0   0   0   \n",
      "15   0   0   1   0   0   0   0   0   1   0  ...   0   0   0   0   0   0   0   \n",
      "16   0   0   0   0   0   0   0   0   0   0  ...   0   0   0   0   0   0   0   \n",
      "17   0   0   1   0   0   0   0   0   0   0  ...   0   0   0   0   0   0   0   \n",
      "18   0   0   0   0   0   0   0   0   0   0  ...   1   0   1   0   0   0   0   \n",
      "19   0   0   0   0   0   0   0   0   0   0  ...   0   0   0   0   0   1   1   \n",
      "20   0   0   0   0   0   0   0   0   0   0  ...   1   0   0   0   0   0   0   \n",
      "21   0   0   0   0   0   0   0   0   0   0  ...   1   1   1   0   0   0   0   \n",
      "22   0   0   0   0   0   0   0   0   0   0  ...   0   1   0   1   0   0   0   \n",
      "23   0   0   0   0   1   0   0   1   0   0  ...   1   0   1   1   0   0   0   \n",
      "24   0   0   0   0   0   0   0   1   0   0  ...   0   1   0   0   0   0   0   \n",
      "25   0   0   0   1   1   0   0   0   0   0  ...   1   1   0   0   0   0   0   \n",
      "26   0   0   0   0   0   0   0   0   0   0  ...   0   0   0   0   0   1   0   \n",
      "27   0   0   0   0   0   0   0   0   0   0  ...   0   0   0   0   1   0   1   \n",
      "28   0   0   0   0   0   0   0   0   0   0  ...   0   0   0   0   0   1   0   \n",
      "29   0   0   0   0   0   0   0   0   0   0  ...   0   0   0   1   0   0   1   \n",
      "30   0   0   0   0   0   0   0   0   0   0  ...   1   0   0   1   0   0   0   \n",
      "31   0   0   0   1   1   0   0   0   0   0  ...   1   1   0   1   0   0   0   \n",
      "\n",
      "    29  30  31  \n",
      "1    0   0   0  \n",
      "2    0   0   0  \n",
      "3    0   0   0  \n",
      "4    0   0   1  \n",
      "5    0   0   1  \n",
      "6    0   0   0  \n",
      "7    0   0   0  \n",
      "8    0   0   0  \n",
      "9    0   0   0  \n",
      "10   0   0   0  \n",
      "11   0   0   0  \n",
      "12   0   0   0  \n",
      "13   0   0   0  \n",
      "14   0   0   0  \n",
      "15   0   0   0  \n",
      "16   0   0   0  \n",
      "17   0   0   0  \n",
      "18   0   0   0  \n",
      "19   1   0   0  \n",
      "20   1   1   0  \n",
      "21   0   0   0  \n",
      "22   0   1   1  \n",
      "23   0   0   1  \n",
      "24   0   0   0  \n",
      "25   1   1   1  \n",
      "26   0   0   0  \n",
      "27   0   0   0  \n",
      "28   1   0   0  \n",
      "29   0   1   0  \n",
      "30   1   0   1  \n",
      "31   0   1   0  \n",
      "\n",
      "[31 rows x 31 columns]\n"
     ]
    }
   ],
   "source": [
    "import pandas as pd\n",
    "import numpy as np\n",
    "\n",
    "adjacency_excel = pd.read_excel('Karnataka_District_Adjacency_File.xlsx')\n",
    "\n",
    "district_codes = sorted(set(adjacency_excel['District_Code']))\n",
    "\n",
    "n = len(district_codes)\n",
    "adj_matrix = np.zeros((n, n), dtype=int)\n",
    "\n",
    "code_to_index = {code: idx for idx, code in enumerate(district_codes)}\n",
    "\n",
    "for i in range(len(adjacency_excel)):\n",
    "    district_code = adjacency_excel['District_Code'][i]\n",
    "    neighbors = [int(num) for num in str(adjacency_excel['District_Neighbors'][i]).split(',') if num.strip().isdigit()]\n",
    "    \n",
    "    for neighbor in neighbors:\n",
    "        adj_matrix[code_to_index[district_code]][code_to_index[neighbor]] = 1\n",
    "        adj_matrix[code_to_index[neighbor]][code_to_index[district_code]] = 1  # Assuming adjacency is bidirectional\n",
    "\n",
    "adj_matrix_df = pd.DataFrame(adj_matrix, index=district_codes, columns=district_codes)\n",
    "\n",
    "print(adj_matrix_df)\n",
    "\n",
    "adj_matrix_np = adj_matrix_df.to_numpy()"
   ]
  },
  {
   "cell_type": "code",
   "execution_count": 16,
   "metadata": {},
   "outputs": [],
   "source": [
    "def normalize_list(lst):\n",
    "    min_val = min(lst)\n",
    "    max_val = max(lst)\n",
    "    normalized_lst = [(x - min_val) / (max_val - min_val) for x in lst]\n",
    "    return normalized_lst\n",
    "\n",
    "Name = 'R - NPK 20'\n",
    "Capability_list = normalize_list(Working_Directory[f'{Name}'])\n",
    "# Capability_list"
   ]
  },
  {
   "cell_type": "code",
   "execution_count": 17,
   "metadata": {},
   "outputs": [
    {
     "name": "stdout",
     "output_type": "stream",
     "text": [
      "Stress values: [0.00768994 0.01346669 0.10700566 0.41170503 0.63849198 0.00336115\n",
      " 0.01424041 0.36694199 0.09891433 0.15510484 0.02554974 0.11709151\n",
      " 0.03293723 0.24751439 0.2648005  0.45112521 0.32096324 0.28198345\n",
      " 0.36692551 0.37358149 0.16560858 0.27296762 0.17440384 0.03887074\n",
      " 0.03557404 0.01181074 0.13868491 0.1206007  0.7258944  0.12257003\n",
      " 0.05544469]\n",
      "Stability values: [0.99231006 0.98653331 0.89299434 0.58829497 0.36150802 0.99663885\n",
      " 0.98575959 0.63305801 0.90108567 0.84489516 0.97445026 0.88290849\n",
      " 0.96706277 0.75248561 0.7351995  0.54887479 0.67903676 0.71801655\n",
      " 0.63307449 0.62641851 0.83439142 0.72703238 0.82559616 0.96112926\n",
      " 0.96442596 0.98818926 0.86131509 0.8793993  0.2741056  0.87742997\n",
      " 0.94455531]\n"
     ]
    }
   ],
   "source": [
    "import numpy as np\n",
    "\n",
    "def calculate_avg_capability(capability, neighbors):\n",
    "    num_neighbors = len(neighbors)\n",
    "    if num_neighbors == 0:\n",
    "        return 0\n",
    "    sum_capabilities = sum(capability[n] for n in neighbors)\n",
    "    return sum_capabilities / num_neighbors\n",
    "\n",
    "def calculate_stress_stability(capability, adjacency_matrix):\n",
    "    n = len(capability)\n",
    "    stress = np.zeros(n)\n",
    "    stability = np.zeros(n)\n",
    "    \n",
    "    for i in range(n):\n",
    "        neighbors = [j for j in range(n) if adjacency_matrix[i][j] == 1 and i != j]\n",
    "        if len(neighbors) > 0:\n",
    "            avg_capability = calculate_avg_capability(capability, neighbors)\n",
    "            stress[i] = np.linalg.norm(avg_capability - capability[i])\n",
    "            stability[i] = 1 - stress[i]\n",
    "        else:\n",
    "            stress[i] = 0  # If no neighbors, stress is zero\n",
    "            stability[i] = 1\n",
    "        \n",
    "    return stress, stability\n",
    "\n",
    "Name = 'R - NPK 20'\n",
    "\n",
    "Capability_list = normalize_list(Working_Directory[f'{Name}'])\n",
    "stress, stability = calculate_stress_stability(Capability_list, adj_matrix_np)\n",
    "\n",
    "print(\"Stress values:\", stress)\n",
    "print(\"Stability values:\", stability)"
   ]
  },
  {
   "cell_type": "code",
   "execution_count": 18,
   "metadata": {},
   "outputs": [],
   "source": [
    "# Combined calculation function\n",
    "def calculate_metrics(Working_Directory, crop, perturbation, what):\n",
    "    # Normalize the capability list\n",
    "    capability_name = f'{crop[0].upper()} - {what} {perturbation}'\n",
    "    Capability_list = normalize_list(Working_Directory[capability_name])\n",
    "    \n",
    "    def calculate_avg_capability(capability, neighbors):\n",
    "        num_neighbors = len(neighbors)\n",
    "        if num_neighbors == 0:\n",
    "            return 0\n",
    "        return sum(capability[n] for n in neighbors) / num_neighbors\n",
    "\n",
    "    # Calculate stress and stability\n",
    "    stress, stability = calculate_stress_stability(Capability_list, adj_matrix_np)\n",
    "    \n",
    "    # Calculate the impact as percentage change\n",
    "    original_production = Working_Directory[f'{crop}_Production']\n",
    "    new_production = Working_Directory[capability_name]\n",
    "    impact = ((new_production - original_production) / original_production) * 100\n",
    "\n",
    "    # Column names\n",
    "    stability_column_name = f'Stability_{crop[0].upper()}_{what}_{perturbation}'\n",
    "    stress_column_name = f'Stress_{crop[0].upper()}_{what}_{perturbation}'\n",
    "    impact_column_name = f'Impact_{crop[0].upper()}_{what}_{perturbation}'\n",
    "\n",
    "    return stability, stress, impact, stability_column_name, stress_column_name, impact_column_name"
   ]
  },
  {
   "cell_type": "code",
   "execution_count": 19,
   "metadata": {},
   "outputs": [],
   "source": [
    "# Impact calculation function\n",
    "def calculate_impact(Working_Directory, crop, perturbation, what):\n",
    "    # Normalize the capability list\n",
    "    capability_name = f'{crop[0].upper()} - {what} {perturbation}'\n",
    "\n",
    "    # Calculate the impact as percentage change\n",
    "    original_production = Working_Directory[f'{crop}_Production']\n",
    "    new_production = Working_Directory[capability_name]\n",
    "    impact = ((new_production - original_production) / original_production) * 100\n",
    "\n",
    "    # Column names\n",
    "    impact_column_name = f'Impact_{crop[0].upper()}_{what}_{perturbation}'\n",
    "\n",
    "    return impact, impact_column_name\n"
   ]
  },
  {
   "cell_type": "code",
   "execution_count": 20,
   "metadata": {},
   "outputs": [],
   "source": [
    "# Combined calculation function\n",
    "def calculate_Change_Impact(Working_Directory, crop, perturbation, what):\n",
    "    # Normalize the capability list\n",
    "    calculate_and_visualize(perturbation, crop, Working_Directory, what,False)\n",
    "    capability_name = f'{crop[0].upper()} - {what} {perturbation}'\n",
    "    \n",
    "    # Calculate the impact as percentage change\n",
    "    original_production = Working_Directory[f'{crop}_Production']\n",
    "    new_production = Working_Directory[capability_name]\n",
    "    change = (new_production - original_production) \n",
    "    impact = ((new_production - original_production) / original_production) * 100\n",
    "\n",
    "    return change,impact,new_production\n"
   ]
  },
  {
   "cell_type": "code",
   "execution_count": 21,
   "metadata": {},
   "outputs": [
    {
     "data": {
      "text/html": [
       "<div>\n",
       "<style scoped>\n",
       "    .dataframe tbody tr th:only-of-type {\n",
       "        vertical-align: middle;\n",
       "    }\n",
       "\n",
       "    .dataframe tbody tr th {\n",
       "        vertical-align: top;\n",
       "    }\n",
       "\n",
       "    .dataframe thead th {\n",
       "        text-align: right;\n",
       "    }\n",
       "</style>\n",
       "<table border=\"1\" class=\"dataframe\">\n",
       "  <thead>\n",
       "    <tr style=\"text-align: right;\">\n",
       "      <th></th>\n",
       "      <th>District</th>\n",
       "      <th>KDG_District</th>\n",
       "      <th>Original Maize Production Value</th>\n",
       "      <th>Perturbation</th>\n",
       "      <th>Factor</th>\n",
       "      <th>New Maize Production Values</th>\n",
       "      <th>Percentage Change</th>\n",
       "      <th>Change</th>\n",
       "    </tr>\n",
       "  </thead>\n",
       "  <tbody>\n",
       "    <tr>\n",
       "      <th>0</th>\n",
       "      <td>BENGALURU</td>\n",
       "      <td>Bengaluru Urban</td>\n",
       "      <td>3376.0</td>\n",
       "      <td>10</td>\n",
       "      <td>TotalNPK</td>\n",
       "      <td>3408</td>\n",
       "      <td>0.947867</td>\n",
       "      <td>32.0</td>\n",
       "    </tr>\n",
       "    <tr>\n",
       "      <th>1</th>\n",
       "      <td>BENGALURU(R)</td>\n",
       "      <td>Bengaluru Rural</td>\n",
       "      <td>2354.0</td>\n",
       "      <td>10</td>\n",
       "      <td>TotalNPK</td>\n",
       "      <td>2364</td>\n",
       "      <td>0.424809</td>\n",
       "      <td>10.0</td>\n",
       "    </tr>\n",
       "    <tr>\n",
       "      <th>2</th>\n",
       "      <td>RAMANAGARA</td>\n",
       "      <td>Ramanagara</td>\n",
       "      <td>12128.0</td>\n",
       "      <td>10</td>\n",
       "      <td>TotalNPK</td>\n",
       "      <td>12144</td>\n",
       "      <td>0.131926</td>\n",
       "      <td>16.0</td>\n",
       "    </tr>\n",
       "    <tr>\n",
       "      <th>3</th>\n",
       "      <td>CHITRADURGA</td>\n",
       "      <td>Chitradurga</td>\n",
       "      <td>4566.0</td>\n",
       "      <td>10</td>\n",
       "      <td>TotalNPK</td>\n",
       "      <td>4577</td>\n",
       "      <td>0.240911</td>\n",
       "      <td>11.0</td>\n",
       "    </tr>\n",
       "    <tr>\n",
       "      <th>4</th>\n",
       "      <td>DAVANAGERE</td>\n",
       "      <td>Davanagere</td>\n",
       "      <td>489505.0</td>\n",
       "      <td>10</td>\n",
       "      <td>TotalNPK</td>\n",
       "      <td>490855</td>\n",
       "      <td>0.275789</td>\n",
       "      <td>1350.0</td>\n",
       "    </tr>\n",
       "    <tr>\n",
       "      <th>...</th>\n",
       "      <td>...</td>\n",
       "      <td>...</td>\n",
       "      <td>...</td>\n",
       "      <td>...</td>\n",
       "      <td>...</td>\n",
       "      <td>...</td>\n",
       "      <td>...</td>\n",
       "      <td>...</td>\n",
       "    </tr>\n",
       "    <tr>\n",
       "      <th>367</th>\n",
       "      <td>KALABURAGI</td>\n",
       "      <td>Kalaburagi</td>\n",
       "      <td>7888.0</td>\n",
       "      <td>-20</td>\n",
       "      <td>NetAreaIrrigated_Canals_NetAreaIrrigated</td>\n",
       "      <td>7806</td>\n",
       "      <td>-1.039554</td>\n",
       "      <td>-82.0</td>\n",
       "    </tr>\n",
       "    <tr>\n",
       "      <th>368</th>\n",
       "      <td>YADGIRI</td>\n",
       "      <td>Yadgir</td>\n",
       "      <td>224659.0</td>\n",
       "      <td>-20</td>\n",
       "      <td>NetAreaIrrigated_Canals_NetAreaIrrigated</td>\n",
       "      <td>207623</td>\n",
       "      <td>-7.583048</td>\n",
       "      <td>-17036.0</td>\n",
       "    </tr>\n",
       "    <tr>\n",
       "      <th>369</th>\n",
       "      <td>RAICHUR</td>\n",
       "      <td>Raichur</td>\n",
       "      <td>492342.0</td>\n",
       "      <td>-20</td>\n",
       "      <td>NetAreaIrrigated_Canals_NetAreaIrrigated</td>\n",
       "      <td>470360</td>\n",
       "      <td>-4.464783</td>\n",
       "      <td>-21982.0</td>\n",
       "    </tr>\n",
       "    <tr>\n",
       "      <th>370</th>\n",
       "      <td>KOPPAL</td>\n",
       "      <td>Koppal</td>\n",
       "      <td>243505.0</td>\n",
       "      <td>-20</td>\n",
       "      <td>NetAreaIrrigated_Canals_NetAreaIrrigated</td>\n",
       "      <td>239523</td>\n",
       "      <td>-1.635285</td>\n",
       "      <td>-3982.0</td>\n",
       "    </tr>\n",
       "    <tr>\n",
       "      <th>371</th>\n",
       "      <td>VIJAYANAGARA</td>\n",
       "      <td>Vijayanagara</td>\n",
       "      <td>206115.5</td>\n",
       "      <td>-20</td>\n",
       "      <td>NetAreaIrrigated_Canals_NetAreaIrrigated</td>\n",
       "      <td>194562</td>\n",
       "      <td>-5.605352</td>\n",
       "      <td>-11553.5</td>\n",
       "    </tr>\n",
       "  </tbody>\n",
       "</table>\n",
       "<p>372 rows × 8 columns</p>\n",
       "</div>"
      ],
      "text/plain": [
       "         District     KDG_District  Original Maize Production Value  \\\n",
       "0       BENGALURU  Bengaluru Urban                           3376.0   \n",
       "1    BENGALURU(R)  Bengaluru Rural                           2354.0   \n",
       "2      RAMANAGARA       Ramanagara                          12128.0   \n",
       "3     CHITRADURGA      Chitradurga                           4566.0   \n",
       "4      DAVANAGERE       Davanagere                         489505.0   \n",
       "..            ...              ...                              ...   \n",
       "367    KALABURAGI       Kalaburagi                           7888.0   \n",
       "368       YADGIRI           Yadgir                         224659.0   \n",
       "369       RAICHUR          Raichur                         492342.0   \n",
       "370        KOPPAL           Koppal                         243505.0   \n",
       "371  VIJAYANAGARA     Vijayanagara                         206115.5   \n",
       "\n",
       "     Perturbation                                    Factor  \\\n",
       "0              10                                  TotalNPK   \n",
       "1              10                                  TotalNPK   \n",
       "2              10                                  TotalNPK   \n",
       "3              10                                  TotalNPK   \n",
       "4              10                                  TotalNPK   \n",
       "..            ...                                       ...   \n",
       "367           -20  NetAreaIrrigated_Canals_NetAreaIrrigated   \n",
       "368           -20  NetAreaIrrigated_Canals_NetAreaIrrigated   \n",
       "369           -20  NetAreaIrrigated_Canals_NetAreaIrrigated   \n",
       "370           -20  NetAreaIrrigated_Canals_NetAreaIrrigated   \n",
       "371           -20  NetAreaIrrigated_Canals_NetAreaIrrigated   \n",
       "\n",
       "     New Maize Production Values  Percentage Change   Change  \n",
       "0                           3408           0.947867     32.0  \n",
       "1                           2364           0.424809     10.0  \n",
       "2                          12144           0.131926     16.0  \n",
       "3                           4577           0.240911     11.0  \n",
       "4                         490855           0.275789   1350.0  \n",
       "..                           ...                ...      ...  \n",
       "367                         7806          -1.039554    -82.0  \n",
       "368                       207623          -7.583048 -17036.0  \n",
       "369                       470360          -4.464783 -21982.0  \n",
       "370                       239523          -1.635285  -3982.0  \n",
       "371                       194562          -5.605352 -11553.5  \n",
       "\n",
       "[372 rows x 8 columns]"
      ]
     },
     "execution_count": 21,
     "metadata": {},
     "output_type": "execute_result"
    }
   ],
   "source": [
    "# Perturbations and factor mapping\n",
    "crop = 'Rice'\n",
    "perturbations = [10, -10, 20, -20]\n",
    "factor_mapping = {\n",
    "    'NPK': 'TotalNPK',\n",
    "    'PArea': 'AreaUnderCereals_Paddy',\n",
    "    'Canal': 'NetAreaIrrigated_Canals_NetAreaIrrigated'\n",
    "}\n",
    "\n",
    "# Initialize an empty DataFrame to store the results\n",
    "Maize_Diff_Impact = pd.DataFrame()\n",
    "\n",
    "# Loop over each perturbation and factor\n",
    "for perturbation in perturbations:\n",
    "    for factor, mapped_factor in factor_mapping.items():\n",
    "        # Call the function\n",
    "        Change, impact, New_Production = calculate_Change_Impact(Working_Directory, crop, perturbation, factor)\n",
    "        District = Working_Directory['District']\n",
    "        KDG_District = Working_Directory['KDG_District']\n",
    "        Orig = Working_Directory[f'{crop}_Production']\n",
    "        \n",
    "        # Create a DataFrame with the results\n",
    "        temp_df = pd.DataFrame({\n",
    "            'District' : District,\n",
    "            'KDG_District' : KDG_District,\n",
    "            'Original Maize Production Value' : Orig,\n",
    "            'Perturbation': perturbation,\n",
    "            'Factor': mapped_factor,\n",
    "            'New Maize Production Values': New_Production,\n",
    "            'Percentage Change': impact,\n",
    "            'Change': Change\n",
    "        })\n",
    "        \n",
    "        # Append the results to the final DataFrame\n",
    "        Maize_Diff_Impact = pd.concat([Maize_Diff_Impact, temp_df], ignore_index=True)\n",
    "\n",
    "# Display or save the final DataFrame\n",
    "Maize_Diff_Impact.to_csv('DIA\\Rice_Diff_Impact.csv',index=False)\n",
    "Maize_Diff_Impact"
   ]
  },
  {
   "cell_type": "code",
   "execution_count": 22,
   "metadata": {},
   "outputs": [
    {
     "data": {
      "application/vnd.plotly.v1+json": {
       "config": {
        "plotlyServerURL": "https://plot.ly"
       },
       "data": [
        {
         "hoverinfo": "text+name",
         "hoverlabel": {
          "bgcolor": "grey",
          "font": {
           "color": "white"
          }
         },
         "hovertemplate": "Stability=%{x}<br>Impact=%{y}<br>Abbreviation=%{text}<extra></extra>",
         "hovertext": [
          "Impact: 1.925355450236967<br>Stability: 0.9923100575163083",
          "Impact: 0.8920985556499574<br>Stability: 0.9865333060020338",
          "Impact: 0.2638522427440633<br>Stability: 0.8929943448325757",
          "Impact: 0.5037231712658783<br>Stability: 0.588294969031226",
          "Impact: 0.5517819021256167<br>Stability: 0.3615080178510899",
          "Impact: 1.5046296296296295<br>Stability: 0.9966388530500524",
          "Impact: 0.9636767976278725<br>Stability: 0.9857595890658725",
          "Impact: 0.5865331165221547<br>Stability: 0.6330580106833228",
          "Impact: 0.5222333154135627<br>Stability: 0.901085672714578",
          "Impact: 1.6936118625206953<br>Stability: 0.8448951620728838",
          "Impact: 0.8552810209068694<br>Stability: 0.9744502590444495",
          "Impact: 0.2692608355771736<br>Stability: 0.8829084923974775",
          "Impact: 0.6499425907240527<br>Stability: 0.9670627695448937",
          "Impact: 2.501651159287626<br>Stability: 0.7524856075252178",
          "Impact: 0.9523693635592979<br>Stability: 0.7351994983902669",
          "Impact: 0.6453488864485203<br>Stability: 0.5488747945128396",
          "Impact: 0.6280530355896721<br>Stability: 0.6790367592581428",
          "Impact: 1.0667297467784085<br>Stability: 0.7180165515134707",
          "Impact: 0.0<br>Stability: 0.6330744898492358",
          "Impact: 0.0<br>Stability: 0.6264185145438688",
          "Impact: 0.9061755273765041<br>Stability: 0.8343914163642137",
          "Impact: 0.5097823091760816<br>Stability: 0.7270323778288039",
          "Impact: 0.6697389612667635<br>Stability: 0.8255961639717202",
          "Impact: 0.5425510357495376<br>Stability: 0.9611292649890072",
          "Impact: 1.029277274149688<br>Stability: 0.9644259594520649",
          "Impact: 1.1296660117878194<br>Stability: 0.9881892612108569",
          "Impact: 0.6085192697768762<br>Stability: 0.8613150910306446",
          "Impact: 1.7573299979079404<br>Stability: 0.8793993009082297",
          "Impact: 1.0848150269528092<br>Stability: 0.27410560331834133",
          "Impact: 0.7363298494897436<br>Stability: 0.8774299735931415",
          "Impact: 1.029277274149688<br>Stability: 0.9445553103777212"
         ],
         "legendgroup": "",
         "marker": {
          "color": "#636efa",
          "symbol": "circle"
         },
         "mode": "markers+text",
         "name": "",
         "orientation": "v",
         "showlegend": false,
         "text": [
          "BLR",
          "BLR(R)",
          "RGA",
          "CDA",
          "DVG",
          "KLR",
          "CKA",
          "SMG",
          "TKR",
          "CMG",
          "DKA",
          "UPI",
          "HSN",
          "KDG",
          "MDY",
          "MYS",
          "CNR",
          "BLG",
          "VJP",
          "BKT",
          "DWD",
          "GDG",
          "HVR",
          "UTK",
          "BLL",
          "BDR",
          "KLB",
          "YDR",
          "RCR",
          "KPL",
          "VNG"
         ],
         "textposition": "top center",
         "type": "scatter",
         "x": [
          0.9923100575163083,
          0.9865333060020338,
          0.8929943448325757,
          0.588294969031226,
          0.3615080178510899,
          0.9966388530500524,
          0.9857595890658725,
          0.6330580106833228,
          0.901085672714578,
          0.8448951620728838,
          0.9744502590444495,
          0.8829084923974775,
          0.9670627695448937,
          0.7524856075252178,
          0.7351994983902669,
          0.5488747945128396,
          0.6790367592581428,
          0.7180165515134707,
          0.6330744898492358,
          0.6264185145438688,
          0.8343914163642137,
          0.7270323778288039,
          0.8255961639717202,
          0.9611292649890072,
          0.9644259594520649,
          0.9881892612108569,
          0.8613150910306446,
          0.8793993009082297,
          0.27410560331834133,
          0.8774299735931415,
          0.9445553103777212
         ],
         "xaxis": "x",
         "y": [
          1.925355450236967,
          0.8920985556499574,
          0.2638522427440633,
          0.5037231712658783,
          0.5517819021256167,
          1.5046296296296295,
          0.9636767976278725,
          0.5865331165221547,
          0.5222333154135627,
          1.6936118625206953,
          0.8552810209068694,
          0.2692608355771736,
          0.6499425907240527,
          2.501651159287626,
          0.9523693635592979,
          0.6453488864485203,
          0.6280530355896721,
          1.0667297467784085,
          0,
          0,
          0.9061755273765041,
          0.5097823091760816,
          0.6697389612667635,
          0.5425510357495376,
          1.029277274149688,
          1.1296660117878194,
          0.6085192697768762,
          1.7573299979079404,
          1.0848150269528092,
          0.7363298494897436,
          1.029277274149688
         ],
         "yaxis": "y"
        }
       ],
       "layout": {
        "annotations": [
         {
          "font": {
           "color": "red"
          },
          "showarrow": false,
          "text": "Avg Stability",
          "x": 0.801231465885308,
          "y": 2.501651159287626
         },
         {
          "font": {
           "color": "blue"
          },
          "showarrow": false,
          "text": "Avg Impact",
          "x": 0.9966388530500524,
          "y": 0.8703095232384345
         }
        ],
        "height": 500,
        "legend": {
         "tracegroupgap": 0
        },
        "shapes": [
         {
          "line": {
           "color": "blue",
           "dash": "dash",
           "width": 2
          },
          "type": "line",
          "x0": 0.27410560331834133,
          "x1": 0.9966388530500524,
          "y0": 0.8703095232384345,
          "y1": 0.8703095232384345
         },
         {
          "line": {
           "color": "red",
           "dash": "dash",
           "width": 2
          },
          "type": "line",
          "x0": 0.801231465885308,
          "x1": 0.801231465885308,
          "y0": 0,
          "y1": 2.501651159287626
         }
        ],
        "template": {
         "data": {
          "bar": [
           {
            "error_x": {
             "color": "#2a3f5f"
            },
            "error_y": {
             "color": "#2a3f5f"
            },
            "marker": {
             "line": {
              "color": "#E5ECF6",
              "width": 0.5
             },
             "pattern": {
              "fillmode": "overlay",
              "size": 10,
              "solidity": 0.2
             }
            },
            "type": "bar"
           }
          ],
          "barpolar": [
           {
            "marker": {
             "line": {
              "color": "#E5ECF6",
              "width": 0.5
             },
             "pattern": {
              "fillmode": "overlay",
              "size": 10,
              "solidity": 0.2
             }
            },
            "type": "barpolar"
           }
          ],
          "carpet": [
           {
            "aaxis": {
             "endlinecolor": "#2a3f5f",
             "gridcolor": "white",
             "linecolor": "white",
             "minorgridcolor": "white",
             "startlinecolor": "#2a3f5f"
            },
            "baxis": {
             "endlinecolor": "#2a3f5f",
             "gridcolor": "white",
             "linecolor": "white",
             "minorgridcolor": "white",
             "startlinecolor": "#2a3f5f"
            },
            "type": "carpet"
           }
          ],
          "choropleth": [
           {
            "colorbar": {
             "outlinewidth": 0,
             "ticks": ""
            },
            "type": "choropleth"
           }
          ],
          "contour": [
           {
            "colorbar": {
             "outlinewidth": 0,
             "ticks": ""
            },
            "colorscale": [
             [
              0,
              "#0d0887"
             ],
             [
              0.1111111111111111,
              "#46039f"
             ],
             [
              0.2222222222222222,
              "#7201a8"
             ],
             [
              0.3333333333333333,
              "#9c179e"
             ],
             [
              0.4444444444444444,
              "#bd3786"
             ],
             [
              0.5555555555555556,
              "#d8576b"
             ],
             [
              0.6666666666666666,
              "#ed7953"
             ],
             [
              0.7777777777777778,
              "#fb9f3a"
             ],
             [
              0.8888888888888888,
              "#fdca26"
             ],
             [
              1,
              "#f0f921"
             ]
            ],
            "type": "contour"
           }
          ],
          "contourcarpet": [
           {
            "colorbar": {
             "outlinewidth": 0,
             "ticks": ""
            },
            "type": "contourcarpet"
           }
          ],
          "heatmap": [
           {
            "colorbar": {
             "outlinewidth": 0,
             "ticks": ""
            },
            "colorscale": [
             [
              0,
              "#0d0887"
             ],
             [
              0.1111111111111111,
              "#46039f"
             ],
             [
              0.2222222222222222,
              "#7201a8"
             ],
             [
              0.3333333333333333,
              "#9c179e"
             ],
             [
              0.4444444444444444,
              "#bd3786"
             ],
             [
              0.5555555555555556,
              "#d8576b"
             ],
             [
              0.6666666666666666,
              "#ed7953"
             ],
             [
              0.7777777777777778,
              "#fb9f3a"
             ],
             [
              0.8888888888888888,
              "#fdca26"
             ],
             [
              1,
              "#f0f921"
             ]
            ],
            "type": "heatmap"
           }
          ],
          "heatmapgl": [
           {
            "colorbar": {
             "outlinewidth": 0,
             "ticks": ""
            },
            "colorscale": [
             [
              0,
              "#0d0887"
             ],
             [
              0.1111111111111111,
              "#46039f"
             ],
             [
              0.2222222222222222,
              "#7201a8"
             ],
             [
              0.3333333333333333,
              "#9c179e"
             ],
             [
              0.4444444444444444,
              "#bd3786"
             ],
             [
              0.5555555555555556,
              "#d8576b"
             ],
             [
              0.6666666666666666,
              "#ed7953"
             ],
             [
              0.7777777777777778,
              "#fb9f3a"
             ],
             [
              0.8888888888888888,
              "#fdca26"
             ],
             [
              1,
              "#f0f921"
             ]
            ],
            "type": "heatmapgl"
           }
          ],
          "histogram": [
           {
            "marker": {
             "pattern": {
              "fillmode": "overlay",
              "size": 10,
              "solidity": 0.2
             }
            },
            "type": "histogram"
           }
          ],
          "histogram2d": [
           {
            "colorbar": {
             "outlinewidth": 0,
             "ticks": ""
            },
            "colorscale": [
             [
              0,
              "#0d0887"
             ],
             [
              0.1111111111111111,
              "#46039f"
             ],
             [
              0.2222222222222222,
              "#7201a8"
             ],
             [
              0.3333333333333333,
              "#9c179e"
             ],
             [
              0.4444444444444444,
              "#bd3786"
             ],
             [
              0.5555555555555556,
              "#d8576b"
             ],
             [
              0.6666666666666666,
              "#ed7953"
             ],
             [
              0.7777777777777778,
              "#fb9f3a"
             ],
             [
              0.8888888888888888,
              "#fdca26"
             ],
             [
              1,
              "#f0f921"
             ]
            ],
            "type": "histogram2d"
           }
          ],
          "histogram2dcontour": [
           {
            "colorbar": {
             "outlinewidth": 0,
             "ticks": ""
            },
            "colorscale": [
             [
              0,
              "#0d0887"
             ],
             [
              0.1111111111111111,
              "#46039f"
             ],
             [
              0.2222222222222222,
              "#7201a8"
             ],
             [
              0.3333333333333333,
              "#9c179e"
             ],
             [
              0.4444444444444444,
              "#bd3786"
             ],
             [
              0.5555555555555556,
              "#d8576b"
             ],
             [
              0.6666666666666666,
              "#ed7953"
             ],
             [
              0.7777777777777778,
              "#fb9f3a"
             ],
             [
              0.8888888888888888,
              "#fdca26"
             ],
             [
              1,
              "#f0f921"
             ]
            ],
            "type": "histogram2dcontour"
           }
          ],
          "mesh3d": [
           {
            "colorbar": {
             "outlinewidth": 0,
             "ticks": ""
            },
            "type": "mesh3d"
           }
          ],
          "parcoords": [
           {
            "line": {
             "colorbar": {
              "outlinewidth": 0,
              "ticks": ""
             }
            },
            "type": "parcoords"
           }
          ],
          "pie": [
           {
            "automargin": true,
            "type": "pie"
           }
          ],
          "scatter": [
           {
            "fillpattern": {
             "fillmode": "overlay",
             "size": 10,
             "solidity": 0.2
            },
            "type": "scatter"
           }
          ],
          "scatter3d": [
           {
            "line": {
             "colorbar": {
              "outlinewidth": 0,
              "ticks": ""
             }
            },
            "marker": {
             "colorbar": {
              "outlinewidth": 0,
              "ticks": ""
             }
            },
            "type": "scatter3d"
           }
          ],
          "scattercarpet": [
           {
            "marker": {
             "colorbar": {
              "outlinewidth": 0,
              "ticks": ""
             }
            },
            "type": "scattercarpet"
           }
          ],
          "scattergeo": [
           {
            "marker": {
             "colorbar": {
              "outlinewidth": 0,
              "ticks": ""
             }
            },
            "type": "scattergeo"
           }
          ],
          "scattergl": [
           {
            "marker": {
             "colorbar": {
              "outlinewidth": 0,
              "ticks": ""
             }
            },
            "type": "scattergl"
           }
          ],
          "scattermapbox": [
           {
            "marker": {
             "colorbar": {
              "outlinewidth": 0,
              "ticks": ""
             }
            },
            "type": "scattermapbox"
           }
          ],
          "scatterpolar": [
           {
            "marker": {
             "colorbar": {
              "outlinewidth": 0,
              "ticks": ""
             }
            },
            "type": "scatterpolar"
           }
          ],
          "scatterpolargl": [
           {
            "marker": {
             "colorbar": {
              "outlinewidth": 0,
              "ticks": ""
             }
            },
            "type": "scatterpolargl"
           }
          ],
          "scatterternary": [
           {
            "marker": {
             "colorbar": {
              "outlinewidth": 0,
              "ticks": ""
             }
            },
            "type": "scatterternary"
           }
          ],
          "surface": [
           {
            "colorbar": {
             "outlinewidth": 0,
             "ticks": ""
            },
            "colorscale": [
             [
              0,
              "#0d0887"
             ],
             [
              0.1111111111111111,
              "#46039f"
             ],
             [
              0.2222222222222222,
              "#7201a8"
             ],
             [
              0.3333333333333333,
              "#9c179e"
             ],
             [
              0.4444444444444444,
              "#bd3786"
             ],
             [
              0.5555555555555556,
              "#d8576b"
             ],
             [
              0.6666666666666666,
              "#ed7953"
             ],
             [
              0.7777777777777778,
              "#fb9f3a"
             ],
             [
              0.8888888888888888,
              "#fdca26"
             ],
             [
              1,
              "#f0f921"
             ]
            ],
            "type": "surface"
           }
          ],
          "table": [
           {
            "cells": {
             "fill": {
              "color": "#EBF0F8"
             },
             "line": {
              "color": "white"
             }
            },
            "header": {
             "fill": {
              "color": "#C8D4E3"
             },
             "line": {
              "color": "white"
             }
            },
            "type": "table"
           }
          ]
         },
         "layout": {
          "annotationdefaults": {
           "arrowcolor": "#2a3f5f",
           "arrowhead": 0,
           "arrowwidth": 1
          },
          "autotypenumbers": "strict",
          "coloraxis": {
           "colorbar": {
            "outlinewidth": 0,
            "ticks": ""
           }
          },
          "colorscale": {
           "diverging": [
            [
             0,
             "#8e0152"
            ],
            [
             0.1,
             "#c51b7d"
            ],
            [
             0.2,
             "#de77ae"
            ],
            [
             0.3,
             "#f1b6da"
            ],
            [
             0.4,
             "#fde0ef"
            ],
            [
             0.5,
             "#f7f7f7"
            ],
            [
             0.6,
             "#e6f5d0"
            ],
            [
             0.7,
             "#b8e186"
            ],
            [
             0.8,
             "#7fbc41"
            ],
            [
             0.9,
             "#4d9221"
            ],
            [
             1,
             "#276419"
            ]
           ],
           "sequential": [
            [
             0,
             "#0d0887"
            ],
            [
             0.1111111111111111,
             "#46039f"
            ],
            [
             0.2222222222222222,
             "#7201a8"
            ],
            [
             0.3333333333333333,
             "#9c179e"
            ],
            [
             0.4444444444444444,
             "#bd3786"
            ],
            [
             0.5555555555555556,
             "#d8576b"
            ],
            [
             0.6666666666666666,
             "#ed7953"
            ],
            [
             0.7777777777777778,
             "#fb9f3a"
            ],
            [
             0.8888888888888888,
             "#fdca26"
            ],
            [
             1,
             "#f0f921"
            ]
           ],
           "sequentialminus": [
            [
             0,
             "#0d0887"
            ],
            [
             0.1111111111111111,
             "#46039f"
            ],
            [
             0.2222222222222222,
             "#7201a8"
            ],
            [
             0.3333333333333333,
             "#9c179e"
            ],
            [
             0.4444444444444444,
             "#bd3786"
            ],
            [
             0.5555555555555556,
             "#d8576b"
            ],
            [
             0.6666666666666666,
             "#ed7953"
            ],
            [
             0.7777777777777778,
             "#fb9f3a"
            ],
            [
             0.8888888888888888,
             "#fdca26"
            ],
            [
             1,
             "#f0f921"
            ]
           ]
          },
          "colorway": [
           "#636efa",
           "#EF553B",
           "#00cc96",
           "#ab63fa",
           "#FFA15A",
           "#19d3f3",
           "#FF6692",
           "#B6E880",
           "#FF97FF",
           "#FECB52"
          ],
          "font": {
           "color": "#2a3f5f"
          },
          "geo": {
           "bgcolor": "white",
           "lakecolor": "white",
           "landcolor": "#E5ECF6",
           "showlakes": true,
           "showland": true,
           "subunitcolor": "white"
          },
          "hoverlabel": {
           "align": "left"
          },
          "hovermode": "closest",
          "mapbox": {
           "style": "light"
          },
          "paper_bgcolor": "white",
          "plot_bgcolor": "#E5ECF6",
          "polar": {
           "angularaxis": {
            "gridcolor": "white",
            "linecolor": "white",
            "ticks": ""
           },
           "bgcolor": "#E5ECF6",
           "radialaxis": {
            "gridcolor": "white",
            "linecolor": "white",
            "ticks": ""
           }
          },
          "scene": {
           "xaxis": {
            "backgroundcolor": "#E5ECF6",
            "gridcolor": "white",
            "gridwidth": 2,
            "linecolor": "white",
            "showbackground": true,
            "ticks": "",
            "zerolinecolor": "white"
           },
           "yaxis": {
            "backgroundcolor": "#E5ECF6",
            "gridcolor": "white",
            "gridwidth": 2,
            "linecolor": "white",
            "showbackground": true,
            "ticks": "",
            "zerolinecolor": "white"
           },
           "zaxis": {
            "backgroundcolor": "#E5ECF6",
            "gridcolor": "white",
            "gridwidth": 2,
            "linecolor": "white",
            "showbackground": true,
            "ticks": "",
            "zerolinecolor": "white"
           }
          },
          "shapedefaults": {
           "line": {
            "color": "#2a3f5f"
           }
          },
          "ternary": {
           "aaxis": {
            "gridcolor": "white",
            "linecolor": "white",
            "ticks": ""
           },
           "baxis": {
            "gridcolor": "white",
            "linecolor": "white",
            "ticks": ""
           },
           "bgcolor": "#E5ECF6",
           "caxis": {
            "gridcolor": "white",
            "linecolor": "white",
            "ticks": ""
           }
          },
          "title": {
           "x": 0.05
          },
          "xaxis": {
           "automargin": true,
           "gridcolor": "white",
           "linecolor": "white",
           "ticks": "",
           "title": {
            "standoff": 15
           },
           "zerolinecolor": "white",
           "zerolinewidth": 2
          },
          "yaxis": {
           "automargin": true,
           "gridcolor": "white",
           "linecolor": "white",
           "ticks": "",
           "title": {
            "standoff": 15
           },
           "zerolinecolor": "white",
           "zerolinewidth": 2
          }
         }
        },
        "title": {
         "text": "Impact vs Stability (Rice +20% NPK)"
        },
        "width": 800,
        "xaxis": {
         "anchor": "y",
         "domain": [
          0,
          1
         ],
         "title": {
          "text": "Stability"
         }
        },
        "yaxis": {
         "anchor": "x",
         "domain": [
          0,
          1
         ],
         "title": {
          "text": "Impact"
         }
        }
       }
      }
     },
     "metadata": {},
     "output_type": "display_data"
    }
   ],
   "source": [
    "import plotly.express as px\n",
    "\n",
    "# Visualization function\n",
    "def Calculate_and_visualize_1D(Working_Directory, crop, perturbation, what):\n",
    "    calculate_and_visualize(perturbation, crop, Working_Directory, what, False)\n",
    "    stability, stress, impact, stability_column_name, stress_column_name, impact_column_name = calculate_metrics(Working_Directory, crop, perturbation, what)\n",
    "    \n",
    "    # Add metrics to Working_Directory DataFrame\n",
    "    Working_Directory[stability_column_name] = stability\n",
    "    Working_Directory[stress_column_name] = stress\n",
    "    Working_Directory[impact_column_name] = impact\n",
    "    \n",
    "    # Prepare data for Plotly\n",
    "    for_plots = Working_Directory[[stability_column_name, impact_column_name, 'Abbreviation']].copy()\n",
    "    for_plots.rename(columns={stability_column_name: 'stability', impact_column_name: 'Impact'}, inplace=True)\n",
    "\n",
    "    # Create scatter plot with Plotly\n",
    "    fig_increase = px.scatter(\n",
    "        for_plots,\n",
    "        x='stability',\n",
    "        y='Impact',\n",
    "        title=f'Impact vs Stability ({crop} +{perturbation}% {what})',\n",
    "        labels={'stability': 'Stability', 'Impact': 'Impact'},\n",
    "        text='Abbreviation',\n",
    "        size_max=8,\n",
    "        width=800,\n",
    "        height=500\n",
    "    )\n",
    "\n",
    "    # Update hover labels\n",
    "    fig_increase.update_traces(\n",
    "        hoverlabel=dict(bgcolor='grey', font=dict(color='white')),\n",
    "        textposition='top center'\n",
    "    )\n",
    "\n",
    "    # Calculate and add average lines\n",
    "    avg_x_increase = for_plots['stability'].mean()\n",
    "    avg_y_increase = for_plots['Impact'].mean()\n",
    "\n",
    "    fig_increase.add_shape(\n",
    "        type='line',\n",
    "        x0=min(for_plots['stability']),\n",
    "        x1=max(for_plots['stability']),\n",
    "        y0=avg_y_increase,\n",
    "        y1=avg_y_increase,\n",
    "        line=dict(color='blue', width=2, dash='dash')\n",
    "    )\n",
    "    fig_increase.add_shape(\n",
    "        type='line',\n",
    "        x0=avg_x_increase,\n",
    "        x1=avg_x_increase,\n",
    "        y0=min(for_plots['Impact']),\n",
    "        y1=max(for_plots['Impact']),\n",
    "        line=dict(color='red', width=2, dash='dash')\n",
    "    )\n",
    "\n",
    "    # Add annotations for average lines\n",
    "    fig_increase.add_annotation(\n",
    "        x=avg_x_increase,\n",
    "        y=max(for_plots['Impact']),\n",
    "        text='Avg Stability',\n",
    "        showarrow=False,\n",
    "        font=dict(color='red')\n",
    "    )\n",
    "    fig_increase.add_annotation(\n",
    "        x=max(for_plots['stability']),\n",
    "        y=avg_y_increase,\n",
    "        text='Avg Impact',\n",
    "        showarrow=False,\n",
    "        font=dict(color='blue')\n",
    "    )\n",
    "\n",
    "    # Add tooltips\n",
    "    fig_increase.update_traces(\n",
    "        hoverinfo='text+name',\n",
    "        hovertext=[\"Impact: \" + str(y) +\n",
    "                   f\"<br>Stability: {x}\"\n",
    "                   for x, y in zip(for_plots['stability'], for_plots['Impact'])]\n",
    "    )\n",
    "\n",
    "    # Show the plot\n",
    "    fig_increase.show()\n",
    "\n",
    "# Example usage\n",
    "crop = 'Rice'\n",
    "perturbation = 20\n",
    "what = 'NPK'\n",
    "Calculate_and_visualize_1D(Working_Directory, crop, perturbation, what)\n"
   ]
  }
 ],
 "metadata": {
  "kernelspec": {
   "display_name": "Python 3",
   "language": "python",
   "name": "python3"
  },
  "language_info": {
   "codemirror_mode": {
    "name": "ipython",
    "version": 3
   },
   "file_extension": ".py",
   "mimetype": "text/x-python",
   "name": "python",
   "nbconvert_exporter": "python",
   "pygments_lexer": "ipython3",
   "version": "3.9.13"
  }
 },
 "nbformat": 4,
 "nbformat_minor": 2
}
