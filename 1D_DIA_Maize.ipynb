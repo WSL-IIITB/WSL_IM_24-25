{
 "cells": [
  {
   "cell_type": "code",
   "execution_count": null,
   "metadata": {},
   "outputs": [],
   "source": [
    "import pandas as pd\n",
    "import statsmodels.api as sm\n",
    "import re\n",
    "import numpy as np\n",
    "import pandas as pd\n",
    "from itertools import product"
   ]
  },
  {
   "cell_type": "code",
   "execution_count": 2,
   "metadata": {},
   "outputs": [
    {
     "data": {
      "text/html": [
       "<div>\n",
       "<style scoped>\n",
       "    .dataframe tbody tr th:only-of-type {\n",
       "        vertical-align: middle;\n",
       "    }\n",
       "\n",
       "    .dataframe tbody tr th {\n",
       "        vertical-align: top;\n",
       "    }\n",
       "\n",
       "    .dataframe thead th {\n",
       "        text-align: right;\n",
       "    }\n",
       "</style>\n",
       "<table border=\"1\" class=\"dataframe\">\n",
       "  <thead>\n",
       "    <tr style=\"text-align: right;\">\n",
       "      <th></th>\n",
       "      <th>District</th>\n",
       "      <th>Maize_Production</th>\n",
       "      <th>TotalNPK</th>\n",
       "      <th>LivestockCensus_2012_Cattle</th>\n",
       "      <th>AreaUnderCereals_Maize</th>\n",
       "      <th>Maize_Ratio</th>\n",
       "    </tr>\n",
       "  </thead>\n",
       "  <tbody>\n",
       "    <tr>\n",
       "      <th>24</th>\n",
       "      <td>BALLARI</td>\n",
       "      <td>104045</td>\n",
       "      <td>8404.154608</td>\n",
       "      <td>23446.847903</td>\n",
       "      <td>49869.5</td>\n",
       "      <td>0.136288</td>\n",
       "    </tr>\n",
       "    <tr>\n",
       "      <th>25</th>\n",
       "      <td>BIDAR</td>\n",
       "      <td>2791</td>\n",
       "      <td>249.381182</td>\n",
       "      <td>2371.831678</td>\n",
       "      <td>1382.0</td>\n",
       "      <td>0.010114</td>\n",
       "    </tr>\n",
       "    <tr>\n",
       "      <th>26</th>\n",
       "      <td>KALABURAGI</td>\n",
       "      <td>14621</td>\n",
       "      <td>710.101614</td>\n",
       "      <td>6221.617910</td>\n",
       "      <td>2634.0</td>\n",
       "      <td>0.013150</td>\n",
       "    </tr>\n",
       "    <tr>\n",
       "      <th>27</th>\n",
       "      <td>YADGIRI</td>\n",
       "      <td>2673</td>\n",
       "      <td>368.617469</td>\n",
       "      <td>1253.317144</td>\n",
       "      <td>961.0</td>\n",
       "      <td>0.004033</td>\n",
       "    </tr>\n",
       "    <tr>\n",
       "      <th>28</th>\n",
       "      <td>RAICHUR</td>\n",
       "      <td>723</td>\n",
       "      <td>61.547519</td>\n",
       "      <td>188.537479</td>\n",
       "      <td>2600.0</td>\n",
       "      <td>0.000525</td>\n",
       "    </tr>\n",
       "    <tr>\n",
       "      <th>29</th>\n",
       "      <td>KOPPAL</td>\n",
       "      <td>190252</td>\n",
       "      <td>10997.550403</td>\n",
       "      <td>38936.400172</td>\n",
       "      <td>48210.0</td>\n",
       "      <td>0.149521</td>\n",
       "    </tr>\n",
       "    <tr>\n",
       "      <th>30</th>\n",
       "      <td>VIJAYANAGARA</td>\n",
       "      <td>104045</td>\n",
       "      <td>8404.154608</td>\n",
       "      <td>23446.847903</td>\n",
       "      <td>49869.5</td>\n",
       "      <td>0.136288</td>\n",
       "    </tr>\n",
       "  </tbody>\n",
       "</table>\n",
       "</div>"
      ],
      "text/plain": [
       "        District  Maize_Production      TotalNPK  LivestockCensus_2012_Cattle  \\\n",
       "24       BALLARI            104045   8404.154608                 23446.847903   \n",
       "25         BIDAR              2791    249.381182                  2371.831678   \n",
       "26    KALABURAGI             14621    710.101614                  6221.617910   \n",
       "27       YADGIRI              2673    368.617469                  1253.317144   \n",
       "28       RAICHUR               723     61.547519                   188.537479   \n",
       "29        KOPPAL            190252  10997.550403                 38936.400172   \n",
       "30  VIJAYANAGARA            104045   8404.154608                 23446.847903   \n",
       "\n",
       "    AreaUnderCereals_Maize  Maize_Ratio  \n",
       "24                 49869.5     0.136288  \n",
       "25                  1382.0     0.010114  \n",
       "26                  2634.0     0.013150  \n",
       "27                   961.0     0.004033  \n",
       "28                  2600.0     0.000525  \n",
       "29                 48210.0     0.149521  \n",
       "30                 49869.5     0.136288  "
      ]
     },
     "execution_count": 2,
     "metadata": {},
     "output_type": "execute_result"
    }
   ],
   "source": [
    "def remove_pattern(col_name):\n",
    "    return re.sub(r'_[0-9]{3}$', '', col_name)\n",
    "\n",
    "Zones = pd.read_excel('Zones.xlsx')\n",
    "Dataset = pd.read_csv('KAG 2016-17/Agriculture/Agriculture_KAG_2016_17.csv')\n",
    "Dataset.columns = map(remove_pattern, Dataset.columns)\n",
    "\n",
    "param = pd.read_csv('Params/3_Param_Maize_Multicollinearity.csv')\n",
    "\n",
    "Working_Directory = pd.read_csv('Working_Directory.csv')\n",
    "Working_Directory = Working_Directory[['District','Maize_Production','TotalNPK',\n",
    "'LivestockCensus_2012_Cattle', 'AreaUnderCereals_Maize','Maize_Ratio']].copy()\n",
    "\n",
    "for x in param.columns:\n",
    "    if(x != 'AreaUnderCereals_Maize'):\n",
    "        Working_Directory[x] = Working_Directory[x]*Working_Directory['Maize_Ratio']\n",
    "\n",
    "Working_Directory[24:]"
   ]
  },
  {
   "cell_type": "code",
   "execution_count": 3,
   "metadata": {},
   "outputs": [
    {
     "data": {
      "text/html": [
       "<div>\n",
       "<style scoped>\n",
       "    .dataframe tbody tr th:only-of-type {\n",
       "        vertical-align: middle;\n",
       "    }\n",
       "\n",
       "    .dataframe tbody tr th {\n",
       "        vertical-align: top;\n",
       "    }\n",
       "\n",
       "    .dataframe thead th {\n",
       "        text-align: right;\n",
       "    }\n",
       "</style>\n",
       "<table border=\"1\" class=\"dataframe\">\n",
       "  <thead>\n",
       "    <tr style=\"text-align: right;\">\n",
       "      <th></th>\n",
       "      <th>LivestockCensus_2012_Cattle</th>\n",
       "      <th>AreaUnderCereals_Maize</th>\n",
       "      <th>TotalNPK</th>\n",
       "    </tr>\n",
       "  </thead>\n",
       "  <tbody>\n",
       "    <tr>\n",
       "      <th>0</th>\n",
       "      <td>2567.461578</td>\n",
       "      <td>1129.0</td>\n",
       "      <td>438.180210</td>\n",
       "    </tr>\n",
       "    <tr>\n",
       "      <th>1</th>\n",
       "      <td>25037.139270</td>\n",
       "      <td>14867.0</td>\n",
       "      <td>3036.080250</td>\n",
       "    </tr>\n",
       "    <tr>\n",
       "      <th>2</th>\n",
       "      <td>7729.614277</td>\n",
       "      <td>1987.0</td>\n",
       "      <td>222.225258</td>\n",
       "    </tr>\n",
       "    <tr>\n",
       "      <th>3</th>\n",
       "      <td>83821.593090</td>\n",
       "      <td>92194.0</td>\n",
       "      <td>10902.406570</td>\n",
       "    </tr>\n",
       "    <tr>\n",
       "      <th>4</th>\n",
       "      <td>85657.632090</td>\n",
       "      <td>173400.0</td>\n",
       "      <td>25702.835480</td>\n",
       "    </tr>\n",
       "  </tbody>\n",
       "</table>\n",
       "</div>"
      ],
      "text/plain": [
       "   LivestockCensus_2012_Cattle  AreaUnderCereals_Maize      TotalNPK\n",
       "0                  2567.461578                  1129.0    438.180210\n",
       "1                 25037.139270                 14867.0   3036.080250\n",
       "2                  7729.614277                  1987.0    222.225258\n",
       "3                 83821.593090                 92194.0  10902.406570\n",
       "4                 85657.632090                173400.0  25702.835480"
      ]
     },
     "execution_count": 3,
     "metadata": {},
     "output_type": "execute_result"
    }
   ],
   "source": [
    "Case_file = pd.read_csv('Params/3_Param_Maize_Multicollinearity.csv')\n",
    "for x in Case_file.columns:\n",
    "    Working_Directory[x] = Case_file[x]\n",
    "y = Working_Directory['Maize_Production']\n",
    "Case_file[:5]"
   ]
  },
  {
   "cell_type": "code",
   "execution_count": 4,
   "metadata": {},
   "outputs": [
    {
     "data": {
      "text/html": [
       "<div>\n",
       "<style scoped>\n",
       "    .dataframe tbody tr th:only-of-type {\n",
       "        vertical-align: middle;\n",
       "    }\n",
       "\n",
       "    .dataframe tbody tr th {\n",
       "        vertical-align: top;\n",
       "    }\n",
       "\n",
       "    .dataframe thead th {\n",
       "        text-align: right;\n",
       "    }\n",
       "</style>\n",
       "<table border=\"1\" class=\"dataframe\">\n",
       "  <thead>\n",
       "    <tr style=\"text-align: right;\">\n",
       "      <th></th>\n",
       "      <th>LivestockCensus_2012_Cattle</th>\n",
       "      <th>AreaUnderCereals_Maize</th>\n",
       "      <th>TotalNPK</th>\n",
       "    </tr>\n",
       "  </thead>\n",
       "  <tbody>\n",
       "    <tr>\n",
       "      <th>24</th>\n",
       "      <td>23446.847900</td>\n",
       "      <td>49869.5</td>\n",
       "      <td>8404.154608</td>\n",
       "    </tr>\n",
       "    <tr>\n",
       "      <th>25</th>\n",
       "      <td>2371.831678</td>\n",
       "      <td>1382.0</td>\n",
       "      <td>249.381182</td>\n",
       "    </tr>\n",
       "    <tr>\n",
       "      <th>26</th>\n",
       "      <td>6221.617910</td>\n",
       "      <td>2634.0</td>\n",
       "      <td>710.101614</td>\n",
       "    </tr>\n",
       "    <tr>\n",
       "      <th>27</th>\n",
       "      <td>1253.317144</td>\n",
       "      <td>961.0</td>\n",
       "      <td>368.617469</td>\n",
       "    </tr>\n",
       "    <tr>\n",
       "      <th>28</th>\n",
       "      <td>188.537479</td>\n",
       "      <td>2600.0</td>\n",
       "      <td>61.547519</td>\n",
       "    </tr>\n",
       "    <tr>\n",
       "      <th>29</th>\n",
       "      <td>38936.400170</td>\n",
       "      <td>48210.0</td>\n",
       "      <td>10997.550400</td>\n",
       "    </tr>\n",
       "    <tr>\n",
       "      <th>30</th>\n",
       "      <td>23446.847900</td>\n",
       "      <td>49869.5</td>\n",
       "      <td>8404.154608</td>\n",
       "    </tr>\n",
       "  </tbody>\n",
       "</table>\n",
       "</div>"
      ],
      "text/plain": [
       "    LivestockCensus_2012_Cattle  AreaUnderCereals_Maize      TotalNPK\n",
       "24                 23446.847900                 49869.5   8404.154608\n",
       "25                  2371.831678                  1382.0    249.381182\n",
       "26                  6221.617910                  2634.0    710.101614\n",
       "27                  1253.317144                   961.0    368.617469\n",
       "28                   188.537479                  2600.0     61.547519\n",
       "29                 38936.400170                 48210.0  10997.550400\n",
       "30                 23446.847900                 49869.5   8404.154608"
      ]
     },
     "execution_count": 4,
     "metadata": {},
     "output_type": "execute_result"
    }
   ],
   "source": [
    "if(len(Case_file) < 31):\n",
    "    row_24 = Case_file.iloc[24]\n",
    "    halved_row_24 = row_24 / 2\n",
    "    Case_file.iloc[24] = halved_row_24\n",
    "    Case_file.loc[len(Case_file)] = halved_row_24\n",
    "\n",
    "Case_file[24:]\n"
   ]
  },
  {
   "cell_type": "code",
   "execution_count": 5,
   "metadata": {},
   "outputs": [
    {
     "name": "stdout",
     "output_type": "stream",
     "text": [
      "28\n"
     ]
    }
   ],
   "source": [
    "# Ensure that the index of y and Case_file are aligned\n",
    "y = y.loc[Case_file.index]\n",
    "\n",
    "# Identify rows in Case_file that have any zeros\n",
    "rows_to_remove = (Case_file == 0).any(axis=1)\n",
    "\n",
    "rows_to_remove |= Working_Directory['Maize_Production']  < 1000\n",
    "# rows_to_remove |= Working_Directory['Maize_Production'] > 500000\n",
    "\n",
    "# Update Case_file and y\n",
    "Case_file = Case_file[~rows_to_remove].reset_index(drop=True)\n",
    "y = Working_Directory['Maize_Production'][~rows_to_remove].reset_index(drop=True)\n",
    "\n",
    "# Verify the length of Case_file\n",
    "case_file_length = len(Case_file)\n",
    "print(case_file_length)"
   ]
  },
  {
   "cell_type": "code",
   "execution_count": 6,
   "metadata": {},
   "outputs": [
    {
     "name": "stdout",
     "output_type": "stream",
     "text": [
      "            District      KDG_District\n",
      "0          BENGALURU   Bengaluru Urban\n",
      "1       BENGALURU(R)   Bengaluru Rural\n",
      "2         RAMANAGARA        Ramanagara\n",
      "3        CHITRADURGA       Chitradurga\n",
      "4         DAVANAGERE        Davanagere\n",
      "5              KOLAR             Kolar\n",
      "6    CHIKKABALLAPURA   Chikkaballapura\n",
      "7         SHIVAMOGGA        Shivamogga\n",
      "8           TUMAKURU          Tumakuru\n",
      "9     CHIKKAMAGALURU    Chikkamagaluru\n",
      "10  DAKSHINA KANNADA  Dakshina Kannada\n",
      "11             UDUPI             Udupi\n",
      "12            HASSAN            Hassan\n",
      "13            KODAGU            Kodagu\n",
      "14            MANDYA            Mandya\n",
      "15            MYSURU            Mysuru\n",
      "16    CHAMARAJANAGAR   Chamarajanagara\n",
      "17          BELAGAVI          Belagavi\n",
      "18        VIJAYAPURA        Vijayapura\n",
      "19          BAGALKOT         Bagalkote\n",
      "20          DHARAWAD           Dharwad\n",
      "21             GADAG             Gadag\n",
      "22            HAVERI            Haveri\n",
      "23    UTTARA KANNADA    Uttara Kannada\n",
      "24           BALLARI           Ballari\n",
      "25             BIDAR             Bidar\n",
      "26        KALABURAGI        Kalaburagi\n",
      "27           YADGIRI            Yadgir\n",
      "28           RAICHUR           Raichur\n",
      "29            KOPPAL            Koppal\n",
      "30      VIJAYANAGARA      Vijayanagara\n"
     ]
    }
   ],
   "source": [
    "abbreviation_mapping = {\n",
    "    'BENGALURU': 'BLR',\n",
    "    'BENGALURU(R)': 'BLR(R)',\n",
    "    'RAMANAGARA': 'RGA',\n",
    "    'CHITRADURGA': 'CDA',\n",
    "    'DAVANAGERE': 'DVG',\n",
    "    'KOLAR': 'KLR',\n",
    "    'CHIKKABALLAPURA': 'CKA',\n",
    "    'SHIVAMOGGA': 'SMG',\n",
    "    'TUMAKURU': 'TKR',\n",
    "    'CHIKKAMAGALURU': 'CMG',\n",
    "    'DAKSHINA KANNADA': 'DKA',\n",
    "    'UDUPI': 'UPI',\n",
    "    'HASSAN': 'HSN',\n",
    "    'KODAGU': 'KDG',\n",
    "    'MANDYA': 'MDY',\n",
    "    'MYSURU': 'MYS',\n",
    "    'CHAMARAJANAGAR': 'CNR',\n",
    "    'BELAGAVI': 'BLG',\n",
    "    'VIJAYAPURA': 'VJP',\n",
    "    'BAGALKOT': 'BKT',\n",
    "    'DHARAWAD': 'DWD',\n",
    "    'GADAG': 'GDG',\n",
    "    'HAVERI': 'HVR',\n",
    "    'UTTARA KANNADA': 'UTK',\n",
    "    'BALLARI': 'BLL',\n",
    "    'BIDAR': 'BDR',\n",
    "    'KALABURAGI': 'KLB',\n",
    "    'YADGIRI': 'YDR',\n",
    "    'RAICHUR': 'RCR',\n",
    "    'KOPPAL': 'KPL',\n",
    "    'VIJAYANAGARA': 'VNG',\n",
    "}\n",
    "\n",
    "Working_Directory['Abbreviation'] = Working_Directory['District'].map(abbreviation_mapping)\n",
    "Working_Directory[:5]\n",
    "\n",
    "# Create a dictionary to map district names\n",
    "district_mapping = {\n",
    "    'BENGALURU': 'Bengaluru Urban',\n",
    "    'BENGALURU(R)': 'Bengaluru Rural',\n",
    "    'RAMANAGARA': 'Ramanagara',\n",
    "    'CHITRADURGA': 'Chitradurga',\n",
    "    'DAVANAGERE': 'Davanagere',\n",
    "    'KOLAR': 'Kolar',\n",
    "    'CHIKKABALLAPURA': 'Chikkaballapura',\n",
    "    'SHIVAMOGGA': 'Shivamogga',\n",
    "    'TUMAKURU': 'Tumakuru',\n",
    "    'CHIKKAMAGALURU': 'Chikkamagaluru',\n",
    "    'DAKSHINA KANNADA': 'Dakshina Kannada',\n",
    "    'UDUPI': 'Udupi',\n",
    "    'HASSAN': 'Hassan',\n",
    "    'KODAGU': 'Kodagu',\n",
    "    'MANDYA': 'Mandya',\n",
    "    'MYSURU': 'Mysuru',\n",
    "    'CHAMARAJANAGAR': 'Chamarajanagara',\n",
    "    'BELAGAVI': 'Belagavi',\n",
    "    'VIJAYAPURA': 'Vijayapura',\n",
    "    'BAGALKOT': 'Bagalkote',\n",
    "    'DHARAWAD': 'Dharwad',\n",
    "    'GADAG': 'Gadag',\n",
    "    'HAVERI': 'Haveri',\n",
    "    'UTTARA KANNADA': 'Uttara Kannada',\n",
    "    'BALLARI': 'Ballari',\n",
    "    'BIDAR': 'Bidar',\n",
    "    'KALABURAGI': 'Kalaburagi',\n",
    "    'YADGIRI': 'Yadgir',\n",
    "    'RAICHUR': 'Raichur',\n",
    "    'KOPPAL': 'Koppal',\n",
    "    'VIJAYANAGARA': 'Vijayanagara'\n",
    "}\n",
    "\n",
    "Working_Directory['KDG_District'] = Working_Directory['District'].map(district_mapping)\n",
    "\n",
    "print(Working_Directory[['District', 'KDG_District']])"
   ]
  },
  {
   "cell_type": "code",
   "execution_count": 7,
   "metadata": {},
   "outputs": [],
   "source": [
    "y_st = pd.DataFrame()\n",
    "y_st['Maize_Production'] = Working_Directory[~rows_to_remove]['Maize_Production'].reset_index(drop=True)\n",
    "\n",
    "\n",
    "columns_to_standardize = ['LivestockCensus_2012_Cattle','AreaUnderCereals_Maize','TotalNPK']\n",
    "\n",
    "Case_file =sm.add_constant(Case_file)\n"
   ]
  },
  {
   "cell_type": "code",
   "execution_count": 8,
   "metadata": {},
   "outputs": [
    {
     "name": "stdout",
     "output_type": "stream",
     "text": [
      "                            OLS Regression Results                            \n",
      "==============================================================================\n",
      "Dep. Variable:       Maize_Production   R-squared:                       0.953\n",
      "Model:                            OLS   Adj. R-squared:                  0.947\n",
      "Method:                 Least Squares   F-statistic:                     160.9\n",
      "Date:                Mon, 07 Oct 2024   Prob (F-statistic):           5.01e-16\n",
      "Time:                        12:03:06   Log-Likelihood:                -332.85\n",
      "No. Observations:                  28   AIC:                             673.7\n",
      "Df Residuals:                      24   BIC:                             679.0\n",
      "Df Model:                           3                                         \n",
      "Covariance Type:            nonrobust                                         \n",
      "===============================================================================================\n",
      "                                  coef    std err          t      P>|t|      [0.025      0.975]\n",
      "-----------------------------------------------------------------------------------------------\n",
      "const                       -7629.7025   1.08e+04     -0.704      0.488      -3e+04    1.47e+04\n",
      "LivestockCensus_2012_Cattle     0.5784      0.304      1.901      0.069      -0.050       1.206\n",
      "AreaUnderCereals_Maize          1.7786      0.272      6.546      0.000       1.218       2.339\n",
      "TotalNPK                        5.8348      1.444      4.040      0.000       2.854       8.815\n",
      "==============================================================================\n",
      "Omnibus:                        3.140   Durbin-Watson:                   2.453\n",
      "Prob(Omnibus):                  0.208   Jarque-Bera (JB):                1.842\n",
      "Skew:                           0.206   Prob(JB):                        0.398\n",
      "Kurtosis:                       4.187   Cond. No.                     1.34e+05\n",
      "==============================================================================\n",
      "\n",
      "Notes:\n",
      "[1] Standard Errors assume that the covariance matrix of the errors is correctly specified.\n",
      "[2] The condition number is large, 1.34e+05. This might indicate that there are\n",
      "strong multicollinearity or other numerical problems.\n"
     ]
    },
    {
     "data": {
      "text/plain": [
       "array([0.57835467, 1.77855209, 5.83482942])"
      ]
     },
     "execution_count": 8,
     "metadata": {},
     "output_type": "execute_result"
    }
   ],
   "source": [
    "model=sm.OLS(y_st['Maize_Production'],Case_file).fit()\n",
    "print(model.summary())\n",
    "model.params.values\n",
    "coef=model.params.values[1:]\n",
    "coef"
   ]
  },
  {
   "cell_type": "code",
   "execution_count": 9,
   "metadata": {},
   "outputs": [
    {
     "data": {
      "text/html": [
       "<div>\n",
       "<style scoped>\n",
       "    .dataframe tbody tr th:only-of-type {\n",
       "        vertical-align: middle;\n",
       "    }\n",
       "\n",
       "    .dataframe tbody tr th {\n",
       "        vertical-align: top;\n",
       "    }\n",
       "\n",
       "    .dataframe thead th {\n",
       "        text-align: right;\n",
       "    }\n",
       "</style>\n",
       "<table border=\"1\" class=\"dataframe\">\n",
       "  <thead>\n",
       "    <tr style=\"text-align: right;\">\n",
       "      <th></th>\n",
       "      <th>District</th>\n",
       "      <th>Maize_Production</th>\n",
       "      <th>TotalNPK</th>\n",
       "      <th>LivestockCensus_2012_Cattle</th>\n",
       "      <th>AreaUnderCereals_Maize</th>\n",
       "      <th>Maize_Ratio</th>\n",
       "      <th>Abbreviation</th>\n",
       "      <th>KDG_District</th>\n",
       "    </tr>\n",
       "  </thead>\n",
       "  <tbody>\n",
       "    <tr>\n",
       "      <th>0</th>\n",
       "      <td>BENGALURU</td>\n",
       "      <td>2879</td>\n",
       "      <td>438.180210</td>\n",
       "      <td>2567.461578</td>\n",
       "      <td>1129.0</td>\n",
       "      <td>0.018798</td>\n",
       "      <td>BLR</td>\n",
       "      <td>Bengaluru Urban</td>\n",
       "    </tr>\n",
       "    <tr>\n",
       "      <th>1</th>\n",
       "      <td>BENGALURU(R)</td>\n",
       "      <td>42583</td>\n",
       "      <td>3036.080250</td>\n",
       "      <td>25037.139270</td>\n",
       "      <td>14867.0</td>\n",
       "      <td>0.157645</td>\n",
       "      <td>BLR(R)</td>\n",
       "      <td>Bengaluru Rural</td>\n",
       "    </tr>\n",
       "    <tr>\n",
       "      <th>2</th>\n",
       "      <td>RAMANAGARA</td>\n",
       "      <td>10450</td>\n",
       "      <td>222.225258</td>\n",
       "      <td>7729.614277</td>\n",
       "      <td>1987.0</td>\n",
       "      <td>0.029741</td>\n",
       "      <td>RGA</td>\n",
       "      <td>Ramanagara</td>\n",
       "    </tr>\n",
       "    <tr>\n",
       "      <th>3</th>\n",
       "      <td>CHITRADURGA</td>\n",
       "      <td>271975</td>\n",
       "      <td>10902.406570</td>\n",
       "      <td>83821.593090</td>\n",
       "      <td>92194.0</td>\n",
       "      <td>0.303824</td>\n",
       "      <td>CDA</td>\n",
       "      <td>Chitradurga</td>\n",
       "    </tr>\n",
       "    <tr>\n",
       "      <th>4</th>\n",
       "      <td>DAVANAGERE</td>\n",
       "      <td>593544</td>\n",
       "      <td>25702.835480</td>\n",
       "      <td>85657.632090</td>\n",
       "      <td>173400.0</td>\n",
       "      <td>0.257947</td>\n",
       "      <td>DVG</td>\n",
       "      <td>Davanagere</td>\n",
       "    </tr>\n",
       "    <tr>\n",
       "      <th>5</th>\n",
       "      <td>KOLAR</td>\n",
       "      <td>1759</td>\n",
       "      <td>220.782906</td>\n",
       "      <td>2278.829821</td>\n",
       "      <td>640.0</td>\n",
       "      <td>0.009950</td>\n",
       "      <td>KLR</td>\n",
       "      <td>Kolar</td>\n",
       "    </tr>\n",
       "    <tr>\n",
       "      <th>6</th>\n",
       "      <td>CHIKKABALLAPURA</td>\n",
       "      <td>105491</td>\n",
       "      <td>8196.896749</td>\n",
       "      <td>71206.945310</td>\n",
       "      <td>59377.0</td>\n",
       "      <td>0.289061</td>\n",
       "      <td>CKA</td>\n",
       "      <td>Chikkaballapura</td>\n",
       "    </tr>\n",
       "    <tr>\n",
       "      <th>7</th>\n",
       "      <td>SHIVAMOGGA</td>\n",
       "      <td>226532</td>\n",
       "      <td>10428.246260</td>\n",
       "      <td>104722.000400</td>\n",
       "      <td>43827.0</td>\n",
       "      <td>0.184215</td>\n",
       "      <td>SMG</td>\n",
       "      <td>Shivamogga</td>\n",
       "    </tr>\n",
       "    <tr>\n",
       "      <th>8</th>\n",
       "      <td>TUMAKURU</td>\n",
       "      <td>66868</td>\n",
       "      <td>2746.313635</td>\n",
       "      <td>37944.093760</td>\n",
       "      <td>24207.0</td>\n",
       "      <td>0.071991</td>\n",
       "      <td>TKR</td>\n",
       "      <td>Tumakuru</td>\n",
       "    </tr>\n",
       "    <tr>\n",
       "      <th>9</th>\n",
       "      <td>CHIKKAMAGALURU</td>\n",
       "      <td>61353</td>\n",
       "      <td>8156.290370</td>\n",
       "      <td>40572.445630</td>\n",
       "      <td>25831.0</td>\n",
       "      <td>0.120188</td>\n",
       "      <td>CMG</td>\n",
       "      <td>Chikkamagaluru</td>\n",
       "    </tr>\n",
       "    <tr>\n",
       "      <th>10</th>\n",
       "      <td>DAKSHINA KANNADA</td>\n",
       "      <td>0</td>\n",
       "      <td>0.000000</td>\n",
       "      <td>0.000000</td>\n",
       "      <td>0.0</td>\n",
       "      <td>0.000000</td>\n",
       "      <td>DKA</td>\n",
       "      <td>Dakshina Kannada</td>\n",
       "    </tr>\n",
       "    <tr>\n",
       "      <th>11</th>\n",
       "      <td>UDUPI</td>\n",
       "      <td>109</td>\n",
       "      <td>2.304863</td>\n",
       "      <td>94.499008</td>\n",
       "      <td>8.0</td>\n",
       "      <td>0.000375</td>\n",
       "      <td>UPI</td>\n",
       "      <td>Udupi</td>\n",
       "    </tr>\n",
       "    <tr>\n",
       "      <th>12</th>\n",
       "      <td>HASSAN</td>\n",
       "      <td>333937</td>\n",
       "      <td>17039.273890</td>\n",
       "      <td>151008.140300</td>\n",
       "      <td>79058.0</td>\n",
       "      <td>0.248999</td>\n",
       "      <td>HSN</td>\n",
       "      <td>Hassan</td>\n",
       "    </tr>\n",
       "    <tr>\n",
       "      <th>13</th>\n",
       "      <td>KODAGU</td>\n",
       "      <td>17921</td>\n",
       "      <td>3519.022414</td>\n",
       "      <td>7599.582730</td>\n",
       "      <td>3448.0</td>\n",
       "      <td>0.085941</td>\n",
       "      <td>KDG</td>\n",
       "      <td>Kodagu</td>\n",
       "    </tr>\n",
       "    <tr>\n",
       "      <th>14</th>\n",
       "      <td>MANDYA</td>\n",
       "      <td>19387</td>\n",
       "      <td>1448.830355</td>\n",
       "      <td>8774.134623</td>\n",
       "      <td>4892.0</td>\n",
       "      <td>0.023925</td>\n",
       "      <td>MDY</td>\n",
       "      <td>Mandya</td>\n",
       "    </tr>\n",
       "    <tr>\n",
       "      <th>15</th>\n",
       "      <td>MYSURU</td>\n",
       "      <td>137154</td>\n",
       "      <td>6945.331415</td>\n",
       "      <td>61547.727440</td>\n",
       "      <td>37283.0</td>\n",
       "      <td>0.111996</td>\n",
       "      <td>MYS</td>\n",
       "      <td>Mysuru</td>\n",
       "    </tr>\n",
       "    <tr>\n",
       "      <th>16</th>\n",
       "      <td>CHAMARAJANAGAR</td>\n",
       "      <td>147886</td>\n",
       "      <td>7289.684770</td>\n",
       "      <td>80396.926680</td>\n",
       "      <td>38569.0</td>\n",
       "      <td>0.306251</td>\n",
       "      <td>CNR</td>\n",
       "      <td>Chamarajanagara</td>\n",
       "    </tr>\n",
       "    <tr>\n",
       "      <th>17</th>\n",
       "      <td>BELAGAVI</td>\n",
       "      <td>576758</td>\n",
       "      <td>48288.815130</td>\n",
       "      <td>159047.086200</td>\n",
       "      <td>131163.0</td>\n",
       "      <td>0.268283</td>\n",
       "      <td>BLG</td>\n",
       "      <td>Belagavi</td>\n",
       "    </tr>\n",
       "    <tr>\n",
       "      <th>18</th>\n",
       "      <td>VIJAYAPURA</td>\n",
       "      <td>226327</td>\n",
       "      <td>10420.071650</td>\n",
       "      <td>48619.507080</td>\n",
       "      <td>40207.0</td>\n",
       "      <td>0.192153</td>\n",
       "      <td>VJP</td>\n",
       "      <td>Vijayapura</td>\n",
       "    </tr>\n",
       "    <tr>\n",
       "      <th>19</th>\n",
       "      <td>BAGALKOT</td>\n",
       "      <td>251699</td>\n",
       "      <td>22940.521250</td>\n",
       "      <td>75578.052000</td>\n",
       "      <td>44300.0</td>\n",
       "      <td>0.270487</td>\n",
       "      <td>BKT</td>\n",
       "      <td>Bagalkote</td>\n",
       "    </tr>\n",
       "    <tr>\n",
       "      <th>20</th>\n",
       "      <td>DHARAWAD</td>\n",
       "      <td>90634</td>\n",
       "      <td>6447.725408</td>\n",
       "      <td>33424.645600</td>\n",
       "      <td>30900.0</td>\n",
       "      <td>0.172487</td>\n",
       "      <td>DWD</td>\n",
       "      <td>Dharwad</td>\n",
       "    </tr>\n",
       "    <tr>\n",
       "      <th>21</th>\n",
       "      <td>GADAG</td>\n",
       "      <td>138476</td>\n",
       "      <td>5591.244159</td>\n",
       "      <td>34261.981770</td>\n",
       "      <td>34163.0</td>\n",
       "      <td>0.240174</td>\n",
       "      <td>GDG</td>\n",
       "      <td>Gadag</td>\n",
       "    </tr>\n",
       "    <tr>\n",
       "      <th>22</th>\n",
       "      <td>HAVERI</td>\n",
       "      <td>413487</td>\n",
       "      <td>21731.170720</td>\n",
       "      <td>95150.640270</td>\n",
       "      <td>170696.0</td>\n",
       "      <td>0.334321</td>\n",
       "      <td>HVR</td>\n",
       "      <td>Haveri</td>\n",
       "    </tr>\n",
       "    <tr>\n",
       "      <th>23</th>\n",
       "      <td>UTTARA KANNADA</td>\n",
       "      <td>24088</td>\n",
       "      <td>1025.616827</td>\n",
       "      <td>22563.771080</td>\n",
       "      <td>4576.0</td>\n",
       "      <td>0.066964</td>\n",
       "      <td>UTK</td>\n",
       "      <td>Uttara Kannada</td>\n",
       "    </tr>\n",
       "    <tr>\n",
       "      <th>24</th>\n",
       "      <td>BALLARI</td>\n",
       "      <td>104045</td>\n",
       "      <td>8404.154608</td>\n",
       "      <td>23446.847900</td>\n",
       "      <td>49869.5</td>\n",
       "      <td>0.136288</td>\n",
       "      <td>BLL</td>\n",
       "      <td>Ballari</td>\n",
       "    </tr>\n",
       "    <tr>\n",
       "      <th>25</th>\n",
       "      <td>BIDAR</td>\n",
       "      <td>2791</td>\n",
       "      <td>249.381182</td>\n",
       "      <td>2371.831678</td>\n",
       "      <td>1382.0</td>\n",
       "      <td>0.010114</td>\n",
       "      <td>BDR</td>\n",
       "      <td>Bidar</td>\n",
       "    </tr>\n",
       "    <tr>\n",
       "      <th>26</th>\n",
       "      <td>KALABURAGI</td>\n",
       "      <td>14621</td>\n",
       "      <td>710.101614</td>\n",
       "      <td>6221.617910</td>\n",
       "      <td>2634.0</td>\n",
       "      <td>0.013150</td>\n",
       "      <td>KLB</td>\n",
       "      <td>Kalaburagi</td>\n",
       "    </tr>\n",
       "    <tr>\n",
       "      <th>27</th>\n",
       "      <td>YADGIRI</td>\n",
       "      <td>2673</td>\n",
       "      <td>368.617469</td>\n",
       "      <td>1253.317144</td>\n",
       "      <td>961.0</td>\n",
       "      <td>0.004033</td>\n",
       "      <td>YDR</td>\n",
       "      <td>Yadgir</td>\n",
       "    </tr>\n",
       "    <tr>\n",
       "      <th>28</th>\n",
       "      <td>RAICHUR</td>\n",
       "      <td>723</td>\n",
       "      <td>61.547519</td>\n",
       "      <td>188.537479</td>\n",
       "      <td>2600.0</td>\n",
       "      <td>0.000525</td>\n",
       "      <td>RCR</td>\n",
       "      <td>Raichur</td>\n",
       "    </tr>\n",
       "    <tr>\n",
       "      <th>29</th>\n",
       "      <td>KOPPAL</td>\n",
       "      <td>190252</td>\n",
       "      <td>10997.550400</td>\n",
       "      <td>38936.400170</td>\n",
       "      <td>48210.0</td>\n",
       "      <td>0.149521</td>\n",
       "      <td>KPL</td>\n",
       "      <td>Koppal</td>\n",
       "    </tr>\n",
       "    <tr>\n",
       "      <th>30</th>\n",
       "      <td>VIJAYANAGARA</td>\n",
       "      <td>104045</td>\n",
       "      <td>8404.154608</td>\n",
       "      <td>23446.847900</td>\n",
       "      <td>49869.5</td>\n",
       "      <td>0.136288</td>\n",
       "      <td>VNG</td>\n",
       "      <td>Vijayanagara</td>\n",
       "    </tr>\n",
       "  </tbody>\n",
       "</table>\n",
       "</div>"
      ],
      "text/plain": [
       "            District  Maize_Production      TotalNPK  \\\n",
       "0          BENGALURU              2879    438.180210   \n",
       "1       BENGALURU(R)             42583   3036.080250   \n",
       "2         RAMANAGARA             10450    222.225258   \n",
       "3        CHITRADURGA            271975  10902.406570   \n",
       "4         DAVANAGERE            593544  25702.835480   \n",
       "5              KOLAR              1759    220.782906   \n",
       "6    CHIKKABALLAPURA            105491   8196.896749   \n",
       "7         SHIVAMOGGA            226532  10428.246260   \n",
       "8           TUMAKURU             66868   2746.313635   \n",
       "9     CHIKKAMAGALURU             61353   8156.290370   \n",
       "10  DAKSHINA KANNADA                 0      0.000000   \n",
       "11             UDUPI               109      2.304863   \n",
       "12            HASSAN            333937  17039.273890   \n",
       "13            KODAGU             17921   3519.022414   \n",
       "14            MANDYA             19387   1448.830355   \n",
       "15            MYSURU            137154   6945.331415   \n",
       "16    CHAMARAJANAGAR            147886   7289.684770   \n",
       "17          BELAGAVI            576758  48288.815130   \n",
       "18        VIJAYAPURA            226327  10420.071650   \n",
       "19          BAGALKOT            251699  22940.521250   \n",
       "20          DHARAWAD             90634   6447.725408   \n",
       "21             GADAG            138476   5591.244159   \n",
       "22            HAVERI            413487  21731.170720   \n",
       "23    UTTARA KANNADA             24088   1025.616827   \n",
       "24           BALLARI            104045   8404.154608   \n",
       "25             BIDAR              2791    249.381182   \n",
       "26        KALABURAGI             14621    710.101614   \n",
       "27           YADGIRI              2673    368.617469   \n",
       "28           RAICHUR               723     61.547519   \n",
       "29            KOPPAL            190252  10997.550400   \n",
       "30      VIJAYANAGARA            104045   8404.154608   \n",
       "\n",
       "    LivestockCensus_2012_Cattle  AreaUnderCereals_Maize  Maize_Ratio  \\\n",
       "0                   2567.461578                  1129.0     0.018798   \n",
       "1                  25037.139270                 14867.0     0.157645   \n",
       "2                   7729.614277                  1987.0     0.029741   \n",
       "3                  83821.593090                 92194.0     0.303824   \n",
       "4                  85657.632090                173400.0     0.257947   \n",
       "5                   2278.829821                   640.0     0.009950   \n",
       "6                  71206.945310                 59377.0     0.289061   \n",
       "7                 104722.000400                 43827.0     0.184215   \n",
       "8                  37944.093760                 24207.0     0.071991   \n",
       "9                  40572.445630                 25831.0     0.120188   \n",
       "10                     0.000000                     0.0     0.000000   \n",
       "11                    94.499008                     8.0     0.000375   \n",
       "12                151008.140300                 79058.0     0.248999   \n",
       "13                  7599.582730                  3448.0     0.085941   \n",
       "14                  8774.134623                  4892.0     0.023925   \n",
       "15                 61547.727440                 37283.0     0.111996   \n",
       "16                 80396.926680                 38569.0     0.306251   \n",
       "17                159047.086200                131163.0     0.268283   \n",
       "18                 48619.507080                 40207.0     0.192153   \n",
       "19                 75578.052000                 44300.0     0.270487   \n",
       "20                 33424.645600                 30900.0     0.172487   \n",
       "21                 34261.981770                 34163.0     0.240174   \n",
       "22                 95150.640270                170696.0     0.334321   \n",
       "23                 22563.771080                  4576.0     0.066964   \n",
       "24                 23446.847900                 49869.5     0.136288   \n",
       "25                  2371.831678                  1382.0     0.010114   \n",
       "26                  6221.617910                  2634.0     0.013150   \n",
       "27                  1253.317144                   961.0     0.004033   \n",
       "28                   188.537479                  2600.0     0.000525   \n",
       "29                 38936.400170                 48210.0     0.149521   \n",
       "30                 23446.847900                 49869.5     0.136288   \n",
       "\n",
       "   Abbreviation      KDG_District  \n",
       "0           BLR   Bengaluru Urban  \n",
       "1        BLR(R)   Bengaluru Rural  \n",
       "2           RGA        Ramanagara  \n",
       "3           CDA       Chitradurga  \n",
       "4           DVG        Davanagere  \n",
       "5           KLR             Kolar  \n",
       "6           CKA   Chikkaballapura  \n",
       "7           SMG        Shivamogga  \n",
       "8           TKR          Tumakuru  \n",
       "9           CMG    Chikkamagaluru  \n",
       "10          DKA  Dakshina Kannada  \n",
       "11          UPI             Udupi  \n",
       "12          HSN            Hassan  \n",
       "13          KDG            Kodagu  \n",
       "14          MDY            Mandya  \n",
       "15          MYS            Mysuru  \n",
       "16          CNR   Chamarajanagara  \n",
       "17          BLG          Belagavi  \n",
       "18          VJP        Vijayapura  \n",
       "19          BKT         Bagalkote  \n",
       "20          DWD           Dharwad  \n",
       "21          GDG             Gadag  \n",
       "22          HVR            Haveri  \n",
       "23          UTK    Uttara Kannada  \n",
       "24          BLL           Ballari  \n",
       "25          BDR             Bidar  \n",
       "26          KLB        Kalaburagi  \n",
       "27          YDR            Yadgir  \n",
       "28          RCR           Raichur  \n",
       "29          KPL            Koppal  \n",
       "30          VNG      Vijayanagara  "
      ]
     },
     "execution_count": 9,
     "metadata": {},
     "output_type": "execute_result"
    }
   ],
   "source": [
    "Working_Directory"
   ]
  },
  {
   "cell_type": "code",
   "execution_count": 10,
   "metadata": {},
   "outputs": [
    {
     "name": "stdout",
     "output_type": "stream",
     "text": [
      "5.834829424182065\n"
     ]
    }
   ],
   "source": [
    "labels = [\"Cattle\", \"MArea\", \"NPK\"]\n",
    "coef_dict = dict(zip(labels, coef))\n",
    "def get_slope(label):\n",
    "    return coef_dict.get(label, \"Label not found\")\n",
    "print(get_slope(\"NPK\"))"
   ]
  },
  {
   "cell_type": "code",
   "execution_count": 11,
   "metadata": {},
   "outputs": [
    {
     "data": {
      "image/png": "[encoded data removed]",
      "text/plain": [
       "<Figure size 1008x648 with 1 Axes>"
      ]
     },
     "metadata": {
      "needs_background": "light"
     },
     "output_type": "display_data"
    }
   ],
   "source": [
    "import matplotlib.pyplot as plt\n",
    "import numpy as np\n",
    "\n",
    "def calculate_and_visualize(perturbation, crop, Working_Directory, what):\n",
    "    # Mapping of factor names based on 'what'\n",
    "    factor_mapping = {\n",
    "        'NPK': 'TotalNPK',\n",
    "        'Cattle': 'LivestockCensus_2012_Cattle',\n",
    "        'MArea': 'AreaUnderCereals_Maize',\n",
    "    }\n",
    "    \n",
    "    # Dynamically select the correct factor and slope column based on 'what'\n",
    "    factor_name = factor_mapping[what]\n",
    "    production_col = f'{crop}_Production'\n",
    "    slope = get_slope(what)\n",
    "\n",
    "    # Calculate the factor\n",
    "    factor = Working_Directory[factor_name]\n",
    "    \n",
    "    # Initialize an empty list for new values\n",
    "    New_values = []\n",
    "    \n",
    "    # Calculate new values based on the provided formula\n",
    "    for i in range(len(Working_Directory['District'])):\n",
    "        y_new = Working_Directory[production_col][i] + slope * (perturbation * factor[i] / 100)\n",
    "        New_values.append(int(y_new))\n",
    "    \n",
    "    # Add the new values to the DataFrame with a specific column name\n",
    "    Working_Directory[f'{crop[0].upper()} - {what} {perturbation}'] = New_values\n",
    "    Working_Directory['Change'] =  ((New_values - Working_Directory[production_col])/Working_Directory[production_col])*100\n",
    "    \n",
    "    # Ensure all values are finite\n",
    "    Working_Directory = Working_Directory.replace([np.inf, -np.inf], np.nan).dropna(subset=['Change'])\n",
    "    \n",
    "    # Visualization with color-coded zones\n",
    "    plt.figure(figsize=(14, 9))\n",
    "    for zone in Working_Directory['District'].unique():\n",
    "        bars = plt.bar(Working_Directory['District'], \n",
    "                       Working_Directory['Change'], \n",
    "                       label=zone)\n",
    "        \n",
    "        # Add value labels to the bars\n",
    "        for bar, value in zip(bars, Working_Directory['Change']):\n",
    "            plt.text(bar.get_x() + bar.get_width() / 2, \n",
    "                     bar.get_height(), \n",
    "                     f'{value:.1f}', \n",
    "                     ha='center', \n",
    "                     va='bottom', \n",
    "                     fontsize=10)\n",
    "    \n",
    "    plt.xlabel('District')\n",
    "    plt.ylabel(f'Percentage Change in {crop} Production')\n",
    "    plt.title(f'Percentage Change in {crop} Production Values when {what} increases by {perturbation}%')\n",
    "    plt.xticks(rotation=90)\n",
    "    plt.tight_layout()\n",
    "    plt.show()\n",
    "\n",
    "# Example usage:\n",
    "perturbation = 20\n",
    "what = 'NPK'  # Factor to be used\n",
    "crop = 'Maize'  # Or 'Maize'\n",
    "\n",
    "# Assuming Working_Directory is a DataFrame that has all necessary columns defined\n",
    "calculate_and_visualize(perturbation, crop, Working_Directory, what)\n"
   ]
  },
  {
   "cell_type": "code",
   "execution_count": 12,
   "metadata": {},
   "outputs": [
    {
     "data": {
      "image/png": "[encoded data removed]",
      "text/plain": [
       "<Figure size 1008x648 with 1 Axes>"
      ]
     },
     "metadata": {
      "needs_background": "light"
     },
     "output_type": "display_data"
    }
   ],
   "source": [
    "import matplotlib.pyplot as plt\n",
    "import numpy as np\n",
    "\n",
    "def calculate_and_visualize(perturbation, crop, Working_Directory, what,plot = True):\n",
    "    # Mapping of factor names based on 'what'\n",
    "    factor_mapping = {\n",
    "        'NPK': 'TotalNPK',\n",
    "        'Cattle': 'LivestockCensus_2012_Cattle',\n",
    "        'MArea': 'AreaUnderCereals_Maize',\n",
    "    }\n",
    "    \n",
    "    # Dynamically select the correct factor and slope column based on 'what'\n",
    "    factor_name = factor_mapping[what]\n",
    "    production_col = f'{crop}_Production'\n",
    "    slope = get_slope(what)\n",
    "\n",
    "    # Calculate the factor\n",
    "    factor = Working_Directory[factor_name]\n",
    "    \n",
    "    # Initialize an empty list for new values\n",
    "    New_values = []\n",
    "    \n",
    "    # Calculate new values based on the provided formula\n",
    "    for i in range(len(Working_Directory['District'])):\n",
    "        y_new = Working_Directory[production_col][i] + slope * (perturbation * factor[i] / 100)\n",
    "        New_values.append(int(y_new))\n",
    "    \n",
    "    # Add the new values to the DataFrame with a specific column name\n",
    "    Working_Directory[f'{crop[0].upper()} - {what} {perturbation}'] = New_values\n",
    "    Working_Directory['Change'] =  (New_values - Working_Directory[production_col])\n",
    "    Working_Directory['Percentage Change'] =  ((New_values - Working_Directory[production_col])/Working_Directory[production_col])*100\n",
    "    Working_Directory = Working_Directory.replace([np.inf, -np.inf], np.nan).dropna(subset=['Percentage Change'])\n",
    "    \n",
    "    # Visualization\n",
    "    if(plot == True):\n",
    "        plt.figure(figsize=(14, 9))\n",
    "        bars = plt.bar(Working_Directory['District'], \n",
    "                    Working_Directory['Percentage Change'])\n",
    "        \n",
    "        # Add value labels to the bars\n",
    "        for bar, value in zip(bars, Working_Directory['Percentage Change']):\n",
    "            plt.text(bar.get_x() + bar.get_width() / 2, \n",
    "                    bar.get_height(), \n",
    "                    f'{value:.1f}', \n",
    "                    ha='center', \n",
    "                    va='bottom', \n",
    "                    fontsize=10)\n",
    "        \n",
    "        plt.xlabel('District')\n",
    "        plt.ylabel(f'Percentage Change in {crop} Production')\n",
    "        plt.title(f'Percentage Change in {crop} Production Values when {what} increases by {perturbation}%')\n",
    "        plt.xticks(rotation=90)\n",
    "        plt.tight_layout()\n",
    "        plt.show()\n",
    "\n",
    "# Example usage:\n",
    "perturbation = 20\n",
    "what = 'NPK'  # Factor to be used\n",
    "crop = 'Maize'  # Or 'Maize'\n",
    "\n",
    "# Assuming Working_Directory is a DataFrame that has all necessary columns defined\n",
    "calculate_and_visualize(perturbation, crop, Working_Directory, what,plot = True)\n"
   ]
  },
  {
   "cell_type": "code",
   "execution_count": 13,
   "metadata": {},
   "outputs": [
    {
     "name": "stdout",
     "output_type": "stream",
     "text": [
      "    1   2   3   4   5   6   7   8   9   10  ...  22  23  24  25  26  27  28  \\\n",
      "1    0   1   1   0   0   0   0   0   0   0  ...   0   0   0   0   0   0   0   \n",
      "2    1   0   1   0   0   1   1   0   1   0  ...   0   0   0   0   0   0   0   \n",
      "3    1   1   0   0   0   0   0   0   1   0  ...   0   0   0   0   0   0   0   \n",
      "4    0   0   0   0   1   0   0   0   1   1  ...   0   0   0   1   0   0   0   \n",
      "5    0   0   0   1   0   0   0   1   0   1  ...   0   1   0   1   0   0   0   \n",
      "6    0   1   0   0   0   0   1   0   0   0  ...   0   0   0   0   0   0   0   \n",
      "7    0   1   0   0   0   1   0   0   1   0  ...   0   0   0   0   0   0   0   \n",
      "8    0   0   0   0   1   0   0   0   0   1  ...   0   1   1   0   0   0   0   \n",
      "9    0   1   1   1   0   0   1   0   0   1  ...   0   0   0   0   0   0   0   \n",
      "10   0   0   0   1   1   0   0   1   1   0  ...   0   0   0   0   0   0   0   \n",
      "11   0   0   0   0   0   0   0   0   0   1  ...   0   0   0   0   0   0   0   \n",
      "12   0   0   0   0   0   0   0   1   0   1  ...   0   0   1   0   0   0   0   \n",
      "13   0   0   0   0   0   0   0   0   1   1  ...   0   0   0   0   0   0   0   \n",
      "14   0   0   0   0   0   0   0   0   0   0  ...   0   0   0   0   0   0   0   \n",
      "15   0   0   1   0   0   0   0   0   1   0  ...   0   0   0   0   0   0   0   \n",
      "16   0   0   0   0   0   0   0   0   0   0  ...   0   0   0   0   0   0   0   \n",
      "17   0   0   1   0   0   0   0   0   0   0  ...   0   0   0   0   0   0   0   \n",
      "18   0   0   0   0   0   0   0   0   0   0  ...   1   0   1   0   0   0   0   \n",
      "19   0   0   0   0   0   0   0   0   0   0  ...   0   0   0   0   0   1   1   \n",
      "20   0   0   0   0   0   0   0   0   0   0  ...   1   0   0   0   0   0   0   \n",
      "21   0   0   0   0   0   0   0   0   0   0  ...   1   1   1   0   0   0   0   \n",
      "22   0   0   0   0   0   0   0   0   0   0  ...   0   1   0   1   0   0   0   \n",
      "23   0   0   0   0   1   0   0   1   0   0  ...   1   0   1   1   0   0   0   \n",
      "24   0   0   0   0   0   0   0   1   0   0  ...   0   1   0   0   0   0   0   \n",
      "25   0   0   0   1   1   0   0   0   0   0  ...   1   1   0   0   0   0   0   \n",
      "26   0   0   0   0   0   0   0   0   0   0  ...   0   0   0   0   0   1   0   \n",
      "27   0   0   0   0   0   0   0   0   0   0  ...   0   0   0   0   1   0   1   \n",
      "28   0   0   0   0   0   0   0   0   0   0  ...   0   0   0   0   0   1   0   \n",
      "29   0   0   0   0   0   0   0   0   0   0  ...   0   0   0   1   0   0   1   \n",
      "30   0   0   0   0   0   0   0   0   0   0  ...   1   0   0   1   0   0   0   \n",
      "31   0   0   0   1   1   0   0   0   0   0  ...   1   1   0   1   0   0   0   \n",
      "\n",
      "    29  30  31  \n",
      "1    0   0   0  \n",
      "2    0   0   0  \n",
      "3    0   0   0  \n",
      "4    0   0   1  \n",
      "5    0   0   1  \n",
      "6    0   0   0  \n",
      "7    0   0   0  \n",
      "8    0   0   0  \n",
      "9    0   0   0  \n",
      "10   0   0   0  \n",
      "11   0   0   0  \n",
      "12   0   0   0  \n",
      "13   0   0   0  \n",
      "14   0   0   0  \n",
      "15   0   0   0  \n",
      "16   0   0   0  \n",
      "17   0   0   0  \n",
      "18   0   0   0  \n",
      "19   1   0   0  \n",
      "20   1   1   0  \n",
      "21   0   0   0  \n",
      "22   0   1   1  \n",
      "23   0   0   1  \n",
      "24   0   0   0  \n",
      "25   1   1   1  \n",
      "26   0   0   0  \n",
      "27   0   0   0  \n",
      "28   1   0   0  \n",
      "29   0   1   0  \n",
      "30   1   0   1  \n",
      "31   0   1   0  \n",
      "\n",
      "[31 rows x 31 columns]\n"
     ]
    }
   ],
   "source": [
    "import pandas as pd\n",
    "import numpy as np\n",
    "\n",
    "adjacency_excel = pd.read_excel('Karnataka_District_Adjacency_File.xlsx')\n",
    "\n",
    "district_codes = sorted(set(adjacency_excel['District_Code']))\n",
    "\n",
    "n = len(district_codes)\n",
    "adj_matrix = np.zeros((n, n), dtype=int)\n",
    "\n",
    "code_to_index = {code: idx for idx, code in enumerate(district_codes)}\n",
    "\n",
    "for i in range(len(adjacency_excel)):\n",
    "    district_code = adjacency_excel['District_Code'][i]\n",
    "    neighbors = [int(num) for num in str(adjacency_excel['District_Neighbors'][i]).split(',') if num.strip().isdigit()]\n",
    "    \n",
    "    for neighbor in neighbors:\n",
    "        adj_matrix[code_to_index[district_code]][code_to_index[neighbor]] = 1\n",
    "        adj_matrix[code_to_index[neighbor]][code_to_index[district_code]] = 1  # Assuming adjacency is bidirectional\n",
    "\n",
    "adj_matrix_df = pd.DataFrame(adj_matrix, index=district_codes, columns=district_codes)\n",
    "\n",
    "print(adj_matrix_df)\n",
    "\n",
    "adj_matrix_np = adj_matrix_df.to_numpy()"
   ]
  },
  {
   "cell_type": "code",
   "execution_count": 14,
   "metadata": {},
   "outputs": [],
   "source": [
    "def normalize_list(lst):\n",
    "    min_val = min(lst)\n",
    "    max_val = max(lst)\n",
    "    normalized_lst = [(x - min_val) / (max_val - min_val) for x in lst]\n",
    "    return normalized_lst\n",
    "\n",
    "Name = 'M - NPK 20'\n",
    "Capability_list = normalize_list(Working_Directory[f'{Name}'])\n",
    "# Capability_list"
   ]
  },
  {
   "cell_type": "code",
   "execution_count": 15,
   "metadata": {},
   "outputs": [
    {
     "name": "stdout",
     "output_type": "stream",
     "text": [
      "Stress values: [0.03953111 0.00928339 0.07692577 0.13624826 0.6529705  0.12410975\n",
      " 0.1194918  0.01101074 0.09293209 0.2425317  0.17644276 0.13205151\n",
      " 0.47217277 0.22797444 0.19929175 0.01094401 0.15380816 0.75189201\n",
      " 0.0826101  0.05429428 0.33549002 0.19503999 0.38664906 0.40514509\n",
      " 0.22854291 0.01953376 0.10441804 0.12921419 0.26315374 0.11481688\n",
      " 0.29639604]\n",
      "Stability values: [0.96046889 0.99071661 0.92307423 0.86375174 0.3470295  0.87589025\n",
      " 0.8805082  0.98898926 0.90706791 0.7574683  0.82355724 0.86794849\n",
      " 0.52782723 0.77202556 0.80070825 0.98905599 0.84619184 0.24810799\n",
      " 0.9173899  0.94570572 0.66450998 0.80496001 0.61335094 0.59485491\n",
      " 0.77145709 0.98046624 0.89558196 0.87078581 0.73684626 0.88518312\n",
      " 0.70360396]\n"
     ]
    }
   ],
   "source": [
    "import numpy as np\n",
    "\n",
    "def calculate_avg_capability(capability, neighbors):\n",
    "    num_neighbors = len(neighbors)\n",
    "    if num_neighbors == 0:\n",
    "        return 0\n",
    "    sum_capabilities = sum(capability[n] for n in neighbors)\n",
    "    return sum_capabilities / num_neighbors\n",
    "\n",
    "def calculate_stress_stability(capability, adjacency_matrix):\n",
    "    n = len(capability)\n",
    "    stress = np.zeros(n)\n",
    "    stability = np.zeros(n)\n",
    "    \n",
    "    for i in range(n):\n",
    "        neighbors = [j for j in range(n) if adjacency_matrix[i][j] == 1 and i != j]\n",
    "        if len(neighbors) > 0:\n",
    "            avg_capability = calculate_avg_capability(capability, neighbors)\n",
    "            stress[i] = np.linalg.norm(avg_capability - capability[i])\n",
    "            stability[i] = 1 - stress[i]\n",
    "        else:\n",
    "            stress[i] = 0  # If no neighbors, stress is zero\n",
    "            stability[i] = 1\n",
    "        \n",
    "    return stress, stability\n",
    "\n",
    "Name = 'M - NPK 20'\n",
    "\n",
    "Capability_list = normalize_list(Working_Directory[f'{Name}'])\n",
    "stress, stability = calculate_stress_stability(Capability_list, adj_matrix_np)\n",
    "\n",
    "print(\"Stress values:\", stress)\n",
    "print(\"Stability values:\", stability)"
   ]
  },
  {
   "cell_type": "code",
   "execution_count": 16,
   "metadata": {},
   "outputs": [],
   "source": [
    "# Combined calculation function\n",
    "def calculate_metrics(Working_Directory, crop, perturbation, what):\n",
    "    # Normalize the capability list\n",
    "    capability_name = f'{crop[0].upper()} - {what} {perturbation}'\n",
    "    Capability_list = normalize_list(Working_Directory[capability_name])\n",
    "    \n",
    "    def calculate_avg_capability(capability, neighbors):\n",
    "        num_neighbors = len(neighbors)\n",
    "        if num_neighbors == 0:\n",
    "            return 0\n",
    "        return sum(capability[n] for n in neighbors) / num_neighbors\n",
    "\n",
    "    # Calculate stress and stability\n",
    "    stress, stability = calculate_stress_stability(Capability_list, adj_matrix_np)\n",
    "    \n",
    "    # Calculate the impact as percentage change\n",
    "    original_production = Working_Directory[f'{crop}_Production']\n",
    "    new_production = Working_Directory[capability_name]\n",
    "    impact = ((new_production - original_production) / original_production) * 100\n",
    "\n",
    "    # Column names\n",
    "    stability_column_name = f'Stability_{crop[0].upper()}_{what}_{perturbation}'\n",
    "    stress_column_name = f'Stress_{crop[0].upper()}_{what}_{perturbation}'\n",
    "    impact_column_name = f'Impact_{crop[0].upper()}_{what}_{perturbation}'\n",
    "\n",
    "    return stability, stress, impact, stability_column_name, stress_column_name, impact_column_name"
   ]
  },
  {
   "cell_type": "code",
   "execution_count": 17,
   "metadata": {},
   "outputs": [],
   "source": [
    "# Impact calculation function\n",
    "def calculate_impact(Working_Directory, crop, perturbation, what):\n",
    "    # Normalize the capability list\n",
    "    capability_name = f'{crop[0].upper()} - {what} {perturbation}'\n",
    "\n",
    "    # Calculate the impact as percentage change\n",
    "    original_production = Working_Directory[f'{crop}_Production']\n",
    "    new_production = Working_Directory[capability_name]\n",
    "    impact = ((new_production - original_production) / original_production) * 100\n",
    "\n",
    "    # Column names\n",
    "    impact_column_name = f'Impact_{crop[0].upper()}_{what}_{perturbation}'\n",
    "\n",
    "    return impact, impact_column_name\n"
   ]
  },
  {
   "cell_type": "code",
   "execution_count": 18,
   "metadata": {},
   "outputs": [],
   "source": [
    "# Combined calculation function\n",
    "def calculate_Change_Impact(Working_Directory, crop, perturbation, what):\n",
    "    # Normalize the capability list\n",
    "    calculate_and_visualize(perturbation, crop, Working_Directory, what,False)\n",
    "    capability_name = f'{crop[0].upper()} - {what} {perturbation}'\n",
    "    \n",
    "    # Calculate the impact as percentage change\n",
    "    original_production = Working_Directory[f'{crop}_Production']\n",
    "    new_production = Working_Directory[capability_name]\n",
    "    change = (new_production - original_production) \n",
    "    impact = ((new_production - original_production) / original_production) * 100\n",
    "\n",
    "    return change,impact,new_production\n"
   ]
  },
  {
   "cell_type": "code",
   "execution_count": 19,
   "metadata": {},
   "outputs": [
    {
     "data": {
      "text/html": [
       "<div>\n",
       "<style scoped>\n",
       "    .dataframe tbody tr th:only-of-type {\n",
       "        vertical-align: middle;\n",
       "    }\n",
       "\n",
       "    .dataframe tbody tr th {\n",
       "        vertical-align: top;\n",
       "    }\n",
       "\n",
       "    .dataframe thead th {\n",
       "        text-align: right;\n",
       "    }\n",
       "</style>\n",
       "<table border=\"1\" class=\"dataframe\">\n",
       "  <thead>\n",
       "    <tr style=\"text-align: right;\">\n",
       "      <th></th>\n",
       "      <th>District</th>\n",
       "      <th>KDG_District</th>\n",
       "      <th>Original Maize Production Value</th>\n",
       "      <th>Perturbation</th>\n",
       "      <th>Factor</th>\n",
       "      <th>New Maize Production Values</th>\n",
       "      <th>Percentage Change</th>\n",
       "      <th>Change</th>\n",
       "    </tr>\n",
       "  </thead>\n",
       "  <tbody>\n",
       "    <tr>\n",
       "      <th>0</th>\n",
       "      <td>BENGALURU</td>\n",
       "      <td>Bengaluru Urban</td>\n",
       "      <td>2879</td>\n",
       "      <td>10</td>\n",
       "      <td>TotalNPK</td>\n",
       "      <td>3134</td>\n",
       "      <td>8.857242</td>\n",
       "      <td>255</td>\n",
       "    </tr>\n",
       "    <tr>\n",
       "      <th>1</th>\n",
       "      <td>BENGALURU(R)</td>\n",
       "      <td>Bengaluru Rural</td>\n",
       "      <td>42583</td>\n",
       "      <td>10</td>\n",
       "      <td>TotalNPK</td>\n",
       "      <td>44354</td>\n",
       "      <td>4.158937</td>\n",
       "      <td>1771</td>\n",
       "    </tr>\n",
       "    <tr>\n",
       "      <th>2</th>\n",
       "      <td>RAMANAGARA</td>\n",
       "      <td>Ramanagara</td>\n",
       "      <td>10450</td>\n",
       "      <td>10</td>\n",
       "      <td>TotalNPK</td>\n",
       "      <td>10579</td>\n",
       "      <td>1.234450</td>\n",
       "      <td>129</td>\n",
       "    </tr>\n",
       "    <tr>\n",
       "      <th>3</th>\n",
       "      <td>CHITRADURGA</td>\n",
       "      <td>Chitradurga</td>\n",
       "      <td>271975</td>\n",
       "      <td>10</td>\n",
       "      <td>TotalNPK</td>\n",
       "      <td>278336</td>\n",
       "      <td>2.338818</td>\n",
       "      <td>6361</td>\n",
       "    </tr>\n",
       "    <tr>\n",
       "      <th>4</th>\n",
       "      <td>DAVANAGERE</td>\n",
       "      <td>Davanagere</td>\n",
       "      <td>593544</td>\n",
       "      <td>10</td>\n",
       "      <td>TotalNPK</td>\n",
       "      <td>608541</td>\n",
       "      <td>2.526687</td>\n",
       "      <td>14997</td>\n",
       "    </tr>\n",
       "    <tr>\n",
       "      <th>...</th>\n",
       "      <td>...</td>\n",
       "      <td>...</td>\n",
       "      <td>...</td>\n",
       "      <td>...</td>\n",
       "      <td>...</td>\n",
       "      <td>...</td>\n",
       "      <td>...</td>\n",
       "      <td>...</td>\n",
       "    </tr>\n",
       "    <tr>\n",
       "      <th>367</th>\n",
       "      <td>KALABURAGI</td>\n",
       "      <td>Kalaburagi</td>\n",
       "      <td>14621</td>\n",
       "      <td>-20</td>\n",
       "      <td>AreaUnderCereals_Maize</td>\n",
       "      <td>13684</td>\n",
       "      <td>-6.408590</td>\n",
       "      <td>-937</td>\n",
       "    </tr>\n",
       "    <tr>\n",
       "      <th>368</th>\n",
       "      <td>YADGIRI</td>\n",
       "      <td>Yadgir</td>\n",
       "      <td>2673</td>\n",
       "      <td>-20</td>\n",
       "      <td>AreaUnderCereals_Maize</td>\n",
       "      <td>2331</td>\n",
       "      <td>-12.794613</td>\n",
       "      <td>-342</td>\n",
       "    </tr>\n",
       "    <tr>\n",
       "      <th>369</th>\n",
       "      <td>RAICHUR</td>\n",
       "      <td>Raichur</td>\n",
       "      <td>723</td>\n",
       "      <td>-20</td>\n",
       "      <td>AreaUnderCereals_Maize</td>\n",
       "      <td>-201</td>\n",
       "      <td>-127.800830</td>\n",
       "      <td>-924</td>\n",
       "    </tr>\n",
       "    <tr>\n",
       "      <th>370</th>\n",
       "      <td>KOPPAL</td>\n",
       "      <td>Koppal</td>\n",
       "      <td>190252</td>\n",
       "      <td>-20</td>\n",
       "      <td>AreaUnderCereals_Maize</td>\n",
       "      <td>173103</td>\n",
       "      <td>-9.013834</td>\n",
       "      <td>-17149</td>\n",
       "    </tr>\n",
       "    <tr>\n",
       "      <th>371</th>\n",
       "      <td>VIJAYANAGARA</td>\n",
       "      <td>Vijayanagara</td>\n",
       "      <td>104045</td>\n",
       "      <td>-20</td>\n",
       "      <td>AreaUnderCereals_Maize</td>\n",
       "      <td>86305</td>\n",
       "      <td>-17.050315</td>\n",
       "      <td>-17740</td>\n",
       "    </tr>\n",
       "  </tbody>\n",
       "</table>\n",
       "<p>372 rows × 8 columns</p>\n",
       "</div>"
      ],
      "text/plain": [
       "         District     KDG_District  Original Maize Production Value  \\\n",
       "0       BENGALURU  Bengaluru Urban                             2879   \n",
       "1    BENGALURU(R)  Bengaluru Rural                            42583   \n",
       "2      RAMANAGARA       Ramanagara                            10450   \n",
       "3     CHITRADURGA      Chitradurga                           271975   \n",
       "4      DAVANAGERE       Davanagere                           593544   \n",
       "..            ...              ...                              ...   \n",
       "367    KALABURAGI       Kalaburagi                            14621   \n",
       "368       YADGIRI           Yadgir                             2673   \n",
       "369       RAICHUR          Raichur                              723   \n",
       "370        KOPPAL           Koppal                           190252   \n",
       "371  VIJAYANAGARA     Vijayanagara                           104045   \n",
       "\n",
       "     Perturbation                  Factor  New Maize Production Values  \\\n",
       "0              10                TotalNPK                         3134   \n",
       "1              10                TotalNPK                        44354   \n",
       "2              10                TotalNPK                        10579   \n",
       "3              10                TotalNPK                       278336   \n",
       "4              10                TotalNPK                       608541   \n",
       "..            ...                     ...                          ...   \n",
       "367           -20  AreaUnderCereals_Maize                        13684   \n",
       "368           -20  AreaUnderCereals_Maize                         2331   \n",
       "369           -20  AreaUnderCereals_Maize                         -201   \n",
       "370           -20  AreaUnderCereals_Maize                       173103   \n",
       "371           -20  AreaUnderCereals_Maize                        86305   \n",
       "\n",
       "     Percentage Change  Change  \n",
       "0             8.857242     255  \n",
       "1             4.158937    1771  \n",
       "2             1.234450     129  \n",
       "3             2.338818    6361  \n",
       "4             2.526687   14997  \n",
       "..                 ...     ...  \n",
       "367          -6.408590    -937  \n",
       "368         -12.794613    -342  \n",
       "369        -127.800830    -924  \n",
       "370          -9.013834  -17149  \n",
       "371         -17.050315  -17740  \n",
       "\n",
       "[372 rows x 8 columns]"
      ]
     },
     "execution_count": 19,
     "metadata": {},
     "output_type": "execute_result"
    }
   ],
   "source": [
    "# Perturbations and factor mapping\n",
    "crop = 'Maize'\n",
    "perturbations = [10, -10, 20, -20]\n",
    "factor_mapping = {\n",
    "    'NPK': 'TotalNPK',\n",
    "    'Cattle': 'LivestockCensus_2012_Cattle',\n",
    "    'MArea': 'AreaUnderCereals_Maize',\n",
    "}\n",
    "\n",
    "# Initialize an empty DataFrame to store the results\n",
    "Maize_Diff_Impact = pd.DataFrame()\n",
    "\n",
    "# Loop over each perturbation and factor\n",
    "for perturbation in perturbations:\n",
    "    for factor, mapped_factor in factor_mapping.items():\n",
    "        # Call the function\n",
    "        Change, impact, New_Production = calculate_Change_Impact(Working_Directory, crop, perturbation, factor)\n",
    "        District = Working_Directory['District']\n",
    "        KDG_District = Working_Directory['KDG_District']\n",
    "        Orig = Working_Directory[f'{crop}_Production']\n",
    "        \n",
    "        # Create a DataFrame with the results\n",
    "        temp_df = pd.DataFrame({\n",
    "            'District' : District,\n",
    "            'KDG_District' : KDG_District,\n",
    "            'Original Maize Production Value' : Orig,\n",
    "            'Perturbation': perturbation,\n",
    "            'Factor': mapped_factor,\n",
    "            'New Maize Production Values': New_Production,\n",
    "            'Percentage Change': impact,\n",
    "            'Change': Change\n",
    "        })\n",
    "        \n",
    "        # Append the results to the final DataFrame\n",
    "        Maize_Diff_Impact = pd.concat([Maize_Diff_Impact, temp_df], ignore_index=True)\n",
    "\n",
    "# Display or save the final DataFrame\n",
    "Maize_Diff_Impact.to_csv('DIA\\Maize_Diff_Impact.csv',index=False)\n",
    "Maize_Diff_Impact"
   ]
  },
  {
   "cell_type": "code",
   "execution_count": 20,
   "metadata": {},
   "outputs": [
    {
     "data": {
      "text/html": [
       "<div>\n",
       "<style scoped>\n",
       "    .dataframe tbody tr th:only-of-type {\n",
       "        vertical-align: middle;\n",
       "    }\n",
       "\n",
       "    .dataframe tbody tr th {\n",
       "        vertical-align: top;\n",
       "    }\n",
       "\n",
       "    .dataframe thead th {\n",
       "        text-align: right;\n",
       "    }\n",
       "</style>\n",
       "<table border=\"1\" class=\"dataframe\">\n",
       "  <thead>\n",
       "    <tr style=\"text-align: right;\">\n",
       "      <th></th>\n",
       "      <th>District</th>\n",
       "      <th>KDG_District</th>\n",
       "      <th>Original Maize Production Value</th>\n",
       "      <th>Perturbation</th>\n",
       "      <th>Factor</th>\n",
       "      <th>New Maize Production Values</th>\n",
       "      <th>Percentage Change</th>\n",
       "      <th>Change</th>\n",
       "      <th>Initial Stress</th>\n",
       "      <th>Initial Stability</th>\n",
       "      <th>Stress</th>\n",
       "      <th>Stability</th>\n",
       "    </tr>\n",
       "  </thead>\n",
       "  <tbody>\n",
       "    <tr>\n",
       "      <th>0</th>\n",
       "      <td>BENGALURU</td>\n",
       "      <td>Bengaluru Urban</td>\n",
       "      <td>2879</td>\n",
       "      <td>10</td>\n",
       "      <td>TotalNPK</td>\n",
       "      <td>3134</td>\n",
       "      <td>8.857242</td>\n",
       "      <td>255</td>\n",
       "      <td>0.039824</td>\n",
       "      <td>0.960176</td>\n",
       "      <td>0.039985</td>\n",
       "      <td>0.960015</td>\n",
       "    </tr>\n",
       "    <tr>\n",
       "      <th>1</th>\n",
       "      <td>BENGALURU(R)</td>\n",
       "      <td>Bengaluru Rural</td>\n",
       "      <td>42583</td>\n",
       "      <td>10</td>\n",
       "      <td>TotalNPK</td>\n",
       "      <td>44354</td>\n",
       "      <td>4.158937</td>\n",
       "      <td>1771</td>\n",
       "      <td>0.008582</td>\n",
       "      <td>0.991418</td>\n",
       "      <td>0.009014</td>\n",
       "      <td>0.990986</td>\n",
       "    </tr>\n",
       "    <tr>\n",
       "      <th>2</th>\n",
       "      <td>RAMANAGARA</td>\n",
       "      <td>Ramanagara</td>\n",
       "      <td>10450</td>\n",
       "      <td>10</td>\n",
       "      <td>TotalNPK</td>\n",
       "      <td>10579</td>\n",
       "      <td>1.234450</td>\n",
       "      <td>129</td>\n",
       "      <td>0.076609</td>\n",
       "      <td>0.923391</td>\n",
       "      <td>0.077377</td>\n",
       "      <td>0.922623</td>\n",
       "    </tr>\n",
       "    <tr>\n",
       "      <th>3</th>\n",
       "      <td>CHITRADURGA</td>\n",
       "      <td>Chitradurga</td>\n",
       "      <td>271975</td>\n",
       "      <td>10</td>\n",
       "      <td>TotalNPK</td>\n",
       "      <td>278336</td>\n",
       "      <td>2.338818</td>\n",
       "      <td>6361</td>\n",
       "      <td>0.144899</td>\n",
       "      <td>0.855101</td>\n",
       "      <td>0.141539</td>\n",
       "      <td>0.858461</td>\n",
       "    </tr>\n",
       "    <tr>\n",
       "      <th>4</th>\n",
       "      <td>DAVANAGERE</td>\n",
       "      <td>Davanagere</td>\n",
       "      <td>593544</td>\n",
       "      <td>10</td>\n",
       "      <td>TotalNPK</td>\n",
       "      <td>608541</td>\n",
       "      <td>2.526687</td>\n",
       "      <td>14997</td>\n",
       "      <td>0.668253</td>\n",
       "      <td>0.331747</td>\n",
       "      <td>0.665559</td>\n",
       "      <td>0.334441</td>\n",
       "    </tr>\n",
       "    <tr>\n",
       "      <th>...</th>\n",
       "      <td>...</td>\n",
       "      <td>...</td>\n",
       "      <td>...</td>\n",
       "      <td>...</td>\n",
       "      <td>...</td>\n",
       "      <td>...</td>\n",
       "      <td>...</td>\n",
       "      <td>...</td>\n",
       "      <td>...</td>\n",
       "      <td>...</td>\n",
       "      <td>...</td>\n",
       "      <td>...</td>\n",
       "    </tr>\n",
       "    <tr>\n",
       "      <th>367</th>\n",
       "      <td>KALABURAGI</td>\n",
       "      <td>Kalaburagi</td>\n",
       "      <td>14621</td>\n",
       "      <td>-20</td>\n",
       "      <td>AreaUnderCereals_Maize</td>\n",
       "      <td>13684</td>\n",
       "      <td>-6.408590</td>\n",
       "      <td>-937</td>\n",
       "      <td>0.105540</td>\n",
       "      <td>0.894460</td>\n",
       "      <td>0.110013</td>\n",
       "      <td>0.889987</td>\n",
       "    </tr>\n",
       "    <tr>\n",
       "      <th>368</th>\n",
       "      <td>YADGIRI</td>\n",
       "      <td>Yadgir</td>\n",
       "      <td>2673</td>\n",
       "      <td>-20</td>\n",
       "      <td>AreaUnderCereals_Maize</td>\n",
       "      <td>2331</td>\n",
       "      <td>-12.794613</td>\n",
       "      <td>-342</td>\n",
       "      <td>0.131219</td>\n",
       "      <td>0.868781</td>\n",
       "      <td>0.136897</td>\n",
       "      <td>0.863103</td>\n",
       "    </tr>\n",
       "    <tr>\n",
       "      <th>369</th>\n",
       "      <td>RAICHUR</td>\n",
       "      <td>Raichur</td>\n",
       "      <td>723</td>\n",
       "      <td>-20</td>\n",
       "      <td>AreaUnderCereals_Maize</td>\n",
       "      <td>-201</td>\n",
       "      <td>-127.800830</td>\n",
       "      <td>-924</td>\n",
       "      <td>0.259924</td>\n",
       "      <td>0.740076</td>\n",
       "      <td>0.267152</td>\n",
       "      <td>0.732848</td>\n",
       "    </tr>\n",
       "    <tr>\n",
       "      <th>370</th>\n",
       "      <td>KOPPAL</td>\n",
       "      <td>Koppal</td>\n",
       "      <td>190252</td>\n",
       "      <td>-20</td>\n",
       "      <td>AreaUnderCereals_Maize</td>\n",
       "      <td>173103</td>\n",
       "      <td>-9.013834</td>\n",
       "      <td>-17149</td>\n",
       "      <td>0.118701</td>\n",
       "      <td>0.881299</td>\n",
       "      <td>0.124362</td>\n",
       "      <td>0.875638</td>\n",
       "    </tr>\n",
       "    <tr>\n",
       "      <th>371</th>\n",
       "      <td>VIJAYANAGARA</td>\n",
       "      <td>Vijayanagara</td>\n",
       "      <td>104045</td>\n",
       "      <td>-20</td>\n",
       "      <td>AreaUnderCereals_Maize</td>\n",
       "      <td>86305</td>\n",
       "      <td>-17.050315</td>\n",
       "      <td>-17740</td>\n",
       "      <td>0.305372</td>\n",
       "      <td>0.694628</td>\n",
       "      <td>0.310649</td>\n",
       "      <td>0.689351</td>\n",
       "    </tr>\n",
       "  </tbody>\n",
       "</table>\n",
       "<p>372 rows × 12 columns</p>\n",
       "</div>"
      ],
      "text/plain": [
       "         District     KDG_District  Original Maize Production Value  \\\n",
       "0       BENGALURU  Bengaluru Urban                             2879   \n",
       "1    BENGALURU(R)  Bengaluru Rural                            42583   \n",
       "2      RAMANAGARA       Ramanagara                            10450   \n",
       "3     CHITRADURGA      Chitradurga                           271975   \n",
       "4      DAVANAGERE       Davanagere                           593544   \n",
       "..            ...              ...                              ...   \n",
       "367    KALABURAGI       Kalaburagi                            14621   \n",
       "368       YADGIRI           Yadgir                             2673   \n",
       "369       RAICHUR          Raichur                              723   \n",
       "370        KOPPAL           Koppal                           190252   \n",
       "371  VIJAYANAGARA     Vijayanagara                           104045   \n",
       "\n",
       "     Perturbation                  Factor  New Maize Production Values  \\\n",
       "0              10                TotalNPK                         3134   \n",
       "1              10                TotalNPK                        44354   \n",
       "2              10                TotalNPK                        10579   \n",
       "3              10                TotalNPK                       278336   \n",
       "4              10                TotalNPK                       608541   \n",
       "..            ...                     ...                          ...   \n",
       "367           -20  AreaUnderCereals_Maize                        13684   \n",
       "368           -20  AreaUnderCereals_Maize                         2331   \n",
       "369           -20  AreaUnderCereals_Maize                         -201   \n",
       "370           -20  AreaUnderCereals_Maize                       173103   \n",
       "371           -20  AreaUnderCereals_Maize                        86305   \n",
       "\n",
       "     Percentage Change  Change  Initial Stress  Initial Stability    Stress  \\\n",
       "0             8.857242     255        0.039824           0.960176  0.039985   \n",
       "1             4.158937    1771        0.008582           0.991418  0.009014   \n",
       "2             1.234450     129        0.076609           0.923391  0.077377   \n",
       "3             2.338818    6361        0.144899           0.855101  0.141539   \n",
       "4             2.526687   14997        0.668253           0.331747  0.665559   \n",
       "..                 ...     ...             ...                ...       ...   \n",
       "367          -6.408590    -937        0.105540           0.894460  0.110013   \n",
       "368         -12.794613    -342        0.131219           0.868781  0.136897   \n",
       "369        -127.800830    -924        0.259924           0.740076  0.267152   \n",
       "370          -9.013834  -17149        0.118701           0.881299  0.124362   \n",
       "371         -17.050315  -17740        0.305372           0.694628  0.310649   \n",
       "\n",
       "     Stability  \n",
       "0     0.960015  \n",
       "1     0.990986  \n",
       "2     0.922623  \n",
       "3     0.858461  \n",
       "4     0.334441  \n",
       "..         ...  \n",
       "367   0.889987  \n",
       "368   0.863103  \n",
       "369   0.732848  \n",
       "370   0.875638  \n",
       "371   0.689351  \n",
       "\n",
       "[372 rows x 12 columns]"
      ]
     },
     "execution_count": 20,
     "metadata": {},
     "output_type": "execute_result"
    }
   ],
   "source": [
    "# Perturbations and factor mapping\n",
    "crop = 'Maize'\n",
    "perturbations = [10, -10, 20, -20]\n",
    "factor_mapping = {\n",
    "    'NPK': 'TotalNPK',\n",
    "    'Cattle': 'LivestockCensus_2012_Cattle',\n",
    "    'MArea': 'AreaUnderCereals_Maize',\n",
    "}\n",
    "\n",
    "# Initialize an empty DataFrame to store the results\n",
    "Maize_1D_Diff_Impact = pd.DataFrame()\n",
    "\n",
    "Name = 'Maize_Production'\n",
    "\n",
    "Capability_list = normalize_list(Working_Directory[f'{Name}'])\n",
    "init_stress, init_stability = calculate_stress_stability(Capability_list, adj_matrix_np)\n",
    "\n",
    "# Loop over each perturbation and factor\n",
    "for perturbation in perturbations:\n",
    "    for factor, mapped_factor in factor_mapping.items():\n",
    "        # Call the function\n",
    "        Change, impact, New_Production = calculate_Change_Impact(Working_Directory, crop, perturbation, factor)\n",
    "        stability, stress, impact, stability_column_name, stress_column_name, impact_column_name = calculate_metrics(Working_Directory, crop, perturbation, factor)\n",
    "        \n",
    "        District = Working_Directory['District']\n",
    "        KDG_District = Working_Directory['KDG_District']\n",
    "        Orig = Working_Directory[f'{crop}_Production']\n",
    "        \n",
    "        temp_df = pd.DataFrame({\n",
    "            'District' : District,\n",
    "            'KDG_District' : KDG_District,\n",
    "            'Original Maize Production Value' : Orig,\n",
    "            'Perturbation': perturbation,\n",
    "            'Factor': mapped_factor,\n",
    "            'New Maize Production Values': New_Production,\n",
    "            'Percentage Change': impact,\n",
    "            'Change': Change,\n",
    "            'Initial Stress': init_stress,\n",
    "            'Initial Stability': init_stability,\n",
    "            'Stress': stress,\n",
    "            'Stability': stability\n",
    "        })\n",
    "        \n",
    "        # Append the results to the final DataFrame\n",
    "        Maize_1D_Diff_Impact = pd.concat([Maize_1D_Diff_Impact, temp_df], ignore_index=True)\n",
    "\n",
    "# Display or save the final DataFrame\n",
    "Maize_1D_Diff_Impact.to_csv('1D\\Maize_1D_Diff_Impact.csv',index=False)\n",
    "Maize_1D_Diff_Impact"
   ]
  },
  {
   "cell_type": "code",
   "execution_count": 21,
   "metadata": {},
   "outputs": [
    {
     "data": {
      "application/vnd.plotly.v1+json": {
       "config": {
        "plotlyServerURL": "https://plot.ly"
       },
       "data": [
        {
         "hoverinfo": "text+name",
         "hoverlabel": {
          "bgcolor": "grey",
          "font": {
           "color": "white"
          }
         },
         "hovertemplate": "Stability=%{x}<br>Impact=%{y}<br>Abbreviation=%{text}<extra></extra>",
         "hovertext": [
          "Impact: 17.749218478638415<br>Stability: 0.9604688924024141",
          "Impact: 8.32022168470986<br>Stability: 0.9907166064611307",
          "Impact: 2.4784688995215314<br>Stability: 0.9230742257652316",
          "Impact: 4.677635812115084<br>Stability: 0.8637517394319145",
          "Impact: 5.05337430754923<br>Stability: 0.34702950044936975",
          "Impact: 14.610574189880616<br>Stability: 0.8758902495462867",
          "Impact: 9.067124209648217<br>Stability: 0.8805082010627975",
          "Impact: 5.371867992160048<br>Stability: 0.9889892577739378",
          "Impact: 4.791529580666388<br>Stability: 0.9070679095429968",
          "Impact: 15.513503822143987<br>Stability: 0.7574683032463605",
          "Impact: nan<br>Stability: 0.8235572389588522",
          "Impact: 1.834862385321101<br>Stability: 0.867948489122726",
          "Impact: 5.954416551625007<br>Stability: 0.5278272251171072",
          "Impact: 22.91166787567658<br>Stability: 0.7720255648448108",
          "Impact: 8.71718161654717<br>Stability: 0.8007082508699134",
          "Impact: 5.908686585881564<br>Stability: 0.989055991938197",
          "Impact: 5.751727682133535<br>Stability: 0.8461918353185103",
          "Impact: 9.770302275824523<br>Stability: 0.24810798772407283",
          "Impact: 5.372315278336213<br>Stability: 0.9173898965265065",
          "Impact: 10.635719649263605<br>Stability: 0.945705715761425",
          "Impact: 8.301520400732617<br>Stability: 0.6645099816935156",
          "Impact: 4.711285710159161<br>Stability: 0.8049600125277456",
          "Impact: 6.132961858534851<br>Stability: 0.6133509395696476",
          "Impact: 4.965127864496845<br>Stability: 0.5948549143986265",
          "Impact: 9.425729251766063<br>Stability: 0.7714570928093402",
          "Impact: 10.426370476531709<br>Stability: 0.9804662388309122",
          "Impact: 5.663087340127214<br>Stability: 0.8955819614000117",
          "Impact: 16.086793864571643<br>Stability: 0.8707858099210931",
          "Impact: 9.820193637621024<br>Stability: 0.736846261860122",
          "Impact: 6.745264175935076<br>Stability: 0.8851831201262341",
          "Impact: 9.425729251766063<br>Stability: 0.703603960771368"
         ],
         "legendgroup": "",
         "marker": {
          "color": "#636efa",
          "symbol": "circle"
         },
         "mode": "markers+text",
         "name": "",
         "orientation": "v",
         "showlegend": false,
         "text": [
          "BLR",
          "BLR(R)",
          "RGA",
          "CDA",
          "DVG",
          "KLR",
          "CKA",
          "SMG",
          "TKR",
          "CMG",
          "DKA",
          "UPI",
          "HSN",
          "KDG",
          "MDY",
          "MYS",
          "CNR",
          "BLG",
          "VJP",
          "BKT",
          "DWD",
          "GDG",
          "HVR",
          "UTK",
          "BLL",
          "BDR",
          "KLB",
          "YDR",
          "RCR",
          "KPL",
          "VNG"
         ],
         "textposition": "top center",
         "type": "scatter",
         "x": [
          0.9604688924024141,
          0.9907166064611307,
          0.9230742257652316,
          0.8637517394319145,
          0.34702950044936975,
          0.8758902495462867,
          0.8805082010627975,
          0.9889892577739378,
          0.9070679095429968,
          0.7574683032463605,
          0.8235572389588522,
          0.867948489122726,
          0.5278272251171072,
          0.7720255648448108,
          0.8007082508699134,
          0.989055991938197,
          0.8461918353185103,
          0.24810798772407283,
          0.9173898965265065,
          0.945705715761425,
          0.6645099816935156,
          0.8049600125277456,
          0.6133509395696476,
          0.5948549143986265,
          0.7714570928093402,
          0.9804662388309122,
          0.8955819614000117,
          0.8707858099210931,
          0.736846261860122,
          0.8851831201262341,
          0.703603960771368
         ],
         "xaxis": "x",
         "y": [
          17.749218478638415,
          8.32022168470986,
          2.4784688995215314,
          4.677635812115084,
          5.05337430754923,
          14.610574189880616,
          9.067124209648217,
          5.371867992160048,
          4.791529580666388,
          15.513503822143987,
          null,
          1.834862385321101,
          5.954416551625007,
          22.91166787567658,
          8.71718161654717,
          5.908686585881564,
          5.751727682133535,
          9.770302275824523,
          5.372315278336213,
          10.635719649263605,
          8.301520400732617,
          4.711285710159161,
          6.132961858534851,
          4.965127864496845,
          9.425729251766063,
          10.426370476531709,
          5.663087340127214,
          16.086793864571643,
          9.820193637621024,
          6.745264175935076,
          9.425729251766063
         ],
         "yaxis": "y"
        }
       ],
       "layout": {
        "annotations": [
         {
          "font": {
           "color": "red"
          },
          "showarrow": false,
          "text": "Avg Stability",
          "x": 0.7985510766378445,
          "y": 22.91166787567658
         },
         {
          "font": {
           "color": "blue"
          },
          "showarrow": false,
          "text": "Avg Impact",
          "x": 0.9907166064611307,
          "y": 8.539815423662832
         }
        ],
        "height": 500,
        "legend": {
         "tracegroupgap": 0
        },
        "shapes": [
         {
          "line": {
           "color": "blue",
           "dash": "dash",
           "width": 2
          },
          "type": "line",
          "x0": 0.24810798772407283,
          "x1": 0.9907166064611307,
          "y0": 8.539815423662832,
          "y1": 8.539815423662832
         },
         {
          "line": {
           "color": "red",
           "dash": "dash",
           "width": 2
          },
          "type": "line",
          "x0": 0.7985510766378445,
          "x1": 0.7985510766378445,
          "y0": 1.834862385321101,
          "y1": 22.91166787567658
         }
        ],
        "template": {
         "data": {
          "bar": [
           {
            "error_x": {
             "color": "#2a3f5f"
            },
            "error_y": {
             "color": "#2a3f5f"
            },
            "marker": {
             "line": {
              "color": "#E5ECF6",
              "width": 0.5
             },
             "pattern": {
              "fillmode": "overlay",
              "size": 10,
              "solidity": 0.2
             }
            },
            "type": "bar"
           }
          ],
          "barpolar": [
           {
            "marker": {
             "line": {
              "color": "#E5ECF6",
              "width": 0.5
             },
             "pattern": {
              "fillmode": "overlay",
              "size": 10,
              "solidity": 0.2
             }
            },
            "type": "barpolar"
           }
          ],
          "carpet": [
           {
            "aaxis": {
             "endlinecolor": "#2a3f5f",
             "gridcolor": "white",
             "linecolor": "white",
             "minorgridcolor": "white",
             "startlinecolor": "#2a3f5f"
            },
            "baxis": {
             "endlinecolor": "#2a3f5f",
             "gridcolor": "white",
             "linecolor": "white",
             "minorgridcolor": "white",
             "startlinecolor": "#2a3f5f"
            },
            "type": "carpet"
           }
          ],
          "choropleth": [
           {
            "colorbar": {
             "outlinewidth": 0,
             "ticks": ""
            },
            "type": "choropleth"
           }
          ],
          "contour": [
           {
            "colorbar": {
             "outlinewidth": 0,
             "ticks": ""
            },
            "colorscale": [
             [
              0,
              "#0d0887"
             ],
             [
              0.1111111111111111,
              "#46039f"
             ],
             [
              0.2222222222222222,
              "#7201a8"
             ],
             [
              0.3333333333333333,
              "#9c179e"
             ],
             [
              0.4444444444444444,
              "#bd3786"
             ],
             [
              0.5555555555555556,
              "#d8576b"
             ],
             [
              0.6666666666666666,
              "#ed7953"
             ],
             [
              0.7777777777777778,
              "#fb9f3a"
             ],
             [
              0.8888888888888888,
              "#fdca26"
             ],
             [
              1,
              "#f0f921"
             ]
            ],
            "type": "contour"
           }
          ],
          "contourcarpet": [
           {
            "colorbar": {
             "outlinewidth": 0,
             "ticks": ""
            },
            "type": "contourcarpet"
           }
          ],
          "heatmap": [
           {
            "colorbar": {
             "outlinewidth": 0,
             "ticks": ""
            },
            "colorscale": [
             [
              0,
              "#0d0887"
             ],
             [
              0.1111111111111111,
              "#46039f"
             ],
             [
              0.2222222222222222,
              "#7201a8"
             ],
             [
              0.3333333333333333,
              "#9c179e"
             ],
             [
              0.4444444444444444,
              "#bd3786"
             ],
             [
              0.5555555555555556,
              "#d8576b"
             ],
             [
              0.6666666666666666,
              "#ed7953"
             ],
             [
              0.7777777777777778,
              "#fb9f3a"
             ],
             [
              0.8888888888888888,
              "#fdca26"
             ],
             [
              1,
              "#f0f921"
             ]
            ],
            "type": "heatmap"
           }
          ],
          "heatmapgl": [
           {
            "colorbar": {
             "outlinewidth": 0,
             "ticks": ""
            },
            "colorscale": [
             [
              0,
              "#0d0887"
             ],
             [
              0.1111111111111111,
              "#46039f"
             ],
             [
              0.2222222222222222,
              "#7201a8"
             ],
             [
              0.3333333333333333,
              "#9c179e"
             ],
             [
              0.4444444444444444,
              "#bd3786"
             ],
             [
              0.5555555555555556,
              "#d8576b"
             ],
             [
              0.6666666666666666,
              "#ed7953"
             ],
             [
              0.7777777777777778,
              "#fb9f3a"
             ],
             [
              0.8888888888888888,
              "#fdca26"
             ],
             [
              1,
              "#f0f921"
             ]
            ],
            "type": "heatmapgl"
           }
          ],
          "histogram": [
           {
            "marker": {
             "pattern": {
              "fillmode": "overlay",
              "size": 10,
              "solidity": 0.2
             }
            },
            "type": "histogram"
           }
          ],
          "histogram2d": [
           {
            "colorbar": {
             "outlinewidth": 0,
             "ticks": ""
            },
            "colorscale": [
             [
              0,
              "#0d0887"
             ],
             [
              0.1111111111111111,
              "#46039f"
             ],
             [
              0.2222222222222222,
              "#7201a8"
             ],
             [
              0.3333333333333333,
              "#9c179e"
             ],
             [
              0.4444444444444444,
              "#bd3786"
             ],
             [
              0.5555555555555556,
              "#d8576b"
             ],
             [
              0.6666666666666666,
              "#ed7953"
             ],
             [
              0.7777777777777778,
              "#fb9f3a"
             ],
             [
              0.8888888888888888,
              "#fdca26"
             ],
             [
              1,
              "#f0f921"
             ]
            ],
            "type": "histogram2d"
           }
          ],
          "histogram2dcontour": [
           {
            "colorbar": {
             "outlinewidth": 0,
             "ticks": ""
            },
            "colorscale": [
             [
              0,
              "#0d0887"
             ],
             [
              0.1111111111111111,
              "#46039f"
             ],
             [
              0.2222222222222222,
              "#7201a8"
             ],
             [
              0.3333333333333333,
              "#9c179e"
             ],
             [
              0.4444444444444444,
              "#bd3786"
             ],
             [
              0.5555555555555556,
              "#d8576b"
             ],
             [
              0.6666666666666666,
              "#ed7953"
             ],
             [
              0.7777777777777778,
              "#fb9f3a"
             ],
             [
              0.8888888888888888,
              "#fdca26"
             ],
             [
              1,
              "#f0f921"
             ]
            ],
            "type": "histogram2dcontour"
           }
          ],
          "mesh3d": [
           {
            "colorbar": {
             "outlinewidth": 0,
             "ticks": ""
            },
            "type": "mesh3d"
           }
          ],
          "parcoords": [
           {
            "line": {
             "colorbar": {
              "outlinewidth": 0,
              "ticks": ""
             }
            },
            "type": "parcoords"
           }
          ],
          "pie": [
           {
            "automargin": true,
            "type": "pie"
           }
          ],
          "scatter": [
           {
            "fillpattern": {
             "fillmode": "overlay",
             "size": 10,
             "solidity": 0.2
            },
            "type": "scatter"
           }
          ],
          "scatter3d": [
           {
            "line": {
             "colorbar": {
              "outlinewidth": 0,
              "ticks": ""
             }
            },
            "marker": {
             "colorbar": {
              "outlinewidth": 0,
              "ticks": ""
             }
            },
            "type": "scatter3d"
           }
          ],
          "scattercarpet": [
           {
            "marker": {
             "colorbar": {
              "outlinewidth": 0,
              "ticks": ""
             }
            },
            "type": "scattercarpet"
           }
          ],
          "scattergeo": [
           {
            "marker": {
             "colorbar": {
              "outlinewidth": 0,
              "ticks": ""
             }
            },
            "type": "scattergeo"
           }
          ],
          "scattergl": [
           {
            "marker": {
             "colorbar": {
              "outlinewidth": 0,
              "ticks": ""
             }
            },
            "type": "scattergl"
           }
          ],
          "scattermapbox": [
           {
            "marker": {
             "colorbar": {
              "outlinewidth": 0,
              "ticks": ""
             }
            },
            "type": "scattermapbox"
           }
          ],
          "scatterpolar": [
           {
            "marker": {
             "colorbar": {
              "outlinewidth": 0,
              "ticks": ""
             }
            },
            "type": "scatterpolar"
           }
          ],
          "scatterpolargl": [
           {
            "marker": {
             "colorbar": {
              "outlinewidth": 0,
              "ticks": ""
             }
            },
            "type": "scatterpolargl"
           }
          ],
          "scatterternary": [
           {
            "marker": {
             "colorbar": {
              "outlinewidth": 0,
              "ticks": ""
             }
            },
            "type": "scatterternary"
           }
          ],
          "surface": [
           {
            "colorbar": {
             "outlinewidth": 0,
             "ticks": ""
            },
            "colorscale": [
             [
              0,
              "#0d0887"
             ],
             [
              0.1111111111111111,
              "#46039f"
             ],
             [
              0.2222222222222222,
              "#7201a8"
             ],
             [
              0.3333333333333333,
              "#9c179e"
             ],
             [
              0.4444444444444444,
              "#bd3786"
             ],
             [
              0.5555555555555556,
              "#d8576b"
             ],
             [
              0.6666666666666666,
              "#ed7953"
             ],
             [
              0.7777777777777778,
              "#fb9f3a"
             ],
             [
              0.8888888888888888,
              "#fdca26"
             ],
             [
              1,
              "#f0f921"
             ]
            ],
            "type": "surface"
           }
          ],
          "table": [
           {
            "cells": {
             "fill": {
              "color": "#EBF0F8"
             },
             "line": {
              "color": "white"
             }
            },
            "header": {
             "fill": {
              "color": "#C8D4E3"
             },
             "line": {
              "color": "white"
             }
            },
            "type": "table"
           }
          ]
         },
         "layout": {
          "annotationdefaults": {
           "arrowcolor": "#2a3f5f",
           "arrowhead": 0,
           "arrowwidth": 1
          },
          "autotypenumbers": "strict",
          "coloraxis": {
           "colorbar": {
            "outlinewidth": 0,
            "ticks": ""
           }
          },
          "colorscale": {
           "diverging": [
            [
             0,
             "#8e0152"
            ],
            [
             0.1,
             "#c51b7d"
            ],
            [
             0.2,
             "#de77ae"
            ],
            [
             0.3,
             "#f1b6da"
            ],
            [
             0.4,
             "#fde0ef"
            ],
            [
             0.5,
             "#f7f7f7"
            ],
            [
             0.6,
             "#e6f5d0"
            ],
            [
             0.7,
             "#b8e186"
            ],
            [
             0.8,
             "#7fbc41"
            ],
            [
             0.9,
             "#4d9221"
            ],
            [
             1,
             "#276419"
            ]
           ],
           "sequential": [
            [
             0,
             "#0d0887"
            ],
            [
             0.1111111111111111,
             "#46039f"
            ],
            [
             0.2222222222222222,
             "#7201a8"
            ],
            [
             0.3333333333333333,
             "#9c179e"
            ],
            [
             0.4444444444444444,
             "#bd3786"
            ],
            [
             0.5555555555555556,
             "#d8576b"
            ],
            [
             0.6666666666666666,
             "#ed7953"
            ],
            [
             0.7777777777777778,
             "#fb9f3a"
            ],
            [
             0.8888888888888888,
             "#fdca26"
            ],
            [
             1,
             "#f0f921"
            ]
           ],
           "sequentialminus": [
            [
             0,
             "#0d0887"
            ],
            [
             0.1111111111111111,
             "#46039f"
            ],
            [
             0.2222222222222222,
             "#7201a8"
            ],
            [
             0.3333333333333333,
             "#9c179e"
            ],
            [
             0.4444444444444444,
             "#bd3786"
            ],
            [
             0.5555555555555556,
             "#d8576b"
            ],
            [
             0.6666666666666666,
             "#ed7953"
            ],
            [
             0.7777777777777778,
             "#fb9f3a"
            ],
            [
             0.8888888888888888,
             "#fdca26"
            ],
            [
             1,
             "#f0f921"
            ]
           ]
          },
          "colorway": [
           "#636efa",
           "#EF553B",
           "#00cc96",
           "#ab63fa",
           "#FFA15A",
           "#19d3f3",
           "#FF6692",
           "#B6E880",
           "#FF97FF",
           "#FECB52"
          ],
          "font": {
           "color": "#2a3f5f"
          },
          "geo": {
           "bgcolor": "white",
           "lakecolor": "white",
           "landcolor": "#E5ECF6",
           "showlakes": true,
           "showland": true,
           "subunitcolor": "white"
          },
          "hoverlabel": {
           "align": "left"
          },
          "hovermode": "closest",
          "mapbox": {
           "style": "light"
          },
          "paper_bgcolor": "white",
          "plot_bgcolor": "#E5ECF6",
          "polar": {
           "angularaxis": {
            "gridcolor": "white",
            "linecolor": "white",
            "ticks": ""
           },
           "bgcolor": "#E5ECF6",
           "radialaxis": {
            "gridcolor": "white",
            "linecolor": "white",
            "ticks": ""
           }
          },
          "scene": {
           "xaxis": {
            "backgroundcolor": "#E5ECF6",
            "gridcolor": "white",
            "gridwidth": 2,
            "linecolor": "white",
            "showbackground": true,
            "ticks": "",
            "zerolinecolor": "white"
           },
           "yaxis": {
            "backgroundcolor": "#E5ECF6",
            "gridcolor": "white",
            "gridwidth": 2,
            "linecolor": "white",
            "showbackground": true,
            "ticks": "",
            "zerolinecolor": "white"
           },
           "zaxis": {
            "backgroundcolor": "#E5ECF6",
            "gridcolor": "white",
            "gridwidth": 2,
            "linecolor": "white",
            "showbackground": true,
            "ticks": "",
            "zerolinecolor": "white"
           }
          },
          "shapedefaults": {
           "line": {
            "color": "#2a3f5f"
           }
          },
          "ternary": {
           "aaxis": {
            "gridcolor": "white",
            "linecolor": "white",
            "ticks": ""
           },
           "baxis": {
            "gridcolor": "white",
            "linecolor": "white",
            "ticks": ""
           },
           "bgcolor": "#E5ECF6",
           "caxis": {
            "gridcolor": "white",
            "linecolor": "white",
            "ticks": ""
           }
          },
          "title": {
           "x": 0.05
          },
          "xaxis": {
           "automargin": true,
           "gridcolor": "white",
           "linecolor": "white",
           "ticks": "",
           "title": {
            "standoff": 15
           },
           "zerolinecolor": "white",
           "zerolinewidth": 2
          },
          "yaxis": {
           "automargin": true,
           "gridcolor": "white",
           "linecolor": "white",
           "ticks": "",
           "title": {
            "standoff": 15
           },
           "zerolinecolor": "white",
           "zerolinewidth": 2
          }
         }
        },
        "title": {
         "text": "Impact vs Stability (Maize +20% NPK)"
        },
        "width": 800,
        "xaxis": {
         "anchor": "y",
         "domain": [
          0,
          1
         ],
         "title": {
          "text": "Stability"
         }
        },
        "yaxis": {
         "anchor": "x",
         "domain": [
          0,
          1
         ],
         "title": {
          "text": "Impact"
         }
        }
       }
      }
     },
     "metadata": {},
     "output_type": "display_data"
    }
   ],
   "source": [
    "import plotly.express as px\n",
    "\n",
    "# Visualization function\n",
    "def Calculate_and_visualize_1D(Working_Directory, crop, perturbation, what):\n",
    "    calculate_and_visualize(perturbation, crop, Working_Directory, what, False)\n",
    "    stability, stress, impact, stability_column_name, stress_column_name, impact_column_name = calculate_metrics(Working_Directory, crop, perturbation, what)\n",
    "    \n",
    "    # Add metrics to Working_Directory DataFrame\n",
    "    Working_Directory[stability_column_name] = stability\n",
    "    Working_Directory[stress_column_name] = stress\n",
    "    Working_Directory[impact_column_name] = impact\n",
    "    \n",
    "    # Prepare data for Plotly\n",
    "    for_plots = Working_Directory[[stability_column_name, impact_column_name, 'Abbreviation']].copy()\n",
    "    for_plots.rename(columns={stability_column_name: 'stability', impact_column_name: 'Impact'}, inplace=True)\n",
    "\n",
    "    # Create scatter plot with Plotly\n",
    "    fig_increase = px.scatter(\n",
    "        for_plots,\n",
    "        x='stability',\n",
    "        y='Impact',\n",
    "        title=f'Impact vs Stability ({crop} +{perturbation}% {what})',\n",
    "        labels={'stability': 'Stability', 'Impact': 'Impact'},\n",
    "        text='Abbreviation',\n",
    "        size_max=8,\n",
    "        width=800,\n",
    "        height=500\n",
    "    )\n",
    "\n",
    "    # Update hover labels\n",
    "    fig_increase.update_traces(\n",
    "        hoverlabel=dict(bgcolor='grey', font=dict(color='white')),\n",
    "        textposition='top center'\n",
    "    )\n",
    "\n",
    "    # Calculate and add average lines\n",
    "    avg_x_increase = for_plots['stability'].mean()\n",
    "    avg_y_increase = for_plots['Impact'].mean()\n",
    "\n",
    "    fig_increase.add_shape(\n",
    "        type='line',\n",
    "        x0=min(for_plots['stability']),\n",
    "        x1=max(for_plots['stability']),\n",
    "        y0=avg_y_increase,\n",
    "        y1=avg_y_increase,\n",
    "        line=dict(color='blue', width=2, dash='dash')\n",
    "    )\n",
    "    fig_increase.add_shape(\n",
    "        type='line',\n",
    "        x0=avg_x_increase,\n",
    "        x1=avg_x_increase,\n",
    "        y0=min(for_plots['Impact']),\n",
    "        y1=max(for_plots['Impact']),\n",
    "        line=dict(color='red', width=2, dash='dash')\n",
    "    )\n",
    "\n",
    "    # Add annotations for average lines\n",
    "    fig_increase.add_annotation(\n",
    "        x=avg_x_increase,\n",
    "        y=max(for_plots['Impact']),\n",
    "        text='Avg Stability',\n",
    "        showarrow=False,\n",
    "        font=dict(color='red')\n",
    "    )\n",
    "    fig_increase.add_annotation(\n",
    "        x=max(for_plots['stability']),\n",
    "        y=avg_y_increase,\n",
    "        text='Avg Impact',\n",
    "        showarrow=False,\n",
    "        font=dict(color='blue')\n",
    "    )\n",
    "\n",
    "    # Add tooltips\n",
    "    fig_increase.update_traces(\n",
    "        hoverinfo='text+name',\n",
    "        hovertext=[\"Impact: \" + str(y) +\n",
    "                   f\"<br>Stability: {x}\"\n",
    "                   for x, y in zip(for_plots['stability'], for_plots['Impact'])]\n",
    "    )\n",
    "\n",
    "    # Show the plot\n",
    "    fig_increase.show()\n",
    "\n",
    "# Example usage\n",
    "crop = 'Maize'\n",
    "perturbation = 20\n",
    "what = 'NPK'\n",
    "Calculate_and_visualize_1D(Working_Directory, crop, perturbation, what)\n"
   ]
  }
 ],
 "metadata": {
  "kernelspec": {
   "display_name": "Python 3",
   "language": "python",
   "name": "python3"
  },
  "language_info": {
   "codemirror_mode": {
    "name": "ipython",
    "version": 3
   },
   "file_extension": ".py",
   "mimetype": "text/x-python",
   "name": "python",
   "nbconvert_exporter": "python",
   "pygments_lexer": "ipython3",
   "version": "3.9.undefined"
  }
 },
 "nbformat": 4,
 "nbformat_minor": 2
}
