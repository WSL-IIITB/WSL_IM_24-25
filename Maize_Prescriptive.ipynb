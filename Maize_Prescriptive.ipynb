{
 "cells": [
  {
   "cell_type": "code",
   "execution_count": 1,
   "metadata": {},
   "outputs": [],
   "source": [
    "import pandas as pd\n",
    "import statsmodels.api as sm\n",
    "import re\n",
    "import numpy as np\n",
    "import pandas as pd\n",
    "from itertools import product"
   ]
  },
  {
   "cell_type": "code",
   "execution_count": 2,
   "metadata": {},
   "outputs": [
    {
     "data": {
      "text/html": [
       "<div>\n",
       "<style scoped>\n",
       "    .dataframe tbody tr th:only-of-type {\n",
       "        vertical-align: middle;\n",
       "    }\n",
       "\n",
       "    .dataframe tbody tr th {\n",
       "        vertical-align: top;\n",
       "    }\n",
       "\n",
       "    .dataframe thead th {\n",
       "        text-align: right;\n",
       "    }\n",
       "</style>\n",
       "<table border=\"1\" class=\"dataframe\">\n",
       "  <thead>\n",
       "    <tr style=\"text-align: right;\">\n",
       "      <th></th>\n",
       "      <th>District</th>\n",
       "      <th>Maize_Production</th>\n",
       "      <th>TotalNPK</th>\n",
       "      <th>SowingSeedsDistributed_Maize</th>\n",
       "      <th>LivestockCensus_2012_Cattle</th>\n",
       "      <th>AreaUnderCereals_Maize</th>\n",
       "      <th>NetAreaIrrigatedUnderDifferentSources_TubeWells_NetIrrigatedArea</th>\n",
       "      <th>Maize_Ratio</th>\n",
       "    </tr>\n",
       "  </thead>\n",
       "  <tbody>\n",
       "    <tr>\n",
       "      <th>24</th>\n",
       "      <td>BALLARI</td>\n",
       "      <td>104045</td>\n",
       "      <td>8404.154608</td>\n",
       "      <td>2859.005</td>\n",
       "      <td>23446.847903</td>\n",
       "      <td>49869.5</td>\n",
       "      <td>75198</td>\n",
       "      <td>0.136288</td>\n",
       "    </tr>\n",
       "    <tr>\n",
       "      <th>25</th>\n",
       "      <td>BIDAR</td>\n",
       "      <td>2791</td>\n",
       "      <td>249.381182</td>\n",
       "      <td>24.550</td>\n",
       "      <td>2371.831678</td>\n",
       "      <td>1382.0</td>\n",
       "      <td>19908</td>\n",
       "      <td>0.010114</td>\n",
       "    </tr>\n",
       "    <tr>\n",
       "      <th>26</th>\n",
       "      <td>KALABURAGI</td>\n",
       "      <td>14621</td>\n",
       "      <td>710.101614</td>\n",
       "      <td>165.000</td>\n",
       "      <td>6221.617910</td>\n",
       "      <td>2634.0</td>\n",
       "      <td>48802</td>\n",
       "      <td>0.013150</td>\n",
       "    </tr>\n",
       "    <tr>\n",
       "      <th>27</th>\n",
       "      <td>YADGIRI</td>\n",
       "      <td>2673</td>\n",
       "      <td>368.617469</td>\n",
       "      <td>0.000</td>\n",
       "      <td>1253.317144</td>\n",
       "      <td>961.0</td>\n",
       "      <td>22035</td>\n",
       "      <td>0.004033</td>\n",
       "    </tr>\n",
       "    <tr>\n",
       "      <th>28</th>\n",
       "      <td>RAICHUR</td>\n",
       "      <td>723</td>\n",
       "      <td>61.547519</td>\n",
       "      <td>14.350</td>\n",
       "      <td>188.537479</td>\n",
       "      <td>2600.0</td>\n",
       "      <td>26571</td>\n",
       "      <td>0.000525</td>\n",
       "    </tr>\n",
       "    <tr>\n",
       "      <th>29</th>\n",
       "      <td>KOPPAL</td>\n",
       "      <td>190252</td>\n",
       "      <td>10997.550403</td>\n",
       "      <td>5292.000</td>\n",
       "      <td>38936.400172</td>\n",
       "      <td>48210.0</td>\n",
       "      <td>82552</td>\n",
       "      <td>0.149521</td>\n",
       "    </tr>\n",
       "    <tr>\n",
       "      <th>30</th>\n",
       "      <td>VIJAYANAGARA</td>\n",
       "      <td>104045</td>\n",
       "      <td>8404.154608</td>\n",
       "      <td>2859.005</td>\n",
       "      <td>23446.847903</td>\n",
       "      <td>49869.5</td>\n",
       "      <td>75198</td>\n",
       "      <td>0.136288</td>\n",
       "    </tr>\n",
       "  </tbody>\n",
       "</table>\n",
       "</div>"
      ],
      "text/plain": [
       "        District  Maize_Production      TotalNPK  \\\n",
       "24       BALLARI            104045   8404.154608   \n",
       "25         BIDAR              2791    249.381182   \n",
       "26    KALABURAGI             14621    710.101614   \n",
       "27       YADGIRI              2673    368.617469   \n",
       "28       RAICHUR               723     61.547519   \n",
       "29        KOPPAL            190252  10997.550403   \n",
       "30  VIJAYANAGARA            104045   8404.154608   \n",
       "\n",
       "    SowingSeedsDistributed_Maize  LivestockCensus_2012_Cattle  \\\n",
       "24                      2859.005                 23446.847903   \n",
       "25                        24.550                  2371.831678   \n",
       "26                       165.000                  6221.617910   \n",
       "27                         0.000                  1253.317144   \n",
       "28                        14.350                   188.537479   \n",
       "29                      5292.000                 38936.400172   \n",
       "30                      2859.005                 23446.847903   \n",
       "\n",
       "    AreaUnderCereals_Maize  \\\n",
       "24                 49869.5   \n",
       "25                  1382.0   \n",
       "26                  2634.0   \n",
       "27                   961.0   \n",
       "28                  2600.0   \n",
       "29                 48210.0   \n",
       "30                 49869.5   \n",
       "\n",
       "    NetAreaIrrigatedUnderDifferentSources_TubeWells_NetIrrigatedArea  \\\n",
       "24                                              75198                  \n",
       "25                                              19908                  \n",
       "26                                              48802                  \n",
       "27                                              22035                  \n",
       "28                                              26571                  \n",
       "29                                              82552                  \n",
       "30                                              75198                  \n",
       "\n",
       "    Maize_Ratio  \n",
       "24     0.136288  \n",
       "25     0.010114  \n",
       "26     0.013150  \n",
       "27     0.004033  \n",
       "28     0.000525  \n",
       "29     0.149521  \n",
       "30     0.136288  "
      ]
     },
     "execution_count": 2,
     "metadata": {},
     "output_type": "execute_result"
    }
   ],
   "source": [
    "def remove_pattern(col_name):\n",
    "    return re.sub(r'_[0-9]{3}$', '', col_name)\n",
    "\n",
    "Zones = pd.read_excel('Zones.xlsx')\n",
    "Dataset = pd.read_csv('KAG 2016-17/Agriculture/Agriculture_KAG_2016_17.csv')\n",
    "Dataset.columns = map(remove_pattern, Dataset.columns)\n",
    "\n",
    "param = pd.read_csv('Params/3_Param_Maize_Multicollinearity.csv')\n",
    "\n",
    "Working_Directory = pd.read_csv('Working_Directory.csv')\n",
    "Working_Directory = Working_Directory[['District','Maize_Production','TotalNPK', 'SowingSeedsDistributed_Maize',\n",
    "'LivestockCensus_2012_Cattle', 'AreaUnderCereals_Maize','NetAreaIrrigatedUnderDifferentSources_TubeWells_NetIrrigatedArea','Maize_Ratio']].copy()\n",
    "\n",
    "for x in param.columns:\n",
    "    if(x != 'SowingSeedsDistributed_Maize' and x != 'AreaUnderCereals_Maize'):\n",
    "        Working_Directory[x] = Working_Directory[x]*Working_Directory['Maize_Ratio']\n",
    "        \n",
    "Working_Directory[24:]"
   ]
  },
  {
   "cell_type": "code",
   "execution_count": 3,
   "metadata": {},
   "outputs": [
    {
     "data": {
      "text/html": [
       "<div>\n",
       "<style scoped>\n",
       "    .dataframe tbody tr th:only-of-type {\n",
       "        vertical-align: middle;\n",
       "    }\n",
       "\n",
       "    .dataframe tbody tr th {\n",
       "        vertical-align: top;\n",
       "    }\n",
       "\n",
       "    .dataframe thead th {\n",
       "        text-align: right;\n",
       "    }\n",
       "</style>\n",
       "<table border=\"1\" class=\"dataframe\">\n",
       "  <thead>\n",
       "    <tr style=\"text-align: right;\">\n",
       "      <th></th>\n",
       "      <th>LivestockCensus_2012_Cattle</th>\n",
       "      <th>AreaUnderCereals_Maize</th>\n",
       "      <th>TotalNPK</th>\n",
       "    </tr>\n",
       "  </thead>\n",
       "  <tbody>\n",
       "    <tr>\n",
       "      <th>0</th>\n",
       "      <td>2567.461578</td>\n",
       "      <td>1129.0</td>\n",
       "      <td>438.180210</td>\n",
       "    </tr>\n",
       "    <tr>\n",
       "      <th>1</th>\n",
       "      <td>25037.139270</td>\n",
       "      <td>14867.0</td>\n",
       "      <td>3036.080250</td>\n",
       "    </tr>\n",
       "    <tr>\n",
       "      <th>2</th>\n",
       "      <td>7729.614277</td>\n",
       "      <td>1987.0</td>\n",
       "      <td>222.225258</td>\n",
       "    </tr>\n",
       "    <tr>\n",
       "      <th>3</th>\n",
       "      <td>83821.593090</td>\n",
       "      <td>92194.0</td>\n",
       "      <td>10902.406570</td>\n",
       "    </tr>\n",
       "    <tr>\n",
       "      <th>4</th>\n",
       "      <td>85657.632090</td>\n",
       "      <td>173400.0</td>\n",
       "      <td>25702.835480</td>\n",
       "    </tr>\n",
       "  </tbody>\n",
       "</table>\n",
       "</div>"
      ],
      "text/plain": [
       "   LivestockCensus_2012_Cattle  AreaUnderCereals_Maize      TotalNPK\n",
       "0                  2567.461578                  1129.0    438.180210\n",
       "1                 25037.139270                 14867.0   3036.080250\n",
       "2                  7729.614277                  1987.0    222.225258\n",
       "3                 83821.593090                 92194.0  10902.406570\n",
       "4                 85657.632090                173400.0  25702.835480"
      ]
     },
     "execution_count": 3,
     "metadata": {},
     "output_type": "execute_result"
    }
   ],
   "source": [
    "Case_file = pd.read_csv('Params/3_Param_Maize_Multicollinearity.csv')\n",
    "for x in Case_file.columns:\n",
    "    Working_Directory[x] = Case_file[x]\n",
    "y = Working_Directory['Maize_Production']\n",
    "Case_file[:5]"
   ]
  },
  {
   "cell_type": "code",
   "execution_count": 4,
   "metadata": {},
   "outputs": [
    {
     "data": {
      "text/html": [
       "<div>\n",
       "<style scoped>\n",
       "    .dataframe tbody tr th:only-of-type {\n",
       "        vertical-align: middle;\n",
       "    }\n",
       "\n",
       "    .dataframe tbody tr th {\n",
       "        vertical-align: top;\n",
       "    }\n",
       "\n",
       "    .dataframe thead th {\n",
       "        text-align: right;\n",
       "    }\n",
       "</style>\n",
       "<table border=\"1\" class=\"dataframe\">\n",
       "  <thead>\n",
       "    <tr style=\"text-align: right;\">\n",
       "      <th></th>\n",
       "      <th>District</th>\n",
       "      <th>Maize_Production</th>\n",
       "      <th>TotalNPK</th>\n",
       "      <th>SowingSeedsDistributed_Maize</th>\n",
       "      <th>LivestockCensus_2012_Cattle</th>\n",
       "      <th>AreaUnderCereals_Maize</th>\n",
       "      <th>NetAreaIrrigatedUnderDifferentSources_TubeWells_NetIrrigatedArea</th>\n",
       "      <th>Maize_Ratio</th>\n",
       "    </tr>\n",
       "  </thead>\n",
       "  <tbody>\n",
       "    <tr>\n",
       "      <th>0</th>\n",
       "      <td>BENGALURU</td>\n",
       "      <td>2879</td>\n",
       "      <td>438.180210</td>\n",
       "      <td>4.450</td>\n",
       "      <td>2567.461578</td>\n",
       "      <td>1129.0</td>\n",
       "      <td>9348</td>\n",
       "      <td>0.018798</td>\n",
       "    </tr>\n",
       "    <tr>\n",
       "      <th>1</th>\n",
       "      <td>BENGALURU(R)</td>\n",
       "      <td>42583</td>\n",
       "      <td>3036.080250</td>\n",
       "      <td>134.730</td>\n",
       "      <td>25037.139270</td>\n",
       "      <td>14867.0</td>\n",
       "      <td>20281</td>\n",
       "      <td>0.157645</td>\n",
       "    </tr>\n",
       "    <tr>\n",
       "      <th>2</th>\n",
       "      <td>RAMANAGARA</td>\n",
       "      <td>10450</td>\n",
       "      <td>222.225258</td>\n",
       "      <td>260.150</td>\n",
       "      <td>7729.614277</td>\n",
       "      <td>1987.0</td>\n",
       "      <td>23868</td>\n",
       "      <td>0.029741</td>\n",
       "    </tr>\n",
       "    <tr>\n",
       "      <th>3</th>\n",
       "      <td>CHITRADURGA</td>\n",
       "      <td>271975</td>\n",
       "      <td>10902.406570</td>\n",
       "      <td>5004.000</td>\n",
       "      <td>83821.593090</td>\n",
       "      <td>92194.0</td>\n",
       "      <td>92506</td>\n",
       "      <td>0.303824</td>\n",
       "    </tr>\n",
       "    <tr>\n",
       "      <th>4</th>\n",
       "      <td>DAVANAGERE</td>\n",
       "      <td>593544</td>\n",
       "      <td>25702.835480</td>\n",
       "      <td>6124.600</td>\n",
       "      <td>85657.632090</td>\n",
       "      <td>173400.0</td>\n",
       "      <td>78364</td>\n",
       "      <td>0.257947</td>\n",
       "    </tr>\n",
       "    <tr>\n",
       "      <th>5</th>\n",
       "      <td>KOLAR</td>\n",
       "      <td>1759</td>\n",
       "      <td>220.782906</td>\n",
       "      <td>51.500</td>\n",
       "      <td>2278.829821</td>\n",
       "      <td>640.0</td>\n",
       "      <td>20140</td>\n",
       "      <td>0.009950</td>\n",
       "    </tr>\n",
       "    <tr>\n",
       "      <th>6</th>\n",
       "      <td>CHIKKABALLAPURA</td>\n",
       "      <td>105491</td>\n",
       "      <td>8196.896749</td>\n",
       "      <td>3538.150</td>\n",
       "      <td>71206.945310</td>\n",
       "      <td>59377.0</td>\n",
       "      <td>50370</td>\n",
       "      <td>0.289061</td>\n",
       "    </tr>\n",
       "    <tr>\n",
       "      <th>7</th>\n",
       "      <td>SHIVAMOGGA</td>\n",
       "      <td>226532</td>\n",
       "      <td>10428.246260</td>\n",
       "      <td>3814.020</td>\n",
       "      <td>104722.000400</td>\n",
       "      <td>43827.0</td>\n",
       "      <td>32347</td>\n",
       "      <td>0.184215</td>\n",
       "    </tr>\n",
       "    <tr>\n",
       "      <th>8</th>\n",
       "      <td>TUMAKURU</td>\n",
       "      <td>66868</td>\n",
       "      <td>2746.313635</td>\n",
       "      <td>1639.850</td>\n",
       "      <td>37944.093760</td>\n",
       "      <td>24207.0</td>\n",
       "      <td>144708</td>\n",
       "      <td>0.071991</td>\n",
       "    </tr>\n",
       "    <tr>\n",
       "      <th>9</th>\n",
       "      <td>CHIKKAMAGALURU</td>\n",
       "      <td>61353</td>\n",
       "      <td>8156.290370</td>\n",
       "      <td>2923.790</td>\n",
       "      <td>40572.445630</td>\n",
       "      <td>25831.0</td>\n",
       "      <td>26174</td>\n",
       "      <td>0.120188</td>\n",
       "    </tr>\n",
       "    <tr>\n",
       "      <th>10</th>\n",
       "      <td>DAKSHINA KANNADA</td>\n",
       "      <td>0</td>\n",
       "      <td>0.000000</td>\n",
       "      <td>0.000</td>\n",
       "      <td>0.000000</td>\n",
       "      <td>0.0</td>\n",
       "      <td>16589</td>\n",
       "      <td>0.000000</td>\n",
       "    </tr>\n",
       "    <tr>\n",
       "      <th>11</th>\n",
       "      <td>UDUPI</td>\n",
       "      <td>109</td>\n",
       "      <td>2.304863</td>\n",
       "      <td>0.000</td>\n",
       "      <td>94.499008</td>\n",
       "      <td>8.0</td>\n",
       "      <td>699</td>\n",
       "      <td>0.000375</td>\n",
       "    </tr>\n",
       "    <tr>\n",
       "      <th>12</th>\n",
       "      <td>HASSAN</td>\n",
       "      <td>333937</td>\n",
       "      <td>17039.273890</td>\n",
       "      <td>8925.330</td>\n",
       "      <td>151008.140300</td>\n",
       "      <td>79058.0</td>\n",
       "      <td>23393</td>\n",
       "      <td>0.248999</td>\n",
       "    </tr>\n",
       "    <tr>\n",
       "      <th>13</th>\n",
       "      <td>KODAGU</td>\n",
       "      <td>17921</td>\n",
       "      <td>3519.022414</td>\n",
       "      <td>246.410</td>\n",
       "      <td>7599.582730</td>\n",
       "      <td>3448.0</td>\n",
       "      <td>106</td>\n",
       "      <td>0.085941</td>\n",
       "    </tr>\n",
       "    <tr>\n",
       "      <th>14</th>\n",
       "      <td>MANDYA</td>\n",
       "      <td>19387</td>\n",
       "      <td>1448.830355</td>\n",
       "      <td>794.030</td>\n",
       "      <td>8774.134623</td>\n",
       "      <td>4892.0</td>\n",
       "      <td>16025</td>\n",
       "      <td>0.023925</td>\n",
       "    </tr>\n",
       "    <tr>\n",
       "      <th>15</th>\n",
       "      <td>MYSURU</td>\n",
       "      <td>137154</td>\n",
       "      <td>6945.331415</td>\n",
       "      <td>1573.430</td>\n",
       "      <td>61547.727440</td>\n",
       "      <td>37283.0</td>\n",
       "      <td>19842</td>\n",
       "      <td>0.111996</td>\n",
       "    </tr>\n",
       "    <tr>\n",
       "      <th>16</th>\n",
       "      <td>CHAMARAJANAGAR</td>\n",
       "      <td>147886</td>\n",
       "      <td>7289.684770</td>\n",
       "      <td>2054.600</td>\n",
       "      <td>80396.926680</td>\n",
       "      <td>38569.0</td>\n",
       "      <td>44070</td>\n",
       "      <td>0.306251</td>\n",
       "    </tr>\n",
       "    <tr>\n",
       "      <th>17</th>\n",
       "      <td>BELAGAVI</td>\n",
       "      <td>576758</td>\n",
       "      <td>48288.815130</td>\n",
       "      <td>11883.580</td>\n",
       "      <td>159047.086200</td>\n",
       "      <td>131163.0</td>\n",
       "      <td>139708</td>\n",
       "      <td>0.268283</td>\n",
       "    </tr>\n",
       "    <tr>\n",
       "      <th>18</th>\n",
       "      <td>VIJAYAPURA</td>\n",
       "      <td>226327</td>\n",
       "      <td>10420.071650</td>\n",
       "      <td>2682.760</td>\n",
       "      <td>48619.507080</td>\n",
       "      <td>40207.0</td>\n",
       "      <td>113515</td>\n",
       "      <td>0.192153</td>\n",
       "    </tr>\n",
       "    <tr>\n",
       "      <th>19</th>\n",
       "      <td>BAGALKOT</td>\n",
       "      <td>251699</td>\n",
       "      <td>22940.521250</td>\n",
       "      <td>5678.150</td>\n",
       "      <td>75578.052000</td>\n",
       "      <td>44300.0</td>\n",
       "      <td>117497</td>\n",
       "      <td>0.270487</td>\n",
       "    </tr>\n",
       "    <tr>\n",
       "      <th>20</th>\n",
       "      <td>DHARAWAD</td>\n",
       "      <td>90634</td>\n",
       "      <td>6447.725408</td>\n",
       "      <td>2471.350</td>\n",
       "      <td>33424.645600</td>\n",
       "      <td>30900.0</td>\n",
       "      <td>20816</td>\n",
       "      <td>0.172487</td>\n",
       "    </tr>\n",
       "    <tr>\n",
       "      <th>21</th>\n",
       "      <td>GADAG</td>\n",
       "      <td>138476</td>\n",
       "      <td>5591.244159</td>\n",
       "      <td>4111.000</td>\n",
       "      <td>34261.981770</td>\n",
       "      <td>34163.0</td>\n",
       "      <td>41664</td>\n",
       "      <td>0.240174</td>\n",
       "    </tr>\n",
       "    <tr>\n",
       "      <th>22</th>\n",
       "      <td>HAVERI</td>\n",
       "      <td>413487</td>\n",
       "      <td>21731.170720</td>\n",
       "      <td>11325.600</td>\n",
       "      <td>95150.640270</td>\n",
       "      <td>170696.0</td>\n",
       "      <td>63016</td>\n",
       "      <td>0.334321</td>\n",
       "    </tr>\n",
       "    <tr>\n",
       "      <th>23</th>\n",
       "      <td>UTTARA KANNADA</td>\n",
       "      <td>24088</td>\n",
       "      <td>1025.616827</td>\n",
       "      <td>1469.200</td>\n",
       "      <td>22563.771080</td>\n",
       "      <td>4576.0</td>\n",
       "      <td>8460</td>\n",
       "      <td>0.066964</td>\n",
       "    </tr>\n",
       "    <tr>\n",
       "      <th>24</th>\n",
       "      <td>BALLARI</td>\n",
       "      <td>104045</td>\n",
       "      <td>8404.154608</td>\n",
       "      <td>2859.005</td>\n",
       "      <td>23446.847900</td>\n",
       "      <td>49869.5</td>\n",
       "      <td>75198</td>\n",
       "      <td>0.136288</td>\n",
       "    </tr>\n",
       "    <tr>\n",
       "      <th>25</th>\n",
       "      <td>BIDAR</td>\n",
       "      <td>2791</td>\n",
       "      <td>249.381182</td>\n",
       "      <td>24.550</td>\n",
       "      <td>2371.831678</td>\n",
       "      <td>1382.0</td>\n",
       "      <td>19908</td>\n",
       "      <td>0.010114</td>\n",
       "    </tr>\n",
       "    <tr>\n",
       "      <th>26</th>\n",
       "      <td>KALABURAGI</td>\n",
       "      <td>14621</td>\n",
       "      <td>710.101614</td>\n",
       "      <td>165.000</td>\n",
       "      <td>6221.617910</td>\n",
       "      <td>2634.0</td>\n",
       "      <td>48802</td>\n",
       "      <td>0.013150</td>\n",
       "    </tr>\n",
       "    <tr>\n",
       "      <th>27</th>\n",
       "      <td>YADGIRI</td>\n",
       "      <td>2673</td>\n",
       "      <td>368.617469</td>\n",
       "      <td>0.000</td>\n",
       "      <td>1253.317144</td>\n",
       "      <td>961.0</td>\n",
       "      <td>22035</td>\n",
       "      <td>0.004033</td>\n",
       "    </tr>\n",
       "    <tr>\n",
       "      <th>28</th>\n",
       "      <td>RAICHUR</td>\n",
       "      <td>723</td>\n",
       "      <td>61.547519</td>\n",
       "      <td>14.350</td>\n",
       "      <td>188.537479</td>\n",
       "      <td>2600.0</td>\n",
       "      <td>26571</td>\n",
       "      <td>0.000525</td>\n",
       "    </tr>\n",
       "    <tr>\n",
       "      <th>29</th>\n",
       "      <td>KOPPAL</td>\n",
       "      <td>190252</td>\n",
       "      <td>10997.550400</td>\n",
       "      <td>5292.000</td>\n",
       "      <td>38936.400170</td>\n",
       "      <td>48210.0</td>\n",
       "      <td>82552</td>\n",
       "      <td>0.149521</td>\n",
       "    </tr>\n",
       "    <tr>\n",
       "      <th>30</th>\n",
       "      <td>VIJAYANAGARA</td>\n",
       "      <td>104045</td>\n",
       "      <td>8404.154608</td>\n",
       "      <td>2859.005</td>\n",
       "      <td>23446.847900</td>\n",
       "      <td>49869.5</td>\n",
       "      <td>75198</td>\n",
       "      <td>0.136288</td>\n",
       "    </tr>\n",
       "  </tbody>\n",
       "</table>\n",
       "</div>"
      ],
      "text/plain": [
       "            District  Maize_Production      TotalNPK  \\\n",
       "0          BENGALURU              2879    438.180210   \n",
       "1       BENGALURU(R)             42583   3036.080250   \n",
       "2         RAMANAGARA             10450    222.225258   \n",
       "3        CHITRADURGA            271975  10902.406570   \n",
       "4         DAVANAGERE            593544  25702.835480   \n",
       "5              KOLAR              1759    220.782906   \n",
       "6    CHIKKABALLAPURA            105491   8196.896749   \n",
       "7         SHIVAMOGGA            226532  10428.246260   \n",
       "8           TUMAKURU             66868   2746.313635   \n",
       "9     CHIKKAMAGALURU             61353   8156.290370   \n",
       "10  DAKSHINA KANNADA                 0      0.000000   \n",
       "11             UDUPI               109      2.304863   \n",
       "12            HASSAN            333937  17039.273890   \n",
       "13            KODAGU             17921   3519.022414   \n",
       "14            MANDYA             19387   1448.830355   \n",
       "15            MYSURU            137154   6945.331415   \n",
       "16    CHAMARAJANAGAR            147886   7289.684770   \n",
       "17          BELAGAVI            576758  48288.815130   \n",
       "18        VIJAYAPURA            226327  10420.071650   \n",
       "19          BAGALKOT            251699  22940.521250   \n",
       "20          DHARAWAD             90634   6447.725408   \n",
       "21             GADAG            138476   5591.244159   \n",
       "22            HAVERI            413487  21731.170720   \n",
       "23    UTTARA KANNADA             24088   1025.616827   \n",
       "24           BALLARI            104045   8404.154608   \n",
       "25             BIDAR              2791    249.381182   \n",
       "26        KALABURAGI             14621    710.101614   \n",
       "27           YADGIRI              2673    368.617469   \n",
       "28           RAICHUR               723     61.547519   \n",
       "29            KOPPAL            190252  10997.550400   \n",
       "30      VIJAYANAGARA            104045   8404.154608   \n",
       "\n",
       "    SowingSeedsDistributed_Maize  LivestockCensus_2012_Cattle  \\\n",
       "0                          4.450                  2567.461578   \n",
       "1                        134.730                 25037.139270   \n",
       "2                        260.150                  7729.614277   \n",
       "3                       5004.000                 83821.593090   \n",
       "4                       6124.600                 85657.632090   \n",
       "5                         51.500                  2278.829821   \n",
       "6                       3538.150                 71206.945310   \n",
       "7                       3814.020                104722.000400   \n",
       "8                       1639.850                 37944.093760   \n",
       "9                       2923.790                 40572.445630   \n",
       "10                         0.000                     0.000000   \n",
       "11                         0.000                    94.499008   \n",
       "12                      8925.330                151008.140300   \n",
       "13                       246.410                  7599.582730   \n",
       "14                       794.030                  8774.134623   \n",
       "15                      1573.430                 61547.727440   \n",
       "16                      2054.600                 80396.926680   \n",
       "17                     11883.580                159047.086200   \n",
       "18                      2682.760                 48619.507080   \n",
       "19                      5678.150                 75578.052000   \n",
       "20                      2471.350                 33424.645600   \n",
       "21                      4111.000                 34261.981770   \n",
       "22                     11325.600                 95150.640270   \n",
       "23                      1469.200                 22563.771080   \n",
       "24                      2859.005                 23446.847900   \n",
       "25                        24.550                  2371.831678   \n",
       "26                       165.000                  6221.617910   \n",
       "27                         0.000                  1253.317144   \n",
       "28                        14.350                   188.537479   \n",
       "29                      5292.000                 38936.400170   \n",
       "30                      2859.005                 23446.847900   \n",
       "\n",
       "    AreaUnderCereals_Maize  \\\n",
       "0                   1129.0   \n",
       "1                  14867.0   \n",
       "2                   1987.0   \n",
       "3                  92194.0   \n",
       "4                 173400.0   \n",
       "5                    640.0   \n",
       "6                  59377.0   \n",
       "7                  43827.0   \n",
       "8                  24207.0   \n",
       "9                  25831.0   \n",
       "10                     0.0   \n",
       "11                     8.0   \n",
       "12                 79058.0   \n",
       "13                  3448.0   \n",
       "14                  4892.0   \n",
       "15                 37283.0   \n",
       "16                 38569.0   \n",
       "17                131163.0   \n",
       "18                 40207.0   \n",
       "19                 44300.0   \n",
       "20                 30900.0   \n",
       "21                 34163.0   \n",
       "22                170696.0   \n",
       "23                  4576.0   \n",
       "24                 49869.5   \n",
       "25                  1382.0   \n",
       "26                  2634.0   \n",
       "27                   961.0   \n",
       "28                  2600.0   \n",
       "29                 48210.0   \n",
       "30                 49869.5   \n",
       "\n",
       "    NetAreaIrrigatedUnderDifferentSources_TubeWells_NetIrrigatedArea  \\\n",
       "0                                                9348                  \n",
       "1                                               20281                  \n",
       "2                                               23868                  \n",
       "3                                               92506                  \n",
       "4                                               78364                  \n",
       "5                                               20140                  \n",
       "6                                               50370                  \n",
       "7                                               32347                  \n",
       "8                                              144708                  \n",
       "9                                               26174                  \n",
       "10                                              16589                  \n",
       "11                                                699                  \n",
       "12                                              23393                  \n",
       "13                                                106                  \n",
       "14                                              16025                  \n",
       "15                                              19842                  \n",
       "16                                              44070                  \n",
       "17                                             139708                  \n",
       "18                                             113515                  \n",
       "19                                             117497                  \n",
       "20                                              20816                  \n",
       "21                                              41664                  \n",
       "22                                              63016                  \n",
       "23                                               8460                  \n",
       "24                                              75198                  \n",
       "25                                              19908                  \n",
       "26                                              48802                  \n",
       "27                                              22035                  \n",
       "28                                              26571                  \n",
       "29                                              82552                  \n",
       "30                                              75198                  \n",
       "\n",
       "    Maize_Ratio  \n",
       "0      0.018798  \n",
       "1      0.157645  \n",
       "2      0.029741  \n",
       "3      0.303824  \n",
       "4      0.257947  \n",
       "5      0.009950  \n",
       "6      0.289061  \n",
       "7      0.184215  \n",
       "8      0.071991  \n",
       "9      0.120188  \n",
       "10     0.000000  \n",
       "11     0.000375  \n",
       "12     0.248999  \n",
       "13     0.085941  \n",
       "14     0.023925  \n",
       "15     0.111996  \n",
       "16     0.306251  \n",
       "17     0.268283  \n",
       "18     0.192153  \n",
       "19     0.270487  \n",
       "20     0.172487  \n",
       "21     0.240174  \n",
       "22     0.334321  \n",
       "23     0.066964  \n",
       "24     0.136288  \n",
       "25     0.010114  \n",
       "26     0.013150  \n",
       "27     0.004033  \n",
       "28     0.000525  \n",
       "29     0.149521  \n",
       "30     0.136288  "
      ]
     },
     "execution_count": 4,
     "metadata": {},
     "output_type": "execute_result"
    }
   ],
   "source": [
    "Working_Directory"
   ]
  },
  {
   "cell_type": "code",
   "execution_count": 5,
   "metadata": {},
   "outputs": [
    {
     "data": {
      "text/html": [
       "<div>\n",
       "<style scoped>\n",
       "    .dataframe tbody tr th:only-of-type {\n",
       "        vertical-align: middle;\n",
       "    }\n",
       "\n",
       "    .dataframe tbody tr th {\n",
       "        vertical-align: top;\n",
       "    }\n",
       "\n",
       "    .dataframe thead th {\n",
       "        text-align: right;\n",
       "    }\n",
       "</style>\n",
       "<table border=\"1\" class=\"dataframe\">\n",
       "  <thead>\n",
       "    <tr style=\"text-align: right;\">\n",
       "      <th></th>\n",
       "      <th>LivestockCensus_2012_Cattle</th>\n",
       "      <th>AreaUnderCereals_Maize</th>\n",
       "      <th>TotalNPK</th>\n",
       "    </tr>\n",
       "  </thead>\n",
       "  <tbody>\n",
       "    <tr>\n",
       "      <th>24</th>\n",
       "      <td>23446.847900</td>\n",
       "      <td>49869.5</td>\n",
       "      <td>8404.154608</td>\n",
       "    </tr>\n",
       "    <tr>\n",
       "      <th>25</th>\n",
       "      <td>2371.831678</td>\n",
       "      <td>1382.0</td>\n",
       "      <td>249.381182</td>\n",
       "    </tr>\n",
       "    <tr>\n",
       "      <th>26</th>\n",
       "      <td>6221.617910</td>\n",
       "      <td>2634.0</td>\n",
       "      <td>710.101614</td>\n",
       "    </tr>\n",
       "    <tr>\n",
       "      <th>27</th>\n",
       "      <td>1253.317144</td>\n",
       "      <td>961.0</td>\n",
       "      <td>368.617469</td>\n",
       "    </tr>\n",
       "    <tr>\n",
       "      <th>28</th>\n",
       "      <td>188.537479</td>\n",
       "      <td>2600.0</td>\n",
       "      <td>61.547519</td>\n",
       "    </tr>\n",
       "    <tr>\n",
       "      <th>29</th>\n",
       "      <td>38936.400170</td>\n",
       "      <td>48210.0</td>\n",
       "      <td>10997.550400</td>\n",
       "    </tr>\n",
       "    <tr>\n",
       "      <th>30</th>\n",
       "      <td>23446.847900</td>\n",
       "      <td>49869.5</td>\n",
       "      <td>8404.154608</td>\n",
       "    </tr>\n",
       "  </tbody>\n",
       "</table>\n",
       "</div>"
      ],
      "text/plain": [
       "    LivestockCensus_2012_Cattle  AreaUnderCereals_Maize      TotalNPK\n",
       "24                 23446.847900                 49869.5   8404.154608\n",
       "25                  2371.831678                  1382.0    249.381182\n",
       "26                  6221.617910                  2634.0    710.101614\n",
       "27                  1253.317144                   961.0    368.617469\n",
       "28                   188.537479                  2600.0     61.547519\n",
       "29                 38936.400170                 48210.0  10997.550400\n",
       "30                 23446.847900                 49869.5   8404.154608"
      ]
     },
     "execution_count": 5,
     "metadata": {},
     "output_type": "execute_result"
    }
   ],
   "source": [
    "if(len(Case_file) < 31):\n",
    "    row_24 = Case_file.iloc[24]\n",
    "    halved_row_24 = row_24 / 2\n",
    "    Case_file.iloc[24] = halved_row_24\n",
    "    Case_file.loc[len(Case_file)] = halved_row_24\n",
    "\n",
    "Case_file[24:]\n"
   ]
  },
  {
   "cell_type": "code",
   "execution_count": 65,
   "metadata": {},
   "outputs": [],
   "source": []
  },
  {
   "cell_type": "code",
   "execution_count": 6,
   "metadata": {},
   "outputs": [
    {
     "data": {
      "text/html": [
       "<div>\n",
       "<style scoped>\n",
       "    .dataframe tbody tr th:only-of-type {\n",
       "        vertical-align: middle;\n",
       "    }\n",
       "\n",
       "    .dataframe tbody tr th {\n",
       "        vertical-align: top;\n",
       "    }\n",
       "\n",
       "    .dataframe thead th {\n",
       "        text-align: right;\n",
       "    }\n",
       "</style>\n",
       "<table border=\"1\" class=\"dataframe\">\n",
       "  <thead>\n",
       "    <tr style=\"text-align: right;\">\n",
       "      <th></th>\n",
       "      <th>LivestockCensus_2012_Cattle</th>\n",
       "      <th>AreaUnderCereals_Maize</th>\n",
       "      <th>TotalNPK</th>\n",
       "    </tr>\n",
       "  </thead>\n",
       "  <tbody>\n",
       "    <tr>\n",
       "      <th>0</th>\n",
       "      <td>2567.461578</td>\n",
       "      <td>1129.0</td>\n",
       "      <td>438.180210</td>\n",
       "    </tr>\n",
       "    <tr>\n",
       "      <th>1</th>\n",
       "      <td>25037.139270</td>\n",
       "      <td>14867.0</td>\n",
       "      <td>3036.080250</td>\n",
       "    </tr>\n",
       "    <tr>\n",
       "      <th>2</th>\n",
       "      <td>7729.614277</td>\n",
       "      <td>1987.0</td>\n",
       "      <td>222.225258</td>\n",
       "    </tr>\n",
       "    <tr>\n",
       "      <th>3</th>\n",
       "      <td>83821.593090</td>\n",
       "      <td>92194.0</td>\n",
       "      <td>10902.406570</td>\n",
       "    </tr>\n",
       "    <tr>\n",
       "      <th>4</th>\n",
       "      <td>85657.632090</td>\n",
       "      <td>173400.0</td>\n",
       "      <td>25702.835480</td>\n",
       "    </tr>\n",
       "    <tr>\n",
       "      <th>5</th>\n",
       "      <td>2278.829821</td>\n",
       "      <td>640.0</td>\n",
       "      <td>220.782906</td>\n",
       "    </tr>\n",
       "    <tr>\n",
       "      <th>6</th>\n",
       "      <td>71206.945310</td>\n",
       "      <td>59377.0</td>\n",
       "      <td>8196.896749</td>\n",
       "    </tr>\n",
       "    <tr>\n",
       "      <th>7</th>\n",
       "      <td>104722.000400</td>\n",
       "      <td>43827.0</td>\n",
       "      <td>10428.246260</td>\n",
       "    </tr>\n",
       "    <tr>\n",
       "      <th>8</th>\n",
       "      <td>37944.093760</td>\n",
       "      <td>24207.0</td>\n",
       "      <td>2746.313635</td>\n",
       "    </tr>\n",
       "    <tr>\n",
       "      <th>9</th>\n",
       "      <td>40572.445630</td>\n",
       "      <td>25831.0</td>\n",
       "      <td>8156.290370</td>\n",
       "    </tr>\n",
       "    <tr>\n",
       "      <th>10</th>\n",
       "      <td>0.000000</td>\n",
       "      <td>0.0</td>\n",
       "      <td>0.000000</td>\n",
       "    </tr>\n",
       "    <tr>\n",
       "      <th>11</th>\n",
       "      <td>94.499008</td>\n",
       "      <td>8.0</td>\n",
       "      <td>2.304863</td>\n",
       "    </tr>\n",
       "    <tr>\n",
       "      <th>12</th>\n",
       "      <td>151008.140300</td>\n",
       "      <td>79058.0</td>\n",
       "      <td>17039.273890</td>\n",
       "    </tr>\n",
       "    <tr>\n",
       "      <th>13</th>\n",
       "      <td>7599.582730</td>\n",
       "      <td>3448.0</td>\n",
       "      <td>3519.022414</td>\n",
       "    </tr>\n",
       "    <tr>\n",
       "      <th>14</th>\n",
       "      <td>8774.134623</td>\n",
       "      <td>4892.0</td>\n",
       "      <td>1448.830355</td>\n",
       "    </tr>\n",
       "    <tr>\n",
       "      <th>15</th>\n",
       "      <td>61547.727440</td>\n",
       "      <td>37283.0</td>\n",
       "      <td>6945.331415</td>\n",
       "    </tr>\n",
       "    <tr>\n",
       "      <th>16</th>\n",
       "      <td>80396.926680</td>\n",
       "      <td>38569.0</td>\n",
       "      <td>7289.684770</td>\n",
       "    </tr>\n",
       "    <tr>\n",
       "      <th>17</th>\n",
       "      <td>159047.086200</td>\n",
       "      <td>131163.0</td>\n",
       "      <td>48288.815130</td>\n",
       "    </tr>\n",
       "    <tr>\n",
       "      <th>18</th>\n",
       "      <td>48619.507080</td>\n",
       "      <td>40207.0</td>\n",
       "      <td>10420.071650</td>\n",
       "    </tr>\n",
       "    <tr>\n",
       "      <th>19</th>\n",
       "      <td>75578.052000</td>\n",
       "      <td>44300.0</td>\n",
       "      <td>22940.521250</td>\n",
       "    </tr>\n",
       "    <tr>\n",
       "      <th>20</th>\n",
       "      <td>33424.645600</td>\n",
       "      <td>30900.0</td>\n",
       "      <td>6447.725408</td>\n",
       "    </tr>\n",
       "    <tr>\n",
       "      <th>21</th>\n",
       "      <td>34261.981770</td>\n",
       "      <td>34163.0</td>\n",
       "      <td>5591.244159</td>\n",
       "    </tr>\n",
       "    <tr>\n",
       "      <th>22</th>\n",
       "      <td>95150.640270</td>\n",
       "      <td>170696.0</td>\n",
       "      <td>21731.170720</td>\n",
       "    </tr>\n",
       "    <tr>\n",
       "      <th>23</th>\n",
       "      <td>22563.771080</td>\n",
       "      <td>4576.0</td>\n",
       "      <td>1025.616827</td>\n",
       "    </tr>\n",
       "    <tr>\n",
       "      <th>24</th>\n",
       "      <td>23446.847900</td>\n",
       "      <td>49869.5</td>\n",
       "      <td>8404.154608</td>\n",
       "    </tr>\n",
       "    <tr>\n",
       "      <th>25</th>\n",
       "      <td>2371.831678</td>\n",
       "      <td>1382.0</td>\n",
       "      <td>249.381182</td>\n",
       "    </tr>\n",
       "    <tr>\n",
       "      <th>26</th>\n",
       "      <td>6221.617910</td>\n",
       "      <td>2634.0</td>\n",
       "      <td>710.101614</td>\n",
       "    </tr>\n",
       "    <tr>\n",
       "      <th>27</th>\n",
       "      <td>1253.317144</td>\n",
       "      <td>961.0</td>\n",
       "      <td>368.617469</td>\n",
       "    </tr>\n",
       "    <tr>\n",
       "      <th>28</th>\n",
       "      <td>188.537479</td>\n",
       "      <td>2600.0</td>\n",
       "      <td>61.547519</td>\n",
       "    </tr>\n",
       "    <tr>\n",
       "      <th>29</th>\n",
       "      <td>38936.400170</td>\n",
       "      <td>48210.0</td>\n",
       "      <td>10997.550400</td>\n",
       "    </tr>\n",
       "    <tr>\n",
       "      <th>30</th>\n",
       "      <td>23446.847900</td>\n",
       "      <td>49869.5</td>\n",
       "      <td>8404.154608</td>\n",
       "    </tr>\n",
       "  </tbody>\n",
       "</table>\n",
       "</div>"
      ],
      "text/plain": [
       "    LivestockCensus_2012_Cattle  AreaUnderCereals_Maize      TotalNPK\n",
       "0                   2567.461578                  1129.0    438.180210\n",
       "1                  25037.139270                 14867.0   3036.080250\n",
       "2                   7729.614277                  1987.0    222.225258\n",
       "3                  83821.593090                 92194.0  10902.406570\n",
       "4                  85657.632090                173400.0  25702.835480\n",
       "5                   2278.829821                   640.0    220.782906\n",
       "6                  71206.945310                 59377.0   8196.896749\n",
       "7                 104722.000400                 43827.0  10428.246260\n",
       "8                  37944.093760                 24207.0   2746.313635\n",
       "9                  40572.445630                 25831.0   8156.290370\n",
       "10                     0.000000                     0.0      0.000000\n",
       "11                    94.499008                     8.0      2.304863\n",
       "12                151008.140300                 79058.0  17039.273890\n",
       "13                  7599.582730                  3448.0   3519.022414\n",
       "14                  8774.134623                  4892.0   1448.830355\n",
       "15                 61547.727440                 37283.0   6945.331415\n",
       "16                 80396.926680                 38569.0   7289.684770\n",
       "17                159047.086200                131163.0  48288.815130\n",
       "18                 48619.507080                 40207.0  10420.071650\n",
       "19                 75578.052000                 44300.0  22940.521250\n",
       "20                 33424.645600                 30900.0   6447.725408\n",
       "21                 34261.981770                 34163.0   5591.244159\n",
       "22                 95150.640270                170696.0  21731.170720\n",
       "23                 22563.771080                  4576.0   1025.616827\n",
       "24                 23446.847900                 49869.5   8404.154608\n",
       "25                  2371.831678                  1382.0    249.381182\n",
       "26                  6221.617910                  2634.0    710.101614\n",
       "27                  1253.317144                   961.0    368.617469\n",
       "28                   188.537479                  2600.0     61.547519\n",
       "29                 38936.400170                 48210.0  10997.550400\n",
       "30                 23446.847900                 49869.5   8404.154608"
      ]
     },
     "execution_count": 6,
     "metadata": {},
     "output_type": "execute_result"
    }
   ],
   "source": [
    "Case_file"
   ]
  },
  {
   "cell_type": "code",
   "execution_count": 7,
   "metadata": {},
   "outputs": [
    {
     "data": {
      "application/vnd.plotly.v1+json": {
       "config": {
        "plotlyServerURL": "https://plot.ly"
       },
       "data": [
        {
         "alignmentgroup": "True",
         "bingroup": "x",
         "hovertemplate": "Maize_Production=%{x}<br>count=%{y}<extra></extra>",
         "legendgroup": "",
         "marker": {
          "color": "#636efa",
          "pattern": {
           "shape": ""
          }
         },
         "name": "",
         "nbinsx": 10,
         "offsetgroup": "",
         "orientation": "v",
         "showlegend": false,
         "type": "histogram",
         "x": [
          2879,
          42583,
          10450,
          271975,
          593544,
          1759,
          105491,
          226532,
          66868,
          61353,
          0,
          109,
          333937,
          17921,
          19387,
          137154,
          147886,
          576758,
          226327,
          251699,
          90634,
          138476,
          413487,
          24088,
          104045,
          2791,
          14621,
          2673,
          723,
          190252,
          104045
         ],
         "xaxis": "x",
         "yaxis": "y"
        }
       ],
       "layout": {
        "barmode": "relative",
        "legend": {
         "tracegroupgap": 0
        },
        "template": {
         "data": {
          "bar": [
           {
            "error_x": {
             "color": "#2a3f5f"
            },
            "error_y": {
             "color": "#2a3f5f"
            },
            "marker": {
             "line": {
              "color": "#E5ECF6",
              "width": 0.5
             },
             "pattern": {
              "fillmode": "overlay",
              "size": 10,
              "solidity": 0.2
             }
            },
            "type": "bar"
           }
          ],
          "barpolar": [
           {
            "marker": {
             "line": {
              "color": "#E5ECF6",
              "width": 0.5
             },
             "pattern": {
              "fillmode": "overlay",
              "size": 10,
              "solidity": 0.2
             }
            },
            "type": "barpolar"
           }
          ],
          "carpet": [
           {
            "aaxis": {
             "endlinecolor": "#2a3f5f",
             "gridcolor": "white",
             "linecolor": "white",
             "minorgridcolor": "white",
             "startlinecolor": "#2a3f5f"
            },
            "baxis": {
             "endlinecolor": "#2a3f5f",
             "gridcolor": "white",
             "linecolor": "white",
             "minorgridcolor": "white",
             "startlinecolor": "#2a3f5f"
            },
            "type": "carpet"
           }
          ],
          "choropleth": [
           {
            "colorbar": {
             "outlinewidth": 0,
             "ticks": ""
            },
            "type": "choropleth"
           }
          ],
          "contour": [
           {
            "colorbar": {
             "outlinewidth": 0,
             "ticks": ""
            },
            "colorscale": [
             [
              0,
              "#0d0887"
             ],
             [
              0.1111111111111111,
              "#46039f"
             ],
             [
              0.2222222222222222,
              "#7201a8"
             ],
             [
              0.3333333333333333,
              "#9c179e"
             ],
             [
              0.4444444444444444,
              "#bd3786"
             ],
             [
              0.5555555555555556,
              "#d8576b"
             ],
             [
              0.6666666666666666,
              "#ed7953"
             ],
             [
              0.7777777777777778,
              "#fb9f3a"
             ],
             [
              0.8888888888888888,
              "#fdca26"
             ],
             [
              1,
              "#f0f921"
             ]
            ],
            "type": "contour"
           }
          ],
          "contourcarpet": [
           {
            "colorbar": {
             "outlinewidth": 0,
             "ticks": ""
            },
            "type": "contourcarpet"
           }
          ],
          "heatmap": [
           {
            "colorbar": {
             "outlinewidth": 0,
             "ticks": ""
            },
            "colorscale": [
             [
              0,
              "#0d0887"
             ],
             [
              0.1111111111111111,
              "#46039f"
             ],
             [
              0.2222222222222222,
              "#7201a8"
             ],
             [
              0.3333333333333333,
              "#9c179e"
             ],
             [
              0.4444444444444444,
              "#bd3786"
             ],
             [
              0.5555555555555556,
              "#d8576b"
             ],
             [
              0.6666666666666666,
              "#ed7953"
             ],
             [
              0.7777777777777778,
              "#fb9f3a"
             ],
             [
              0.8888888888888888,
              "#fdca26"
             ],
             [
              1,
              "#f0f921"
             ]
            ],
            "type": "heatmap"
           }
          ],
          "heatmapgl": [
           {
            "colorbar": {
             "outlinewidth": 0,
             "ticks": ""
            },
            "colorscale": [
             [
              0,
              "#0d0887"
             ],
             [
              0.1111111111111111,
              "#46039f"
             ],
             [
              0.2222222222222222,
              "#7201a8"
             ],
             [
              0.3333333333333333,
              "#9c179e"
             ],
             [
              0.4444444444444444,
              "#bd3786"
             ],
             [
              0.5555555555555556,
              "#d8576b"
             ],
             [
              0.6666666666666666,
              "#ed7953"
             ],
             [
              0.7777777777777778,
              "#fb9f3a"
             ],
             [
              0.8888888888888888,
              "#fdca26"
             ],
             [
              1,
              "#f0f921"
             ]
            ],
            "type": "heatmapgl"
           }
          ],
          "histogram": [
           {
            "marker": {
             "pattern": {
              "fillmode": "overlay",
              "size": 10,
              "solidity": 0.2
             }
            },
            "type": "histogram"
           }
          ],
          "histogram2d": [
           {
            "colorbar": {
             "outlinewidth": 0,
             "ticks": ""
            },
            "colorscale": [
             [
              0,
              "#0d0887"
             ],
             [
              0.1111111111111111,
              "#46039f"
             ],
             [
              0.2222222222222222,
              "#7201a8"
             ],
             [
              0.3333333333333333,
              "#9c179e"
             ],
             [
              0.4444444444444444,
              "#bd3786"
             ],
             [
              0.5555555555555556,
              "#d8576b"
             ],
             [
              0.6666666666666666,
              "#ed7953"
             ],
             [
              0.7777777777777778,
              "#fb9f3a"
             ],
             [
              0.8888888888888888,
              "#fdca26"
             ],
             [
              1,
              "#f0f921"
             ]
            ],
            "type": "histogram2d"
           }
          ],
          "histogram2dcontour": [
           {
            "colorbar": {
             "outlinewidth": 0,
             "ticks": ""
            },
            "colorscale": [
             [
              0,
              "#0d0887"
             ],
             [
              0.1111111111111111,
              "#46039f"
             ],
             [
              0.2222222222222222,
              "#7201a8"
             ],
             [
              0.3333333333333333,
              "#9c179e"
             ],
             [
              0.4444444444444444,
              "#bd3786"
             ],
             [
              0.5555555555555556,
              "#d8576b"
             ],
             [
              0.6666666666666666,
              "#ed7953"
             ],
             [
              0.7777777777777778,
              "#fb9f3a"
             ],
             [
              0.8888888888888888,
              "#fdca26"
             ],
             [
              1,
              "#f0f921"
             ]
            ],
            "type": "histogram2dcontour"
           }
          ],
          "mesh3d": [
           {
            "colorbar": {
             "outlinewidth": 0,
             "ticks": ""
            },
            "type": "mesh3d"
           }
          ],
          "parcoords": [
           {
            "line": {
             "colorbar": {
              "outlinewidth": 0,
              "ticks": ""
             }
            },
            "type": "parcoords"
           }
          ],
          "pie": [
           {
            "automargin": true,
            "type": "pie"
           }
          ],
          "scatter": [
           {
            "fillpattern": {
             "fillmode": "overlay",
             "size": 10,
             "solidity": 0.2
            },
            "type": "scatter"
           }
          ],
          "scatter3d": [
           {
            "line": {
             "colorbar": {
              "outlinewidth": 0,
              "ticks": ""
             }
            },
            "marker": {
             "colorbar": {
              "outlinewidth": 0,
              "ticks": ""
             }
            },
            "type": "scatter3d"
           }
          ],
          "scattercarpet": [
           {
            "marker": {
             "colorbar": {
              "outlinewidth": 0,
              "ticks": ""
             }
            },
            "type": "scattercarpet"
           }
          ],
          "scattergeo": [
           {
            "marker": {
             "colorbar": {
              "outlinewidth": 0,
              "ticks": ""
             }
            },
            "type": "scattergeo"
           }
          ],
          "scattergl": [
           {
            "marker": {
             "colorbar": {
              "outlinewidth": 0,
              "ticks": ""
             }
            },
            "type": "scattergl"
           }
          ],
          "scattermapbox": [
           {
            "marker": {
             "colorbar": {
              "outlinewidth": 0,
              "ticks": ""
             }
            },
            "type": "scattermapbox"
           }
          ],
          "scatterpolar": [
           {
            "marker": {
             "colorbar": {
              "outlinewidth": 0,
              "ticks": ""
             }
            },
            "type": "scatterpolar"
           }
          ],
          "scatterpolargl": [
           {
            "marker": {
             "colorbar": {
              "outlinewidth": 0,
              "ticks": ""
             }
            },
            "type": "scatterpolargl"
           }
          ],
          "scatterternary": [
           {
            "marker": {
             "colorbar": {
              "outlinewidth": 0,
              "ticks": ""
             }
            },
            "type": "scatterternary"
           }
          ],
          "surface": [
           {
            "colorbar": {
             "outlinewidth": 0,
             "ticks": ""
            },
            "colorscale": [
             [
              0,
              "#0d0887"
             ],
             [
              0.1111111111111111,
              "#46039f"
             ],
             [
              0.2222222222222222,
              "#7201a8"
             ],
             [
              0.3333333333333333,
              "#9c179e"
             ],
             [
              0.4444444444444444,
              "#bd3786"
             ],
             [
              0.5555555555555556,
              "#d8576b"
             ],
             [
              0.6666666666666666,
              "#ed7953"
             ],
             [
              0.7777777777777778,
              "#fb9f3a"
             ],
             [
              0.8888888888888888,
              "#fdca26"
             ],
             [
              1,
              "#f0f921"
             ]
            ],
            "type": "surface"
           }
          ],
          "table": [
           {
            "cells": {
             "fill": {
              "color": "#EBF0F8"
             },
             "line": {
              "color": "white"
             }
            },
            "header": {
             "fill": {
              "color": "#C8D4E3"
             },
             "line": {
              "color": "white"
             }
            },
            "type": "table"
           }
          ]
         },
         "layout": {
          "annotationdefaults": {
           "arrowcolor": "#2a3f5f",
           "arrowhead": 0,
           "arrowwidth": 1
          },
          "autotypenumbers": "strict",
          "coloraxis": {
           "colorbar": {
            "outlinewidth": 0,
            "ticks": ""
           }
          },
          "colorscale": {
           "diverging": [
            [
             0,
             "#8e0152"
            ],
            [
             0.1,
             "#c51b7d"
            ],
            [
             0.2,
             "#de77ae"
            ],
            [
             0.3,
             "#f1b6da"
            ],
            [
             0.4,
             "#fde0ef"
            ],
            [
             0.5,
             "#f7f7f7"
            ],
            [
             0.6,
             "#e6f5d0"
            ],
            [
             0.7,
             "#b8e186"
            ],
            [
             0.8,
             "#7fbc41"
            ],
            [
             0.9,
             "#4d9221"
            ],
            [
             1,
             "#276419"
            ]
           ],
           "sequential": [
            [
             0,
             "#0d0887"
            ],
            [
             0.1111111111111111,
             "#46039f"
            ],
            [
             0.2222222222222222,
             "#7201a8"
            ],
            [
             0.3333333333333333,
             "#9c179e"
            ],
            [
             0.4444444444444444,
             "#bd3786"
            ],
            [
             0.5555555555555556,
             "#d8576b"
            ],
            [
             0.6666666666666666,
             "#ed7953"
            ],
            [
             0.7777777777777778,
             "#fb9f3a"
            ],
            [
             0.8888888888888888,
             "#fdca26"
            ],
            [
             1,
             "#f0f921"
            ]
           ],
           "sequentialminus": [
            [
             0,
             "#0d0887"
            ],
            [
             0.1111111111111111,
             "#46039f"
            ],
            [
             0.2222222222222222,
             "#7201a8"
            ],
            [
             0.3333333333333333,
             "#9c179e"
            ],
            [
             0.4444444444444444,
             "#bd3786"
            ],
            [
             0.5555555555555556,
             "#d8576b"
            ],
            [
             0.6666666666666666,
             "#ed7953"
            ],
            [
             0.7777777777777778,
             "#fb9f3a"
            ],
            [
             0.8888888888888888,
             "#fdca26"
            ],
            [
             1,
             "#f0f921"
            ]
           ]
          },
          "colorway": [
           "#636efa",
           "#EF553B",
           "#00cc96",
           "#ab63fa",
           "#FFA15A",
           "#19d3f3",
           "#FF6692",
           "#B6E880",
           "#FF97FF",
           "#FECB52"
          ],
          "font": {
           "color": "#2a3f5f"
          },
          "geo": {
           "bgcolor": "white",
           "lakecolor": "white",
           "landcolor": "#E5ECF6",
           "showlakes": true,
           "showland": true,
           "subunitcolor": "white"
          },
          "hoverlabel": {
           "align": "left"
          },
          "hovermode": "closest",
          "mapbox": {
           "style": "light"
          },
          "paper_bgcolor": "white",
          "plot_bgcolor": "#E5ECF6",
          "polar": {
           "angularaxis": {
            "gridcolor": "white",
            "linecolor": "white",
            "ticks": ""
           },
           "bgcolor": "#E5ECF6",
           "radialaxis": {
            "gridcolor": "white",
            "linecolor": "white",
            "ticks": ""
           }
          },
          "scene": {
           "xaxis": {
            "backgroundcolor": "#E5ECF6",
            "gridcolor": "white",
            "gridwidth": 2,
            "linecolor": "white",
            "showbackground": true,
            "ticks": "",
            "zerolinecolor": "white"
           },
           "yaxis": {
            "backgroundcolor": "#E5ECF6",
            "gridcolor": "white",
            "gridwidth": 2,
            "linecolor": "white",
            "showbackground": true,
            "ticks": "",
            "zerolinecolor": "white"
           },
           "zaxis": {
            "backgroundcolor": "#E5ECF6",
            "gridcolor": "white",
            "gridwidth": 2,
            "linecolor": "white",
            "showbackground": true,
            "ticks": "",
            "zerolinecolor": "white"
           }
          },
          "shapedefaults": {
           "line": {
            "color": "#2a3f5f"
           }
          },
          "ternary": {
           "aaxis": {
            "gridcolor": "white",
            "linecolor": "white",
            "ticks": ""
           },
           "baxis": {
            "gridcolor": "white",
            "linecolor": "white",
            "ticks": ""
           },
           "bgcolor": "#E5ECF6",
           "caxis": {
            "gridcolor": "white",
            "linecolor": "white",
            "ticks": ""
           }
          },
          "title": {
           "x": 0.05
          },
          "xaxis": {
           "automargin": true,
           "gridcolor": "white",
           "linecolor": "white",
           "ticks": "",
           "title": {
            "standoff": 15
           },
           "zerolinecolor": "white",
           "zerolinewidth": 2
          },
          "yaxis": {
           "automargin": true,
           "gridcolor": "white",
           "linecolor": "white",
           "ticks": "",
           "title": {
            "standoff": 15
           },
           "zerolinecolor": "white",
           "zerolinewidth": 2
          }
         }
        },
        "title": {
         "text": "Frequency Distribution of Maize Production"
        },
        "xaxis": {
         "anchor": "y",
         "domain": [
          0,
          1
         ],
         "title": {
          "text": "Maize_Production"
         }
        },
        "yaxis": {
         "anchor": "x",
         "domain": [
          0,
          1
         ],
         "title": {
          "text": "count"
         }
        }
       }
      }
     },
     "metadata": {},
     "output_type": "display_data"
    }
   ],
   "source": [
    "import plotly.express as px\n",
    "\n",
    "# Create a histogram for Maize_Production\n",
    "fig = px.histogram(Working_Directory, x='Maize_Production', nbins=10, title='Frequency Distribution of Maize Production')\n",
    "\n",
    "# Show the histogram\n",
    "fig.show()"
   ]
  },
  {
   "cell_type": "code",
   "execution_count": 8,
   "metadata": {},
   "outputs": [
    {
     "name": "stdout",
     "output_type": "stream",
     "text": [
      "10th percentile: 1759.0\n",
      "15th percentile: 2732.0\n",
      "20th percentile: 2879.0\n",
      "25th percentile: 12535.5\n",
      "75th percentile: 208289.5\n",
      "90th percentile: 333937.0\n",
      "95th percentile: 495122.5\n",
      "99th percentile: 588508.2\n"
     ]
    }
   ],
   "source": [
    "# List of desired percentiles\n",
    "percentiles = [0.1, 0.15, 0.20, 0.25, 0.75, 0.90, 0.95, 0.99]\n",
    "\n",
    "# Calculate quantiles for the given percentiles\n",
    "quantile_values = Working_Directory['Maize_Production'].quantile(percentiles)\n",
    "\n",
    "# Print each quantile with its corresponding percentile\n",
    "for p, q in zip(percentiles, quantile_values):\n",
    "    print(f\"{int(p*100)}th percentile: {q}\")"
   ]
  },
  {
   "cell_type": "code",
   "execution_count": 9,
   "metadata": {},
   "outputs": [
    {
     "data": {
      "text/html": [
       "<div>\n",
       "<style scoped>\n",
       "    .dataframe tbody tr th:only-of-type {\n",
       "        vertical-align: middle;\n",
       "    }\n",
       "\n",
       "    .dataframe tbody tr th {\n",
       "        vertical-align: top;\n",
       "    }\n",
       "\n",
       "    .dataframe thead th {\n",
       "        text-align: right;\n",
       "    }\n",
       "</style>\n",
       "<table border=\"1\" class=\"dataframe\">\n",
       "  <thead>\n",
       "    <tr style=\"text-align: right;\">\n",
       "      <th></th>\n",
       "      <th>District</th>\n",
       "      <th>Maize_Production</th>\n",
       "      <th>TotalNPK</th>\n",
       "      <th>SowingSeedsDistributed_Maize</th>\n",
       "      <th>LivestockCensus_2012_Cattle</th>\n",
       "      <th>AreaUnderCereals_Maize</th>\n",
       "      <th>NetAreaIrrigatedUnderDifferentSources_TubeWells_NetIrrigatedArea</th>\n",
       "      <th>Maize_Ratio</th>\n",
       "    </tr>\n",
       "  </thead>\n",
       "  <tbody>\n",
       "    <tr>\n",
       "      <th>0</th>\n",
       "      <td>BENGALURU</td>\n",
       "      <td>2879</td>\n",
       "      <td>438.180210</td>\n",
       "      <td>4.450</td>\n",
       "      <td>2567.461578</td>\n",
       "      <td>1129.0</td>\n",
       "      <td>9348</td>\n",
       "      <td>0.018798</td>\n",
       "    </tr>\n",
       "    <tr>\n",
       "      <th>1</th>\n",
       "      <td>BENGALURU(R)</td>\n",
       "      <td>42583</td>\n",
       "      <td>3036.080250</td>\n",
       "      <td>134.730</td>\n",
       "      <td>25037.139270</td>\n",
       "      <td>14867.0</td>\n",
       "      <td>20281</td>\n",
       "      <td>0.157645</td>\n",
       "    </tr>\n",
       "    <tr>\n",
       "      <th>2</th>\n",
       "      <td>RAMANAGARA</td>\n",
       "      <td>10450</td>\n",
       "      <td>222.225258</td>\n",
       "      <td>260.150</td>\n",
       "      <td>7729.614277</td>\n",
       "      <td>1987.0</td>\n",
       "      <td>23868</td>\n",
       "      <td>0.029741</td>\n",
       "    </tr>\n",
       "    <tr>\n",
       "      <th>3</th>\n",
       "      <td>CHITRADURGA</td>\n",
       "      <td>271975</td>\n",
       "      <td>10902.406570</td>\n",
       "      <td>5004.000</td>\n",
       "      <td>83821.593090</td>\n",
       "      <td>92194.0</td>\n",
       "      <td>92506</td>\n",
       "      <td>0.303824</td>\n",
       "    </tr>\n",
       "    <tr>\n",
       "      <th>4</th>\n",
       "      <td>DAVANAGERE</td>\n",
       "      <td>593544</td>\n",
       "      <td>25702.835480</td>\n",
       "      <td>6124.600</td>\n",
       "      <td>85657.632090</td>\n",
       "      <td>173400.0</td>\n",
       "      <td>78364</td>\n",
       "      <td>0.257947</td>\n",
       "    </tr>\n",
       "    <tr>\n",
       "      <th>5</th>\n",
       "      <td>KOLAR</td>\n",
       "      <td>1759</td>\n",
       "      <td>220.782906</td>\n",
       "      <td>51.500</td>\n",
       "      <td>2278.829821</td>\n",
       "      <td>640.0</td>\n",
       "      <td>20140</td>\n",
       "      <td>0.009950</td>\n",
       "    </tr>\n",
       "    <tr>\n",
       "      <th>6</th>\n",
       "      <td>CHIKKABALLAPURA</td>\n",
       "      <td>105491</td>\n",
       "      <td>8196.896749</td>\n",
       "      <td>3538.150</td>\n",
       "      <td>71206.945310</td>\n",
       "      <td>59377.0</td>\n",
       "      <td>50370</td>\n",
       "      <td>0.289061</td>\n",
       "    </tr>\n",
       "    <tr>\n",
       "      <th>7</th>\n",
       "      <td>SHIVAMOGGA</td>\n",
       "      <td>226532</td>\n",
       "      <td>10428.246260</td>\n",
       "      <td>3814.020</td>\n",
       "      <td>104722.000400</td>\n",
       "      <td>43827.0</td>\n",
       "      <td>32347</td>\n",
       "      <td>0.184215</td>\n",
       "    </tr>\n",
       "    <tr>\n",
       "      <th>8</th>\n",
       "      <td>TUMAKURU</td>\n",
       "      <td>66868</td>\n",
       "      <td>2746.313635</td>\n",
       "      <td>1639.850</td>\n",
       "      <td>37944.093760</td>\n",
       "      <td>24207.0</td>\n",
       "      <td>144708</td>\n",
       "      <td>0.071991</td>\n",
       "    </tr>\n",
       "    <tr>\n",
       "      <th>9</th>\n",
       "      <td>CHIKKAMAGALURU</td>\n",
       "      <td>61353</td>\n",
       "      <td>8156.290370</td>\n",
       "      <td>2923.790</td>\n",
       "      <td>40572.445630</td>\n",
       "      <td>25831.0</td>\n",
       "      <td>26174</td>\n",
       "      <td>0.120188</td>\n",
       "    </tr>\n",
       "    <tr>\n",
       "      <th>10</th>\n",
       "      <td>DAKSHINA KANNADA</td>\n",
       "      <td>0</td>\n",
       "      <td>0.000000</td>\n",
       "      <td>0.000</td>\n",
       "      <td>0.000000</td>\n",
       "      <td>0.0</td>\n",
       "      <td>16589</td>\n",
       "      <td>0.000000</td>\n",
       "    </tr>\n",
       "    <tr>\n",
       "      <th>11</th>\n",
       "      <td>UDUPI</td>\n",
       "      <td>109</td>\n",
       "      <td>2.304863</td>\n",
       "      <td>0.000</td>\n",
       "      <td>94.499008</td>\n",
       "      <td>8.0</td>\n",
       "      <td>699</td>\n",
       "      <td>0.000375</td>\n",
       "    </tr>\n",
       "    <tr>\n",
       "      <th>12</th>\n",
       "      <td>HASSAN</td>\n",
       "      <td>333937</td>\n",
       "      <td>17039.273890</td>\n",
       "      <td>8925.330</td>\n",
       "      <td>151008.140300</td>\n",
       "      <td>79058.0</td>\n",
       "      <td>23393</td>\n",
       "      <td>0.248999</td>\n",
       "    </tr>\n",
       "    <tr>\n",
       "      <th>13</th>\n",
       "      <td>KODAGU</td>\n",
       "      <td>17921</td>\n",
       "      <td>3519.022414</td>\n",
       "      <td>246.410</td>\n",
       "      <td>7599.582730</td>\n",
       "      <td>3448.0</td>\n",
       "      <td>106</td>\n",
       "      <td>0.085941</td>\n",
       "    </tr>\n",
       "    <tr>\n",
       "      <th>14</th>\n",
       "      <td>MANDYA</td>\n",
       "      <td>19387</td>\n",
       "      <td>1448.830355</td>\n",
       "      <td>794.030</td>\n",
       "      <td>8774.134623</td>\n",
       "      <td>4892.0</td>\n",
       "      <td>16025</td>\n",
       "      <td>0.023925</td>\n",
       "    </tr>\n",
       "    <tr>\n",
       "      <th>15</th>\n",
       "      <td>MYSURU</td>\n",
       "      <td>137154</td>\n",
       "      <td>6945.331415</td>\n",
       "      <td>1573.430</td>\n",
       "      <td>61547.727440</td>\n",
       "      <td>37283.0</td>\n",
       "      <td>19842</td>\n",
       "      <td>0.111996</td>\n",
       "    </tr>\n",
       "    <tr>\n",
       "      <th>16</th>\n",
       "      <td>CHAMARAJANAGAR</td>\n",
       "      <td>147886</td>\n",
       "      <td>7289.684770</td>\n",
       "      <td>2054.600</td>\n",
       "      <td>80396.926680</td>\n",
       "      <td>38569.0</td>\n",
       "      <td>44070</td>\n",
       "      <td>0.306251</td>\n",
       "    </tr>\n",
       "    <tr>\n",
       "      <th>17</th>\n",
       "      <td>BELAGAVI</td>\n",
       "      <td>576758</td>\n",
       "      <td>48288.815130</td>\n",
       "      <td>11883.580</td>\n",
       "      <td>159047.086200</td>\n",
       "      <td>131163.0</td>\n",
       "      <td>139708</td>\n",
       "      <td>0.268283</td>\n",
       "    </tr>\n",
       "    <tr>\n",
       "      <th>18</th>\n",
       "      <td>VIJAYAPURA</td>\n",
       "      <td>226327</td>\n",
       "      <td>10420.071650</td>\n",
       "      <td>2682.760</td>\n",
       "      <td>48619.507080</td>\n",
       "      <td>40207.0</td>\n",
       "      <td>113515</td>\n",
       "      <td>0.192153</td>\n",
       "    </tr>\n",
       "    <tr>\n",
       "      <th>19</th>\n",
       "      <td>BAGALKOT</td>\n",
       "      <td>251699</td>\n",
       "      <td>22940.521250</td>\n",
       "      <td>5678.150</td>\n",
       "      <td>75578.052000</td>\n",
       "      <td>44300.0</td>\n",
       "      <td>117497</td>\n",
       "      <td>0.270487</td>\n",
       "    </tr>\n",
       "    <tr>\n",
       "      <th>20</th>\n",
       "      <td>DHARAWAD</td>\n",
       "      <td>90634</td>\n",
       "      <td>6447.725408</td>\n",
       "      <td>2471.350</td>\n",
       "      <td>33424.645600</td>\n",
       "      <td>30900.0</td>\n",
       "      <td>20816</td>\n",
       "      <td>0.172487</td>\n",
       "    </tr>\n",
       "    <tr>\n",
       "      <th>21</th>\n",
       "      <td>GADAG</td>\n",
       "      <td>138476</td>\n",
       "      <td>5591.244159</td>\n",
       "      <td>4111.000</td>\n",
       "      <td>34261.981770</td>\n",
       "      <td>34163.0</td>\n",
       "      <td>41664</td>\n",
       "      <td>0.240174</td>\n",
       "    </tr>\n",
       "    <tr>\n",
       "      <th>22</th>\n",
       "      <td>HAVERI</td>\n",
       "      <td>413487</td>\n",
       "      <td>21731.170720</td>\n",
       "      <td>11325.600</td>\n",
       "      <td>95150.640270</td>\n",
       "      <td>170696.0</td>\n",
       "      <td>63016</td>\n",
       "      <td>0.334321</td>\n",
       "    </tr>\n",
       "    <tr>\n",
       "      <th>23</th>\n",
       "      <td>UTTARA KANNADA</td>\n",
       "      <td>24088</td>\n",
       "      <td>1025.616827</td>\n",
       "      <td>1469.200</td>\n",
       "      <td>22563.771080</td>\n",
       "      <td>4576.0</td>\n",
       "      <td>8460</td>\n",
       "      <td>0.066964</td>\n",
       "    </tr>\n",
       "    <tr>\n",
       "      <th>24</th>\n",
       "      <td>BALLARI</td>\n",
       "      <td>104045</td>\n",
       "      <td>8404.154608</td>\n",
       "      <td>2859.005</td>\n",
       "      <td>23446.847900</td>\n",
       "      <td>49869.5</td>\n",
       "      <td>75198</td>\n",
       "      <td>0.136288</td>\n",
       "    </tr>\n",
       "    <tr>\n",
       "      <th>25</th>\n",
       "      <td>BIDAR</td>\n",
       "      <td>2791</td>\n",
       "      <td>249.381182</td>\n",
       "      <td>24.550</td>\n",
       "      <td>2371.831678</td>\n",
       "      <td>1382.0</td>\n",
       "      <td>19908</td>\n",
       "      <td>0.010114</td>\n",
       "    </tr>\n",
       "    <tr>\n",
       "      <th>26</th>\n",
       "      <td>KALABURAGI</td>\n",
       "      <td>14621</td>\n",
       "      <td>710.101614</td>\n",
       "      <td>165.000</td>\n",
       "      <td>6221.617910</td>\n",
       "      <td>2634.0</td>\n",
       "      <td>48802</td>\n",
       "      <td>0.013150</td>\n",
       "    </tr>\n",
       "    <tr>\n",
       "      <th>27</th>\n",
       "      <td>YADGIRI</td>\n",
       "      <td>2673</td>\n",
       "      <td>368.617469</td>\n",
       "      <td>0.000</td>\n",
       "      <td>1253.317144</td>\n",
       "      <td>961.0</td>\n",
       "      <td>22035</td>\n",
       "      <td>0.004033</td>\n",
       "    </tr>\n",
       "    <tr>\n",
       "      <th>28</th>\n",
       "      <td>RAICHUR</td>\n",
       "      <td>723</td>\n",
       "      <td>61.547519</td>\n",
       "      <td>14.350</td>\n",
       "      <td>188.537479</td>\n",
       "      <td>2600.0</td>\n",
       "      <td>26571</td>\n",
       "      <td>0.000525</td>\n",
       "    </tr>\n",
       "    <tr>\n",
       "      <th>29</th>\n",
       "      <td>KOPPAL</td>\n",
       "      <td>190252</td>\n",
       "      <td>10997.550400</td>\n",
       "      <td>5292.000</td>\n",
       "      <td>38936.400170</td>\n",
       "      <td>48210.0</td>\n",
       "      <td>82552</td>\n",
       "      <td>0.149521</td>\n",
       "    </tr>\n",
       "    <tr>\n",
       "      <th>30</th>\n",
       "      <td>VIJAYANAGARA</td>\n",
       "      <td>104045</td>\n",
       "      <td>8404.154608</td>\n",
       "      <td>2859.005</td>\n",
       "      <td>23446.847900</td>\n",
       "      <td>49869.5</td>\n",
       "      <td>75198</td>\n",
       "      <td>0.136288</td>\n",
       "    </tr>\n",
       "  </tbody>\n",
       "</table>\n",
       "</div>"
      ],
      "text/plain": [
       "            District  Maize_Production      TotalNPK  \\\n",
       "0          BENGALURU              2879    438.180210   \n",
       "1       BENGALURU(R)             42583   3036.080250   \n",
       "2         RAMANAGARA             10450    222.225258   \n",
       "3        CHITRADURGA            271975  10902.406570   \n",
       "4         DAVANAGERE            593544  25702.835480   \n",
       "5              KOLAR              1759    220.782906   \n",
       "6    CHIKKABALLAPURA            105491   8196.896749   \n",
       "7         SHIVAMOGGA            226532  10428.246260   \n",
       "8           TUMAKURU             66868   2746.313635   \n",
       "9     CHIKKAMAGALURU             61353   8156.290370   \n",
       "10  DAKSHINA KANNADA                 0      0.000000   \n",
       "11             UDUPI               109      2.304863   \n",
       "12            HASSAN            333937  17039.273890   \n",
       "13            KODAGU             17921   3519.022414   \n",
       "14            MANDYA             19387   1448.830355   \n",
       "15            MYSURU            137154   6945.331415   \n",
       "16    CHAMARAJANAGAR            147886   7289.684770   \n",
       "17          BELAGAVI            576758  48288.815130   \n",
       "18        VIJAYAPURA            226327  10420.071650   \n",
       "19          BAGALKOT            251699  22940.521250   \n",
       "20          DHARAWAD             90634   6447.725408   \n",
       "21             GADAG            138476   5591.244159   \n",
       "22            HAVERI            413487  21731.170720   \n",
       "23    UTTARA KANNADA             24088   1025.616827   \n",
       "24           BALLARI            104045   8404.154608   \n",
       "25             BIDAR              2791    249.381182   \n",
       "26        KALABURAGI             14621    710.101614   \n",
       "27           YADGIRI              2673    368.617469   \n",
       "28           RAICHUR               723     61.547519   \n",
       "29            KOPPAL            190252  10997.550400   \n",
       "30      VIJAYANAGARA            104045   8404.154608   \n",
       "\n",
       "    SowingSeedsDistributed_Maize  LivestockCensus_2012_Cattle  \\\n",
       "0                          4.450                  2567.461578   \n",
       "1                        134.730                 25037.139270   \n",
       "2                        260.150                  7729.614277   \n",
       "3                       5004.000                 83821.593090   \n",
       "4                       6124.600                 85657.632090   \n",
       "5                         51.500                  2278.829821   \n",
       "6                       3538.150                 71206.945310   \n",
       "7                       3814.020                104722.000400   \n",
       "8                       1639.850                 37944.093760   \n",
       "9                       2923.790                 40572.445630   \n",
       "10                         0.000                     0.000000   \n",
       "11                         0.000                    94.499008   \n",
       "12                      8925.330                151008.140300   \n",
       "13                       246.410                  7599.582730   \n",
       "14                       794.030                  8774.134623   \n",
       "15                      1573.430                 61547.727440   \n",
       "16                      2054.600                 80396.926680   \n",
       "17                     11883.580                159047.086200   \n",
       "18                      2682.760                 48619.507080   \n",
       "19                      5678.150                 75578.052000   \n",
       "20                      2471.350                 33424.645600   \n",
       "21                      4111.000                 34261.981770   \n",
       "22                     11325.600                 95150.640270   \n",
       "23                      1469.200                 22563.771080   \n",
       "24                      2859.005                 23446.847900   \n",
       "25                        24.550                  2371.831678   \n",
       "26                       165.000                  6221.617910   \n",
       "27                         0.000                  1253.317144   \n",
       "28                        14.350                   188.537479   \n",
       "29                      5292.000                 38936.400170   \n",
       "30                      2859.005                 23446.847900   \n",
       "\n",
       "    AreaUnderCereals_Maize  \\\n",
       "0                   1129.0   \n",
       "1                  14867.0   \n",
       "2                   1987.0   \n",
       "3                  92194.0   \n",
       "4                 173400.0   \n",
       "5                    640.0   \n",
       "6                  59377.0   \n",
       "7                  43827.0   \n",
       "8                  24207.0   \n",
       "9                  25831.0   \n",
       "10                     0.0   \n",
       "11                     8.0   \n",
       "12                 79058.0   \n",
       "13                  3448.0   \n",
       "14                  4892.0   \n",
       "15                 37283.0   \n",
       "16                 38569.0   \n",
       "17                131163.0   \n",
       "18                 40207.0   \n",
       "19                 44300.0   \n",
       "20                 30900.0   \n",
       "21                 34163.0   \n",
       "22                170696.0   \n",
       "23                  4576.0   \n",
       "24                 49869.5   \n",
       "25                  1382.0   \n",
       "26                  2634.0   \n",
       "27                   961.0   \n",
       "28                  2600.0   \n",
       "29                 48210.0   \n",
       "30                 49869.5   \n",
       "\n",
       "    NetAreaIrrigatedUnderDifferentSources_TubeWells_NetIrrigatedArea  \\\n",
       "0                                                9348                  \n",
       "1                                               20281                  \n",
       "2                                               23868                  \n",
       "3                                               92506                  \n",
       "4                                               78364                  \n",
       "5                                               20140                  \n",
       "6                                               50370                  \n",
       "7                                               32347                  \n",
       "8                                              144708                  \n",
       "9                                               26174                  \n",
       "10                                              16589                  \n",
       "11                                                699                  \n",
       "12                                              23393                  \n",
       "13                                                106                  \n",
       "14                                              16025                  \n",
       "15                                              19842                  \n",
       "16                                              44070                  \n",
       "17                                             139708                  \n",
       "18                                             113515                  \n",
       "19                                             117497                  \n",
       "20                                              20816                  \n",
       "21                                              41664                  \n",
       "22                                              63016                  \n",
       "23                                               8460                  \n",
       "24                                              75198                  \n",
       "25                                              19908                  \n",
       "26                                              48802                  \n",
       "27                                              22035                  \n",
       "28                                              26571                  \n",
       "29                                              82552                  \n",
       "30                                              75198                  \n",
       "\n",
       "    Maize_Ratio  \n",
       "0      0.018798  \n",
       "1      0.157645  \n",
       "2      0.029741  \n",
       "3      0.303824  \n",
       "4      0.257947  \n",
       "5      0.009950  \n",
       "6      0.289061  \n",
       "7      0.184215  \n",
       "8      0.071991  \n",
       "9      0.120188  \n",
       "10     0.000000  \n",
       "11     0.000375  \n",
       "12     0.248999  \n",
       "13     0.085941  \n",
       "14     0.023925  \n",
       "15     0.111996  \n",
       "16     0.306251  \n",
       "17     0.268283  \n",
       "18     0.192153  \n",
       "19     0.270487  \n",
       "20     0.172487  \n",
       "21     0.240174  \n",
       "22     0.334321  \n",
       "23     0.066964  \n",
       "24     0.136288  \n",
       "25     0.010114  \n",
       "26     0.013150  \n",
       "27     0.004033  \n",
       "28     0.000525  \n",
       "29     0.149521  \n",
       "30     0.136288  "
      ]
     },
     "execution_count": 9,
     "metadata": {},
     "output_type": "execute_result"
    }
   ],
   "source": [
    "Working_Directory"
   ]
  },
  {
   "cell_type": "markdown",
   "metadata": {},
   "source": [
    "Finding the delta after removing the districts that are outliers, then for rest of the calculation we only remove the lower outliers.\n",
    "We tried replacement using the Q1 and Q3 percentile methods :\n",
    "1) We tried finding outliers using the lower and upper bounds, but that was giving unsatisfactory results with the partitioning.\n",
    "2) We used the Q1 and Q3 values as the bounds and replaced values below and above them with Q1 and Q3 resp., this wasn't as successful as we anticipated (Percentage changes of 500% for 5% delta, 1000% for 10% delta) so we are back to the discarding method."
   ]
  },
  {
   "cell_type": "code",
   "execution_count": 10,
   "metadata": {},
   "outputs": [
    {
     "name": "stdout",
     "output_type": "stream",
     "text": [
      "134853.12903225806\n"
     ]
    }
   ],
   "source": [
    "print((Working_Directory['Maize_Production'].mean()))"
   ]
  },
  {
   "cell_type": "code",
   "execution_count": 11,
   "metadata": {},
   "outputs": [
    {
     "name": "stdout",
     "output_type": "stream",
     "text": [
      "115742.80769230769\n",
      "4259.335323076923\n",
      "5787.140384615384\n",
      "9259.424615384616\n",
      "28\n"
     ]
    }
   ],
   "source": [
    "# Ensure that the index of y and Case_file are aligned\n",
    "y = y.loc[Case_file.index]\n",
    "\n",
    "# Identify rows in Case_file that have any zeros\n",
    "rows_to_remove = (Case_file == 0).any(axis=1)\n",
    "\n",
    "rows_to_remove |= Working_Directory['Maize_Production']  < 1000\n",
    "\n",
    "rows_to_remove |= Working_Directory['Maize_Production'] > 500000\n",
    "\n",
    "delta_O = 0.0368*(Working_Directory[~rows_to_remove]['Maize_Production'].mean())\n",
    "\n",
    "print((Working_Directory[~rows_to_remove]['Maize_Production'].mean()))\n",
    "\n",
    "print(0.0368*(Working_Directory[~rows_to_remove]['Maize_Production'].mean()))\n",
    "print(0.05*(Working_Directory[~rows_to_remove]['Maize_Production'].mean()))\n",
    "print(0.08*(Working_Directory[~rows_to_remove]['Maize_Production'].mean()))\n",
    "\n",
    "rows_to_remove = (Case_file == 0).any(axis=1)\n",
    "\n",
    "rows_to_remove |= Working_Directory['Maize_Production']  < 1000\n",
    "\n",
    "# rows_to_remove |= Working_Directory['Maize_Production'] > 500000\n",
    "\n",
    "# Update Case_file and y\n",
    "Case_file = Case_file[~rows_to_remove].reset_index(drop=True)\n",
    "y = Working_Directory['Maize_Production'][~rows_to_remove].reset_index(drop=True)\n",
    "\n",
    "# Verify the length of Case_file\n",
    "case_file_length = len(Case_file)\n",
    "print(case_file_length)"
   ]
  },
  {
   "cell_type": "code",
   "execution_count": null,
   "metadata": {},
   "outputs": [],
   "source": []
  },
  {
   "cell_type": "code",
   "execution_count": 12,
   "metadata": {},
   "outputs": [
    {
     "data": {
      "text/plain": [
       "Index(['LivestockCensus_2012_Cattle', 'AreaUnderCereals_Maize', 'TotalNPK'], dtype='object')"
      ]
     },
     "execution_count": 12,
     "metadata": {},
     "output_type": "execute_result"
    }
   ],
   "source": [
    "Case_file.columns"
   ]
  },
  {
   "cell_type": "code",
   "execution_count": 13,
   "metadata": {},
   "outputs": [
    {
     "data": {
      "application/vnd.plotly.v1+json": {
       "config": {
        "plotlyServerURL": "https://plot.ly"
       },
       "data": [
        {
         "alignmentgroup": "True",
         "boxpoints": "all",
         "hovertemplate": "Columns=%{x}<br>Values=%{y}<extra></extra>",
         "legendgroup": "",
         "marker": {
          "color": "#636efa"
         },
         "name": "",
         "notched": false,
         "offsetgroup": "",
         "orientation": "v",
         "showlegend": false,
         "type": "box",
         "x": [
          "LivestockCensus_2012_Cattle",
          "LivestockCensus_2012_Cattle",
          "LivestockCensus_2012_Cattle",
          "LivestockCensus_2012_Cattle",
          "LivestockCensus_2012_Cattle",
          "LivestockCensus_2012_Cattle",
          "LivestockCensus_2012_Cattle",
          "LivestockCensus_2012_Cattle",
          "LivestockCensus_2012_Cattle",
          "LivestockCensus_2012_Cattle",
          "LivestockCensus_2012_Cattle",
          "LivestockCensus_2012_Cattle",
          "LivestockCensus_2012_Cattle",
          "LivestockCensus_2012_Cattle",
          "LivestockCensus_2012_Cattle",
          "LivestockCensus_2012_Cattle",
          "LivestockCensus_2012_Cattle",
          "LivestockCensus_2012_Cattle",
          "LivestockCensus_2012_Cattle",
          "LivestockCensus_2012_Cattle",
          "LivestockCensus_2012_Cattle",
          "LivestockCensus_2012_Cattle",
          "LivestockCensus_2012_Cattle",
          "LivestockCensus_2012_Cattle",
          "LivestockCensus_2012_Cattle",
          "LivestockCensus_2012_Cattle",
          "LivestockCensus_2012_Cattle",
          "LivestockCensus_2012_Cattle",
          "AreaUnderCereals_Maize",
          "AreaUnderCereals_Maize",
          "AreaUnderCereals_Maize",
          "AreaUnderCereals_Maize",
          "AreaUnderCereals_Maize",
          "AreaUnderCereals_Maize",
          "AreaUnderCereals_Maize",
          "AreaUnderCereals_Maize",
          "AreaUnderCereals_Maize",
          "AreaUnderCereals_Maize",
          "AreaUnderCereals_Maize",
          "AreaUnderCereals_Maize",
          "AreaUnderCereals_Maize",
          "AreaUnderCereals_Maize",
          "AreaUnderCereals_Maize",
          "AreaUnderCereals_Maize",
          "AreaUnderCereals_Maize",
          "AreaUnderCereals_Maize",
          "AreaUnderCereals_Maize",
          "AreaUnderCereals_Maize",
          "AreaUnderCereals_Maize",
          "AreaUnderCereals_Maize",
          "AreaUnderCereals_Maize",
          "AreaUnderCereals_Maize",
          "AreaUnderCereals_Maize",
          "AreaUnderCereals_Maize",
          "AreaUnderCereals_Maize",
          "AreaUnderCereals_Maize",
          "TotalNPK",
          "TotalNPK",
          "TotalNPK",
          "TotalNPK",
          "TotalNPK",
          "TotalNPK",
          "TotalNPK",
          "TotalNPK",
          "TotalNPK",
          "TotalNPK",
          "TotalNPK",
          "TotalNPK",
          "TotalNPK",
          "TotalNPK",
          "TotalNPK",
          "TotalNPK",
          "TotalNPK",
          "TotalNPK",
          "TotalNPK",
          "TotalNPK",
          "TotalNPK",
          "TotalNPK",
          "TotalNPK",
          "TotalNPK",
          "TotalNPK",
          "TotalNPK",
          "TotalNPK",
          "TotalNPK"
         ],
         "x0": " ",
         "xaxis": "x",
         "y": [
          2567.461578,
          25037.13927,
          7729.614277,
          83821.59309,
          85657.63209,
          2278.829821,
          71206.94531,
          104722.0004,
          37944.09376,
          40572.44563,
          151008.1403,
          7599.58273,
          8774.134623,
          61547.72744,
          80396.92668,
          159047.0862,
          48619.50708,
          75578.052,
          33424.6456,
          34261.98177,
          95150.64027,
          22563.77108,
          23446.8479,
          2371.831678,
          6221.61791,
          1253.317144,
          38936.40017,
          23446.8479,
          1129,
          14867,
          1987,
          92194,
          173400,
          640,
          59377,
          43827,
          24207,
          25831,
          79058,
          3448,
          4892,
          37283,
          38569,
          131163,
          40207,
          44300,
          30900,
          34163,
          170696,
          4576,
          49869.5,
          1382,
          2634,
          961,
          48210,
          49869.5,
          438.1802096,
          3036.08025,
          222.225258,
          10902.40657,
          25702.83548,
          220.7829063,
          8196.896749,
          10428.24626,
          2746.313635,
          8156.29037,
          17039.27389,
          3519.022414,
          1448.830355,
          6945.331415,
          7289.68477,
          48288.81513,
          10420.07165,
          22940.52125,
          6447.725408,
          5591.244159,
          21731.17072,
          1025.616827,
          8404.154608,
          249.3811824,
          710.1016144,
          368.6174694,
          10997.5504,
          8404.154608
         ],
         "y0": " ",
         "yaxis": "y"
        }
       ],
       "layout": {
        "boxmode": "group",
        "legend": {
         "tracegroupgap": 0
        },
        "template": {
         "data": {
          "bar": [
           {
            "error_x": {
             "color": "#2a3f5f"
            },
            "error_y": {
             "color": "#2a3f5f"
            },
            "marker": {
             "line": {
              "color": "#E5ECF6",
              "width": 0.5
             },
             "pattern": {
              "fillmode": "overlay",
              "size": 10,
              "solidity": 0.2
             }
            },
            "type": "bar"
           }
          ],
          "barpolar": [
           {
            "marker": {
             "line": {
              "color": "#E5ECF6",
              "width": 0.5
             },
             "pattern": {
              "fillmode": "overlay",
              "size": 10,
              "solidity": 0.2
             }
            },
            "type": "barpolar"
           }
          ],
          "carpet": [
           {
            "aaxis": {
             "endlinecolor": "#2a3f5f",
             "gridcolor": "white",
             "linecolor": "white",
             "minorgridcolor": "white",
             "startlinecolor": "#2a3f5f"
            },
            "baxis": {
             "endlinecolor": "#2a3f5f",
             "gridcolor": "white",
             "linecolor": "white",
             "minorgridcolor": "white",
             "startlinecolor": "#2a3f5f"
            },
            "type": "carpet"
           }
          ],
          "choropleth": [
           {
            "colorbar": {
             "outlinewidth": 0,
             "ticks": ""
            },
            "type": "choropleth"
           }
          ],
          "contour": [
           {
            "colorbar": {
             "outlinewidth": 0,
             "ticks": ""
            },
            "colorscale": [
             [
              0,
              "#0d0887"
             ],
             [
              0.1111111111111111,
              "#46039f"
             ],
             [
              0.2222222222222222,
              "#7201a8"
             ],
             [
              0.3333333333333333,
              "#9c179e"
             ],
             [
              0.4444444444444444,
              "#bd3786"
             ],
             [
              0.5555555555555556,
              "#d8576b"
             ],
             [
              0.6666666666666666,
              "#ed7953"
             ],
             [
              0.7777777777777778,
              "#fb9f3a"
             ],
             [
              0.8888888888888888,
              "#fdca26"
             ],
             [
              1,
              "#f0f921"
             ]
            ],
            "type": "contour"
           }
          ],
          "contourcarpet": [
           {
            "colorbar": {
             "outlinewidth": 0,
             "ticks": ""
            },
            "type": "contourcarpet"
           }
          ],
          "heatmap": [
           {
            "colorbar": {
             "outlinewidth": 0,
             "ticks": ""
            },
            "colorscale": [
             [
              0,
              "#0d0887"
             ],
             [
              0.1111111111111111,
              "#46039f"
             ],
             [
              0.2222222222222222,
              "#7201a8"
             ],
             [
              0.3333333333333333,
              "#9c179e"
             ],
             [
              0.4444444444444444,
              "#bd3786"
             ],
             [
              0.5555555555555556,
              "#d8576b"
             ],
             [
              0.6666666666666666,
              "#ed7953"
             ],
             [
              0.7777777777777778,
              "#fb9f3a"
             ],
             [
              0.8888888888888888,
              "#fdca26"
             ],
             [
              1,
              "#f0f921"
             ]
            ],
            "type": "heatmap"
           }
          ],
          "heatmapgl": [
           {
            "colorbar": {
             "outlinewidth": 0,
             "ticks": ""
            },
            "colorscale": [
             [
              0,
              "#0d0887"
             ],
             [
              0.1111111111111111,
              "#46039f"
             ],
             [
              0.2222222222222222,
              "#7201a8"
             ],
             [
              0.3333333333333333,
              "#9c179e"
             ],
             [
              0.4444444444444444,
              "#bd3786"
             ],
             [
              0.5555555555555556,
              "#d8576b"
             ],
             [
              0.6666666666666666,
              "#ed7953"
             ],
             [
              0.7777777777777778,
              "#fb9f3a"
             ],
             [
              0.8888888888888888,
              "#fdca26"
             ],
             [
              1,
              "#f0f921"
             ]
            ],
            "type": "heatmapgl"
           }
          ],
          "histogram": [
           {
            "marker": {
             "pattern": {
              "fillmode": "overlay",
              "size": 10,
              "solidity": 0.2
             }
            },
            "type": "histogram"
           }
          ],
          "histogram2d": [
           {
            "colorbar": {
             "outlinewidth": 0,
             "ticks": ""
            },
            "colorscale": [
             [
              0,
              "#0d0887"
             ],
             [
              0.1111111111111111,
              "#46039f"
             ],
             [
              0.2222222222222222,
              "#7201a8"
             ],
             [
              0.3333333333333333,
              "#9c179e"
             ],
             [
              0.4444444444444444,
              "#bd3786"
             ],
             [
              0.5555555555555556,
              "#d8576b"
             ],
             [
              0.6666666666666666,
              "#ed7953"
             ],
             [
              0.7777777777777778,
              "#fb9f3a"
             ],
             [
              0.8888888888888888,
              "#fdca26"
             ],
             [
              1,
              "#f0f921"
             ]
            ],
            "type": "histogram2d"
           }
          ],
          "histogram2dcontour": [
           {
            "colorbar": {
             "outlinewidth": 0,
             "ticks": ""
            },
            "colorscale": [
             [
              0,
              "#0d0887"
             ],
             [
              0.1111111111111111,
              "#46039f"
             ],
             [
              0.2222222222222222,
              "#7201a8"
             ],
             [
              0.3333333333333333,
              "#9c179e"
             ],
             [
              0.4444444444444444,
              "#bd3786"
             ],
             [
              0.5555555555555556,
              "#d8576b"
             ],
             [
              0.6666666666666666,
              "#ed7953"
             ],
             [
              0.7777777777777778,
              "#fb9f3a"
             ],
             [
              0.8888888888888888,
              "#fdca26"
             ],
             [
              1,
              "#f0f921"
             ]
            ],
            "type": "histogram2dcontour"
           }
          ],
          "mesh3d": [
           {
            "colorbar": {
             "outlinewidth": 0,
             "ticks": ""
            },
            "type": "mesh3d"
           }
          ],
          "parcoords": [
           {
            "line": {
             "colorbar": {
              "outlinewidth": 0,
              "ticks": ""
             }
            },
            "type": "parcoords"
           }
          ],
          "pie": [
           {
            "automargin": true,
            "type": "pie"
           }
          ],
          "scatter": [
           {
            "fillpattern": {
             "fillmode": "overlay",
             "size": 10,
             "solidity": 0.2
            },
            "type": "scatter"
           }
          ],
          "scatter3d": [
           {
            "line": {
             "colorbar": {
              "outlinewidth": 0,
              "ticks": ""
             }
            },
            "marker": {
             "colorbar": {
              "outlinewidth": 0,
              "ticks": ""
             }
            },
            "type": "scatter3d"
           }
          ],
          "scattercarpet": [
           {
            "marker": {
             "colorbar": {
              "outlinewidth": 0,
              "ticks": ""
             }
            },
            "type": "scattercarpet"
           }
          ],
          "scattergeo": [
           {
            "marker": {
             "colorbar": {
              "outlinewidth": 0,
              "ticks": ""
             }
            },
            "type": "scattergeo"
           }
          ],
          "scattergl": [
           {
            "marker": {
             "colorbar": {
              "outlinewidth": 0,
              "ticks": ""
             }
            },
            "type": "scattergl"
           }
          ],
          "scattermapbox": [
           {
            "marker": {
             "colorbar": {
              "outlinewidth": 0,
              "ticks": ""
             }
            },
            "type": "scattermapbox"
           }
          ],
          "scatterpolar": [
           {
            "marker": {
             "colorbar": {
              "outlinewidth": 0,
              "ticks": ""
             }
            },
            "type": "scatterpolar"
           }
          ],
          "scatterpolargl": [
           {
            "marker": {
             "colorbar": {
              "outlinewidth": 0,
              "ticks": ""
             }
            },
            "type": "scatterpolargl"
           }
          ],
          "scatterternary": [
           {
            "marker": {
             "colorbar": {
              "outlinewidth": 0,
              "ticks": ""
             }
            },
            "type": "scatterternary"
           }
          ],
          "surface": [
           {
            "colorbar": {
             "outlinewidth": 0,
             "ticks": ""
            },
            "colorscale": [
             [
              0,
              "#0d0887"
             ],
             [
              0.1111111111111111,
              "#46039f"
             ],
             [
              0.2222222222222222,
              "#7201a8"
             ],
             [
              0.3333333333333333,
              "#9c179e"
             ],
             [
              0.4444444444444444,
              "#bd3786"
             ],
             [
              0.5555555555555556,
              "#d8576b"
             ],
             [
              0.6666666666666666,
              "#ed7953"
             ],
             [
              0.7777777777777778,
              "#fb9f3a"
             ],
             [
              0.8888888888888888,
              "#fdca26"
             ],
             [
              1,
              "#f0f921"
             ]
            ],
            "type": "surface"
           }
          ],
          "table": [
           {
            "cells": {
             "fill": {
              "color": "#EBF0F8"
             },
             "line": {
              "color": "white"
             }
            },
            "header": {
             "fill": {
              "color": "#C8D4E3"
             },
             "line": {
              "color": "white"
             }
            },
            "type": "table"
           }
          ]
         },
         "layout": {
          "annotationdefaults": {
           "arrowcolor": "#2a3f5f",
           "arrowhead": 0,
           "arrowwidth": 1
          },
          "autotypenumbers": "strict",
          "coloraxis": {
           "colorbar": {
            "outlinewidth": 0,
            "ticks": ""
           }
          },
          "colorscale": {
           "diverging": [
            [
             0,
             "#8e0152"
            ],
            [
             0.1,
             "#c51b7d"
            ],
            [
             0.2,
             "#de77ae"
            ],
            [
             0.3,
             "#f1b6da"
            ],
            [
             0.4,
             "#fde0ef"
            ],
            [
             0.5,
             "#f7f7f7"
            ],
            [
             0.6,
             "#e6f5d0"
            ],
            [
             0.7,
             "#b8e186"
            ],
            [
             0.8,
             "#7fbc41"
            ],
            [
             0.9,
             "#4d9221"
            ],
            [
             1,
             "#276419"
            ]
           ],
           "sequential": [
            [
             0,
             "#0d0887"
            ],
            [
             0.1111111111111111,
             "#46039f"
            ],
            [
             0.2222222222222222,
             "#7201a8"
            ],
            [
             0.3333333333333333,
             "#9c179e"
            ],
            [
             0.4444444444444444,
             "#bd3786"
            ],
            [
             0.5555555555555556,
             "#d8576b"
            ],
            [
             0.6666666666666666,
             "#ed7953"
            ],
            [
             0.7777777777777778,
             "#fb9f3a"
            ],
            [
             0.8888888888888888,
             "#fdca26"
            ],
            [
             1,
             "#f0f921"
            ]
           ],
           "sequentialminus": [
            [
             0,
             "#0d0887"
            ],
            [
             0.1111111111111111,
             "#46039f"
            ],
            [
             0.2222222222222222,
             "#7201a8"
            ],
            [
             0.3333333333333333,
             "#9c179e"
            ],
            [
             0.4444444444444444,
             "#bd3786"
            ],
            [
             0.5555555555555556,
             "#d8576b"
            ],
            [
             0.6666666666666666,
             "#ed7953"
            ],
            [
             0.7777777777777778,
             "#fb9f3a"
            ],
            [
             0.8888888888888888,
             "#fdca26"
            ],
            [
             1,
             "#f0f921"
            ]
           ]
          },
          "colorway": [
           "#636efa",
           "#EF553B",
           "#00cc96",
           "#ab63fa",
           "#FFA15A",
           "#19d3f3",
           "#FF6692",
           "#B6E880",
           "#FF97FF",
           "#FECB52"
          ],
          "font": {
           "color": "#2a3f5f"
          },
          "geo": {
           "bgcolor": "white",
           "lakecolor": "white",
           "landcolor": "#E5ECF6",
           "showlakes": true,
           "showland": true,
           "subunitcolor": "white"
          },
          "hoverlabel": {
           "align": "left"
          },
          "hovermode": "closest",
          "mapbox": {
           "style": "light"
          },
          "paper_bgcolor": "white",
          "plot_bgcolor": "#E5ECF6",
          "polar": {
           "angularaxis": {
            "gridcolor": "white",
            "linecolor": "white",
            "ticks": ""
           },
           "bgcolor": "#E5ECF6",
           "radialaxis": {
            "gridcolor": "white",
            "linecolor": "white",
            "ticks": ""
           }
          },
          "scene": {
           "xaxis": {
            "backgroundcolor": "#E5ECF6",
            "gridcolor": "white",
            "gridwidth": 2,
            "linecolor": "white",
            "showbackground": true,
            "ticks": "",
            "zerolinecolor": "white"
           },
           "yaxis": {
            "backgroundcolor": "#E5ECF6",
            "gridcolor": "white",
            "gridwidth": 2,
            "linecolor": "white",
            "showbackground": true,
            "ticks": "",
            "zerolinecolor": "white"
           },
           "zaxis": {
            "backgroundcolor": "#E5ECF6",
            "gridcolor": "white",
            "gridwidth": 2,
            "linecolor": "white",
            "showbackground": true,
            "ticks": "",
            "zerolinecolor": "white"
           }
          },
          "shapedefaults": {
           "line": {
            "color": "#2a3f5f"
           }
          },
          "ternary": {
           "aaxis": {
            "gridcolor": "white",
            "linecolor": "white",
            "ticks": ""
           },
           "baxis": {
            "gridcolor": "white",
            "linecolor": "white",
            "ticks": ""
           },
           "bgcolor": "#E5ECF6",
           "caxis": {
            "gridcolor": "white",
            "linecolor": "white",
            "ticks": ""
           }
          },
          "title": {
           "x": 0.05
          },
          "xaxis": {
           "automargin": true,
           "gridcolor": "white",
           "linecolor": "white",
           "ticks": "",
           "title": {
            "standoff": 15
           },
           "zerolinecolor": "white",
           "zerolinewidth": 2
          },
          "yaxis": {
           "automargin": true,
           "gridcolor": "white",
           "linecolor": "white",
           "ticks": "",
           "title": {
            "standoff": 15
           },
           "zerolinecolor": "white",
           "zerolinewidth": 2
          }
         }
        },
        "title": {
         "text": "Box Plots of Case_file Columns and Maize Production"
        },
        "xaxis": {
         "anchor": "y",
         "domain": [
          0,
          1
         ],
         "title": {
          "text": "Columns"
         }
        },
        "yaxis": {
         "anchor": "x",
         "domain": [
          0,
          1
         ],
         "title": {
          "text": "Values"
         }
        }
       }
      }
     },
     "metadata": {},
     "output_type": "display_data"
    }
   ],
   "source": [
    "import plotly.express as px\n",
    "import pandas as pd\n",
    "\n",
    "# Melt the DataFrame to a long format for easier plotting\n",
    "Case_file_melt = Case_file.melt(var_name='Columns', value_name='Values')\n",
    "\n",
    "# Create box plots for each column\n",
    "fig = px.box(Case_file_melt, x='Columns', y='Values', title='Box Plots of Case_file Columns and Maize Production',points = \"all\")\n",
    "\n",
    "# Show the figure\n",
    "fig.show()\n"
   ]
  },
  {
   "cell_type": "code",
   "execution_count": 14,
   "metadata": {},
   "outputs": [
    {
     "data": {
      "application/vnd.plotly.v1+json": {
       "config": {
        "plotlyServerURL": "https://plot.ly"
       },
       "data": [
        {
         "alignmentgroup": "True",
         "boxpoints": "all",
         "hovertemplate": "Maize_Production=%{x}<br>Production=%{y}<extra></extra>",
         "legendgroup": "",
         "marker": {
          "color": "#636efa"
         },
         "name": "",
         "notched": false,
         "offsetgroup": "",
         "orientation": "v",
         "showlegend": false,
         "type": "box",
         "x": [
          "Maize_Production",
          "Maize_Production",
          "Maize_Production",
          "Maize_Production",
          "Maize_Production",
          "Maize_Production",
          "Maize_Production",
          "Maize_Production",
          "Maize_Production",
          "Maize_Production",
          "Maize_Production",
          "Maize_Production",
          "Maize_Production",
          "Maize_Production",
          "Maize_Production",
          "Maize_Production",
          "Maize_Production",
          "Maize_Production",
          "Maize_Production",
          "Maize_Production",
          "Maize_Production",
          "Maize_Production",
          "Maize_Production",
          "Maize_Production",
          "Maize_Production",
          "Maize_Production",
          "Maize_Production",
          "Maize_Production",
          "Maize_Production",
          "Maize_Production"
         ],
         "x0": " ",
         "xaxis": "x",
         "y": [
          42583,
          10450,
          271975,
          593544,
          1759,
          105491,
          226532,
          66868,
          61353,
          0,
          109,
          333937,
          17921,
          19387,
          137154,
          147886,
          576758,
          226327,
          251699,
          90634,
          138476,
          413487,
          24088,
          104045,
          2791,
          14621,
          2673,
          723,
          190252,
          104045
         ],
         "y0": " ",
         "yaxis": "y"
        }
       ],
       "layout": {
        "boxmode": "group",
        "legend": {
         "tracegroupgap": 0
        },
        "template": {
         "data": {
          "bar": [
           {
            "error_x": {
             "color": "#2a3f5f"
            },
            "error_y": {
             "color": "#2a3f5f"
            },
            "marker": {
             "line": {
              "color": "#E5ECF6",
              "width": 0.5
             },
             "pattern": {
              "fillmode": "overlay",
              "size": 10,
              "solidity": 0.2
             }
            },
            "type": "bar"
           }
          ],
          "barpolar": [
           {
            "marker": {
             "line": {
              "color": "#E5ECF6",
              "width": 0.5
             },
             "pattern": {
              "fillmode": "overlay",
              "size": 10,
              "solidity": 0.2
             }
            },
            "type": "barpolar"
           }
          ],
          "carpet": [
           {
            "aaxis": {
             "endlinecolor": "#2a3f5f",
             "gridcolor": "white",
             "linecolor": "white",
             "minorgridcolor": "white",
             "startlinecolor": "#2a3f5f"
            },
            "baxis": {
             "endlinecolor": "#2a3f5f",
             "gridcolor": "white",
             "linecolor": "white",
             "minorgridcolor": "white",
             "startlinecolor": "#2a3f5f"
            },
            "type": "carpet"
           }
          ],
          "choropleth": [
           {
            "colorbar": {
             "outlinewidth": 0,
             "ticks": ""
            },
            "type": "choropleth"
           }
          ],
          "contour": [
           {
            "colorbar": {
             "outlinewidth": 0,
             "ticks": ""
            },
            "colorscale": [
             [
              0,
              "#0d0887"
             ],
             [
              0.1111111111111111,
              "#46039f"
             ],
             [
              0.2222222222222222,
              "#7201a8"
             ],
             [
              0.3333333333333333,
              "#9c179e"
             ],
             [
              0.4444444444444444,
              "#bd3786"
             ],
             [
              0.5555555555555556,
              "#d8576b"
             ],
             [
              0.6666666666666666,
              "#ed7953"
             ],
             [
              0.7777777777777778,
              "#fb9f3a"
             ],
             [
              0.8888888888888888,
              "#fdca26"
             ],
             [
              1,
              "#f0f921"
             ]
            ],
            "type": "contour"
           }
          ],
          "contourcarpet": [
           {
            "colorbar": {
             "outlinewidth": 0,
             "ticks": ""
            },
            "type": "contourcarpet"
           }
          ],
          "heatmap": [
           {
            "colorbar": {
             "outlinewidth": 0,
             "ticks": ""
            },
            "colorscale": [
             [
              0,
              "#0d0887"
             ],
             [
              0.1111111111111111,
              "#46039f"
             ],
             [
              0.2222222222222222,
              "#7201a8"
             ],
             [
              0.3333333333333333,
              "#9c179e"
             ],
             [
              0.4444444444444444,
              "#bd3786"
             ],
             [
              0.5555555555555556,
              "#d8576b"
             ],
             [
              0.6666666666666666,
              "#ed7953"
             ],
             [
              0.7777777777777778,
              "#fb9f3a"
             ],
             [
              0.8888888888888888,
              "#fdca26"
             ],
             [
              1,
              "#f0f921"
             ]
            ],
            "type": "heatmap"
           }
          ],
          "heatmapgl": [
           {
            "colorbar": {
             "outlinewidth": 0,
             "ticks": ""
            },
            "colorscale": [
             [
              0,
              "#0d0887"
             ],
             [
              0.1111111111111111,
              "#46039f"
             ],
             [
              0.2222222222222222,
              "#7201a8"
             ],
             [
              0.3333333333333333,
              "#9c179e"
             ],
             [
              0.4444444444444444,
              "#bd3786"
             ],
             [
              0.5555555555555556,
              "#d8576b"
             ],
             [
              0.6666666666666666,
              "#ed7953"
             ],
             [
              0.7777777777777778,
              "#fb9f3a"
             ],
             [
              0.8888888888888888,
              "#fdca26"
             ],
             [
              1,
              "#f0f921"
             ]
            ],
            "type": "heatmapgl"
           }
          ],
          "histogram": [
           {
            "marker": {
             "pattern": {
              "fillmode": "overlay",
              "size": 10,
              "solidity": 0.2
             }
            },
            "type": "histogram"
           }
          ],
          "histogram2d": [
           {
            "colorbar": {
             "outlinewidth": 0,
             "ticks": ""
            },
            "colorscale": [
             [
              0,
              "#0d0887"
             ],
             [
              0.1111111111111111,
              "#46039f"
             ],
             [
              0.2222222222222222,
              "#7201a8"
             ],
             [
              0.3333333333333333,
              "#9c179e"
             ],
             [
              0.4444444444444444,
              "#bd3786"
             ],
             [
              0.5555555555555556,
              "#d8576b"
             ],
             [
              0.6666666666666666,
              "#ed7953"
             ],
             [
              0.7777777777777778,
              "#fb9f3a"
             ],
             [
              0.8888888888888888,
              "#fdca26"
             ],
             [
              1,
              "#f0f921"
             ]
            ],
            "type": "histogram2d"
           }
          ],
          "histogram2dcontour": [
           {
            "colorbar": {
             "outlinewidth": 0,
             "ticks": ""
            },
            "colorscale": [
             [
              0,
              "#0d0887"
             ],
             [
              0.1111111111111111,
              "#46039f"
             ],
             [
              0.2222222222222222,
              "#7201a8"
             ],
             [
              0.3333333333333333,
              "#9c179e"
             ],
             [
              0.4444444444444444,
              "#bd3786"
             ],
             [
              0.5555555555555556,
              "#d8576b"
             ],
             [
              0.6666666666666666,
              "#ed7953"
             ],
             [
              0.7777777777777778,
              "#fb9f3a"
             ],
             [
              0.8888888888888888,
              "#fdca26"
             ],
             [
              1,
              "#f0f921"
             ]
            ],
            "type": "histogram2dcontour"
           }
          ],
          "mesh3d": [
           {
            "colorbar": {
             "outlinewidth": 0,
             "ticks": ""
            },
            "type": "mesh3d"
           }
          ],
          "parcoords": [
           {
            "line": {
             "colorbar": {
              "outlinewidth": 0,
              "ticks": ""
             }
            },
            "type": "parcoords"
           }
          ],
          "pie": [
           {
            "automargin": true,
            "type": "pie"
           }
          ],
          "scatter": [
           {
            "fillpattern": {
             "fillmode": "overlay",
             "size": 10,
             "solidity": 0.2
            },
            "type": "scatter"
           }
          ],
          "scatter3d": [
           {
            "line": {
             "colorbar": {
              "outlinewidth": 0,
              "ticks": ""
             }
            },
            "marker": {
             "colorbar": {
              "outlinewidth": 0,
              "ticks": ""
             }
            },
            "type": "scatter3d"
           }
          ],
          "scattercarpet": [
           {
            "marker": {
             "colorbar": {
              "outlinewidth": 0,
              "ticks": ""
             }
            },
            "type": "scattercarpet"
           }
          ],
          "scattergeo": [
           {
            "marker": {
             "colorbar": {
              "outlinewidth": 0,
              "ticks": ""
             }
            },
            "type": "scattergeo"
           }
          ],
          "scattergl": [
           {
            "marker": {
             "colorbar": {
              "outlinewidth": 0,
              "ticks": ""
             }
            },
            "type": "scattergl"
           }
          ],
          "scattermapbox": [
           {
            "marker": {
             "colorbar": {
              "outlinewidth": 0,
              "ticks": ""
             }
            },
            "type": "scattermapbox"
           }
          ],
          "scatterpolar": [
           {
            "marker": {
             "colorbar": {
              "outlinewidth": 0,
              "ticks": ""
             }
            },
            "type": "scatterpolar"
           }
          ],
          "scatterpolargl": [
           {
            "marker": {
             "colorbar": {
              "outlinewidth": 0,
              "ticks": ""
             }
            },
            "type": "scatterpolargl"
           }
          ],
          "scatterternary": [
           {
            "marker": {
             "colorbar": {
              "outlinewidth": 0,
              "ticks": ""
             }
            },
            "type": "scatterternary"
           }
          ],
          "surface": [
           {
            "colorbar": {
             "outlinewidth": 0,
             "ticks": ""
            },
            "colorscale": [
             [
              0,
              "#0d0887"
             ],
             [
              0.1111111111111111,
              "#46039f"
             ],
             [
              0.2222222222222222,
              "#7201a8"
             ],
             [
              0.3333333333333333,
              "#9c179e"
             ],
             [
              0.4444444444444444,
              "#bd3786"
             ],
             [
              0.5555555555555556,
              "#d8576b"
             ],
             [
              0.6666666666666666,
              "#ed7953"
             ],
             [
              0.7777777777777778,
              "#fb9f3a"
             ],
             [
              0.8888888888888888,
              "#fdca26"
             ],
             [
              1,
              "#f0f921"
             ]
            ],
            "type": "surface"
           }
          ],
          "table": [
           {
            "cells": {
             "fill": {
              "color": "#EBF0F8"
             },
             "line": {
              "color": "white"
             }
            },
            "header": {
             "fill": {
              "color": "#C8D4E3"
             },
             "line": {
              "color": "white"
             }
            },
            "type": "table"
           }
          ]
         },
         "layout": {
          "annotationdefaults": {
           "arrowcolor": "#2a3f5f",
           "arrowhead": 0,
           "arrowwidth": 1
          },
          "autotypenumbers": "strict",
          "coloraxis": {
           "colorbar": {
            "outlinewidth": 0,
            "ticks": ""
           }
          },
          "colorscale": {
           "diverging": [
            [
             0,
             "#8e0152"
            ],
            [
             0.1,
             "#c51b7d"
            ],
            [
             0.2,
             "#de77ae"
            ],
            [
             0.3,
             "#f1b6da"
            ],
            [
             0.4,
             "#fde0ef"
            ],
            [
             0.5,
             "#f7f7f7"
            ],
            [
             0.6,
             "#e6f5d0"
            ],
            [
             0.7,
             "#b8e186"
            ],
            [
             0.8,
             "#7fbc41"
            ],
            [
             0.9,
             "#4d9221"
            ],
            [
             1,
             "#276419"
            ]
           ],
           "sequential": [
            [
             0,
             "#0d0887"
            ],
            [
             0.1111111111111111,
             "#46039f"
            ],
            [
             0.2222222222222222,
             "#7201a8"
            ],
            [
             0.3333333333333333,
             "#9c179e"
            ],
            [
             0.4444444444444444,
             "#bd3786"
            ],
            [
             0.5555555555555556,
             "#d8576b"
            ],
            [
             0.6666666666666666,
             "#ed7953"
            ],
            [
             0.7777777777777778,
             "#fb9f3a"
            ],
            [
             0.8888888888888888,
             "#fdca26"
            ],
            [
             1,
             "#f0f921"
            ]
           ],
           "sequentialminus": [
            [
             0,
             "#0d0887"
            ],
            [
             0.1111111111111111,
             "#46039f"
            ],
            [
             0.2222222222222222,
             "#7201a8"
            ],
            [
             0.3333333333333333,
             "#9c179e"
            ],
            [
             0.4444444444444444,
             "#bd3786"
            ],
            [
             0.5555555555555556,
             "#d8576b"
            ],
            [
             0.6666666666666666,
             "#ed7953"
            ],
            [
             0.7777777777777778,
             "#fb9f3a"
            ],
            [
             0.8888888888888888,
             "#fdca26"
            ],
            [
             1,
             "#f0f921"
            ]
           ]
          },
          "colorway": [
           "#636efa",
           "#EF553B",
           "#00cc96",
           "#ab63fa",
           "#FFA15A",
           "#19d3f3",
           "#FF6692",
           "#B6E880",
           "#FF97FF",
           "#FECB52"
          ],
          "font": {
           "color": "#2a3f5f"
          },
          "geo": {
           "bgcolor": "white",
           "lakecolor": "white",
           "landcolor": "#E5ECF6",
           "showlakes": true,
           "showland": true,
           "subunitcolor": "white"
          },
          "hoverlabel": {
           "align": "left"
          },
          "hovermode": "closest",
          "mapbox": {
           "style": "light"
          },
          "paper_bgcolor": "white",
          "plot_bgcolor": "#E5ECF6",
          "polar": {
           "angularaxis": {
            "gridcolor": "white",
            "linecolor": "white",
            "ticks": ""
           },
           "bgcolor": "#E5ECF6",
           "radialaxis": {
            "gridcolor": "white",
            "linecolor": "white",
            "ticks": ""
           }
          },
          "scene": {
           "xaxis": {
            "backgroundcolor": "#E5ECF6",
            "gridcolor": "white",
            "gridwidth": 2,
            "linecolor": "white",
            "showbackground": true,
            "ticks": "",
            "zerolinecolor": "white"
           },
           "yaxis": {
            "backgroundcolor": "#E5ECF6",
            "gridcolor": "white",
            "gridwidth": 2,
            "linecolor": "white",
            "showbackground": true,
            "ticks": "",
            "zerolinecolor": "white"
           },
           "zaxis": {
            "backgroundcolor": "#E5ECF6",
            "gridcolor": "white",
            "gridwidth": 2,
            "linecolor": "white",
            "showbackground": true,
            "ticks": "",
            "zerolinecolor": "white"
           }
          },
          "shapedefaults": {
           "line": {
            "color": "#2a3f5f"
           }
          },
          "ternary": {
           "aaxis": {
            "gridcolor": "white",
            "linecolor": "white",
            "ticks": ""
           },
           "baxis": {
            "gridcolor": "white",
            "linecolor": "white",
            "ticks": ""
           },
           "bgcolor": "#E5ECF6",
           "caxis": {
            "gridcolor": "white",
            "linecolor": "white",
            "ticks": ""
           }
          },
          "title": {
           "x": 0.05
          },
          "xaxis": {
           "automargin": true,
           "gridcolor": "white",
           "linecolor": "white",
           "ticks": "",
           "title": {
            "standoff": 15
           },
           "zerolinecolor": "white",
           "zerolinewidth": 2
          },
          "yaxis": {
           "automargin": true,
           "gridcolor": "white",
           "linecolor": "white",
           "ticks": "",
           "title": {
            "standoff": 15
           },
           "zerolinecolor": "white",
           "zerolinewidth": 2
          }
         }
        },
        "title": {
         "text": "Box Plot of Maize Production"
        },
        "xaxis": {
         "anchor": "y",
         "domain": [
          0,
          1
         ],
         "title": {
          "text": "Maize_Production"
         }
        },
        "yaxis": {
         "anchor": "x",
         "domain": [
          0,
          1
         ],
         "title": {
          "text": "Production"
         }
        }
       }
      }
     },
     "metadata": {},
     "output_type": "display_data"
    }
   ],
   "source": [
    "Case_file_melt = Working_Directory[['Maize_Production']].melt(var_name='Maize_Production', value_name='Production')\n",
    "\n",
    "# Create box plots for each column\n",
    "fig = px.box(Case_file_melt[1:], x='Maize_Production', y='Production', title='Box Plot of Maize Production',points = \"all\")\n",
    "\n",
    "# Show the figure\n",
    "fig.show()"
   ]
  },
  {
   "cell_type": "code",
   "execution_count": 15,
   "metadata": {},
   "outputs": [
    {
     "data": {
      "application/vnd.plotly.v1+json": {
       "config": {
        "plotlyServerURL": "https://plot.ly"
       },
       "data": [
        {
         "alignmentgroup": "True",
         "boxpoints": "all",
         "hovertemplate": "TotalNPK=%{y}<extra></extra>",
         "legendgroup": "",
         "marker": {
          "color": "#636efa"
         },
         "name": "",
         "notched": false,
         "offsetgroup": "",
         "orientation": "v",
         "showlegend": false,
         "type": "box",
         "x0": " ",
         "xaxis": "x",
         "y": [
          438.1802096,
          3036.08025,
          222.225258,
          10902.40657,
          25702.83548,
          220.7829063,
          8196.896749,
          10428.24626,
          2746.313635,
          8156.29037,
          17039.27389,
          3519.022414,
          1448.830355,
          6945.331415,
          7289.68477,
          48288.81513,
          10420.07165,
          22940.52125,
          6447.725408,
          5591.244159,
          21731.17072,
          1025.616827,
          8404.154608,
          249.3811824,
          710.1016144,
          368.6174694,
          10997.5504,
          8404.154608
         ],
         "y0": " ",
         "yaxis": "y"
        }
       ],
       "layout": {
        "boxmode": "group",
        "legend": {
         "tracegroupgap": 0
        },
        "template": {
         "data": {
          "bar": [
           {
            "error_x": {
             "color": "#2a3f5f"
            },
            "error_y": {
             "color": "#2a3f5f"
            },
            "marker": {
             "line": {
              "color": "#E5ECF6",
              "width": 0.5
             },
             "pattern": {
              "fillmode": "overlay",
              "size": 10,
              "solidity": 0.2
             }
            },
            "type": "bar"
           }
          ],
          "barpolar": [
           {
            "marker": {
             "line": {
              "color": "#E5ECF6",
              "width": 0.5
             },
             "pattern": {
              "fillmode": "overlay",
              "size": 10,
              "solidity": 0.2
             }
            },
            "type": "barpolar"
           }
          ],
          "carpet": [
           {
            "aaxis": {
             "endlinecolor": "#2a3f5f",
             "gridcolor": "white",
             "linecolor": "white",
             "minorgridcolor": "white",
             "startlinecolor": "#2a3f5f"
            },
            "baxis": {
             "endlinecolor": "#2a3f5f",
             "gridcolor": "white",
             "linecolor": "white",
             "minorgridcolor": "white",
             "startlinecolor": "#2a3f5f"
            },
            "type": "carpet"
           }
          ],
          "choropleth": [
           {
            "colorbar": {
             "outlinewidth": 0,
             "ticks": ""
            },
            "type": "choropleth"
           }
          ],
          "contour": [
           {
            "colorbar": {
             "outlinewidth": 0,
             "ticks": ""
            },
            "colorscale": [
             [
              0,
              "#0d0887"
             ],
             [
              0.1111111111111111,
              "#46039f"
             ],
             [
              0.2222222222222222,
              "#7201a8"
             ],
             [
              0.3333333333333333,
              "#9c179e"
             ],
             [
              0.4444444444444444,
              "#bd3786"
             ],
             [
              0.5555555555555556,
              "#d8576b"
             ],
             [
              0.6666666666666666,
              "#ed7953"
             ],
             [
              0.7777777777777778,
              "#fb9f3a"
             ],
             [
              0.8888888888888888,
              "#fdca26"
             ],
             [
              1,
              "#f0f921"
             ]
            ],
            "type": "contour"
           }
          ],
          "contourcarpet": [
           {
            "colorbar": {
             "outlinewidth": 0,
             "ticks": ""
            },
            "type": "contourcarpet"
           }
          ],
          "heatmap": [
           {
            "colorbar": {
             "outlinewidth": 0,
             "ticks": ""
            },
            "colorscale": [
             [
              0,
              "#0d0887"
             ],
             [
              0.1111111111111111,
              "#46039f"
             ],
             [
              0.2222222222222222,
              "#7201a8"
             ],
             [
              0.3333333333333333,
              "#9c179e"
             ],
             [
              0.4444444444444444,
              "#bd3786"
             ],
             [
              0.5555555555555556,
              "#d8576b"
             ],
             [
              0.6666666666666666,
              "#ed7953"
             ],
             [
              0.7777777777777778,
              "#fb9f3a"
             ],
             [
              0.8888888888888888,
              "#fdca26"
             ],
             [
              1,
              "#f0f921"
             ]
            ],
            "type": "heatmap"
           }
          ],
          "heatmapgl": [
           {
            "colorbar": {
             "outlinewidth": 0,
             "ticks": ""
            },
            "colorscale": [
             [
              0,
              "#0d0887"
             ],
             [
              0.1111111111111111,
              "#46039f"
             ],
             [
              0.2222222222222222,
              "#7201a8"
             ],
             [
              0.3333333333333333,
              "#9c179e"
             ],
             [
              0.4444444444444444,
              "#bd3786"
             ],
             [
              0.5555555555555556,
              "#d8576b"
             ],
             [
              0.6666666666666666,
              "#ed7953"
             ],
             [
              0.7777777777777778,
              "#fb9f3a"
             ],
             [
              0.8888888888888888,
              "#fdca26"
             ],
             [
              1,
              "#f0f921"
             ]
            ],
            "type": "heatmapgl"
           }
          ],
          "histogram": [
           {
            "marker": {
             "pattern": {
              "fillmode": "overlay",
              "size": 10,
              "solidity": 0.2
             }
            },
            "type": "histogram"
           }
          ],
          "histogram2d": [
           {
            "colorbar": {
             "outlinewidth": 0,
             "ticks": ""
            },
            "colorscale": [
             [
              0,
              "#0d0887"
             ],
             [
              0.1111111111111111,
              "#46039f"
             ],
             [
              0.2222222222222222,
              "#7201a8"
             ],
             [
              0.3333333333333333,
              "#9c179e"
             ],
             [
              0.4444444444444444,
              "#bd3786"
             ],
             [
              0.5555555555555556,
              "#d8576b"
             ],
             [
              0.6666666666666666,
              "#ed7953"
             ],
             [
              0.7777777777777778,
              "#fb9f3a"
             ],
             [
              0.8888888888888888,
              "#fdca26"
             ],
             [
              1,
              "#f0f921"
             ]
            ],
            "type": "histogram2d"
           }
          ],
          "histogram2dcontour": [
           {
            "colorbar": {
             "outlinewidth": 0,
             "ticks": ""
            },
            "colorscale": [
             [
              0,
              "#0d0887"
             ],
             [
              0.1111111111111111,
              "#46039f"
             ],
             [
              0.2222222222222222,
              "#7201a8"
             ],
             [
              0.3333333333333333,
              "#9c179e"
             ],
             [
              0.4444444444444444,
              "#bd3786"
             ],
             [
              0.5555555555555556,
              "#d8576b"
             ],
             [
              0.6666666666666666,
              "#ed7953"
             ],
             [
              0.7777777777777778,
              "#fb9f3a"
             ],
             [
              0.8888888888888888,
              "#fdca26"
             ],
             [
              1,
              "#f0f921"
             ]
            ],
            "type": "histogram2dcontour"
           }
          ],
          "mesh3d": [
           {
            "colorbar": {
             "outlinewidth": 0,
             "ticks": ""
            },
            "type": "mesh3d"
           }
          ],
          "parcoords": [
           {
            "line": {
             "colorbar": {
              "outlinewidth": 0,
              "ticks": ""
             }
            },
            "type": "parcoords"
           }
          ],
          "pie": [
           {
            "automargin": true,
            "type": "pie"
           }
          ],
          "scatter": [
           {
            "fillpattern": {
             "fillmode": "overlay",
             "size": 10,
             "solidity": 0.2
            },
            "type": "scatter"
           }
          ],
          "scatter3d": [
           {
            "line": {
             "colorbar": {
              "outlinewidth": 0,
              "ticks": ""
             }
            },
            "marker": {
             "colorbar": {
              "outlinewidth": 0,
              "ticks": ""
             }
            },
            "type": "scatter3d"
           }
          ],
          "scattercarpet": [
           {
            "marker": {
             "colorbar": {
              "outlinewidth": 0,
              "ticks": ""
             }
            },
            "type": "scattercarpet"
           }
          ],
          "scattergeo": [
           {
            "marker": {
             "colorbar": {
              "outlinewidth": 0,
              "ticks": ""
             }
            },
            "type": "scattergeo"
           }
          ],
          "scattergl": [
           {
            "marker": {
             "colorbar": {
              "outlinewidth": 0,
              "ticks": ""
             }
            },
            "type": "scattergl"
           }
          ],
          "scattermapbox": [
           {
            "marker": {
             "colorbar": {
              "outlinewidth": 0,
              "ticks": ""
             }
            },
            "type": "scattermapbox"
           }
          ],
          "scatterpolar": [
           {
            "marker": {
             "colorbar": {
              "outlinewidth": 0,
              "ticks": ""
             }
            },
            "type": "scatterpolar"
           }
          ],
          "scatterpolargl": [
           {
            "marker": {
             "colorbar": {
              "outlinewidth": 0,
              "ticks": ""
             }
            },
            "type": "scatterpolargl"
           }
          ],
          "scatterternary": [
           {
            "marker": {
             "colorbar": {
              "outlinewidth": 0,
              "ticks": ""
             }
            },
            "type": "scatterternary"
           }
          ],
          "surface": [
           {
            "colorbar": {
             "outlinewidth": 0,
             "ticks": ""
            },
            "colorscale": [
             [
              0,
              "#0d0887"
             ],
             [
              0.1111111111111111,
              "#46039f"
             ],
             [
              0.2222222222222222,
              "#7201a8"
             ],
             [
              0.3333333333333333,
              "#9c179e"
             ],
             [
              0.4444444444444444,
              "#bd3786"
             ],
             [
              0.5555555555555556,
              "#d8576b"
             ],
             [
              0.6666666666666666,
              "#ed7953"
             ],
             [
              0.7777777777777778,
              "#fb9f3a"
             ],
             [
              0.8888888888888888,
              "#fdca26"
             ],
             [
              1,
              "#f0f921"
             ]
            ],
            "type": "surface"
           }
          ],
          "table": [
           {
            "cells": {
             "fill": {
              "color": "#EBF0F8"
             },
             "line": {
              "color": "white"
             }
            },
            "header": {
             "fill": {
              "color": "#C8D4E3"
             },
             "line": {
              "color": "white"
             }
            },
            "type": "table"
           }
          ]
         },
         "layout": {
          "annotationdefaults": {
           "arrowcolor": "#2a3f5f",
           "arrowhead": 0,
           "arrowwidth": 1
          },
          "autotypenumbers": "strict",
          "coloraxis": {
           "colorbar": {
            "outlinewidth": 0,
            "ticks": ""
           }
          },
          "colorscale": {
           "diverging": [
            [
             0,
             "#8e0152"
            ],
            [
             0.1,
             "#c51b7d"
            ],
            [
             0.2,
             "#de77ae"
            ],
            [
             0.3,
             "#f1b6da"
            ],
            [
             0.4,
             "#fde0ef"
            ],
            [
             0.5,
             "#f7f7f7"
            ],
            [
             0.6,
             "#e6f5d0"
            ],
            [
             0.7,
             "#b8e186"
            ],
            [
             0.8,
             "#7fbc41"
            ],
            [
             0.9,
             "#4d9221"
            ],
            [
             1,
             "#276419"
            ]
           ],
           "sequential": [
            [
             0,
             "#0d0887"
            ],
            [
             0.1111111111111111,
             "#46039f"
            ],
            [
             0.2222222222222222,
             "#7201a8"
            ],
            [
             0.3333333333333333,
             "#9c179e"
            ],
            [
             0.4444444444444444,
             "#bd3786"
            ],
            [
             0.5555555555555556,
             "#d8576b"
            ],
            [
             0.6666666666666666,
             "#ed7953"
            ],
            [
             0.7777777777777778,
             "#fb9f3a"
            ],
            [
             0.8888888888888888,
             "#fdca26"
            ],
            [
             1,
             "#f0f921"
            ]
           ],
           "sequentialminus": [
            [
             0,
             "#0d0887"
            ],
            [
             0.1111111111111111,
             "#46039f"
            ],
            [
             0.2222222222222222,
             "#7201a8"
            ],
            [
             0.3333333333333333,
             "#9c179e"
            ],
            [
             0.4444444444444444,
             "#bd3786"
            ],
            [
             0.5555555555555556,
             "#d8576b"
            ],
            [
             0.6666666666666666,
             "#ed7953"
            ],
            [
             0.7777777777777778,
             "#fb9f3a"
            ],
            [
             0.8888888888888888,
             "#fdca26"
            ],
            [
             1,
             "#f0f921"
            ]
           ]
          },
          "colorway": [
           "#636efa",
           "#EF553B",
           "#00cc96",
           "#ab63fa",
           "#FFA15A",
           "#19d3f3",
           "#FF6692",
           "#B6E880",
           "#FF97FF",
           "#FECB52"
          ],
          "font": {
           "color": "#2a3f5f"
          },
          "geo": {
           "bgcolor": "white",
           "lakecolor": "white",
           "landcolor": "#E5ECF6",
           "showlakes": true,
           "showland": true,
           "subunitcolor": "white"
          },
          "hoverlabel": {
           "align": "left"
          },
          "hovermode": "closest",
          "mapbox": {
           "style": "light"
          },
          "paper_bgcolor": "white",
          "plot_bgcolor": "#E5ECF6",
          "polar": {
           "angularaxis": {
            "gridcolor": "white",
            "linecolor": "white",
            "ticks": ""
           },
           "bgcolor": "#E5ECF6",
           "radialaxis": {
            "gridcolor": "white",
            "linecolor": "white",
            "ticks": ""
           }
          },
          "scene": {
           "xaxis": {
            "backgroundcolor": "#E5ECF6",
            "gridcolor": "white",
            "gridwidth": 2,
            "linecolor": "white",
            "showbackground": true,
            "ticks": "",
            "zerolinecolor": "white"
           },
           "yaxis": {
            "backgroundcolor": "#E5ECF6",
            "gridcolor": "white",
            "gridwidth": 2,
            "linecolor": "white",
            "showbackground": true,
            "ticks": "",
            "zerolinecolor": "white"
           },
           "zaxis": {
            "backgroundcolor": "#E5ECF6",
            "gridcolor": "white",
            "gridwidth": 2,
            "linecolor": "white",
            "showbackground": true,
            "ticks": "",
            "zerolinecolor": "white"
           }
          },
          "shapedefaults": {
           "line": {
            "color": "#2a3f5f"
           }
          },
          "ternary": {
           "aaxis": {
            "gridcolor": "white",
            "linecolor": "white",
            "ticks": ""
           },
           "baxis": {
            "gridcolor": "white",
            "linecolor": "white",
            "ticks": ""
           },
           "bgcolor": "#E5ECF6",
           "caxis": {
            "gridcolor": "white",
            "linecolor": "white",
            "ticks": ""
           }
          },
          "title": {
           "x": 0.05
          },
          "xaxis": {
           "automargin": true,
           "gridcolor": "white",
           "linecolor": "white",
           "ticks": "",
           "title": {
            "standoff": 15
           },
           "zerolinecolor": "white",
           "zerolinewidth": 2
          },
          "yaxis": {
           "automargin": true,
           "gridcolor": "white",
           "linecolor": "white",
           "ticks": "",
           "title": {
            "standoff": 15
           },
           "zerolinecolor": "white",
           "zerolinewidth": 2
          }
         }
        },
        "title": {
         "text": "Box Plot of TotalNPK"
        },
        "xaxis": {
         "anchor": "y",
         "domain": [
          0,
          1
         ]
        },
        "yaxis": {
         "anchor": "x",
         "domain": [
          0,
          1
         ],
         "title": {
          "text": "TotalNPK"
         }
        }
       }
      }
     },
     "metadata": {},
     "output_type": "display_data"
    }
   ],
   "source": [
    "TotalNPK_data = Case_file[['TotalNPK']]\n",
    "\n",
    "fig = px.box(TotalNPK_data, y='TotalNPK', title='Box Plot of TotalNPK', points='all')\n",
    "\n",
    "fig.show()"
   ]
  },
  {
   "cell_type": "code",
   "execution_count": 16,
   "metadata": {},
   "outputs": [
    {
     "data": {
      "text/html": [
       "<div>\n",
       "<style scoped>\n",
       "    .dataframe tbody tr th:only-of-type {\n",
       "        vertical-align: middle;\n",
       "    }\n",
       "\n",
       "    .dataframe tbody tr th {\n",
       "        vertical-align: top;\n",
       "    }\n",
       "\n",
       "    .dataframe thead th {\n",
       "        text-align: right;\n",
       "    }\n",
       "</style>\n",
       "<table border=\"1\" class=\"dataframe\">\n",
       "  <thead>\n",
       "    <tr style=\"text-align: right;\">\n",
       "      <th></th>\n",
       "      <th>LivestockCensus_2012_Cattle</th>\n",
       "      <th>AreaUnderCereals_Maize</th>\n",
       "      <th>TotalNPK</th>\n",
       "    </tr>\n",
       "  </thead>\n",
       "  <tbody>\n",
       "    <tr>\n",
       "      <th>0</th>\n",
       "      <td>2567.461578</td>\n",
       "      <td>1129.0</td>\n",
       "      <td>438.180210</td>\n",
       "    </tr>\n",
       "    <tr>\n",
       "      <th>1</th>\n",
       "      <td>25037.139270</td>\n",
       "      <td>14867.0</td>\n",
       "      <td>3036.080250</td>\n",
       "    </tr>\n",
       "    <tr>\n",
       "      <th>2</th>\n",
       "      <td>7729.614277</td>\n",
       "      <td>1987.0</td>\n",
       "      <td>222.225258</td>\n",
       "    </tr>\n",
       "    <tr>\n",
       "      <th>3</th>\n",
       "      <td>83821.593090</td>\n",
       "      <td>92194.0</td>\n",
       "      <td>10902.406570</td>\n",
       "    </tr>\n",
       "    <tr>\n",
       "      <th>4</th>\n",
       "      <td>85657.632090</td>\n",
       "      <td>173400.0</td>\n",
       "      <td>25702.835480</td>\n",
       "    </tr>\n",
       "    <tr>\n",
       "      <th>5</th>\n",
       "      <td>2278.829821</td>\n",
       "      <td>640.0</td>\n",
       "      <td>220.782906</td>\n",
       "    </tr>\n",
       "    <tr>\n",
       "      <th>6</th>\n",
       "      <td>71206.945310</td>\n",
       "      <td>59377.0</td>\n",
       "      <td>8196.896749</td>\n",
       "    </tr>\n",
       "    <tr>\n",
       "      <th>7</th>\n",
       "      <td>104722.000400</td>\n",
       "      <td>43827.0</td>\n",
       "      <td>10428.246260</td>\n",
       "    </tr>\n",
       "    <tr>\n",
       "      <th>8</th>\n",
       "      <td>37944.093760</td>\n",
       "      <td>24207.0</td>\n",
       "      <td>2746.313635</td>\n",
       "    </tr>\n",
       "    <tr>\n",
       "      <th>9</th>\n",
       "      <td>40572.445630</td>\n",
       "      <td>25831.0</td>\n",
       "      <td>8156.290370</td>\n",
       "    </tr>\n",
       "    <tr>\n",
       "      <th>10</th>\n",
       "      <td>151008.140300</td>\n",
       "      <td>79058.0</td>\n",
       "      <td>17039.273890</td>\n",
       "    </tr>\n",
       "    <tr>\n",
       "      <th>11</th>\n",
       "      <td>7599.582730</td>\n",
       "      <td>3448.0</td>\n",
       "      <td>3519.022414</td>\n",
       "    </tr>\n",
       "    <tr>\n",
       "      <th>12</th>\n",
       "      <td>8774.134623</td>\n",
       "      <td>4892.0</td>\n",
       "      <td>1448.830355</td>\n",
       "    </tr>\n",
       "    <tr>\n",
       "      <th>13</th>\n",
       "      <td>61547.727440</td>\n",
       "      <td>37283.0</td>\n",
       "      <td>6945.331415</td>\n",
       "    </tr>\n",
       "    <tr>\n",
       "      <th>14</th>\n",
       "      <td>80396.926680</td>\n",
       "      <td>38569.0</td>\n",
       "      <td>7289.684770</td>\n",
       "    </tr>\n",
       "    <tr>\n",
       "      <th>15</th>\n",
       "      <td>159047.086200</td>\n",
       "      <td>131163.0</td>\n",
       "      <td>48288.815130</td>\n",
       "    </tr>\n",
       "    <tr>\n",
       "      <th>16</th>\n",
       "      <td>48619.507080</td>\n",
       "      <td>40207.0</td>\n",
       "      <td>10420.071650</td>\n",
       "    </tr>\n",
       "    <tr>\n",
       "      <th>17</th>\n",
       "      <td>75578.052000</td>\n",
       "      <td>44300.0</td>\n",
       "      <td>22940.521250</td>\n",
       "    </tr>\n",
       "    <tr>\n",
       "      <th>18</th>\n",
       "      <td>33424.645600</td>\n",
       "      <td>30900.0</td>\n",
       "      <td>6447.725408</td>\n",
       "    </tr>\n",
       "    <tr>\n",
       "      <th>19</th>\n",
       "      <td>34261.981770</td>\n",
       "      <td>34163.0</td>\n",
       "      <td>5591.244159</td>\n",
       "    </tr>\n",
       "    <tr>\n",
       "      <th>20</th>\n",
       "      <td>95150.640270</td>\n",
       "      <td>170696.0</td>\n",
       "      <td>21731.170720</td>\n",
       "    </tr>\n",
       "    <tr>\n",
       "      <th>21</th>\n",
       "      <td>22563.771080</td>\n",
       "      <td>4576.0</td>\n",
       "      <td>1025.616827</td>\n",
       "    </tr>\n",
       "    <tr>\n",
       "      <th>22</th>\n",
       "      <td>23446.847900</td>\n",
       "      <td>49869.5</td>\n",
       "      <td>8404.154608</td>\n",
       "    </tr>\n",
       "    <tr>\n",
       "      <th>23</th>\n",
       "      <td>2371.831678</td>\n",
       "      <td>1382.0</td>\n",
       "      <td>249.381182</td>\n",
       "    </tr>\n",
       "    <tr>\n",
       "      <th>24</th>\n",
       "      <td>6221.617910</td>\n",
       "      <td>2634.0</td>\n",
       "      <td>710.101614</td>\n",
       "    </tr>\n",
       "    <tr>\n",
       "      <th>25</th>\n",
       "      <td>1253.317144</td>\n",
       "      <td>961.0</td>\n",
       "      <td>368.617469</td>\n",
       "    </tr>\n",
       "    <tr>\n",
       "      <th>26</th>\n",
       "      <td>38936.400170</td>\n",
       "      <td>48210.0</td>\n",
       "      <td>10997.550400</td>\n",
       "    </tr>\n",
       "    <tr>\n",
       "      <th>27</th>\n",
       "      <td>23446.847900</td>\n",
       "      <td>49869.5</td>\n",
       "      <td>8404.154608</td>\n",
       "    </tr>\n",
       "  </tbody>\n",
       "</table>\n",
       "</div>"
      ],
      "text/plain": [
       "    LivestockCensus_2012_Cattle  AreaUnderCereals_Maize      TotalNPK\n",
       "0                   2567.461578                  1129.0    438.180210\n",
       "1                  25037.139270                 14867.0   3036.080250\n",
       "2                   7729.614277                  1987.0    222.225258\n",
       "3                  83821.593090                 92194.0  10902.406570\n",
       "4                  85657.632090                173400.0  25702.835480\n",
       "5                   2278.829821                   640.0    220.782906\n",
       "6                  71206.945310                 59377.0   8196.896749\n",
       "7                 104722.000400                 43827.0  10428.246260\n",
       "8                  37944.093760                 24207.0   2746.313635\n",
       "9                  40572.445630                 25831.0   8156.290370\n",
       "10                151008.140300                 79058.0  17039.273890\n",
       "11                  7599.582730                  3448.0   3519.022414\n",
       "12                  8774.134623                  4892.0   1448.830355\n",
       "13                 61547.727440                 37283.0   6945.331415\n",
       "14                 80396.926680                 38569.0   7289.684770\n",
       "15                159047.086200                131163.0  48288.815130\n",
       "16                 48619.507080                 40207.0  10420.071650\n",
       "17                 75578.052000                 44300.0  22940.521250\n",
       "18                 33424.645600                 30900.0   6447.725408\n",
       "19                 34261.981770                 34163.0   5591.244159\n",
       "20                 95150.640270                170696.0  21731.170720\n",
       "21                 22563.771080                  4576.0   1025.616827\n",
       "22                 23446.847900                 49869.5   8404.154608\n",
       "23                  2371.831678                  1382.0    249.381182\n",
       "24                  6221.617910                  2634.0    710.101614\n",
       "25                  1253.317144                   961.0    368.617469\n",
       "26                 38936.400170                 48210.0  10997.550400\n",
       "27                 23446.847900                 49869.5   8404.154608"
      ]
     },
     "execution_count": 16,
     "metadata": {},
     "output_type": "execute_result"
    }
   ],
   "source": [
    "Case_file"
   ]
  },
  {
   "cell_type": "code",
   "execution_count": 17,
   "metadata": {},
   "outputs": [
    {
     "data": {
      "text/html": [
       "<div>\n",
       "<style scoped>\n",
       "    .dataframe tbody tr th:only-of-type {\n",
       "        vertical-align: middle;\n",
       "    }\n",
       "\n",
       "    .dataframe tbody tr th {\n",
       "        vertical-align: top;\n",
       "    }\n",
       "\n",
       "    .dataframe thead th {\n",
       "        text-align: right;\n",
       "    }\n",
       "</style>\n",
       "<table border=\"1\" class=\"dataframe\">\n",
       "  <thead>\n",
       "    <tr style=\"text-align: right;\">\n",
       "      <th></th>\n",
       "      <th>const</th>\n",
       "      <th>LivestockCensus_2012_Cattle</th>\n",
       "      <th>AreaUnderCereals_Maize</th>\n",
       "      <th>TotalNPK</th>\n",
       "    </tr>\n",
       "  </thead>\n",
       "  <tbody>\n",
       "    <tr>\n",
       "      <th>0</th>\n",
       "      <td>1.0</td>\n",
       "      <td>2567.461578</td>\n",
       "      <td>1129.0</td>\n",
       "      <td>438.180210</td>\n",
       "    </tr>\n",
       "    <tr>\n",
       "      <th>1</th>\n",
       "      <td>1.0</td>\n",
       "      <td>25037.139270</td>\n",
       "      <td>14867.0</td>\n",
       "      <td>3036.080250</td>\n",
       "    </tr>\n",
       "    <tr>\n",
       "      <th>2</th>\n",
       "      <td>1.0</td>\n",
       "      <td>7729.614277</td>\n",
       "      <td>1987.0</td>\n",
       "      <td>222.225258</td>\n",
       "    </tr>\n",
       "    <tr>\n",
       "      <th>3</th>\n",
       "      <td>1.0</td>\n",
       "      <td>83821.593090</td>\n",
       "      <td>92194.0</td>\n",
       "      <td>10902.406570</td>\n",
       "    </tr>\n",
       "    <tr>\n",
       "      <th>4</th>\n",
       "      <td>1.0</td>\n",
       "      <td>85657.632090</td>\n",
       "      <td>173400.0</td>\n",
       "      <td>25702.835480</td>\n",
       "    </tr>\n",
       "  </tbody>\n",
       "</table>\n",
       "</div>"
      ],
      "text/plain": [
       "   const  LivestockCensus_2012_Cattle  AreaUnderCereals_Maize      TotalNPK\n",
       "0    1.0                  2567.461578                  1129.0    438.180210\n",
       "1    1.0                 25037.139270                 14867.0   3036.080250\n",
       "2    1.0                  7729.614277                  1987.0    222.225258\n",
       "3    1.0                 83821.593090                 92194.0  10902.406570\n",
       "4    1.0                 85657.632090                173400.0  25702.835480"
      ]
     },
     "execution_count": 17,
     "metadata": {},
     "output_type": "execute_result"
    }
   ],
   "source": [
    "Case_file =sm.add_constant(Case_file)\n",
    "Case_file.head()"
   ]
  },
  {
   "cell_type": "code",
   "execution_count": 18,
   "metadata": {},
   "outputs": [],
   "source": [
    "# Case_file_1 = Case_file[['const','NetAreaIrrigatedUnderDifferentSources_TubeWells_NetIrrigatedArea','AreaUnderCereals_Maize','TotalNPK']].copy()"
   ]
  },
  {
   "cell_type": "code",
   "execution_count": 19,
   "metadata": {},
   "outputs": [
    {
     "data": {
      "text/html": [
       "<div>\n",
       "<style scoped>\n",
       "    .dataframe tbody tr th:only-of-type {\n",
       "        vertical-align: middle;\n",
       "    }\n",
       "\n",
       "    .dataframe tbody tr th {\n",
       "        vertical-align: top;\n",
       "    }\n",
       "\n",
       "    .dataframe thead th {\n",
       "        text-align: right;\n",
       "    }\n",
       "</style>\n",
       "<table border=\"1\" class=\"dataframe\">\n",
       "  <thead>\n",
       "    <tr style=\"text-align: right;\">\n",
       "      <th></th>\n",
       "      <th>District</th>\n",
       "      <th>Maize_Production</th>\n",
       "      <th>TotalNPK</th>\n",
       "      <th>SowingSeedsDistributed_Maize</th>\n",
       "      <th>LivestockCensus_2012_Cattle</th>\n",
       "      <th>AreaUnderCereals_Maize</th>\n",
       "      <th>NetAreaIrrigatedUnderDifferentSources_TubeWells_NetIrrigatedArea</th>\n",
       "      <th>Maize_Ratio</th>\n",
       "    </tr>\n",
       "  </thead>\n",
       "  <tbody>\n",
       "    <tr>\n",
       "      <th>0</th>\n",
       "      <td>BENGALURU</td>\n",
       "      <td>2879</td>\n",
       "      <td>438.180210</td>\n",
       "      <td>4.450</td>\n",
       "      <td>2567.461578</td>\n",
       "      <td>1129.0</td>\n",
       "      <td>9348</td>\n",
       "      <td>0.018798</td>\n",
       "    </tr>\n",
       "    <tr>\n",
       "      <th>1</th>\n",
       "      <td>BENGALURU(R)</td>\n",
       "      <td>42583</td>\n",
       "      <td>3036.080250</td>\n",
       "      <td>134.730</td>\n",
       "      <td>25037.139270</td>\n",
       "      <td>14867.0</td>\n",
       "      <td>20281</td>\n",
       "      <td>0.157645</td>\n",
       "    </tr>\n",
       "    <tr>\n",
       "      <th>2</th>\n",
       "      <td>RAMANAGARA</td>\n",
       "      <td>10450</td>\n",
       "      <td>222.225258</td>\n",
       "      <td>260.150</td>\n",
       "      <td>7729.614277</td>\n",
       "      <td>1987.0</td>\n",
       "      <td>23868</td>\n",
       "      <td>0.029741</td>\n",
       "    </tr>\n",
       "    <tr>\n",
       "      <th>3</th>\n",
       "      <td>CHITRADURGA</td>\n",
       "      <td>271975</td>\n",
       "      <td>10902.406570</td>\n",
       "      <td>5004.000</td>\n",
       "      <td>83821.593090</td>\n",
       "      <td>92194.0</td>\n",
       "      <td>92506</td>\n",
       "      <td>0.303824</td>\n",
       "    </tr>\n",
       "    <tr>\n",
       "      <th>4</th>\n",
       "      <td>DAVANAGERE</td>\n",
       "      <td>593544</td>\n",
       "      <td>25702.835480</td>\n",
       "      <td>6124.600</td>\n",
       "      <td>85657.632090</td>\n",
       "      <td>173400.0</td>\n",
       "      <td>78364</td>\n",
       "      <td>0.257947</td>\n",
       "    </tr>\n",
       "    <tr>\n",
       "      <th>5</th>\n",
       "      <td>KOLAR</td>\n",
       "      <td>1759</td>\n",
       "      <td>220.782906</td>\n",
       "      <td>51.500</td>\n",
       "      <td>2278.829821</td>\n",
       "      <td>640.0</td>\n",
       "      <td>20140</td>\n",
       "      <td>0.009950</td>\n",
       "    </tr>\n",
       "    <tr>\n",
       "      <th>6</th>\n",
       "      <td>CHIKKABALLAPURA</td>\n",
       "      <td>105491</td>\n",
       "      <td>8196.896749</td>\n",
       "      <td>3538.150</td>\n",
       "      <td>71206.945310</td>\n",
       "      <td>59377.0</td>\n",
       "      <td>50370</td>\n",
       "      <td>0.289061</td>\n",
       "    </tr>\n",
       "    <tr>\n",
       "      <th>7</th>\n",
       "      <td>SHIVAMOGGA</td>\n",
       "      <td>226532</td>\n",
       "      <td>10428.246260</td>\n",
       "      <td>3814.020</td>\n",
       "      <td>104722.000400</td>\n",
       "      <td>43827.0</td>\n",
       "      <td>32347</td>\n",
       "      <td>0.184215</td>\n",
       "    </tr>\n",
       "    <tr>\n",
       "      <th>8</th>\n",
       "      <td>TUMAKURU</td>\n",
       "      <td>66868</td>\n",
       "      <td>2746.313635</td>\n",
       "      <td>1639.850</td>\n",
       "      <td>37944.093760</td>\n",
       "      <td>24207.0</td>\n",
       "      <td>144708</td>\n",
       "      <td>0.071991</td>\n",
       "    </tr>\n",
       "    <tr>\n",
       "      <th>9</th>\n",
       "      <td>CHIKKAMAGALURU</td>\n",
       "      <td>61353</td>\n",
       "      <td>8156.290370</td>\n",
       "      <td>2923.790</td>\n",
       "      <td>40572.445630</td>\n",
       "      <td>25831.0</td>\n",
       "      <td>26174</td>\n",
       "      <td>0.120188</td>\n",
       "    </tr>\n",
       "    <tr>\n",
       "      <th>10</th>\n",
       "      <td>DAKSHINA KANNADA</td>\n",
       "      <td>0</td>\n",
       "      <td>0.000000</td>\n",
       "      <td>0.000</td>\n",
       "      <td>0.000000</td>\n",
       "      <td>0.0</td>\n",
       "      <td>16589</td>\n",
       "      <td>0.000000</td>\n",
       "    </tr>\n",
       "    <tr>\n",
       "      <th>11</th>\n",
       "      <td>UDUPI</td>\n",
       "      <td>109</td>\n",
       "      <td>2.304863</td>\n",
       "      <td>0.000</td>\n",
       "      <td>94.499008</td>\n",
       "      <td>8.0</td>\n",
       "      <td>699</td>\n",
       "      <td>0.000375</td>\n",
       "    </tr>\n",
       "    <tr>\n",
       "      <th>12</th>\n",
       "      <td>HASSAN</td>\n",
       "      <td>333937</td>\n",
       "      <td>17039.273890</td>\n",
       "      <td>8925.330</td>\n",
       "      <td>151008.140300</td>\n",
       "      <td>79058.0</td>\n",
       "      <td>23393</td>\n",
       "      <td>0.248999</td>\n",
       "    </tr>\n",
       "    <tr>\n",
       "      <th>13</th>\n",
       "      <td>KODAGU</td>\n",
       "      <td>17921</td>\n",
       "      <td>3519.022414</td>\n",
       "      <td>246.410</td>\n",
       "      <td>7599.582730</td>\n",
       "      <td>3448.0</td>\n",
       "      <td>106</td>\n",
       "      <td>0.085941</td>\n",
       "    </tr>\n",
       "    <tr>\n",
       "      <th>14</th>\n",
       "      <td>MANDYA</td>\n",
       "      <td>19387</td>\n",
       "      <td>1448.830355</td>\n",
       "      <td>794.030</td>\n",
       "      <td>8774.134623</td>\n",
       "      <td>4892.0</td>\n",
       "      <td>16025</td>\n",
       "      <td>0.023925</td>\n",
       "    </tr>\n",
       "    <tr>\n",
       "      <th>15</th>\n",
       "      <td>MYSURU</td>\n",
       "      <td>137154</td>\n",
       "      <td>6945.331415</td>\n",
       "      <td>1573.430</td>\n",
       "      <td>61547.727440</td>\n",
       "      <td>37283.0</td>\n",
       "      <td>19842</td>\n",
       "      <td>0.111996</td>\n",
       "    </tr>\n",
       "    <tr>\n",
       "      <th>16</th>\n",
       "      <td>CHAMARAJANAGAR</td>\n",
       "      <td>147886</td>\n",
       "      <td>7289.684770</td>\n",
       "      <td>2054.600</td>\n",
       "      <td>80396.926680</td>\n",
       "      <td>38569.0</td>\n",
       "      <td>44070</td>\n",
       "      <td>0.306251</td>\n",
       "    </tr>\n",
       "    <tr>\n",
       "      <th>17</th>\n",
       "      <td>BELAGAVI</td>\n",
       "      <td>576758</td>\n",
       "      <td>48288.815130</td>\n",
       "      <td>11883.580</td>\n",
       "      <td>159047.086200</td>\n",
       "      <td>131163.0</td>\n",
       "      <td>139708</td>\n",
       "      <td>0.268283</td>\n",
       "    </tr>\n",
       "    <tr>\n",
       "      <th>18</th>\n",
       "      <td>VIJAYAPURA</td>\n",
       "      <td>226327</td>\n",
       "      <td>10420.071650</td>\n",
       "      <td>2682.760</td>\n",
       "      <td>48619.507080</td>\n",
       "      <td>40207.0</td>\n",
       "      <td>113515</td>\n",
       "      <td>0.192153</td>\n",
       "    </tr>\n",
       "    <tr>\n",
       "      <th>19</th>\n",
       "      <td>BAGALKOT</td>\n",
       "      <td>251699</td>\n",
       "      <td>22940.521250</td>\n",
       "      <td>5678.150</td>\n",
       "      <td>75578.052000</td>\n",
       "      <td>44300.0</td>\n",
       "      <td>117497</td>\n",
       "      <td>0.270487</td>\n",
       "    </tr>\n",
       "    <tr>\n",
       "      <th>20</th>\n",
       "      <td>DHARAWAD</td>\n",
       "      <td>90634</td>\n",
       "      <td>6447.725408</td>\n",
       "      <td>2471.350</td>\n",
       "      <td>33424.645600</td>\n",
       "      <td>30900.0</td>\n",
       "      <td>20816</td>\n",
       "      <td>0.172487</td>\n",
       "    </tr>\n",
       "    <tr>\n",
       "      <th>21</th>\n",
       "      <td>GADAG</td>\n",
       "      <td>138476</td>\n",
       "      <td>5591.244159</td>\n",
       "      <td>4111.000</td>\n",
       "      <td>34261.981770</td>\n",
       "      <td>34163.0</td>\n",
       "      <td>41664</td>\n",
       "      <td>0.240174</td>\n",
       "    </tr>\n",
       "    <tr>\n",
       "      <th>22</th>\n",
       "      <td>HAVERI</td>\n",
       "      <td>413487</td>\n",
       "      <td>21731.170720</td>\n",
       "      <td>11325.600</td>\n",
       "      <td>95150.640270</td>\n",
       "      <td>170696.0</td>\n",
       "      <td>63016</td>\n",
       "      <td>0.334321</td>\n",
       "    </tr>\n",
       "    <tr>\n",
       "      <th>23</th>\n",
       "      <td>UTTARA KANNADA</td>\n",
       "      <td>24088</td>\n",
       "      <td>1025.616827</td>\n",
       "      <td>1469.200</td>\n",
       "      <td>22563.771080</td>\n",
       "      <td>4576.0</td>\n",
       "      <td>8460</td>\n",
       "      <td>0.066964</td>\n",
       "    </tr>\n",
       "    <tr>\n",
       "      <th>24</th>\n",
       "      <td>BALLARI</td>\n",
       "      <td>104045</td>\n",
       "      <td>8404.154608</td>\n",
       "      <td>2859.005</td>\n",
       "      <td>23446.847900</td>\n",
       "      <td>49869.5</td>\n",
       "      <td>75198</td>\n",
       "      <td>0.136288</td>\n",
       "    </tr>\n",
       "    <tr>\n",
       "      <th>25</th>\n",
       "      <td>BIDAR</td>\n",
       "      <td>2791</td>\n",
       "      <td>249.381182</td>\n",
       "      <td>24.550</td>\n",
       "      <td>2371.831678</td>\n",
       "      <td>1382.0</td>\n",
       "      <td>19908</td>\n",
       "      <td>0.010114</td>\n",
       "    </tr>\n",
       "    <tr>\n",
       "      <th>26</th>\n",
       "      <td>KALABURAGI</td>\n",
       "      <td>14621</td>\n",
       "      <td>710.101614</td>\n",
       "      <td>165.000</td>\n",
       "      <td>6221.617910</td>\n",
       "      <td>2634.0</td>\n",
       "      <td>48802</td>\n",
       "      <td>0.013150</td>\n",
       "    </tr>\n",
       "    <tr>\n",
       "      <th>27</th>\n",
       "      <td>YADGIRI</td>\n",
       "      <td>2673</td>\n",
       "      <td>368.617469</td>\n",
       "      <td>0.000</td>\n",
       "      <td>1253.317144</td>\n",
       "      <td>961.0</td>\n",
       "      <td>22035</td>\n",
       "      <td>0.004033</td>\n",
       "    </tr>\n",
       "    <tr>\n",
       "      <th>28</th>\n",
       "      <td>RAICHUR</td>\n",
       "      <td>723</td>\n",
       "      <td>61.547519</td>\n",
       "      <td>14.350</td>\n",
       "      <td>188.537479</td>\n",
       "      <td>2600.0</td>\n",
       "      <td>26571</td>\n",
       "      <td>0.000525</td>\n",
       "    </tr>\n",
       "    <tr>\n",
       "      <th>29</th>\n",
       "      <td>KOPPAL</td>\n",
       "      <td>190252</td>\n",
       "      <td>10997.550400</td>\n",
       "      <td>5292.000</td>\n",
       "      <td>38936.400170</td>\n",
       "      <td>48210.0</td>\n",
       "      <td>82552</td>\n",
       "      <td>0.149521</td>\n",
       "    </tr>\n",
       "    <tr>\n",
       "      <th>30</th>\n",
       "      <td>VIJAYANAGARA</td>\n",
       "      <td>104045</td>\n",
       "      <td>8404.154608</td>\n",
       "      <td>2859.005</td>\n",
       "      <td>23446.847900</td>\n",
       "      <td>49869.5</td>\n",
       "      <td>75198</td>\n",
       "      <td>0.136288</td>\n",
       "    </tr>\n",
       "  </tbody>\n",
       "</table>\n",
       "</div>"
      ],
      "text/plain": [
       "            District  Maize_Production      TotalNPK  \\\n",
       "0          BENGALURU              2879    438.180210   \n",
       "1       BENGALURU(R)             42583   3036.080250   \n",
       "2         RAMANAGARA             10450    222.225258   \n",
       "3        CHITRADURGA            271975  10902.406570   \n",
       "4         DAVANAGERE            593544  25702.835480   \n",
       "5              KOLAR              1759    220.782906   \n",
       "6    CHIKKABALLAPURA            105491   8196.896749   \n",
       "7         SHIVAMOGGA            226532  10428.246260   \n",
       "8           TUMAKURU             66868   2746.313635   \n",
       "9     CHIKKAMAGALURU             61353   8156.290370   \n",
       "10  DAKSHINA KANNADA                 0      0.000000   \n",
       "11             UDUPI               109      2.304863   \n",
       "12            HASSAN            333937  17039.273890   \n",
       "13            KODAGU             17921   3519.022414   \n",
       "14            MANDYA             19387   1448.830355   \n",
       "15            MYSURU            137154   6945.331415   \n",
       "16    CHAMARAJANAGAR            147886   7289.684770   \n",
       "17          BELAGAVI            576758  48288.815130   \n",
       "18        VIJAYAPURA            226327  10420.071650   \n",
       "19          BAGALKOT            251699  22940.521250   \n",
       "20          DHARAWAD             90634   6447.725408   \n",
       "21             GADAG            138476   5591.244159   \n",
       "22            HAVERI            413487  21731.170720   \n",
       "23    UTTARA KANNADA             24088   1025.616827   \n",
       "24           BALLARI            104045   8404.154608   \n",
       "25             BIDAR              2791    249.381182   \n",
       "26        KALABURAGI             14621    710.101614   \n",
       "27           YADGIRI              2673    368.617469   \n",
       "28           RAICHUR               723     61.547519   \n",
       "29            KOPPAL            190252  10997.550400   \n",
       "30      VIJAYANAGARA            104045   8404.154608   \n",
       "\n",
       "    SowingSeedsDistributed_Maize  LivestockCensus_2012_Cattle  \\\n",
       "0                          4.450                  2567.461578   \n",
       "1                        134.730                 25037.139270   \n",
       "2                        260.150                  7729.614277   \n",
       "3                       5004.000                 83821.593090   \n",
       "4                       6124.600                 85657.632090   \n",
       "5                         51.500                  2278.829821   \n",
       "6                       3538.150                 71206.945310   \n",
       "7                       3814.020                104722.000400   \n",
       "8                       1639.850                 37944.093760   \n",
       "9                       2923.790                 40572.445630   \n",
       "10                         0.000                     0.000000   \n",
       "11                         0.000                    94.499008   \n",
       "12                      8925.330                151008.140300   \n",
       "13                       246.410                  7599.582730   \n",
       "14                       794.030                  8774.134623   \n",
       "15                      1573.430                 61547.727440   \n",
       "16                      2054.600                 80396.926680   \n",
       "17                     11883.580                159047.086200   \n",
       "18                      2682.760                 48619.507080   \n",
       "19                      5678.150                 75578.052000   \n",
       "20                      2471.350                 33424.645600   \n",
       "21                      4111.000                 34261.981770   \n",
       "22                     11325.600                 95150.640270   \n",
       "23                      1469.200                 22563.771080   \n",
       "24                      2859.005                 23446.847900   \n",
       "25                        24.550                  2371.831678   \n",
       "26                       165.000                  6221.617910   \n",
       "27                         0.000                  1253.317144   \n",
       "28                        14.350                   188.537479   \n",
       "29                      5292.000                 38936.400170   \n",
       "30                      2859.005                 23446.847900   \n",
       "\n",
       "    AreaUnderCereals_Maize  \\\n",
       "0                   1129.0   \n",
       "1                  14867.0   \n",
       "2                   1987.0   \n",
       "3                  92194.0   \n",
       "4                 173400.0   \n",
       "5                    640.0   \n",
       "6                  59377.0   \n",
       "7                  43827.0   \n",
       "8                  24207.0   \n",
       "9                  25831.0   \n",
       "10                     0.0   \n",
       "11                     8.0   \n",
       "12                 79058.0   \n",
       "13                  3448.0   \n",
       "14                  4892.0   \n",
       "15                 37283.0   \n",
       "16                 38569.0   \n",
       "17                131163.0   \n",
       "18                 40207.0   \n",
       "19                 44300.0   \n",
       "20                 30900.0   \n",
       "21                 34163.0   \n",
       "22                170696.0   \n",
       "23                  4576.0   \n",
       "24                 49869.5   \n",
       "25                  1382.0   \n",
       "26                  2634.0   \n",
       "27                   961.0   \n",
       "28                  2600.0   \n",
       "29                 48210.0   \n",
       "30                 49869.5   \n",
       "\n",
       "    NetAreaIrrigatedUnderDifferentSources_TubeWells_NetIrrigatedArea  \\\n",
       "0                                                9348                  \n",
       "1                                               20281                  \n",
       "2                                               23868                  \n",
       "3                                               92506                  \n",
       "4                                               78364                  \n",
       "5                                               20140                  \n",
       "6                                               50370                  \n",
       "7                                               32347                  \n",
       "8                                              144708                  \n",
       "9                                               26174                  \n",
       "10                                              16589                  \n",
       "11                                                699                  \n",
       "12                                              23393                  \n",
       "13                                                106                  \n",
       "14                                              16025                  \n",
       "15                                              19842                  \n",
       "16                                              44070                  \n",
       "17                                             139708                  \n",
       "18                                             113515                  \n",
       "19                                             117497                  \n",
       "20                                              20816                  \n",
       "21                                              41664                  \n",
       "22                                              63016                  \n",
       "23                                               8460                  \n",
       "24                                              75198                  \n",
       "25                                              19908                  \n",
       "26                                              48802                  \n",
       "27                                              22035                  \n",
       "28                                              26571                  \n",
       "29                                              82552                  \n",
       "30                                              75198                  \n",
       "\n",
       "    Maize_Ratio  \n",
       "0      0.018798  \n",
       "1      0.157645  \n",
       "2      0.029741  \n",
       "3      0.303824  \n",
       "4      0.257947  \n",
       "5      0.009950  \n",
       "6      0.289061  \n",
       "7      0.184215  \n",
       "8      0.071991  \n",
       "9      0.120188  \n",
       "10     0.000000  \n",
       "11     0.000375  \n",
       "12     0.248999  \n",
       "13     0.085941  \n",
       "14     0.023925  \n",
       "15     0.111996  \n",
       "16     0.306251  \n",
       "17     0.268283  \n",
       "18     0.192153  \n",
       "19     0.270487  \n",
       "20     0.172487  \n",
       "21     0.240174  \n",
       "22     0.334321  \n",
       "23     0.066964  \n",
       "24     0.136288  \n",
       "25     0.010114  \n",
       "26     0.013150  \n",
       "27     0.004033  \n",
       "28     0.000525  \n",
       "29     0.149521  \n",
       "30     0.136288  "
      ]
     },
     "execution_count": 19,
     "metadata": {},
     "output_type": "execute_result"
    }
   ],
   "source": [
    "Working_Directory"
   ]
  },
  {
   "cell_type": "code",
   "execution_count": 20,
   "metadata": {},
   "outputs": [
    {
     "data": {
      "text/html": [
       "<div>\n",
       "<style scoped>\n",
       "    .dataframe tbody tr th:only-of-type {\n",
       "        vertical-align: middle;\n",
       "    }\n",
       "\n",
       "    .dataframe tbody tr th {\n",
       "        vertical-align: top;\n",
       "    }\n",
       "\n",
       "    .dataframe thead th {\n",
       "        text-align: right;\n",
       "    }\n",
       "</style>\n",
       "<table border=\"1\" class=\"dataframe\">\n",
       "  <thead>\n",
       "    <tr style=\"text-align: right;\">\n",
       "      <th></th>\n",
       "      <th>Maize_Production</th>\n",
       "    </tr>\n",
       "  </thead>\n",
       "  <tbody>\n",
       "    <tr>\n",
       "      <th>0</th>\n",
       "      <td>2879</td>\n",
       "    </tr>\n",
       "    <tr>\n",
       "      <th>1</th>\n",
       "      <td>42583</td>\n",
       "    </tr>\n",
       "    <tr>\n",
       "      <th>2</th>\n",
       "      <td>10450</td>\n",
       "    </tr>\n",
       "    <tr>\n",
       "      <th>3</th>\n",
       "      <td>271975</td>\n",
       "    </tr>\n",
       "    <tr>\n",
       "      <th>4</th>\n",
       "      <td>593544</td>\n",
       "    </tr>\n",
       "  </tbody>\n",
       "</table>\n",
       "</div>"
      ],
      "text/plain": [
       "   Maize_Production\n",
       "0              2879\n",
       "1             42583\n",
       "2             10450\n",
       "3            271975\n",
       "4            593544"
      ]
     },
     "execution_count": 20,
     "metadata": {},
     "output_type": "execute_result"
    }
   ],
   "source": [
    "from sklearn.preprocessing import MinMaxScaler\n",
    "from sklearn.preprocessing import StandardScaler\n",
    "\n",
    "columns_to_standardize = ['LivestockCensus_2012_Cattle','AreaUnderCereals_Maize','TotalNPK']\n",
    "\n",
    "Case_file_1 = Case_file[['const'] + columns_to_standardize].copy()\n",
    "scaler = StandardScaler()\n",
    "\n",
    "X_st = pd.DataFrame()\n",
    "X_st['const'] = Case_file['const']\n",
    "# X_st[columns_to_standardize] = scaler.fit_transform(Case_file_1[columns_to_standardize])\n",
    "X_st[columns_to_standardize] = Case_file_1[columns_to_standardize]\n",
    "\n",
    "Target = 0.05\n",
    "y_st = pd.DataFrame()\n",
    "y_st['Maize_Production'] = Working_Directory[~rows_to_remove]['Maize_Production'].reset_index(drop=True)\n",
    "# y_st['Target_Production'] = (1+Target)*y_st['Maize_Production']\n",
    "# columns_to_standardize = ['Maize_Production','Target_Production']\n",
    "\n",
    "columns_to_standardize = ['Maize_Production']\n",
    "# y_st[columns_to_standardize] = scaler.fit_transform(y_st[columns_to_standardize])\n",
    "# columns_to_standardize = ['GroundNut Production','Target Production']\n",
    "y_st.head()"
   ]
  },
  {
   "cell_type": "code",
   "execution_count": 21,
   "metadata": {},
   "outputs": [
    {
     "data": {
      "text/html": [
       "<div>\n",
       "<style scoped>\n",
       "    .dataframe tbody tr th:only-of-type {\n",
       "        vertical-align: middle;\n",
       "    }\n",
       "\n",
       "    .dataframe tbody tr th {\n",
       "        vertical-align: top;\n",
       "    }\n",
       "\n",
       "    .dataframe thead th {\n",
       "        text-align: right;\n",
       "    }\n",
       "</style>\n",
       "<table border=\"1\" class=\"dataframe\">\n",
       "  <thead>\n",
       "    <tr style=\"text-align: right;\">\n",
       "      <th></th>\n",
       "      <th>Maize_Production</th>\n",
       "    </tr>\n",
       "  </thead>\n",
       "  <tbody>\n",
       "    <tr>\n",
       "      <th>0</th>\n",
       "      <td>2879</td>\n",
       "    </tr>\n",
       "    <tr>\n",
       "      <th>1</th>\n",
       "      <td>42583</td>\n",
       "    </tr>\n",
       "    <tr>\n",
       "      <th>2</th>\n",
       "      <td>10450</td>\n",
       "    </tr>\n",
       "    <tr>\n",
       "      <th>3</th>\n",
       "      <td>271975</td>\n",
       "    </tr>\n",
       "    <tr>\n",
       "      <th>4</th>\n",
       "      <td>593544</td>\n",
       "    </tr>\n",
       "    <tr>\n",
       "      <th>5</th>\n",
       "      <td>1759</td>\n",
       "    </tr>\n",
       "    <tr>\n",
       "      <th>6</th>\n",
       "      <td>105491</td>\n",
       "    </tr>\n",
       "    <tr>\n",
       "      <th>7</th>\n",
       "      <td>226532</td>\n",
       "    </tr>\n",
       "    <tr>\n",
       "      <th>8</th>\n",
       "      <td>66868</td>\n",
       "    </tr>\n",
       "    <tr>\n",
       "      <th>9</th>\n",
       "      <td>61353</td>\n",
       "    </tr>\n",
       "    <tr>\n",
       "      <th>10</th>\n",
       "      <td>333937</td>\n",
       "    </tr>\n",
       "    <tr>\n",
       "      <th>11</th>\n",
       "      <td>17921</td>\n",
       "    </tr>\n",
       "    <tr>\n",
       "      <th>12</th>\n",
       "      <td>19387</td>\n",
       "    </tr>\n",
       "    <tr>\n",
       "      <th>13</th>\n",
       "      <td>137154</td>\n",
       "    </tr>\n",
       "    <tr>\n",
       "      <th>14</th>\n",
       "      <td>147886</td>\n",
       "    </tr>\n",
       "    <tr>\n",
       "      <th>15</th>\n",
       "      <td>576758</td>\n",
       "    </tr>\n",
       "    <tr>\n",
       "      <th>16</th>\n",
       "      <td>226327</td>\n",
       "    </tr>\n",
       "    <tr>\n",
       "      <th>17</th>\n",
       "      <td>251699</td>\n",
       "    </tr>\n",
       "    <tr>\n",
       "      <th>18</th>\n",
       "      <td>90634</td>\n",
       "    </tr>\n",
       "    <tr>\n",
       "      <th>19</th>\n",
       "      <td>138476</td>\n",
       "    </tr>\n",
       "    <tr>\n",
       "      <th>20</th>\n",
       "      <td>413487</td>\n",
       "    </tr>\n",
       "    <tr>\n",
       "      <th>21</th>\n",
       "      <td>24088</td>\n",
       "    </tr>\n",
       "    <tr>\n",
       "      <th>22</th>\n",
       "      <td>104045</td>\n",
       "    </tr>\n",
       "    <tr>\n",
       "      <th>23</th>\n",
       "      <td>2791</td>\n",
       "    </tr>\n",
       "    <tr>\n",
       "      <th>24</th>\n",
       "      <td>14621</td>\n",
       "    </tr>\n",
       "    <tr>\n",
       "      <th>25</th>\n",
       "      <td>2673</td>\n",
       "    </tr>\n",
       "    <tr>\n",
       "      <th>26</th>\n",
       "      <td>190252</td>\n",
       "    </tr>\n",
       "    <tr>\n",
       "      <th>27</th>\n",
       "      <td>104045</td>\n",
       "    </tr>\n",
       "  </tbody>\n",
       "</table>\n",
       "</div>"
      ],
      "text/plain": [
       "    Maize_Production\n",
       "0               2879\n",
       "1              42583\n",
       "2              10450\n",
       "3             271975\n",
       "4             593544\n",
       "5               1759\n",
       "6             105491\n",
       "7             226532\n",
       "8              66868\n",
       "9              61353\n",
       "10            333937\n",
       "11             17921\n",
       "12             19387\n",
       "13            137154\n",
       "14            147886\n",
       "15            576758\n",
       "16            226327\n",
       "17            251699\n",
       "18             90634\n",
       "19            138476\n",
       "20            413487\n",
       "21             24088\n",
       "22            104045\n",
       "23              2791\n",
       "24             14621\n",
       "25              2673\n",
       "26            190252\n",
       "27            104045"
      ]
     },
     "execution_count": 21,
     "metadata": {},
     "output_type": "execute_result"
    }
   ],
   "source": [
    "y_st"
   ]
  },
  {
   "cell_type": "code",
   "execution_count": 22,
   "metadata": {},
   "outputs": [
    {
     "name": "stdout",
     "output_type": "stream",
     "text": [
      "Row with maximum Maize_Production:\n",
      "      District  Maize_Production     TotalNPK  SowingSeedsDistributed_Maize  \\\n",
      "4  DAVANAGERE            593544  25702.83548                        6124.6   \n",
      "\n",
      "   LivestockCensus_2012_Cattle  AreaUnderCereals_Maize  \\\n",
      "4                  85657.63209                173400.0   \n",
      "\n",
      "   NetAreaIrrigatedUnderDifferentSources_TubeWells_NetIrrigatedArea  \\\n",
      "4                                              78364                  \n",
      "\n",
      "   Maize_Ratio  \n",
      "4     0.257947  \n",
      "\n",
      "Row with minimum Maize_Production:\n",
      "   District  Maize_Production    TotalNPK  SowingSeedsDistributed_Maize  \\\n",
      "5    KOLAR              1759  220.782906                          51.5   \n",
      "\n",
      "   LivestockCensus_2012_Cattle  AreaUnderCereals_Maize  \\\n",
      "5                  2278.829821                   640.0   \n",
      "\n",
      "   NetAreaIrrigatedUnderDifferentSources_TubeWells_NetIrrigatedArea  \\\n",
      "5                                              20140                  \n",
      "\n",
      "   Maize_Ratio  \n",
      "5      0.00995  \n"
     ]
    }
   ],
   "source": [
    "# Get the row with the maximum value in 'Maize_Production'\n",
    "max_row = Working_Directory[~rows_to_remove][Working_Directory[~rows_to_remove]['Maize_Production'] == Working_Directory[~rows_to_remove]['Maize_Production'].max()]\n",
    "\n",
    "# Get the row with the minimum value in 'Maize_Production'\n",
    "min_row = Working_Directory[~rows_to_remove][Working_Directory[~rows_to_remove]['Maize_Production'] == Working_Directory[~rows_to_remove]['Maize_Production'].min()]\n",
    "\n",
    "# Print the rows\n",
    "print(\"Row with maximum Maize_Production:\\n\", max_row)\n",
    "print(\"\\nRow with minimum Maize_Production:\\n\", min_row)\n"
   ]
  },
  {
   "cell_type": "code",
   "execution_count": 23,
   "metadata": {},
   "outputs": [
    {
     "name": "stdout",
     "output_type": "stream",
     "text": [
      "                            OLS Regression Results                            \n",
      "==============================================================================\n",
      "Dep. Variable:       Maize_Production   R-squared:                       0.953\n",
      "Model:                            OLS   Adj. R-squared:                  0.947\n",
      "Method:                 Least Squares   F-statistic:                     160.9\n",
      "Date:                Mon, 07 Oct 2024   Prob (F-statistic):           5.01e-16\n",
      "Time:                        11:31:34   Log-Likelihood:                -332.85\n",
      "No. Observations:                  28   AIC:                             673.7\n",
      "Df Residuals:                      24   BIC:                             679.0\n",
      "Df Model:                           3                                         \n",
      "Covariance Type:            nonrobust                                         \n",
      "===============================================================================================\n",
      "                                  coef    std err          t      P>|t|      [0.025      0.975]\n",
      "-----------------------------------------------------------------------------------------------\n",
      "const                       -7629.7025   1.08e+04     -0.704      0.488      -3e+04    1.47e+04\n",
      "LivestockCensus_2012_Cattle     0.5784      0.304      1.901      0.069      -0.050       1.206\n",
      "AreaUnderCereals_Maize          1.7786      0.272      6.546      0.000       1.218       2.339\n",
      "TotalNPK                        5.8348      1.444      4.040      0.000       2.854       8.815\n",
      "==============================================================================\n",
      "Omnibus:                        3.140   Durbin-Watson:                   2.453\n",
      "Prob(Omnibus):                  0.208   Jarque-Bera (JB):                1.842\n",
      "Skew:                           0.206   Prob(JB):                        0.398\n",
      "Kurtosis:                       4.187   Cond. No.                     1.34e+05\n",
      "==============================================================================\n",
      "\n",
      "Notes:\n",
      "[1] Standard Errors assume that the covariance matrix of the errors is correctly specified.\n",
      "[2] The condition number is large, 1.34e+05. This might indicate that there are\n",
      "strong multicollinearity or other numerical problems.\n"
     ]
    },
    {
     "data": {
      "text/plain": [
       "array([0.57835467, 1.77855209, 5.83482942])"
      ]
     },
     "execution_count": 23,
     "metadata": {},
     "output_type": "execute_result"
    }
   ],
   "source": [
    "# model=sm.OLS(y,Case_file_1).fit()\n",
    "# print(model.summary())\n",
    "# model.params.values\n",
    "# coef=model.params.values[1:]\n",
    "# coef\n",
    "\n",
    "model=sm.OLS(y_st['Maize_Production'],X_st).fit()\n",
    "Case_file = X_st\n",
    "print(model.summary())\n",
    "model.params.values\n",
    "coef=model.params.values[1:]\n",
    "coef"
   ]
  },
  {
   "cell_type": "code",
   "execution_count": 24,
   "metadata": {},
   "outputs": [
    {
     "data": {
      "text/html": [
       "<div>\n",
       "<style scoped>\n",
       "    .dataframe tbody tr th:only-of-type {\n",
       "        vertical-align: middle;\n",
       "    }\n",
       "\n",
       "    .dataframe tbody tr th {\n",
       "        vertical-align: top;\n",
       "    }\n",
       "\n",
       "    .dataframe thead th {\n",
       "        text-align: right;\n",
       "    }\n",
       "</style>\n",
       "<table border=\"1\" class=\"dataframe\">\n",
       "  <thead>\n",
       "    <tr style=\"text-align: right;\">\n",
       "      <th></th>\n",
       "      <th>LivestockCensus_2012_Cattle</th>\n",
       "      <th>AreaUnderCereals_Maize</th>\n",
       "      <th>TotalNPK</th>\n",
       "    </tr>\n",
       "  </thead>\n",
       "  <tbody>\n",
       "    <tr>\n",
       "      <th>0</th>\n",
       "      <td>2567.461578</td>\n",
       "      <td>1129.0</td>\n",
       "      <td>438.180210</td>\n",
       "    </tr>\n",
       "    <tr>\n",
       "      <th>1</th>\n",
       "      <td>25037.139270</td>\n",
       "      <td>14867.0</td>\n",
       "      <td>3036.080250</td>\n",
       "    </tr>\n",
       "    <tr>\n",
       "      <th>2</th>\n",
       "      <td>7729.614277</td>\n",
       "      <td>1987.0</td>\n",
       "      <td>222.225258</td>\n",
       "    </tr>\n",
       "    <tr>\n",
       "      <th>3</th>\n",
       "      <td>83821.593090</td>\n",
       "      <td>92194.0</td>\n",
       "      <td>10902.406570</td>\n",
       "    </tr>\n",
       "    <tr>\n",
       "      <th>4</th>\n",
       "      <td>85657.632090</td>\n",
       "      <td>173400.0</td>\n",
       "      <td>25702.835480</td>\n",
       "    </tr>\n",
       "  </tbody>\n",
       "</table>\n",
       "</div>"
      ],
      "text/plain": [
       "   LivestockCensus_2012_Cattle  AreaUnderCereals_Maize      TotalNPK\n",
       "0                  2567.461578                  1129.0    438.180210\n",
       "1                 25037.139270                 14867.0   3036.080250\n",
       "2                  7729.614277                  1987.0    222.225258\n",
       "3                 83821.593090                 92194.0  10902.406570\n",
       "4                 85657.632090                173400.0  25702.835480"
      ]
     },
     "execution_count": 24,
     "metadata": {},
     "output_type": "execute_result"
    }
   ],
   "source": [
    "Case_file.drop('const',axis=1,inplace=True)\n",
    "Case_file[:5]"
   ]
  },
  {
   "cell_type": "code",
   "execution_count": 25,
   "metadata": {},
   "outputs": [
    {
     "data": {
      "text/plain": [
       "<itertools.product at 0x2c6414e47c0>"
      ]
     },
     "execution_count": 25,
     "metadata": {},
     "output_type": "execute_result"
    }
   ],
   "source": [
    "Case_file.loc[:,'Beta_0'] = model.params.values[0]\n",
    "Case_file.loc[:,'Beta_1'] = coef[0]\n",
    "Case_file.loc[:,'Beta_2'] = coef[1]\n",
    "Case_file.loc[:,'Beta_3'] = coef[2]\n",
    "# Case_file.loc[:,'Beta_4'] = coef[3]\n",
    "# Case_file.loc[:,'Beta_5'] = coef[4]\n",
    "\n",
    "intervals = np.arange(0, 1.1, 0.1)\n",
    "# columns=['Sensitivity_SowingSeedsDistributed_Maize', 'Sensitivity_LivestockCensus_2012_Cattle' , 'Sensitivity_AreaUnderCereals_Maize', 'Sensitivity_TotalNPK','Sensitivity_NetAreaIrrigatedUnderDifferentSources_TubeWells_NetIrrigatedArea']\n",
    "\n",
    "columns=['Sensitivity_LivestockCensus_2012_Cattle' , 'Sensitivity_AreaUnderCereals_Maize', 'Sensitivity_TotalNPK']\n",
    "# Generate all possible combinations of elements in arr\n",
    "\n",
    "num = len(columns)\n",
    "combinations = product(intervals, repeat=len(columns))\n",
    "combinations"
   ]
  },
  {
   "cell_type": "code",
   "execution_count": 26,
   "metadata": {},
   "outputs": [
    {
     "data": {
      "text/html": [
       "<div>\n",
       "<style scoped>\n",
       "    .dataframe tbody tr th:only-of-type {\n",
       "        vertical-align: middle;\n",
       "    }\n",
       "\n",
       "    .dataframe tbody tr th {\n",
       "        vertical-align: top;\n",
       "    }\n",
       "\n",
       "    .dataframe thead th {\n",
       "        text-align: right;\n",
       "    }\n",
       "</style>\n",
       "<table border=\"1\" class=\"dataframe\">\n",
       "  <thead>\n",
       "    <tr style=\"text-align: right;\">\n",
       "      <th></th>\n",
       "      <th>Sensitivity_LivestockCensus_2012_Cattle</th>\n",
       "      <th>Sensitivity_AreaUnderCereals_Maize</th>\n",
       "      <th>Sensitivity_TotalNPK</th>\n",
       "    </tr>\n",
       "  </thead>\n",
       "  <tbody>\n",
       "    <tr>\n",
       "      <th>0</th>\n",
       "      <td>0.0</td>\n",
       "      <td>0.0</td>\n",
       "      <td>0.0</td>\n",
       "    </tr>\n",
       "    <tr>\n",
       "      <th>1</th>\n",
       "      <td>0.0</td>\n",
       "      <td>0.0</td>\n",
       "      <td>0.1</td>\n",
       "    </tr>\n",
       "    <tr>\n",
       "      <th>2</th>\n",
       "      <td>0.0</td>\n",
       "      <td>0.0</td>\n",
       "      <td>0.2</td>\n",
       "    </tr>\n",
       "    <tr>\n",
       "      <th>3</th>\n",
       "      <td>0.0</td>\n",
       "      <td>0.0</td>\n",
       "      <td>0.3</td>\n",
       "    </tr>\n",
       "    <tr>\n",
       "      <th>4</th>\n",
       "      <td>0.0</td>\n",
       "      <td>0.0</td>\n",
       "      <td>0.4</td>\n",
       "    </tr>\n",
       "    <tr>\n",
       "      <th>...</th>\n",
       "      <td>...</td>\n",
       "      <td>...</td>\n",
       "      <td>...</td>\n",
       "    </tr>\n",
       "    <tr>\n",
       "      <th>1326</th>\n",
       "      <td>1.0</td>\n",
       "      <td>1.0</td>\n",
       "      <td>0.6</td>\n",
       "    </tr>\n",
       "    <tr>\n",
       "      <th>1327</th>\n",
       "      <td>1.0</td>\n",
       "      <td>1.0</td>\n",
       "      <td>0.7</td>\n",
       "    </tr>\n",
       "    <tr>\n",
       "      <th>1328</th>\n",
       "      <td>1.0</td>\n",
       "      <td>1.0</td>\n",
       "      <td>0.8</td>\n",
       "    </tr>\n",
       "    <tr>\n",
       "      <th>1329</th>\n",
       "      <td>1.0</td>\n",
       "      <td>1.0</td>\n",
       "      <td>0.9</td>\n",
       "    </tr>\n",
       "    <tr>\n",
       "      <th>1330</th>\n",
       "      <td>1.0</td>\n",
       "      <td>1.0</td>\n",
       "      <td>1.0</td>\n",
       "    </tr>\n",
       "  </tbody>\n",
       "</table>\n",
       "<p>1331 rows × 3 columns</p>\n",
       "</div>"
      ],
      "text/plain": [
       "      Sensitivity_LivestockCensus_2012_Cattle  \\\n",
       "0                                         0.0   \n",
       "1                                         0.0   \n",
       "2                                         0.0   \n",
       "3                                         0.0   \n",
       "4                                         0.0   \n",
       "...                                       ...   \n",
       "1326                                      1.0   \n",
       "1327                                      1.0   \n",
       "1328                                      1.0   \n",
       "1329                                      1.0   \n",
       "1330                                      1.0   \n",
       "\n",
       "      Sensitivity_AreaUnderCereals_Maize  Sensitivity_TotalNPK  \n",
       "0                                    0.0                   0.0  \n",
       "1                                    0.0                   0.1  \n",
       "2                                    0.0                   0.2  \n",
       "3                                    0.0                   0.3  \n",
       "4                                    0.0                   0.4  \n",
       "...                                  ...                   ...  \n",
       "1326                                 1.0                   0.6  \n",
       "1327                                 1.0                   0.7  \n",
       "1328                                 1.0                   0.8  \n",
       "1329                                 1.0                   0.9  \n",
       "1330                                 1.0                   1.0  \n",
       "\n",
       "[1331 rows x 3 columns]"
      ]
     },
     "execution_count": 26,
     "metadata": {},
     "output_type": "execute_result"
    }
   ],
   "source": [
    "alpha_df = pd.DataFrame(combinations, columns=columns)\n",
    "alpha_df"
   ]
  },
  {
   "cell_type": "code",
   "execution_count": 27,
   "metadata": {},
   "outputs": [
    {
     "name": "stdout",
     "output_type": "stream",
     "text": [
      "       Sensitivity_LivestockCensus_2012_Cattle  \\\n",
      "0                                          0.0   \n",
      "1                                          0.0   \n",
      "2                                          0.0   \n",
      "3                                          0.0   \n",
      "4                                          0.0   \n",
      "...                                        ...   \n",
      "37263                                      1.0   \n",
      "37264                                      1.0   \n",
      "37265                                      1.0   \n",
      "37266                                      1.0   \n",
      "37267                                      1.0   \n",
      "\n",
      "       Sensitivity_AreaUnderCereals_Maize  Sensitivity_TotalNPK  \\\n",
      "0                                     0.0                   0.0   \n",
      "1                                     0.0                   0.0   \n",
      "2                                     0.0                   0.0   \n",
      "3                                     0.0                   0.0   \n",
      "4                                     0.0                   0.0   \n",
      "...                                   ...                   ...   \n",
      "37263                                 1.0                   1.0   \n",
      "37264                                 1.0                   1.0   \n",
      "37265                                 1.0                   1.0   \n",
      "37266                                 1.0                   1.0   \n",
      "37267                                 1.0                   1.0   \n",
      "\n",
      "       LivestockCensus_2012_Cattle  AreaUnderCereals_Maize      TotalNPK  \\\n",
      "0                      2567.461578                  1129.0    438.180210   \n",
      "1                     25037.139270                 14867.0   3036.080250   \n",
      "2                      7729.614277                  1987.0    222.225258   \n",
      "3                     83821.593090                 92194.0  10902.406570   \n",
      "4                     85657.632090                173400.0  25702.835480   \n",
      "...                            ...                     ...           ...   \n",
      "37263                  2371.831678                  1382.0    249.381182   \n",
      "37264                  6221.617910                  2634.0    710.101614   \n",
      "37265                  1253.317144                   961.0    368.617469   \n",
      "37266                 38936.400170                 48210.0  10997.550400   \n",
      "37267                 23446.847900                 49869.5   8404.154608   \n",
      "\n",
      "           Beta_0    Beta_1    Beta_2    Beta_3  \n",
      "0     -7629.70252  0.578355  1.778552  5.834829  \n",
      "1     -7629.70252  0.578355  1.778552  5.834829  \n",
      "2     -7629.70252  0.578355  1.778552  5.834829  \n",
      "3     -7629.70252  0.578355  1.778552  5.834829  \n",
      "4     -7629.70252  0.578355  1.778552  5.834829  \n",
      "...           ...       ...       ...       ...  \n",
      "37263 -7629.70252  0.578355  1.778552  5.834829  \n",
      "37264 -7629.70252  0.578355  1.778552  5.834829  \n",
      "37265 -7629.70252  0.578355  1.778552  5.834829  \n",
      "37266 -7629.70252  0.578355  1.778552  5.834829  \n",
      "37267 -7629.70252  0.578355  1.778552  5.834829  \n",
      "\n",
      "[37268 rows x 10 columns]\n"
     ]
    }
   ],
   "source": [
    "Case_file['key'] = 1\n",
    "alpha_df['key'] = 1\n",
    "\n",
    "# Performing the Cartesian product\n",
    "result_df = pd.merge( alpha_df, Case_file, on='key').drop('key', axis=1)\n",
    "\n",
    "print(result_df)"
   ]
  },
  {
   "cell_type": "code",
   "execution_count": 28,
   "metadata": {},
   "outputs": [
    {
     "data": {
      "text/html": [
       "<div>\n",
       "<style scoped>\n",
       "    .dataframe tbody tr th:only-of-type {\n",
       "        vertical-align: middle;\n",
       "    }\n",
       "\n",
       "    .dataframe tbody tr th {\n",
       "        vertical-align: top;\n",
       "    }\n",
       "\n",
       "    .dataframe thead th {\n",
       "        text-align: right;\n",
       "    }\n",
       "</style>\n",
       "<table border=\"1\" class=\"dataframe\">\n",
       "  <thead>\n",
       "    <tr style=\"text-align: right;\">\n",
       "      <th></th>\n",
       "      <th>Sensitivity_LivestockCensus_2012_Cattle</th>\n",
       "      <th>Sensitivity_AreaUnderCereals_Maize</th>\n",
       "      <th>Sensitivity_TotalNPK</th>\n",
       "      <th>LivestockCensus_2012_Cattle</th>\n",
       "      <th>AreaUnderCereals_Maize</th>\n",
       "      <th>TotalNPK</th>\n",
       "      <th>Beta_0</th>\n",
       "      <th>Beta_1</th>\n",
       "      <th>Beta_2</th>\n",
       "      <th>Beta_3</th>\n",
       "    </tr>\n",
       "  </thead>\n",
       "  <tbody>\n",
       "    <tr>\n",
       "      <th>0</th>\n",
       "      <td>0.0</td>\n",
       "      <td>0.0</td>\n",
       "      <td>0.0</td>\n",
       "      <td>2567.461578</td>\n",
       "      <td>1129.0</td>\n",
       "      <td>438.180210</td>\n",
       "      <td>-7629.70252</td>\n",
       "      <td>0.578355</td>\n",
       "      <td>1.778552</td>\n",
       "      <td>5.834829</td>\n",
       "    </tr>\n",
       "    <tr>\n",
       "      <th>1</th>\n",
       "      <td>0.0</td>\n",
       "      <td>0.0</td>\n",
       "      <td>0.0</td>\n",
       "      <td>25037.139270</td>\n",
       "      <td>14867.0</td>\n",
       "      <td>3036.080250</td>\n",
       "      <td>-7629.70252</td>\n",
       "      <td>0.578355</td>\n",
       "      <td>1.778552</td>\n",
       "      <td>5.834829</td>\n",
       "    </tr>\n",
       "    <tr>\n",
       "      <th>2</th>\n",
       "      <td>0.0</td>\n",
       "      <td>0.0</td>\n",
       "      <td>0.0</td>\n",
       "      <td>7729.614277</td>\n",
       "      <td>1987.0</td>\n",
       "      <td>222.225258</td>\n",
       "      <td>-7629.70252</td>\n",
       "      <td>0.578355</td>\n",
       "      <td>1.778552</td>\n",
       "      <td>5.834829</td>\n",
       "    </tr>\n",
       "    <tr>\n",
       "      <th>3</th>\n",
       "      <td>0.0</td>\n",
       "      <td>0.0</td>\n",
       "      <td>0.0</td>\n",
       "      <td>83821.593090</td>\n",
       "      <td>92194.0</td>\n",
       "      <td>10902.406570</td>\n",
       "      <td>-7629.70252</td>\n",
       "      <td>0.578355</td>\n",
       "      <td>1.778552</td>\n",
       "      <td>5.834829</td>\n",
       "    </tr>\n",
       "    <tr>\n",
       "      <th>4</th>\n",
       "      <td>0.0</td>\n",
       "      <td>0.0</td>\n",
       "      <td>0.0</td>\n",
       "      <td>85657.632090</td>\n",
       "      <td>173400.0</td>\n",
       "      <td>25702.835480</td>\n",
       "      <td>-7629.70252</td>\n",
       "      <td>0.578355</td>\n",
       "      <td>1.778552</td>\n",
       "      <td>5.834829</td>\n",
       "    </tr>\n",
       "  </tbody>\n",
       "</table>\n",
       "</div>"
      ],
      "text/plain": [
       "   Sensitivity_LivestockCensus_2012_Cattle  \\\n",
       "0                                      0.0   \n",
       "1                                      0.0   \n",
       "2                                      0.0   \n",
       "3                                      0.0   \n",
       "4                                      0.0   \n",
       "\n",
       "   Sensitivity_AreaUnderCereals_Maize  Sensitivity_TotalNPK  \\\n",
       "0                                 0.0                   0.0   \n",
       "1                                 0.0                   0.0   \n",
       "2                                 0.0                   0.0   \n",
       "3                                 0.0                   0.0   \n",
       "4                                 0.0                   0.0   \n",
       "\n",
       "   LivestockCensus_2012_Cattle  AreaUnderCereals_Maize      TotalNPK  \\\n",
       "0                  2567.461578                  1129.0    438.180210   \n",
       "1                 25037.139270                 14867.0   3036.080250   \n",
       "2                  7729.614277                  1987.0    222.225258   \n",
       "3                 83821.593090                 92194.0  10902.406570   \n",
       "4                 85657.632090                173400.0  25702.835480   \n",
       "\n",
       "       Beta_0    Beta_1    Beta_2    Beta_3  \n",
       "0 -7629.70252  0.578355  1.778552  5.834829  \n",
       "1 -7629.70252  0.578355  1.778552  5.834829  \n",
       "2 -7629.70252  0.578355  1.778552  5.834829  \n",
       "3 -7629.70252  0.578355  1.778552  5.834829  \n",
       "4 -7629.70252  0.578355  1.778552  5.834829  "
      ]
     },
     "execution_count": 28,
     "metadata": {},
     "output_type": "execute_result"
    }
   ],
   "source": [
    "result_df.head()"
   ]
  },
  {
   "cell_type": "code",
   "execution_count": 29,
   "metadata": {},
   "outputs": [
    {
     "data": {
      "text/plain": [
       "134853.12903225806"
      ]
     },
     "execution_count": 29,
     "metadata": {},
     "output_type": "execute_result"
    }
   ],
   "source": [
    "Working_Directory['Maize_Production'].mean()"
   ]
  },
  {
   "cell_type": "code",
   "execution_count": 30,
   "metadata": {},
   "outputs": [
    {
     "data": {
      "text/plain": [
       "Index(['District', 'Maize_Production', 'TotalNPK',\n",
       "       'SowingSeedsDistributed_Maize', 'LivestockCensus_2012_Cattle',\n",
       "       'AreaUnderCereals_Maize',\n",
       "       'NetAreaIrrigatedUnderDifferentSources_TubeWells_NetIrrigatedArea',\n",
       "       'Maize_Ratio'],\n",
       "      dtype='object')"
      ]
     },
     "execution_count": 30,
     "metadata": {},
     "output_type": "execute_result"
    }
   ],
   "source": [
    "Working_Directory.columns"
   ]
  },
  {
   "cell_type": "code",
   "execution_count": 31,
   "metadata": {},
   "outputs": [
    {
     "data": {
      "image/png": "[encoded data removed]",
      "text/plain": [
       "<Figure size 576x432 with 1 Axes>"
      ]
     },
     "metadata": {
      "needs_background": "light"
     },
     "output_type": "display_data"
    }
   ],
   "source": [
    "import matplotlib.pyplot as plt\n",
    "\n",
    "plt.figure(figsize=(8, 6))\n",
    "plt.scatter(range(len(y_st)), y_st, color='blue', label='y_st')\n",
    "\n",
    "# Adding labels and title\n",
    "plt.title('Scatter Plot of y_st')\n",
    "plt.xlabel('Index')\n",
    "plt.ylabel('Standardized Values')\n",
    "\n",
    "# Show legend and plot\n",
    "plt.legend()\n",
    "plt.show()\n"
   ]
  },
  {
   "cell_type": "code",
   "execution_count": 32,
   "metadata": {},
   "outputs": [
    {
     "data": {
      "text/html": [
       "<div>\n",
       "<style scoped>\n",
       "    .dataframe tbody tr th:only-of-type {\n",
       "        vertical-align: middle;\n",
       "    }\n",
       "\n",
       "    .dataframe tbody tr th {\n",
       "        vertical-align: top;\n",
       "    }\n",
       "\n",
       "    .dataframe thead th {\n",
       "        text-align: right;\n",
       "    }\n",
       "</style>\n",
       "<table border=\"1\" class=\"dataframe\">\n",
       "  <thead>\n",
       "    <tr style=\"text-align: right;\">\n",
       "      <th></th>\n",
       "      <th>Maize_Production</th>\n",
       "    </tr>\n",
       "  </thead>\n",
       "  <tbody>\n",
       "    <tr>\n",
       "      <th>0</th>\n",
       "      <td>2879</td>\n",
       "    </tr>\n",
       "    <tr>\n",
       "      <th>1</th>\n",
       "      <td>42583</td>\n",
       "    </tr>\n",
       "    <tr>\n",
       "      <th>2</th>\n",
       "      <td>10450</td>\n",
       "    </tr>\n",
       "    <tr>\n",
       "      <th>3</th>\n",
       "      <td>271975</td>\n",
       "    </tr>\n",
       "    <tr>\n",
       "      <th>4</th>\n",
       "      <td>593544</td>\n",
       "    </tr>\n",
       "    <tr>\n",
       "      <th>5</th>\n",
       "      <td>1759</td>\n",
       "    </tr>\n",
       "    <tr>\n",
       "      <th>6</th>\n",
       "      <td>105491</td>\n",
       "    </tr>\n",
       "    <tr>\n",
       "      <th>7</th>\n",
       "      <td>226532</td>\n",
       "    </tr>\n",
       "    <tr>\n",
       "      <th>8</th>\n",
       "      <td>66868</td>\n",
       "    </tr>\n",
       "    <tr>\n",
       "      <th>9</th>\n",
       "      <td>61353</td>\n",
       "    </tr>\n",
       "    <tr>\n",
       "      <th>10</th>\n",
       "      <td>333937</td>\n",
       "    </tr>\n",
       "    <tr>\n",
       "      <th>11</th>\n",
       "      <td>17921</td>\n",
       "    </tr>\n",
       "    <tr>\n",
       "      <th>12</th>\n",
       "      <td>19387</td>\n",
       "    </tr>\n",
       "    <tr>\n",
       "      <th>13</th>\n",
       "      <td>137154</td>\n",
       "    </tr>\n",
       "    <tr>\n",
       "      <th>14</th>\n",
       "      <td>147886</td>\n",
       "    </tr>\n",
       "    <tr>\n",
       "      <th>15</th>\n",
       "      <td>576758</td>\n",
       "    </tr>\n",
       "    <tr>\n",
       "      <th>16</th>\n",
       "      <td>226327</td>\n",
       "    </tr>\n",
       "    <tr>\n",
       "      <th>17</th>\n",
       "      <td>251699</td>\n",
       "    </tr>\n",
       "    <tr>\n",
       "      <th>18</th>\n",
       "      <td>90634</td>\n",
       "    </tr>\n",
       "    <tr>\n",
       "      <th>19</th>\n",
       "      <td>138476</td>\n",
       "    </tr>\n",
       "    <tr>\n",
       "      <th>20</th>\n",
       "      <td>413487</td>\n",
       "    </tr>\n",
       "    <tr>\n",
       "      <th>21</th>\n",
       "      <td>24088</td>\n",
       "    </tr>\n",
       "    <tr>\n",
       "      <th>22</th>\n",
       "      <td>104045</td>\n",
       "    </tr>\n",
       "    <tr>\n",
       "      <th>23</th>\n",
       "      <td>2791</td>\n",
       "    </tr>\n",
       "    <tr>\n",
       "      <th>24</th>\n",
       "      <td>14621</td>\n",
       "    </tr>\n",
       "    <tr>\n",
       "      <th>25</th>\n",
       "      <td>2673</td>\n",
       "    </tr>\n",
       "    <tr>\n",
       "      <th>26</th>\n",
       "      <td>190252</td>\n",
       "    </tr>\n",
       "    <tr>\n",
       "      <th>27</th>\n",
       "      <td>104045</td>\n",
       "    </tr>\n",
       "  </tbody>\n",
       "</table>\n",
       "</div>"
      ],
      "text/plain": [
       "    Maize_Production\n",
       "0               2879\n",
       "1              42583\n",
       "2              10450\n",
       "3             271975\n",
       "4             593544\n",
       "5               1759\n",
       "6             105491\n",
       "7             226532\n",
       "8              66868\n",
       "9              61353\n",
       "10            333937\n",
       "11             17921\n",
       "12             19387\n",
       "13            137154\n",
       "14            147886\n",
       "15            576758\n",
       "16            226327\n",
       "17            251699\n",
       "18             90634\n",
       "19            138476\n",
       "20            413487\n",
       "21             24088\n",
       "22            104045\n",
       "23              2791\n",
       "24             14621\n",
       "25              2673\n",
       "26            190252\n",
       "27            104045"
      ]
     },
     "execution_count": 32,
     "metadata": {},
     "output_type": "execute_result"
    }
   ],
   "source": [
    "y_st"
   ]
  },
  {
   "cell_type": "code",
   "execution_count": 33,
   "metadata": {},
   "outputs": [],
   "source": [
    "# delta_O = 0.05*(Working_Directory.drop([10])['Maize_Production'].mean())\n",
    "# delta_O"
   ]
  },
  {
   "cell_type": "code",
   "execution_count": 34,
   "metadata": {},
   "outputs": [],
   "source": [
    "# delta_O = 5000\n",
    "\n",
    "# result_df['New_F1'] = result_df['SowingSeedsDistributed_Maize'] + (result_df['Sensitivity_SowingSeedsDistributed_Maize']*delta_O)/result_df['Beta_1']\n",
    "result_df['New_F1'] = result_df['LivestockCensus_2012_Cattle'] + (result_df['Sensitivity_LivestockCensus_2012_Cattle']*delta_O)/result_df['Beta_1']\n",
    "result_df['New_F2'] = result_df['AreaUnderCereals_Maize'] + (result_df['Sensitivity_AreaUnderCereals_Maize']*delta_O)/result_df['Beta_2']\n",
    "result_df['New_F3'] = result_df['TotalNPK'] + (result_df['Sensitivity_TotalNPK']*delta_O)/result_df['Beta_3']\n",
    "# result_df['New_F4'] = result_df['NetAreaIrrigatedUnderDifferentSources_TubeWells_NetIrrigatedArea'] + (result_df['Sensitivity_NetAreaIrrigatedUnderDifferentSources_TubeWells_NetIrrigatedArea']*delta_O)/result_df['Beta_4']\n",
    "result_df['District'] = np.tile(Working_Directory[~rows_to_remove]['District'],11**num)\n",
    "\n",
    "result_df['New_F1'] = result_df['New_F1'].apply(lambda x: max(0, x))\n",
    "result_df['New_F2'] = result_df['New_F2'].apply(lambda x: max(0, x))\n",
    "result_df['New_F3'] = result_df['New_F3'].apply(lambda x: max(0, x))\n",
    "# result_df['New_F4'] = result_df['New_F4'].apply(lambda x: max(0, x))\n",
    "# result_df['New_F5'] = result_df['New_F5'].apply(lambda x: max(0, x))"
   ]
  },
  {
   "cell_type": "code",
   "execution_count": 35,
   "metadata": {},
   "outputs": [
    {
     "data": {
      "text/html": [
       "<div>\n",
       "<style scoped>\n",
       "    .dataframe tbody tr th:only-of-type {\n",
       "        vertical-align: middle;\n",
       "    }\n",
       "\n",
       "    .dataframe tbody tr th {\n",
       "        vertical-align: top;\n",
       "    }\n",
       "\n",
       "    .dataframe thead th {\n",
       "        text-align: right;\n",
       "    }\n",
       "</style>\n",
       "<table border=\"1\" class=\"dataframe\">\n",
       "  <thead>\n",
       "    <tr style=\"text-align: right;\">\n",
       "      <th></th>\n",
       "      <th>Sensitivity_LivestockCensus_2012_Cattle</th>\n",
       "      <th>Sensitivity_AreaUnderCereals_Maize</th>\n",
       "      <th>Sensitivity_TotalNPK</th>\n",
       "      <th>LivestockCensus_2012_Cattle</th>\n",
       "      <th>AreaUnderCereals_Maize</th>\n",
       "      <th>TotalNPK</th>\n",
       "      <th>Beta_0</th>\n",
       "      <th>Beta_1</th>\n",
       "      <th>Beta_2</th>\n",
       "      <th>Beta_3</th>\n",
       "      <th>New_F1</th>\n",
       "      <th>New_F2</th>\n",
       "      <th>New_F3</th>\n",
       "      <th>District</th>\n",
       "      <th>New_Production</th>\n",
       "    </tr>\n",
       "  </thead>\n",
       "  <tbody>\n",
       "    <tr>\n",
       "      <th>0</th>\n",
       "      <td>0.0</td>\n",
       "      <td>0.0</td>\n",
       "      <td>0.0</td>\n",
       "      <td>2567.461578</td>\n",
       "      <td>1129.0</td>\n",
       "      <td>438.180210</td>\n",
       "      <td>-7629.70252</td>\n",
       "      <td>0.578355</td>\n",
       "      <td>1.778552</td>\n",
       "      <td>5.834829</td>\n",
       "      <td>2567.461578</td>\n",
       "      <td>1129.000000</td>\n",
       "      <td>438.180210</td>\n",
       "      <td>BENGALURU</td>\n",
       "      <td>0.000000</td>\n",
       "    </tr>\n",
       "    <tr>\n",
       "      <th>1</th>\n",
       "      <td>0.0</td>\n",
       "      <td>0.0</td>\n",
       "      <td>0.0</td>\n",
       "      <td>25037.139270</td>\n",
       "      <td>14867.0</td>\n",
       "      <td>3036.080250</td>\n",
       "      <td>-7629.70252</td>\n",
       "      <td>0.578355</td>\n",
       "      <td>1.778552</td>\n",
       "      <td>5.834829</td>\n",
       "      <td>25037.139270</td>\n",
       "      <td>14867.000000</td>\n",
       "      <td>3036.080250</td>\n",
       "      <td>BENGALURU(R)</td>\n",
       "      <td>51007.388234</td>\n",
       "    </tr>\n",
       "    <tr>\n",
       "      <th>2</th>\n",
       "      <td>0.0</td>\n",
       "      <td>0.0</td>\n",
       "      <td>0.0</td>\n",
       "      <td>7729.614277</td>\n",
       "      <td>1987.0</td>\n",
       "      <td>222.225258</td>\n",
       "      <td>-7629.70252</td>\n",
       "      <td>0.578355</td>\n",
       "      <td>1.778552</td>\n",
       "      <td>5.834829</td>\n",
       "      <td>7729.614277</td>\n",
       "      <td>1987.000000</td>\n",
       "      <td>222.225258</td>\n",
       "      <td>RAMANAGARA</td>\n",
       "      <td>1671.385475</td>\n",
       "    </tr>\n",
       "    <tr>\n",
       "      <th>3</th>\n",
       "      <td>0.0</td>\n",
       "      <td>0.0</td>\n",
       "      <td>0.0</td>\n",
       "      <td>83821.593090</td>\n",
       "      <td>92194.0</td>\n",
       "      <td>10902.406570</td>\n",
       "      <td>-7629.70252</td>\n",
       "      <td>0.578355</td>\n",
       "      <td>1.778552</td>\n",
       "      <td>5.834829</td>\n",
       "      <td>83821.593090</td>\n",
       "      <td>92194.000000</td>\n",
       "      <td>10902.406570</td>\n",
       "      <td>CHITRADURGA</td>\n",
       "      <td>268434.421553</td>\n",
       "    </tr>\n",
       "    <tr>\n",
       "      <th>4</th>\n",
       "      <td>0.0</td>\n",
       "      <td>0.0</td>\n",
       "      <td>0.0</td>\n",
       "      <td>85657.632090</td>\n",
       "      <td>173400.0</td>\n",
       "      <td>25702.835480</td>\n",
       "      <td>-7629.70252</td>\n",
       "      <td>0.578355</td>\n",
       "      <td>1.778552</td>\n",
       "      <td>5.834829</td>\n",
       "      <td>85657.632090</td>\n",
       "      <td>173400.000000</td>\n",
       "      <td>25702.835480</td>\n",
       "      <td>DAVANAGERE</td>\n",
       "      <td>500283.382616</td>\n",
       "    </tr>\n",
       "    <tr>\n",
       "      <th>...</th>\n",
       "      <td>...</td>\n",
       "      <td>...</td>\n",
       "      <td>...</td>\n",
       "      <td>...</td>\n",
       "      <td>...</td>\n",
       "      <td>...</td>\n",
       "      <td>...</td>\n",
       "      <td>...</td>\n",
       "      <td>...</td>\n",
       "      <td>...</td>\n",
       "      <td>...</td>\n",
       "      <td>...</td>\n",
       "      <td>...</td>\n",
       "      <td>...</td>\n",
       "      <td>...</td>\n",
       "    </tr>\n",
       "    <tr>\n",
       "      <th>37263</th>\n",
       "      <td>1.0</td>\n",
       "      <td>1.0</td>\n",
       "      <td>1.0</td>\n",
       "      <td>2371.831678</td>\n",
       "      <td>1382.0</td>\n",
       "      <td>249.381182</td>\n",
       "      <td>-7629.70252</td>\n",
       "      <td>0.578355</td>\n",
       "      <td>1.778552</td>\n",
       "      <td>5.834829</td>\n",
       "      <td>9736.404916</td>\n",
       "      <td>3776.833045</td>\n",
       "      <td>979.365731</td>\n",
       "      <td>BIDAR</td>\n",
       "      <td>10433.119030</td>\n",
       "    </tr>\n",
       "    <tr>\n",
       "      <th>37264</th>\n",
       "      <td>1.0</td>\n",
       "      <td>1.0</td>\n",
       "      <td>1.0</td>\n",
       "      <td>6221.617910</td>\n",
       "      <td>2634.0</td>\n",
       "      <td>710.101614</td>\n",
       "      <td>-7629.70252</td>\n",
       "      <td>0.578355</td>\n",
       "      <td>1.778552</td>\n",
       "      <td>5.834829</td>\n",
       "      <td>13586.191148</td>\n",
       "      <td>5028.833045</td>\n",
       "      <td>1440.086163</td>\n",
       "      <td>KALABURAGI</td>\n",
       "      <td>17574.633227</td>\n",
       "    </tr>\n",
       "    <tr>\n",
       "      <th>37265</th>\n",
       "      <td>1.0</td>\n",
       "      <td>1.0</td>\n",
       "      <td>1.0</td>\n",
       "      <td>1253.317144</td>\n",
       "      <td>961.0</td>\n",
       "      <td>368.617469</td>\n",
       "      <td>-7629.70252</td>\n",
       "      <td>0.578355</td>\n",
       "      <td>1.778552</td>\n",
       "      <td>5.834829</td>\n",
       "      <td>8617.890382</td>\n",
       "      <td>3355.833045</td>\n",
       "      <td>1098.602018</td>\n",
       "      <td>YADGIRI</td>\n",
       "      <td>9733.173890</td>\n",
       "    </tr>\n",
       "    <tr>\n",
       "      <th>37266</th>\n",
       "      <td>1.0</td>\n",
       "      <td>1.0</td>\n",
       "      <td>1.0</td>\n",
       "      <td>38936.400170</td>\n",
       "      <td>48210.0</td>\n",
       "      <td>10997.550400</td>\n",
       "      <td>-7629.70252</td>\n",
       "      <td>0.578355</td>\n",
       "      <td>1.778552</td>\n",
       "      <td>5.834829</td>\n",
       "      <td>46300.973408</td>\n",
       "      <td>50604.833045</td>\n",
       "      <td>11727.534949</td>\n",
       "      <td>KOPPAL</td>\n",
       "      <td>177580.179368</td>\n",
       "    </tr>\n",
       "    <tr>\n",
       "      <th>37267</th>\n",
       "      <td>1.0</td>\n",
       "      <td>1.0</td>\n",
       "      <td>1.0</td>\n",
       "      <td>23446.847900</td>\n",
       "      <td>49869.5</td>\n",
       "      <td>8404.154608</td>\n",
       "      <td>-7629.70252</td>\n",
       "      <td>0.578355</td>\n",
       "      <td>1.778552</td>\n",
       "      <td>5.834829</td>\n",
       "      <td>30811.421138</td>\n",
       "      <td>52264.333045</td>\n",
       "      <td>9134.139157</td>\n",
       "      <td>VIJAYANAGARA</td>\n",
       "      <td>156441.209602</td>\n",
       "    </tr>\n",
       "  </tbody>\n",
       "</table>\n",
       "<p>37268 rows × 15 columns</p>\n",
       "</div>"
      ],
      "text/plain": [
       "       Sensitivity_LivestockCensus_2012_Cattle  \\\n",
       "0                                          0.0   \n",
       "1                                          0.0   \n",
       "2                                          0.0   \n",
       "3                                          0.0   \n",
       "4                                          0.0   \n",
       "...                                        ...   \n",
       "37263                                      1.0   \n",
       "37264                                      1.0   \n",
       "37265                                      1.0   \n",
       "37266                                      1.0   \n",
       "37267                                      1.0   \n",
       "\n",
       "       Sensitivity_AreaUnderCereals_Maize  Sensitivity_TotalNPK  \\\n",
       "0                                     0.0                   0.0   \n",
       "1                                     0.0                   0.0   \n",
       "2                                     0.0                   0.0   \n",
       "3                                     0.0                   0.0   \n",
       "4                                     0.0                   0.0   \n",
       "...                                   ...                   ...   \n",
       "37263                                 1.0                   1.0   \n",
       "37264                                 1.0                   1.0   \n",
       "37265                                 1.0                   1.0   \n",
       "37266                                 1.0                   1.0   \n",
       "37267                                 1.0                   1.0   \n",
       "\n",
       "       LivestockCensus_2012_Cattle  AreaUnderCereals_Maize      TotalNPK  \\\n",
       "0                      2567.461578                  1129.0    438.180210   \n",
       "1                     25037.139270                 14867.0   3036.080250   \n",
       "2                      7729.614277                  1987.0    222.225258   \n",
       "3                     83821.593090                 92194.0  10902.406570   \n",
       "4                     85657.632090                173400.0  25702.835480   \n",
       "...                            ...                     ...           ...   \n",
       "37263                  2371.831678                  1382.0    249.381182   \n",
       "37264                  6221.617910                  2634.0    710.101614   \n",
       "37265                  1253.317144                   961.0    368.617469   \n",
       "37266                 38936.400170                 48210.0  10997.550400   \n",
       "37267                 23446.847900                 49869.5   8404.154608   \n",
       "\n",
       "           Beta_0    Beta_1    Beta_2    Beta_3        New_F1         New_F2  \\\n",
       "0     -7629.70252  0.578355  1.778552  5.834829   2567.461578    1129.000000   \n",
       "1     -7629.70252  0.578355  1.778552  5.834829  25037.139270   14867.000000   \n",
       "2     -7629.70252  0.578355  1.778552  5.834829   7729.614277    1987.000000   \n",
       "3     -7629.70252  0.578355  1.778552  5.834829  83821.593090   92194.000000   \n",
       "4     -7629.70252  0.578355  1.778552  5.834829  85657.632090  173400.000000   \n",
       "...           ...       ...       ...       ...           ...            ...   \n",
       "37263 -7629.70252  0.578355  1.778552  5.834829   9736.404916    3776.833045   \n",
       "37264 -7629.70252  0.578355  1.778552  5.834829  13586.191148    5028.833045   \n",
       "37265 -7629.70252  0.578355  1.778552  5.834829   8617.890382    3355.833045   \n",
       "37266 -7629.70252  0.578355  1.778552  5.834829  46300.973408   50604.833045   \n",
       "37267 -7629.70252  0.578355  1.778552  5.834829  30811.421138   52264.333045   \n",
       "\n",
       "             New_F3      District  New_Production  \n",
       "0        438.180210     BENGALURU        0.000000  \n",
       "1       3036.080250  BENGALURU(R)    51007.388234  \n",
       "2        222.225258    RAMANAGARA     1671.385475  \n",
       "3      10902.406570   CHITRADURGA   268434.421553  \n",
       "4      25702.835480    DAVANAGERE   500283.382616  \n",
       "...             ...           ...             ...  \n",
       "37263    979.365731         BIDAR    10433.119030  \n",
       "37264   1440.086163    KALABURAGI    17574.633227  \n",
       "37265   1098.602018       YADGIRI     9733.173890  \n",
       "37266  11727.534949        KOPPAL   177580.179368  \n",
       "37267   9134.139157  VIJAYANAGARA   156441.209602  \n",
       "\n",
       "[37268 rows x 15 columns]"
      ]
     },
     "execution_count": 35,
     "metadata": {},
     "output_type": "execute_result"
    }
   ],
   "source": [
    "result_df['New_Production'] = result_df['Beta_1'] * result_df['New_F1'] + result_df['Beta_2'] * result_df['New_F2'] + result_df['Beta_3'] * result_df['New_F3']+ result_df['Beta_0']\n",
    "# + result_df['Beta_4'] * result_df['New_F4']  + result_df['Beta_5'] * result_df['New_F5'] + result_df['Beta_0']\n",
    "result_df['New_Production'] = result_df['New_Production'].apply(lambda x: max(0, x))\n",
    "\n",
    "result_df"
   ]
  },
  {
   "cell_type": "code",
   "execution_count": 36,
   "metadata": {},
   "outputs": [],
   "source": [
    "def normalize_list(lst):\n",
    "    min_val = min(lst)\n",
    "    max_val = max(lst)\n",
    "    normalized_lst = [(x - min_val) / (max_val - min_val) for x in lst]\n",
    "    return normalized_lst"
   ]
  },
  {
   "cell_type": "code",
   "execution_count": 37,
   "metadata": {},
   "outputs": [
    {
     "name": "stdout",
     "output_type": "stream",
     "text": [
      "    1   2   3   4   5   6   7   8   9   10  ...  22  23  24  25  26  27  28  \\\n",
      "1    0   1   1   0   0   0   0   0   0   0  ...   0   0   0   0   0   0   0   \n",
      "2    1   0   1   0   0   1   1   0   1   0  ...   0   0   0   0   0   0   0   \n",
      "3    1   1   0   0   0   0   0   0   1   0  ...   0   0   0   0   0   0   0   \n",
      "4    0   0   0   0   1   0   0   0   1   1  ...   0   0   0   1   0   0   0   \n",
      "5    0   0   0   1   0   0   0   1   0   1  ...   0   1   0   1   0   0   0   \n",
      "6    0   1   0   0   0   0   1   0   0   0  ...   0   0   0   0   0   0   0   \n",
      "7    0   1   0   0   0   1   0   0   1   0  ...   0   0   0   0   0   0   0   \n",
      "8    0   0   0   0   1   0   0   0   0   1  ...   0   1   1   0   0   0   0   \n",
      "9    0   1   1   1   0   0   1   0   0   1  ...   0   0   0   0   0   0   0   \n",
      "10   0   0   0   1   1   0   0   1   1   0  ...   0   0   0   0   0   0   0   \n",
      "11   0   0   0   0   0   0   0   0   0   1  ...   0   0   0   0   0   0   0   \n",
      "12   0   0   0   0   0   0   0   1   0   1  ...   0   0   1   0   0   0   0   \n",
      "13   0   0   0   0   0   0   0   0   1   1  ...   0   0   0   0   0   0   0   \n",
      "14   0   0   0   0   0   0   0   0   0   0  ...   0   0   0   0   0   0   0   \n",
      "15   0   0   1   0   0   0   0   0   1   0  ...   0   0   0   0   0   0   0   \n",
      "16   0   0   0   0   0   0   0   0   0   0  ...   0   0   0   0   0   0   0   \n",
      "17   0   0   1   0   0   0   0   0   0   0  ...   0   0   0   0   0   0   0   \n",
      "18   0   0   0   0   0   0   0   0   0   0  ...   1   0   1   0   0   0   0   \n",
      "19   0   0   0   0   0   0   0   0   0   0  ...   0   0   0   0   0   1   1   \n",
      "20   0   0   0   0   0   0   0   0   0   0  ...   1   0   0   0   0   0   0   \n",
      "21   0   0   0   0   0   0   0   0   0   0  ...   1   1   1   0   0   0   0   \n",
      "22   0   0   0   0   0   0   0   0   0   0  ...   0   1   0   1   0   0   0   \n",
      "23   0   0   0   0   1   0   0   1   0   0  ...   1   0   1   1   0   0   0   \n",
      "24   0   0   0   0   0   0   0   1   0   0  ...   0   1   0   0   0   0   0   \n",
      "25   0   0   0   1   1   0   0   0   0   0  ...   1   1   0   0   0   0   0   \n",
      "26   0   0   0   0   0   0   0   0   0   0  ...   0   0   0   0   0   1   0   \n",
      "27   0   0   0   0   0   0   0   0   0   0  ...   0   0   0   0   1   0   1   \n",
      "28   0   0   0   0   0   0   0   0   0   0  ...   0   0   0   0   0   1   0   \n",
      "29   0   0   0   0   0   0   0   0   0   0  ...   0   0   0   1   0   0   1   \n",
      "30   0   0   0   0   0   0   0   0   0   0  ...   1   0   0   1   0   0   0   \n",
      "31   0   0   0   1   1   0   0   0   0   0  ...   1   1   0   1   0   0   0   \n",
      "\n",
      "    29  30  31  \n",
      "1    0   0   0  \n",
      "2    0   0   0  \n",
      "3    0   0   0  \n",
      "4    0   0   1  \n",
      "5    0   0   1  \n",
      "6    0   0   0  \n",
      "7    0   0   0  \n",
      "8    0   0   0  \n",
      "9    0   0   0  \n",
      "10   0   0   0  \n",
      "11   0   0   0  \n",
      "12   0   0   0  \n",
      "13   0   0   0  \n",
      "14   0   0   0  \n",
      "15   0   0   0  \n",
      "16   0   0   0  \n",
      "17   0   0   0  \n",
      "18   0   0   0  \n",
      "19   1   0   0  \n",
      "20   1   1   0  \n",
      "21   0   0   0  \n",
      "22   0   1   1  \n",
      "23   0   0   1  \n",
      "24   0   0   0  \n",
      "25   1   1   1  \n",
      "26   0   0   0  \n",
      "27   0   0   0  \n",
      "28   1   0   0  \n",
      "29   0   1   0  \n",
      "30   1   0   1  \n",
      "31   0   1   0  \n",
      "\n",
      "[31 rows x 31 columns]\n"
     ]
    }
   ],
   "source": [
    "import pandas as pd\n",
    "import numpy as np\n",
    "\n",
    "adjacency_excel = pd.read_excel('Karnataka_District_Adjacency_File.xlsx')\n",
    "\n",
    "district_codes = sorted(set(adjacency_excel['District_Code']))\n",
    "\n",
    "n = len(district_codes)\n",
    "adj_matrix = np.zeros((n, n), dtype=int)\n",
    "\n",
    "code_to_index = {code: idx for idx, code in enumerate(district_codes)}\n",
    "\n",
    "for i in range(len(adjacency_excel)):\n",
    "    district_code = adjacency_excel['District_Code'][i]\n",
    "    neighbors = [int(num) for num in str(adjacency_excel['District_Neighbors'][i]).split(',') if num.strip().isdigit()]\n",
    "    \n",
    "    for neighbor in neighbors:\n",
    "        adj_matrix[code_to_index[district_code]][code_to_index[neighbor]] = 1\n",
    "        adj_matrix[code_to_index[neighbor]][code_to_index[district_code]] = 1  # Assuming adjacency is bidirectional\n",
    "\n",
    "adj_matrix_df = pd.DataFrame(adj_matrix, index=district_codes, columns=district_codes)\n",
    "\n",
    "print(adj_matrix_df)\n",
    "\n",
    "adj_matrix_np = adj_matrix_df.to_numpy()"
   ]
  },
  {
   "cell_type": "code",
   "execution_count": 38,
   "metadata": {},
   "outputs": [
    {
     "data": {
      "text/html": [
       "<div>\n",
       "<style scoped>\n",
       "    .dataframe tbody tr th:only-of-type {\n",
       "        vertical-align: middle;\n",
       "    }\n",
       "\n",
       "    .dataframe tbody tr th {\n",
       "        vertical-align: top;\n",
       "    }\n",
       "\n",
       "    .dataframe thead th {\n",
       "        text-align: right;\n",
       "    }\n",
       "</style>\n",
       "<table border=\"1\" class=\"dataframe\">\n",
       "  <thead>\n",
       "    <tr style=\"text-align: right;\">\n",
       "      <th></th>\n",
       "      <th>Maize_Production</th>\n",
       "      <th>District</th>\n",
       "    </tr>\n",
       "  </thead>\n",
       "  <tbody>\n",
       "    <tr>\n",
       "      <th>0</th>\n",
       "      <td>2879</td>\n",
       "      <td>BENGALURU</td>\n",
       "    </tr>\n",
       "    <tr>\n",
       "      <th>1</th>\n",
       "      <td>42583</td>\n",
       "      <td>BENGALURU(R)</td>\n",
       "    </tr>\n",
       "    <tr>\n",
       "      <th>2</th>\n",
       "      <td>10450</td>\n",
       "      <td>RAMANAGARA</td>\n",
       "    </tr>\n",
       "    <tr>\n",
       "      <th>3</th>\n",
       "      <td>271975</td>\n",
       "      <td>CHITRADURGA</td>\n",
       "    </tr>\n",
       "    <tr>\n",
       "      <th>4</th>\n",
       "      <td>593544</td>\n",
       "      <td>DAVANAGERE</td>\n",
       "    </tr>\n",
       "    <tr>\n",
       "      <th>5</th>\n",
       "      <td>1759</td>\n",
       "      <td>KOLAR</td>\n",
       "    </tr>\n",
       "    <tr>\n",
       "      <th>6</th>\n",
       "      <td>105491</td>\n",
       "      <td>CHIKKABALLAPURA</td>\n",
       "    </tr>\n",
       "    <tr>\n",
       "      <th>7</th>\n",
       "      <td>226532</td>\n",
       "      <td>SHIVAMOGGA</td>\n",
       "    </tr>\n",
       "    <tr>\n",
       "      <th>8</th>\n",
       "      <td>66868</td>\n",
       "      <td>TUMAKURU</td>\n",
       "    </tr>\n",
       "    <tr>\n",
       "      <th>9</th>\n",
       "      <td>61353</td>\n",
       "      <td>CHIKKAMAGALURU</td>\n",
       "    </tr>\n",
       "    <tr>\n",
       "      <th>10</th>\n",
       "      <td>333937</td>\n",
       "      <td>HASSAN</td>\n",
       "    </tr>\n",
       "    <tr>\n",
       "      <th>11</th>\n",
       "      <td>17921</td>\n",
       "      <td>KODAGU</td>\n",
       "    </tr>\n",
       "    <tr>\n",
       "      <th>12</th>\n",
       "      <td>19387</td>\n",
       "      <td>MANDYA</td>\n",
       "    </tr>\n",
       "    <tr>\n",
       "      <th>13</th>\n",
       "      <td>137154</td>\n",
       "      <td>MYSURU</td>\n",
       "    </tr>\n",
       "    <tr>\n",
       "      <th>14</th>\n",
       "      <td>147886</td>\n",
       "      <td>CHAMARAJANAGAR</td>\n",
       "    </tr>\n",
       "    <tr>\n",
       "      <th>15</th>\n",
       "      <td>576758</td>\n",
       "      <td>BELAGAVI</td>\n",
       "    </tr>\n",
       "    <tr>\n",
       "      <th>16</th>\n",
       "      <td>226327</td>\n",
       "      <td>VIJAYAPURA</td>\n",
       "    </tr>\n",
       "    <tr>\n",
       "      <th>17</th>\n",
       "      <td>251699</td>\n",
       "      <td>BAGALKOT</td>\n",
       "    </tr>\n",
       "    <tr>\n",
       "      <th>18</th>\n",
       "      <td>90634</td>\n",
       "      <td>DHARAWAD</td>\n",
       "    </tr>\n",
       "    <tr>\n",
       "      <th>19</th>\n",
       "      <td>138476</td>\n",
       "      <td>GADAG</td>\n",
       "    </tr>\n",
       "    <tr>\n",
       "      <th>20</th>\n",
       "      <td>413487</td>\n",
       "      <td>HAVERI</td>\n",
       "    </tr>\n",
       "    <tr>\n",
       "      <th>21</th>\n",
       "      <td>24088</td>\n",
       "      <td>UTTARA KANNADA</td>\n",
       "    </tr>\n",
       "    <tr>\n",
       "      <th>22</th>\n",
       "      <td>104045</td>\n",
       "      <td>BALLARI</td>\n",
       "    </tr>\n",
       "    <tr>\n",
       "      <th>23</th>\n",
       "      <td>2791</td>\n",
       "      <td>BIDAR</td>\n",
       "    </tr>\n",
       "    <tr>\n",
       "      <th>24</th>\n",
       "      <td>14621</td>\n",
       "      <td>KALABURAGI</td>\n",
       "    </tr>\n",
       "    <tr>\n",
       "      <th>25</th>\n",
       "      <td>2673</td>\n",
       "      <td>YADGIRI</td>\n",
       "    </tr>\n",
       "    <tr>\n",
       "      <th>26</th>\n",
       "      <td>190252</td>\n",
       "      <td>KOPPAL</td>\n",
       "    </tr>\n",
       "    <tr>\n",
       "      <th>27</th>\n",
       "      <td>104045</td>\n",
       "      <td>VIJAYANAGARA</td>\n",
       "    </tr>\n",
       "  </tbody>\n",
       "</table>\n",
       "</div>"
      ],
      "text/plain": [
       "    Maize_Production         District\n",
       "0               2879        BENGALURU\n",
       "1              42583     BENGALURU(R)\n",
       "2              10450       RAMANAGARA\n",
       "3             271975      CHITRADURGA\n",
       "4             593544       DAVANAGERE\n",
       "5               1759            KOLAR\n",
       "6             105491  CHIKKABALLAPURA\n",
       "7             226532       SHIVAMOGGA\n",
       "8              66868         TUMAKURU\n",
       "9              61353   CHIKKAMAGALURU\n",
       "10            333937           HASSAN\n",
       "11             17921           KODAGU\n",
       "12             19387           MANDYA\n",
       "13            137154           MYSURU\n",
       "14            147886   CHAMARAJANAGAR\n",
       "15            576758         BELAGAVI\n",
       "16            226327       VIJAYAPURA\n",
       "17            251699         BAGALKOT\n",
       "18             90634         DHARAWAD\n",
       "19            138476            GADAG\n",
       "20            413487           HAVERI\n",
       "21             24088   UTTARA KANNADA\n",
       "22            104045          BALLARI\n",
       "23              2791            BIDAR\n",
       "24             14621       KALABURAGI\n",
       "25              2673          YADGIRI\n",
       "26            190252           KOPPAL\n",
       "27            104045     VIJAYANAGARA"
      ]
     },
     "execution_count": 38,
     "metadata": {},
     "output_type": "execute_result"
    }
   ],
   "source": [
    "tre = pd.DataFrame()\n",
    "tre['Maize_Production'] =  y_st['Maize_Production']\n",
    "tre['District'] = result_df['District']\n",
    "tre"
   ]
  },
  {
   "cell_type": "code",
   "execution_count": 39,
   "metadata": {},
   "outputs": [],
   "source": [
    "def calculate_avg_capability(capability, neighbors):\n",
    "    num_neighbors = len(neighbors)\n",
    "    if num_neighbors == 0:\n",
    "        return 0\n",
    "    sum_capabilities = sum(capability[n] for n in neighbors)\n",
    "    return sum_capabilities / num_neighbors\n",
    "\n",
    "def calculate_stress_stability(capability, adjacency_matrix):\n",
    "    n = len(capability)\n",
    "    stress = np.zeros(n)\n",
    "    stability = np.zeros(n)\n",
    "    \n",
    "    for i in range(n):\n",
    "        neighbors = [j for j in range(n) if adjacency_matrix[i][j] == 1 and i != j]\n",
    "        if len(neighbors) > 0:\n",
    "            avg_capability = calculate_avg_capability(capability, neighbors)\n",
    "            stress[i] = abs(avg_capability - capability[i])\n",
    "            # stability[i] = 1 - stress[i]\n",
    "        else:\n",
    "            stress[i] = 0  # If no neighbors, stress is zero\n",
    "            # stability[i] = 1\n",
    "    min_stress = min(stress)\n",
    "    max_stress = max(stress)\n",
    "    \n",
    "    if max_stress - min_stress > 0:\n",
    "        stress = (stress - min_stress) / (max_stress - min_stress)\n",
    "    else:\n",
    "        stress = np.zeros(n)\n",
    "    \n",
    "    stability = 1 - stress\n",
    "        \n",
    "    return stress, stability"
   ]
  },
  {
   "cell_type": "code",
   "execution_count": 40,
   "metadata": {},
   "outputs": [
    {
     "name": "stdout",
     "output_type": "stream",
     "text": [
      "1331\n",
      "28\n",
      "37268 37268\n"
     ]
    }
   ],
   "source": [
    "stress_values_list = []\n",
    "stability_values_list = []\n",
    "\n",
    "# Define batch size\n",
    "batch_size = case_file_length\n",
    "\n",
    "# Iterate over the New_Production column in batches of 31\n",
    "num_batches = len(result_df) // batch_size\n",
    "\n",
    "for i in range(num_batches):\n",
    "    # Get the batch of 31 production values\n",
    "    start_idx = i * batch_size\n",
    "    end_idx = start_idx + batch_size\n",
    "    batch = result_df['New_Production'][start_idx:end_idx].values\n",
    "    \n",
    "    # Calculate the stress and stability values for the batch\n",
    "    stress_batch, stability_batch = calculate_stress_stability(batch, adj_matrix_np)\n",
    "    \n",
    "    stress_values_list.extend(stress_batch)\n",
    "    stability_values_list.extend(stability_batch)\n",
    "\n",
    "\n",
    "print(num_batches)\n",
    "print(len(stress_batch))\n",
    "print(len(stress_values_list), len(stability_values_list))\n",
    "\n",
    "result_df['Stress_Values'] = stress_values_list\n",
    "result_df['Stability_Values'] = stability_values_list"
   ]
  },
  {
   "cell_type": "code",
   "execution_count": 41,
   "metadata": {},
   "outputs": [
    {
     "data": {
      "text/plain": [
       "Index(['Sensitivity_LivestockCensus_2012_Cattle',\n",
       "       'Sensitivity_AreaUnderCereals_Maize', 'Sensitivity_TotalNPK',\n",
       "       'LivestockCensus_2012_Cattle', 'AreaUnderCereals_Maize', 'TotalNPK',\n",
       "       'Beta_0', 'Beta_1', 'Beta_2', 'Beta_3', 'New_F1', 'New_F2', 'New_F3',\n",
       "       'District', 'New_Production', 'Stress_Values', 'Stability_Values'],\n",
       "      dtype='object')"
      ]
     },
     "execution_count": 41,
     "metadata": {},
     "output_type": "execute_result"
    }
   ],
   "source": [
    "result_df.columns"
   ]
  },
  {
   "cell_type": "code",
   "execution_count": 42,
   "metadata": {},
   "outputs": [],
   "source": [
    "viz_df = result_df[['District','Sensitivity_LivestockCensus_2012_Cattle','Sensitivity_AreaUnderCereals_Maize',\n",
    "                    'Sensitivity_TotalNPK',\t'New_Production','Stability_Values']].copy()\n",
    "\n",
    "# viz_df = result_df[['District','Sensitivity_SowingSeedsDistributed_Maize','Sensitivity_LivestockCensus_2012_Cattle','Sensitivity_AreaUnderCereals_Maize',\n",
    "#                     'Sensitivity_TotalNPK',\t'Sensitivity_NetAreaIrrigatedUnderDifferentSources_TubeWells_NetIrrigatedArea','New_Production','Stability_Values']].copy()\n",
    "\n",
    "abbreviation_mapping = {\n",
    "    'BENGALURU': 'BLR',\n",
    "    'BENGALURU(R)': 'BLR(R)',\n",
    "    'RAMANAGARA': 'RGA',\n",
    "    'CHITRADURGA': 'CDA',\n",
    "    'DAVANAGERE': 'DVG',\n",
    "    'KOLAR': 'KLR',\n",
    "    'CHIKKABALLAPURA': 'CKA',\n",
    "    'SHIVAMOGGA': 'SMG',\n",
    "    'TUMAKURU': 'TKR',\n",
    "    'CHIKKAMAGALURU': 'CMG',\n",
    "    'DAKSHINA KANNADA': 'DKA',\n",
    "    'UDUPI': 'UPI',\n",
    "    'HASSAN': 'HSN',\n",
    "    'KODAGU': 'KDG',\n",
    "    'MANDYA': 'MDY',\n",
    "    'MYSURU': 'MYS',\n",
    "    'CHAMARAJANAGAR': 'CNR',\n",
    "    'BELAGAVI': 'BLG',\n",
    "    'VIJAYAPURA': 'VJP',\n",
    "    'BAGALKOT': 'BKT',\n",
    "    'DHARAWAD': 'DWD',\n",
    "    'GADAG': 'GDG',\n",
    "    'HAVERI': 'HVR',\n",
    "    'UTTARA KANNADA': 'UTK',\n",
    "    'BALLARI': 'BLL',\n",
    "    'BIDAR': 'BDR',\n",
    "    'KALABURAGI': 'KLB',\n",
    "    'YADGIRI': 'YDR',\n",
    "    'RAICHUR': 'RCR',\n",
    "    'KOPPAL': 'KPL',\n",
    "    'VIJAYANAGARA' : 'VJN'\n",
    "}\n",
    "\n",
    "viz_df['Abbreviation'] = viz_df['District'].map(abbreviation_mapping)\n",
    "\n",
    "legend_labels = [{'Abbreviation': abb, 'Full Form': full_form} \n",
    "                    for abb, full_form in zip(viz_df['Abbreviation'].unique(), viz_df['District'].unique())]"
   ]
  },
  {
   "cell_type": "code",
   "execution_count": 43,
   "metadata": {},
   "outputs": [
    {
     "data": {
      "text/html": [
       "<div>\n",
       "<style scoped>\n",
       "    .dataframe tbody tr th:only-of-type {\n",
       "        vertical-align: middle;\n",
       "    }\n",
       "\n",
       "    .dataframe tbody tr th {\n",
       "        vertical-align: top;\n",
       "    }\n",
       "\n",
       "    .dataframe thead th {\n",
       "        text-align: right;\n",
       "    }\n",
       "</style>\n",
       "<table border=\"1\" class=\"dataframe\">\n",
       "  <thead>\n",
       "    <tr style=\"text-align: right;\">\n",
       "      <th></th>\n",
       "      <th>District</th>\n",
       "      <th>Maize_Production</th>\n",
       "      <th>TotalNPK</th>\n",
       "      <th>SowingSeedsDistributed_Maize</th>\n",
       "      <th>LivestockCensus_2012_Cattle</th>\n",
       "      <th>AreaUnderCereals_Maize</th>\n",
       "      <th>NetAreaIrrigatedUnderDifferentSources_TubeWells_NetIrrigatedArea</th>\n",
       "      <th>Maize_Ratio</th>\n",
       "    </tr>\n",
       "  </thead>\n",
       "  <tbody>\n",
       "    <tr>\n",
       "      <th>0</th>\n",
       "      <td>BENGALURU</td>\n",
       "      <td>2879</td>\n",
       "      <td>438.180210</td>\n",
       "      <td>4.450</td>\n",
       "      <td>2567.461578</td>\n",
       "      <td>1129.0</td>\n",
       "      <td>9348</td>\n",
       "      <td>0.018798</td>\n",
       "    </tr>\n",
       "    <tr>\n",
       "      <th>1</th>\n",
       "      <td>BENGALURU(R)</td>\n",
       "      <td>42583</td>\n",
       "      <td>3036.080250</td>\n",
       "      <td>134.730</td>\n",
       "      <td>25037.139270</td>\n",
       "      <td>14867.0</td>\n",
       "      <td>20281</td>\n",
       "      <td>0.157645</td>\n",
       "    </tr>\n",
       "    <tr>\n",
       "      <th>2</th>\n",
       "      <td>RAMANAGARA</td>\n",
       "      <td>10450</td>\n",
       "      <td>222.225258</td>\n",
       "      <td>260.150</td>\n",
       "      <td>7729.614277</td>\n",
       "      <td>1987.0</td>\n",
       "      <td>23868</td>\n",
       "      <td>0.029741</td>\n",
       "    </tr>\n",
       "    <tr>\n",
       "      <th>3</th>\n",
       "      <td>CHITRADURGA</td>\n",
       "      <td>271975</td>\n",
       "      <td>10902.406570</td>\n",
       "      <td>5004.000</td>\n",
       "      <td>83821.593090</td>\n",
       "      <td>92194.0</td>\n",
       "      <td>92506</td>\n",
       "      <td>0.303824</td>\n",
       "    </tr>\n",
       "    <tr>\n",
       "      <th>4</th>\n",
       "      <td>DAVANAGERE</td>\n",
       "      <td>593544</td>\n",
       "      <td>25702.835480</td>\n",
       "      <td>6124.600</td>\n",
       "      <td>85657.632090</td>\n",
       "      <td>173400.0</td>\n",
       "      <td>78364</td>\n",
       "      <td>0.257947</td>\n",
       "    </tr>\n",
       "    <tr>\n",
       "      <th>5</th>\n",
       "      <td>KOLAR</td>\n",
       "      <td>1759</td>\n",
       "      <td>220.782906</td>\n",
       "      <td>51.500</td>\n",
       "      <td>2278.829821</td>\n",
       "      <td>640.0</td>\n",
       "      <td>20140</td>\n",
       "      <td>0.009950</td>\n",
       "    </tr>\n",
       "    <tr>\n",
       "      <th>6</th>\n",
       "      <td>CHIKKABALLAPURA</td>\n",
       "      <td>105491</td>\n",
       "      <td>8196.896749</td>\n",
       "      <td>3538.150</td>\n",
       "      <td>71206.945310</td>\n",
       "      <td>59377.0</td>\n",
       "      <td>50370</td>\n",
       "      <td>0.289061</td>\n",
       "    </tr>\n",
       "    <tr>\n",
       "      <th>7</th>\n",
       "      <td>SHIVAMOGGA</td>\n",
       "      <td>226532</td>\n",
       "      <td>10428.246260</td>\n",
       "      <td>3814.020</td>\n",
       "      <td>104722.000400</td>\n",
       "      <td>43827.0</td>\n",
       "      <td>32347</td>\n",
       "      <td>0.184215</td>\n",
       "    </tr>\n",
       "    <tr>\n",
       "      <th>8</th>\n",
       "      <td>TUMAKURU</td>\n",
       "      <td>66868</td>\n",
       "      <td>2746.313635</td>\n",
       "      <td>1639.850</td>\n",
       "      <td>37944.093760</td>\n",
       "      <td>24207.0</td>\n",
       "      <td>144708</td>\n",
       "      <td>0.071991</td>\n",
       "    </tr>\n",
       "    <tr>\n",
       "      <th>9</th>\n",
       "      <td>CHIKKAMAGALURU</td>\n",
       "      <td>61353</td>\n",
       "      <td>8156.290370</td>\n",
       "      <td>2923.790</td>\n",
       "      <td>40572.445630</td>\n",
       "      <td>25831.0</td>\n",
       "      <td>26174</td>\n",
       "      <td>0.120188</td>\n",
       "    </tr>\n",
       "    <tr>\n",
       "      <th>10</th>\n",
       "      <td>DAKSHINA KANNADA</td>\n",
       "      <td>0</td>\n",
       "      <td>0.000000</td>\n",
       "      <td>0.000</td>\n",
       "      <td>0.000000</td>\n",
       "      <td>0.0</td>\n",
       "      <td>16589</td>\n",
       "      <td>0.000000</td>\n",
       "    </tr>\n",
       "    <tr>\n",
       "      <th>11</th>\n",
       "      <td>UDUPI</td>\n",
       "      <td>109</td>\n",
       "      <td>2.304863</td>\n",
       "      <td>0.000</td>\n",
       "      <td>94.499008</td>\n",
       "      <td>8.0</td>\n",
       "      <td>699</td>\n",
       "      <td>0.000375</td>\n",
       "    </tr>\n",
       "    <tr>\n",
       "      <th>12</th>\n",
       "      <td>HASSAN</td>\n",
       "      <td>333937</td>\n",
       "      <td>17039.273890</td>\n",
       "      <td>8925.330</td>\n",
       "      <td>151008.140300</td>\n",
       "      <td>79058.0</td>\n",
       "      <td>23393</td>\n",
       "      <td>0.248999</td>\n",
       "    </tr>\n",
       "    <tr>\n",
       "      <th>13</th>\n",
       "      <td>KODAGU</td>\n",
       "      <td>17921</td>\n",
       "      <td>3519.022414</td>\n",
       "      <td>246.410</td>\n",
       "      <td>7599.582730</td>\n",
       "      <td>3448.0</td>\n",
       "      <td>106</td>\n",
       "      <td>0.085941</td>\n",
       "    </tr>\n",
       "    <tr>\n",
       "      <th>14</th>\n",
       "      <td>MANDYA</td>\n",
       "      <td>19387</td>\n",
       "      <td>1448.830355</td>\n",
       "      <td>794.030</td>\n",
       "      <td>8774.134623</td>\n",
       "      <td>4892.0</td>\n",
       "      <td>16025</td>\n",
       "      <td>0.023925</td>\n",
       "    </tr>\n",
       "    <tr>\n",
       "      <th>15</th>\n",
       "      <td>MYSURU</td>\n",
       "      <td>137154</td>\n",
       "      <td>6945.331415</td>\n",
       "      <td>1573.430</td>\n",
       "      <td>61547.727440</td>\n",
       "      <td>37283.0</td>\n",
       "      <td>19842</td>\n",
       "      <td>0.111996</td>\n",
       "    </tr>\n",
       "    <tr>\n",
       "      <th>16</th>\n",
       "      <td>CHAMARAJANAGAR</td>\n",
       "      <td>147886</td>\n",
       "      <td>7289.684770</td>\n",
       "      <td>2054.600</td>\n",
       "      <td>80396.926680</td>\n",
       "      <td>38569.0</td>\n",
       "      <td>44070</td>\n",
       "      <td>0.306251</td>\n",
       "    </tr>\n",
       "    <tr>\n",
       "      <th>17</th>\n",
       "      <td>BELAGAVI</td>\n",
       "      <td>576758</td>\n",
       "      <td>48288.815130</td>\n",
       "      <td>11883.580</td>\n",
       "      <td>159047.086200</td>\n",
       "      <td>131163.0</td>\n",
       "      <td>139708</td>\n",
       "      <td>0.268283</td>\n",
       "    </tr>\n",
       "    <tr>\n",
       "      <th>18</th>\n",
       "      <td>VIJAYAPURA</td>\n",
       "      <td>226327</td>\n",
       "      <td>10420.071650</td>\n",
       "      <td>2682.760</td>\n",
       "      <td>48619.507080</td>\n",
       "      <td>40207.0</td>\n",
       "      <td>113515</td>\n",
       "      <td>0.192153</td>\n",
       "    </tr>\n",
       "    <tr>\n",
       "      <th>19</th>\n",
       "      <td>BAGALKOT</td>\n",
       "      <td>251699</td>\n",
       "      <td>22940.521250</td>\n",
       "      <td>5678.150</td>\n",
       "      <td>75578.052000</td>\n",
       "      <td>44300.0</td>\n",
       "      <td>117497</td>\n",
       "      <td>0.270487</td>\n",
       "    </tr>\n",
       "    <tr>\n",
       "      <th>20</th>\n",
       "      <td>DHARAWAD</td>\n",
       "      <td>90634</td>\n",
       "      <td>6447.725408</td>\n",
       "      <td>2471.350</td>\n",
       "      <td>33424.645600</td>\n",
       "      <td>30900.0</td>\n",
       "      <td>20816</td>\n",
       "      <td>0.172487</td>\n",
       "    </tr>\n",
       "    <tr>\n",
       "      <th>21</th>\n",
       "      <td>GADAG</td>\n",
       "      <td>138476</td>\n",
       "      <td>5591.244159</td>\n",
       "      <td>4111.000</td>\n",
       "      <td>34261.981770</td>\n",
       "      <td>34163.0</td>\n",
       "      <td>41664</td>\n",
       "      <td>0.240174</td>\n",
       "    </tr>\n",
       "    <tr>\n",
       "      <th>22</th>\n",
       "      <td>HAVERI</td>\n",
       "      <td>413487</td>\n",
       "      <td>21731.170720</td>\n",
       "      <td>11325.600</td>\n",
       "      <td>95150.640270</td>\n",
       "      <td>170696.0</td>\n",
       "      <td>63016</td>\n",
       "      <td>0.334321</td>\n",
       "    </tr>\n",
       "    <tr>\n",
       "      <th>23</th>\n",
       "      <td>UTTARA KANNADA</td>\n",
       "      <td>24088</td>\n",
       "      <td>1025.616827</td>\n",
       "      <td>1469.200</td>\n",
       "      <td>22563.771080</td>\n",
       "      <td>4576.0</td>\n",
       "      <td>8460</td>\n",
       "      <td>0.066964</td>\n",
       "    </tr>\n",
       "    <tr>\n",
       "      <th>24</th>\n",
       "      <td>BALLARI</td>\n",
       "      <td>104045</td>\n",
       "      <td>8404.154608</td>\n",
       "      <td>2859.005</td>\n",
       "      <td>23446.847900</td>\n",
       "      <td>49869.5</td>\n",
       "      <td>75198</td>\n",
       "      <td>0.136288</td>\n",
       "    </tr>\n",
       "    <tr>\n",
       "      <th>25</th>\n",
       "      <td>BIDAR</td>\n",
       "      <td>2791</td>\n",
       "      <td>249.381182</td>\n",
       "      <td>24.550</td>\n",
       "      <td>2371.831678</td>\n",
       "      <td>1382.0</td>\n",
       "      <td>19908</td>\n",
       "      <td>0.010114</td>\n",
       "    </tr>\n",
       "    <tr>\n",
       "      <th>26</th>\n",
       "      <td>KALABURAGI</td>\n",
       "      <td>14621</td>\n",
       "      <td>710.101614</td>\n",
       "      <td>165.000</td>\n",
       "      <td>6221.617910</td>\n",
       "      <td>2634.0</td>\n",
       "      <td>48802</td>\n",
       "      <td>0.013150</td>\n",
       "    </tr>\n",
       "    <tr>\n",
       "      <th>27</th>\n",
       "      <td>YADGIRI</td>\n",
       "      <td>2673</td>\n",
       "      <td>368.617469</td>\n",
       "      <td>0.000</td>\n",
       "      <td>1253.317144</td>\n",
       "      <td>961.0</td>\n",
       "      <td>22035</td>\n",
       "      <td>0.004033</td>\n",
       "    </tr>\n",
       "    <tr>\n",
       "      <th>28</th>\n",
       "      <td>RAICHUR</td>\n",
       "      <td>723</td>\n",
       "      <td>61.547519</td>\n",
       "      <td>14.350</td>\n",
       "      <td>188.537479</td>\n",
       "      <td>2600.0</td>\n",
       "      <td>26571</td>\n",
       "      <td>0.000525</td>\n",
       "    </tr>\n",
       "    <tr>\n",
       "      <th>29</th>\n",
       "      <td>KOPPAL</td>\n",
       "      <td>190252</td>\n",
       "      <td>10997.550400</td>\n",
       "      <td>5292.000</td>\n",
       "      <td>38936.400170</td>\n",
       "      <td>48210.0</td>\n",
       "      <td>82552</td>\n",
       "      <td>0.149521</td>\n",
       "    </tr>\n",
       "    <tr>\n",
       "      <th>30</th>\n",
       "      <td>VIJAYANAGARA</td>\n",
       "      <td>104045</td>\n",
       "      <td>8404.154608</td>\n",
       "      <td>2859.005</td>\n",
       "      <td>23446.847900</td>\n",
       "      <td>49869.5</td>\n",
       "      <td>75198</td>\n",
       "      <td>0.136288</td>\n",
       "    </tr>\n",
       "  </tbody>\n",
       "</table>\n",
       "</div>"
      ],
      "text/plain": [
       "            District  Maize_Production      TotalNPK  \\\n",
       "0          BENGALURU              2879    438.180210   \n",
       "1       BENGALURU(R)             42583   3036.080250   \n",
       "2         RAMANAGARA             10450    222.225258   \n",
       "3        CHITRADURGA            271975  10902.406570   \n",
       "4         DAVANAGERE            593544  25702.835480   \n",
       "5              KOLAR              1759    220.782906   \n",
       "6    CHIKKABALLAPURA            105491   8196.896749   \n",
       "7         SHIVAMOGGA            226532  10428.246260   \n",
       "8           TUMAKURU             66868   2746.313635   \n",
       "9     CHIKKAMAGALURU             61353   8156.290370   \n",
       "10  DAKSHINA KANNADA                 0      0.000000   \n",
       "11             UDUPI               109      2.304863   \n",
       "12            HASSAN            333937  17039.273890   \n",
       "13            KODAGU             17921   3519.022414   \n",
       "14            MANDYA             19387   1448.830355   \n",
       "15            MYSURU            137154   6945.331415   \n",
       "16    CHAMARAJANAGAR            147886   7289.684770   \n",
       "17          BELAGAVI            576758  48288.815130   \n",
       "18        VIJAYAPURA            226327  10420.071650   \n",
       "19          BAGALKOT            251699  22940.521250   \n",
       "20          DHARAWAD             90634   6447.725408   \n",
       "21             GADAG            138476   5591.244159   \n",
       "22            HAVERI            413487  21731.170720   \n",
       "23    UTTARA KANNADA             24088   1025.616827   \n",
       "24           BALLARI            104045   8404.154608   \n",
       "25             BIDAR              2791    249.381182   \n",
       "26        KALABURAGI             14621    710.101614   \n",
       "27           YADGIRI              2673    368.617469   \n",
       "28           RAICHUR               723     61.547519   \n",
       "29            KOPPAL            190252  10997.550400   \n",
       "30      VIJAYANAGARA            104045   8404.154608   \n",
       "\n",
       "    SowingSeedsDistributed_Maize  LivestockCensus_2012_Cattle  \\\n",
       "0                          4.450                  2567.461578   \n",
       "1                        134.730                 25037.139270   \n",
       "2                        260.150                  7729.614277   \n",
       "3                       5004.000                 83821.593090   \n",
       "4                       6124.600                 85657.632090   \n",
       "5                         51.500                  2278.829821   \n",
       "6                       3538.150                 71206.945310   \n",
       "7                       3814.020                104722.000400   \n",
       "8                       1639.850                 37944.093760   \n",
       "9                       2923.790                 40572.445630   \n",
       "10                         0.000                     0.000000   \n",
       "11                         0.000                    94.499008   \n",
       "12                      8925.330                151008.140300   \n",
       "13                       246.410                  7599.582730   \n",
       "14                       794.030                  8774.134623   \n",
       "15                      1573.430                 61547.727440   \n",
       "16                      2054.600                 80396.926680   \n",
       "17                     11883.580                159047.086200   \n",
       "18                      2682.760                 48619.507080   \n",
       "19                      5678.150                 75578.052000   \n",
       "20                      2471.350                 33424.645600   \n",
       "21                      4111.000                 34261.981770   \n",
       "22                     11325.600                 95150.640270   \n",
       "23                      1469.200                 22563.771080   \n",
       "24                      2859.005                 23446.847900   \n",
       "25                        24.550                  2371.831678   \n",
       "26                       165.000                  6221.617910   \n",
       "27                         0.000                  1253.317144   \n",
       "28                        14.350                   188.537479   \n",
       "29                      5292.000                 38936.400170   \n",
       "30                      2859.005                 23446.847900   \n",
       "\n",
       "    AreaUnderCereals_Maize  \\\n",
       "0                   1129.0   \n",
       "1                  14867.0   \n",
       "2                   1987.0   \n",
       "3                  92194.0   \n",
       "4                 173400.0   \n",
       "5                    640.0   \n",
       "6                  59377.0   \n",
       "7                  43827.0   \n",
       "8                  24207.0   \n",
       "9                  25831.0   \n",
       "10                     0.0   \n",
       "11                     8.0   \n",
       "12                 79058.0   \n",
       "13                  3448.0   \n",
       "14                  4892.0   \n",
       "15                 37283.0   \n",
       "16                 38569.0   \n",
       "17                131163.0   \n",
       "18                 40207.0   \n",
       "19                 44300.0   \n",
       "20                 30900.0   \n",
       "21                 34163.0   \n",
       "22                170696.0   \n",
       "23                  4576.0   \n",
       "24                 49869.5   \n",
       "25                  1382.0   \n",
       "26                  2634.0   \n",
       "27                   961.0   \n",
       "28                  2600.0   \n",
       "29                 48210.0   \n",
       "30                 49869.5   \n",
       "\n",
       "    NetAreaIrrigatedUnderDifferentSources_TubeWells_NetIrrigatedArea  \\\n",
       "0                                                9348                  \n",
       "1                                               20281                  \n",
       "2                                               23868                  \n",
       "3                                               92506                  \n",
       "4                                               78364                  \n",
       "5                                               20140                  \n",
       "6                                               50370                  \n",
       "7                                               32347                  \n",
       "8                                              144708                  \n",
       "9                                               26174                  \n",
       "10                                              16589                  \n",
       "11                                                699                  \n",
       "12                                              23393                  \n",
       "13                                                106                  \n",
       "14                                              16025                  \n",
       "15                                              19842                  \n",
       "16                                              44070                  \n",
       "17                                             139708                  \n",
       "18                                             113515                  \n",
       "19                                             117497                  \n",
       "20                                              20816                  \n",
       "21                                              41664                  \n",
       "22                                              63016                  \n",
       "23                                               8460                  \n",
       "24                                              75198                  \n",
       "25                                              19908                  \n",
       "26                                              48802                  \n",
       "27                                              22035                  \n",
       "28                                              26571                  \n",
       "29                                              82552                  \n",
       "30                                              75198                  \n",
       "\n",
       "    Maize_Ratio  \n",
       "0      0.018798  \n",
       "1      0.157645  \n",
       "2      0.029741  \n",
       "3      0.303824  \n",
       "4      0.257947  \n",
       "5      0.009950  \n",
       "6      0.289061  \n",
       "7      0.184215  \n",
       "8      0.071991  \n",
       "9      0.120188  \n",
       "10     0.000000  \n",
       "11     0.000375  \n",
       "12     0.248999  \n",
       "13     0.085941  \n",
       "14     0.023925  \n",
       "15     0.111996  \n",
       "16     0.306251  \n",
       "17     0.268283  \n",
       "18     0.192153  \n",
       "19     0.270487  \n",
       "20     0.172487  \n",
       "21     0.240174  \n",
       "22     0.334321  \n",
       "23     0.066964  \n",
       "24     0.136288  \n",
       "25     0.010114  \n",
       "26     0.013150  \n",
       "27     0.004033  \n",
       "28     0.000525  \n",
       "29     0.149521  \n",
       "30     0.136288  "
      ]
     },
     "execution_count": 43,
     "metadata": {},
     "output_type": "execute_result"
    }
   ],
   "source": [
    "Working_Directory"
   ]
  },
  {
   "cell_type": "code",
   "execution_count": 44,
   "metadata": {},
   "outputs": [],
   "source": [
    "y = y_st['Maize_Production']\n",
    "\n",
    "viz_df['Percentage Change'] = viz_df['New_Production'] - np.tile(y.values, len(viz_df) // case_file_length + 1)[:len(viz_df)]\n",
    "for i in range(0, len(viz_df), case_file_length):\n",
    "    viz_df.loc[i:i+case_file_length-1, 'Percentage Change'] = viz_df.loc[i:i+case_file_length-1, 'Percentage Change'] * 100 / y.values + 1e-9\n",
    "    # viz_df.loc[i:i+case_file_length-1, 'Normalized Percentage Change'] = normalize_list(viz_df.loc[i:i+case_file_length-1, 'Percentage Change'])\n",
    "\n",
    "viz_df['Percentage Change'] = viz_df['Percentage Change'].replace([np.inf, -np.inf], 0)"
   ]
  },
  {
   "cell_type": "code",
   "execution_count": 45,
   "metadata": {},
   "outputs": [],
   "source": [
    "result_df['Percentage Change'] = viz_df['Percentage Change']"
   ]
  },
  {
   "cell_type": "code",
   "execution_count": 46,
   "metadata": {},
   "outputs": [
    {
     "data": {
      "text/plain": [
       "4259.335323076923"
      ]
     },
     "execution_count": 46,
     "metadata": {},
     "output_type": "execute_result"
    }
   ],
   "source": [
    "delta_O"
   ]
  },
  {
   "cell_type": "code",
   "execution_count": 47,
   "metadata": {},
   "outputs": [
    {
     "data": {
      "text/plain": [
       "1137.3999999999999"
      ]
     },
     "execution_count": 47,
     "metadata": {},
     "output_type": "execute_result"
    }
   ],
   "source": [
    "Working_Directory['Maize_Production'].quantile(0.08)"
   ]
  },
  {
   "cell_type": "code",
   "execution_count": 48,
   "metadata": {},
   "outputs": [
    {
     "data": {
      "text/plain": [
       "0       2879\n",
       "1      42583\n",
       "2      10450\n",
       "3     271975\n",
       "4     593544\n",
       "5       1759\n",
       "6     105491\n",
       "7     226532\n",
       "8      66868\n",
       "9      61353\n",
       "10         0\n",
       "11       109\n",
       "12    333937\n",
       "13     17921\n",
       "14     19387\n",
       "15    137154\n",
       "16    147886\n",
       "17    576758\n",
       "18    226327\n",
       "19    251699\n",
       "20     90634\n",
       "21    138476\n",
       "22    413487\n",
       "23     24088\n",
       "24    104045\n",
       "25      2791\n",
       "26     14621\n",
       "27      2673\n",
       "28       723\n",
       "29    190252\n",
       "30    104045\n",
       "Name: Maize_Production, dtype: int64"
      ]
     },
     "execution_count": 48,
     "metadata": {},
     "output_type": "execute_result"
    }
   ],
   "source": [
    "Working_Directory['Maize_Production']"
   ]
  },
  {
   "cell_type": "code",
   "execution_count": 49,
   "metadata": {},
   "outputs": [
    {
     "data": {
      "text/html": [
       "<div>\n",
       "<style scoped>\n",
       "    .dataframe tbody tr th:only-of-type {\n",
       "        vertical-align: middle;\n",
       "    }\n",
       "\n",
       "    .dataframe tbody tr th {\n",
       "        vertical-align: top;\n",
       "    }\n",
       "\n",
       "    .dataframe thead th {\n",
       "        text-align: right;\n",
       "    }\n",
       "</style>\n",
       "<table border=\"1\" class=\"dataframe\">\n",
       "  <thead>\n",
       "    <tr style=\"text-align: right;\">\n",
       "      <th></th>\n",
       "      <th>District</th>\n",
       "      <th>Maize_Production</th>\n",
       "      <th>TotalNPK</th>\n",
       "      <th>SowingSeedsDistributed_Maize</th>\n",
       "      <th>LivestockCensus_2012_Cattle</th>\n",
       "      <th>AreaUnderCereals_Maize</th>\n",
       "      <th>NetAreaIrrigatedUnderDifferentSources_TubeWells_NetIrrigatedArea</th>\n",
       "      <th>Maize_Ratio</th>\n",
       "    </tr>\n",
       "  </thead>\n",
       "  <tbody>\n",
       "    <tr>\n",
       "      <th>0</th>\n",
       "      <td>BENGALURU</td>\n",
       "      <td>2879</td>\n",
       "      <td>438.180210</td>\n",
       "      <td>4.450</td>\n",
       "      <td>2567.461578</td>\n",
       "      <td>1129.0</td>\n",
       "      <td>9348</td>\n",
       "      <td>0.018798</td>\n",
       "    </tr>\n",
       "    <tr>\n",
       "      <th>1</th>\n",
       "      <td>BENGALURU(R)</td>\n",
       "      <td>42583</td>\n",
       "      <td>3036.080250</td>\n",
       "      <td>134.730</td>\n",
       "      <td>25037.139270</td>\n",
       "      <td>14867.0</td>\n",
       "      <td>20281</td>\n",
       "      <td>0.157645</td>\n",
       "    </tr>\n",
       "    <tr>\n",
       "      <th>2</th>\n",
       "      <td>RAMANAGARA</td>\n",
       "      <td>10450</td>\n",
       "      <td>222.225258</td>\n",
       "      <td>260.150</td>\n",
       "      <td>7729.614277</td>\n",
       "      <td>1987.0</td>\n",
       "      <td>23868</td>\n",
       "      <td>0.029741</td>\n",
       "    </tr>\n",
       "    <tr>\n",
       "      <th>3</th>\n",
       "      <td>CHITRADURGA</td>\n",
       "      <td>271975</td>\n",
       "      <td>10902.406570</td>\n",
       "      <td>5004.000</td>\n",
       "      <td>83821.593090</td>\n",
       "      <td>92194.0</td>\n",
       "      <td>92506</td>\n",
       "      <td>0.303824</td>\n",
       "    </tr>\n",
       "    <tr>\n",
       "      <th>4</th>\n",
       "      <td>DAVANAGERE</td>\n",
       "      <td>593544</td>\n",
       "      <td>25702.835480</td>\n",
       "      <td>6124.600</td>\n",
       "      <td>85657.632090</td>\n",
       "      <td>173400.0</td>\n",
       "      <td>78364</td>\n",
       "      <td>0.257947</td>\n",
       "    </tr>\n",
       "    <tr>\n",
       "      <th>5</th>\n",
       "      <td>KOLAR</td>\n",
       "      <td>1759</td>\n",
       "      <td>220.782906</td>\n",
       "      <td>51.500</td>\n",
       "      <td>2278.829821</td>\n",
       "      <td>640.0</td>\n",
       "      <td>20140</td>\n",
       "      <td>0.009950</td>\n",
       "    </tr>\n",
       "    <tr>\n",
       "      <th>6</th>\n",
       "      <td>CHIKKABALLAPURA</td>\n",
       "      <td>105491</td>\n",
       "      <td>8196.896749</td>\n",
       "      <td>3538.150</td>\n",
       "      <td>71206.945310</td>\n",
       "      <td>59377.0</td>\n",
       "      <td>50370</td>\n",
       "      <td>0.289061</td>\n",
       "    </tr>\n",
       "    <tr>\n",
       "      <th>7</th>\n",
       "      <td>SHIVAMOGGA</td>\n",
       "      <td>226532</td>\n",
       "      <td>10428.246260</td>\n",
       "      <td>3814.020</td>\n",
       "      <td>104722.000400</td>\n",
       "      <td>43827.0</td>\n",
       "      <td>32347</td>\n",
       "      <td>0.184215</td>\n",
       "    </tr>\n",
       "    <tr>\n",
       "      <th>8</th>\n",
       "      <td>TUMAKURU</td>\n",
       "      <td>66868</td>\n",
       "      <td>2746.313635</td>\n",
       "      <td>1639.850</td>\n",
       "      <td>37944.093760</td>\n",
       "      <td>24207.0</td>\n",
       "      <td>144708</td>\n",
       "      <td>0.071991</td>\n",
       "    </tr>\n",
       "    <tr>\n",
       "      <th>9</th>\n",
       "      <td>CHIKKAMAGALURU</td>\n",
       "      <td>61353</td>\n",
       "      <td>8156.290370</td>\n",
       "      <td>2923.790</td>\n",
       "      <td>40572.445630</td>\n",
       "      <td>25831.0</td>\n",
       "      <td>26174</td>\n",
       "      <td>0.120188</td>\n",
       "    </tr>\n",
       "    <tr>\n",
       "      <th>10</th>\n",
       "      <td>DAKSHINA KANNADA</td>\n",
       "      <td>0</td>\n",
       "      <td>0.000000</td>\n",
       "      <td>0.000</td>\n",
       "      <td>0.000000</td>\n",
       "      <td>0.0</td>\n",
       "      <td>16589</td>\n",
       "      <td>0.000000</td>\n",
       "    </tr>\n",
       "    <tr>\n",
       "      <th>11</th>\n",
       "      <td>UDUPI</td>\n",
       "      <td>109</td>\n",
       "      <td>2.304863</td>\n",
       "      <td>0.000</td>\n",
       "      <td>94.499008</td>\n",
       "      <td>8.0</td>\n",
       "      <td>699</td>\n",
       "      <td>0.000375</td>\n",
       "    </tr>\n",
       "    <tr>\n",
       "      <th>12</th>\n",
       "      <td>HASSAN</td>\n",
       "      <td>333937</td>\n",
       "      <td>17039.273890</td>\n",
       "      <td>8925.330</td>\n",
       "      <td>151008.140300</td>\n",
       "      <td>79058.0</td>\n",
       "      <td>23393</td>\n",
       "      <td>0.248999</td>\n",
       "    </tr>\n",
       "    <tr>\n",
       "      <th>13</th>\n",
       "      <td>KODAGU</td>\n",
       "      <td>17921</td>\n",
       "      <td>3519.022414</td>\n",
       "      <td>246.410</td>\n",
       "      <td>7599.582730</td>\n",
       "      <td>3448.0</td>\n",
       "      <td>106</td>\n",
       "      <td>0.085941</td>\n",
       "    </tr>\n",
       "    <tr>\n",
       "      <th>14</th>\n",
       "      <td>MANDYA</td>\n",
       "      <td>19387</td>\n",
       "      <td>1448.830355</td>\n",
       "      <td>794.030</td>\n",
       "      <td>8774.134623</td>\n",
       "      <td>4892.0</td>\n",
       "      <td>16025</td>\n",
       "      <td>0.023925</td>\n",
       "    </tr>\n",
       "    <tr>\n",
       "      <th>15</th>\n",
       "      <td>MYSURU</td>\n",
       "      <td>137154</td>\n",
       "      <td>6945.331415</td>\n",
       "      <td>1573.430</td>\n",
       "      <td>61547.727440</td>\n",
       "      <td>37283.0</td>\n",
       "      <td>19842</td>\n",
       "      <td>0.111996</td>\n",
       "    </tr>\n",
       "    <tr>\n",
       "      <th>16</th>\n",
       "      <td>CHAMARAJANAGAR</td>\n",
       "      <td>147886</td>\n",
       "      <td>7289.684770</td>\n",
       "      <td>2054.600</td>\n",
       "      <td>80396.926680</td>\n",
       "      <td>38569.0</td>\n",
       "      <td>44070</td>\n",
       "      <td>0.306251</td>\n",
       "    </tr>\n",
       "    <tr>\n",
       "      <th>17</th>\n",
       "      <td>BELAGAVI</td>\n",
       "      <td>576758</td>\n",
       "      <td>48288.815130</td>\n",
       "      <td>11883.580</td>\n",
       "      <td>159047.086200</td>\n",
       "      <td>131163.0</td>\n",
       "      <td>139708</td>\n",
       "      <td>0.268283</td>\n",
       "    </tr>\n",
       "    <tr>\n",
       "      <th>18</th>\n",
       "      <td>VIJAYAPURA</td>\n",
       "      <td>226327</td>\n",
       "      <td>10420.071650</td>\n",
       "      <td>2682.760</td>\n",
       "      <td>48619.507080</td>\n",
       "      <td>40207.0</td>\n",
       "      <td>113515</td>\n",
       "      <td>0.192153</td>\n",
       "    </tr>\n",
       "    <tr>\n",
       "      <th>19</th>\n",
       "      <td>BAGALKOT</td>\n",
       "      <td>251699</td>\n",
       "      <td>22940.521250</td>\n",
       "      <td>5678.150</td>\n",
       "      <td>75578.052000</td>\n",
       "      <td>44300.0</td>\n",
       "      <td>117497</td>\n",
       "      <td>0.270487</td>\n",
       "    </tr>\n",
       "    <tr>\n",
       "      <th>20</th>\n",
       "      <td>DHARAWAD</td>\n",
       "      <td>90634</td>\n",
       "      <td>6447.725408</td>\n",
       "      <td>2471.350</td>\n",
       "      <td>33424.645600</td>\n",
       "      <td>30900.0</td>\n",
       "      <td>20816</td>\n",
       "      <td>0.172487</td>\n",
       "    </tr>\n",
       "    <tr>\n",
       "      <th>21</th>\n",
       "      <td>GADAG</td>\n",
       "      <td>138476</td>\n",
       "      <td>5591.244159</td>\n",
       "      <td>4111.000</td>\n",
       "      <td>34261.981770</td>\n",
       "      <td>34163.0</td>\n",
       "      <td>41664</td>\n",
       "      <td>0.240174</td>\n",
       "    </tr>\n",
       "    <tr>\n",
       "      <th>22</th>\n",
       "      <td>HAVERI</td>\n",
       "      <td>413487</td>\n",
       "      <td>21731.170720</td>\n",
       "      <td>11325.600</td>\n",
       "      <td>95150.640270</td>\n",
       "      <td>170696.0</td>\n",
       "      <td>63016</td>\n",
       "      <td>0.334321</td>\n",
       "    </tr>\n",
       "    <tr>\n",
       "      <th>23</th>\n",
       "      <td>UTTARA KANNADA</td>\n",
       "      <td>24088</td>\n",
       "      <td>1025.616827</td>\n",
       "      <td>1469.200</td>\n",
       "      <td>22563.771080</td>\n",
       "      <td>4576.0</td>\n",
       "      <td>8460</td>\n",
       "      <td>0.066964</td>\n",
       "    </tr>\n",
       "    <tr>\n",
       "      <th>24</th>\n",
       "      <td>BALLARI</td>\n",
       "      <td>104045</td>\n",
       "      <td>8404.154608</td>\n",
       "      <td>2859.005</td>\n",
       "      <td>23446.847900</td>\n",
       "      <td>49869.5</td>\n",
       "      <td>75198</td>\n",
       "      <td>0.136288</td>\n",
       "    </tr>\n",
       "    <tr>\n",
       "      <th>25</th>\n",
       "      <td>BIDAR</td>\n",
       "      <td>2791</td>\n",
       "      <td>249.381182</td>\n",
       "      <td>24.550</td>\n",
       "      <td>2371.831678</td>\n",
       "      <td>1382.0</td>\n",
       "      <td>19908</td>\n",
       "      <td>0.010114</td>\n",
       "    </tr>\n",
       "    <tr>\n",
       "      <th>26</th>\n",
       "      <td>KALABURAGI</td>\n",
       "      <td>14621</td>\n",
       "      <td>710.101614</td>\n",
       "      <td>165.000</td>\n",
       "      <td>6221.617910</td>\n",
       "      <td>2634.0</td>\n",
       "      <td>48802</td>\n",
       "      <td>0.013150</td>\n",
       "    </tr>\n",
       "    <tr>\n",
       "      <th>27</th>\n",
       "      <td>YADGIRI</td>\n",
       "      <td>2673</td>\n",
       "      <td>368.617469</td>\n",
       "      <td>0.000</td>\n",
       "      <td>1253.317144</td>\n",
       "      <td>961.0</td>\n",
       "      <td>22035</td>\n",
       "      <td>0.004033</td>\n",
       "    </tr>\n",
       "    <tr>\n",
       "      <th>28</th>\n",
       "      <td>RAICHUR</td>\n",
       "      <td>723</td>\n",
       "      <td>61.547519</td>\n",
       "      <td>14.350</td>\n",
       "      <td>188.537479</td>\n",
       "      <td>2600.0</td>\n",
       "      <td>26571</td>\n",
       "      <td>0.000525</td>\n",
       "    </tr>\n",
       "    <tr>\n",
       "      <th>29</th>\n",
       "      <td>KOPPAL</td>\n",
       "      <td>190252</td>\n",
       "      <td>10997.550400</td>\n",
       "      <td>5292.000</td>\n",
       "      <td>38936.400170</td>\n",
       "      <td>48210.0</td>\n",
       "      <td>82552</td>\n",
       "      <td>0.149521</td>\n",
       "    </tr>\n",
       "    <tr>\n",
       "      <th>30</th>\n",
       "      <td>VIJAYANAGARA</td>\n",
       "      <td>104045</td>\n",
       "      <td>8404.154608</td>\n",
       "      <td>2859.005</td>\n",
       "      <td>23446.847900</td>\n",
       "      <td>49869.5</td>\n",
       "      <td>75198</td>\n",
       "      <td>0.136288</td>\n",
       "    </tr>\n",
       "  </tbody>\n",
       "</table>\n",
       "</div>"
      ],
      "text/plain": [
       "            District  Maize_Production      TotalNPK  \\\n",
       "0          BENGALURU              2879    438.180210   \n",
       "1       BENGALURU(R)             42583   3036.080250   \n",
       "2         RAMANAGARA             10450    222.225258   \n",
       "3        CHITRADURGA            271975  10902.406570   \n",
       "4         DAVANAGERE            593544  25702.835480   \n",
       "5              KOLAR              1759    220.782906   \n",
       "6    CHIKKABALLAPURA            105491   8196.896749   \n",
       "7         SHIVAMOGGA            226532  10428.246260   \n",
       "8           TUMAKURU             66868   2746.313635   \n",
       "9     CHIKKAMAGALURU             61353   8156.290370   \n",
       "10  DAKSHINA KANNADA                 0      0.000000   \n",
       "11             UDUPI               109      2.304863   \n",
       "12            HASSAN            333937  17039.273890   \n",
       "13            KODAGU             17921   3519.022414   \n",
       "14            MANDYA             19387   1448.830355   \n",
       "15            MYSURU            137154   6945.331415   \n",
       "16    CHAMARAJANAGAR            147886   7289.684770   \n",
       "17          BELAGAVI            576758  48288.815130   \n",
       "18        VIJAYAPURA            226327  10420.071650   \n",
       "19          BAGALKOT            251699  22940.521250   \n",
       "20          DHARAWAD             90634   6447.725408   \n",
       "21             GADAG            138476   5591.244159   \n",
       "22            HAVERI            413487  21731.170720   \n",
       "23    UTTARA KANNADA             24088   1025.616827   \n",
       "24           BALLARI            104045   8404.154608   \n",
       "25             BIDAR              2791    249.381182   \n",
       "26        KALABURAGI             14621    710.101614   \n",
       "27           YADGIRI              2673    368.617469   \n",
       "28           RAICHUR               723     61.547519   \n",
       "29            KOPPAL            190252  10997.550400   \n",
       "30      VIJAYANAGARA            104045   8404.154608   \n",
       "\n",
       "    SowingSeedsDistributed_Maize  LivestockCensus_2012_Cattle  \\\n",
       "0                          4.450                  2567.461578   \n",
       "1                        134.730                 25037.139270   \n",
       "2                        260.150                  7729.614277   \n",
       "3                       5004.000                 83821.593090   \n",
       "4                       6124.600                 85657.632090   \n",
       "5                         51.500                  2278.829821   \n",
       "6                       3538.150                 71206.945310   \n",
       "7                       3814.020                104722.000400   \n",
       "8                       1639.850                 37944.093760   \n",
       "9                       2923.790                 40572.445630   \n",
       "10                         0.000                     0.000000   \n",
       "11                         0.000                    94.499008   \n",
       "12                      8925.330                151008.140300   \n",
       "13                       246.410                  7599.582730   \n",
       "14                       794.030                  8774.134623   \n",
       "15                      1573.430                 61547.727440   \n",
       "16                      2054.600                 80396.926680   \n",
       "17                     11883.580                159047.086200   \n",
       "18                      2682.760                 48619.507080   \n",
       "19                      5678.150                 75578.052000   \n",
       "20                      2471.350                 33424.645600   \n",
       "21                      4111.000                 34261.981770   \n",
       "22                     11325.600                 95150.640270   \n",
       "23                      1469.200                 22563.771080   \n",
       "24                      2859.005                 23446.847900   \n",
       "25                        24.550                  2371.831678   \n",
       "26                       165.000                  6221.617910   \n",
       "27                         0.000                  1253.317144   \n",
       "28                        14.350                   188.537479   \n",
       "29                      5292.000                 38936.400170   \n",
       "30                      2859.005                 23446.847900   \n",
       "\n",
       "    AreaUnderCereals_Maize  \\\n",
       "0                   1129.0   \n",
       "1                  14867.0   \n",
       "2                   1987.0   \n",
       "3                  92194.0   \n",
       "4                 173400.0   \n",
       "5                    640.0   \n",
       "6                  59377.0   \n",
       "7                  43827.0   \n",
       "8                  24207.0   \n",
       "9                  25831.0   \n",
       "10                     0.0   \n",
       "11                     8.0   \n",
       "12                 79058.0   \n",
       "13                  3448.0   \n",
       "14                  4892.0   \n",
       "15                 37283.0   \n",
       "16                 38569.0   \n",
       "17                131163.0   \n",
       "18                 40207.0   \n",
       "19                 44300.0   \n",
       "20                 30900.0   \n",
       "21                 34163.0   \n",
       "22                170696.0   \n",
       "23                  4576.0   \n",
       "24                 49869.5   \n",
       "25                  1382.0   \n",
       "26                  2634.0   \n",
       "27                   961.0   \n",
       "28                  2600.0   \n",
       "29                 48210.0   \n",
       "30                 49869.5   \n",
       "\n",
       "    NetAreaIrrigatedUnderDifferentSources_TubeWells_NetIrrigatedArea  \\\n",
       "0                                                9348                  \n",
       "1                                               20281                  \n",
       "2                                               23868                  \n",
       "3                                               92506                  \n",
       "4                                               78364                  \n",
       "5                                               20140                  \n",
       "6                                               50370                  \n",
       "7                                               32347                  \n",
       "8                                              144708                  \n",
       "9                                               26174                  \n",
       "10                                              16589                  \n",
       "11                                                699                  \n",
       "12                                              23393                  \n",
       "13                                                106                  \n",
       "14                                              16025                  \n",
       "15                                              19842                  \n",
       "16                                              44070                  \n",
       "17                                             139708                  \n",
       "18                                             113515                  \n",
       "19                                             117497                  \n",
       "20                                              20816                  \n",
       "21                                              41664                  \n",
       "22                                              63016                  \n",
       "23                                               8460                  \n",
       "24                                              75198                  \n",
       "25                                              19908                  \n",
       "26                                              48802                  \n",
       "27                                              22035                  \n",
       "28                                              26571                  \n",
       "29                                              82552                  \n",
       "30                                              75198                  \n",
       "\n",
       "    Maize_Ratio  \n",
       "0      0.018798  \n",
       "1      0.157645  \n",
       "2      0.029741  \n",
       "3      0.303824  \n",
       "4      0.257947  \n",
       "5      0.009950  \n",
       "6      0.289061  \n",
       "7      0.184215  \n",
       "8      0.071991  \n",
       "9      0.120188  \n",
       "10     0.000000  \n",
       "11     0.000375  \n",
       "12     0.248999  \n",
       "13     0.085941  \n",
       "14     0.023925  \n",
       "15     0.111996  \n",
       "16     0.306251  \n",
       "17     0.268283  \n",
       "18     0.192153  \n",
       "19     0.270487  \n",
       "20     0.172487  \n",
       "21     0.240174  \n",
       "22     0.334321  \n",
       "23     0.066964  \n",
       "24     0.136288  \n",
       "25     0.010114  \n",
       "26     0.013150  \n",
       "27     0.004033  \n",
       "28     0.000525  \n",
       "29     0.149521  \n",
       "30     0.136288  "
      ]
     },
     "execution_count": 49,
     "metadata": {},
     "output_type": "execute_result"
    }
   ],
   "source": [
    "Working_Directory"
   ]
  },
  {
   "cell_type": "code",
   "execution_count": 50,
   "metadata": {},
   "outputs": [
    {
     "data": {
      "application/vnd.plotly.v1+json": {
       "config": {
        "plotlyServerURL": "https://plot.ly"
       },
       "data": [
        {
         "hovertemplate": "color=darkblue<br>Stability=%{x}<br>Percentage Change=%{y}<br>Abbreviation=%{text}<extra></extra>",
         "legendgroup": "darkblue",
         "marker": {
          "color": "darkblue",
          "opacity": 1,
          "symbol": "circle"
         },
         "mode": "markers+text",
         "name": "darkblue",
         "orientation": "v",
         "showlegend": true,
         "text": [
          "BLR",
          "BLR(R)",
          "CDA",
          "KLR",
          "CKA",
          "TKR",
          "CMG",
          "KDG",
          "MDY",
          "MYS",
          "CNR",
          "BLG",
          "BKT",
          "DWD",
          "HVR",
          "UTK",
          "BLL",
          "BDR",
          "YDR",
          "VJN"
         ],
         "textfont": {
          "size": 11
         },
         "textposition": "top center",
         "type": "scatter",
         "x": [
          0.9431934631334666,
          1,
          0.8021442857172584,
          0.7478113722665669,
          0.698571604179711,
          0.9217731370585972,
          0.8166301791232945,
          0.73071315790836,
          0.5551617817446873,
          0.6376134941235951,
          0.9628372765252357,
          0,
          0.7789297614726478,
          0.8742877262545554,
          0.2282753129076781,
          0.6373575686352568,
          0.8875371959391443,
          0.5492006720740435,
          0.6552967988499611,
          0.9818687449315621
         ],
         "xaxis": "x",
         "y": [
          67.03355161040544,
          34.78710099953623,
          1.0473111648417417,
          42.3408909035046,
          83.3092413108378,
          19.31286474087852,
          88.67358728784464,
          66.39639398760956,
          8.259230520497555,
          2.9428947148518843,
          5.749213108953663,
          5.032293093338718,
          1.3568213917944199,
          22.10565342759058,
          17.096672919017475,
          7.655747480504603,
          44.218565638618955,
          44.898460943721425,
          25.10927444065789,
          44.218565638618955
         ],
         "yaxis": "y"
        },
        {
         "hovertemplate": "color=red<br>Stability=%{x}<br>Percentage Change=%{y}<br>Abbreviation=%{text}<extra></extra>",
         "legendgroup": "red",
         "marker": {
          "color": "red",
          "opacity": 1,
          "symbol": "circle"
         },
         "mode": "markers+text",
         "name": "red",
         "orientation": "v",
         "showlegend": true,
         "text": [
          "RGA",
          "DVG",
          "SMG",
          "HSN",
          "VJP",
          "GDG",
          "KLB",
          "KPL"
         ],
         "textfont": {
          "size": 11
         },
         "textposition": "top center",
         "type": "scatter",
         "x": [
          0.8289361898534298,
          0.26676936652689087,
          0.9248144888798113,
          0.48794268606360525,
          0.7999196646922853,
          0.9623427123793225,
          0.5311544104228934,
          0.8295186323874932
         ],
         "xaxis": "x",
         "y": [
          -22.867096075956447,
          -14.636086691680463,
          -12.541539777087669,
          -2.3391862576595157,
          -29.66451016238829,
          -19.148799288225298,
          -23.496134033782344,
          -10.018724436361769
         ],
         "yaxis": "y"
        },
        {
         "marker": {
          "color": "darkblue"
         },
         "mode": "markers",
         "name": "BLR: BENGALURU",
         "type": "scatter",
         "x": [
          null
         ],
         "y": [
          null
         ]
        },
        {
         "marker": {
          "color": "darkblue"
         },
         "mode": "markers",
         "name": "BLR(R): BENGALURU(R)",
         "type": "scatter",
         "x": [
          null
         ],
         "y": [
          null
         ]
        },
        {
         "marker": {
          "color": "darkblue"
         },
         "mode": "markers",
         "name": "RGA: RAMANAGARA",
         "type": "scatter",
         "x": [
          null
         ],
         "y": [
          null
         ]
        },
        {
         "marker": {
          "color": "darkblue"
         },
         "mode": "markers",
         "name": "CDA: CHITRADURGA",
         "type": "scatter",
         "x": [
          null
         ],
         "y": [
          null
         ]
        },
        {
         "marker": {
          "color": "darkblue"
         },
         "mode": "markers",
         "name": "DVG: DAVANAGERE",
         "type": "scatter",
         "x": [
          null
         ],
         "y": [
          null
         ]
        },
        {
         "marker": {
          "color": "darkblue"
         },
         "mode": "markers",
         "name": "KLR: KOLAR",
         "type": "scatter",
         "x": [
          null
         ],
         "y": [
          null
         ]
        },
        {
         "marker": {
          "color": "darkblue"
         },
         "mode": "markers",
         "name": "CKA: CHIKKABALLAPURA",
         "type": "scatter",
         "x": [
          null
         ],
         "y": [
          null
         ]
        },
        {
         "marker": {
          "color": "darkblue"
         },
         "mode": "markers",
         "name": "SMG: SHIVAMOGGA",
         "type": "scatter",
         "x": [
          null
         ],
         "y": [
          null
         ]
        },
        {
         "marker": {
          "color": "darkblue"
         },
         "mode": "markers",
         "name": "TKR: TUMAKURU",
         "type": "scatter",
         "x": [
          null
         ],
         "y": [
          null
         ]
        },
        {
         "marker": {
          "color": "darkblue"
         },
         "mode": "markers",
         "name": "CMG: CHIKKAMAGALURU",
         "type": "scatter",
         "x": [
          null
         ],
         "y": [
          null
         ]
        },
        {
         "marker": {
          "color": "darkblue"
         },
         "mode": "markers",
         "name": "HSN: HASSAN",
         "type": "scatter",
         "x": [
          null
         ],
         "y": [
          null
         ]
        },
        {
         "marker": {
          "color": "darkblue"
         },
         "mode": "markers",
         "name": "KDG: KODAGU",
         "type": "scatter",
         "x": [
          null
         ],
         "y": [
          null
         ]
        },
        {
         "marker": {
          "color": "darkblue"
         },
         "mode": "markers",
         "name": "MDY: MANDYA",
         "type": "scatter",
         "x": [
          null
         ],
         "y": [
          null
         ]
        },
        {
         "marker": {
          "color": "darkblue"
         },
         "mode": "markers",
         "name": "MYS: MYSURU",
         "type": "scatter",
         "x": [
          null
         ],
         "y": [
          null
         ]
        },
        {
         "marker": {
          "color": "darkblue"
         },
         "mode": "markers",
         "name": "CNR: CHAMARAJANAGAR",
         "type": "scatter",
         "x": [
          null
         ],
         "y": [
          null
         ]
        },
        {
         "marker": {
          "color": "darkblue"
         },
         "mode": "markers",
         "name": "BLG: BELAGAVI",
         "type": "scatter",
         "x": [
          null
         ],
         "y": [
          null
         ]
        },
        {
         "marker": {
          "color": "darkblue"
         },
         "mode": "markers",
         "name": "VJP: VIJAYAPURA",
         "type": "scatter",
         "x": [
          null
         ],
         "y": [
          null
         ]
        },
        {
         "marker": {
          "color": "darkblue"
         },
         "mode": "markers",
         "name": "BKT: BAGALKOT",
         "type": "scatter",
         "x": [
          null
         ],
         "y": [
          null
         ]
        },
        {
         "marker": {
          "color": "darkblue"
         },
         "mode": "markers",
         "name": "DWD: DHARAWAD",
         "type": "scatter",
         "x": [
          null
         ],
         "y": [
          null
         ]
        },
        {
         "marker": {
          "color": "darkblue"
         },
         "mode": "markers",
         "name": "GDG: GADAG",
         "type": "scatter",
         "x": [
          null
         ],
         "y": [
          null
         ]
        },
        {
         "marker": {
          "color": "darkblue"
         },
         "mode": "markers",
         "name": "HVR: HAVERI",
         "type": "scatter",
         "x": [
          null
         ],
         "y": [
          null
         ]
        },
        {
         "marker": {
          "color": "darkblue"
         },
         "mode": "markers",
         "name": "UTK: UTTARA KANNADA",
         "type": "scatter",
         "x": [
          null
         ],
         "y": [
          null
         ]
        },
        {
         "marker": {
          "color": "darkblue"
         },
         "mode": "markers",
         "name": "BLL: BALLARI",
         "type": "scatter",
         "x": [
          null
         ],
         "y": [
          null
         ]
        },
        {
         "marker": {
          "color": "darkblue"
         },
         "mode": "markers",
         "name": "BDR: BIDAR",
         "type": "scatter",
         "x": [
          null
         ],
         "y": [
          null
         ]
        },
        {
         "marker": {
          "color": "darkblue"
         },
         "mode": "markers",
         "name": "KLB: KALABURAGI",
         "type": "scatter",
         "x": [
          null
         ],
         "y": [
          null
         ]
        },
        {
         "marker": {
          "color": "darkblue"
         },
         "mode": "markers",
         "name": "YDR: YADGIRI",
         "type": "scatter",
         "x": [
          null
         ],
         "y": [
          null
         ]
        },
        {
         "marker": {
          "color": "darkblue"
         },
         "mode": "markers",
         "name": "KPL: KOPPAL",
         "type": "scatter",
         "x": [
          null
         ],
         "y": [
          null
         ]
        },
        {
         "marker": {
          "color": "darkblue"
         },
         "mode": "markers",
         "name": "VJN: VIJAYANAGARA",
         "type": "scatter",
         "x": [
          null
         ],
         "y": [
          null
         ]
        },
        {
         "mode": "text",
         "showlegend": false,
         "text": [
          "Avg Impact: 17.74"
         ],
         "textfont": {
          "size": 10.7
         },
         "type": "scatter",
         "x": [
          0.3
         ],
         "y": [
          22.24400923573153
         ]
        }
       ],
       "layout": {
        "annotations": [
         {
          "font": {
           "size": 13
          },
          "showarrow": false,
          "text": " α<sub>LV</sub>: 0.50, α<sub>AM</sub>: 0.50, α<sub>NPK</sub>: 0.50",
          "x": 0.5,
          "xref": "paper",
          "y": -0.25,
          "yref": "paper"
         },
         {
          "font": {
           "size": 10.7
          },
          "showarrow": false,
          "text": "Avg Stability: 0.72",
          "textangle": 90,
          "x": 0.7232357744304053,
          "y": -0.07
         }
        ],
        "legend": {
         "title": {
          "font": {
           "size": 12
          },
          "text": "Districts"
         },
         "tracegroupgap": 0
        },
        "shapes": [
         {
          "line": {
           "color": "black",
           "dash": "dash",
           "width": 1.5
          },
          "type": "line",
          "x0": 0.7157357744304054,
          "x1": 0.7157357744304054,
          "y0": 0,
          "y1": 1,
          "yref": "paper"
         },
         {
          "line": {
           "color": "black",
           "dash": "dash",
           "width": 1.5
          },
          "type": "line",
          "x0": 0,
          "x1": 1,
          "xref": "paper",
          "y0": 17.74400923573153,
          "y1": 17.74400923573153
         }
        ],
        "template": {
         "data": {
          "bar": [
           {
            "error_x": {
             "color": "#2a3f5f"
            },
            "error_y": {
             "color": "#2a3f5f"
            },
            "marker": {
             "line": {
              "color": "#E5ECF6",
              "width": 0.5
             },
             "pattern": {
              "fillmode": "overlay",
              "size": 10,
              "solidity": 0.2
             }
            },
            "type": "bar"
           }
          ],
          "barpolar": [
           {
            "marker": {
             "line": {
              "color": "#E5ECF6",
              "width": 0.5
             },
             "pattern": {
              "fillmode": "overlay",
              "size": 10,
              "solidity": 0.2
             }
            },
            "type": "barpolar"
           }
          ],
          "carpet": [
           {
            "aaxis": {
             "endlinecolor": "#2a3f5f",
             "gridcolor": "white",
             "linecolor": "white",
             "minorgridcolor": "white",
             "startlinecolor": "#2a3f5f"
            },
            "baxis": {
             "endlinecolor": "#2a3f5f",
             "gridcolor": "white",
             "linecolor": "white",
             "minorgridcolor": "white",
             "startlinecolor": "#2a3f5f"
            },
            "type": "carpet"
           }
          ],
          "choropleth": [
           {
            "colorbar": {
             "outlinewidth": 0,
             "ticks": ""
            },
            "type": "choropleth"
           }
          ],
          "contour": [
           {
            "colorbar": {
             "outlinewidth": 0,
             "ticks": ""
            },
            "colorscale": [
             [
              0,
              "#0d0887"
             ],
             [
              0.1111111111111111,
              "#46039f"
             ],
             [
              0.2222222222222222,
              "#7201a8"
             ],
             [
              0.3333333333333333,
              "#9c179e"
             ],
             [
              0.4444444444444444,
              "#bd3786"
             ],
             [
              0.5555555555555556,
              "#d8576b"
             ],
             [
              0.6666666666666666,
              "#ed7953"
             ],
             [
              0.7777777777777778,
              "#fb9f3a"
             ],
             [
              0.8888888888888888,
              "#fdca26"
             ],
             [
              1,
              "#f0f921"
             ]
            ],
            "type": "contour"
           }
          ],
          "contourcarpet": [
           {
            "colorbar": {
             "outlinewidth": 0,
             "ticks": ""
            },
            "type": "contourcarpet"
           }
          ],
          "heatmap": [
           {
            "colorbar": {
             "outlinewidth": 0,
             "ticks": ""
            },
            "colorscale": [
             [
              0,
              "#0d0887"
             ],
             [
              0.1111111111111111,
              "#46039f"
             ],
             [
              0.2222222222222222,
              "#7201a8"
             ],
             [
              0.3333333333333333,
              "#9c179e"
             ],
             [
              0.4444444444444444,
              "#bd3786"
             ],
             [
              0.5555555555555556,
              "#d8576b"
             ],
             [
              0.6666666666666666,
              "#ed7953"
             ],
             [
              0.7777777777777778,
              "#fb9f3a"
             ],
             [
              0.8888888888888888,
              "#fdca26"
             ],
             [
              1,
              "#f0f921"
             ]
            ],
            "type": "heatmap"
           }
          ],
          "heatmapgl": [
           {
            "colorbar": {
             "outlinewidth": 0,
             "ticks": ""
            },
            "colorscale": [
             [
              0,
              "#0d0887"
             ],
             [
              0.1111111111111111,
              "#46039f"
             ],
             [
              0.2222222222222222,
              "#7201a8"
             ],
             [
              0.3333333333333333,
              "#9c179e"
             ],
             [
              0.4444444444444444,
              "#bd3786"
             ],
             [
              0.5555555555555556,
              "#d8576b"
             ],
             [
              0.6666666666666666,
              "#ed7953"
             ],
             [
              0.7777777777777778,
              "#fb9f3a"
             ],
             [
              0.8888888888888888,
              "#fdca26"
             ],
             [
              1,
              "#f0f921"
             ]
            ],
            "type": "heatmapgl"
           }
          ],
          "histogram": [
           {
            "marker": {
             "pattern": {
              "fillmode": "overlay",
              "size": 10,
              "solidity": 0.2
             }
            },
            "type": "histogram"
           }
          ],
          "histogram2d": [
           {
            "colorbar": {
             "outlinewidth": 0,
             "ticks": ""
            },
            "colorscale": [
             [
              0,
              "#0d0887"
             ],
             [
              0.1111111111111111,
              "#46039f"
             ],
             [
              0.2222222222222222,
              "#7201a8"
             ],
             [
              0.3333333333333333,
              "#9c179e"
             ],
             [
              0.4444444444444444,
              "#bd3786"
             ],
             [
              0.5555555555555556,
              "#d8576b"
             ],
             [
              0.6666666666666666,
              "#ed7953"
             ],
             [
              0.7777777777777778,
              "#fb9f3a"
             ],
             [
              0.8888888888888888,
              "#fdca26"
             ],
             [
              1,
              "#f0f921"
             ]
            ],
            "type": "histogram2d"
           }
          ],
          "histogram2dcontour": [
           {
            "colorbar": {
             "outlinewidth": 0,
             "ticks": ""
            },
            "colorscale": [
             [
              0,
              "#0d0887"
             ],
             [
              0.1111111111111111,
              "#46039f"
             ],
             [
              0.2222222222222222,
              "#7201a8"
             ],
             [
              0.3333333333333333,
              "#9c179e"
             ],
             [
              0.4444444444444444,
              "#bd3786"
             ],
             [
              0.5555555555555556,
              "#d8576b"
             ],
             [
              0.6666666666666666,
              "#ed7953"
             ],
             [
              0.7777777777777778,
              "#fb9f3a"
             ],
             [
              0.8888888888888888,
              "#fdca26"
             ],
             [
              1,
              "#f0f921"
             ]
            ],
            "type": "histogram2dcontour"
           }
          ],
          "mesh3d": [
           {
            "colorbar": {
             "outlinewidth": 0,
             "ticks": ""
            },
            "type": "mesh3d"
           }
          ],
          "parcoords": [
           {
            "line": {
             "colorbar": {
              "outlinewidth": 0,
              "ticks": ""
             }
            },
            "type": "parcoords"
           }
          ],
          "pie": [
           {
            "automargin": true,
            "type": "pie"
           }
          ],
          "scatter": [
           {
            "fillpattern": {
             "fillmode": "overlay",
             "size": 10,
             "solidity": 0.2
            },
            "type": "scatter"
           }
          ],
          "scatter3d": [
           {
            "line": {
             "colorbar": {
              "outlinewidth": 0,
              "ticks": ""
             }
            },
            "marker": {
             "colorbar": {
              "outlinewidth": 0,
              "ticks": ""
             }
            },
            "type": "scatter3d"
           }
          ],
          "scattercarpet": [
           {
            "marker": {
             "colorbar": {
              "outlinewidth": 0,
              "ticks": ""
             }
            },
            "type": "scattercarpet"
           }
          ],
          "scattergeo": [
           {
            "marker": {
             "colorbar": {
              "outlinewidth": 0,
              "ticks": ""
             }
            },
            "type": "scattergeo"
           }
          ],
          "scattergl": [
           {
            "marker": {
             "colorbar": {
              "outlinewidth": 0,
              "ticks": ""
             }
            },
            "type": "scattergl"
           }
          ],
          "scattermapbox": [
           {
            "marker": {
             "colorbar": {
              "outlinewidth": 0,
              "ticks": ""
             }
            },
            "type": "scattermapbox"
           }
          ],
          "scatterpolar": [
           {
            "marker": {
             "colorbar": {
              "outlinewidth": 0,
              "ticks": ""
             }
            },
            "type": "scatterpolar"
           }
          ],
          "scatterpolargl": [
           {
            "marker": {
             "colorbar": {
              "outlinewidth": 0,
              "ticks": ""
             }
            },
            "type": "scatterpolargl"
           }
          ],
          "scatterternary": [
           {
            "marker": {
             "colorbar": {
              "outlinewidth": 0,
              "ticks": ""
             }
            },
            "type": "scatterternary"
           }
          ],
          "surface": [
           {
            "colorbar": {
             "outlinewidth": 0,
             "ticks": ""
            },
            "colorscale": [
             [
              0,
              "#0d0887"
             ],
             [
              0.1111111111111111,
              "#46039f"
             ],
             [
              0.2222222222222222,
              "#7201a8"
             ],
             [
              0.3333333333333333,
              "#9c179e"
             ],
             [
              0.4444444444444444,
              "#bd3786"
             ],
             [
              0.5555555555555556,
              "#d8576b"
             ],
             [
              0.6666666666666666,
              "#ed7953"
             ],
             [
              0.7777777777777778,
              "#fb9f3a"
             ],
             [
              0.8888888888888888,
              "#fdca26"
             ],
             [
              1,
              "#f0f921"
             ]
            ],
            "type": "surface"
           }
          ],
          "table": [
           {
            "cells": {
             "fill": {
              "color": "#EBF0F8"
             },
             "line": {
              "color": "white"
             }
            },
            "header": {
             "fill": {
              "color": "#C8D4E3"
             },
             "line": {
              "color": "white"
             }
            },
            "type": "table"
           }
          ]
         },
         "layout": {
          "annotationdefaults": {
           "arrowcolor": "#2a3f5f",
           "arrowhead": 0,
           "arrowwidth": 1
          },
          "autotypenumbers": "strict",
          "coloraxis": {
           "colorbar": {
            "outlinewidth": 0,
            "ticks": ""
           }
          },
          "colorscale": {
           "diverging": [
            [
             0,
             "#8e0152"
            ],
            [
             0.1,
             "#c51b7d"
            ],
            [
             0.2,
             "#de77ae"
            ],
            [
             0.3,
             "#f1b6da"
            ],
            [
             0.4,
             "#fde0ef"
            ],
            [
             0.5,
             "#f7f7f7"
            ],
            [
             0.6,
             "#e6f5d0"
            ],
            [
             0.7,
             "#b8e186"
            ],
            [
             0.8,
             "#7fbc41"
            ],
            [
             0.9,
             "#4d9221"
            ],
            [
             1,
             "#276419"
            ]
           ],
           "sequential": [
            [
             0,
             "#0d0887"
            ],
            [
             0.1111111111111111,
             "#46039f"
            ],
            [
             0.2222222222222222,
             "#7201a8"
            ],
            [
             0.3333333333333333,
             "#9c179e"
            ],
            [
             0.4444444444444444,
             "#bd3786"
            ],
            [
             0.5555555555555556,
             "#d8576b"
            ],
            [
             0.6666666666666666,
             "#ed7953"
            ],
            [
             0.7777777777777778,
             "#fb9f3a"
            ],
            [
             0.8888888888888888,
             "#fdca26"
            ],
            [
             1,
             "#f0f921"
            ]
           ],
           "sequentialminus": [
            [
             0,
             "#0d0887"
            ],
            [
             0.1111111111111111,
             "#46039f"
            ],
            [
             0.2222222222222222,
             "#7201a8"
            ],
            [
             0.3333333333333333,
             "#9c179e"
            ],
            [
             0.4444444444444444,
             "#bd3786"
            ],
            [
             0.5555555555555556,
             "#d8576b"
            ],
            [
             0.6666666666666666,
             "#ed7953"
            ],
            [
             0.7777777777777778,
             "#fb9f3a"
            ],
            [
             0.8888888888888888,
             "#fdca26"
            ],
            [
             1,
             "#f0f921"
            ]
           ]
          },
          "colorway": [
           "#636efa",
           "#EF553B",
           "#00cc96",
           "#ab63fa",
           "#FFA15A",
           "#19d3f3",
           "#FF6692",
           "#B6E880",
           "#FF97FF",
           "#FECB52"
          ],
          "font": {
           "color": "#2a3f5f"
          },
          "geo": {
           "bgcolor": "white",
           "lakecolor": "white",
           "landcolor": "#E5ECF6",
           "showlakes": true,
           "showland": true,
           "subunitcolor": "white"
          },
          "hoverlabel": {
           "align": "left"
          },
          "hovermode": "closest",
          "mapbox": {
           "style": "light"
          },
          "paper_bgcolor": "white",
          "plot_bgcolor": "#E5ECF6",
          "polar": {
           "angularaxis": {
            "gridcolor": "white",
            "linecolor": "white",
            "ticks": ""
           },
           "bgcolor": "#E5ECF6",
           "radialaxis": {
            "gridcolor": "white",
            "linecolor": "white",
            "ticks": ""
           }
          },
          "scene": {
           "xaxis": {
            "backgroundcolor": "#E5ECF6",
            "gridcolor": "white",
            "gridwidth": 2,
            "linecolor": "white",
            "showbackground": true,
            "ticks": "",
            "zerolinecolor": "white"
           },
           "yaxis": {
            "backgroundcolor": "#E5ECF6",
            "gridcolor": "white",
            "gridwidth": 2,
            "linecolor": "white",
            "showbackground": true,
            "ticks": "",
            "zerolinecolor": "white"
           },
           "zaxis": {
            "backgroundcolor": "#E5ECF6",
            "gridcolor": "white",
            "gridwidth": 2,
            "linecolor": "white",
            "showbackground": true,
            "ticks": "",
            "zerolinecolor": "white"
           }
          },
          "shapedefaults": {
           "line": {
            "color": "#2a3f5f"
           }
          },
          "ternary": {
           "aaxis": {
            "gridcolor": "white",
            "linecolor": "white",
            "ticks": ""
           },
           "baxis": {
            "gridcolor": "white",
            "linecolor": "white",
            "ticks": ""
           },
           "bgcolor": "#E5ECF6",
           "caxis": {
            "gridcolor": "white",
            "linecolor": "white",
            "ticks": ""
           }
          },
          "title": {
           "x": 0.05
          },
          "xaxis": {
           "automargin": true,
           "gridcolor": "white",
           "linecolor": "white",
           "ticks": "",
           "title": {
            "standoff": 15
           },
           "zerolinecolor": "white",
           "zerolinewidth": 2
          },
          "yaxis": {
           "automargin": true,
           "gridcolor": "white",
           "linecolor": "white",
           "ticks": "",
           "title": {
            "standoff": 15
           },
           "zerolinecolor": "white",
           "zerolinewidth": 2
          }
         }
        },
        "title": {
         "text": "Maize Percentage Change vs Stability"
        },
        "xaxis": {
         "anchor": "y",
         "domain": [
          0,
          1
         ],
         "title": {
          "text": "Stability"
         }
        },
        "yaxis": {
         "anchor": "x",
         "domain": [
          0,
          1
         ],
         "title": {
          "text": "Percentage Change"
         }
        }
       }
      }
     },
     "metadata": {},
     "output_type": "display_data"
    },
    {
     "data": {
      "application/vnd.jupyter.widget-view+json": {
       "model_id": "d80596e488d94a3eb4b6dbd03ee6e7aa",
       "version_major": 2,
       "version_minor": 0
      },
      "text/plain": [
       "interactive(children=(FloatSlider(value=0.5, description='αLV:', max=1.0), FloatSlider(value=0.5, description=…"
      ]
     },
     "metadata": {},
     "output_type": "display_data"
    },
    {
     "data": {
      "application/vnd.plotly.v1+json": {
       "config": {
        "plotlyServerURL": "https://plot.ly"
       },
       "data": [
        {
         "hovertemplate": "color=darkblue<br>Stability=%{x}<br>Percentage Change=%{y}<br>Abbreviation=%{text}<extra></extra>",
         "legendgroup": "darkblue",
         "marker": {
          "color": "darkblue",
          "opacity": 1,
          "symbol": "circle"
         },
         "mode": "markers+text",
         "name": "darkblue",
         "orientation": "v",
         "showlegend": true,
         "text": [
          "BLR",
          "BLR(R)",
          "CDA",
          "KLR",
          "CKA",
          "TKR",
          "CMG",
          "KDG",
          "MDY",
          "MYS",
          "CNR",
          "BLG",
          "BKT",
          "DWD",
          "HVR",
          "UTK",
          "BLL",
          "BDR",
          "YDR",
          "VJN"
         ],
         "textfont": {
          "size": 11
         },
         "textposition": "top center",
         "type": "scatter",
         "x": [
          0.9431934631334666,
          1,
          0.8021442857172584,
          0.7478113722665669,
          0.698571604179711,
          0.9217731370585973,
          0.8166301791232945,
          0.73071315790836,
          0.5551617817446874,
          0.6376134941235951,
          0.9628372765252355,
          0,
          0.7789297614726478,
          0.8742877262545554,
          0.22827531290767822,
          0.637357568635257,
          0.8875371959391443,
          0.5492006720740435,
          0.6552967988499612,
          0.9818687449315621
         ],
         "xaxis": "x",
         "y": [
          81.8280473487762,
          35.78734413014632,
          1.2039187693302722,
          66.55541803867764,
          83.71300422170953,
          19.94984136992036,
          89.36782152628072,
          68.77312258706097,
          10.456236412629853,
          3.253446016532995,
          6.037227885408284,
          5.106142703107068,
          1.5260447626888933,
          22.575602378654946,
          17.19968305774195,
          9.423986986929776,
          44.627939978863765,
          60.15942591354205,
          41.043937078431696,
          44.627939978863765
         ],
         "yaxis": "y"
        },
        {
         "hovertemplate": "color=red<br>Stability=%{x}<br>Percentage Change=%{y}<br>Abbreviation=%{text}<extra></extra>",
         "legendgroup": "red",
         "marker": {
          "color": "red",
          "opacity": 1,
          "symbol": "circle"
         },
         "mode": "markers+text",
         "name": "red",
         "orientation": "v",
         "showlegend": true,
         "text": [
          "RGA",
          "DVG",
          "SMG",
          "HSN",
          "VJP",
          "GDG",
          "KLB",
          "KPL"
         ],
         "textfont": {
          "size": 11
         },
         "textposition": "top center",
         "type": "scatter",
         "x": [
          0.8289361898534299,
          0.266769366526891,
          0.9248144888798114,
          0.48794268606360525,
          0.7999196646922853,
          0.9623427123793225,
          0.5311544104228934,
          0.8295186323874933
         ],
         "xaxis": "x",
         "y": [
          -18.791177106504836,
          -14.564325620503318,
          -12.353516216483566,
          -2.2116371893299385,
          -29.476316295855476,
          -18.841212751708007,
          -20.58297123843529,
          -9.794845826776754
         ],
         "yaxis": "y"
        },
        {
         "marker": {
          "color": "darkblue"
         },
         "mode": "markers",
         "name": "BLR: BENGALURU",
         "type": "scatter",
         "x": [
          null
         ],
         "y": [
          null
         ]
        },
        {
         "marker": {
          "color": "darkblue"
         },
         "mode": "markers",
         "name": "BLR(R): BENGALURU(R)",
         "type": "scatter",
         "x": [
          null
         ],
         "y": [
          null
         ]
        },
        {
         "marker": {
          "color": "darkblue"
         },
         "mode": "markers",
         "name": "RGA: RAMANAGARA",
         "type": "scatter",
         "x": [
          null
         ],
         "y": [
          null
         ]
        },
        {
         "marker": {
          "color": "darkblue"
         },
         "mode": "markers",
         "name": "CDA: CHITRADURGA",
         "type": "scatter",
         "x": [
          null
         ],
         "y": [
          null
         ]
        },
        {
         "marker": {
          "color": "darkblue"
         },
         "mode": "markers",
         "name": "DVG: DAVANAGERE",
         "type": "scatter",
         "x": [
          null
         ],
         "y": [
          null
         ]
        },
        {
         "marker": {
          "color": "darkblue"
         },
         "mode": "markers",
         "name": "KLR: KOLAR",
         "type": "scatter",
         "x": [
          null
         ],
         "y": [
          null
         ]
        },
        {
         "marker": {
          "color": "darkblue"
         },
         "mode": "markers",
         "name": "CKA: CHIKKABALLAPURA",
         "type": "scatter",
         "x": [
          null
         ],
         "y": [
          null
         ]
        },
        {
         "marker": {
          "color": "darkblue"
         },
         "mode": "markers",
         "name": "SMG: SHIVAMOGGA",
         "type": "scatter",
         "x": [
          null
         ],
         "y": [
          null
         ]
        },
        {
         "marker": {
          "color": "darkblue"
         },
         "mode": "markers",
         "name": "TKR: TUMAKURU",
         "type": "scatter",
         "x": [
          null
         ],
         "y": [
          null
         ]
        },
        {
         "marker": {
          "color": "darkblue"
         },
         "mode": "markers",
         "name": "CMG: CHIKKAMAGALURU",
         "type": "scatter",
         "x": [
          null
         ],
         "y": [
          null
         ]
        },
        {
         "marker": {
          "color": "darkblue"
         },
         "mode": "markers",
         "name": "HSN: HASSAN",
         "type": "scatter",
         "x": [
          null
         ],
         "y": [
          null
         ]
        },
        {
         "marker": {
          "color": "darkblue"
         },
         "mode": "markers",
         "name": "KDG: KODAGU",
         "type": "scatter",
         "x": [
          null
         ],
         "y": [
          null
         ]
        },
        {
         "marker": {
          "color": "darkblue"
         },
         "mode": "markers",
         "name": "MDY: MANDYA",
         "type": "scatter",
         "x": [
          null
         ],
         "y": [
          null
         ]
        },
        {
         "marker": {
          "color": "darkblue"
         },
         "mode": "markers",
         "name": "MYS: MYSURU",
         "type": "scatter",
         "x": [
          null
         ],
         "y": [
          null
         ]
        },
        {
         "marker": {
          "color": "darkblue"
         },
         "mode": "markers",
         "name": "CNR: CHAMARAJANAGAR",
         "type": "scatter",
         "x": [
          null
         ],
         "y": [
          null
         ]
        },
        {
         "marker": {
          "color": "darkblue"
         },
         "mode": "markers",
         "name": "BLG: BELAGAVI",
         "type": "scatter",
         "x": [
          null
         ],
         "y": [
          null
         ]
        },
        {
         "marker": {
          "color": "darkblue"
         },
         "mode": "markers",
         "name": "VJP: VIJAYAPURA",
         "type": "scatter",
         "x": [
          null
         ],
         "y": [
          null
         ]
        },
        {
         "marker": {
          "color": "darkblue"
         },
         "mode": "markers",
         "name": "BKT: BAGALKOT",
         "type": "scatter",
         "x": [
          null
         ],
         "y": [
          null
         ]
        },
        {
         "marker": {
          "color": "darkblue"
         },
         "mode": "markers",
         "name": "DWD: DHARAWAD",
         "type": "scatter",
         "x": [
          null
         ],
         "y": [
          null
         ]
        },
        {
         "marker": {
          "color": "darkblue"
         },
         "mode": "markers",
         "name": "GDG: GADAG",
         "type": "scatter",
         "x": [
          null
         ],
         "y": [
          null
         ]
        },
        {
         "marker": {
          "color": "darkblue"
         },
         "mode": "markers",
         "name": "HVR: HAVERI",
         "type": "scatter",
         "x": [
          null
         ],
         "y": [
          null
         ]
        },
        {
         "marker": {
          "color": "darkblue"
         },
         "mode": "markers",
         "name": "UTK: UTTARA KANNADA",
         "type": "scatter",
         "x": [
          null
         ],
         "y": [
          null
         ]
        },
        {
         "marker": {
          "color": "darkblue"
         },
         "mode": "markers",
         "name": "BLL: BALLARI",
         "type": "scatter",
         "x": [
          null
         ],
         "y": [
          null
         ]
        },
        {
         "marker": {
          "color": "darkblue"
         },
         "mode": "markers",
         "name": "BDR: BIDAR",
         "type": "scatter",
         "x": [
          null
         ],
         "y": [
          null
         ]
        },
        {
         "marker": {
          "color": "darkblue"
         },
         "mode": "markers",
         "name": "KLB: KALABURAGI",
         "type": "scatter",
         "x": [
          null
         ],
         "y": [
          null
         ]
        },
        {
         "marker": {
          "color": "darkblue"
         },
         "mode": "markers",
         "name": "YDR: YADGIRI",
         "type": "scatter",
         "x": [
          null
         ],
         "y": [
          null
         ]
        },
        {
         "marker": {
          "color": "darkblue"
         },
         "mode": "markers",
         "name": "KPL: KOPPAL",
         "type": "scatter",
         "x": [
          null
         ],
         "y": [
          null
         ]
        },
        {
         "marker": {
          "color": "darkblue"
         },
         "mode": "markers",
         "name": "VJN: VIJAYANAGARA",
         "type": "scatter",
         "x": [
          null
         ],
         "y": [
          null
         ]
        },
        {
         "mode": "text",
         "showlegend": false,
         "text": [
          "Avg Impact: 20.95"
         ],
         "textfont": {
          "size": 10.7
         },
         "type": "scatter",
         "x": [
          0.3
         ],
         "y": [
          25.45000460356071
         ]
        }
       ],
       "layout": {
        "annotations": [
         {
          "font": {
           "size": 13
          },
          "showarrow": false,
          "text": " α<sub>LV</sub>: 0.30, α<sub>AM</sub>: 0.50, α<sub>NPK</sub>: 0.80",
          "x": 0.5,
          "xref": "paper",
          "y": -0.25,
          "yref": "paper"
         },
         {
          "font": {
           "size": 10.7
          },
          "showarrow": false,
          "text": "Avg Stability: 0.72",
          "textangle": 90,
          "x": 0.7232357744304054,
          "y": -0.07
         }
        ],
        "legend": {
         "title": {
          "font": {
           "size": 12
          },
          "text": "Districts"
         },
         "tracegroupgap": 0
        },
        "shapes": [
         {
          "line": {
           "color": "black",
           "dash": "dash",
           "width": 1.5
          },
          "type": "line",
          "x0": 0.7157357744304055,
          "x1": 0.7157357744304055,
          "y0": 0,
          "y1": 1,
          "yref": "paper"
         },
         {
          "line": {
           "color": "black",
           "dash": "dash",
           "width": 1.5
          },
          "type": "line",
          "x0": 0,
          "x1": 1,
          "xref": "paper",
          "y0": 20.95000460356071,
          "y1": 20.95000460356071
         }
        ],
        "template": {
         "data": {
          "bar": [
           {
            "error_x": {
             "color": "#2a3f5f"
            },
            "error_y": {
             "color": "#2a3f5f"
            },
            "marker": {
             "line": {
              "color": "#E5ECF6",
              "width": 0.5
             },
             "pattern": {
              "fillmode": "overlay",
              "size": 10,
              "solidity": 0.2
             }
            },
            "type": "bar"
           }
          ],
          "barpolar": [
           {
            "marker": {
             "line": {
              "color": "#E5ECF6",
              "width": 0.5
             },
             "pattern": {
              "fillmode": "overlay",
              "size": 10,
              "solidity": 0.2
             }
            },
            "type": "barpolar"
           }
          ],
          "carpet": [
           {
            "aaxis": {
             "endlinecolor": "#2a3f5f",
             "gridcolor": "white",
             "linecolor": "white",
             "minorgridcolor": "white",
             "startlinecolor": "#2a3f5f"
            },
            "baxis": {
             "endlinecolor": "#2a3f5f",
             "gridcolor": "white",
             "linecolor": "white",
             "minorgridcolor": "white",
             "startlinecolor": "#2a3f5f"
            },
            "type": "carpet"
           }
          ],
          "choropleth": [
           {
            "colorbar": {
             "outlinewidth": 0,
             "ticks": ""
            },
            "type": "choropleth"
           }
          ],
          "contour": [
           {
            "colorbar": {
             "outlinewidth": 0,
             "ticks": ""
            },
            "colorscale": [
             [
              0,
              "#0d0887"
             ],
             [
              0.1111111111111111,
              "#46039f"
             ],
             [
              0.2222222222222222,
              "#7201a8"
             ],
             [
              0.3333333333333333,
              "#9c179e"
             ],
             [
              0.4444444444444444,
              "#bd3786"
             ],
             [
              0.5555555555555556,
              "#d8576b"
             ],
             [
              0.6666666666666666,
              "#ed7953"
             ],
             [
              0.7777777777777778,
              "#fb9f3a"
             ],
             [
              0.8888888888888888,
              "#fdca26"
             ],
             [
              1,
              "#f0f921"
             ]
            ],
            "type": "contour"
           }
          ],
          "contourcarpet": [
           {
            "colorbar": {
             "outlinewidth": 0,
             "ticks": ""
            },
            "type": "contourcarpet"
           }
          ],
          "heatmap": [
           {
            "colorbar": {
             "outlinewidth": 0,
             "ticks": ""
            },
            "colorscale": [
             [
              0,
              "#0d0887"
             ],
             [
              0.1111111111111111,
              "#46039f"
             ],
             [
              0.2222222222222222,
              "#7201a8"
             ],
             [
              0.3333333333333333,
              "#9c179e"
             ],
             [
              0.4444444444444444,
              "#bd3786"
             ],
             [
              0.5555555555555556,
              "#d8576b"
             ],
             [
              0.6666666666666666,
              "#ed7953"
             ],
             [
              0.7777777777777778,
              "#fb9f3a"
             ],
             [
              0.8888888888888888,
              "#fdca26"
             ],
             [
              1,
              "#f0f921"
             ]
            ],
            "type": "heatmap"
           }
          ],
          "heatmapgl": [
           {
            "colorbar": {
             "outlinewidth": 0,
             "ticks": ""
            },
            "colorscale": [
             [
              0,
              "#0d0887"
             ],
             [
              0.1111111111111111,
              "#46039f"
             ],
             [
              0.2222222222222222,
              "#7201a8"
             ],
             [
              0.3333333333333333,
              "#9c179e"
             ],
             [
              0.4444444444444444,
              "#bd3786"
             ],
             [
              0.5555555555555556,
              "#d8576b"
             ],
             [
              0.6666666666666666,
              "#ed7953"
             ],
             [
              0.7777777777777778,
              "#fb9f3a"
             ],
             [
              0.8888888888888888,
              "#fdca26"
             ],
             [
              1,
              "#f0f921"
             ]
            ],
            "type": "heatmapgl"
           }
          ],
          "histogram": [
           {
            "marker": {
             "pattern": {
              "fillmode": "overlay",
              "size": 10,
              "solidity": 0.2
             }
            },
            "type": "histogram"
           }
          ],
          "histogram2d": [
           {
            "colorbar": {
             "outlinewidth": 0,
             "ticks": ""
            },
            "colorscale": [
             [
              0,
              "#0d0887"
             ],
             [
              0.1111111111111111,
              "#46039f"
             ],
             [
              0.2222222222222222,
              "#7201a8"
             ],
             [
              0.3333333333333333,
              "#9c179e"
             ],
             [
              0.4444444444444444,
              "#bd3786"
             ],
             [
              0.5555555555555556,
              "#d8576b"
             ],
             [
              0.6666666666666666,
              "#ed7953"
             ],
             [
              0.7777777777777778,
              "#fb9f3a"
             ],
             [
              0.8888888888888888,
              "#fdca26"
             ],
             [
              1,
              "#f0f921"
             ]
            ],
            "type": "histogram2d"
           }
          ],
          "histogram2dcontour": [
           {
            "colorbar": {
             "outlinewidth": 0,
             "ticks": ""
            },
            "colorscale": [
             [
              0,
              "#0d0887"
             ],
             [
              0.1111111111111111,
              "#46039f"
             ],
             [
              0.2222222222222222,
              "#7201a8"
             ],
             [
              0.3333333333333333,
              "#9c179e"
             ],
             [
              0.4444444444444444,
              "#bd3786"
             ],
             [
              0.5555555555555556,
              "#d8576b"
             ],
             [
              0.6666666666666666,
              "#ed7953"
             ],
             [
              0.7777777777777778,
              "#fb9f3a"
             ],
             [
              0.8888888888888888,
              "#fdca26"
             ],
             [
              1,
              "#f0f921"
             ]
            ],
            "type": "histogram2dcontour"
           }
          ],
          "mesh3d": [
           {
            "colorbar": {
             "outlinewidth": 0,
             "ticks": ""
            },
            "type": "mesh3d"
           }
          ],
          "parcoords": [
           {
            "line": {
             "colorbar": {
              "outlinewidth": 0,
              "ticks": ""
             }
            },
            "type": "parcoords"
           }
          ],
          "pie": [
           {
            "automargin": true,
            "type": "pie"
           }
          ],
          "scatter": [
           {
            "fillpattern": {
             "fillmode": "overlay",
             "size": 10,
             "solidity": 0.2
            },
            "type": "scatter"
           }
          ],
          "scatter3d": [
           {
            "line": {
             "colorbar": {
              "outlinewidth": 0,
              "ticks": ""
             }
            },
            "marker": {
             "colorbar": {
              "outlinewidth": 0,
              "ticks": ""
             }
            },
            "type": "scatter3d"
           }
          ],
          "scattercarpet": [
           {
            "marker": {
             "colorbar": {
              "outlinewidth": 0,
              "ticks": ""
             }
            },
            "type": "scattercarpet"
           }
          ],
          "scattergeo": [
           {
            "marker": {
             "colorbar": {
              "outlinewidth": 0,
              "ticks": ""
             }
            },
            "type": "scattergeo"
           }
          ],
          "scattergl": [
           {
            "marker": {
             "colorbar": {
              "outlinewidth": 0,
              "ticks": ""
             }
            },
            "type": "scattergl"
           }
          ],
          "scattermapbox": [
           {
            "marker": {
             "colorbar": {
              "outlinewidth": 0,
              "ticks": ""
             }
            },
            "type": "scattermapbox"
           }
          ],
          "scatterpolar": [
           {
            "marker": {
             "colorbar": {
              "outlinewidth": 0,
              "ticks": ""
             }
            },
            "type": "scatterpolar"
           }
          ],
          "scatterpolargl": [
           {
            "marker": {
             "colorbar": {
              "outlinewidth": 0,
              "ticks": ""
             }
            },
            "type": "scatterpolargl"
           }
          ],
          "scatterternary": [
           {
            "marker": {
             "colorbar": {
              "outlinewidth": 0,
              "ticks": ""
             }
            },
            "type": "scatterternary"
           }
          ],
          "surface": [
           {
            "colorbar": {
             "outlinewidth": 0,
             "ticks": ""
            },
            "colorscale": [
             [
              0,
              "#0d0887"
             ],
             [
              0.1111111111111111,
              "#46039f"
             ],
             [
              0.2222222222222222,
              "#7201a8"
             ],
             [
              0.3333333333333333,
              "#9c179e"
             ],
             [
              0.4444444444444444,
              "#bd3786"
             ],
             [
              0.5555555555555556,
              "#d8576b"
             ],
             [
              0.6666666666666666,
              "#ed7953"
             ],
             [
              0.7777777777777778,
              "#fb9f3a"
             ],
             [
              0.8888888888888888,
              "#fdca26"
             ],
             [
              1,
              "#f0f921"
             ]
            ],
            "type": "surface"
           }
          ],
          "table": [
           {
            "cells": {
             "fill": {
              "color": "#EBF0F8"
             },
             "line": {
              "color": "white"
             }
            },
            "header": {
             "fill": {
              "color": "#C8D4E3"
             },
             "line": {
              "color": "white"
             }
            },
            "type": "table"
           }
          ]
         },
         "layout": {
          "annotationdefaults": {
           "arrowcolor": "#2a3f5f",
           "arrowhead": 0,
           "arrowwidth": 1
          },
          "autotypenumbers": "strict",
          "coloraxis": {
           "colorbar": {
            "outlinewidth": 0,
            "ticks": ""
           }
          },
          "colorscale": {
           "diverging": [
            [
             0,
             "#8e0152"
            ],
            [
             0.1,
             "#c51b7d"
            ],
            [
             0.2,
             "#de77ae"
            ],
            [
             0.3,
             "#f1b6da"
            ],
            [
             0.4,
             "#fde0ef"
            ],
            [
             0.5,
             "#f7f7f7"
            ],
            [
             0.6,
             "#e6f5d0"
            ],
            [
             0.7,
             "#b8e186"
            ],
            [
             0.8,
             "#7fbc41"
            ],
            [
             0.9,
             "#4d9221"
            ],
            [
             1,
             "#276419"
            ]
           ],
           "sequential": [
            [
             0,
             "#0d0887"
            ],
            [
             0.1111111111111111,
             "#46039f"
            ],
            [
             0.2222222222222222,
             "#7201a8"
            ],
            [
             0.3333333333333333,
             "#9c179e"
            ],
            [
             0.4444444444444444,
             "#bd3786"
            ],
            [
             0.5555555555555556,
             "#d8576b"
            ],
            [
             0.6666666666666666,
             "#ed7953"
            ],
            [
             0.7777777777777778,
             "#fb9f3a"
            ],
            [
             0.8888888888888888,
             "#fdca26"
            ],
            [
             1,
             "#f0f921"
            ]
           ],
           "sequentialminus": [
            [
             0,
             "#0d0887"
            ],
            [
             0.1111111111111111,
             "#46039f"
            ],
            [
             0.2222222222222222,
             "#7201a8"
            ],
            [
             0.3333333333333333,
             "#9c179e"
            ],
            [
             0.4444444444444444,
             "#bd3786"
            ],
            [
             0.5555555555555556,
             "#d8576b"
            ],
            [
             0.6666666666666666,
             "#ed7953"
            ],
            [
             0.7777777777777778,
             "#fb9f3a"
            ],
            [
             0.8888888888888888,
             "#fdca26"
            ],
            [
             1,
             "#f0f921"
            ]
           ]
          },
          "colorway": [
           "#636efa",
           "#EF553B",
           "#00cc96",
           "#ab63fa",
           "#FFA15A",
           "#19d3f3",
           "#FF6692",
           "#B6E880",
           "#FF97FF",
           "#FECB52"
          ],
          "font": {
           "color": "#2a3f5f"
          },
          "geo": {
           "bgcolor": "white",
           "lakecolor": "white",
           "landcolor": "#E5ECF6",
           "showlakes": true,
           "showland": true,
           "subunitcolor": "white"
          },
          "hoverlabel": {
           "align": "left"
          },
          "hovermode": "closest",
          "mapbox": {
           "style": "light"
          },
          "paper_bgcolor": "white",
          "plot_bgcolor": "#E5ECF6",
          "polar": {
           "angularaxis": {
            "gridcolor": "white",
            "linecolor": "white",
            "ticks": ""
           },
           "bgcolor": "#E5ECF6",
           "radialaxis": {
            "gridcolor": "white",
            "linecolor": "white",
            "ticks": ""
           }
          },
          "scene": {
           "xaxis": {
            "backgroundcolor": "#E5ECF6",
            "gridcolor": "white",
            "gridwidth": 2,
            "linecolor": "white",
            "showbackground": true,
            "ticks": "",
            "zerolinecolor": "white"
           },
           "yaxis": {
            "backgroundcolor": "#E5ECF6",
            "gridcolor": "white",
            "gridwidth": 2,
            "linecolor": "white",
            "showbackground": true,
            "ticks": "",
            "zerolinecolor": "white"
           },
           "zaxis": {
            "backgroundcolor": "#E5ECF6",
            "gridcolor": "white",
            "gridwidth": 2,
            "linecolor": "white",
            "showbackground": true,
            "ticks": "",
            "zerolinecolor": "white"
           }
          },
          "shapedefaults": {
           "line": {
            "color": "#2a3f5f"
           }
          },
          "ternary": {
           "aaxis": {
            "gridcolor": "white",
            "linecolor": "white",
            "ticks": ""
           },
           "baxis": {
            "gridcolor": "white",
            "linecolor": "white",
            "ticks": ""
           },
           "bgcolor": "#E5ECF6",
           "caxis": {
            "gridcolor": "white",
            "linecolor": "white",
            "ticks": ""
           }
          },
          "title": {
           "x": 0.05
          },
          "xaxis": {
           "automargin": true,
           "gridcolor": "white",
           "linecolor": "white",
           "ticks": "",
           "title": {
            "standoff": 15
           },
           "zerolinecolor": "white",
           "zerolinewidth": 2
          },
          "yaxis": {
           "automargin": true,
           "gridcolor": "white",
           "linecolor": "white",
           "ticks": "",
           "title": {
            "standoff": 15
           },
           "zerolinecolor": "white",
           "zerolinewidth": 2
          }
         }
        },
        "title": {
         "text": "Maize Percentage Change vs Stability"
        },
        "xaxis": {
         "anchor": "y",
         "domain": [
          0,
          1
         ],
         "title": {
          "text": "Stability"
         }
        },
        "yaxis": {
         "anchor": "x",
         "domain": [
          0,
          1
         ],
         "title": {
          "text": "Percentage Change"
         }
        }
       }
      }
     },
     "metadata": {},
     "output_type": "display_data"
    },
    {
     "data": {
      "application/vnd.jupyter.widget-view+json": {
       "model_id": "6b364e0fb3cb4350b74a0405ea8c1447",
       "version_major": 2,
       "version_minor": 0
      },
      "text/plain": [
       "HBox(children=(Button(description='Update Plot', style=ButtonStyle()), FloatSlider(value=0.5, description='αLV…"
      ]
     },
     "metadata": {},
     "output_type": "display_data"
    },
    {
     "data": {
      "text/plain": [
       "<function __main__.update_plot(alpha1, alpha2, alpha3)>"
      ]
     },
     "metadata": {},
     "output_type": "display_data"
    }
   ],
   "source": [
    "import pandas as pd\n",
    "import plotly.express as px\n",
    "import ipywidgets as widgets\n",
    "from ipywidgets import interact\n",
    "from IPython.display import clear_output\n",
    "import plotly.graph_objects as go\n",
    "\n",
    "def update_plot(alpha1, alpha2, alpha3):\n",
    "    \n",
    "    tolerance = 1e-5 \n",
    "    filtered_df = viz_df[\n",
    "        (viz_df['Sensitivity_LivestockCensus_2012_Cattle'].between(alpha1 - tolerance, alpha1 + tolerance)) &\n",
    "        (viz_df['Sensitivity_AreaUnderCereals_Maize'].between(alpha2 - tolerance, alpha2 + tolerance)) & \n",
    "        (viz_df['Sensitivity_TotalNPK'].between(alpha3 - tolerance, alpha3 + tolerance)) \n",
    "    ]\n",
    "\n",
    "    # Create a scatter plot with filtered data\n",
    "    fig = px.scatter(\n",
    "        filtered_df, \n",
    "        x='Stability_Values', \n",
    "        y='Percentage Change', \n",
    "        title='Maize Percentage Change vs Stability',\n",
    "        labels={'Percentage Change': 'Percentage Change', 'Stability_Values': 'Stability'},\n",
    "        text='Abbreviation',\n",
    "        opacity=1,\n",
    "        color=filtered_df['Percentage Change'].apply(lambda val: 'red' if val < 0 else 'darkblue'),  # Conditional coloring\n",
    "        color_discrete_map={'red': 'red', 'darkblue': 'darkblue'}\n",
    "    )\n",
    "\n",
    "    fig.update_traces(textposition='top center', textfont=dict(size=11))\n",
    "\n",
    "    # Update layout to add annotations and legends\n",
    "    fig.update_layout(\n",
    "        annotations=[\n",
    "            dict(\n",
    "                x=0.5,\n",
    "                y=-0.25,\n",
    "                showarrow=False,\n",
    "                text=f' α<sub>LV</sub>: {alpha1:.2f}, α<sub>AM</sub>: {alpha2:.2f}, α<sub>NPK</sub>: {alpha3:.2f}',\n",
    "                xref=\"paper\",\n",
    "                yref=\"paper\",\n",
    "                font=dict(size=13)\n",
    "            )\n",
    "        ],\n",
    "        legend_title_text='Districts',\n",
    "        legend_title=dict(font=dict(size=12)),\n",
    "    )\n",
    "\n",
    "    # Adding custom legends with abbreviations and full forms\n",
    "    legend_labels = [{'Abbreviation': abb, 'Full Form': full_form} \n",
    "                     for abb, full_form in zip(filtered_df['Abbreviation'].unique(), filtered_df['District'].unique())]\n",
    "\n",
    "    for label in legend_labels:\n",
    "        fig.add_trace(go.Scatter(\n",
    "            x=[None],\n",
    "            y=[None],\n",
    "            mode='markers',\n",
    "            marker=dict(color='darkblue'),\n",
    "            name=f\"{label['Abbreviation']}: {label['Full Form']}\"\n",
    "        ))\n",
    "\n",
    "    # Adding average lines for stability and percentage change\n",
    "    avg_stability = filtered_df['Stability_Values'].mean()\n",
    "    avg_precent = filtered_df['Percentage Change'].mean()\n",
    "\n",
    "    fig.add_shape(\n",
    "        type='line',\n",
    "        x0=avg_stability, y0=0, x1=avg_stability, y1=1,\n",
    "        line=dict(color='black', width=1.5, dash='dash'),\n",
    "        yref='paper'\n",
    "    )\n",
    "\n",
    "    fig.add_shape(\n",
    "        type='line',\n",
    "        x0=0, y0=avg_precent, x1=1, y1=avg_precent,\n",
    "        line=dict(color='black', width=1.5, dash='dash'),\n",
    "        xref='paper'\n",
    "    )\n",
    "\n",
    "    fig.add_annotation(\n",
    "        x=avg_stability+0.0075,\n",
    "        y=-0.07,\n",
    "        text=f'Avg Stability: {avg_stability:.2f}',\n",
    "        showarrow=False,\n",
    "        font=dict(size=10.7),\n",
    "        textangle=90  # Rotate text using textangle in annotations\n",
    "    )\n",
    "\n",
    "\n",
    "    fig.add_trace(go.Scatter(\n",
    "        x=[0.3],\n",
    "        y=[avg_precent+4.5],\n",
    "        text=[f'Avg Impact: {avg_precent:.2f}'],\n",
    "        mode=\"text\",\n",
    "        showlegend=False,\n",
    "        textfont=dict(size=10.7)\n",
    "    ))\n",
    "\n",
    "    clear_output()\n",
    "\n",
    "    display(fig)\n",
    "    \n",
    "\n",
    "\n",
    "# Creating sliders for interaction\n",
    "alpha1_slider = widgets.FloatSlider(value=0.5, min=0, max=1, step=0.1, description='αLV:')\n",
    "alpha2_slider = widgets.FloatSlider(value=0.5, min=0, max=1, step=0.1, description='αAM:')\n",
    "alpha3_slider = widgets.FloatSlider(value=0.5, min=0, max=1, step=0.1, description='αNPK:')\n",
    "\n",
    "# Creating interactive plot\n",
    "interactive_plot = interact(update_plot, alpha1=alpha1_slider, alpha2=alpha2_slider, alpha3=alpha3_slider)\n",
    "\n",
    "# Create update button to trigger plot update\n",
    "update_button = widgets.Button(description=\"Update Plot\")\n",
    "update_button.on_click(lambda _: update_plot(alpha1_slider.value, alpha2_slider.value, alpha3_slider.value))\n",
    "\n",
    "# Displaying the interactive plot along with the sliders and update button\n",
    "display(widgets.HBox([update_button, alpha1_slider, alpha2_slider, alpha3_slider]))\n",
    "display(interactive_plot)"
   ]
  },
  {
   "cell_type": "code",
   "execution_count": 51,
   "metadata": {},
   "outputs": [
    {
     "data": {
      "text/html": [
       "<div>\n",
       "<style scoped>\n",
       "    .dataframe tbody tr th:only-of-type {\n",
       "        vertical-align: middle;\n",
       "    }\n",
       "\n",
       "    .dataframe tbody tr th {\n",
       "        vertical-align: top;\n",
       "    }\n",
       "\n",
       "    .dataframe thead th {\n",
       "        text-align: right;\n",
       "    }\n",
       "</style>\n",
       "<table border=\"1\" class=\"dataframe\">\n",
       "  <thead>\n",
       "    <tr style=\"text-align: right;\">\n",
       "      <th></th>\n",
       "      <th>District</th>\n",
       "      <th>Sensitivity_LivestockCensus_2012_Cattle</th>\n",
       "      <th>Sensitivity_AreaUnderCereals_Maize</th>\n",
       "      <th>Sensitivity_TotalNPK</th>\n",
       "      <th>New_Production</th>\n",
       "      <th>Stability_Values</th>\n",
       "      <th>Abbreviation</th>\n",
       "      <th>Percentage Change</th>\n",
       "    </tr>\n",
       "  </thead>\n",
       "  <tbody>\n",
       "    <tr>\n",
       "      <th>11928</th>\n",
       "      <td>BENGALURU</td>\n",
       "      <td>0.3</td>\n",
       "      <td>0.5</td>\n",
       "      <td>0.8</td>\n",
       "      <td>5234.829483</td>\n",
       "      <td>0.943193</td>\n",
       "      <td>BLR</td>\n",
       "      <td>81.828047</td>\n",
       "    </tr>\n",
       "    <tr>\n",
       "      <th>11929</th>\n",
       "      <td>BENGALURU(R)</td>\n",
       "      <td>0.3</td>\n",
       "      <td>0.5</td>\n",
       "      <td>0.8</td>\n",
       "      <td>57822.324751</td>\n",
       "      <td>1.000000</td>\n",
       "      <td>BLR(R)</td>\n",
       "      <td>35.787344</td>\n",
       "    </tr>\n",
       "    <tr>\n",
       "      <th>11930</th>\n",
       "      <td>RAMANAGARA</td>\n",
       "      <td>0.3</td>\n",
       "      <td>0.5</td>\n",
       "      <td>0.8</td>\n",
       "      <td>8486.321992</td>\n",
       "      <td>0.828936</td>\n",
       "      <td>RGA</td>\n",
       "      <td>-18.791177</td>\n",
       "    </tr>\n",
       "    <tr>\n",
       "      <th>11931</th>\n",
       "      <td>CHITRADURGA</td>\n",
       "      <td>0.3</td>\n",
       "      <td>0.5</td>\n",
       "      <td>0.8</td>\n",
       "      <td>275249.358070</td>\n",
       "      <td>0.802144</td>\n",
       "      <td>CDA</td>\n",
       "      <td>1.203919</td>\n",
       "    </tr>\n",
       "    <tr>\n",
       "      <th>11932</th>\n",
       "      <td>DAVANAGERE</td>\n",
       "      <td>0.3</td>\n",
       "      <td>0.5</td>\n",
       "      <td>0.8</td>\n",
       "      <td>507098.319133</td>\n",
       "      <td>0.266769</td>\n",
       "      <td>DVG</td>\n",
       "      <td>-14.564326</td>\n",
       "    </tr>\n",
       "    <tr>\n",
       "      <th>11933</th>\n",
       "      <td>KOLAR</td>\n",
       "      <td>0.3</td>\n",
       "      <td>0.5</td>\n",
       "      <td>0.8</td>\n",
       "      <td>2929.709803</td>\n",
       "      <td>0.747811</td>\n",
       "      <td>KLR</td>\n",
       "      <td>66.555418</td>\n",
       "    </tr>\n",
       "    <tr>\n",
       "      <th>11934</th>\n",
       "      <td>CHIKKABALLAPURA</td>\n",
       "      <td>0.3</td>\n",
       "      <td>0.5</td>\n",
       "      <td>0.8</td>\n",
       "      <td>193800.685282</td>\n",
       "      <td>0.698572</td>\n",
       "      <td>CKA</td>\n",
       "      <td>83.713004</td>\n",
       "    </tr>\n",
       "    <tr>\n",
       "      <th>11935</th>\n",
       "      <td>SHIVAMOGGA</td>\n",
       "      <td>0.3</td>\n",
       "      <td>0.5</td>\n",
       "      <td>0.8</td>\n",
       "      <td>198547.332642</td>\n",
       "      <td>0.924814</td>\n",
       "      <td>SMG</td>\n",
       "      <td>-12.353516</td>\n",
       "    </tr>\n",
       "    <tr>\n",
       "      <th>11936</th>\n",
       "      <td>TUMAKURU</td>\n",
       "      <td>0.3</td>\n",
       "      <td>0.5</td>\n",
       "      <td>0.8</td>\n",
       "      <td>80208.059927</td>\n",
       "      <td>0.921773</td>\n",
       "      <td>TKR</td>\n",
       "      <td>19.949841</td>\n",
       "    </tr>\n",
       "    <tr>\n",
       "      <th>11937</th>\n",
       "      <td>CHIKKAMAGALURU</td>\n",
       "      <td>0.3</td>\n",
       "      <td>0.5</td>\n",
       "      <td>0.8</td>\n",
       "      <td>116182.839540</td>\n",
       "      <td>0.816630</td>\n",
       "      <td>CMG</td>\n",
       "      <td>89.367822</td>\n",
       "    </tr>\n",
       "    <tr>\n",
       "      <th>11938</th>\n",
       "      <td>HASSAN</td>\n",
       "      <td>0.3</td>\n",
       "      <td>0.5</td>\n",
       "      <td>0.8</td>\n",
       "      <td>326551.525116</td>\n",
       "      <td>0.487943</td>\n",
       "      <td>HSN</td>\n",
       "      <td>-2.211637</td>\n",
       "    </tr>\n",
       "    <tr>\n",
       "      <th>11939</th>\n",
       "      <td>KODAGU</td>\n",
       "      <td>0.3</td>\n",
       "      <td>0.5</td>\n",
       "      <td>0.8</td>\n",
       "      <td>30245.831299</td>\n",
       "      <td>0.730713</td>\n",
       "      <td>KDG</td>\n",
       "      <td>68.773123</td>\n",
       "    </tr>\n",
       "    <tr>\n",
       "      <th>11940</th>\n",
       "      <td>MANDYA</td>\n",
       "      <td>0.3</td>\n",
       "      <td>0.5</td>\n",
       "      <td>0.8</td>\n",
       "      <td>21414.150553</td>\n",
       "      <td>0.555162</td>\n",
       "      <td>MDY</td>\n",
       "      <td>10.456236</td>\n",
       "    </tr>\n",
       "    <tr>\n",
       "      <th>11941</th>\n",
       "      <td>MYSURU</td>\n",
       "      <td>0.3</td>\n",
       "      <td>0.5</td>\n",
       "      <td>0.8</td>\n",
       "      <td>141616.231348</td>\n",
       "      <td>0.637613</td>\n",
       "      <td>MYS</td>\n",
       "      <td>3.253446</td>\n",
       "    </tr>\n",
       "    <tr>\n",
       "      <th>11942</th>\n",
       "      <td>CHAMARAJANAGAR</td>\n",
       "      <td>0.3</td>\n",
       "      <td>0.5</td>\n",
       "      <td>0.8</td>\n",
       "      <td>156814.214829</td>\n",
       "      <td>0.962837</td>\n",
       "      <td>CNR</td>\n",
       "      <td>6.037228</td>\n",
       "    </tr>\n",
       "    <tr>\n",
       "      <th>11943</th>\n",
       "      <td>BELAGAVI</td>\n",
       "      <td>0.3</td>\n",
       "      <td>0.5</td>\n",
       "      <td>0.8</td>\n",
       "      <td>606208.086526</td>\n",
       "      <td>0.000000</td>\n",
       "      <td>BLG</td>\n",
       "      <td>5.106143</td>\n",
       "    </tr>\n",
       "    <tr>\n",
       "      <th>11944</th>\n",
       "      <td>VIJAYAPURA</td>\n",
       "      <td>0.3</td>\n",
       "      <td>0.5</td>\n",
       "      <td>0.8</td>\n",
       "      <td>159614.137615</td>\n",
       "      <td>0.799920</td>\n",
       "      <td>VJP</td>\n",
       "      <td>-29.476316</td>\n",
       "    </tr>\n",
       "    <tr>\n",
       "      <th>11945</th>\n",
       "      <td>BAGALKOT</td>\n",
       "      <td>0.3</td>\n",
       "      <td>0.5</td>\n",
       "      <td>0.8</td>\n",
       "      <td>255540.039405</td>\n",
       "      <td>0.778930</td>\n",
       "      <td>BKT</td>\n",
       "      <td>1.526045</td>\n",
       "    </tr>\n",
       "    <tr>\n",
       "      <th>11946</th>\n",
       "      <td>DHARAWAD</td>\n",
       "      <td>0.3</td>\n",
       "      <td>0.5</td>\n",
       "      <td>0.8</td>\n",
       "      <td>111095.171459</td>\n",
       "      <td>0.874288</td>\n",
       "      <td>DWD</td>\n",
       "      <td>22.575602</td>\n",
       "    </tr>\n",
       "    <tr>\n",
       "      <th>11947</th>\n",
       "      <td>GADAG</td>\n",
       "      <td>0.3</td>\n",
       "      <td>0.5</td>\n",
       "      <td>0.8</td>\n",
       "      <td>112385.442229</td>\n",
       "      <td>0.962343</td>\n",
       "      <td>GDG</td>\n",
       "      <td>-18.841213</td>\n",
       "    </tr>\n",
       "    <tr>\n",
       "      <th>11948</th>\n",
       "      <td>HAVERI</td>\n",
       "      <td>0.3</td>\n",
       "      <td>0.5</td>\n",
       "      <td>0.8</td>\n",
       "      <td>484605.453481</td>\n",
       "      <td>0.228275</td>\n",
       "      <td>HVR</td>\n",
       "      <td>17.199683</td>\n",
       "    </tr>\n",
       "    <tr>\n",
       "      <th>11949</th>\n",
       "      <td>UTTARA KANNADA</td>\n",
       "      <td>0.3</td>\n",
       "      <td>0.5</td>\n",
       "      <td>0.8</td>\n",
       "      <td>26358.049985</td>\n",
       "      <td>0.637358</td>\n",
       "      <td>UTK</td>\n",
       "      <td>9.423987</td>\n",
       "    </tr>\n",
       "    <tr>\n",
       "      <th>11950</th>\n",
       "      <td>BALLARI</td>\n",
       "      <td>0.3</td>\n",
       "      <td>0.5</td>\n",
       "      <td>0.8</td>\n",
       "      <td>150478.140150</td>\n",
       "      <td>0.887537</td>\n",
       "      <td>BLL</td>\n",
       "      <td>44.627940</td>\n",
       "    </tr>\n",
       "    <tr>\n",
       "      <th>11951</th>\n",
       "      <td>BIDAR</td>\n",
       "      <td>0.3</td>\n",
       "      <td>0.5</td>\n",
       "      <td>0.8</td>\n",
       "      <td>4470.049577</td>\n",
       "      <td>0.549201</td>\n",
       "      <td>BDR</td>\n",
       "      <td>60.159426</td>\n",
       "    </tr>\n",
       "    <tr>\n",
       "      <th>11952</th>\n",
       "      <td>KALABURAGI</td>\n",
       "      <td>0.3</td>\n",
       "      <td>0.5</td>\n",
       "      <td>0.8</td>\n",
       "      <td>11611.563775</td>\n",
       "      <td>0.531154</td>\n",
       "      <td>KLB</td>\n",
       "      <td>-20.582971</td>\n",
       "    </tr>\n",
       "    <tr>\n",
       "      <th>11953</th>\n",
       "      <td>YADGIRI</td>\n",
       "      <td>0.3</td>\n",
       "      <td>0.5</td>\n",
       "      <td>0.8</td>\n",
       "      <td>3770.104438</td>\n",
       "      <td>0.655297</td>\n",
       "      <td>YDR</td>\n",
       "      <td>41.043937</td>\n",
       "    </tr>\n",
       "    <tr>\n",
       "      <th>11954</th>\n",
       "      <td>KOPPAL</td>\n",
       "      <td>0.3</td>\n",
       "      <td>0.5</td>\n",
       "      <td>0.8</td>\n",
       "      <td>171617.109916</td>\n",
       "      <td>0.829519</td>\n",
       "      <td>KPL</td>\n",
       "      <td>-9.794846</td>\n",
       "    </tr>\n",
       "    <tr>\n",
       "      <th>11955</th>\n",
       "      <td>VIJAYANAGARA</td>\n",
       "      <td>0.3</td>\n",
       "      <td>0.5</td>\n",
       "      <td>0.8</td>\n",
       "      <td>150478.140150</td>\n",
       "      <td>0.981869</td>\n",
       "      <td>VJN</td>\n",
       "      <td>44.627940</td>\n",
       "    </tr>\n",
       "  </tbody>\n",
       "</table>\n",
       "</div>"
      ],
      "text/plain": [
       "              District  Sensitivity_LivestockCensus_2012_Cattle  \\\n",
       "11928        BENGALURU                                      0.3   \n",
       "11929     BENGALURU(R)                                      0.3   \n",
       "11930       RAMANAGARA                                      0.3   \n",
       "11931      CHITRADURGA                                      0.3   \n",
       "11932       DAVANAGERE                                      0.3   \n",
       "11933            KOLAR                                      0.3   \n",
       "11934  CHIKKABALLAPURA                                      0.3   \n",
       "11935       SHIVAMOGGA                                      0.3   \n",
       "11936         TUMAKURU                                      0.3   \n",
       "11937   CHIKKAMAGALURU                                      0.3   \n",
       "11938           HASSAN                                      0.3   \n",
       "11939           KODAGU                                      0.3   \n",
       "11940           MANDYA                                      0.3   \n",
       "11941           MYSURU                                      0.3   \n",
       "11942   CHAMARAJANAGAR                                      0.3   \n",
       "11943         BELAGAVI                                      0.3   \n",
       "11944       VIJAYAPURA                                      0.3   \n",
       "11945         BAGALKOT                                      0.3   \n",
       "11946         DHARAWAD                                      0.3   \n",
       "11947            GADAG                                      0.3   \n",
       "11948           HAVERI                                      0.3   \n",
       "11949   UTTARA KANNADA                                      0.3   \n",
       "11950          BALLARI                                      0.3   \n",
       "11951            BIDAR                                      0.3   \n",
       "11952       KALABURAGI                                      0.3   \n",
       "11953          YADGIRI                                      0.3   \n",
       "11954           KOPPAL                                      0.3   \n",
       "11955     VIJAYANAGARA                                      0.3   \n",
       "\n",
       "       Sensitivity_AreaUnderCereals_Maize  Sensitivity_TotalNPK  \\\n",
       "11928                                 0.5                   0.8   \n",
       "11929                                 0.5                   0.8   \n",
       "11930                                 0.5                   0.8   \n",
       "11931                                 0.5                   0.8   \n",
       "11932                                 0.5                   0.8   \n",
       "11933                                 0.5                   0.8   \n",
       "11934                                 0.5                   0.8   \n",
       "11935                                 0.5                   0.8   \n",
       "11936                                 0.5                   0.8   \n",
       "11937                                 0.5                   0.8   \n",
       "11938                                 0.5                   0.8   \n",
       "11939                                 0.5                   0.8   \n",
       "11940                                 0.5                   0.8   \n",
       "11941                                 0.5                   0.8   \n",
       "11942                                 0.5                   0.8   \n",
       "11943                                 0.5                   0.8   \n",
       "11944                                 0.5                   0.8   \n",
       "11945                                 0.5                   0.8   \n",
       "11946                                 0.5                   0.8   \n",
       "11947                                 0.5                   0.8   \n",
       "11948                                 0.5                   0.8   \n",
       "11949                                 0.5                   0.8   \n",
       "11950                                 0.5                   0.8   \n",
       "11951                                 0.5                   0.8   \n",
       "11952                                 0.5                   0.8   \n",
       "11953                                 0.5                   0.8   \n",
       "11954                                 0.5                   0.8   \n",
       "11955                                 0.5                   0.8   \n",
       "\n",
       "       New_Production  Stability_Values Abbreviation  Percentage Change  \n",
       "11928     5234.829483          0.943193          BLR          81.828047  \n",
       "11929    57822.324751          1.000000       BLR(R)          35.787344  \n",
       "11930     8486.321992          0.828936          RGA         -18.791177  \n",
       "11931   275249.358070          0.802144          CDA           1.203919  \n",
       "11932   507098.319133          0.266769          DVG         -14.564326  \n",
       "11933     2929.709803          0.747811          KLR          66.555418  \n",
       "11934   193800.685282          0.698572          CKA          83.713004  \n",
       "11935   198547.332642          0.924814          SMG         -12.353516  \n",
       "11936    80208.059927          0.921773          TKR          19.949841  \n",
       "11937   116182.839540          0.816630          CMG          89.367822  \n",
       "11938   326551.525116          0.487943          HSN          -2.211637  \n",
       "11939    30245.831299          0.730713          KDG          68.773123  \n",
       "11940    21414.150553          0.555162          MDY          10.456236  \n",
       "11941   141616.231348          0.637613          MYS           3.253446  \n",
       "11942   156814.214829          0.962837          CNR           6.037228  \n",
       "11943   606208.086526          0.000000          BLG           5.106143  \n",
       "11944   159614.137615          0.799920          VJP         -29.476316  \n",
       "11945   255540.039405          0.778930          BKT           1.526045  \n",
       "11946   111095.171459          0.874288          DWD          22.575602  \n",
       "11947   112385.442229          0.962343          GDG         -18.841213  \n",
       "11948   484605.453481          0.228275          HVR          17.199683  \n",
       "11949    26358.049985          0.637358          UTK           9.423987  \n",
       "11950   150478.140150          0.887537          BLL          44.627940  \n",
       "11951     4470.049577          0.549201          BDR          60.159426  \n",
       "11952    11611.563775          0.531154          KLB         -20.582971  \n",
       "11953     3770.104438          0.655297          YDR          41.043937  \n",
       "11954   171617.109916          0.829519          KPL          -9.794846  \n",
       "11955   150478.140150          0.981869          VJN          44.627940  "
      ]
     },
     "execution_count": 51,
     "metadata": {},
     "output_type": "execute_result"
    }
   ],
   "source": [
    "tolerance = 1e-5\n",
    "filtered_rows = viz_df[\n",
    "    (viz_df['Sensitivity_LivestockCensus_2012_Cattle'].between(0.3 - tolerance, 0.3 + tolerance)) &\n",
    "    (viz_df['Sensitivity_AreaUnderCereals_Maize'].between(0.5 - tolerance, 0.5 + tolerance)) &\n",
    "    (viz_df['Sensitivity_TotalNPK'].between(0.8 - tolerance, 0.8 + tolerance))\n",
    "]\n",
    "filtered_rows"
   ]
  },
  {
   "cell_type": "code",
   "execution_count": 52,
   "metadata": {},
   "outputs": [
    {
     "data": {
      "application/vnd.plotly.v1+json": {
       "config": {
        "plotlyServerURL": "https://plot.ly"
       },
       "data": [
        {
         "marker": {
          "color": "orange"
         },
         "name": "Old Production",
         "type": "bar",
         "x": [
          "BLR",
          "BLR(R)",
          "RGA",
          "CDA",
          "DVG",
          "KLR",
          "CKA",
          "SMG",
          "TKR",
          "CMG",
          "HSN",
          "KDG",
          "MDY",
          "MYS",
          "CNR",
          "BLG",
          "VJP",
          "BKT",
          "DWD",
          "GDG",
          "HVR",
          "UTK",
          "BLL",
          "BDR",
          "KLB",
          "YDR",
          "KPL",
          "VJN"
         ],
         "y": [
          2879,
          42583,
          10450,
          271975,
          593544,
          1759,
          105491,
          226532,
          66868,
          61353,
          333937,
          17921,
          19387,
          137154,
          147886,
          576758,
          226327,
          251699,
          90634,
          138476,
          413487,
          24088,
          104045,
          2791,
          14621,
          2673,
          190252,
          104045
         ]
        },
        {
         "marker": {
          "color": "blue"
         },
         "name": "New Production",
         "type": "bar",
         "x": [
          "BLR",
          "BLR(R)",
          "RGA",
          "CDA",
          "DVG",
          "KLR",
          "CKA",
          "SMG",
          "TKR",
          "CMG",
          "HSN",
          "KDG",
          "MDY",
          "MYS",
          "CNR",
          "BLG",
          "VJP",
          "BKT",
          "DWD",
          "GDG",
          "HVR",
          "UTK",
          "BLL",
          "BDR",
          "KLB",
          "YDR",
          "KPL",
          "VJN"
         ],
         "y": [
          5234.829483142476,
          57822.32475051438,
          8486.321992265744,
          275249.35807016626,
          507098.31913310435,
          2929.70980328275,
          193800.68528246868,
          198547.33264221012,
          80208.05992656967,
          116182.83954040548,
          326551.5251157279,
          30245.831298647987,
          21414.15055312268,
          141616.23134814412,
          156814.21482913604,
          606208.0865258187,
          159614.1376148159,
          255540.03940472333,
          111095.17145896378,
          112385.44222856006,
          484605.4534808306,
          26358.049985170765,
          150478.14014996836,
          4470.049577219049,
          11611.563775082166,
          3770.1044380797493,
          171617.10991573817,
          150478.14014996836
         ]
        }
       ],
       "layout": {
        "barmode": "group",
        "legend": {
         "title": {
          "text": "Production Type"
         }
        },
        "template": {
         "data": {
          "bar": [
           {
            "error_x": {
             "color": "#2a3f5f"
            },
            "error_y": {
             "color": "#2a3f5f"
            },
            "marker": {
             "line": {
              "color": "#E5ECF6",
              "width": 0.5
             },
             "pattern": {
              "fillmode": "overlay",
              "size": 10,
              "solidity": 0.2
             }
            },
            "type": "bar"
           }
          ],
          "barpolar": [
           {
            "marker": {
             "line": {
              "color": "#E5ECF6",
              "width": 0.5
             },
             "pattern": {
              "fillmode": "overlay",
              "size": 10,
              "solidity": 0.2
             }
            },
            "type": "barpolar"
           }
          ],
          "carpet": [
           {
            "aaxis": {
             "endlinecolor": "#2a3f5f",
             "gridcolor": "white",
             "linecolor": "white",
             "minorgridcolor": "white",
             "startlinecolor": "#2a3f5f"
            },
            "baxis": {
             "endlinecolor": "#2a3f5f",
             "gridcolor": "white",
             "linecolor": "white",
             "minorgridcolor": "white",
             "startlinecolor": "#2a3f5f"
            },
            "type": "carpet"
           }
          ],
          "choropleth": [
           {
            "colorbar": {
             "outlinewidth": 0,
             "ticks": ""
            },
            "type": "choropleth"
           }
          ],
          "contour": [
           {
            "colorbar": {
             "outlinewidth": 0,
             "ticks": ""
            },
            "colorscale": [
             [
              0,
              "#0d0887"
             ],
             [
              0.1111111111111111,
              "#46039f"
             ],
             [
              0.2222222222222222,
              "#7201a8"
             ],
             [
              0.3333333333333333,
              "#9c179e"
             ],
             [
              0.4444444444444444,
              "#bd3786"
             ],
             [
              0.5555555555555556,
              "#d8576b"
             ],
             [
              0.6666666666666666,
              "#ed7953"
             ],
             [
              0.7777777777777778,
              "#fb9f3a"
             ],
             [
              0.8888888888888888,
              "#fdca26"
             ],
             [
              1,
              "#f0f921"
             ]
            ],
            "type": "contour"
           }
          ],
          "contourcarpet": [
           {
            "colorbar": {
             "outlinewidth": 0,
             "ticks": ""
            },
            "type": "contourcarpet"
           }
          ],
          "heatmap": [
           {
            "colorbar": {
             "outlinewidth": 0,
             "ticks": ""
            },
            "colorscale": [
             [
              0,
              "#0d0887"
             ],
             [
              0.1111111111111111,
              "#46039f"
             ],
             [
              0.2222222222222222,
              "#7201a8"
             ],
             [
              0.3333333333333333,
              "#9c179e"
             ],
             [
              0.4444444444444444,
              "#bd3786"
             ],
             [
              0.5555555555555556,
              "#d8576b"
             ],
             [
              0.6666666666666666,
              "#ed7953"
             ],
             [
              0.7777777777777778,
              "#fb9f3a"
             ],
             [
              0.8888888888888888,
              "#fdca26"
             ],
             [
              1,
              "#f0f921"
             ]
            ],
            "type": "heatmap"
           }
          ],
          "heatmapgl": [
           {
            "colorbar": {
             "outlinewidth": 0,
             "ticks": ""
            },
            "colorscale": [
             [
              0,
              "#0d0887"
             ],
             [
              0.1111111111111111,
              "#46039f"
             ],
             [
              0.2222222222222222,
              "#7201a8"
             ],
             [
              0.3333333333333333,
              "#9c179e"
             ],
             [
              0.4444444444444444,
              "#bd3786"
             ],
             [
              0.5555555555555556,
              "#d8576b"
             ],
             [
              0.6666666666666666,
              "#ed7953"
             ],
             [
              0.7777777777777778,
              "#fb9f3a"
             ],
             [
              0.8888888888888888,
              "#fdca26"
             ],
             [
              1,
              "#f0f921"
             ]
            ],
            "type": "heatmapgl"
           }
          ],
          "histogram": [
           {
            "marker": {
             "pattern": {
              "fillmode": "overlay",
              "size": 10,
              "solidity": 0.2
             }
            },
            "type": "histogram"
           }
          ],
          "histogram2d": [
           {
            "colorbar": {
             "outlinewidth": 0,
             "ticks": ""
            },
            "colorscale": [
             [
              0,
              "#0d0887"
             ],
             [
              0.1111111111111111,
              "#46039f"
             ],
             [
              0.2222222222222222,
              "#7201a8"
             ],
             [
              0.3333333333333333,
              "#9c179e"
             ],
             [
              0.4444444444444444,
              "#bd3786"
             ],
             [
              0.5555555555555556,
              "#d8576b"
             ],
             [
              0.6666666666666666,
              "#ed7953"
             ],
             [
              0.7777777777777778,
              "#fb9f3a"
             ],
             [
              0.8888888888888888,
              "#fdca26"
             ],
             [
              1,
              "#f0f921"
             ]
            ],
            "type": "histogram2d"
           }
          ],
          "histogram2dcontour": [
           {
            "colorbar": {
             "outlinewidth": 0,
             "ticks": ""
            },
            "colorscale": [
             [
              0,
              "#0d0887"
             ],
             [
              0.1111111111111111,
              "#46039f"
             ],
             [
              0.2222222222222222,
              "#7201a8"
             ],
             [
              0.3333333333333333,
              "#9c179e"
             ],
             [
              0.4444444444444444,
              "#bd3786"
             ],
             [
              0.5555555555555556,
              "#d8576b"
             ],
             [
              0.6666666666666666,
              "#ed7953"
             ],
             [
              0.7777777777777778,
              "#fb9f3a"
             ],
             [
              0.8888888888888888,
              "#fdca26"
             ],
             [
              1,
              "#f0f921"
             ]
            ],
            "type": "histogram2dcontour"
           }
          ],
          "mesh3d": [
           {
            "colorbar": {
             "outlinewidth": 0,
             "ticks": ""
            },
            "type": "mesh3d"
           }
          ],
          "parcoords": [
           {
            "line": {
             "colorbar": {
              "outlinewidth": 0,
              "ticks": ""
             }
            },
            "type": "parcoords"
           }
          ],
          "pie": [
           {
            "automargin": true,
            "type": "pie"
           }
          ],
          "scatter": [
           {
            "fillpattern": {
             "fillmode": "overlay",
             "size": 10,
             "solidity": 0.2
            },
            "type": "scatter"
           }
          ],
          "scatter3d": [
           {
            "line": {
             "colorbar": {
              "outlinewidth": 0,
              "ticks": ""
             }
            },
            "marker": {
             "colorbar": {
              "outlinewidth": 0,
              "ticks": ""
             }
            },
            "type": "scatter3d"
           }
          ],
          "scattercarpet": [
           {
            "marker": {
             "colorbar": {
              "outlinewidth": 0,
              "ticks": ""
             }
            },
            "type": "scattercarpet"
           }
          ],
          "scattergeo": [
           {
            "marker": {
             "colorbar": {
              "outlinewidth": 0,
              "ticks": ""
             }
            },
            "type": "scattergeo"
           }
          ],
          "scattergl": [
           {
            "marker": {
             "colorbar": {
              "outlinewidth": 0,
              "ticks": ""
             }
            },
            "type": "scattergl"
           }
          ],
          "scattermapbox": [
           {
            "marker": {
             "colorbar": {
              "outlinewidth": 0,
              "ticks": ""
             }
            },
            "type": "scattermapbox"
           }
          ],
          "scatterpolar": [
           {
            "marker": {
             "colorbar": {
              "outlinewidth": 0,
              "ticks": ""
             }
            },
            "type": "scatterpolar"
           }
          ],
          "scatterpolargl": [
           {
            "marker": {
             "colorbar": {
              "outlinewidth": 0,
              "ticks": ""
             }
            },
            "type": "scatterpolargl"
           }
          ],
          "scatterternary": [
           {
            "marker": {
             "colorbar": {
              "outlinewidth": 0,
              "ticks": ""
             }
            },
            "type": "scatterternary"
           }
          ],
          "surface": [
           {
            "colorbar": {
             "outlinewidth": 0,
             "ticks": ""
            },
            "colorscale": [
             [
              0,
              "#0d0887"
             ],
             [
              0.1111111111111111,
              "#46039f"
             ],
             [
              0.2222222222222222,
              "#7201a8"
             ],
             [
              0.3333333333333333,
              "#9c179e"
             ],
             [
              0.4444444444444444,
              "#bd3786"
             ],
             [
              0.5555555555555556,
              "#d8576b"
             ],
             [
              0.6666666666666666,
              "#ed7953"
             ],
             [
              0.7777777777777778,
              "#fb9f3a"
             ],
             [
              0.8888888888888888,
              "#fdca26"
             ],
             [
              1,
              "#f0f921"
             ]
            ],
            "type": "surface"
           }
          ],
          "table": [
           {
            "cells": {
             "fill": {
              "color": "#EBF0F8"
             },
             "line": {
              "color": "white"
             }
            },
            "header": {
             "fill": {
              "color": "#C8D4E3"
             },
             "line": {
              "color": "white"
             }
            },
            "type": "table"
           }
          ]
         },
         "layout": {
          "annotationdefaults": {
           "arrowcolor": "#2a3f5f",
           "arrowhead": 0,
           "arrowwidth": 1
          },
          "autotypenumbers": "strict",
          "coloraxis": {
           "colorbar": {
            "outlinewidth": 0,
            "ticks": ""
           }
          },
          "colorscale": {
           "diverging": [
            [
             0,
             "#8e0152"
            ],
            [
             0.1,
             "#c51b7d"
            ],
            [
             0.2,
             "#de77ae"
            ],
            [
             0.3,
             "#f1b6da"
            ],
            [
             0.4,
             "#fde0ef"
            ],
            [
             0.5,
             "#f7f7f7"
            ],
            [
             0.6,
             "#e6f5d0"
            ],
            [
             0.7,
             "#b8e186"
            ],
            [
             0.8,
             "#7fbc41"
            ],
            [
             0.9,
             "#4d9221"
            ],
            [
             1,
             "#276419"
            ]
           ],
           "sequential": [
            [
             0,
             "#0d0887"
            ],
            [
             0.1111111111111111,
             "#46039f"
            ],
            [
             0.2222222222222222,
             "#7201a8"
            ],
            [
             0.3333333333333333,
             "#9c179e"
            ],
            [
             0.4444444444444444,
             "#bd3786"
            ],
            [
             0.5555555555555556,
             "#d8576b"
            ],
            [
             0.6666666666666666,
             "#ed7953"
            ],
            [
             0.7777777777777778,
             "#fb9f3a"
            ],
            [
             0.8888888888888888,
             "#fdca26"
            ],
            [
             1,
             "#f0f921"
            ]
           ],
           "sequentialminus": [
            [
             0,
             "#0d0887"
            ],
            [
             0.1111111111111111,
             "#46039f"
            ],
            [
             0.2222222222222222,
             "#7201a8"
            ],
            [
             0.3333333333333333,
             "#9c179e"
            ],
            [
             0.4444444444444444,
             "#bd3786"
            ],
            [
             0.5555555555555556,
             "#d8576b"
            ],
            [
             0.6666666666666666,
             "#ed7953"
            ],
            [
             0.7777777777777778,
             "#fb9f3a"
            ],
            [
             0.8888888888888888,
             "#fdca26"
            ],
            [
             1,
             "#f0f921"
            ]
           ]
          },
          "colorway": [
           "#636efa",
           "#EF553B",
           "#00cc96",
           "#ab63fa",
           "#FFA15A",
           "#19d3f3",
           "#FF6692",
           "#B6E880",
           "#FF97FF",
           "#FECB52"
          ],
          "font": {
           "color": "#2a3f5f"
          },
          "geo": {
           "bgcolor": "white",
           "lakecolor": "white",
           "landcolor": "#E5ECF6",
           "showlakes": true,
           "showland": true,
           "subunitcolor": "white"
          },
          "hoverlabel": {
           "align": "left"
          },
          "hovermode": "closest",
          "mapbox": {
           "style": "light"
          },
          "paper_bgcolor": "white",
          "plot_bgcolor": "#E5ECF6",
          "polar": {
           "angularaxis": {
            "gridcolor": "white",
            "linecolor": "white",
            "ticks": ""
           },
           "bgcolor": "#E5ECF6",
           "radialaxis": {
            "gridcolor": "white",
            "linecolor": "white",
            "ticks": ""
           }
          },
          "scene": {
           "xaxis": {
            "backgroundcolor": "#E5ECF6",
            "gridcolor": "white",
            "gridwidth": 2,
            "linecolor": "white",
            "showbackground": true,
            "ticks": "",
            "zerolinecolor": "white"
           },
           "yaxis": {
            "backgroundcolor": "#E5ECF6",
            "gridcolor": "white",
            "gridwidth": 2,
            "linecolor": "white",
            "showbackground": true,
            "ticks": "",
            "zerolinecolor": "white"
           },
           "zaxis": {
            "backgroundcolor": "#E5ECF6",
            "gridcolor": "white",
            "gridwidth": 2,
            "linecolor": "white",
            "showbackground": true,
            "ticks": "",
            "zerolinecolor": "white"
           }
          },
          "shapedefaults": {
           "line": {
            "color": "#2a3f5f"
           }
          },
          "ternary": {
           "aaxis": {
            "gridcolor": "white",
            "linecolor": "white",
            "ticks": ""
           },
           "baxis": {
            "gridcolor": "white",
            "linecolor": "white",
            "ticks": ""
           },
           "bgcolor": "#E5ECF6",
           "caxis": {
            "gridcolor": "white",
            "linecolor": "white",
            "ticks": ""
           }
          },
          "title": {
           "x": 0.05
          },
          "xaxis": {
           "automargin": true,
           "gridcolor": "white",
           "linecolor": "white",
           "ticks": "",
           "title": {
            "standoff": 15
           },
           "zerolinecolor": "white",
           "zerolinewidth": 2
          },
          "yaxis": {
           "automargin": true,
           "gridcolor": "white",
           "linecolor": "white",
           "ticks": "",
           "title": {
            "standoff": 15
           },
           "zerolinecolor": "white",
           "zerolinewidth": 2
          }
         }
        },
        "title": {
         "text": "Comparison of New and Old Maize Production ( 8% change in State Average Production )"
        },
        "xaxis": {
         "tickangle": -45,
         "title": {
          "text": "Districts"
         }
        },
        "yaxis": {
         "title": {
          "text": "Production Values"
         }
        }
       }
      }
     },
     "metadata": {},
     "output_type": "display_data"
    }
   ],
   "source": [
    "new_val = filtered_rows['New_Production']\n",
    "old_val = y_st['Maize_Production']\n",
    "\n",
    "import plotly.graph_objects as go\n",
    "\n",
    "# Define the values\n",
    "new_val = filtered_rows['New_Production']\n",
    "old_val = y_st['Maize_Production']\n",
    "abbreviations = filtered_rows['Abbreviation']\n",
    "\n",
    "# Create the figure\n",
    "fig = go.Figure()\n",
    "\n",
    "# Add the Old Production bars\n",
    "fig.add_trace(go.Bar(\n",
    "    x=abbreviations,\n",
    "    y=old_val,\n",
    "    name='Old Production',\n",
    "    marker_color='orange'\n",
    "))\n",
    "\n",
    "\n",
    "# Add the New Production bars\n",
    "fig.add_trace(go.Bar(\n",
    "    x=abbreviations,\n",
    "    y=new_val,\n",
    "    name='New Production',\n",
    "    marker_color='blue'\n",
    "))\n",
    "\n",
    "\n",
    "# Update layout for better readability\n",
    "fig.update_layout(\n",
    "    title='Comparison of New and Old Maize Production ( 8% change in State Average Production )',\n",
    "    xaxis_title='Districts',\n",
    "    yaxis_title='Production Values',\n",
    "    barmode='group',  # To display bars side by side\n",
    "    xaxis_tickangle=-45,  # Rotate x-axis labels for better readability\n",
    "    legend_title='Production Type'\n",
    ")\n",
    "\n",
    "# Show the figure\n",
    "fig.show()"
   ]
  },
  {
   "cell_type": "code",
   "execution_count": 53,
   "metadata": {},
   "outputs": [],
   "source": [
    "viz_df['New_Production'] = viz_df['New_Production'].apply(lambda x: max(0, x))\n",
    "y = y_st['Maize_Production']\n",
    "\n",
    "viz_df['Impact'] = viz_df['New_Production'] - np.tile(y.values, len(viz_df) // case_file_length + 1)[:len(viz_df)]\n",
    "for i in range(0, len(viz_df), case_file_length):\n",
    "    viz_df.loc[i:i+case_file_length-1, 'Impact'] = viz_df.loc[i:i+case_file_length-1, 'Impact']\n",
    "    # viz_df.loc[i:i+case_file_length-1, 'Normalized Percentage Change'] = normalize_list(viz_df.loc[i:i+case_file_length-1, 'Percentage Change'])\n",
    "\n",
    "viz_df['Impact'] = viz_df['Impact'].replace([np.inf, -np.inf], 0)"
   ]
  },
  {
   "cell_type": "code",
   "execution_count": 1249,
   "metadata": {},
   "outputs": [],
   "source": []
  },
  {
   "cell_type": "code",
   "execution_count": 54,
   "metadata": {},
   "outputs": [
    {
     "data": {
      "application/vnd.plotly.v1+json": {
       "config": {
        "plotlyServerURL": "https://plot.ly"
       },
       "data": [
        {
         "hovertemplate": "color=darkblue<br>Stability=%{x}<br>Impact=%{y}<br>Abbreviation=%{text}<extra></extra>",
         "legendgroup": "darkblue",
         "marker": {
          "color": "darkblue",
          "opacity": 1,
          "symbol": "circle"
         },
         "mode": "markers+text",
         "name": "darkblue",
         "orientation": "v",
         "showlegend": true,
         "text": [
          "BLR",
          "BLR(R)",
          "CDA",
          "KLR",
          "CKA",
          "TKR",
          "CMG",
          "KDG",
          "MDY",
          "MYS",
          "CNR",
          "BLG",
          "BKT",
          "DWD",
          "HVR",
          "UTK",
          "BLL",
          "BDR",
          "YDR",
          "VJN"
         ],
         "textfont": {
          "size": 11
         },
         "textposition": "top center",
         "type": "scatter",
         "x": [
          0.9431934631334666,
          1,
          0.8021442857172584,
          0.7478113722665669,
          0.698571604179711,
          0.9217731370585972,
          0.8166301791232945,
          0.73071315790836,
          0.5551617817446873,
          0.6376134941235951,
          0.9628372765252357,
          0,
          0.7789297614726478,
          0.8742877262545554,
          0.2282753129076781,
          0.6373575686352568,
          0.8875371959391443,
          0.5492006720740435,
          0.6552967988499611,
          0.9818687449315621
         ],
         "xaxis": "x",
         "y": [
          1929.8959508347825,
          14813.391218206685,
          2848.4245378585765,
          744.7762709750559,
          87883.751750161,
          12914.12639426197,
          54403.906008097794,
          11898.897766340298,
          1601.217020814991,
          4036.297815836413,
          8502.281296828354,
          29024.152993510943,
          3415.1058724156464,
          20035.237926656104,
          70692.51994852291,
          1844.1164528630688,
          46007.206617660646,
          1253.116044911355,
          671.1709057720554,
          46007.206617660646
         ],
         "yaxis": "y"
        },
        {
         "hovertemplate": "color=red<br>Stability=%{x}<br>Impact=%{y}<br>Abbreviation=%{text}<extra></extra>",
         "legendgroup": "red",
         "marker": {
          "color": "red",
          "opacity": 1,
          "symbol": "circle"
         },
         "mode": "markers+text",
         "name": "red",
         "orientation": "v",
         "showlegend": true,
         "text": [
          "RGA",
          "DVG",
          "SMG",
          "HSN",
          "VJP",
          "GDG",
          "KLB",
          "KPL"
         ],
         "textfont": {
          "size": 11
         },
         "textposition": "top center",
         "type": "scatter",
         "x": [
          0.8289361898534298,
          0.26676936652689087,
          0.9248144888798113,
          0.48794268606360525,
          0.7999196646922853,
          0.9623427123793225,
          0.5311544104228934,
          0.8295186323874932
         ],
         "xaxis": "x",
         "y": [
          -2389.6115400419485,
          -86871.61439920333,
          -28410.600890097558,
          -7811.408416579827,
          -67138.7959174918,
          -26516.49130374762,
          -3435.369757225526,
          -19060.823616569513
         ],
         "yaxis": "y"
        },
        {
         "marker": {
          "color": "darkblue"
         },
         "mode": "markers",
         "name": "BLR: BENGALURU",
         "type": "scatter",
         "x": [
          null
         ],
         "y": [
          null
         ]
        },
        {
         "marker": {
          "color": "darkblue"
         },
         "mode": "markers",
         "name": "BLR(R): BENGALURU(R)",
         "type": "scatter",
         "x": [
          null
         ],
         "y": [
          null
         ]
        },
        {
         "marker": {
          "color": "darkblue"
         },
         "mode": "markers",
         "name": "RGA: RAMANAGARA",
         "type": "scatter",
         "x": [
          null
         ],
         "y": [
          null
         ]
        },
        {
         "marker": {
          "color": "darkblue"
         },
         "mode": "markers",
         "name": "CDA: CHITRADURGA",
         "type": "scatter",
         "x": [
          null
         ],
         "y": [
          null
         ]
        },
        {
         "marker": {
          "color": "darkblue"
         },
         "mode": "markers",
         "name": "DVG: DAVANAGERE",
         "type": "scatter",
         "x": [
          null
         ],
         "y": [
          null
         ]
        },
        {
         "marker": {
          "color": "darkblue"
         },
         "mode": "markers",
         "name": "KLR: KOLAR",
         "type": "scatter",
         "x": [
          null
         ],
         "y": [
          null
         ]
        },
        {
         "marker": {
          "color": "darkblue"
         },
         "mode": "markers",
         "name": "CKA: CHIKKABALLAPURA",
         "type": "scatter",
         "x": [
          null
         ],
         "y": [
          null
         ]
        },
        {
         "marker": {
          "color": "darkblue"
         },
         "mode": "markers",
         "name": "SMG: SHIVAMOGGA",
         "type": "scatter",
         "x": [
          null
         ],
         "y": [
          null
         ]
        },
        {
         "marker": {
          "color": "darkblue"
         },
         "mode": "markers",
         "name": "TKR: TUMAKURU",
         "type": "scatter",
         "x": [
          null
         ],
         "y": [
          null
         ]
        },
        {
         "marker": {
          "color": "darkblue"
         },
         "mode": "markers",
         "name": "CMG: CHIKKAMAGALURU",
         "type": "scatter",
         "x": [
          null
         ],
         "y": [
          null
         ]
        },
        {
         "marker": {
          "color": "darkblue"
         },
         "mode": "markers",
         "name": "HSN: HASSAN",
         "type": "scatter",
         "x": [
          null
         ],
         "y": [
          null
         ]
        },
        {
         "marker": {
          "color": "darkblue"
         },
         "mode": "markers",
         "name": "KDG: KODAGU",
         "type": "scatter",
         "x": [
          null
         ],
         "y": [
          null
         ]
        },
        {
         "marker": {
          "color": "darkblue"
         },
         "mode": "markers",
         "name": "MDY: MANDYA",
         "type": "scatter",
         "x": [
          null
         ],
         "y": [
          null
         ]
        },
        {
         "marker": {
          "color": "darkblue"
         },
         "mode": "markers",
         "name": "MYS: MYSURU",
         "type": "scatter",
         "x": [
          null
         ],
         "y": [
          null
         ]
        },
        {
         "marker": {
          "color": "darkblue"
         },
         "mode": "markers",
         "name": "CNR: CHAMARAJANAGAR",
         "type": "scatter",
         "x": [
          null
         ],
         "y": [
          null
         ]
        },
        {
         "marker": {
          "color": "darkblue"
         },
         "mode": "markers",
         "name": "BLG: BELAGAVI",
         "type": "scatter",
         "x": [
          null
         ],
         "y": [
          null
         ]
        },
        {
         "marker": {
          "color": "darkblue"
         },
         "mode": "markers",
         "name": "VJP: VIJAYAPURA",
         "type": "scatter",
         "x": [
          null
         ],
         "y": [
          null
         ]
        },
        {
         "marker": {
          "color": "darkblue"
         },
         "mode": "markers",
         "name": "BKT: BAGALKOT",
         "type": "scatter",
         "x": [
          null
         ],
         "y": [
          null
         ]
        },
        {
         "marker": {
          "color": "darkblue"
         },
         "mode": "markers",
         "name": "DWD: DHARAWAD",
         "type": "scatter",
         "x": [
          null
         ],
         "y": [
          null
         ]
        },
        {
         "marker": {
          "color": "darkblue"
         },
         "mode": "markers",
         "name": "GDG: GADAG",
         "type": "scatter",
         "x": [
          null
         ],
         "y": [
          null
         ]
        },
        {
         "marker": {
          "color": "darkblue"
         },
         "mode": "markers",
         "name": "HVR: HAVERI",
         "type": "scatter",
         "x": [
          null
         ],
         "y": [
          null
         ]
        },
        {
         "marker": {
          "color": "darkblue"
         },
         "mode": "markers",
         "name": "UTK: UTTARA KANNADA",
         "type": "scatter",
         "x": [
          null
         ],
         "y": [
          null
         ]
        },
        {
         "marker": {
          "color": "darkblue"
         },
         "mode": "markers",
         "name": "BLL: BALLARI",
         "type": "scatter",
         "x": [
          null
         ],
         "y": [
          null
         ]
        },
        {
         "marker": {
          "color": "darkblue"
         },
         "mode": "markers",
         "name": "BDR: BIDAR",
         "type": "scatter",
         "x": [
          null
         ],
         "y": [
          null
         ]
        },
        {
         "marker": {
          "color": "darkblue"
         },
         "mode": "markers",
         "name": "KLB: KALABURAGI",
         "type": "scatter",
         "x": [
          null
         ],
         "y": [
          null
         ]
        },
        {
         "marker": {
          "color": "darkblue"
         },
         "mode": "markers",
         "name": "YDR: YADGIRI",
         "type": "scatter",
         "x": [
          null
         ],
         "y": [
          null
         ]
        },
        {
         "marker": {
          "color": "darkblue"
         },
         "mode": "markers",
         "name": "KPL: KOPPAL",
         "type": "scatter",
         "x": [
          null
         ],
         "y": [
          null
         ]
        },
        {
         "marker": {
          "color": "darkblue"
         },
         "mode": "markers",
         "name": "VJN: VIJAYANAGARA",
         "type": "scatter",
         "x": [
          null
         ],
         "y": [
          null
         ]
        },
        {
         "mode": "text",
         "showlegend": false,
         "text": [
          "Avg Stability: 0.72"
         ],
         "textfont": {
          "size": 10.7
         },
         "type": "scatter",
         "x": [
          0.7157357744304054
         ],
         "y": [
          -0.07
         ]
        },
        {
         "mode": "text",
         "showlegend": false,
         "text": [
          "Avg Impact: 6389.00"
         ],
         "textfont": {
          "size": 10.7
         },
         "type": "scatter",
         "x": [
          0.3
         ],
         "y": [
          6388.962984615434
         ]
        }
       ],
       "layout": {
        "annotations": [
         {
          "font": {
           "size": 13
          },
          "showarrow": false,
          "text": " α<sub>LV</sub>: 0.50, α<sub>AM</sub>: 0.50, α<sub>NPK</sub>: 0.50",
          "x": 0.5,
          "xref": "paper",
          "y": -0.25,
          "yref": "paper"
         }
        ],
        "legend": {
         "title": {
          "font": {
           "size": 12
          },
          "text": "Districts"
         },
         "tracegroupgap": 0
        },
        "shapes": [
         {
          "line": {
           "color": "red",
           "dash": "dash",
           "width": 1.5
          },
          "type": "line",
          "x0": 0.7157357744304054,
          "x1": 0.7157357744304054,
          "y0": 0,
          "y1": 1,
          "yref": "paper"
         },
         {
          "line": {
           "color": "red",
           "dash": "dash",
           "width": 1.5
          },
          "type": "line",
          "x0": 0,
          "x1": 1,
          "xref": "paper",
          "y0": 6389.002984615434,
          "y1": 6389.002984615434
         }
        ],
        "template": {
         "data": {
          "bar": [
           {
            "error_x": {
             "color": "#2a3f5f"
            },
            "error_y": {
             "color": "#2a3f5f"
            },
            "marker": {
             "line": {
              "color": "#E5ECF6",
              "width": 0.5
             },
             "pattern": {
              "fillmode": "overlay",
              "size": 10,
              "solidity": 0.2
             }
            },
            "type": "bar"
           }
          ],
          "barpolar": [
           {
            "marker": {
             "line": {
              "color": "#E5ECF6",
              "width": 0.5
             },
             "pattern": {
              "fillmode": "overlay",
              "size": 10,
              "solidity": 0.2
             }
            },
            "type": "barpolar"
           }
          ],
          "carpet": [
           {
            "aaxis": {
             "endlinecolor": "#2a3f5f",
             "gridcolor": "white",
             "linecolor": "white",
             "minorgridcolor": "white",
             "startlinecolor": "#2a3f5f"
            },
            "baxis": {
             "endlinecolor": "#2a3f5f",
             "gridcolor": "white",
             "linecolor": "white",
             "minorgridcolor": "white",
             "startlinecolor": "#2a3f5f"
            },
            "type": "carpet"
           }
          ],
          "choropleth": [
           {
            "colorbar": {
             "outlinewidth": 0,
             "ticks": ""
            },
            "type": "choropleth"
           }
          ],
          "contour": [
           {
            "colorbar": {
             "outlinewidth": 0,
             "ticks": ""
            },
            "colorscale": [
             [
              0,
              "#0d0887"
             ],
             [
              0.1111111111111111,
              "#46039f"
             ],
             [
              0.2222222222222222,
              "#7201a8"
             ],
             [
              0.3333333333333333,
              "#9c179e"
             ],
             [
              0.4444444444444444,
              "#bd3786"
             ],
             [
              0.5555555555555556,
              "#d8576b"
             ],
             [
              0.6666666666666666,
              "#ed7953"
             ],
             [
              0.7777777777777778,
              "#fb9f3a"
             ],
             [
              0.8888888888888888,
              "#fdca26"
             ],
             [
              1,
              "#f0f921"
             ]
            ],
            "type": "contour"
           }
          ],
          "contourcarpet": [
           {
            "colorbar": {
             "outlinewidth": 0,
             "ticks": ""
            },
            "type": "contourcarpet"
           }
          ],
          "heatmap": [
           {
            "colorbar": {
             "outlinewidth": 0,
             "ticks": ""
            },
            "colorscale": [
             [
              0,
              "#0d0887"
             ],
             [
              0.1111111111111111,
              "#46039f"
             ],
             [
              0.2222222222222222,
              "#7201a8"
             ],
             [
              0.3333333333333333,
              "#9c179e"
             ],
             [
              0.4444444444444444,
              "#bd3786"
             ],
             [
              0.5555555555555556,
              "#d8576b"
             ],
             [
              0.6666666666666666,
              "#ed7953"
             ],
             [
              0.7777777777777778,
              "#fb9f3a"
             ],
             [
              0.8888888888888888,
              "#fdca26"
             ],
             [
              1,
              "#f0f921"
             ]
            ],
            "type": "heatmap"
           }
          ],
          "heatmapgl": [
           {
            "colorbar": {
             "outlinewidth": 0,
             "ticks": ""
            },
            "colorscale": [
             [
              0,
              "#0d0887"
             ],
             [
              0.1111111111111111,
              "#46039f"
             ],
             [
              0.2222222222222222,
              "#7201a8"
             ],
             [
              0.3333333333333333,
              "#9c179e"
             ],
             [
              0.4444444444444444,
              "#bd3786"
             ],
             [
              0.5555555555555556,
              "#d8576b"
             ],
             [
              0.6666666666666666,
              "#ed7953"
             ],
             [
              0.7777777777777778,
              "#fb9f3a"
             ],
             [
              0.8888888888888888,
              "#fdca26"
             ],
             [
              1,
              "#f0f921"
             ]
            ],
            "type": "heatmapgl"
           }
          ],
          "histogram": [
           {
            "marker": {
             "pattern": {
              "fillmode": "overlay",
              "size": 10,
              "solidity": 0.2
             }
            },
            "type": "histogram"
           }
          ],
          "histogram2d": [
           {
            "colorbar": {
             "outlinewidth": 0,
             "ticks": ""
            },
            "colorscale": [
             [
              0,
              "#0d0887"
             ],
             [
              0.1111111111111111,
              "#46039f"
             ],
             [
              0.2222222222222222,
              "#7201a8"
             ],
             [
              0.3333333333333333,
              "#9c179e"
             ],
             [
              0.4444444444444444,
              "#bd3786"
             ],
             [
              0.5555555555555556,
              "#d8576b"
             ],
             [
              0.6666666666666666,
              "#ed7953"
             ],
             [
              0.7777777777777778,
              "#fb9f3a"
             ],
             [
              0.8888888888888888,
              "#fdca26"
             ],
             [
              1,
              "#f0f921"
             ]
            ],
            "type": "histogram2d"
           }
          ],
          "histogram2dcontour": [
           {
            "colorbar": {
             "outlinewidth": 0,
             "ticks": ""
            },
            "colorscale": [
             [
              0,
              "#0d0887"
             ],
             [
              0.1111111111111111,
              "#46039f"
             ],
             [
              0.2222222222222222,
              "#7201a8"
             ],
             [
              0.3333333333333333,
              "#9c179e"
             ],
             [
              0.4444444444444444,
              "#bd3786"
             ],
             [
              0.5555555555555556,
              "#d8576b"
             ],
             [
              0.6666666666666666,
              "#ed7953"
             ],
             [
              0.7777777777777778,
              "#fb9f3a"
             ],
             [
              0.8888888888888888,
              "#fdca26"
             ],
             [
              1,
              "#f0f921"
             ]
            ],
            "type": "histogram2dcontour"
           }
          ],
          "mesh3d": [
           {
            "colorbar": {
             "outlinewidth": 0,
             "ticks": ""
            },
            "type": "mesh3d"
           }
          ],
          "parcoords": [
           {
            "line": {
             "colorbar": {
              "outlinewidth": 0,
              "ticks": ""
             }
            },
            "type": "parcoords"
           }
          ],
          "pie": [
           {
            "automargin": true,
            "type": "pie"
           }
          ],
          "scatter": [
           {
            "fillpattern": {
             "fillmode": "overlay",
             "size": 10,
             "solidity": 0.2
            },
            "type": "scatter"
           }
          ],
          "scatter3d": [
           {
            "line": {
             "colorbar": {
              "outlinewidth": 0,
              "ticks": ""
             }
            },
            "marker": {
             "colorbar": {
              "outlinewidth": 0,
              "ticks": ""
             }
            },
            "type": "scatter3d"
           }
          ],
          "scattercarpet": [
           {
            "marker": {
             "colorbar": {
              "outlinewidth": 0,
              "ticks": ""
             }
            },
            "type": "scattercarpet"
           }
          ],
          "scattergeo": [
           {
            "marker": {
             "colorbar": {
              "outlinewidth": 0,
              "ticks": ""
             }
            },
            "type": "scattergeo"
           }
          ],
          "scattergl": [
           {
            "marker": {
             "colorbar": {
              "outlinewidth": 0,
              "ticks": ""
             }
            },
            "type": "scattergl"
           }
          ],
          "scattermapbox": [
           {
            "marker": {
             "colorbar": {
              "outlinewidth": 0,
              "ticks": ""
             }
            },
            "type": "scattermapbox"
           }
          ],
          "scatterpolar": [
           {
            "marker": {
             "colorbar": {
              "outlinewidth": 0,
              "ticks": ""
             }
            },
            "type": "scatterpolar"
           }
          ],
          "scatterpolargl": [
           {
            "marker": {
             "colorbar": {
              "outlinewidth": 0,
              "ticks": ""
             }
            },
            "type": "scatterpolargl"
           }
          ],
          "scatterternary": [
           {
            "marker": {
             "colorbar": {
              "outlinewidth": 0,
              "ticks": ""
             }
            },
            "type": "scatterternary"
           }
          ],
          "surface": [
           {
            "colorbar": {
             "outlinewidth": 0,
             "ticks": ""
            },
            "colorscale": [
             [
              0,
              "#0d0887"
             ],
             [
              0.1111111111111111,
              "#46039f"
             ],
             [
              0.2222222222222222,
              "#7201a8"
             ],
             [
              0.3333333333333333,
              "#9c179e"
             ],
             [
              0.4444444444444444,
              "#bd3786"
             ],
             [
              0.5555555555555556,
              "#d8576b"
             ],
             [
              0.6666666666666666,
              "#ed7953"
             ],
             [
              0.7777777777777778,
              "#fb9f3a"
             ],
             [
              0.8888888888888888,
              "#fdca26"
             ],
             [
              1,
              "#f0f921"
             ]
            ],
            "type": "surface"
           }
          ],
          "table": [
           {
            "cells": {
             "fill": {
              "color": "#EBF0F8"
             },
             "line": {
              "color": "white"
             }
            },
            "header": {
             "fill": {
              "color": "#C8D4E3"
             },
             "line": {
              "color": "white"
             }
            },
            "type": "table"
           }
          ]
         },
         "layout": {
          "annotationdefaults": {
           "arrowcolor": "#2a3f5f",
           "arrowhead": 0,
           "arrowwidth": 1
          },
          "autotypenumbers": "strict",
          "coloraxis": {
           "colorbar": {
            "outlinewidth": 0,
            "ticks": ""
           }
          },
          "colorscale": {
           "diverging": [
            [
             0,
             "#8e0152"
            ],
            [
             0.1,
             "#c51b7d"
            ],
            [
             0.2,
             "#de77ae"
            ],
            [
             0.3,
             "#f1b6da"
            ],
            [
             0.4,
             "#fde0ef"
            ],
            [
             0.5,
             "#f7f7f7"
            ],
            [
             0.6,
             "#e6f5d0"
            ],
            [
             0.7,
             "#b8e186"
            ],
            [
             0.8,
             "#7fbc41"
            ],
            [
             0.9,
             "#4d9221"
            ],
            [
             1,
             "#276419"
            ]
           ],
           "sequential": [
            [
             0,
             "#0d0887"
            ],
            [
             0.1111111111111111,
             "#46039f"
            ],
            [
             0.2222222222222222,
             "#7201a8"
            ],
            [
             0.3333333333333333,
             "#9c179e"
            ],
            [
             0.4444444444444444,
             "#bd3786"
            ],
            [
             0.5555555555555556,
             "#d8576b"
            ],
            [
             0.6666666666666666,
             "#ed7953"
            ],
            [
             0.7777777777777778,
             "#fb9f3a"
            ],
            [
             0.8888888888888888,
             "#fdca26"
            ],
            [
             1,
             "#f0f921"
            ]
           ],
           "sequentialminus": [
            [
             0,
             "#0d0887"
            ],
            [
             0.1111111111111111,
             "#46039f"
            ],
            [
             0.2222222222222222,
             "#7201a8"
            ],
            [
             0.3333333333333333,
             "#9c179e"
            ],
            [
             0.4444444444444444,
             "#bd3786"
            ],
            [
             0.5555555555555556,
             "#d8576b"
            ],
            [
             0.6666666666666666,
             "#ed7953"
            ],
            [
             0.7777777777777778,
             "#fb9f3a"
            ],
            [
             0.8888888888888888,
             "#fdca26"
            ],
            [
             1,
             "#f0f921"
            ]
           ]
          },
          "colorway": [
           "#636efa",
           "#EF553B",
           "#00cc96",
           "#ab63fa",
           "#FFA15A",
           "#19d3f3",
           "#FF6692",
           "#B6E880",
           "#FF97FF",
           "#FECB52"
          ],
          "font": {
           "color": "#2a3f5f"
          },
          "geo": {
           "bgcolor": "white",
           "lakecolor": "white",
           "landcolor": "#E5ECF6",
           "showlakes": true,
           "showland": true,
           "subunitcolor": "white"
          },
          "hoverlabel": {
           "align": "left"
          },
          "hovermode": "closest",
          "mapbox": {
           "style": "light"
          },
          "paper_bgcolor": "white",
          "plot_bgcolor": "#E5ECF6",
          "polar": {
           "angularaxis": {
            "gridcolor": "white",
            "linecolor": "white",
            "ticks": ""
           },
           "bgcolor": "#E5ECF6",
           "radialaxis": {
            "gridcolor": "white",
            "linecolor": "white",
            "ticks": ""
           }
          },
          "scene": {
           "xaxis": {
            "backgroundcolor": "#E5ECF6",
            "gridcolor": "white",
            "gridwidth": 2,
            "linecolor": "white",
            "showbackground": true,
            "ticks": "",
            "zerolinecolor": "white"
           },
           "yaxis": {
            "backgroundcolor": "#E5ECF6",
            "gridcolor": "white",
            "gridwidth": 2,
            "linecolor": "white",
            "showbackground": true,
            "ticks": "",
            "zerolinecolor": "white"
           },
           "zaxis": {
            "backgroundcolor": "#E5ECF6",
            "gridcolor": "white",
            "gridwidth": 2,
            "linecolor": "white",
            "showbackground": true,
            "ticks": "",
            "zerolinecolor": "white"
           }
          },
          "shapedefaults": {
           "line": {
            "color": "#2a3f5f"
           }
          },
          "ternary": {
           "aaxis": {
            "gridcolor": "white",
            "linecolor": "white",
            "ticks": ""
           },
           "baxis": {
            "gridcolor": "white",
            "linecolor": "white",
            "ticks": ""
           },
           "bgcolor": "#E5ECF6",
           "caxis": {
            "gridcolor": "white",
            "linecolor": "white",
            "ticks": ""
           }
          },
          "title": {
           "x": 0.05
          },
          "xaxis": {
           "automargin": true,
           "gridcolor": "white",
           "linecolor": "white",
           "ticks": "",
           "title": {
            "standoff": 15
           },
           "zerolinecolor": "white",
           "zerolinewidth": 2
          },
          "yaxis": {
           "automargin": true,
           "gridcolor": "white",
           "linecolor": "white",
           "ticks": "",
           "title": {
            "standoff": 15
           },
           "zerolinecolor": "white",
           "zerolinewidth": 2
          }
         }
        },
        "title": {
         "text": "Maize Impact vs Stability"
        },
        "xaxis": {
         "anchor": "y",
         "domain": [
          0,
          1
         ],
         "title": {
          "text": "Stability"
         }
        },
        "yaxis": {
         "anchor": "x",
         "domain": [
          0,
          1
         ],
         "title": {
          "text": "Impact"
         }
        }
       }
      }
     },
     "metadata": {},
     "output_type": "display_data"
    },
    {
     "data": {
      "application/vnd.jupyter.widget-view+json": {
       "model_id": "e8240f8fc540416db51f07e0f886b037",
       "version_major": 2,
       "version_minor": 0
      },
      "text/plain": [
       "interactive(children=(FloatSlider(value=0.5, description='αLV:', max=1.0), FloatSlider(value=0.5, description=…"
      ]
     },
     "metadata": {},
     "output_type": "display_data"
    },
    {
     "data": {
      "application/vnd.jupyter.widget-view+json": {
       "model_id": "5baa95feb2444d62b73d35e3fd4bc27a",
       "version_major": 2,
       "version_minor": 0
      },
      "text/plain": [
       "HBox(children=(Button(description='Update Plot', style=ButtonStyle()), FloatSlider(value=0.5, description='αLV…"
      ]
     },
     "execution_count": 54,
     "metadata": {},
     "output_type": "execute_result"
    }
   ],
   "source": [
    "import pandas as pd\n",
    "import plotly.express as px\n",
    "import ipywidgets as widgets\n",
    "from ipywidgets import interact\n",
    "from IPython.display import clear_output\n",
    "import plotly.graph_objects as go\n",
    "\n",
    "def update_plot(alpha1, alpha2, alpha3):\n",
    "    \n",
    "    tolerance = 1e-5 \n",
    "    filtered_df = viz_df[\n",
    "        (viz_df['Sensitivity_LivestockCensus_2012_Cattle'].between(alpha1 - tolerance, alpha1 + tolerance)) &\n",
    "        (viz_df['Sensitivity_AreaUnderCereals_Maize'].between(alpha2 - tolerance, alpha2 + tolerance)) & \n",
    "        (viz_df['Sensitivity_TotalNPK'].between(alpha3 - tolerance, alpha3 + tolerance)) \n",
    "    ]\n",
    "\n",
    "    # Create a scatter plot with filtered data\n",
    "    fig = px.scatter(\n",
    "        filtered_df, \n",
    "        x='Stability_Values', \n",
    "        y='Impact', \n",
    "        title='Maize Impact vs Stability',\n",
    "        labels={'Impact': 'Impact', 'Stability_Values': 'Stability'},\n",
    "        text='Abbreviation',\n",
    "        opacity=1,\n",
    "        color=filtered_df['Impact'].apply(lambda val: 'red' if val < 0 else 'darkblue'),  # Conditional coloring\n",
    "        color_discrete_map={'red': 'red', 'darkblue': 'darkblue'}\n",
    "    )\n",
    "\n",
    "    fig.update_traces(textposition='top center', textfont=dict(size=11))\n",
    "\n",
    "    # Update layout to add annotations and legends\n",
    "    fig.update_layout(\n",
    "        annotations=[\n",
    "            dict(\n",
    "                x=0.5,\n",
    "                y=-0.25,\n",
    "                showarrow=False,\n",
    "                text=f' α<sub>LV</sub>: {alpha1:.2f}, α<sub>AM</sub>: {alpha2:.2f}, α<sub>NPK</sub>: {alpha3:.2f}',\n",
    "                xref=\"paper\",\n",
    "                yref=\"paper\",\n",
    "                font=dict(size=13)\n",
    "            )\n",
    "        ],\n",
    "        legend_title_text='Districts',\n",
    "        legend_title=dict(font=dict(size=12)),\n",
    "    )\n",
    "\n",
    "    # Adding custom legends with abbreviations and full forms\n",
    "    legend_labels = [{'Abbreviation': abb, 'Full Form': full_form} \n",
    "                     for abb, full_form in zip(filtered_df['Abbreviation'].unique(), filtered_df['District'].unique())]\n",
    "\n",
    "    for label in legend_labels:\n",
    "        fig.add_trace(go.Scatter(\n",
    "            x=[None],\n",
    "            y=[None],\n",
    "            mode='markers',\n",
    "            marker=dict(color='darkblue'),\n",
    "            name=f\"{label['Abbreviation']}: {label['Full Form']}\"\n",
    "        ))\n",
    "\n",
    "    # Adding average lines for stability and percentage change\n",
    "    avg_stability = filtered_df['Stability_Values'].mean()\n",
    "    avg_precent = filtered_df['Impact'].mean()\n",
    "\n",
    "    fig.add_shape(\n",
    "        type='line',\n",
    "        x0=avg_stability, y0=0, x1=avg_stability, y1=1,\n",
    "        line=dict(color='red', width=1.5, dash='dash'),\n",
    "        yref='paper'\n",
    "    )\n",
    "\n",
    "    fig.add_shape(\n",
    "        type='line',\n",
    "        x0=0, y0=avg_precent, x1=1, y1=avg_precent,\n",
    "        line=dict(color='red', width=1.5, dash='dash'),\n",
    "        xref='paper'\n",
    "    )\n",
    "\n",
    "    # Add annotations for average values\n",
    "    fig.add_trace(go.Scatter(\n",
    "        x=[avg_stability],\n",
    "        y=[-0.07],\n",
    "        text=[f'Avg Stability: {avg_stability:.2f}'],\n",
    "        mode=\"text\",\n",
    "        showlegend=False,\n",
    "        textfont=dict(size=10.7)\n",
    "    ))\n",
    "\n",
    "    fig.add_trace(go.Scatter(\n",
    "        x=[0.3],\n",
    "        y=[avg_precent-0.04],\n",
    "        text=[f'Avg Impact: {avg_precent:.2f}'],\n",
    "        mode=\"text\",\n",
    "        showlegend=False,\n",
    "        textfont=dict(size=10.7)\n",
    "    ))\n",
    "\n",
    "    clear_output()\n",
    "\n",
    "    display(fig)\n",
    "\n",
    "\n",
    "# Creating sliders for interaction\n",
    "alpha1_slider = widgets.FloatSlider(value=0.5, min=0, max=1, step=0.1, description='αLV:')\n",
    "alpha2_slider = widgets.FloatSlider(value=0.5, min=0, max=1, step=0.1, description='αAM:')\n",
    "alpha3_slider = widgets.FloatSlider(value=0.5, min=0, max=1, step=0.1, description='αNPK:')\n",
    "\n",
    "# Creating interactive plot\n",
    "interactive_plot = interact(update_plot, alpha1=alpha1_slider, alpha2=alpha2_slider, alpha3=alpha3_slider)\n",
    "\n",
    "# Create update button to trigger plot update\n",
    "update_button = widgets.Button(description=\"Update Plot\")\n",
    "update_button.on_click(lambda _: update_plot(alpha1_slider.value, alpha2_slider.value, alpha3_slider.value))\n",
    "\n",
    "# Display the button and sliders\n",
    "widgets.HBox([update_button, alpha1_slider, alpha2_slider, alpha3_slider])"
   ]
  },
  {
   "cell_type": "code",
   "execution_count": 55,
   "metadata": {},
   "outputs": [
    {
     "data": {
      "text/html": [
       "<div>\n",
       "<style scoped>\n",
       "    .dataframe tbody tr th:only-of-type {\n",
       "        vertical-align: middle;\n",
       "    }\n",
       "\n",
       "    .dataframe tbody tr th {\n",
       "        vertical-align: top;\n",
       "    }\n",
       "\n",
       "    .dataframe thead th {\n",
       "        text-align: right;\n",
       "    }\n",
       "</style>\n",
       "<table border=\"1\" class=\"dataframe\">\n",
       "  <thead>\n",
       "    <tr style=\"text-align: right;\">\n",
       "      <th></th>\n",
       "      <th>Sensitivity_LivestockCensus_2012_Cattle</th>\n",
       "      <th>Sensitivity_AreaUnderCereals_Maize</th>\n",
       "      <th>Sensitivity_TotalNPK</th>\n",
       "      <th>LivestockCensus_2012_Cattle</th>\n",
       "      <th>AreaUnderCereals_Maize</th>\n",
       "      <th>TotalNPK</th>\n",
       "      <th>Beta_0</th>\n",
       "      <th>Beta_1</th>\n",
       "      <th>Beta_2</th>\n",
       "      <th>Beta_3</th>\n",
       "      <th>New_F1</th>\n",
       "      <th>New_F2</th>\n",
       "      <th>New_F3</th>\n",
       "      <th>District</th>\n",
       "      <th>New_Production</th>\n",
       "      <th>Stress_Values</th>\n",
       "      <th>Stability_Values</th>\n",
       "      <th>Percentage Change</th>\n",
       "    </tr>\n",
       "  </thead>\n",
       "  <tbody>\n",
       "    <tr>\n",
       "      <th>0</th>\n",
       "      <td>0.0</td>\n",
       "      <td>0.0</td>\n",
       "      <td>0.0</td>\n",
       "      <td>2567.461578</td>\n",
       "      <td>1129.0</td>\n",
       "      <td>438.180210</td>\n",
       "      <td>-7629.70252</td>\n",
       "      <td>0.578355</td>\n",
       "      <td>1.778552</td>\n",
       "      <td>5.834829</td>\n",
       "      <td>2567.461578</td>\n",
       "      <td>1129.000000</td>\n",
       "      <td>438.180210</td>\n",
       "      <td>BENGALURU</td>\n",
       "      <td>0.000000</td>\n",
       "      <td>0.051422</td>\n",
       "      <td>0.948578</td>\n",
       "      <td>-100.000000</td>\n",
       "    </tr>\n",
       "    <tr>\n",
       "      <th>1</th>\n",
       "      <td>0.0</td>\n",
       "      <td>0.0</td>\n",
       "      <td>0.0</td>\n",
       "      <td>25037.139270</td>\n",
       "      <td>14867.0</td>\n",
       "      <td>3036.080250</td>\n",
       "      <td>-7629.70252</td>\n",
       "      <td>0.578355</td>\n",
       "      <td>1.778552</td>\n",
       "      <td>5.834829</td>\n",
       "      <td>25037.139270</td>\n",
       "      <td>14867.000000</td>\n",
       "      <td>3036.080250</td>\n",
       "      <td>BENGALURU(R)</td>\n",
       "      <td>51007.388234</td>\n",
       "      <td>0.000000</td>\n",
       "      <td>1.000000</td>\n",
       "      <td>19.783454</td>\n",
       "    </tr>\n",
       "    <tr>\n",
       "      <th>2</th>\n",
       "      <td>0.0</td>\n",
       "      <td>0.0</td>\n",
       "      <td>0.0</td>\n",
       "      <td>7729.614277</td>\n",
       "      <td>1987.0</td>\n",
       "      <td>222.225258</td>\n",
       "      <td>-7629.70252</td>\n",
       "      <td>0.578355</td>\n",
       "      <td>1.778552</td>\n",
       "      <td>5.834829</td>\n",
       "      <td>7729.614277</td>\n",
       "      <td>1987.000000</td>\n",
       "      <td>222.225258</td>\n",
       "      <td>RAMANAGARA</td>\n",
       "      <td>1671.385475</td>\n",
       "      <td>0.169847</td>\n",
       "      <td>0.830153</td>\n",
       "      <td>-84.005881</td>\n",
       "    </tr>\n",
       "    <tr>\n",
       "      <th>3</th>\n",
       "      <td>0.0</td>\n",
       "      <td>0.0</td>\n",
       "      <td>0.0</td>\n",
       "      <td>83821.593090</td>\n",
       "      <td>92194.0</td>\n",
       "      <td>10902.406570</td>\n",
       "      <td>-7629.70252</td>\n",
       "      <td>0.578355</td>\n",
       "      <td>1.778552</td>\n",
       "      <td>5.834829</td>\n",
       "      <td>83821.593090</td>\n",
       "      <td>92194.000000</td>\n",
       "      <td>10902.406570</td>\n",
       "      <td>CHITRADURGA</td>\n",
       "      <td>268434.421553</td>\n",
       "      <td>0.196048</td>\n",
       "      <td>0.803952</td>\n",
       "      <td>-1.301803</td>\n",
       "    </tr>\n",
       "    <tr>\n",
       "      <th>4</th>\n",
       "      <td>0.0</td>\n",
       "      <td>0.0</td>\n",
       "      <td>0.0</td>\n",
       "      <td>85657.632090</td>\n",
       "      <td>173400.0</td>\n",
       "      <td>25702.835480</td>\n",
       "      <td>-7629.70252</td>\n",
       "      <td>0.578355</td>\n",
       "      <td>1.778552</td>\n",
       "      <td>5.834829</td>\n",
       "      <td>85657.632090</td>\n",
       "      <td>173400.000000</td>\n",
       "      <td>25702.835480</td>\n",
       "      <td>DAVANAGERE</td>\n",
       "      <td>500283.382616</td>\n",
       "      <td>0.732629</td>\n",
       "      <td>0.267371</td>\n",
       "      <td>-15.712503</td>\n",
       "    </tr>\n",
       "    <tr>\n",
       "      <th>...</th>\n",
       "      <td>...</td>\n",
       "      <td>...</td>\n",
       "      <td>...</td>\n",
       "      <td>...</td>\n",
       "      <td>...</td>\n",
       "      <td>...</td>\n",
       "      <td>...</td>\n",
       "      <td>...</td>\n",
       "      <td>...</td>\n",
       "      <td>...</td>\n",
       "      <td>...</td>\n",
       "      <td>...</td>\n",
       "      <td>...</td>\n",
       "      <td>...</td>\n",
       "      <td>...</td>\n",
       "      <td>...</td>\n",
       "      <td>...</td>\n",
       "      <td>...</td>\n",
       "    </tr>\n",
       "    <tr>\n",
       "      <th>37263</th>\n",
       "      <td>1.0</td>\n",
       "      <td>1.0</td>\n",
       "      <td>1.0</td>\n",
       "      <td>2371.831678</td>\n",
       "      <td>1382.0</td>\n",
       "      <td>249.381182</td>\n",
       "      <td>-7629.70252</td>\n",
       "      <td>0.578355</td>\n",
       "      <td>1.778552</td>\n",
       "      <td>5.834829</td>\n",
       "      <td>9736.404916</td>\n",
       "      <td>3776.833045</td>\n",
       "      <td>979.365731</td>\n",
       "      <td>BIDAR</td>\n",
       "      <td>10433.119030</td>\n",
       "      <td>0.450799</td>\n",
       "      <td>0.549201</td>\n",
       "      <td>273.812935</td>\n",
       "    </tr>\n",
       "    <tr>\n",
       "      <th>37264</th>\n",
       "      <td>1.0</td>\n",
       "      <td>1.0</td>\n",
       "      <td>1.0</td>\n",
       "      <td>6221.617910</td>\n",
       "      <td>2634.0</td>\n",
       "      <td>710.101614</td>\n",
       "      <td>-7629.70252</td>\n",
       "      <td>0.578355</td>\n",
       "      <td>1.778552</td>\n",
       "      <td>5.834829</td>\n",
       "      <td>13586.191148</td>\n",
       "      <td>5028.833045</td>\n",
       "      <td>1440.086163</td>\n",
       "      <td>KALABURAGI</td>\n",
       "      <td>17574.633227</td>\n",
       "      <td>0.468846</td>\n",
       "      <td>0.531154</td>\n",
       "      <td>20.201308</td>\n",
       "    </tr>\n",
       "    <tr>\n",
       "      <th>37265</th>\n",
       "      <td>1.0</td>\n",
       "      <td>1.0</td>\n",
       "      <td>1.0</td>\n",
       "      <td>1253.317144</td>\n",
       "      <td>961.0</td>\n",
       "      <td>368.617469</td>\n",
       "      <td>-7629.70252</td>\n",
       "      <td>0.578355</td>\n",
       "      <td>1.778552</td>\n",
       "      <td>5.834829</td>\n",
       "      <td>8617.890382</td>\n",
       "      <td>3355.833045</td>\n",
       "      <td>1098.602018</td>\n",
       "      <td>YADGIRI</td>\n",
       "      <td>9733.173890</td>\n",
       "      <td>0.344703</td>\n",
       "      <td>0.655297</td>\n",
       "      <td>264.129214</td>\n",
       "    </tr>\n",
       "    <tr>\n",
       "      <th>37266</th>\n",
       "      <td>1.0</td>\n",
       "      <td>1.0</td>\n",
       "      <td>1.0</td>\n",
       "      <td>38936.400170</td>\n",
       "      <td>48210.0</td>\n",
       "      <td>10997.550400</td>\n",
       "      <td>-7629.70252</td>\n",
       "      <td>0.578355</td>\n",
       "      <td>1.778552</td>\n",
       "      <td>5.834829</td>\n",
       "      <td>46300.973408</td>\n",
       "      <td>50604.833045</td>\n",
       "      <td>11727.534949</td>\n",
       "      <td>KOPPAL</td>\n",
       "      <td>177580.179368</td>\n",
       "      <td>0.170481</td>\n",
       "      <td>0.829519</td>\n",
       "      <td>-6.660545</td>\n",
       "    </tr>\n",
       "    <tr>\n",
       "      <th>37267</th>\n",
       "      <td>1.0</td>\n",
       "      <td>1.0</td>\n",
       "      <td>1.0</td>\n",
       "      <td>23446.847900</td>\n",
       "      <td>49869.5</td>\n",
       "      <td>8404.154608</td>\n",
       "      <td>-7629.70252</td>\n",
       "      <td>0.578355</td>\n",
       "      <td>1.778552</td>\n",
       "      <td>5.834829</td>\n",
       "      <td>30811.421138</td>\n",
       "      <td>52264.333045</td>\n",
       "      <td>9134.139157</td>\n",
       "      <td>VIJAYANAGARA</td>\n",
       "      <td>156441.209602</td>\n",
       "      <td>0.018131</td>\n",
       "      <td>0.981869</td>\n",
       "      <td>50.359181</td>\n",
       "    </tr>\n",
       "  </tbody>\n",
       "</table>\n",
       "<p>37268 rows × 18 columns</p>\n",
       "</div>"
      ],
      "text/plain": [
       "       Sensitivity_LivestockCensus_2012_Cattle  \\\n",
       "0                                          0.0   \n",
       "1                                          0.0   \n",
       "2                                          0.0   \n",
       "3                                          0.0   \n",
       "4                                          0.0   \n",
       "...                                        ...   \n",
       "37263                                      1.0   \n",
       "37264                                      1.0   \n",
       "37265                                      1.0   \n",
       "37266                                      1.0   \n",
       "37267                                      1.0   \n",
       "\n",
       "       Sensitivity_AreaUnderCereals_Maize  Sensitivity_TotalNPK  \\\n",
       "0                                     0.0                   0.0   \n",
       "1                                     0.0                   0.0   \n",
       "2                                     0.0                   0.0   \n",
       "3                                     0.0                   0.0   \n",
       "4                                     0.0                   0.0   \n",
       "...                                   ...                   ...   \n",
       "37263                                 1.0                   1.0   \n",
       "37264                                 1.0                   1.0   \n",
       "37265                                 1.0                   1.0   \n",
       "37266                                 1.0                   1.0   \n",
       "37267                                 1.0                   1.0   \n",
       "\n",
       "       LivestockCensus_2012_Cattle  AreaUnderCereals_Maize      TotalNPK  \\\n",
       "0                      2567.461578                  1129.0    438.180210   \n",
       "1                     25037.139270                 14867.0   3036.080250   \n",
       "2                      7729.614277                  1987.0    222.225258   \n",
       "3                     83821.593090                 92194.0  10902.406570   \n",
       "4                     85657.632090                173400.0  25702.835480   \n",
       "...                            ...                     ...           ...   \n",
       "37263                  2371.831678                  1382.0    249.381182   \n",
       "37264                  6221.617910                  2634.0    710.101614   \n",
       "37265                  1253.317144                   961.0    368.617469   \n",
       "37266                 38936.400170                 48210.0  10997.550400   \n",
       "37267                 23446.847900                 49869.5   8404.154608   \n",
       "\n",
       "           Beta_0    Beta_1    Beta_2    Beta_3        New_F1         New_F2  \\\n",
       "0     -7629.70252  0.578355  1.778552  5.834829   2567.461578    1129.000000   \n",
       "1     -7629.70252  0.578355  1.778552  5.834829  25037.139270   14867.000000   \n",
       "2     -7629.70252  0.578355  1.778552  5.834829   7729.614277    1987.000000   \n",
       "3     -7629.70252  0.578355  1.778552  5.834829  83821.593090   92194.000000   \n",
       "4     -7629.70252  0.578355  1.778552  5.834829  85657.632090  173400.000000   \n",
       "...           ...       ...       ...       ...           ...            ...   \n",
       "37263 -7629.70252  0.578355  1.778552  5.834829   9736.404916    3776.833045   \n",
       "37264 -7629.70252  0.578355  1.778552  5.834829  13586.191148    5028.833045   \n",
       "37265 -7629.70252  0.578355  1.778552  5.834829   8617.890382    3355.833045   \n",
       "37266 -7629.70252  0.578355  1.778552  5.834829  46300.973408   50604.833045   \n",
       "37267 -7629.70252  0.578355  1.778552  5.834829  30811.421138   52264.333045   \n",
       "\n",
       "             New_F3      District  New_Production  Stress_Values  \\\n",
       "0        438.180210     BENGALURU        0.000000       0.051422   \n",
       "1       3036.080250  BENGALURU(R)    51007.388234       0.000000   \n",
       "2        222.225258    RAMANAGARA     1671.385475       0.169847   \n",
       "3      10902.406570   CHITRADURGA   268434.421553       0.196048   \n",
       "4      25702.835480    DAVANAGERE   500283.382616       0.732629   \n",
       "...             ...           ...             ...            ...   \n",
       "37263    979.365731         BIDAR    10433.119030       0.450799   \n",
       "37264   1440.086163    KALABURAGI    17574.633227       0.468846   \n",
       "37265   1098.602018       YADGIRI     9733.173890       0.344703   \n",
       "37266  11727.534949        KOPPAL   177580.179368       0.170481   \n",
       "37267   9134.139157  VIJAYANAGARA   156441.209602       0.018131   \n",
       "\n",
       "       Stability_Values  Percentage Change  \n",
       "0              0.948578        -100.000000  \n",
       "1              1.000000          19.783454  \n",
       "2              0.830153         -84.005881  \n",
       "3              0.803952          -1.301803  \n",
       "4              0.267371         -15.712503  \n",
       "...                 ...                ...  \n",
       "37263          0.549201         273.812935  \n",
       "37264          0.531154          20.201308  \n",
       "37265          0.655297         264.129214  \n",
       "37266          0.829519          -6.660545  \n",
       "37267          0.981869          50.359181  \n",
       "\n",
       "[37268 rows x 18 columns]"
      ]
     },
     "execution_count": 55,
     "metadata": {},
     "output_type": "execute_result"
    }
   ],
   "source": [
    "result_df"
   ]
  },
  {
   "cell_type": "code",
   "execution_count": 60,
   "metadata": {},
   "outputs": [],
   "source": [
    "# result_df.to_csv('Prescriptive/Maize_Prescriptive_3.68%.csv',index=False)"
   ]
  },
  {
   "cell_type": "code",
   "execution_count": 57,
   "metadata": {},
   "outputs": [
    {
     "data": {
      "text/plain": [
       "Index(['District', 'Sensitivity_LivestockCensus_2012_Cattle',\n",
       "       'Sensitivity_AreaUnderCereals_Maize', 'Sensitivity_TotalNPK', 'New_F1',\n",
       "       'New_F2', 'New_F3'],\n",
       "      dtype='object')"
      ]
     },
     "execution_count": 57,
     "metadata": {},
     "output_type": "execute_result"
    }
   ],
   "source": [
    "# viz_df2 = result_df[['District','Sensitivity_SowingSeedsDistributed_Maize','Sensitivity_LivestockCensus_2012_Cattle','Sensitivity_AreaUnderCereals_Maize',\n",
    "#                     'Sensitivity_TotalNPK',\t'Sensitivity_NetAreaIrrigatedUnderDifferentSources_TubeWells_NetIrrigatedArea','New_F1','New_F2','New_F3','New_F4','New_F5']].copy()\n",
    "\n",
    "viz_df2 = result_df[['District','Sensitivity_LivestockCensus_2012_Cattle','Sensitivity_AreaUnderCereals_Maize',\n",
    "                    'Sensitivity_TotalNPK',\t'New_F1','New_F2','New_F3']].copy()\n",
    "\n",
    "viz_df2.columns"
   ]
  },
  {
   "cell_type": "code",
   "execution_count": 58,
   "metadata": {},
   "outputs": [
    {
     "data": {
      "application/vnd.plotly.v1+json": {
       "config": {
        "plotlyServerURL": "https://plot.ly"
       },
       "data": [
        {
         "marker": {
          "color": "#BAC1CC"
         },
         "name": "Original Values ",
         "orientation": "h",
         "text": [
          47685,
          43201,
          8995
         ],
         "type": "bar",
         "x": [
          47685,
          43201,
          8995
         ],
         "y": [
          "LiveStock (Count)",
          "Area Sown Under Maize (Ha)",
          "NPK Distributed (Tonnes)"
         ]
        },
        {
         "marker": {
          "color": "#00CC96"
         },
         "name": "Prescribed Values",
         "orientation": "h",
         "text": [
          47685,
          43201,
          8995
         ],
         "type": "bar",
         "x": [
          47685,
          43201,
          8995
         ],
         "y": [
          "LiveStock (Count)",
          "Area Sown Under Maize (Ha)",
          "NPK Distributed (Tonnes)"
         ]
        }
       ],
       "layout": {
        "annotations": [
         {
          "font": {
           "size": 13
          },
          "showarrow": false,
          "text": " Sensitivities: α<sub>LV</sub>: 0.00, α<sub>AM</sub>: 0.00, α<sub>NPK</sub>: 0.00",
          "x": 0.5,
          "xref": "paper",
          "y": -0.25,
          "yref": "paper"
         }
        ],
        "barmode": "group",
        "template": {
         "data": {
          "bar": [
           {
            "error_x": {
             "color": "#2a3f5f"
            },
            "error_y": {
             "color": "#2a3f5f"
            },
            "marker": {
             "line": {
              "color": "#E5ECF6",
              "width": 0.5
             },
             "pattern": {
              "fillmode": "overlay",
              "size": 10,
              "solidity": 0.2
             }
            },
            "type": "bar"
           }
          ],
          "barpolar": [
           {
            "marker": {
             "line": {
              "color": "#E5ECF6",
              "width": 0.5
             },
             "pattern": {
              "fillmode": "overlay",
              "size": 10,
              "solidity": 0.2
             }
            },
            "type": "barpolar"
           }
          ],
          "carpet": [
           {
            "aaxis": {
             "endlinecolor": "#2a3f5f",
             "gridcolor": "white",
             "linecolor": "white",
             "minorgridcolor": "white",
             "startlinecolor": "#2a3f5f"
            },
            "baxis": {
             "endlinecolor": "#2a3f5f",
             "gridcolor": "white",
             "linecolor": "white",
             "minorgridcolor": "white",
             "startlinecolor": "#2a3f5f"
            },
            "type": "carpet"
           }
          ],
          "choropleth": [
           {
            "colorbar": {
             "outlinewidth": 0,
             "ticks": ""
            },
            "type": "choropleth"
           }
          ],
          "contour": [
           {
            "colorbar": {
             "outlinewidth": 0,
             "ticks": ""
            },
            "colorscale": [
             [
              0,
              "#0d0887"
             ],
             [
              0.1111111111111111,
              "#46039f"
             ],
             [
              0.2222222222222222,
              "#7201a8"
             ],
             [
              0.3333333333333333,
              "#9c179e"
             ],
             [
              0.4444444444444444,
              "#bd3786"
             ],
             [
              0.5555555555555556,
              "#d8576b"
             ],
             [
              0.6666666666666666,
              "#ed7953"
             ],
             [
              0.7777777777777778,
              "#fb9f3a"
             ],
             [
              0.8888888888888888,
              "#fdca26"
             ],
             [
              1,
              "#f0f921"
             ]
            ],
            "type": "contour"
           }
          ],
          "contourcarpet": [
           {
            "colorbar": {
             "outlinewidth": 0,
             "ticks": ""
            },
            "type": "contourcarpet"
           }
          ],
          "heatmap": [
           {
            "colorbar": {
             "outlinewidth": 0,
             "ticks": ""
            },
            "colorscale": [
             [
              0,
              "#0d0887"
             ],
             [
              0.1111111111111111,
              "#46039f"
             ],
             [
              0.2222222222222222,
              "#7201a8"
             ],
             [
              0.3333333333333333,
              "#9c179e"
             ],
             [
              0.4444444444444444,
              "#bd3786"
             ],
             [
              0.5555555555555556,
              "#d8576b"
             ],
             [
              0.6666666666666666,
              "#ed7953"
             ],
             [
              0.7777777777777778,
              "#fb9f3a"
             ],
             [
              0.8888888888888888,
              "#fdca26"
             ],
             [
              1,
              "#f0f921"
             ]
            ],
            "type": "heatmap"
           }
          ],
          "heatmapgl": [
           {
            "colorbar": {
             "outlinewidth": 0,
             "ticks": ""
            },
            "colorscale": [
             [
              0,
              "#0d0887"
             ],
             [
              0.1111111111111111,
              "#46039f"
             ],
             [
              0.2222222222222222,
              "#7201a8"
             ],
             [
              0.3333333333333333,
              "#9c179e"
             ],
             [
              0.4444444444444444,
              "#bd3786"
             ],
             [
              0.5555555555555556,
              "#d8576b"
             ],
             [
              0.6666666666666666,
              "#ed7953"
             ],
             [
              0.7777777777777778,
              "#fb9f3a"
             ],
             [
              0.8888888888888888,
              "#fdca26"
             ],
             [
              1,
              "#f0f921"
             ]
            ],
            "type": "heatmapgl"
           }
          ],
          "histogram": [
           {
            "marker": {
             "pattern": {
              "fillmode": "overlay",
              "size": 10,
              "solidity": 0.2
             }
            },
            "type": "histogram"
           }
          ],
          "histogram2d": [
           {
            "colorbar": {
             "outlinewidth": 0,
             "ticks": ""
            },
            "colorscale": [
             [
              0,
              "#0d0887"
             ],
             [
              0.1111111111111111,
              "#46039f"
             ],
             [
              0.2222222222222222,
              "#7201a8"
             ],
             [
              0.3333333333333333,
              "#9c179e"
             ],
             [
              0.4444444444444444,
              "#bd3786"
             ],
             [
              0.5555555555555556,
              "#d8576b"
             ],
             [
              0.6666666666666666,
              "#ed7953"
             ],
             [
              0.7777777777777778,
              "#fb9f3a"
             ],
             [
              0.8888888888888888,
              "#fdca26"
             ],
             [
              1,
              "#f0f921"
             ]
            ],
            "type": "histogram2d"
           }
          ],
          "histogram2dcontour": [
           {
            "colorbar": {
             "outlinewidth": 0,
             "ticks": ""
            },
            "colorscale": [
             [
              0,
              "#0d0887"
             ],
             [
              0.1111111111111111,
              "#46039f"
             ],
             [
              0.2222222222222222,
              "#7201a8"
             ],
             [
              0.3333333333333333,
              "#9c179e"
             ],
             [
              0.4444444444444444,
              "#bd3786"
             ],
             [
              0.5555555555555556,
              "#d8576b"
             ],
             [
              0.6666666666666666,
              "#ed7953"
             ],
             [
              0.7777777777777778,
              "#fb9f3a"
             ],
             [
              0.8888888888888888,
              "#fdca26"
             ],
             [
              1,
              "#f0f921"
             ]
            ],
            "type": "histogram2dcontour"
           }
          ],
          "mesh3d": [
           {
            "colorbar": {
             "outlinewidth": 0,
             "ticks": ""
            },
            "type": "mesh3d"
           }
          ],
          "parcoords": [
           {
            "line": {
             "colorbar": {
              "outlinewidth": 0,
              "ticks": ""
             }
            },
            "type": "parcoords"
           }
          ],
          "pie": [
           {
            "automargin": true,
            "type": "pie"
           }
          ],
          "scatter": [
           {
            "fillpattern": {
             "fillmode": "overlay",
             "size": 10,
             "solidity": 0.2
            },
            "type": "scatter"
           }
          ],
          "scatter3d": [
           {
            "line": {
             "colorbar": {
              "outlinewidth": 0,
              "ticks": ""
             }
            },
            "marker": {
             "colorbar": {
              "outlinewidth": 0,
              "ticks": ""
             }
            },
            "type": "scatter3d"
           }
          ],
          "scattercarpet": [
           {
            "marker": {
             "colorbar": {
              "outlinewidth": 0,
              "ticks": ""
             }
            },
            "type": "scattercarpet"
           }
          ],
          "scattergeo": [
           {
            "marker": {
             "colorbar": {
              "outlinewidth": 0,
              "ticks": ""
             }
            },
            "type": "scattergeo"
           }
          ],
          "scattergl": [
           {
            "marker": {
             "colorbar": {
              "outlinewidth": 0,
              "ticks": ""
             }
            },
            "type": "scattergl"
           }
          ],
          "scattermapbox": [
           {
            "marker": {
             "colorbar": {
              "outlinewidth": 0,
              "ticks": ""
             }
            },
            "type": "scattermapbox"
           }
          ],
          "scatterpolar": [
           {
            "marker": {
             "colorbar": {
              "outlinewidth": 0,
              "ticks": ""
             }
            },
            "type": "scatterpolar"
           }
          ],
          "scatterpolargl": [
           {
            "marker": {
             "colorbar": {
              "outlinewidth": 0,
              "ticks": ""
             }
            },
            "type": "scatterpolargl"
           }
          ],
          "scatterternary": [
           {
            "marker": {
             "colorbar": {
              "outlinewidth": 0,
              "ticks": ""
             }
            },
            "type": "scatterternary"
           }
          ],
          "surface": [
           {
            "colorbar": {
             "outlinewidth": 0,
             "ticks": ""
            },
            "colorscale": [
             [
              0,
              "#0d0887"
             ],
             [
              0.1111111111111111,
              "#46039f"
             ],
             [
              0.2222222222222222,
              "#7201a8"
             ],
             [
              0.3333333333333333,
              "#9c179e"
             ],
             [
              0.4444444444444444,
              "#bd3786"
             ],
             [
              0.5555555555555556,
              "#d8576b"
             ],
             [
              0.6666666666666666,
              "#ed7953"
             ],
             [
              0.7777777777777778,
              "#fb9f3a"
             ],
             [
              0.8888888888888888,
              "#fdca26"
             ],
             [
              1,
              "#f0f921"
             ]
            ],
            "type": "surface"
           }
          ],
          "table": [
           {
            "cells": {
             "fill": {
              "color": "#EBF0F8"
             },
             "line": {
              "color": "white"
             }
            },
            "header": {
             "fill": {
              "color": "#C8D4E3"
             },
             "line": {
              "color": "white"
             }
            },
            "type": "table"
           }
          ]
         },
         "layout": {
          "annotationdefaults": {
           "arrowcolor": "#2a3f5f",
           "arrowhead": 0,
           "arrowwidth": 1
          },
          "autotypenumbers": "strict",
          "coloraxis": {
           "colorbar": {
            "outlinewidth": 0,
            "ticks": ""
           }
          },
          "colorscale": {
           "diverging": [
            [
             0,
             "#8e0152"
            ],
            [
             0.1,
             "#c51b7d"
            ],
            [
             0.2,
             "#de77ae"
            ],
            [
             0.3,
             "#f1b6da"
            ],
            [
             0.4,
             "#fde0ef"
            ],
            [
             0.5,
             "#f7f7f7"
            ],
            [
             0.6,
             "#e6f5d0"
            ],
            [
             0.7,
             "#b8e186"
            ],
            [
             0.8,
             "#7fbc41"
            ],
            [
             0.9,
             "#4d9221"
            ],
            [
             1,
             "#276419"
            ]
           ],
           "sequential": [
            [
             0,
             "#0d0887"
            ],
            [
             0.1111111111111111,
             "#46039f"
            ],
            [
             0.2222222222222222,
             "#7201a8"
            ],
            [
             0.3333333333333333,
             "#9c179e"
            ],
            [
             0.4444444444444444,
             "#bd3786"
            ],
            [
             0.5555555555555556,
             "#d8576b"
            ],
            [
             0.6666666666666666,
             "#ed7953"
            ],
            [
             0.7777777777777778,
             "#fb9f3a"
            ],
            [
             0.8888888888888888,
             "#fdca26"
            ],
            [
             1,
             "#f0f921"
            ]
           ],
           "sequentialminus": [
            [
             0,
             "#0d0887"
            ],
            [
             0.1111111111111111,
             "#46039f"
            ],
            [
             0.2222222222222222,
             "#7201a8"
            ],
            [
             0.3333333333333333,
             "#9c179e"
            ],
            [
             0.4444444444444444,
             "#bd3786"
            ],
            [
             0.5555555555555556,
             "#d8576b"
            ],
            [
             0.6666666666666666,
             "#ed7953"
            ],
            [
             0.7777777777777778,
             "#fb9f3a"
            ],
            [
             0.8888888888888888,
             "#fdca26"
            ],
            [
             1,
             "#f0f921"
            ]
           ]
          },
          "colorway": [
           "#636efa",
           "#EF553B",
           "#00cc96",
           "#ab63fa",
           "#FFA15A",
           "#19d3f3",
           "#FF6692",
           "#B6E880",
           "#FF97FF",
           "#FECB52"
          ],
          "font": {
           "color": "#2a3f5f"
          },
          "geo": {
           "bgcolor": "white",
           "lakecolor": "white",
           "landcolor": "#E5ECF6",
           "showlakes": true,
           "showland": true,
           "subunitcolor": "white"
          },
          "hoverlabel": {
           "align": "left"
          },
          "hovermode": "closest",
          "mapbox": {
           "style": "light"
          },
          "paper_bgcolor": "white",
          "plot_bgcolor": "#E5ECF6",
          "polar": {
           "angularaxis": {
            "gridcolor": "white",
            "linecolor": "white",
            "ticks": ""
           },
           "bgcolor": "#E5ECF6",
           "radialaxis": {
            "gridcolor": "white",
            "linecolor": "white",
            "ticks": ""
           }
          },
          "scene": {
           "xaxis": {
            "backgroundcolor": "#E5ECF6",
            "gridcolor": "white",
            "gridwidth": 2,
            "linecolor": "white",
            "showbackground": true,
            "ticks": "",
            "zerolinecolor": "white"
           },
           "yaxis": {
            "backgroundcolor": "#E5ECF6",
            "gridcolor": "white",
            "gridwidth": 2,
            "linecolor": "white",
            "showbackground": true,
            "ticks": "",
            "zerolinecolor": "white"
           },
           "zaxis": {
            "backgroundcolor": "#E5ECF6",
            "gridcolor": "white",
            "gridwidth": 2,
            "linecolor": "white",
            "showbackground": true,
            "ticks": "",
            "zerolinecolor": "white"
           }
          },
          "shapedefaults": {
           "line": {
            "color": "#2a3f5f"
           }
          },
          "ternary": {
           "aaxis": {
            "gridcolor": "white",
            "linecolor": "white",
            "ticks": ""
           },
           "baxis": {
            "gridcolor": "white",
            "linecolor": "white",
            "ticks": ""
           },
           "bgcolor": "#E5ECF6",
           "caxis": {
            "gridcolor": "white",
            "linecolor": "white",
            "ticks": ""
           }
          },
          "title": {
           "x": 0.05
          },
          "xaxis": {
           "automargin": true,
           "gridcolor": "white",
           "linecolor": "white",
           "ticks": "",
           "title": {
            "standoff": 15
           },
           "zerolinecolor": "white",
           "zerolinewidth": 2
          },
          "yaxis": {
           "automargin": true,
           "gridcolor": "white",
           "linecolor": "white",
           "ticks": "",
           "title": {
            "standoff": 15
           },
           "zerolinecolor": "white",
           "zerolinewidth": 2
          }
         }
        },
        "title": {
         "text": "Original vs Prescribed Values"
        },
        "xaxis": {
         "title": {
          "text": "Values"
         }
        },
        "yaxis": {
         "title": {
          "text": "Factors"
         }
        }
       }
      }
     },
     "metadata": {},
     "output_type": "display_data"
    },
    {
     "data": {
      "application/vnd.jupyter.widget-view+json": {
       "model_id": "be8b39be26c043e5b9dbf5e4c3495236",
       "version_major": 2,
       "version_minor": 0
      },
      "text/plain": [
       "interactive(children=(FloatSlider(value=0.0, description='αLV:', max=1.0), FloatSlider(value=0.0, description=…"
      ]
     },
     "metadata": {},
     "output_type": "display_data"
    },
    {
     "data": {
      "application/vnd.jupyter.widget-view+json": {
       "model_id": "e2acb6b6dffb4c76ada752a3e2d0f4bf",
       "version_major": 2,
       "version_minor": 0
      },
      "text/plain": [
       "VBox(children=(FloatSlider(value=0.0, description='αLV:', max=1.0), FloatSlider(value=0.0, description='αAM:',…"
      ]
     },
     "execution_count": 58,
     "metadata": {},
     "output_type": "execute_result"
    }
   ],
   "source": [
    "import pandas as pd\n",
    "import plotly.graph_objects as go\n",
    "import ipywidgets as widgets\n",
    "from ipywidgets import interact\n",
    "from IPython.display import clear_output\n",
    "\n",
    "# Function to update the bar plot based on sensitivity sliders\n",
    "def update_bar_plot(alpha1, alpha2, alpha3):\n",
    "    tolerance = 1e-5\n",
    "    \n",
    "    # Filter the dataframe based on slider sensitivity values\n",
    "    filtered_df = viz_df2[\n",
    "        # (viz_df2['Sensitivity_SowingSeedsDistributed_Maize'].between(alpha1 - tolerance, alpha1 + tolerance)) &\n",
    "        (viz_df2['Sensitivity_LivestockCensus_2012_Cattle'].between(alpha1 - tolerance, alpha1 + tolerance)) &\n",
    "        (viz_df2['Sensitivity_AreaUnderCereals_Maize'].between(alpha2 - tolerance, alpha2 + tolerance)) & \n",
    "        (viz_df2['Sensitivity_TotalNPK'].between(alpha3 - tolerance, alpha3 + tolerance)) \n",
    "        # (viz_df2['Sensitivity_NetAreaIrrigatedUnderDifferentSources_TubeWells_NetIrrigatedArea'].between(alpha5 - tolerance, alpha5 + tolerance))\n",
    "    ]\n",
    "    \n",
    "    # Define the factors and their display names\n",
    "    factors = ['New_F1', 'New_F2', 'New_F3']\n",
    "    # display_names = ['Seeds_Maize', 'Cattle', 'Area_Maize', 'TotalNPK', 'TubeWells']\n",
    "    display_names = ['LiveStock (Count)', 'Area Sown Under Maize (Ha)', 'NPK Distributed (Tonnes)']\n",
    "\n",
    "    # Calculate mean values for the selected sensitivity group\n",
    "    user_values = filtered_df[factors].mean().round()\n",
    "    \n",
    "    # Get the mean values for the original case where all sensitivities are zero\n",
    "    # original_values = viz_df2[viz_df2[['Sensitivity_SowingSeedsDistributed_Maize_320', 'Sensitivity_LivestockCensus_2012_Cattle_354',\n",
    "    #                                    'Sensitivity_AreaUnderCereals_Maize_193', 'Sensitivity_TotalNPK_315',\n",
    "    #                                    'Sensitivity_NetAreaIrrigatedUnderDifferentSources_TubeWells_NetIrrigatedArea_182']].eq(0).all(axis=1)][factors].mean()\n",
    "\n",
    "    original_values = viz_df2[viz_df2[['Sensitivity_LivestockCensus_2012_Cattle',\n",
    "                                       'Sensitivity_AreaUnderCereals_Maize', 'Sensitivity_TotalNPK']].eq(0).all(axis=1)][factors].mean().round()\n",
    "\n",
    "\n",
    "    # Create the bar plot with interchanged axes\n",
    "    fig = go.Figure(data=[\n",
    "        go.Bar(name='Original Values ', y=display_names, x=original_values, marker_color='#BAC1CC', orientation='h',text=original_values),\n",
    "        go.Bar(name='Prescribed Values', y=display_names, x=user_values, marker_color='#00CC96', orientation='h',text=user_values)\n",
    "    ])\n",
    "\n",
    "    # Customize the layout\n",
    "    fig.update_layout(\n",
    "        title=\"Original vs Prescribed Values\",\n",
    "        yaxis_title=\"Factors\",\n",
    "        xaxis_title=\"Values\",\n",
    "        barmode='group'\n",
    "    )\n",
    "    \n",
    "    fig.update_layout(\n",
    "        annotations=[\n",
    "            dict(\n",
    "                x=0.5,\n",
    "                y=-0.25,\n",
    "                showarrow=False,\n",
    "                text=f' Sensitivities: α<sub>LV</sub>: {alpha1:.2f}, α<sub>AM</sub>: {alpha2:.2f}, α<sub>NPK</sub>: {alpha3:.2f}',\n",
    "                xref=\"paper\",\n",
    "                yref=\"paper\",\n",
    "                font=dict(size=13)\n",
    "            )\n",
    "        ],\n",
    "    )\n",
    "\n",
    "    # Clear previous output and display updated plot\n",
    "    clear_output()\n",
    "    display(fig)\n",
    "\n",
    "# Creating sliders for interaction\n",
    "# alpha1_slider = widgets.FloatSlider(value=0, min=0, max=1, step=0.1, description='αMS:')\n",
    "alpha1_slider = widgets.FloatSlider(value=0, min=0, max=1, step=0.1, description='αLV:')\n",
    "alpha2_slider = widgets.FloatSlider(value=0, min=0, max=1, step=0.1, description='αAM:')\n",
    "alpha3_slider = widgets.FloatSlider(value=0, min=0, max=1, step=0.1, description='αNPK:')\n",
    "# alpha5_slider = widgets.FloatSlider(value=0, min=0, max=1, step=0.1, description='αTBW:')\n",
    "\n",
    "# Creating interactive plot\n",
    "interactive_plot = interact(update_bar_plot, \n",
    "                            alpha1=alpha1_slider, \n",
    "                            alpha2=alpha2_slider, \n",
    "                            alpha3=alpha3_slider)\n",
    "\n",
    "widgets.VBox([alpha1_slider, alpha2_slider, alpha3_slider])"
   ]
  },
  {
   "cell_type": "code",
   "execution_count": 59,
   "metadata": {},
   "outputs": [
    {
     "data": {
      "text/html": [
       "<div>\n",
       "<style scoped>\n",
       "    .dataframe tbody tr th:only-of-type {\n",
       "        vertical-align: middle;\n",
       "    }\n",
       "\n",
       "    .dataframe tbody tr th {\n",
       "        vertical-align: top;\n",
       "    }\n",
       "\n",
       "    .dataframe thead th {\n",
       "        text-align: right;\n",
       "    }\n",
       "</style>\n",
       "<table border=\"1\" class=\"dataframe\">\n",
       "  <thead>\n",
       "    <tr style=\"text-align: right;\">\n",
       "      <th></th>\n",
       "      <th>Sensitivity_LivestockCensus_2012_Cattle</th>\n",
       "      <th>Sensitivity_AreaUnderCereals_Maize</th>\n",
       "      <th>Sensitivity_TotalNPK</th>\n",
       "      <th>LivestockCensus_2012_Cattle</th>\n",
       "      <th>AreaUnderCereals_Maize</th>\n",
       "      <th>TotalNPK</th>\n",
       "      <th>Beta_0</th>\n",
       "      <th>Beta_1</th>\n",
       "      <th>Beta_2</th>\n",
       "      <th>Beta_3</th>\n",
       "      <th>New_F1</th>\n",
       "      <th>New_F2</th>\n",
       "      <th>New_F3</th>\n",
       "      <th>District</th>\n",
       "      <th>New_Production</th>\n",
       "      <th>Stress_Values</th>\n",
       "      <th>Stability_Values</th>\n",
       "      <th>Percentage Change</th>\n",
       "    </tr>\n",
       "  </thead>\n",
       "  <tbody>\n",
       "    <tr>\n",
       "      <th>300</th>\n",
       "      <td>0.0</td>\n",
       "      <td>0.0</td>\n",
       "      <td>1.0</td>\n",
       "      <td>95150.640270</td>\n",
       "      <td>170696.0</td>\n",
       "      <td>21731.170720</td>\n",
       "      <td>-7629.70252</td>\n",
       "      <td>0.578355</td>\n",
       "      <td>1.778552</td>\n",
       "      <td>5.834829</td>\n",
       "      <td>95150.640270</td>\n",
       "      <td>170696.000000</td>\n",
       "      <td>22461.155269</td>\n",
       "      <td>HAVERI</td>\n",
       "      <td>482049.852287</td>\n",
       "      <td>0.771725</td>\n",
       "      <td>0.228275</td>\n",
       "      <td>16.581622</td>\n",
       "    </tr>\n",
       "    <tr>\n",
       "      <th>301</th>\n",
       "      <td>0.0</td>\n",
       "      <td>0.0</td>\n",
       "      <td>1.0</td>\n",
       "      <td>22563.771080</td>\n",
       "      <td>4576.0</td>\n",
       "      <td>1025.616827</td>\n",
       "      <td>-7629.70252</td>\n",
       "      <td>0.578355</td>\n",
       "      <td>1.778552</td>\n",
       "      <td>5.834829</td>\n",
       "      <td>22563.771080</td>\n",
       "      <td>4576.000000</td>\n",
       "      <td>1755.601376</td>\n",
       "      <td>UTTARA KANNADA</td>\n",
       "      <td>23802.448791</td>\n",
       "      <td>0.362642</td>\n",
       "      <td>0.637358</td>\n",
       "      <td>-1.185450</td>\n",
       "    </tr>\n",
       "    <tr>\n",
       "      <th>302</th>\n",
       "      <td>0.0</td>\n",
       "      <td>0.0</td>\n",
       "      <td>1.0</td>\n",
       "      <td>23446.847900</td>\n",
       "      <td>49869.5</td>\n",
       "      <td>8404.154608</td>\n",
       "      <td>-7629.70252</td>\n",
       "      <td>0.578355</td>\n",
       "      <td>1.778552</td>\n",
       "      <td>5.834829</td>\n",
       "      <td>23446.847900</td>\n",
       "      <td>49869.500000</td>\n",
       "      <td>9134.139157</td>\n",
       "      <td>BALLARI</td>\n",
       "      <td>147922.538956</td>\n",
       "      <td>0.112463</td>\n",
       "      <td>0.887537</td>\n",
       "      <td>42.171694</td>\n",
       "    </tr>\n",
       "    <tr>\n",
       "      <th>303</th>\n",
       "      <td>0.0</td>\n",
       "      <td>0.0</td>\n",
       "      <td>1.0</td>\n",
       "      <td>2371.831678</td>\n",
       "      <td>1382.0</td>\n",
       "      <td>249.381182</td>\n",
       "      <td>-7629.70252</td>\n",
       "      <td>0.578355</td>\n",
       "      <td>1.778552</td>\n",
       "      <td>5.834829</td>\n",
       "      <td>2371.831678</td>\n",
       "      <td>1382.000000</td>\n",
       "      <td>979.365731</td>\n",
       "      <td>BIDAR</td>\n",
       "      <td>1914.448383</td>\n",
       "      <td>0.450799</td>\n",
       "      <td>0.549201</td>\n",
       "      <td>-31.406364</td>\n",
       "    </tr>\n",
       "    <tr>\n",
       "      <th>304</th>\n",
       "      <td>0.0</td>\n",
       "      <td>0.0</td>\n",
       "      <td>1.0</td>\n",
       "      <td>6221.617910</td>\n",
       "      <td>2634.0</td>\n",
       "      <td>710.101614</td>\n",
       "      <td>-7629.70252</td>\n",
       "      <td>0.578355</td>\n",
       "      <td>1.778552</td>\n",
       "      <td>5.834829</td>\n",
       "      <td>6221.617910</td>\n",
       "      <td>2634.000000</td>\n",
       "      <td>1440.086163</td>\n",
       "      <td>KALABURAGI</td>\n",
       "      <td>9055.962581</td>\n",
       "      <td>0.468846</td>\n",
       "      <td>0.531154</td>\n",
       "      <td>-38.061948</td>\n",
       "    </tr>\n",
       "    <tr>\n",
       "      <th>305</th>\n",
       "      <td>0.0</td>\n",
       "      <td>0.0</td>\n",
       "      <td>1.0</td>\n",
       "      <td>1253.317144</td>\n",
       "      <td>961.0</td>\n",
       "      <td>368.617469</td>\n",
       "      <td>-7629.70252</td>\n",
       "      <td>0.578355</td>\n",
       "      <td>1.778552</td>\n",
       "      <td>5.834829</td>\n",
       "      <td>1253.317144</td>\n",
       "      <td>961.000000</td>\n",
       "      <td>1098.602018</td>\n",
       "      <td>YADGIRI</td>\n",
       "      <td>1214.503244</td>\n",
       "      <td>0.344703</td>\n",
       "      <td>0.655297</td>\n",
       "      <td>-54.564039</td>\n",
       "    </tr>\n",
       "    <tr>\n",
       "      <th>306</th>\n",
       "      <td>0.0</td>\n",
       "      <td>0.0</td>\n",
       "      <td>1.0</td>\n",
       "      <td>38936.400170</td>\n",
       "      <td>48210.0</td>\n",
       "      <td>10997.550400</td>\n",
       "      <td>-7629.70252</td>\n",
       "      <td>0.578355</td>\n",
       "      <td>1.778552</td>\n",
       "      <td>5.834829</td>\n",
       "      <td>38936.400170</td>\n",
       "      <td>48210.000000</td>\n",
       "      <td>11727.534949</td>\n",
       "      <td>KOPPAL</td>\n",
       "      <td>169061.508722</td>\n",
       "      <td>0.170481</td>\n",
       "      <td>0.829519</td>\n",
       "      <td>-11.138117</td>\n",
       "    </tr>\n",
       "    <tr>\n",
       "      <th>307</th>\n",
       "      <td>0.0</td>\n",
       "      <td>0.0</td>\n",
       "      <td>1.0</td>\n",
       "      <td>23446.847900</td>\n",
       "      <td>49869.5</td>\n",
       "      <td>8404.154608</td>\n",
       "      <td>-7629.70252</td>\n",
       "      <td>0.578355</td>\n",
       "      <td>1.778552</td>\n",
       "      <td>5.834829</td>\n",
       "      <td>23446.847900</td>\n",
       "      <td>49869.500000</td>\n",
       "      <td>9134.139157</td>\n",
       "      <td>VIJAYANAGARA</td>\n",
       "      <td>147922.538956</td>\n",
       "      <td>0.018131</td>\n",
       "      <td>0.981869</td>\n",
       "      <td>42.171694</td>\n",
       "    </tr>\n",
       "    <tr>\n",
       "      <th>308</th>\n",
       "      <td>0.0</td>\n",
       "      <td>0.1</td>\n",
       "      <td>0.0</td>\n",
       "      <td>2567.461578</td>\n",
       "      <td>1129.0</td>\n",
       "      <td>438.180210</td>\n",
       "      <td>-7629.70252</td>\n",
       "      <td>0.578355</td>\n",
       "      <td>1.778552</td>\n",
       "      <td>5.834829</td>\n",
       "      <td>2567.461578</td>\n",
       "      <td>1368.483304</td>\n",
       "      <td>438.180210</td>\n",
       "      <td>BENGALURU</td>\n",
       "      <td>0.000000</td>\n",
       "      <td>0.052633</td>\n",
       "      <td>0.947367</td>\n",
       "      <td>-100.000000</td>\n",
       "    </tr>\n",
       "    <tr>\n",
       "      <th>309</th>\n",
       "      <td>0.0</td>\n",
       "      <td>0.1</td>\n",
       "      <td>0.0</td>\n",
       "      <td>25037.139270</td>\n",
       "      <td>14867.0</td>\n",
       "      <td>3036.080250</td>\n",
       "      <td>-7629.70252</td>\n",
       "      <td>0.578355</td>\n",
       "      <td>1.778552</td>\n",
       "      <td>5.834829</td>\n",
       "      <td>25037.139270</td>\n",
       "      <td>15106.483304</td>\n",
       "      <td>3036.080250</td>\n",
       "      <td>BENGALURU(R)</td>\n",
       "      <td>51433.321766</td>\n",
       "      <td>0.000000</td>\n",
       "      <td>1.000000</td>\n",
       "      <td>20.783697</td>\n",
       "    </tr>\n",
       "    <tr>\n",
       "      <th>310</th>\n",
       "      <td>0.0</td>\n",
       "      <td>0.1</td>\n",
       "      <td>0.0</td>\n",
       "      <td>7729.614277</td>\n",
       "      <td>1987.0</td>\n",
       "      <td>222.225258</td>\n",
       "      <td>-7629.70252</td>\n",
       "      <td>0.578355</td>\n",
       "      <td>1.778552</td>\n",
       "      <td>5.834829</td>\n",
       "      <td>7729.614277</td>\n",
       "      <td>2226.483304</td>\n",
       "      <td>222.225258</td>\n",
       "      <td>RAMANAGARA</td>\n",
       "      <td>2097.319008</td>\n",
       "      <td>0.169963</td>\n",
       "      <td>0.830037</td>\n",
       "      <td>-79.929962</td>\n",
       "    </tr>\n",
       "    <tr>\n",
       "      <th>311</th>\n",
       "      <td>0.0</td>\n",
       "      <td>0.1</td>\n",
       "      <td>0.0</td>\n",
       "      <td>83821.593090</td>\n",
       "      <td>92194.0</td>\n",
       "      <td>10902.406570</td>\n",
       "      <td>-7629.70252</td>\n",
       "      <td>0.578355</td>\n",
       "      <td>1.778552</td>\n",
       "      <td>5.834829</td>\n",
       "      <td>83821.593090</td>\n",
       "      <td>92433.483304</td>\n",
       "      <td>10902.406570</td>\n",
       "      <td>CHITRADURGA</td>\n",
       "      <td>268860.355086</td>\n",
       "      <td>0.196330</td>\n",
       "      <td>0.803670</td>\n",
       "      <td>-1.145195</td>\n",
       "    </tr>\n",
       "    <tr>\n",
       "      <th>312</th>\n",
       "      <td>0.0</td>\n",
       "      <td>0.1</td>\n",
       "      <td>0.0</td>\n",
       "      <td>85657.632090</td>\n",
       "      <td>173400.0</td>\n",
       "      <td>25702.835480</td>\n",
       "      <td>-7629.70252</td>\n",
       "      <td>0.578355</td>\n",
       "      <td>1.778552</td>\n",
       "      <td>5.834829</td>\n",
       "      <td>85657.632090</td>\n",
       "      <td>173639.483304</td>\n",
       "      <td>25702.835480</td>\n",
       "      <td>DAVANAGERE</td>\n",
       "      <td>500709.316148</td>\n",
       "      <td>0.732723</td>\n",
       "      <td>0.267277</td>\n",
       "      <td>-15.640742</td>\n",
       "    </tr>\n",
       "    <tr>\n",
       "      <th>313</th>\n",
       "      <td>0.0</td>\n",
       "      <td>0.1</td>\n",
       "      <td>0.0</td>\n",
       "      <td>2278.829821</td>\n",
       "      <td>640.0</td>\n",
       "      <td>220.782906</td>\n",
       "      <td>-7629.70252</td>\n",
       "      <td>0.578355</td>\n",
       "      <td>1.778552</td>\n",
       "      <td>5.834829</td>\n",
       "      <td>2278.829821</td>\n",
       "      <td>879.483304</td>\n",
       "      <td>220.782906</td>\n",
       "      <td>KOLAR</td>\n",
       "      <td>0.000000</td>\n",
       "      <td>0.243635</td>\n",
       "      <td>0.756365</td>\n",
       "      <td>-100.000000</td>\n",
       "    </tr>\n",
       "    <tr>\n",
       "      <th>314</th>\n",
       "      <td>0.0</td>\n",
       "      <td>0.1</td>\n",
       "      <td>0.0</td>\n",
       "      <td>71206.945310</td>\n",
       "      <td>59377.0</td>\n",
       "      <td>8196.896749</td>\n",
       "      <td>-7629.70252</td>\n",
       "      <td>0.578355</td>\n",
       "      <td>1.778552</td>\n",
       "      <td>5.834829</td>\n",
       "      <td>71206.945310</td>\n",
       "      <td>59616.483304</td>\n",
       "      <td>8196.896749</td>\n",
       "      <td>CHIKKABALLAPURA</td>\n",
       "      <td>187411.682298</td>\n",
       "      <td>0.297723</td>\n",
       "      <td>0.702277</td>\n",
       "      <td>77.656561</td>\n",
       "    </tr>\n",
       "    <tr>\n",
       "      <th>315</th>\n",
       "      <td>0.0</td>\n",
       "      <td>0.1</td>\n",
       "      <td>0.0</td>\n",
       "      <td>104722.000400</td>\n",
       "      <td>43827.0</td>\n",
       "      <td>10428.246260</td>\n",
       "      <td>-7629.70252</td>\n",
       "      <td>0.578355</td>\n",
       "      <td>1.778552</td>\n",
       "      <td>5.834829</td>\n",
       "      <td>104722.000400</td>\n",
       "      <td>44066.483304</td>\n",
       "      <td>10428.246260</td>\n",
       "      <td>SHIVAMOGGA</td>\n",
       "      <td>192158.329658</td>\n",
       "      <td>0.072635</td>\n",
       "      <td>0.927365</td>\n",
       "      <td>-15.173870</td>\n",
       "    </tr>\n",
       "    <tr>\n",
       "      <th>316</th>\n",
       "      <td>0.0</td>\n",
       "      <td>0.1</td>\n",
       "      <td>0.0</td>\n",
       "      <td>37944.093760</td>\n",
       "      <td>24207.0</td>\n",
       "      <td>2746.313635</td>\n",
       "      <td>-7629.70252</td>\n",
       "      <td>0.578355</td>\n",
       "      <td>1.778552</td>\n",
       "      <td>5.834829</td>\n",
       "      <td>37944.093760</td>\n",
       "      <td>24446.483304</td>\n",
       "      <td>2746.313635</td>\n",
       "      <td>TUMAKURU</td>\n",
       "      <td>73819.056942</td>\n",
       "      <td>0.076474</td>\n",
       "      <td>0.923526</td>\n",
       "      <td>10.395192</td>\n",
       "    </tr>\n",
       "    <tr>\n",
       "      <th>317</th>\n",
       "      <td>0.0</td>\n",
       "      <td>0.1</td>\n",
       "      <td>0.0</td>\n",
       "      <td>40572.445630</td>\n",
       "      <td>25831.0</td>\n",
       "      <td>8156.290370</td>\n",
       "      <td>-7629.70252</td>\n",
       "      <td>0.578355</td>\n",
       "      <td>1.778552</td>\n",
       "      <td>5.834829</td>\n",
       "      <td>40572.445630</td>\n",
       "      <td>26070.483304</td>\n",
       "      <td>8156.290370</td>\n",
       "      <td>CHIKKAMAGALURU</td>\n",
       "      <td>109793.836556</td>\n",
       "      <td>0.181817</td>\n",
       "      <td>0.818183</td>\n",
       "      <td>78.954308</td>\n",
       "    </tr>\n",
       "    <tr>\n",
       "      <th>318</th>\n",
       "      <td>0.0</td>\n",
       "      <td>0.1</td>\n",
       "      <td>0.0</td>\n",
       "      <td>151008.140300</td>\n",
       "      <td>79058.0</td>\n",
       "      <td>17039.273890</td>\n",
       "      <td>-7629.70252</td>\n",
       "      <td>0.578355</td>\n",
       "      <td>1.778552</td>\n",
       "      <td>5.834829</td>\n",
       "      <td>151008.140300</td>\n",
       "      <td>79297.483304</td>\n",
       "      <td>17039.273890</td>\n",
       "      <td>HASSAN</td>\n",
       "      <td>320162.522131</td>\n",
       "      <td>0.511129</td>\n",
       "      <td>0.488871</td>\n",
       "      <td>-4.124873</td>\n",
       "    </tr>\n",
       "    <tr>\n",
       "      <th>319</th>\n",
       "      <td>0.0</td>\n",
       "      <td>0.1</td>\n",
       "      <td>0.0</td>\n",
       "      <td>7599.582730</td>\n",
       "      <td>3448.0</td>\n",
       "      <td>3519.022414</td>\n",
       "      <td>-7629.70252</td>\n",
       "      <td>0.578355</td>\n",
       "      <td>1.778552</td>\n",
       "      <td>5.834829</td>\n",
       "      <td>7599.582730</td>\n",
       "      <td>3687.483304</td>\n",
       "      <td>3519.022414</td>\n",
       "      <td>KODAGU</td>\n",
       "      <td>23856.828314</td>\n",
       "      <td>0.268886</td>\n",
       "      <td>0.731114</td>\n",
       "      <td>33.122194</td>\n",
       "    </tr>\n",
       "    <tr>\n",
       "      <th>320</th>\n",
       "      <td>0.0</td>\n",
       "      <td>0.1</td>\n",
       "      <td>0.0</td>\n",
       "      <td>8774.134623</td>\n",
       "      <td>4892.0</td>\n",
       "      <td>1448.830355</td>\n",
       "      <td>-7629.70252</td>\n",
       "      <td>0.578355</td>\n",
       "      <td>1.778552</td>\n",
       "      <td>5.834829</td>\n",
       "      <td>8774.134623</td>\n",
       "      <td>5131.483304</td>\n",
       "      <td>1448.830355</td>\n",
       "      <td>MANDYA</td>\n",
       "      <td>15025.147569</td>\n",
       "      <td>0.443782</td>\n",
       "      <td>0.556218</td>\n",
       "      <td>-22.498852</td>\n",
       "    </tr>\n",
       "    <tr>\n",
       "      <th>321</th>\n",
       "      <td>0.0</td>\n",
       "      <td>0.1</td>\n",
       "      <td>0.0</td>\n",
       "      <td>61547.727440</td>\n",
       "      <td>37283.0</td>\n",
       "      <td>6945.331415</td>\n",
       "      <td>-7629.70252</td>\n",
       "      <td>0.578355</td>\n",
       "      <td>1.778552</td>\n",
       "      <td>5.834829</td>\n",
       "      <td>61547.727440</td>\n",
       "      <td>37522.483304</td>\n",
       "      <td>6945.331415</td>\n",
       "      <td>MYSURU</td>\n",
       "      <td>135227.228364</td>\n",
       "      <td>0.361174</td>\n",
       "      <td>0.638826</td>\n",
       "      <td>-1.404824</td>\n",
       "    </tr>\n",
       "    <tr>\n",
       "      <th>322</th>\n",
       "      <td>0.0</td>\n",
       "      <td>0.1</td>\n",
       "      <td>0.0</td>\n",
       "      <td>80396.926680</td>\n",
       "      <td>38569.0</td>\n",
       "      <td>7289.684770</td>\n",
       "      <td>-7629.70252</td>\n",
       "      <td>0.578355</td>\n",
       "      <td>1.778552</td>\n",
       "      <td>5.834829</td>\n",
       "      <td>80396.926680</td>\n",
       "      <td>38808.483304</td>\n",
       "      <td>7289.684770</td>\n",
       "      <td>CHAMARAJANAGAR</td>\n",
       "      <td>150425.211845</td>\n",
       "      <td>0.035331</td>\n",
       "      <td>0.964669</td>\n",
       "      <td>1.717006</td>\n",
       "    </tr>\n",
       "    <tr>\n",
       "      <th>323</th>\n",
       "      <td>0.0</td>\n",
       "      <td>0.1</td>\n",
       "      <td>0.0</td>\n",
       "      <td>159047.086200</td>\n",
       "      <td>131163.0</td>\n",
       "      <td>48288.815130</td>\n",
       "      <td>-7629.70252</td>\n",
       "      <td>0.578355</td>\n",
       "      <td>1.778552</td>\n",
       "      <td>5.834829</td>\n",
       "      <td>159047.086200</td>\n",
       "      <td>131402.483304</td>\n",
       "      <td>48288.815130</td>\n",
       "      <td>BELAGAVI</td>\n",
       "      <td>599819.083541</td>\n",
       "      <td>1.000000</td>\n",
       "      <td>0.000000</td>\n",
       "      <td>3.998399</td>\n",
       "    </tr>\n",
       "    <tr>\n",
       "      <th>324</th>\n",
       "      <td>0.0</td>\n",
       "      <td>0.1</td>\n",
       "      <td>0.0</td>\n",
       "      <td>48619.507080</td>\n",
       "      <td>40207.0</td>\n",
       "      <td>10420.071650</td>\n",
       "      <td>-7629.70252</td>\n",
       "      <td>0.578355</td>\n",
       "      <td>1.778552</td>\n",
       "      <td>5.834829</td>\n",
       "      <td>48619.507080</td>\n",
       "      <td>40446.483304</td>\n",
       "      <td>10420.071650</td>\n",
       "      <td>VIJAYAPURA</td>\n",
       "      <td>153225.134630</td>\n",
       "      <td>0.198559</td>\n",
       "      <td>0.801441</td>\n",
       "      <td>-32.299224</td>\n",
       "    </tr>\n",
       "    <tr>\n",
       "      <th>325</th>\n",
       "      <td>0.0</td>\n",
       "      <td>0.1</td>\n",
       "      <td>0.0</td>\n",
       "      <td>75578.052000</td>\n",
       "      <td>44300.0</td>\n",
       "      <td>22940.521250</td>\n",
       "      <td>-7629.70252</td>\n",
       "      <td>0.578355</td>\n",
       "      <td>1.778552</td>\n",
       "      <td>5.834829</td>\n",
       "      <td>75578.052000</td>\n",
       "      <td>44539.483304</td>\n",
       "      <td>22940.521250</td>\n",
       "      <td>BAGALKOT</td>\n",
       "      <td>249151.036420</td>\n",
       "      <td>0.218798</td>\n",
       "      <td>0.781202</td>\n",
       "      <td>-1.012306</td>\n",
       "    </tr>\n",
       "    <tr>\n",
       "      <th>326</th>\n",
       "      <td>0.0</td>\n",
       "      <td>0.1</td>\n",
       "      <td>0.0</td>\n",
       "      <td>33424.645600</td>\n",
       "      <td>30900.0</td>\n",
       "      <td>6447.725408</td>\n",
       "      <td>-7629.70252</td>\n",
       "      <td>0.578355</td>\n",
       "      <td>1.778552</td>\n",
       "      <td>5.834829</td>\n",
       "      <td>33424.645600</td>\n",
       "      <td>31139.483304</td>\n",
       "      <td>6447.725408</td>\n",
       "      <td>DHARAWAD</td>\n",
       "      <td>104706.168474</td>\n",
       "      <td>0.124049</td>\n",
       "      <td>0.875951</td>\n",
       "      <td>15.526368</td>\n",
       "    </tr>\n",
       "    <tr>\n",
       "      <th>327</th>\n",
       "      <td>0.0</td>\n",
       "      <td>0.1</td>\n",
       "      <td>0.0</td>\n",
       "      <td>34261.981770</td>\n",
       "      <td>34163.0</td>\n",
       "      <td>5591.244159</td>\n",
       "      <td>-7629.70252</td>\n",
       "      <td>0.578355</td>\n",
       "      <td>1.778552</td>\n",
       "      <td>5.834829</td>\n",
       "      <td>34261.981770</td>\n",
       "      <td>34402.483304</td>\n",
       "      <td>5591.244159</td>\n",
       "      <td>GADAG</td>\n",
       "      <td>105996.439244</td>\n",
       "      <td>0.035827</td>\n",
       "      <td>0.964173</td>\n",
       "      <td>-23.455011</td>\n",
       "    </tr>\n",
       "    <tr>\n",
       "      <th>328</th>\n",
       "      <td>0.0</td>\n",
       "      <td>0.1</td>\n",
       "      <td>0.0</td>\n",
       "      <td>95150.640270</td>\n",
       "      <td>170696.0</td>\n",
       "      <td>21731.170720</td>\n",
       "      <td>-7629.70252</td>\n",
       "      <td>0.578355</td>\n",
       "      <td>1.778552</td>\n",
       "      <td>5.834829</td>\n",
       "      <td>95150.640270</td>\n",
       "      <td>170935.483304</td>\n",
       "      <td>21731.170720</td>\n",
       "      <td>HAVERI</td>\n",
       "      <td>478216.450496</td>\n",
       "      <td>0.770302</td>\n",
       "      <td>0.229698</td>\n",
       "      <td>15.654531</td>\n",
       "    </tr>\n",
       "    <tr>\n",
       "      <th>329</th>\n",
       "      <td>0.0</td>\n",
       "      <td>0.1</td>\n",
       "      <td>0.0</td>\n",
       "      <td>22563.771080</td>\n",
       "      <td>4576.0</td>\n",
       "      <td>1025.616827</td>\n",
       "      <td>-7629.70252</td>\n",
       "      <td>0.578355</td>\n",
       "      <td>1.778552</td>\n",
       "      <td>5.834829</td>\n",
       "      <td>22563.771080</td>\n",
       "      <td>4815.483304</td>\n",
       "      <td>1025.616827</td>\n",
       "      <td>UTTARA KANNADA</td>\n",
       "      <td>19969.047001</td>\n",
       "      <td>0.361430</td>\n",
       "      <td>0.638570</td>\n",
       "      <td>-17.099606</td>\n",
       "    </tr>\n",
       "  </tbody>\n",
       "</table>\n",
       "</div>"
      ],
      "text/plain": [
       "     Sensitivity_LivestockCensus_2012_Cattle  \\\n",
       "300                                      0.0   \n",
       "301                                      0.0   \n",
       "302                                      0.0   \n",
       "303                                      0.0   \n",
       "304                                      0.0   \n",
       "305                                      0.0   \n",
       "306                                      0.0   \n",
       "307                                      0.0   \n",
       "308                                      0.0   \n",
       "309                                      0.0   \n",
       "310                                      0.0   \n",
       "311                                      0.0   \n",
       "312                                      0.0   \n",
       "313                                      0.0   \n",
       "314                                      0.0   \n",
       "315                                      0.0   \n",
       "316                                      0.0   \n",
       "317                                      0.0   \n",
       "318                                      0.0   \n",
       "319                                      0.0   \n",
       "320                                      0.0   \n",
       "321                                      0.0   \n",
       "322                                      0.0   \n",
       "323                                      0.0   \n",
       "324                                      0.0   \n",
       "325                                      0.0   \n",
       "326                                      0.0   \n",
       "327                                      0.0   \n",
       "328                                      0.0   \n",
       "329                                      0.0   \n",
       "\n",
       "     Sensitivity_AreaUnderCereals_Maize  Sensitivity_TotalNPK  \\\n",
       "300                                 0.0                   1.0   \n",
       "301                                 0.0                   1.0   \n",
       "302                                 0.0                   1.0   \n",
       "303                                 0.0                   1.0   \n",
       "304                                 0.0                   1.0   \n",
       "305                                 0.0                   1.0   \n",
       "306                                 0.0                   1.0   \n",
       "307                                 0.0                   1.0   \n",
       "308                                 0.1                   0.0   \n",
       "309                                 0.1                   0.0   \n",
       "310                                 0.1                   0.0   \n",
       "311                                 0.1                   0.0   \n",
       "312                                 0.1                   0.0   \n",
       "313                                 0.1                   0.0   \n",
       "314                                 0.1                   0.0   \n",
       "315                                 0.1                   0.0   \n",
       "316                                 0.1                   0.0   \n",
       "317                                 0.1                   0.0   \n",
       "318                                 0.1                   0.0   \n",
       "319                                 0.1                   0.0   \n",
       "320                                 0.1                   0.0   \n",
       "321                                 0.1                   0.0   \n",
       "322                                 0.1                   0.0   \n",
       "323                                 0.1                   0.0   \n",
       "324                                 0.1                   0.0   \n",
       "325                                 0.1                   0.0   \n",
       "326                                 0.1                   0.0   \n",
       "327                                 0.1                   0.0   \n",
       "328                                 0.1                   0.0   \n",
       "329                                 0.1                   0.0   \n",
       "\n",
       "     LivestockCensus_2012_Cattle  AreaUnderCereals_Maize      TotalNPK  \\\n",
       "300                 95150.640270                170696.0  21731.170720   \n",
       "301                 22563.771080                  4576.0   1025.616827   \n",
       "302                 23446.847900                 49869.5   8404.154608   \n",
       "303                  2371.831678                  1382.0    249.381182   \n",
       "304                  6221.617910                  2634.0    710.101614   \n",
       "305                  1253.317144                   961.0    368.617469   \n",
       "306                 38936.400170                 48210.0  10997.550400   \n",
       "307                 23446.847900                 49869.5   8404.154608   \n",
       "308                  2567.461578                  1129.0    438.180210   \n",
       "309                 25037.139270                 14867.0   3036.080250   \n",
       "310                  7729.614277                  1987.0    222.225258   \n",
       "311                 83821.593090                 92194.0  10902.406570   \n",
       "312                 85657.632090                173400.0  25702.835480   \n",
       "313                  2278.829821                   640.0    220.782906   \n",
       "314                 71206.945310                 59377.0   8196.896749   \n",
       "315                104722.000400                 43827.0  10428.246260   \n",
       "316                 37944.093760                 24207.0   2746.313635   \n",
       "317                 40572.445630                 25831.0   8156.290370   \n",
       "318                151008.140300                 79058.0  17039.273890   \n",
       "319                  7599.582730                  3448.0   3519.022414   \n",
       "320                  8774.134623                  4892.0   1448.830355   \n",
       "321                 61547.727440                 37283.0   6945.331415   \n",
       "322                 80396.926680                 38569.0   7289.684770   \n",
       "323                159047.086200                131163.0  48288.815130   \n",
       "324                 48619.507080                 40207.0  10420.071650   \n",
       "325                 75578.052000                 44300.0  22940.521250   \n",
       "326                 33424.645600                 30900.0   6447.725408   \n",
       "327                 34261.981770                 34163.0   5591.244159   \n",
       "328                 95150.640270                170696.0  21731.170720   \n",
       "329                 22563.771080                  4576.0   1025.616827   \n",
       "\n",
       "         Beta_0    Beta_1    Beta_2    Beta_3         New_F1         New_F2  \\\n",
       "300 -7629.70252  0.578355  1.778552  5.834829   95150.640270  170696.000000   \n",
       "301 -7629.70252  0.578355  1.778552  5.834829   22563.771080    4576.000000   \n",
       "302 -7629.70252  0.578355  1.778552  5.834829   23446.847900   49869.500000   \n",
       "303 -7629.70252  0.578355  1.778552  5.834829    2371.831678    1382.000000   \n",
       "304 -7629.70252  0.578355  1.778552  5.834829    6221.617910    2634.000000   \n",
       "305 -7629.70252  0.578355  1.778552  5.834829    1253.317144     961.000000   \n",
       "306 -7629.70252  0.578355  1.778552  5.834829   38936.400170   48210.000000   \n",
       "307 -7629.70252  0.578355  1.778552  5.834829   23446.847900   49869.500000   \n",
       "308 -7629.70252  0.578355  1.778552  5.834829    2567.461578    1368.483304   \n",
       "309 -7629.70252  0.578355  1.778552  5.834829   25037.139270   15106.483304   \n",
       "310 -7629.70252  0.578355  1.778552  5.834829    7729.614277    2226.483304   \n",
       "311 -7629.70252  0.578355  1.778552  5.834829   83821.593090   92433.483304   \n",
       "312 -7629.70252  0.578355  1.778552  5.834829   85657.632090  173639.483304   \n",
       "313 -7629.70252  0.578355  1.778552  5.834829    2278.829821     879.483304   \n",
       "314 -7629.70252  0.578355  1.778552  5.834829   71206.945310   59616.483304   \n",
       "315 -7629.70252  0.578355  1.778552  5.834829  104722.000400   44066.483304   \n",
       "316 -7629.70252  0.578355  1.778552  5.834829   37944.093760   24446.483304   \n",
       "317 -7629.70252  0.578355  1.778552  5.834829   40572.445630   26070.483304   \n",
       "318 -7629.70252  0.578355  1.778552  5.834829  151008.140300   79297.483304   \n",
       "319 -7629.70252  0.578355  1.778552  5.834829    7599.582730    3687.483304   \n",
       "320 -7629.70252  0.578355  1.778552  5.834829    8774.134623    5131.483304   \n",
       "321 -7629.70252  0.578355  1.778552  5.834829   61547.727440   37522.483304   \n",
       "322 -7629.70252  0.578355  1.778552  5.834829   80396.926680   38808.483304   \n",
       "323 -7629.70252  0.578355  1.778552  5.834829  159047.086200  131402.483304   \n",
       "324 -7629.70252  0.578355  1.778552  5.834829   48619.507080   40446.483304   \n",
       "325 -7629.70252  0.578355  1.778552  5.834829   75578.052000   44539.483304   \n",
       "326 -7629.70252  0.578355  1.778552  5.834829   33424.645600   31139.483304   \n",
       "327 -7629.70252  0.578355  1.778552  5.834829   34261.981770   34402.483304   \n",
       "328 -7629.70252  0.578355  1.778552  5.834829   95150.640270  170935.483304   \n",
       "329 -7629.70252  0.578355  1.778552  5.834829   22563.771080    4815.483304   \n",
       "\n",
       "           New_F3         District  New_Production  Stress_Values  \\\n",
       "300  22461.155269           HAVERI   482049.852287       0.771725   \n",
       "301   1755.601376   UTTARA KANNADA    23802.448791       0.362642   \n",
       "302   9134.139157          BALLARI   147922.538956       0.112463   \n",
       "303    979.365731            BIDAR     1914.448383       0.450799   \n",
       "304   1440.086163       KALABURAGI     9055.962581       0.468846   \n",
       "305   1098.602018          YADGIRI     1214.503244       0.344703   \n",
       "306  11727.534949           KOPPAL   169061.508722       0.170481   \n",
       "307   9134.139157     VIJAYANAGARA   147922.538956       0.018131   \n",
       "308    438.180210        BENGALURU        0.000000       0.052633   \n",
       "309   3036.080250     BENGALURU(R)    51433.321766       0.000000   \n",
       "310    222.225258       RAMANAGARA     2097.319008       0.169963   \n",
       "311  10902.406570      CHITRADURGA   268860.355086       0.196330   \n",
       "312  25702.835480       DAVANAGERE   500709.316148       0.732723   \n",
       "313    220.782906            KOLAR        0.000000       0.243635   \n",
       "314   8196.896749  CHIKKABALLAPURA   187411.682298       0.297723   \n",
       "315  10428.246260       SHIVAMOGGA   192158.329658       0.072635   \n",
       "316   2746.313635         TUMAKURU    73819.056942       0.076474   \n",
       "317   8156.290370   CHIKKAMAGALURU   109793.836556       0.181817   \n",
       "318  17039.273890           HASSAN   320162.522131       0.511129   \n",
       "319   3519.022414           KODAGU    23856.828314       0.268886   \n",
       "320   1448.830355           MANDYA    15025.147569       0.443782   \n",
       "321   6945.331415           MYSURU   135227.228364       0.361174   \n",
       "322   7289.684770   CHAMARAJANAGAR   150425.211845       0.035331   \n",
       "323  48288.815130         BELAGAVI   599819.083541       1.000000   \n",
       "324  10420.071650       VIJAYAPURA   153225.134630       0.198559   \n",
       "325  22940.521250         BAGALKOT   249151.036420       0.218798   \n",
       "326   6447.725408         DHARAWAD   104706.168474       0.124049   \n",
       "327   5591.244159            GADAG   105996.439244       0.035827   \n",
       "328  21731.170720           HAVERI   478216.450496       0.770302   \n",
       "329   1025.616827   UTTARA KANNADA    19969.047001       0.361430   \n",
       "\n",
       "     Stability_Values  Percentage Change  \n",
       "300          0.228275          16.581622  \n",
       "301          0.637358          -1.185450  \n",
       "302          0.887537          42.171694  \n",
       "303          0.549201         -31.406364  \n",
       "304          0.531154         -38.061948  \n",
       "305          0.655297         -54.564039  \n",
       "306          0.829519         -11.138117  \n",
       "307          0.981869          42.171694  \n",
       "308          0.947367        -100.000000  \n",
       "309          1.000000          20.783697  \n",
       "310          0.830037         -79.929962  \n",
       "311          0.803670          -1.145195  \n",
       "312          0.267277         -15.640742  \n",
       "313          0.756365        -100.000000  \n",
       "314          0.702277          77.656561  \n",
       "315          0.927365         -15.173870  \n",
       "316          0.923526          10.395192  \n",
       "317          0.818183          78.954308  \n",
       "318          0.488871          -4.124873  \n",
       "319          0.731114          33.122194  \n",
       "320          0.556218         -22.498852  \n",
       "321          0.638826          -1.404824  \n",
       "322          0.964669           1.717006  \n",
       "323          0.000000           3.998399  \n",
       "324          0.801441         -32.299224  \n",
       "325          0.781202          -1.012306  \n",
       "326          0.875951          15.526368  \n",
       "327          0.964173         -23.455011  \n",
       "328          0.229698          15.654531  \n",
       "329          0.638570         -17.099606  "
      ]
     },
     "execution_count": 59,
     "metadata": {},
     "output_type": "execute_result"
    }
   ],
   "source": [
    "result_df[300:330]"
   ]
  }
 ],
 "metadata": {
  "kernelspec": {
   "display_name": "Python 3",
   "language": "python",
   "name": "python3"
  },
  "language_info": {
   "codemirror_mode": {
    "name": "ipython",
    "version": 3
   },
   "file_extension": ".py",
   "mimetype": "text/x-python",
   "name": "python",
   "nbconvert_exporter": "python",
   "pygments_lexer": "ipython3",
   "version": "3.9.13"
  }
 },
 "nbformat": 4,
 "nbformat_minor": 2
}
